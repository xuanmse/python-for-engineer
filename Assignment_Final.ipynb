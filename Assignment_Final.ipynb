{
  "nbformat": 4,
  "nbformat_minor": 0,
  "metadata": {
    "colab": {
      "provenance": [],
      "collapsed_sections": [],
      "toc_visible": true,
      "authorship_tag": "ABX9TyPKQ9YznDZxCEOVAN9OTlUa",
      "include_colab_link": true
    },
    "kernelspec": {
      "name": "python3",
      "display_name": "Python 3"
    },
    "language_info": {
      "name": "python"
    },
    "accelerator": "GPU",
    "gpuClass": "standard"
  },
  "cells": [
    {
      "cell_type": "markdown",
      "metadata": {
        "id": "view-in-github",
        "colab_type": "text"
      },
      "source": [
        "<a href=\"https://colab.research.google.com/github/xuanmse/python-for-engineer/blob/master/Assignment_Final.ipynb\" target=\"_parent\"><img src=\"https://colab.research.google.com/assets/colab-badge.svg\" alt=\"Open In Colab\"/></a>"
      ]
    },
    {
      "cell_type": "markdown",
      "source": [
        "#**Yêu cầu**"
      ],
      "metadata": {
        "id": "NghyhpBLSlMK"
      }
    },
    {
      "cell_type": "markdown",
      "source": [
        "Cho tập dữ liệu về doanh số bán hàng gồm các thông tin như sau (https://drive.google.com/file/d/1QWD8rceAWo6KJYHh6Tx0eBtAM9U1EQno/view?usp=sharing(sad)\n",
        "Superstore Sales Dataset Analysis | Kaggle\n",
        "```\n",
        "- order_id\n",
        "- order_date\n",
        "- ship_date\n",
        "- ship_mode\n",
        "- customer_id\n",
        "- customer_name\n",
        "- segment\n",
        "- country\n",
        "- city\n",
        "- state\n",
        "- region\n",
        "- product_id\n",
        "- sub-category\n",
        "- product_name\n",
        "- sales\n",
        "```\n",
        "Hãy sử dụng Python và Jupyter Notebook để trả lời các câu hỏi sau:\n",
        "- YC1: Tiền xử lý dữ liệu (xử lý các trường hợp thiếu dữ liệu, chuẩn hóa ngày tháng, đơn vị,...).\n",
        "- YC2: Vẽ biểu đồ thể hiện biến động doanh số theo tháng. Cho biết doanh thu trung bình trong 3 tháng gần nhất.\n",
        "- YC3: Vẽ biểu đồ doanh số bán hàng theo quý và cho biết quý nào có tổng doanh số cao nhất?\n",
        "- YC4: Tính thời gian trung giao hàng trung bình (ship date - order date) theo từng tháng và vẽ biểu đồ mô tả sự biến thiên của con số này.\n",
        "- YC5: Vẽ biểu đồ thể hiện sức mua theo từng thành phố. Cho biết top 3 thành phố có doanh số thấp nhất và 3 thành phố có doanh số cao nhất.\n",
        "- YC6: Vẽ biểu đồ thể hiện tỉ trọng doanh số theo bang (state) và cho biết trung bình doanh số của 5 bang dẫn đầu về sức mua.\n",
        "- YC7: Cho biết các bang dẫn đầu doanh số theo từng vùng (east, west, south, central,..).\n",
        "- YC8: Cho biết top 3 sản phẩm có doanh thu cao nhất và top 3 sản phẩm có số lượng đơn vị bán ra cao nhất.\n",
        "- YC9: Vẽ biểu đồ thể hiện tỉ trọng doanh số của từng category.\n",
        "- YC10: Dự báo doanh số theo nhiều khía cạnh khác nhau trong tương lai: theo vùng, theo bang, theo category,..  và phát hành API để khai thác."
      ],
      "metadata": {
        "id": "FE4fjPLxBuvo"
      }
    },
    {
      "cell_type": "markdown",
      "source": [
        "#**Cài đặt môi trường & tải tập dữ liệu**"
      ],
      "metadata": {
        "id": "F4taWcHqC0Ck"
      }
    },
    {
      "cell_type": "markdown",
      "source": [
        "##**Cài đặt thư viện**"
      ],
      "metadata": {
        "id": "ymphzfh7DkIZ"
      }
    },
    {
      "cell_type": "code",
      "source": [
        "!pip install kaggle # cài đặt công cụ Kaggle\n",
        "!pip install seaborn\n",
        "!pip install plotly"
      ],
      "metadata": {
        "id": "NbkI3RDwC8pS"
      },
      "execution_count": null,
      "outputs": []
    },
    {
      "cell_type": "markdown",
      "source": [
        "##**Cài đặt xác thực**"
      ],
      "metadata": {
        "id": "DNhn7ujZDpO1"
      }
    },
    {
      "cell_type": "code",
      "source": [
        "# Tải thông tin tài khoảng để xác thực trên kaggle và lưu vào máy ảo colab\n",
        "! yes | mkdir /root/.kaggle\n",
        "! yes | wget https://raw.githubusercontent.com/xuanmse/python-for-engineer/master/Asessment1/kaggle.json -P /root/.kaggle/\n",
        "! chmod 600 /root/.kaggle/kaggle.json"
      ],
      "metadata": {
        "id": "d7HceY--DG6C"
      },
      "execution_count": null,
      "outputs": []
    },
    {
      "cell_type": "markdown",
      "source": [
        "##**Giải nén**"
      ],
      "metadata": {
        "id": "CA-jvE6kDeie"
      }
    },
    {
      "cell_type": "code",
      "source": [
        "!kaggle datasets download -d rohitsahoo/sales-forecasting -p /kaggle/input/\n",
        "# !yes | kaggle competitions download -c m5-forecasting-accuracy -p /kaggle/input/\n",
        "!yes | unzip /kaggle/input/sales-forecasting.zip -d /kaggle/input/sales-forecasting\n",
        "!yes | rm /kaggle/input/sales-forecasting.zip"
      ],
      "metadata": {
        "id": "I_wnTk1GD7HZ"
      },
      "execution_count": null,
      "outputs": []
    },
    {
      "cell_type": "markdown",
      "source": [
        "##**Nhập thư viện và kiểm tra dữ liệu**"
      ],
      "metadata": {
        "id": "Gf6UiZw6HC2k"
      }
    },
    {
      "cell_type": "code",
      "source": [
        "import numpy as np\n",
        "import pandas as pd\n",
        "import plotly.express as px\n",
        "from sklearn.model_selection import train_test_split\n"
      ],
      "metadata": {
        "id": "4mlOgHZTH9Gq"
      },
      "execution_count": null,
      "outputs": []
    },
    {
      "cell_type": "markdown",
      "source": [
        "##**Tải tập dữ liệu lên ô nhớ**"
      ],
      "metadata": {
        "id": "bwVspb2fQRSJ"
      }
    },
    {
      "cell_type": "code",
      "source": [
        "# Reading dataset's ...\n",
        "train = pd.read_csv('/kaggle/input/sales-forecasting/train.csv')"
      ],
      "metadata": {
        "id": "tBBzekL3QbiX"
      },
      "execution_count": null,
      "outputs": []
    },
    {
      "cell_type": "markdown",
      "source": [
        "##**Kiểm tra dữ liệu đã tải lên**"
      ],
      "metadata": {
        "id": "XEUrVTmfQa1E"
      }
    },
    {
      "cell_type": "code",
      "source": [
        "train.info()"
      ],
      "metadata": {
        "id": "cI7aaBEHQpEH"
      },
      "execution_count": null,
      "outputs": []
    },
    {
      "cell_type": "markdown",
      "source": [
        "#**YC1: Tiền xử lý dữ liệu**"
      ],
      "metadata": {
        "id": "eQfsi7F0RVmr"
      }
    },
    {
      "cell_type": "markdown",
      "source": [
        "##**Kiểm tra dữ liệu rổng**"
      ],
      "metadata": {
        "id": "bbtI9QgfRcUm"
      }
    },
    {
      "cell_type": "code",
      "source": [
        "train.isnull().sum().sort_values(ascending = False)"
      ],
      "metadata": {
        "id": "vdQKpnw3Rhi_"
      },
      "execution_count": null,
      "outputs": []
    },
    {
      "cell_type": "markdown",
      "source": [
        "Thiếu dữ liệu về postal code, sử dụng thông tin thành phố để điền cập nhật lại"
      ],
      "metadata": {
        "id": "elcZM5IoR9J8"
      }
    },
    {
      "cell_type": "markdown",
      "source": [
        "##**Cập nhật dữ liệu post code**"
      ],
      "metadata": {
        "id": "JMx4TB9ASyOP"
      }
    },
    {
      "cell_type": "code",
      "source": [
        "train[train['Postal Code'].isnull()==True]['City'].unique()"
      ],
      "metadata": {
        "id": "pOnEHxqpRldR"
      },
      "execution_count": null,
      "outputs": []
    },
    {
      "cell_type": "code",
      "source": [
        "train[train['City']=='Burlington']['Postal Code'].value_counts()\n",
        "train['Postal Code'] = train['Postal Code'].fillna(27217)\n",
        "train['Postal Code'] = train['Postal Code'].apply(int)\n",
        "train.isnull().sum().sort_values(ascending = False)"
      ],
      "metadata": {
        "id": "-ZlWzlQoSIZa"
      },
      "execution_count": null,
      "outputs": []
    },
    {
      "cell_type": "code",
      "source": [
        "train"
      ],
      "metadata": {
        "id": "xWL_VL13SeZM"
      },
      "execution_count": null,
      "outputs": []
    },
    {
      "cell_type": "markdown",
      "source": [
        "##**Cập nhật tên cột**\n"
      ],
      "metadata": {
        "id": "XoeoZmLuVZ4v"
      }
    },
    {
      "cell_type": "code",
      "source": [
        "train.rename(columns={'Row ID':'Row_ID',\n",
        "                   'Order ID': 'Order_ID',\n",
        "                   'Order Date':'Order_Date',\n",
        "                   'Ship Date':'Ship_Date',\n",
        "                   'Customer ID':'Custmoer_ID',\n",
        "                   'Customer Name':'Customer_Name',\n",
        "                   'Postal Code':'Postal_Code',\n",
        "                   'Product ID':'Product_ID',\n",
        "                   'Sub-Category':'Sub_Category',\n",
        "                   'Product Name':'Product_Name'},inplace=True)\n",
        "train.info()"
      ],
      "metadata": {
        "id": "YJn-Dg-4VXwy"
      },
      "execution_count": null,
      "outputs": []
    },
    {
      "cell_type": "markdown",
      "source": [
        "##**Cập nhận dữ liệu ngày tháng**"
      ],
      "metadata": {
        "id": "DPwTohi-hduS"
      }
    },
    {
      "cell_type": "code",
      "source": [
        "train['Order_Date'] = pd.to_datetime(train['Order_Date'], dayfirst=True)\n",
        "train['Ship_Date'] = pd.to_datetime(train['Ship_Date'],dayfirst=True)\n",
        "train"
      ],
      "metadata": {
        "id": "LiftT7N4hh3n"
      },
      "execution_count": null,
      "outputs": []
    },
    {
      "cell_type": "markdown",
      "source": [
        "#**YC2: Vẽ biểu đồ thể hiện biến động doanh số theo tháng. Cho biết doanh thu trung bình trong 3 tháng gần nhất.**"
      ],
      "metadata": {
        "id": "GgL3rpsFUD-x"
      }
    },
    {
      "cell_type": "markdown",
      "source": [
        "Tính toán dữ liệu"
      ],
      "metadata": {
        "id": "7IPrTDyMdqTk"
      }
    },
    {
      "cell_type": "code",
      "source": [
        "g = train\n",
        "per = train.Order_Date.dt.to_period(\"M\")\n",
        "g = g.groupby(per)[\"Sales\"].sum()\n",
        "g"
      ],
      "metadata": {
        "id": "czZtwD1RUMYE"
      },
      "execution_count": null,
      "outputs": []
    },
    {
      "cell_type": "code",
      "source": [
        "fig = px.bar(g, x=g.index.strftime('%b-%Y'),y = \"Sales\")\n",
        "fig.show()"
      ],
      "metadata": {
        "id": "wZsHcfcmdvv-"
      },
      "execution_count": null,
      "outputs": []
    },
    {
      "cell_type": "code",
      "source": [
        "fig = px.line(g, x=g.index.strftime('%b-%Y'),y = \"Sales\")\n",
        "fig.show()"
      ],
      "metadata": {
        "id": "_zGwiOAze6RR"
      },
      "execution_count": null,
      "outputs": []
    },
    {
      "cell_type": "markdown",
      "source": [
        "Doanh thu trung bình trong 3 tháng gần nhất."
      ],
      "metadata": {
        "id": "x2sA9i6decol"
      }
    },
    {
      "cell_type": "code",
      "source": [
        "g = train.groupby(per)[\"Sales\"].mean()\n",
        "g[-3:]"
      ],
      "metadata": {
        "id": "2bWYrcrveQ4h"
      },
      "execution_count": null,
      "outputs": []
    },
    {
      "cell_type": "markdown",
      "source": [
        "#**YC3: Vẽ biểu đồ doanh số bán hàng theo quý và cho biết quý nào có tổng doanh số cao nhất?**"
      ],
      "metadata": {
        "id": "jvnJa7Kxctbz"
      }
    },
    {
      "cell_type": "code",
      "source": [
        "per = train.Order_Date.dt.to_period(\"Q\")\n",
        "g = train\n",
        "g = g.groupby(per)[\"Sales\"].sum()\n",
        "g"
      ],
      "metadata": {
        "id": "FrVW4PRbc5dT"
      },
      "execution_count": null,
      "outputs": []
    },
    {
      "cell_type": "code",
      "source": [
        "fig = px.bar(g, x=g.index.strftime('%q-%Y'),y = \"Sales\")\n",
        "fig.show()"
      ],
      "metadata": {
        "id": "CHHLqfu_elrg"
      },
      "execution_count": null,
      "outputs": []
    },
    {
      "cell_type": "markdown",
      "source": [
        "Quý có doanh thu cao nhất:"
      ],
      "metadata": {
        "id": "oK6dHinLgBSN"
      }
    },
    {
      "cell_type": "code",
      "source": [
        "# Quý có doanh số cao nhất\n",
        "F  = g.sort_values(ascending=False)\n",
        "print(F.index[0], F.values[0])\n",
        "# fig = px.bar(g, x=g.index.to_timestamp(),y = \"Row_ID\")\n",
        "# fig.show()"
      ],
      "metadata": {
        "id": "3iYcT_HvfIBQ"
      },
      "execution_count": null,
      "outputs": []
    },
    {
      "cell_type": "markdown",
      "source": [
        "#**YC4: Tính thời gian trung giao hàng trung bình (ship date - order date) theo từng tháng và vẽ biểu đồ mô tả sự biến thiên của con số này.**\n"
      ],
      "metadata": {
        "id": "siPdKMz6gJzo"
      }
    },
    {
      "cell_type": "code",
      "source": [
        "X = train \n",
        "X[\"Deliver_time\"] = X[\"Ship_Date\"] - X[\"Order_Date\"] \n",
        "\n",
        "per = X.Order_Date.dt.to_period(\"M\")\n",
        "g = X.groupby(per)[\"Deliver_time\"].mean()/ np.timedelta64(1, 'D') # thời gian theo giờ\n",
        "g\n"
      ],
      "metadata": {
        "id": "HIBiwK40goGl"
      },
      "execution_count": null,
      "outputs": []
    },
    {
      "cell_type": "code",
      "source": [
        "fig = px.bar(g, x=g.index.strftime('%b-%Y'),y = \"Deliver_time\")\n",
        "fig.show()"
      ],
      "metadata": {
        "id": "XS-dUmHFjjDr"
      },
      "execution_count": null,
      "outputs": []
    },
    {
      "cell_type": "markdown",
      "source": [
        "#**YC5: Vẽ biểu đồ thể hiện sức mua theo từng thành phố. Cho biết top 3 thành phố có doanh số thấp nhất và 3 thành phố có doanh số cao nhất.**"
      ],
      "metadata": {
        "id": "5OiEJvQ1N3mY"
      }
    },
    {
      "cell_type": "code",
      "source": [
        "g = train\n",
        "g = g.groupby([\"City\"])[\"Sales\"].sum()\n",
        "g"
      ],
      "metadata": {
        "id": "UChJwMQ1RrZ8"
      },
      "execution_count": null,
      "outputs": []
    },
    {
      "cell_type": "code",
      "source": [
        "fig = px.bar(g)\n",
        "fig.show()"
      ],
      "metadata": {
        "id": "LoKAToTwRity"
      },
      "execution_count": null,
      "outputs": []
    },
    {
      "cell_type": "code",
      "source": [
        "g  = g.sort_values(ascending=False)\n",
        "print(g.head(3))"
      ],
      "metadata": {
        "id": "2GUSTzR7WbAS"
      },
      "execution_count": null,
      "outputs": []
    },
    {
      "cell_type": "code",
      "source": [
        "print(g.tail(3))"
      ],
      "metadata": {
        "id": "osEjJsP-Wnae"
      },
      "execution_count": null,
      "outputs": []
    },
    {
      "cell_type": "markdown",
      "source": [
        "#**YC6: Vẽ biểu đồ thể hiện tỉ trọng doanh số theo bang (state) và cho biết trung bình doanh số của 5 bang dẫn đầu về sức mua.**"
      ],
      "metadata": {
        "id": "rcmGMbbdOARQ"
      }
    },
    {
      "cell_type": "code",
      "source": [
        "g = train\n",
        "fig = px.pie(g, values='Sales', names='State')\n",
        "fig.show()"
      ],
      "metadata": {
        "id": "eYGYgYtTXQ2_"
      },
      "execution_count": null,
      "outputs": []
    },
    {
      "cell_type": "code",
      "source": [
        "g = g.groupby([\"State\"])[\"Sales\"].sum().sort_values(ascending=False)"
      ],
      "metadata": {
        "id": "joTgx6zVXxhj"
      },
      "execution_count": null,
      "outputs": []
    },
    {
      "cell_type": "code",
      "source": [
        "g.head(5).mean()"
      ],
      "metadata": {
        "id": "cd9stcCPX7Tx"
      },
      "execution_count": null,
      "outputs": []
    },
    {
      "cell_type": "markdown",
      "source": [
        "#**YC7: Cho biết các bang dẫn đầu doanh số theo từng vùng (east, west, south, central,..).**"
      ],
      "metadata": {
        "id": "QbE-b7lcN6WD"
      }
    },
    {
      "cell_type": "code",
      "source": [
        "g = train\n",
        "g.groupby([\"Region\",\"State\"])[\"Sales\"].sum().sort_values().groupby(level=0).tail(1)"
      ],
      "metadata": {
        "id": "rCmp7qhJYN6z"
      },
      "execution_count": null,
      "outputs": []
    },
    {
      "cell_type": "markdown",
      "source": [
        "#**YC8: Cho biết top 3 sản phẩm có doanh thu cao nhất và top 3 sản phẩm có số lượng đơn vị bán ra cao nhất.**"
      ],
      "metadata": {
        "id": "IHC4B-f3N1Lm"
      }
    },
    {
      "cell_type": "markdown",
      "source": [
        "Top3 sản phẩm có doanh thu cao nhất"
      ],
      "metadata": {
        "id": "hTTJj1q-hbJG"
      }
    },
    {
      "cell_type": "code",
      "source": [
        "g = train\n",
        "g.groupby(\"Product_ID\")[\"Sales\"].sum().sort_values(ascending=False).head(3)"
      ],
      "metadata": {
        "id": "e5lsiF2nZmhU"
      },
      "execution_count": null,
      "outputs": []
    },
    {
      "cell_type": "markdown",
      "source": [
        "Top 3 sản phẩm có đơn vị bán ra cao nhất"
      ],
      "metadata": {
        "id": "Y-G3iLB8he9j"
      }
    },
    {
      "cell_type": "code",
      "source": [
        "g = train\n",
        "g.groupby(\"Product_ID\")[\"Row_ID\"].sum().sort_values(ascending=False).head(3)"
      ],
      "metadata": {
        "id": "RrBnR0q2cq9M"
      },
      "execution_count": null,
      "outputs": []
    },
    {
      "cell_type": "markdown",
      "source": [
        "#**YC9: Vẽ biểu đồ thể hiện tỉ trọng doanh số của từng category.**"
      ],
      "metadata": {
        "id": "I_zpWEOzOYFH"
      }
    },
    {
      "cell_type": "code",
      "source": [
        "g = train\n",
        "g"
      ],
      "metadata": {
        "id": "rd76TGOWc4rc"
      },
      "execution_count": null,
      "outputs": []
    },
    {
      "cell_type": "code",
      "source": [
        "fig = px.pie(g, values='Sales', names='Category')\n",
        "fig.show()"
      ],
      "metadata": {
        "id": "3XhaZMP6dX1D"
      },
      "execution_count": null,
      "outputs": []
    },
    {
      "cell_type": "markdown",
      "source": [
        "#**YC10: Dự báo doanh số theo nhiều khía cạnh khác nhau trong tương lai: theo vùng, theo bang, theo category,.. và phát hành API để khai thác.**"
      ],
      "metadata": {
        "id": "9t7JjtBkObqS"
      }
    },
    {
      "cell_type": "markdown",
      "source": [
        "Dự báo danh số bán hàng theo bang cho các ngày tiếp theo"
      ],
      "metadata": {
        "id": "GlyH1tzVXJNz"
      }
    },
    {
      "cell_type": "code",
      "source": [
        "train"
      ],
      "metadata": {
        "id": "AWBB4aTPiytX"
      },
      "execution_count": null,
      "outputs": []
    },
    {
      "cell_type": "code",
      "source": [
        "def encode_dates(df, column):\n",
        "    df = df.copy()\n",
        "    df[column] = pd.to_datetime(df[column])\n",
        "    df[column + '_year'] = df[column].apply(lambda x: x.year)\n",
        "    df[column + '_month'] = df[column].apply(lambda x: x.month)\n",
        "    df[column + '_day'] = df[column].apply(lambda x: x.day)\n",
        "    df = df.drop(column, axis=1)\n",
        "    return df\n",
        "\n",
        "# Features\n",
        "\n",
        "target_col = 'Sales'\n",
        "\n",
        "# exclude_cols = ['Row_ID','Order_ID','Ship Mode','Custmoer_ID','Customer_Name', 'Country', 'Deliver_time',\"Order_ID\",\t\"Ship_Date\",\t\"Ship Mode\",\t\"Custmoer_ID\",\t\"Customer_Name\", \"Segment\",\"Product_Name\",\"State\",\"Postal_Code\",\"Region\", \"Product_ID\",\"Category\",\"Sub_Category\"\t]\n",
        "# feature_cols = [col for col in train.columns if col not in exclude_cols]\n",
        "\n",
        "# train_data[feature_cols]\n",
        "\n",
        "df = train.copy()\n",
        "df = encode_dates(df, column='Order_Date')\n",
        "\n",
        "df = df.groupby([\"State\",\"Order_Date_year\",\"Order_Date_month\",\"Order_Date_day\"])[\"Sales\"].sum()\n",
        "df\n",
        "# df.index[\"1\"]\n",
        "# df[\"Order_Date\"] =  df[\"Order_Date\"].strftime('%Y-%M-%D')\n",
        "\n",
        "# \n",
        "# train_data = train.groupby([])"
      ],
      "metadata": {
        "id": "N4oA-gli9NRM"
      },
      "execution_count": null,
      "outputs": []
    },
    {
      "cell_type": "code",
      "source": [
        "X = pd.get_dummies(df.index.to_frame())\n",
        "Y = df.values"
      ],
      "metadata": {
        "id": "jRQL-sSdZgZy"
      },
      "execution_count": null,
      "outputs": []
    },
    {
      "cell_type": "code",
      "source": [
        "X_train, X_test, y_train, y_test = train_test_split(X, Y, train_size=0.8, shuffle=True, random_state=1)\n",
        "X.info()"
      ],
      "metadata": {
        "id": "Mnevv1JuaIiC"
      },
      "execution_count": null,
      "outputs": []
    },
    {
      "cell_type": "code",
      "source": [
        "import tensorflow as tf\n",
        "inputs = tf.keras.Input(shape=(X_train.shape[1],))\n",
        "x = tf.keras.layers.Dense(256, activation='relu')(inputs)\n",
        "x = tf.keras.layers.Dense(256, activation='relu')(x)\n",
        "outputs = tf.keras.layers.Dense(1, activation='linear')(x)\n",
        "\n",
        "model = tf.keras.Model(inputs=inputs, outputs=outputs)\n",
        "\n",
        "print(model.summary())"
      ],
      "metadata": {
        "id": "N0MPsozRcirA"
      },
      "execution_count": null,
      "outputs": []
    },
    {
      "cell_type": "code",
      "source": [
        "model.compile(\n",
        "    optimizer='adam',\n",
        "    loss='mse'\n",
        ")\n",
        "\n",
        "history = model.fit(\n",
        "    X_train,\n",
        "    y_train,\n",
        "    validation_split=0.2,\n",
        "    batch_size=32,\n",
        "    epochs=100,\n",
        "    callbacks=[\n",
        "        tf.keras.callbacks.EarlyStopping(\n",
        "            monitor='val_loss',\n",
        "            patience=5,\n",
        "            restore_best_weights=True\n",
        "        ),\n",
        "        tf.keras.callbacks.ReduceLROnPlateau()\n",
        "    ]\n",
        ")"
      ],
      "metadata": {
        "id": "2KapwpkrjG7z"
      },
      "execution_count": null,
      "outputs": []
    },
    {
      "cell_type": "code",
      "source": [
        "test_loss = model.evaluate(X_test, y_test, verbose=0)\n",
        "\n",
        "print(\"Test Loss: {:.5f}\".format(test_loss))"
      ],
      "metadata": {
        "id": "Y1ktZYPcmlu6"
      },
      "execution_count": null,
      "outputs": []
    },
    {
      "cell_type": "code",
      "source": [
        "from sklearn.metrics import r2_score\n",
        "y_pred = np.squeeze(model.predict(X_test))\n",
        "test_r2 = r2_score(y_test, y_pred)\n",
        "\n",
        "print(\"Test R^2 Score: {:.5f}\".format(test_r2))"
      ],
      "metadata": {
        "id": "hJvtonsPmraF"
      },
      "execution_count": null,
      "outputs": []
    },
    {
      "cell_type": "code",
      "source": [
        "len(X_test.columns)"
      ],
      "metadata": {
        "id": "J2PRKXvH0nvp"
      },
      "execution_count": null,
      "outputs": []
    },
    {
      "cell_type": "code",
      "source": [
        "cus_test_state = \"Alabama\"\n",
        "cus_test_year = 2016\n",
        "cus_test_month = 4\n",
        "cus_test_day  = 7\n",
        "key_test = (\"Alabama\",2015,4,7)\n",
        "# key_input = X_test.iloc[[2]].copy()\n",
        "# key_input\n",
        "key_test =pd.MultiIndex.from_tuples([(cus_test_state,cus_test_year,cus_test_month,cus_test_day)], names=[\"State\",\"Order_Date_year\", \"Order_Date_month\", \"Order_Date_day\"])\n",
        "X_test.columns\n",
        "ff = np.zeros(52,int)\n",
        "\n",
        "data_input = pd.DataFrame([ff],index=[key_test], columns = X_test.columns)\n",
        "data_input.iloc[0] = int(0)\n",
        "data_input[\"Order_Date_year\"] = cus_test_year\n",
        "data_input[\"Order_Date_month\"] = cus_test_month\n",
        "data_input[\"Order_Date_day\"] = cus_test_day\n",
        "data_input[\"State_\" + cus_test_state] = 1\n",
        "data_input\n",
        "\n",
        "model.predict(data_input)\n",
        "# key_test_en = pd.get_dummies(key_test.to_frame())\n",
        "# X_test.iloc[[2]]\n",
        "\n",
        "# key_test_en\n",
        "# df_key = pd.DataFrame(, columns=X_test.columns)\n",
        "# model.predict(X_test.iloc[[2]])"
      ],
      "metadata": {
        "id": "jRQBsReknG7B"
      },
      "execution_count": null,
      "outputs": []
    },
    {
      "cell_type": "code",
      "source": [
        "df.index"
      ],
      "metadata": {
        "id": "36jGdln2pvmb"
      },
      "execution_count": null,
      "outputs": []
    }
  ]
}