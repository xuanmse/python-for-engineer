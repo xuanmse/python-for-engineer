{
  "nbformat": 4,
  "nbformat_minor": 0,
  "metadata": {
    "colab": {
      "provenance": [],
      "collapsed_sections": [],
      "toc_visible": true,
      "authorship_tag": "ABX9TyPRpvJVQt5OrtnZWkNewnrm",
      "include_colab_link": true
    },
    "kernelspec": {
      "name": "python3",
      "display_name": "Python 3"
    },
    "language_info": {
      "name": "python"
    },
    "accelerator": "GPU",
    "gpuClass": "standard"
  },
  "cells": [
    {
      "cell_type": "markdown",
      "metadata": {
        "id": "view-in-github",
        "colab_type": "text"
      },
      "source": [
        "<a href=\"https://colab.research.google.com/github/xuanmse/python-for-engineer/blob/master/Assignment_Final.ipynb\" target=\"_parent\"><img src=\"https://colab.research.google.com/assets/colab-badge.svg\" alt=\"Open In Colab\"/></a>"
      ]
    },
    {
      "cell_type": "markdown",
      "source": [
        "| Thông tin   |               |\n",
        "| ----------- | -----------   |\n",
        "| MSSV        | 22mse23076    |\n",
        "| Họ Và Tên   | KIEU VAN XUAN |"
      ],
      "metadata": {
        "id": "U2o7zNNAASPW"
      }
    },
    {
      "cell_type": "markdown",
      "source": [
        "#**Yêu cầu**"
      ],
      "metadata": {
        "id": "NghyhpBLSlMK"
      }
    },
    {
      "cell_type": "markdown",
      "source": [
        "Cho tập dữ liệu về doanh số bán hàng gồm các thông tin như sau (https://drive.google.com/file/d/1QWD8rceAWo6KJYHh6Tx0eBtAM9U1EQno/view?usp=sharing(sad)\n",
        "Superstore Sales Dataset Analysis | Kaggle\n",
        "```\n",
        "- order_id\n",
        "- order_date\n",
        "- ship_date\n",
        "- ship_mode\n",
        "- customer_id\n",
        "- customer_name\n",
        "- segment\n",
        "- country\n",
        "- city\n",
        "- state\n",
        "- region\n",
        "- product_id\n",
        "- sub-category\n",
        "- product_name\n",
        "- sales\n",
        "```\n",
        "Hãy sử dụng Python và Jupyter Notebook để trả lời các câu hỏi sau:\n",
        "- YC1: Tiền xử lý dữ liệu (xử lý các trường hợp thiếu dữ liệu, chuẩn hóa ngày tháng, đơn vị,...).\n",
        "- YC2: Vẽ biểu đồ thể hiện biến động doanh số theo tháng. Cho biết doanh thu trung bình trong 3 tháng gần nhất.\n",
        "- YC3: Vẽ biểu đồ doanh số bán hàng theo quý và cho biết quý nào có tổng doanh số cao nhất?\n",
        "- YC4: Tính thời gian trung giao hàng trung bình (ship date - order date) theo từng tháng và vẽ biểu đồ mô tả sự biến thiên của con số này.\n",
        "- YC5: Vẽ biểu đồ thể hiện sức mua theo từng thành phố. Cho biết top 3 thành phố có doanh số thấp nhất và 3 thành phố có doanh số cao nhất.\n",
        "- YC6: Vẽ biểu đồ thể hiện tỉ trọng doanh số theo bang (state) và cho biết trung bình doanh số của 5 bang dẫn đầu về sức mua.\n",
        "- YC7: Cho biết các bang dẫn đầu doanh số theo từng vùng (east, west, south, central,..).\n",
        "- YC8: Cho biết top 3 sản phẩm có doanh thu cao nhất và top 3 sản phẩm có số lượng đơn vị bán ra cao nhất.\n",
        "- YC9: Vẽ biểu đồ thể hiện tỉ trọng doanh số của từng category.\n",
        "- YC10: Dự báo doanh số theo nhiều khía cạnh khác nhau trong tương lai: theo vùng, theo bang, theo category,..  và phát hành API để khai thác."
      ],
      "metadata": {
        "id": "FE4fjPLxBuvo"
      }
    },
    {
      "cell_type": "markdown",
      "source": [
        "#**Cài đặt môi trường & tải tập dữ liệu**"
      ],
      "metadata": {
        "id": "F4taWcHqC0Ck"
      }
    },
    {
      "cell_type": "markdown",
      "source": [
        "##**Cài đặt thư viện**"
      ],
      "metadata": {
        "id": "ymphzfh7DkIZ"
      }
    },
    {
      "cell_type": "code",
      "source": [
        "!pip install kaggle # cài đặt công cụ Kaggle\n",
        "!pip install seaborn\n",
        "!pip install plotly"
      ],
      "metadata": {
        "colab": {
          "base_uri": "https://localhost:8080/"
        },
        "id": "NbkI3RDwC8pS",
        "outputId": "bc756bc2-04ae-411b-c858-e5d1e624f0ff"
      },
      "execution_count": null,
      "outputs": [
        {
          "output_type": "stream",
          "name": "stdout",
          "text": [
            "Looking in indexes: https://pypi.org/simple, https://us-python.pkg.dev/colab-wheels/public/simple/\n",
            "Requirement already satisfied: kaggle in /usr/local/lib/python3.7/dist-packages (1.5.12)\n",
            "Requirement already satisfied: six>=1.10 in /usr/local/lib/python3.7/dist-packages (from kaggle) (1.15.0)\n",
            "Requirement already satisfied: certifi in /usr/local/lib/python3.7/dist-packages (from kaggle) (2022.9.24)\n",
            "Requirement already satisfied: urllib3 in /usr/local/lib/python3.7/dist-packages (from kaggle) (1.24.3)\n",
            "Requirement already satisfied: requests in /usr/local/lib/python3.7/dist-packages (from kaggle) (2.23.0)\n",
            "Requirement already satisfied: python-slugify in /usr/local/lib/python3.7/dist-packages (from kaggle) (6.1.2)\n",
            "Requirement already satisfied: python-dateutil in /usr/local/lib/python3.7/dist-packages (from kaggle) (2.8.2)\n",
            "Requirement already satisfied: tqdm in /usr/local/lib/python3.7/dist-packages (from kaggle) (4.64.1)\n",
            "Requirement already satisfied: text-unidecode>=1.3 in /usr/local/lib/python3.7/dist-packages (from python-slugify->kaggle) (1.3)\n",
            "Requirement already satisfied: idna<3,>=2.5 in /usr/local/lib/python3.7/dist-packages (from requests->kaggle) (2.10)\n",
            "Requirement already satisfied: chardet<4,>=3.0.2 in /usr/local/lib/python3.7/dist-packages (from requests->kaggle) (3.0.4)\n",
            "Looking in indexes: https://pypi.org/simple, https://us-python.pkg.dev/colab-wheels/public/simple/\n",
            "Requirement already satisfied: seaborn in /usr/local/lib/python3.7/dist-packages (0.11.2)\n",
            "Requirement already satisfied: pandas>=0.23 in /usr/local/lib/python3.7/dist-packages (from seaborn) (1.3.5)\n",
            "Requirement already satisfied: scipy>=1.0 in /usr/local/lib/python3.7/dist-packages (from seaborn) (1.7.3)\n",
            "Requirement already satisfied: matplotlib>=2.2 in /usr/local/lib/python3.7/dist-packages (from seaborn) (3.2.2)\n",
            "Requirement already satisfied: numpy>=1.15 in /usr/local/lib/python3.7/dist-packages (from seaborn) (1.21.6)\n",
            "Requirement already satisfied: cycler>=0.10 in /usr/local/lib/python3.7/dist-packages (from matplotlib>=2.2->seaborn) (0.11.0)\n",
            "Requirement already satisfied: pyparsing!=2.0.4,!=2.1.2,!=2.1.6,>=2.0.1 in /usr/local/lib/python3.7/dist-packages (from matplotlib>=2.2->seaborn) (3.0.9)\n",
            "Requirement already satisfied: kiwisolver>=1.0.1 in /usr/local/lib/python3.7/dist-packages (from matplotlib>=2.2->seaborn) (1.4.4)\n",
            "Requirement already satisfied: python-dateutil>=2.1 in /usr/local/lib/python3.7/dist-packages (from matplotlib>=2.2->seaborn) (2.8.2)\n",
            "Requirement already satisfied: typing-extensions in /usr/local/lib/python3.7/dist-packages (from kiwisolver>=1.0.1->matplotlib>=2.2->seaborn) (4.1.1)\n",
            "Requirement already satisfied: pytz>=2017.3 in /usr/local/lib/python3.7/dist-packages (from pandas>=0.23->seaborn) (2022.5)\n",
            "Requirement already satisfied: six>=1.5 in /usr/local/lib/python3.7/dist-packages (from python-dateutil>=2.1->matplotlib>=2.2->seaborn) (1.15.0)\n",
            "Looking in indexes: https://pypi.org/simple, https://us-python.pkg.dev/colab-wheels/public/simple/\n",
            "Requirement already satisfied: plotly in /usr/local/lib/python3.7/dist-packages (5.5.0)\n",
            "Requirement already satisfied: six in /usr/local/lib/python3.7/dist-packages (from plotly) (1.15.0)\n",
            "Requirement already satisfied: tenacity>=6.2.0 in /usr/local/lib/python3.7/dist-packages (from plotly) (8.1.0)\n"
          ]
        }
      ]
    },
    {
      "cell_type": "markdown",
      "source": [
        "##**Cài đặt xác thực**"
      ],
      "metadata": {
        "id": "DNhn7ujZDpO1"
      }
    },
    {
      "cell_type": "code",
      "source": [
        "# Tải thông tin tài khoảng để xác thực trên kaggle và lưu vào máy ảo colab\n",
        "! yes | mkdir /root/.kaggle\n",
        "! yes | wget https://raw.githubusercontent.com/xuanmse/python-for-engineer/master/kaggle.json -P /root/.kaggle/\n",
        "! chmod 600 /root/.kaggle/kaggle.json"
      ],
      "metadata": {
        "colab": {
          "base_uri": "https://localhost:8080/"
        },
        "id": "d7HceY--DG6C",
        "outputId": "a0a8047c-98ae-47b1-87b2-3a82b0728019"
      },
      "execution_count": null,
      "outputs": [
        {
          "output_type": "stream",
          "name": "stdout",
          "text": [
            "mkdir: cannot create directory ‘/root/.kaggle’: File exists\n",
            "--2022-11-01 16:37:39--  https://raw.githubusercontent.com/xuanmse/python-for-engineer/master/kaggle.json\n",
            "Resolving raw.githubusercontent.com (raw.githubusercontent.com)... 185.199.108.133, 185.199.109.133, 185.199.110.133, ...\n",
            "Connecting to raw.githubusercontent.com (raw.githubusercontent.com)|185.199.108.133|:443... connected.\n",
            "HTTP request sent, awaiting response... 200 OK\n",
            "Length: 68 [text/plain]\n",
            "Saving to: ‘/root/.kaggle/kaggle.json.1’\n",
            "\n",
            "kaggle.json.1       100%[===================>]      68  --.-KB/s    in 0s      \n",
            "\n",
            "2022-11-01 16:37:39 (1.84 MB/s) - ‘/root/.kaggle/kaggle.json.1’ saved [68/68]\n",
            "\n"
          ]
        }
      ]
    },
    {
      "cell_type": "markdown",
      "source": [
        "##**Giải nén**"
      ],
      "metadata": {
        "id": "CA-jvE6kDeie"
      }
    },
    {
      "cell_type": "code",
      "source": [
        "!kaggle datasets download -d rohitsahoo/sales-forecasting -p /kaggle/input/\n",
        "# !yes | kaggle competitions download -c m5-forecasting-accuracy -p /kaggle/input/\n",
        "!yes | unzip /kaggle/input/sales-forecasting.zip -d /kaggle/input/sales-forecasting\n",
        "!yes | rm /kaggle/input/sales-forecasting.zip"
      ],
      "metadata": {
        "colab": {
          "base_uri": "https://localhost:8080/"
        },
        "id": "I_wnTk1GD7HZ",
        "outputId": "b8e9b6aa-9cf9-45b5-cdf0-0d79df8b6877"
      },
      "execution_count": null,
      "outputs": [
        {
          "output_type": "stream",
          "name": "stdout",
          "text": [
            "Downloading sales-forecasting.zip to /kaggle/input\n",
            "\r  0% 0.00/480k [00:00<?, ?B/s]\n",
            "\r100% 480k/480k [00:00<00:00, 123MB/s]\n",
            "Archive:  /kaggle/input/sales-forecasting.zip\n",
            "replace /kaggle/input/sales-forecasting/train.csv? [y]es, [n]o, [A]ll, [N]one, [r]ename:   inflating: /kaggle/input/sales-forecasting/train.csv  \n"
          ]
        }
      ]
    },
    {
      "cell_type": "markdown",
      "source": [
        "##**Nhập thư viện và kiểm tra dữ liệu**"
      ],
      "metadata": {
        "id": "Gf6UiZw6HC2k"
      }
    },
    {
      "cell_type": "code",
      "source": [
        "import numpy as np\n",
        "import pandas as pd\n",
        "import plotly.express as px\n",
        "from sklearn.model_selection import train_test_split\n"
      ],
      "metadata": {
        "id": "4mlOgHZTH9Gq"
      },
      "execution_count": null,
      "outputs": []
    },
    {
      "cell_type": "markdown",
      "source": [
        "##**Tải tập dữ liệu lên ô nhớ**"
      ],
      "metadata": {
        "id": "bwVspb2fQRSJ"
      }
    },
    {
      "cell_type": "code",
      "source": [
        "# Reading dataset's ...\n",
        "train = pd.read_csv('/kaggle/input/sales-forecasting/train.csv')"
      ],
      "metadata": {
        "id": "tBBzekL3QbiX"
      },
      "execution_count": null,
      "outputs": []
    },
    {
      "cell_type": "markdown",
      "source": [
        "##**Kiểm tra dữ liệu đã tải lên**"
      ],
      "metadata": {
        "id": "XEUrVTmfQa1E"
      }
    },
    {
      "cell_type": "code",
      "source": [
        "train.info()"
      ],
      "metadata": {
        "colab": {
          "base_uri": "https://localhost:8080/"
        },
        "id": "cI7aaBEHQpEH",
        "outputId": "99717a60-bff6-4760-8437-fa67a5cc4f2a"
      },
      "execution_count": null,
      "outputs": [
        {
          "output_type": "stream",
          "name": "stdout",
          "text": [
            "<class 'pandas.core.frame.DataFrame'>\n",
            "RangeIndex: 9800 entries, 0 to 9799\n",
            "Data columns (total 18 columns):\n",
            " #   Column         Non-Null Count  Dtype  \n",
            "---  ------         --------------  -----  \n",
            " 0   Row ID         9800 non-null   int64  \n",
            " 1   Order ID       9800 non-null   object \n",
            " 2   Order Date     9800 non-null   object \n",
            " 3   Ship Date      9800 non-null   object \n",
            " 4   Ship Mode      9800 non-null   object \n",
            " 5   Customer ID    9800 non-null   object \n",
            " 6   Customer Name  9800 non-null   object \n",
            " 7   Segment        9800 non-null   object \n",
            " 8   Country        9800 non-null   object \n",
            " 9   City           9800 non-null   object \n",
            " 10  State          9800 non-null   object \n",
            " 11  Postal Code    9789 non-null   float64\n",
            " 12  Region         9800 non-null   object \n",
            " 13  Product ID     9800 non-null   object \n",
            " 14  Category       9800 non-null   object \n",
            " 15  Sub-Category   9800 non-null   object \n",
            " 16  Product Name   9800 non-null   object \n",
            " 17  Sales          9800 non-null   float64\n",
            "dtypes: float64(2), int64(1), object(15)\n",
            "memory usage: 1.3+ MB\n"
          ]
        }
      ]
    },
    {
      "cell_type": "markdown",
      "source": [
        "#**YC1: Tiền xử lý dữ liệu**"
      ],
      "metadata": {
        "id": "eQfsi7F0RVmr"
      }
    },
    {
      "cell_type": "markdown",
      "source": [
        "##**Kiểm tra dữ liệu rổng**"
      ],
      "metadata": {
        "id": "bbtI9QgfRcUm"
      }
    },
    {
      "cell_type": "code",
      "source": [
        "train.isnull().sum().sort_values(ascending = False)"
      ],
      "metadata": {
        "colab": {
          "base_uri": "https://localhost:8080/"
        },
        "id": "vdQKpnw3Rhi_",
        "outputId": "70e45ac8-db54-4525-bbe7-7ea66abfb4db"
      },
      "execution_count": null,
      "outputs": [
        {
          "output_type": "execute_result",
          "data": {
            "text/plain": [
              "Postal Code      11\n",
              "Row ID            0\n",
              "Order ID          0\n",
              "Product Name      0\n",
              "Sub-Category      0\n",
              "Category          0\n",
              "Product ID        0\n",
              "Region            0\n",
              "State             0\n",
              "City              0\n",
              "Country           0\n",
              "Segment           0\n",
              "Customer Name     0\n",
              "Customer ID       0\n",
              "Ship Mode         0\n",
              "Ship Date         0\n",
              "Order Date        0\n",
              "Sales             0\n",
              "dtype: int64"
            ]
          },
          "metadata": {},
          "execution_count": 51
        }
      ]
    },
    {
      "cell_type": "markdown",
      "source": [
        "Thiếu dữ liệu về postal code, sử dụng thông tin thành phố để điền cập nhật lại"
      ],
      "metadata": {
        "id": "elcZM5IoR9J8"
      }
    },
    {
      "cell_type": "markdown",
      "source": [
        "##**Cập nhật dữ liệu post code**"
      ],
      "metadata": {
        "id": "JMx4TB9ASyOP"
      }
    },
    {
      "cell_type": "code",
      "source": [
        "train[train['Postal Code'].isnull()==True]['City'].unique()"
      ],
      "metadata": {
        "colab": {
          "base_uri": "https://localhost:8080/"
        },
        "id": "pOnEHxqpRldR",
        "outputId": "490a3408-8fcb-415a-e852-b87c2288143c"
      },
      "execution_count": null,
      "outputs": [
        {
          "output_type": "execute_result",
          "data": {
            "text/plain": [
              "array(['Burlington'], dtype=object)"
            ]
          },
          "metadata": {},
          "execution_count": 52
        }
      ]
    },
    {
      "cell_type": "code",
      "source": [
        "train[train['City']=='Burlington']['Postal Code'].value_counts()\n",
        "train['Postal Code'] = train['Postal Code'].fillna(27217)\n",
        "train['Postal Code'] = train['Postal Code'].apply(int)\n",
        "train.isnull().sum().sort_values(ascending = False)"
      ],
      "metadata": {
        "colab": {
          "base_uri": "https://localhost:8080/"
        },
        "id": "-ZlWzlQoSIZa",
        "outputId": "d1cc26d1-10a4-48f9-e931-7e0c7bd808bb"
      },
      "execution_count": null,
      "outputs": [
        {
          "output_type": "execute_result",
          "data": {
            "text/plain": [
              "Row ID           0\n",
              "Order ID         0\n",
              "Product Name     0\n",
              "Sub-Category     0\n",
              "Category         0\n",
              "Product ID       0\n",
              "Region           0\n",
              "Postal Code      0\n",
              "State            0\n",
              "City             0\n",
              "Country          0\n",
              "Segment          0\n",
              "Customer Name    0\n",
              "Customer ID      0\n",
              "Ship Mode        0\n",
              "Ship Date        0\n",
              "Order Date       0\n",
              "Sales            0\n",
              "dtype: int64"
            ]
          },
          "metadata": {},
          "execution_count": 53
        }
      ]
    },
    {
      "cell_type": "code",
      "source": [
        "train"
      ],
      "metadata": {
        "colab": {
          "base_uri": "https://localhost:8080/",
          "height": 832
        },
        "id": "xWL_VL13SeZM",
        "outputId": "1283d539-7822-447a-c065-825b6557b46d"
      },
      "execution_count": null,
      "outputs": [
        {
          "output_type": "execute_result",
          "data": {
            "text/plain": [
              "      Row ID        Order ID  Order Date   Ship Date       Ship Mode  \\\n",
              "0          1  CA-2017-152156  08/11/2017  11/11/2017    Second Class   \n",
              "1          2  CA-2017-152156  08/11/2017  11/11/2017    Second Class   \n",
              "2          3  CA-2017-138688  12/06/2017  16/06/2017    Second Class   \n",
              "3          4  US-2016-108966  11/10/2016  18/10/2016  Standard Class   \n",
              "4          5  US-2016-108966  11/10/2016  18/10/2016  Standard Class   \n",
              "...      ...             ...         ...         ...             ...   \n",
              "9795    9796  CA-2017-125920  21/05/2017  28/05/2017  Standard Class   \n",
              "9796    9797  CA-2016-128608  12/01/2016  17/01/2016  Standard Class   \n",
              "9797    9798  CA-2016-128608  12/01/2016  17/01/2016  Standard Class   \n",
              "9798    9799  CA-2016-128608  12/01/2016  17/01/2016  Standard Class   \n",
              "9799    9800  CA-2016-128608  12/01/2016  17/01/2016  Standard Class   \n",
              "\n",
              "     Customer ID     Customer Name    Segment        Country             City  \\\n",
              "0       CG-12520       Claire Gute   Consumer  United States        Henderson   \n",
              "1       CG-12520       Claire Gute   Consumer  United States        Henderson   \n",
              "2       DV-13045   Darrin Van Huff  Corporate  United States      Los Angeles   \n",
              "3       SO-20335    Sean O'Donnell   Consumer  United States  Fort Lauderdale   \n",
              "4       SO-20335    Sean O'Donnell   Consumer  United States  Fort Lauderdale   \n",
              "...          ...               ...        ...            ...              ...   \n",
              "9795    SH-19975     Sally Hughsby  Corporate  United States          Chicago   \n",
              "9796    CS-12490  Cindy Schnelling  Corporate  United States           Toledo   \n",
              "9797    CS-12490  Cindy Schnelling  Corporate  United States           Toledo   \n",
              "9798    CS-12490  Cindy Schnelling  Corporate  United States           Toledo   \n",
              "9799    CS-12490  Cindy Schnelling  Corporate  United States           Toledo   \n",
              "\n",
              "           State  Postal Code   Region       Product ID         Category  \\\n",
              "0       Kentucky        42420    South  FUR-BO-10001798        Furniture   \n",
              "1       Kentucky        42420    South  FUR-CH-10000454        Furniture   \n",
              "2     California        90036     West  OFF-LA-10000240  Office Supplies   \n",
              "3        Florida        33311    South  FUR-TA-10000577        Furniture   \n",
              "4        Florida        33311    South  OFF-ST-10000760  Office Supplies   \n",
              "...          ...          ...      ...              ...              ...   \n",
              "9795    Illinois        60610  Central  OFF-BI-10003429  Office Supplies   \n",
              "9796        Ohio        43615     East  OFF-AR-10001374  Office Supplies   \n",
              "9797        Ohio        43615     East  TEC-PH-10004977       Technology   \n",
              "9798        Ohio        43615     East  TEC-PH-10000912       Technology   \n",
              "9799        Ohio        43615     East  TEC-AC-10000487       Technology   \n",
              "\n",
              "     Sub-Category                                       Product Name     Sales  \n",
              "0       Bookcases                  Bush Somerset Collection Bookcase  261.9600  \n",
              "1          Chairs  Hon Deluxe Fabric Upholstered Stacking Chairs,...  731.9400  \n",
              "2          Labels  Self-Adhesive Address Labels for Typewriters b...   14.6200  \n",
              "3          Tables      Bretford CR4500 Series Slim Rectangular Table  957.5775  \n",
              "4         Storage                     Eldon Fold 'N Roll Cart System   22.3680  \n",
              "...           ...                                                ...       ...  \n",
              "9795      Binders  Cardinal HOLDit! Binder Insert Strips,Extra St...    3.7980  \n",
              "9796          Art           BIC Brite Liner Highlighters, Chisel Tip   10.3680  \n",
              "9797       Phones                                        GE 30524EE4  235.1880  \n",
              "9798       Phones           Anker 24W Portable Micro USB Car Charger   26.3760  \n",
              "9799  Accessories                SanDisk Cruzer 4 GB USB Flash Drive   10.3840  \n",
              "\n",
              "[9800 rows x 18 columns]"
            ],
            "text/html": [
              "\n",
              "  <div id=\"df-76950730-3d49-4339-9d74-0f8de45f77eb\">\n",
              "    <div class=\"colab-df-container\">\n",
              "      <div>\n",
              "<style scoped>\n",
              "    .dataframe tbody tr th:only-of-type {\n",
              "        vertical-align: middle;\n",
              "    }\n",
              "\n",
              "    .dataframe tbody tr th {\n",
              "        vertical-align: top;\n",
              "    }\n",
              "\n",
              "    .dataframe thead th {\n",
              "        text-align: right;\n",
              "    }\n",
              "</style>\n",
              "<table border=\"1\" class=\"dataframe\">\n",
              "  <thead>\n",
              "    <tr style=\"text-align: right;\">\n",
              "      <th></th>\n",
              "      <th>Row ID</th>\n",
              "      <th>Order ID</th>\n",
              "      <th>Order Date</th>\n",
              "      <th>Ship Date</th>\n",
              "      <th>Ship Mode</th>\n",
              "      <th>Customer ID</th>\n",
              "      <th>Customer Name</th>\n",
              "      <th>Segment</th>\n",
              "      <th>Country</th>\n",
              "      <th>City</th>\n",
              "      <th>State</th>\n",
              "      <th>Postal Code</th>\n",
              "      <th>Region</th>\n",
              "      <th>Product ID</th>\n",
              "      <th>Category</th>\n",
              "      <th>Sub-Category</th>\n",
              "      <th>Product Name</th>\n",
              "      <th>Sales</th>\n",
              "    </tr>\n",
              "  </thead>\n",
              "  <tbody>\n",
              "    <tr>\n",
              "      <th>0</th>\n",
              "      <td>1</td>\n",
              "      <td>CA-2017-152156</td>\n",
              "      <td>08/11/2017</td>\n",
              "      <td>11/11/2017</td>\n",
              "      <td>Second Class</td>\n",
              "      <td>CG-12520</td>\n",
              "      <td>Claire Gute</td>\n",
              "      <td>Consumer</td>\n",
              "      <td>United States</td>\n",
              "      <td>Henderson</td>\n",
              "      <td>Kentucky</td>\n",
              "      <td>42420</td>\n",
              "      <td>South</td>\n",
              "      <td>FUR-BO-10001798</td>\n",
              "      <td>Furniture</td>\n",
              "      <td>Bookcases</td>\n",
              "      <td>Bush Somerset Collection Bookcase</td>\n",
              "      <td>261.9600</td>\n",
              "    </tr>\n",
              "    <tr>\n",
              "      <th>1</th>\n",
              "      <td>2</td>\n",
              "      <td>CA-2017-152156</td>\n",
              "      <td>08/11/2017</td>\n",
              "      <td>11/11/2017</td>\n",
              "      <td>Second Class</td>\n",
              "      <td>CG-12520</td>\n",
              "      <td>Claire Gute</td>\n",
              "      <td>Consumer</td>\n",
              "      <td>United States</td>\n",
              "      <td>Henderson</td>\n",
              "      <td>Kentucky</td>\n",
              "      <td>42420</td>\n",
              "      <td>South</td>\n",
              "      <td>FUR-CH-10000454</td>\n",
              "      <td>Furniture</td>\n",
              "      <td>Chairs</td>\n",
              "      <td>Hon Deluxe Fabric Upholstered Stacking Chairs,...</td>\n",
              "      <td>731.9400</td>\n",
              "    </tr>\n",
              "    <tr>\n",
              "      <th>2</th>\n",
              "      <td>3</td>\n",
              "      <td>CA-2017-138688</td>\n",
              "      <td>12/06/2017</td>\n",
              "      <td>16/06/2017</td>\n",
              "      <td>Second Class</td>\n",
              "      <td>DV-13045</td>\n",
              "      <td>Darrin Van Huff</td>\n",
              "      <td>Corporate</td>\n",
              "      <td>United States</td>\n",
              "      <td>Los Angeles</td>\n",
              "      <td>California</td>\n",
              "      <td>90036</td>\n",
              "      <td>West</td>\n",
              "      <td>OFF-LA-10000240</td>\n",
              "      <td>Office Supplies</td>\n",
              "      <td>Labels</td>\n",
              "      <td>Self-Adhesive Address Labels for Typewriters b...</td>\n",
              "      <td>14.6200</td>\n",
              "    </tr>\n",
              "    <tr>\n",
              "      <th>3</th>\n",
              "      <td>4</td>\n",
              "      <td>US-2016-108966</td>\n",
              "      <td>11/10/2016</td>\n",
              "      <td>18/10/2016</td>\n",
              "      <td>Standard Class</td>\n",
              "      <td>SO-20335</td>\n",
              "      <td>Sean O'Donnell</td>\n",
              "      <td>Consumer</td>\n",
              "      <td>United States</td>\n",
              "      <td>Fort Lauderdale</td>\n",
              "      <td>Florida</td>\n",
              "      <td>33311</td>\n",
              "      <td>South</td>\n",
              "      <td>FUR-TA-10000577</td>\n",
              "      <td>Furniture</td>\n",
              "      <td>Tables</td>\n",
              "      <td>Bretford CR4500 Series Slim Rectangular Table</td>\n",
              "      <td>957.5775</td>\n",
              "    </tr>\n",
              "    <tr>\n",
              "      <th>4</th>\n",
              "      <td>5</td>\n",
              "      <td>US-2016-108966</td>\n",
              "      <td>11/10/2016</td>\n",
              "      <td>18/10/2016</td>\n",
              "      <td>Standard Class</td>\n",
              "      <td>SO-20335</td>\n",
              "      <td>Sean O'Donnell</td>\n",
              "      <td>Consumer</td>\n",
              "      <td>United States</td>\n",
              "      <td>Fort Lauderdale</td>\n",
              "      <td>Florida</td>\n",
              "      <td>33311</td>\n",
              "      <td>South</td>\n",
              "      <td>OFF-ST-10000760</td>\n",
              "      <td>Office Supplies</td>\n",
              "      <td>Storage</td>\n",
              "      <td>Eldon Fold 'N Roll Cart System</td>\n",
              "      <td>22.3680</td>\n",
              "    </tr>\n",
              "    <tr>\n",
              "      <th>...</th>\n",
              "      <td>...</td>\n",
              "      <td>...</td>\n",
              "      <td>...</td>\n",
              "      <td>...</td>\n",
              "      <td>...</td>\n",
              "      <td>...</td>\n",
              "      <td>...</td>\n",
              "      <td>...</td>\n",
              "      <td>...</td>\n",
              "      <td>...</td>\n",
              "      <td>...</td>\n",
              "      <td>...</td>\n",
              "      <td>...</td>\n",
              "      <td>...</td>\n",
              "      <td>...</td>\n",
              "      <td>...</td>\n",
              "      <td>...</td>\n",
              "      <td>...</td>\n",
              "    </tr>\n",
              "    <tr>\n",
              "      <th>9795</th>\n",
              "      <td>9796</td>\n",
              "      <td>CA-2017-125920</td>\n",
              "      <td>21/05/2017</td>\n",
              "      <td>28/05/2017</td>\n",
              "      <td>Standard Class</td>\n",
              "      <td>SH-19975</td>\n",
              "      <td>Sally Hughsby</td>\n",
              "      <td>Corporate</td>\n",
              "      <td>United States</td>\n",
              "      <td>Chicago</td>\n",
              "      <td>Illinois</td>\n",
              "      <td>60610</td>\n",
              "      <td>Central</td>\n",
              "      <td>OFF-BI-10003429</td>\n",
              "      <td>Office Supplies</td>\n",
              "      <td>Binders</td>\n",
              "      <td>Cardinal HOLDit! Binder Insert Strips,Extra St...</td>\n",
              "      <td>3.7980</td>\n",
              "    </tr>\n",
              "    <tr>\n",
              "      <th>9796</th>\n",
              "      <td>9797</td>\n",
              "      <td>CA-2016-128608</td>\n",
              "      <td>12/01/2016</td>\n",
              "      <td>17/01/2016</td>\n",
              "      <td>Standard Class</td>\n",
              "      <td>CS-12490</td>\n",
              "      <td>Cindy Schnelling</td>\n",
              "      <td>Corporate</td>\n",
              "      <td>United States</td>\n",
              "      <td>Toledo</td>\n",
              "      <td>Ohio</td>\n",
              "      <td>43615</td>\n",
              "      <td>East</td>\n",
              "      <td>OFF-AR-10001374</td>\n",
              "      <td>Office Supplies</td>\n",
              "      <td>Art</td>\n",
              "      <td>BIC Brite Liner Highlighters, Chisel Tip</td>\n",
              "      <td>10.3680</td>\n",
              "    </tr>\n",
              "    <tr>\n",
              "      <th>9797</th>\n",
              "      <td>9798</td>\n",
              "      <td>CA-2016-128608</td>\n",
              "      <td>12/01/2016</td>\n",
              "      <td>17/01/2016</td>\n",
              "      <td>Standard Class</td>\n",
              "      <td>CS-12490</td>\n",
              "      <td>Cindy Schnelling</td>\n",
              "      <td>Corporate</td>\n",
              "      <td>United States</td>\n",
              "      <td>Toledo</td>\n",
              "      <td>Ohio</td>\n",
              "      <td>43615</td>\n",
              "      <td>East</td>\n",
              "      <td>TEC-PH-10004977</td>\n",
              "      <td>Technology</td>\n",
              "      <td>Phones</td>\n",
              "      <td>GE 30524EE4</td>\n",
              "      <td>235.1880</td>\n",
              "    </tr>\n",
              "    <tr>\n",
              "      <th>9798</th>\n",
              "      <td>9799</td>\n",
              "      <td>CA-2016-128608</td>\n",
              "      <td>12/01/2016</td>\n",
              "      <td>17/01/2016</td>\n",
              "      <td>Standard Class</td>\n",
              "      <td>CS-12490</td>\n",
              "      <td>Cindy Schnelling</td>\n",
              "      <td>Corporate</td>\n",
              "      <td>United States</td>\n",
              "      <td>Toledo</td>\n",
              "      <td>Ohio</td>\n",
              "      <td>43615</td>\n",
              "      <td>East</td>\n",
              "      <td>TEC-PH-10000912</td>\n",
              "      <td>Technology</td>\n",
              "      <td>Phones</td>\n",
              "      <td>Anker 24W Portable Micro USB Car Charger</td>\n",
              "      <td>26.3760</td>\n",
              "    </tr>\n",
              "    <tr>\n",
              "      <th>9799</th>\n",
              "      <td>9800</td>\n",
              "      <td>CA-2016-128608</td>\n",
              "      <td>12/01/2016</td>\n",
              "      <td>17/01/2016</td>\n",
              "      <td>Standard Class</td>\n",
              "      <td>CS-12490</td>\n",
              "      <td>Cindy Schnelling</td>\n",
              "      <td>Corporate</td>\n",
              "      <td>United States</td>\n",
              "      <td>Toledo</td>\n",
              "      <td>Ohio</td>\n",
              "      <td>43615</td>\n",
              "      <td>East</td>\n",
              "      <td>TEC-AC-10000487</td>\n",
              "      <td>Technology</td>\n",
              "      <td>Accessories</td>\n",
              "      <td>SanDisk Cruzer 4 GB USB Flash Drive</td>\n",
              "      <td>10.3840</td>\n",
              "    </tr>\n",
              "  </tbody>\n",
              "</table>\n",
              "<p>9800 rows × 18 columns</p>\n",
              "</div>\n",
              "      <button class=\"colab-df-convert\" onclick=\"convertToInteractive('df-76950730-3d49-4339-9d74-0f8de45f77eb')\"\n",
              "              title=\"Convert this dataframe to an interactive table.\"\n",
              "              style=\"display:none;\">\n",
              "        \n",
              "  <svg xmlns=\"http://www.w3.org/2000/svg\" height=\"24px\"viewBox=\"0 0 24 24\"\n",
              "       width=\"24px\">\n",
              "    <path d=\"M0 0h24v24H0V0z\" fill=\"none\"/>\n",
              "    <path d=\"M18.56 5.44l.94 2.06.94-2.06 2.06-.94-2.06-.94-.94-2.06-.94 2.06-2.06.94zm-11 1L8.5 8.5l.94-2.06 2.06-.94-2.06-.94L8.5 2.5l-.94 2.06-2.06.94zm10 10l.94 2.06.94-2.06 2.06-.94-2.06-.94-.94-2.06-.94 2.06-2.06.94z\"/><path d=\"M17.41 7.96l-1.37-1.37c-.4-.4-.92-.59-1.43-.59-.52 0-1.04.2-1.43.59L10.3 9.45l-7.72 7.72c-.78.78-.78 2.05 0 2.83L4 21.41c.39.39.9.59 1.41.59.51 0 1.02-.2 1.41-.59l7.78-7.78 2.81-2.81c.8-.78.8-2.07 0-2.86zM5.41 20L4 18.59l7.72-7.72 1.47 1.35L5.41 20z\"/>\n",
              "  </svg>\n",
              "      </button>\n",
              "      \n",
              "  <style>\n",
              "    .colab-df-container {\n",
              "      display:flex;\n",
              "      flex-wrap:wrap;\n",
              "      gap: 12px;\n",
              "    }\n",
              "\n",
              "    .colab-df-convert {\n",
              "      background-color: #E8F0FE;\n",
              "      border: none;\n",
              "      border-radius: 50%;\n",
              "      cursor: pointer;\n",
              "      display: none;\n",
              "      fill: #1967D2;\n",
              "      height: 32px;\n",
              "      padding: 0 0 0 0;\n",
              "      width: 32px;\n",
              "    }\n",
              "\n",
              "    .colab-df-convert:hover {\n",
              "      background-color: #E2EBFA;\n",
              "      box-shadow: 0px 1px 2px rgba(60, 64, 67, 0.3), 0px 1px 3px 1px rgba(60, 64, 67, 0.15);\n",
              "      fill: #174EA6;\n",
              "    }\n",
              "\n",
              "    [theme=dark] .colab-df-convert {\n",
              "      background-color: #3B4455;\n",
              "      fill: #D2E3FC;\n",
              "    }\n",
              "\n",
              "    [theme=dark] .colab-df-convert:hover {\n",
              "      background-color: #434B5C;\n",
              "      box-shadow: 0px 1px 3px 1px rgba(0, 0, 0, 0.15);\n",
              "      filter: drop-shadow(0px 1px 2px rgba(0, 0, 0, 0.3));\n",
              "      fill: #FFFFFF;\n",
              "    }\n",
              "  </style>\n",
              "\n",
              "      <script>\n",
              "        const buttonEl =\n",
              "          document.querySelector('#df-76950730-3d49-4339-9d74-0f8de45f77eb button.colab-df-convert');\n",
              "        buttonEl.style.display =\n",
              "          google.colab.kernel.accessAllowed ? 'block' : 'none';\n",
              "\n",
              "        async function convertToInteractive(key) {\n",
              "          const element = document.querySelector('#df-76950730-3d49-4339-9d74-0f8de45f77eb');\n",
              "          const dataTable =\n",
              "            await google.colab.kernel.invokeFunction('convertToInteractive',\n",
              "                                                     [key], {});\n",
              "          if (!dataTable) return;\n",
              "\n",
              "          const docLinkHtml = 'Like what you see? Visit the ' +\n",
              "            '<a target=\"_blank\" href=https://colab.research.google.com/notebooks/data_table.ipynb>data table notebook</a>'\n",
              "            + ' to learn more about interactive tables.';\n",
              "          element.innerHTML = '';\n",
              "          dataTable['output_type'] = 'display_data';\n",
              "          await google.colab.output.renderOutput(dataTable, element);\n",
              "          const docLink = document.createElement('div');\n",
              "          docLink.innerHTML = docLinkHtml;\n",
              "          element.appendChild(docLink);\n",
              "        }\n",
              "      </script>\n",
              "    </div>\n",
              "  </div>\n",
              "  "
            ]
          },
          "metadata": {},
          "execution_count": 54
        }
      ]
    },
    {
      "cell_type": "markdown",
      "source": [
        "##**Cập nhật tên cột**\n"
      ],
      "metadata": {
        "id": "XoeoZmLuVZ4v"
      }
    },
    {
      "cell_type": "code",
      "source": [
        "train.rename(columns={'Row ID':'Row_ID',\n",
        "                   'Order ID': 'Order_ID',\n",
        "                   'Order Date':'Order_Date',\n",
        "                   'Ship Date':'Ship_Date',\n",
        "                   'Customer ID':'Custmoer_ID',\n",
        "                   'Customer Name':'Customer_Name',\n",
        "                   'Postal Code':'Postal_Code',\n",
        "                   'Product ID':'Product_ID',\n",
        "                   'Sub-Category':'Sub_Category',\n",
        "                   'Product Name':'Product_Name'},inplace=True)\n",
        "train.info()"
      ],
      "metadata": {
        "colab": {
          "base_uri": "https://localhost:8080/"
        },
        "id": "YJn-Dg-4VXwy",
        "outputId": "b22f03cc-cdb3-4f91-8a1b-5dfbdd848da3"
      },
      "execution_count": null,
      "outputs": [
        {
          "output_type": "stream",
          "name": "stdout",
          "text": [
            "<class 'pandas.core.frame.DataFrame'>\n",
            "RangeIndex: 9800 entries, 0 to 9799\n",
            "Data columns (total 18 columns):\n",
            " #   Column         Non-Null Count  Dtype  \n",
            "---  ------         --------------  -----  \n",
            " 0   Row_ID         9800 non-null   int64  \n",
            " 1   Order_ID       9800 non-null   object \n",
            " 2   Order_Date     9800 non-null   object \n",
            " 3   Ship_Date      9800 non-null   object \n",
            " 4   Ship Mode      9800 non-null   object \n",
            " 5   Custmoer_ID    9800 non-null   object \n",
            " 6   Customer_Name  9800 non-null   object \n",
            " 7   Segment        9800 non-null   object \n",
            " 8   Country        9800 non-null   object \n",
            " 9   City           9800 non-null   object \n",
            " 10  State          9800 non-null   object \n",
            " 11  Postal_Code    9800 non-null   int64  \n",
            " 12  Region         9800 non-null   object \n",
            " 13  Product_ID     9800 non-null   object \n",
            " 14  Category       9800 non-null   object \n",
            " 15  Sub_Category   9800 non-null   object \n",
            " 16  Product_Name   9800 non-null   object \n",
            " 17  Sales          9800 non-null   float64\n",
            "dtypes: float64(1), int64(2), object(15)\n",
            "memory usage: 1.3+ MB\n"
          ]
        }
      ]
    },
    {
      "cell_type": "markdown",
      "source": [
        "##**Cập nhận dữ liệu ngày tháng**"
      ],
      "metadata": {
        "id": "DPwTohi-hduS"
      }
    },
    {
      "cell_type": "code",
      "source": [
        "train['Order_Date'] = pd.to_datetime(train['Order_Date'], dayfirst=True)\n",
        "train['Ship_Date'] = pd.to_datetime(train['Ship_Date'],dayfirst=True)\n",
        "train"
      ],
      "metadata": {
        "colab": {
          "base_uri": "https://localhost:8080/",
          "height": 956
        },
        "id": "LiftT7N4hh3n",
        "outputId": "4ba0122a-ebdd-45fc-9e71-58e2dd80889f"
      },
      "execution_count": null,
      "outputs": [
        {
          "output_type": "execute_result",
          "data": {
            "text/plain": [
              "      Row_ID        Order_ID Order_Date  Ship_Date       Ship Mode  \\\n",
              "0          1  CA-2017-152156 2017-11-08 2017-11-11    Second Class   \n",
              "1          2  CA-2017-152156 2017-11-08 2017-11-11    Second Class   \n",
              "2          3  CA-2017-138688 2017-06-12 2017-06-16    Second Class   \n",
              "3          4  US-2016-108966 2016-10-11 2016-10-18  Standard Class   \n",
              "4          5  US-2016-108966 2016-10-11 2016-10-18  Standard Class   \n",
              "...      ...             ...        ...        ...             ...   \n",
              "9795    9796  CA-2017-125920 2017-05-21 2017-05-28  Standard Class   \n",
              "9796    9797  CA-2016-128608 2016-01-12 2016-01-17  Standard Class   \n",
              "9797    9798  CA-2016-128608 2016-01-12 2016-01-17  Standard Class   \n",
              "9798    9799  CA-2016-128608 2016-01-12 2016-01-17  Standard Class   \n",
              "9799    9800  CA-2016-128608 2016-01-12 2016-01-17  Standard Class   \n",
              "\n",
              "     Custmoer_ID     Customer_Name    Segment        Country             City  \\\n",
              "0       CG-12520       Claire Gute   Consumer  United States        Henderson   \n",
              "1       CG-12520       Claire Gute   Consumer  United States        Henderson   \n",
              "2       DV-13045   Darrin Van Huff  Corporate  United States      Los Angeles   \n",
              "3       SO-20335    Sean O'Donnell   Consumer  United States  Fort Lauderdale   \n",
              "4       SO-20335    Sean O'Donnell   Consumer  United States  Fort Lauderdale   \n",
              "...          ...               ...        ...            ...              ...   \n",
              "9795    SH-19975     Sally Hughsby  Corporate  United States          Chicago   \n",
              "9796    CS-12490  Cindy Schnelling  Corporate  United States           Toledo   \n",
              "9797    CS-12490  Cindy Schnelling  Corporate  United States           Toledo   \n",
              "9798    CS-12490  Cindy Schnelling  Corporate  United States           Toledo   \n",
              "9799    CS-12490  Cindy Schnelling  Corporate  United States           Toledo   \n",
              "\n",
              "           State  Postal_Code   Region       Product_ID         Category  \\\n",
              "0       Kentucky        42420    South  FUR-BO-10001798        Furniture   \n",
              "1       Kentucky        42420    South  FUR-CH-10000454        Furniture   \n",
              "2     California        90036     West  OFF-LA-10000240  Office Supplies   \n",
              "3        Florida        33311    South  FUR-TA-10000577        Furniture   \n",
              "4        Florida        33311    South  OFF-ST-10000760  Office Supplies   \n",
              "...          ...          ...      ...              ...              ...   \n",
              "9795    Illinois        60610  Central  OFF-BI-10003429  Office Supplies   \n",
              "9796        Ohio        43615     East  OFF-AR-10001374  Office Supplies   \n",
              "9797        Ohio        43615     East  TEC-PH-10004977       Technology   \n",
              "9798        Ohio        43615     East  TEC-PH-10000912       Technology   \n",
              "9799        Ohio        43615     East  TEC-AC-10000487       Technology   \n",
              "\n",
              "     Sub_Category                                       Product_Name     Sales  \n",
              "0       Bookcases                  Bush Somerset Collection Bookcase  261.9600  \n",
              "1          Chairs  Hon Deluxe Fabric Upholstered Stacking Chairs,...  731.9400  \n",
              "2          Labels  Self-Adhesive Address Labels for Typewriters b...   14.6200  \n",
              "3          Tables      Bretford CR4500 Series Slim Rectangular Table  957.5775  \n",
              "4         Storage                     Eldon Fold 'N Roll Cart System   22.3680  \n",
              "...           ...                                                ...       ...  \n",
              "9795      Binders  Cardinal HOLDit! Binder Insert Strips,Extra St...    3.7980  \n",
              "9796          Art           BIC Brite Liner Highlighters, Chisel Tip   10.3680  \n",
              "9797       Phones                                        GE 30524EE4  235.1880  \n",
              "9798       Phones           Anker 24W Portable Micro USB Car Charger   26.3760  \n",
              "9799  Accessories                SanDisk Cruzer 4 GB USB Flash Drive   10.3840  \n",
              "\n",
              "[9800 rows x 18 columns]"
            ],
            "text/html": [
              "\n",
              "  <div id=\"df-3fa1550a-b5b2-468e-8186-7dc13500b5f7\">\n",
              "    <div class=\"colab-df-container\">\n",
              "      <div>\n",
              "<style scoped>\n",
              "    .dataframe tbody tr th:only-of-type {\n",
              "        vertical-align: middle;\n",
              "    }\n",
              "\n",
              "    .dataframe tbody tr th {\n",
              "        vertical-align: top;\n",
              "    }\n",
              "\n",
              "    .dataframe thead th {\n",
              "        text-align: right;\n",
              "    }\n",
              "</style>\n",
              "<table border=\"1\" class=\"dataframe\">\n",
              "  <thead>\n",
              "    <tr style=\"text-align: right;\">\n",
              "      <th></th>\n",
              "      <th>Row_ID</th>\n",
              "      <th>Order_ID</th>\n",
              "      <th>Order_Date</th>\n",
              "      <th>Ship_Date</th>\n",
              "      <th>Ship Mode</th>\n",
              "      <th>Custmoer_ID</th>\n",
              "      <th>Customer_Name</th>\n",
              "      <th>Segment</th>\n",
              "      <th>Country</th>\n",
              "      <th>City</th>\n",
              "      <th>State</th>\n",
              "      <th>Postal_Code</th>\n",
              "      <th>Region</th>\n",
              "      <th>Product_ID</th>\n",
              "      <th>Category</th>\n",
              "      <th>Sub_Category</th>\n",
              "      <th>Product_Name</th>\n",
              "      <th>Sales</th>\n",
              "    </tr>\n",
              "  </thead>\n",
              "  <tbody>\n",
              "    <tr>\n",
              "      <th>0</th>\n",
              "      <td>1</td>\n",
              "      <td>CA-2017-152156</td>\n",
              "      <td>2017-11-08</td>\n",
              "      <td>2017-11-11</td>\n",
              "      <td>Second Class</td>\n",
              "      <td>CG-12520</td>\n",
              "      <td>Claire Gute</td>\n",
              "      <td>Consumer</td>\n",
              "      <td>United States</td>\n",
              "      <td>Henderson</td>\n",
              "      <td>Kentucky</td>\n",
              "      <td>42420</td>\n",
              "      <td>South</td>\n",
              "      <td>FUR-BO-10001798</td>\n",
              "      <td>Furniture</td>\n",
              "      <td>Bookcases</td>\n",
              "      <td>Bush Somerset Collection Bookcase</td>\n",
              "      <td>261.9600</td>\n",
              "    </tr>\n",
              "    <tr>\n",
              "      <th>1</th>\n",
              "      <td>2</td>\n",
              "      <td>CA-2017-152156</td>\n",
              "      <td>2017-11-08</td>\n",
              "      <td>2017-11-11</td>\n",
              "      <td>Second Class</td>\n",
              "      <td>CG-12520</td>\n",
              "      <td>Claire Gute</td>\n",
              "      <td>Consumer</td>\n",
              "      <td>United States</td>\n",
              "      <td>Henderson</td>\n",
              "      <td>Kentucky</td>\n",
              "      <td>42420</td>\n",
              "      <td>South</td>\n",
              "      <td>FUR-CH-10000454</td>\n",
              "      <td>Furniture</td>\n",
              "      <td>Chairs</td>\n",
              "      <td>Hon Deluxe Fabric Upholstered Stacking Chairs,...</td>\n",
              "      <td>731.9400</td>\n",
              "    </tr>\n",
              "    <tr>\n",
              "      <th>2</th>\n",
              "      <td>3</td>\n",
              "      <td>CA-2017-138688</td>\n",
              "      <td>2017-06-12</td>\n",
              "      <td>2017-06-16</td>\n",
              "      <td>Second Class</td>\n",
              "      <td>DV-13045</td>\n",
              "      <td>Darrin Van Huff</td>\n",
              "      <td>Corporate</td>\n",
              "      <td>United States</td>\n",
              "      <td>Los Angeles</td>\n",
              "      <td>California</td>\n",
              "      <td>90036</td>\n",
              "      <td>West</td>\n",
              "      <td>OFF-LA-10000240</td>\n",
              "      <td>Office Supplies</td>\n",
              "      <td>Labels</td>\n",
              "      <td>Self-Adhesive Address Labels for Typewriters b...</td>\n",
              "      <td>14.6200</td>\n",
              "    </tr>\n",
              "    <tr>\n",
              "      <th>3</th>\n",
              "      <td>4</td>\n",
              "      <td>US-2016-108966</td>\n",
              "      <td>2016-10-11</td>\n",
              "      <td>2016-10-18</td>\n",
              "      <td>Standard Class</td>\n",
              "      <td>SO-20335</td>\n",
              "      <td>Sean O'Donnell</td>\n",
              "      <td>Consumer</td>\n",
              "      <td>United States</td>\n",
              "      <td>Fort Lauderdale</td>\n",
              "      <td>Florida</td>\n",
              "      <td>33311</td>\n",
              "      <td>South</td>\n",
              "      <td>FUR-TA-10000577</td>\n",
              "      <td>Furniture</td>\n",
              "      <td>Tables</td>\n",
              "      <td>Bretford CR4500 Series Slim Rectangular Table</td>\n",
              "      <td>957.5775</td>\n",
              "    </tr>\n",
              "    <tr>\n",
              "      <th>4</th>\n",
              "      <td>5</td>\n",
              "      <td>US-2016-108966</td>\n",
              "      <td>2016-10-11</td>\n",
              "      <td>2016-10-18</td>\n",
              "      <td>Standard Class</td>\n",
              "      <td>SO-20335</td>\n",
              "      <td>Sean O'Donnell</td>\n",
              "      <td>Consumer</td>\n",
              "      <td>United States</td>\n",
              "      <td>Fort Lauderdale</td>\n",
              "      <td>Florida</td>\n",
              "      <td>33311</td>\n",
              "      <td>South</td>\n",
              "      <td>OFF-ST-10000760</td>\n",
              "      <td>Office Supplies</td>\n",
              "      <td>Storage</td>\n",
              "      <td>Eldon Fold 'N Roll Cart System</td>\n",
              "      <td>22.3680</td>\n",
              "    </tr>\n",
              "    <tr>\n",
              "      <th>...</th>\n",
              "      <td>...</td>\n",
              "      <td>...</td>\n",
              "      <td>...</td>\n",
              "      <td>...</td>\n",
              "      <td>...</td>\n",
              "      <td>...</td>\n",
              "      <td>...</td>\n",
              "      <td>...</td>\n",
              "      <td>...</td>\n",
              "      <td>...</td>\n",
              "      <td>...</td>\n",
              "      <td>...</td>\n",
              "      <td>...</td>\n",
              "      <td>...</td>\n",
              "      <td>...</td>\n",
              "      <td>...</td>\n",
              "      <td>...</td>\n",
              "      <td>...</td>\n",
              "    </tr>\n",
              "    <tr>\n",
              "      <th>9795</th>\n",
              "      <td>9796</td>\n",
              "      <td>CA-2017-125920</td>\n",
              "      <td>2017-05-21</td>\n",
              "      <td>2017-05-28</td>\n",
              "      <td>Standard Class</td>\n",
              "      <td>SH-19975</td>\n",
              "      <td>Sally Hughsby</td>\n",
              "      <td>Corporate</td>\n",
              "      <td>United States</td>\n",
              "      <td>Chicago</td>\n",
              "      <td>Illinois</td>\n",
              "      <td>60610</td>\n",
              "      <td>Central</td>\n",
              "      <td>OFF-BI-10003429</td>\n",
              "      <td>Office Supplies</td>\n",
              "      <td>Binders</td>\n",
              "      <td>Cardinal HOLDit! Binder Insert Strips,Extra St...</td>\n",
              "      <td>3.7980</td>\n",
              "    </tr>\n",
              "    <tr>\n",
              "      <th>9796</th>\n",
              "      <td>9797</td>\n",
              "      <td>CA-2016-128608</td>\n",
              "      <td>2016-01-12</td>\n",
              "      <td>2016-01-17</td>\n",
              "      <td>Standard Class</td>\n",
              "      <td>CS-12490</td>\n",
              "      <td>Cindy Schnelling</td>\n",
              "      <td>Corporate</td>\n",
              "      <td>United States</td>\n",
              "      <td>Toledo</td>\n",
              "      <td>Ohio</td>\n",
              "      <td>43615</td>\n",
              "      <td>East</td>\n",
              "      <td>OFF-AR-10001374</td>\n",
              "      <td>Office Supplies</td>\n",
              "      <td>Art</td>\n",
              "      <td>BIC Brite Liner Highlighters, Chisel Tip</td>\n",
              "      <td>10.3680</td>\n",
              "    </tr>\n",
              "    <tr>\n",
              "      <th>9797</th>\n",
              "      <td>9798</td>\n",
              "      <td>CA-2016-128608</td>\n",
              "      <td>2016-01-12</td>\n",
              "      <td>2016-01-17</td>\n",
              "      <td>Standard Class</td>\n",
              "      <td>CS-12490</td>\n",
              "      <td>Cindy Schnelling</td>\n",
              "      <td>Corporate</td>\n",
              "      <td>United States</td>\n",
              "      <td>Toledo</td>\n",
              "      <td>Ohio</td>\n",
              "      <td>43615</td>\n",
              "      <td>East</td>\n",
              "      <td>TEC-PH-10004977</td>\n",
              "      <td>Technology</td>\n",
              "      <td>Phones</td>\n",
              "      <td>GE 30524EE4</td>\n",
              "      <td>235.1880</td>\n",
              "    </tr>\n",
              "    <tr>\n",
              "      <th>9798</th>\n",
              "      <td>9799</td>\n",
              "      <td>CA-2016-128608</td>\n",
              "      <td>2016-01-12</td>\n",
              "      <td>2016-01-17</td>\n",
              "      <td>Standard Class</td>\n",
              "      <td>CS-12490</td>\n",
              "      <td>Cindy Schnelling</td>\n",
              "      <td>Corporate</td>\n",
              "      <td>United States</td>\n",
              "      <td>Toledo</td>\n",
              "      <td>Ohio</td>\n",
              "      <td>43615</td>\n",
              "      <td>East</td>\n",
              "      <td>TEC-PH-10000912</td>\n",
              "      <td>Technology</td>\n",
              "      <td>Phones</td>\n",
              "      <td>Anker 24W Portable Micro USB Car Charger</td>\n",
              "      <td>26.3760</td>\n",
              "    </tr>\n",
              "    <tr>\n",
              "      <th>9799</th>\n",
              "      <td>9800</td>\n",
              "      <td>CA-2016-128608</td>\n",
              "      <td>2016-01-12</td>\n",
              "      <td>2016-01-17</td>\n",
              "      <td>Standard Class</td>\n",
              "      <td>CS-12490</td>\n",
              "      <td>Cindy Schnelling</td>\n",
              "      <td>Corporate</td>\n",
              "      <td>United States</td>\n",
              "      <td>Toledo</td>\n",
              "      <td>Ohio</td>\n",
              "      <td>43615</td>\n",
              "      <td>East</td>\n",
              "      <td>TEC-AC-10000487</td>\n",
              "      <td>Technology</td>\n",
              "      <td>Accessories</td>\n",
              "      <td>SanDisk Cruzer 4 GB USB Flash Drive</td>\n",
              "      <td>10.3840</td>\n",
              "    </tr>\n",
              "  </tbody>\n",
              "</table>\n",
              "<p>9800 rows × 18 columns</p>\n",
              "</div>\n",
              "      <button class=\"colab-df-convert\" onclick=\"convertToInteractive('df-3fa1550a-b5b2-468e-8186-7dc13500b5f7')\"\n",
              "              title=\"Convert this dataframe to an interactive table.\"\n",
              "              style=\"display:none;\">\n",
              "        \n",
              "  <svg xmlns=\"http://www.w3.org/2000/svg\" height=\"24px\"viewBox=\"0 0 24 24\"\n",
              "       width=\"24px\">\n",
              "    <path d=\"M0 0h24v24H0V0z\" fill=\"none\"/>\n",
              "    <path d=\"M18.56 5.44l.94 2.06.94-2.06 2.06-.94-2.06-.94-.94-2.06-.94 2.06-2.06.94zm-11 1L8.5 8.5l.94-2.06 2.06-.94-2.06-.94L8.5 2.5l-.94 2.06-2.06.94zm10 10l.94 2.06.94-2.06 2.06-.94-2.06-.94-.94-2.06-.94 2.06-2.06.94z\"/><path d=\"M17.41 7.96l-1.37-1.37c-.4-.4-.92-.59-1.43-.59-.52 0-1.04.2-1.43.59L10.3 9.45l-7.72 7.72c-.78.78-.78 2.05 0 2.83L4 21.41c.39.39.9.59 1.41.59.51 0 1.02-.2 1.41-.59l7.78-7.78 2.81-2.81c.8-.78.8-2.07 0-2.86zM5.41 20L4 18.59l7.72-7.72 1.47 1.35L5.41 20z\"/>\n",
              "  </svg>\n",
              "      </button>\n",
              "      \n",
              "  <style>\n",
              "    .colab-df-container {\n",
              "      display:flex;\n",
              "      flex-wrap:wrap;\n",
              "      gap: 12px;\n",
              "    }\n",
              "\n",
              "    .colab-df-convert {\n",
              "      background-color: #E8F0FE;\n",
              "      border: none;\n",
              "      border-radius: 50%;\n",
              "      cursor: pointer;\n",
              "      display: none;\n",
              "      fill: #1967D2;\n",
              "      height: 32px;\n",
              "      padding: 0 0 0 0;\n",
              "      width: 32px;\n",
              "    }\n",
              "\n",
              "    .colab-df-convert:hover {\n",
              "      background-color: #E2EBFA;\n",
              "      box-shadow: 0px 1px 2px rgba(60, 64, 67, 0.3), 0px 1px 3px 1px rgba(60, 64, 67, 0.15);\n",
              "      fill: #174EA6;\n",
              "    }\n",
              "\n",
              "    [theme=dark] .colab-df-convert {\n",
              "      background-color: #3B4455;\n",
              "      fill: #D2E3FC;\n",
              "    }\n",
              "\n",
              "    [theme=dark] .colab-df-convert:hover {\n",
              "      background-color: #434B5C;\n",
              "      box-shadow: 0px 1px 3px 1px rgba(0, 0, 0, 0.15);\n",
              "      filter: drop-shadow(0px 1px 2px rgba(0, 0, 0, 0.3));\n",
              "      fill: #FFFFFF;\n",
              "    }\n",
              "  </style>\n",
              "\n",
              "      <script>\n",
              "        const buttonEl =\n",
              "          document.querySelector('#df-3fa1550a-b5b2-468e-8186-7dc13500b5f7 button.colab-df-convert');\n",
              "        buttonEl.style.display =\n",
              "          google.colab.kernel.accessAllowed ? 'block' : 'none';\n",
              "\n",
              "        async function convertToInteractive(key) {\n",
              "          const element = document.querySelector('#df-3fa1550a-b5b2-468e-8186-7dc13500b5f7');\n",
              "          const dataTable =\n",
              "            await google.colab.kernel.invokeFunction('convertToInteractive',\n",
              "                                                     [key], {});\n",
              "          if (!dataTable) return;\n",
              "\n",
              "          const docLinkHtml = 'Like what you see? Visit the ' +\n",
              "            '<a target=\"_blank\" href=https://colab.research.google.com/notebooks/data_table.ipynb>data table notebook</a>'\n",
              "            + ' to learn more about interactive tables.';\n",
              "          element.innerHTML = '';\n",
              "          dataTable['output_type'] = 'display_data';\n",
              "          await google.colab.output.renderOutput(dataTable, element);\n",
              "          const docLink = document.createElement('div');\n",
              "          docLink.innerHTML = docLinkHtml;\n",
              "          element.appendChild(docLink);\n",
              "        }\n",
              "      </script>\n",
              "    </div>\n",
              "  </div>\n",
              "  "
            ]
          },
          "metadata": {},
          "execution_count": 56
        }
      ]
    },
    {
      "cell_type": "markdown",
      "source": [
        "#**YC2: Vẽ biểu đồ thể hiện biến động doanh số theo tháng. Cho biết doanh thu trung bình trong 3 tháng gần nhất.**"
      ],
      "metadata": {
        "id": "GgL3rpsFUD-x"
      }
    },
    {
      "cell_type": "markdown",
      "source": [
        "Tính toán dữ liệu"
      ],
      "metadata": {
        "id": "7IPrTDyMdqTk"
      }
    },
    {
      "cell_type": "code",
      "source": [
        "g = train\n",
        "per = train.Order_Date.dt.to_period(\"M\")\n",
        "g = g.groupby(per)[\"Sales\"].sum()\n",
        "g"
      ],
      "metadata": {
        "id": "czZtwD1RUMYE",
        "colab": {
          "base_uri": "https://localhost:8080/"
        },
        "outputId": "9c669c98-3e14-4a07-8fc1-f3037a7a2275"
      },
      "execution_count": null,
      "outputs": [
        {
          "output_type": "execute_result",
          "data": {
            "text/plain": [
              "Order_Date\n",
              "2015-01     14205.7070\n",
              "2015-02      4519.8920\n",
              "2015-03     55205.7970\n",
              "2015-04     27906.8550\n",
              "2015-05     23644.3030\n",
              "2015-06     34322.9356\n",
              "2015-07     33781.5430\n",
              "2015-08     27117.5365\n",
              "2015-09     81623.5268\n",
              "2015-10     31453.3930\n",
              "2015-11     77907.6607\n",
              "2015-12     68167.0585\n",
              "2016-01     18066.9576\n",
              "2016-02     11951.4110\n",
              "2016-03     32339.3184\n",
              "2016-04     34154.4685\n",
              "2016-05     29959.5305\n",
              "2016-06     23599.3740\n",
              "2016-07     28608.2590\n",
              "2016-08     36818.3422\n",
              "2016-09     63133.6060\n",
              "2016-10     31011.7375\n",
              "2016-11     75249.3995\n",
              "2016-12     74543.6012\n",
              "2017-01     18542.4910\n",
              "2017-02     22978.8150\n",
              "2017-03     51165.0590\n",
              "2017-04     38679.7670\n",
              "2017-05     56656.9080\n",
              "2017-06     39724.4860\n",
              "2017-07     38320.7830\n",
              "2017-08     30542.2003\n",
              "2017-09     69193.3909\n",
              "2017-10     59583.0330\n",
              "2017-11     79066.4958\n",
              "2017-12     95739.1210\n",
              "2018-01     43476.4740\n",
              "2018-02     19920.9974\n",
              "2018-03     58863.4128\n",
              "2018-04     35541.9101\n",
              "2018-05     43825.9822\n",
              "2018-06     48190.7277\n",
              "2018-07     44825.1040\n",
              "2018-08     62837.8480\n",
              "2018-09     86152.8880\n",
              "2018-10     77448.1312\n",
              "2018-11    117938.1550\n",
              "2018-12     83030.3888\n",
              "Freq: M, Name: Sales, dtype: float64"
            ]
          },
          "metadata": {},
          "execution_count": 57
        }
      ]
    },
    {
      "cell_type": "code",
      "source": [
        "fig = px.bar(g, x=g.index.strftime('%b-%Y'),y = \"Sales\")\n",
        "fig.show()"
      ],
      "metadata": {
        "colab": {
          "base_uri": "https://localhost:8080/",
          "height": 542
        },
        "id": "wZsHcfcmdvv-",
        "outputId": "20acb700-532d-4135-90c4-107c2d3d5300"
      },
      "execution_count": null,
      "outputs": [
        {
          "output_type": "display_data",
          "data": {
            "text/html": [
              "<html>\n",
              "<head><meta charset=\"utf-8\" /></head>\n",
              "<body>\n",
              "    <div>            <script src=\"https://cdnjs.cloudflare.com/ajax/libs/mathjax/2.7.5/MathJax.js?config=TeX-AMS-MML_SVG\"></script><script type=\"text/javascript\">if (window.MathJax) {MathJax.Hub.Config({SVG: {font: \"STIX-Web\"}});}</script>                <script type=\"text/javascript\">window.PlotlyConfig = {MathJaxConfig: 'local'};</script>\n",
              "        <script src=\"https://cdn.plot.ly/plotly-2.8.3.min.js\"></script>                <div id=\"35499bc4-236d-4404-a78f-1cb3d01906a9\" class=\"plotly-graph-div\" style=\"height:525px; width:100%;\"></div>            <script type=\"text/javascript\">                                    window.PLOTLYENV=window.PLOTLYENV || {};                                    if (document.getElementById(\"35499bc4-236d-4404-a78f-1cb3d01906a9\")) {                    Plotly.newPlot(                        \"35499bc4-236d-4404-a78f-1cb3d01906a9\",                        [{\"alignmentgroup\":\"True\",\"hovertemplate\":\"x=%{x}<br>Sales=%{y}<extra></extra>\",\"legendgroup\":\"\",\"marker\":{\"color\":\"#636efa\",\"pattern\":{\"shape\":\"\"}},\"name\":\"\",\"offsetgroup\":\"\",\"orientation\":\"v\",\"showlegend\":false,\"textposition\":\"auto\",\"x\":[\"Jan-2015\",\"Feb-2015\",\"Mar-2015\",\"Apr-2015\",\"May-2015\",\"Jun-2015\",\"Jul-2015\",\"Aug-2015\",\"Sep-2015\",\"Oct-2015\",\"Nov-2015\",\"Dec-2015\",\"Jan-2016\",\"Feb-2016\",\"Mar-2016\",\"Apr-2016\",\"May-2016\",\"Jun-2016\",\"Jul-2016\",\"Aug-2016\",\"Sep-2016\",\"Oct-2016\",\"Nov-2016\",\"Dec-2016\",\"Jan-2017\",\"Feb-2017\",\"Mar-2017\",\"Apr-2017\",\"May-2017\",\"Jun-2017\",\"Jul-2017\",\"Aug-2017\",\"Sep-2017\",\"Oct-2017\",\"Nov-2017\",\"Dec-2017\",\"Jan-2018\",\"Feb-2018\",\"Mar-2018\",\"Apr-2018\",\"May-2018\",\"Jun-2018\",\"Jul-2018\",\"Aug-2018\",\"Sep-2018\",\"Oct-2018\",\"Nov-2018\",\"Dec-2018\"],\"xaxis\":\"x\",\"y\":[14205.707,4519.892,55205.797,27906.855,23644.303,34322.9356,33781.543,27117.5365,81623.5268,31453.393,77907.66070000001,68167.0585,18066.9576,11951.411,32339.3184,34154.4685,29959.5305,23599.374,28608.259000000002,36818.3422,63133.606,31011.7375,75249.3995,74543.6012,18542.490999999998,22978.815,51165.059,38679.767,56656.908,39724.486,38320.783,30542.2003,69193.3909,59583.033,79066.4958,95739.121,43476.474,19920.9974,58863.4128,35541.9101,43825.9822,48190.7277,44825.104,62837.848,86152.888,77448.1312,117938.155,83030.3888],\"yaxis\":\"y\",\"type\":\"bar\"}],                        {\"template\":{\"data\":{\"bar\":[{\"error_x\":{\"color\":\"#2a3f5f\"},\"error_y\":{\"color\":\"#2a3f5f\"},\"marker\":{\"line\":{\"color\":\"#E5ECF6\",\"width\":0.5},\"pattern\":{\"fillmode\":\"overlay\",\"size\":10,\"solidity\":0.2}},\"type\":\"bar\"}],\"barpolar\":[{\"marker\":{\"line\":{\"color\":\"#E5ECF6\",\"width\":0.5},\"pattern\":{\"fillmode\":\"overlay\",\"size\":10,\"solidity\":0.2}},\"type\":\"barpolar\"}],\"carpet\":[{\"aaxis\":{\"endlinecolor\":\"#2a3f5f\",\"gridcolor\":\"white\",\"linecolor\":\"white\",\"minorgridcolor\":\"white\",\"startlinecolor\":\"#2a3f5f\"},\"baxis\":{\"endlinecolor\":\"#2a3f5f\",\"gridcolor\":\"white\",\"linecolor\":\"white\",\"minorgridcolor\":\"white\",\"startlinecolor\":\"#2a3f5f\"},\"type\":\"carpet\"}],\"choropleth\":[{\"colorbar\":{\"outlinewidth\":0,\"ticks\":\"\"},\"type\":\"choropleth\"}],\"contour\":[{\"colorbar\":{\"outlinewidth\":0,\"ticks\":\"\"},\"colorscale\":[[0.0,\"#0d0887\"],[0.1111111111111111,\"#46039f\"],[0.2222222222222222,\"#7201a8\"],[0.3333333333333333,\"#9c179e\"],[0.4444444444444444,\"#bd3786\"],[0.5555555555555556,\"#d8576b\"],[0.6666666666666666,\"#ed7953\"],[0.7777777777777778,\"#fb9f3a\"],[0.8888888888888888,\"#fdca26\"],[1.0,\"#f0f921\"]],\"type\":\"contour\"}],\"contourcarpet\":[{\"colorbar\":{\"outlinewidth\":0,\"ticks\":\"\"},\"type\":\"contourcarpet\"}],\"heatmap\":[{\"colorbar\":{\"outlinewidth\":0,\"ticks\":\"\"},\"colorscale\":[[0.0,\"#0d0887\"],[0.1111111111111111,\"#46039f\"],[0.2222222222222222,\"#7201a8\"],[0.3333333333333333,\"#9c179e\"],[0.4444444444444444,\"#bd3786\"],[0.5555555555555556,\"#d8576b\"],[0.6666666666666666,\"#ed7953\"],[0.7777777777777778,\"#fb9f3a\"],[0.8888888888888888,\"#fdca26\"],[1.0,\"#f0f921\"]],\"type\":\"heatmap\"}],\"heatmapgl\":[{\"colorbar\":{\"outlinewidth\":0,\"ticks\":\"\"},\"colorscale\":[[0.0,\"#0d0887\"],[0.1111111111111111,\"#46039f\"],[0.2222222222222222,\"#7201a8\"],[0.3333333333333333,\"#9c179e\"],[0.4444444444444444,\"#bd3786\"],[0.5555555555555556,\"#d8576b\"],[0.6666666666666666,\"#ed7953\"],[0.7777777777777778,\"#fb9f3a\"],[0.8888888888888888,\"#fdca26\"],[1.0,\"#f0f921\"]],\"type\":\"heatmapgl\"}],\"histogram\":[{\"marker\":{\"pattern\":{\"fillmode\":\"overlay\",\"size\":10,\"solidity\":0.2}},\"type\":\"histogram\"}],\"histogram2d\":[{\"colorbar\":{\"outlinewidth\":0,\"ticks\":\"\"},\"colorscale\":[[0.0,\"#0d0887\"],[0.1111111111111111,\"#46039f\"],[0.2222222222222222,\"#7201a8\"],[0.3333333333333333,\"#9c179e\"],[0.4444444444444444,\"#bd3786\"],[0.5555555555555556,\"#d8576b\"],[0.6666666666666666,\"#ed7953\"],[0.7777777777777778,\"#fb9f3a\"],[0.8888888888888888,\"#fdca26\"],[1.0,\"#f0f921\"]],\"type\":\"histogram2d\"}],\"histogram2dcontour\":[{\"colorbar\":{\"outlinewidth\":0,\"ticks\":\"\"},\"colorscale\":[[0.0,\"#0d0887\"],[0.1111111111111111,\"#46039f\"],[0.2222222222222222,\"#7201a8\"],[0.3333333333333333,\"#9c179e\"],[0.4444444444444444,\"#bd3786\"],[0.5555555555555556,\"#d8576b\"],[0.6666666666666666,\"#ed7953\"],[0.7777777777777778,\"#fb9f3a\"],[0.8888888888888888,\"#fdca26\"],[1.0,\"#f0f921\"]],\"type\":\"histogram2dcontour\"}],\"mesh3d\":[{\"colorbar\":{\"outlinewidth\":0,\"ticks\":\"\"},\"type\":\"mesh3d\"}],\"parcoords\":[{\"line\":{\"colorbar\":{\"outlinewidth\":0,\"ticks\":\"\"}},\"type\":\"parcoords\"}],\"pie\":[{\"automargin\":true,\"type\":\"pie\"}],\"scatter\":[{\"marker\":{\"colorbar\":{\"outlinewidth\":0,\"ticks\":\"\"}},\"type\":\"scatter\"}],\"scatter3d\":[{\"line\":{\"colorbar\":{\"outlinewidth\":0,\"ticks\":\"\"}},\"marker\":{\"colorbar\":{\"outlinewidth\":0,\"ticks\":\"\"}},\"type\":\"scatter3d\"}],\"scattercarpet\":[{\"marker\":{\"colorbar\":{\"outlinewidth\":0,\"ticks\":\"\"}},\"type\":\"scattercarpet\"}],\"scattergeo\":[{\"marker\":{\"colorbar\":{\"outlinewidth\":0,\"ticks\":\"\"}},\"type\":\"scattergeo\"}],\"scattergl\":[{\"marker\":{\"colorbar\":{\"outlinewidth\":0,\"ticks\":\"\"}},\"type\":\"scattergl\"}],\"scattermapbox\":[{\"marker\":{\"colorbar\":{\"outlinewidth\":0,\"ticks\":\"\"}},\"type\":\"scattermapbox\"}],\"scatterpolar\":[{\"marker\":{\"colorbar\":{\"outlinewidth\":0,\"ticks\":\"\"}},\"type\":\"scatterpolar\"}],\"scatterpolargl\":[{\"marker\":{\"colorbar\":{\"outlinewidth\":0,\"ticks\":\"\"}},\"type\":\"scatterpolargl\"}],\"scatterternary\":[{\"marker\":{\"colorbar\":{\"outlinewidth\":0,\"ticks\":\"\"}},\"type\":\"scatterternary\"}],\"surface\":[{\"colorbar\":{\"outlinewidth\":0,\"ticks\":\"\"},\"colorscale\":[[0.0,\"#0d0887\"],[0.1111111111111111,\"#46039f\"],[0.2222222222222222,\"#7201a8\"],[0.3333333333333333,\"#9c179e\"],[0.4444444444444444,\"#bd3786\"],[0.5555555555555556,\"#d8576b\"],[0.6666666666666666,\"#ed7953\"],[0.7777777777777778,\"#fb9f3a\"],[0.8888888888888888,\"#fdca26\"],[1.0,\"#f0f921\"]],\"type\":\"surface\"}],\"table\":[{\"cells\":{\"fill\":{\"color\":\"#EBF0F8\"},\"line\":{\"color\":\"white\"}},\"header\":{\"fill\":{\"color\":\"#C8D4E3\"},\"line\":{\"color\":\"white\"}},\"type\":\"table\"}]},\"layout\":{\"annotationdefaults\":{\"arrowcolor\":\"#2a3f5f\",\"arrowhead\":0,\"arrowwidth\":1},\"autotypenumbers\":\"strict\",\"coloraxis\":{\"colorbar\":{\"outlinewidth\":0,\"ticks\":\"\"}},\"colorscale\":{\"diverging\":[[0,\"#8e0152\"],[0.1,\"#c51b7d\"],[0.2,\"#de77ae\"],[0.3,\"#f1b6da\"],[0.4,\"#fde0ef\"],[0.5,\"#f7f7f7\"],[0.6,\"#e6f5d0\"],[0.7,\"#b8e186\"],[0.8,\"#7fbc41\"],[0.9,\"#4d9221\"],[1,\"#276419\"]],\"sequential\":[[0.0,\"#0d0887\"],[0.1111111111111111,\"#46039f\"],[0.2222222222222222,\"#7201a8\"],[0.3333333333333333,\"#9c179e\"],[0.4444444444444444,\"#bd3786\"],[0.5555555555555556,\"#d8576b\"],[0.6666666666666666,\"#ed7953\"],[0.7777777777777778,\"#fb9f3a\"],[0.8888888888888888,\"#fdca26\"],[1.0,\"#f0f921\"]],\"sequentialminus\":[[0.0,\"#0d0887\"],[0.1111111111111111,\"#46039f\"],[0.2222222222222222,\"#7201a8\"],[0.3333333333333333,\"#9c179e\"],[0.4444444444444444,\"#bd3786\"],[0.5555555555555556,\"#d8576b\"],[0.6666666666666666,\"#ed7953\"],[0.7777777777777778,\"#fb9f3a\"],[0.8888888888888888,\"#fdca26\"],[1.0,\"#f0f921\"]]},\"colorway\":[\"#636efa\",\"#EF553B\",\"#00cc96\",\"#ab63fa\",\"#FFA15A\",\"#19d3f3\",\"#FF6692\",\"#B6E880\",\"#FF97FF\",\"#FECB52\"],\"font\":{\"color\":\"#2a3f5f\"},\"geo\":{\"bgcolor\":\"white\",\"lakecolor\":\"white\",\"landcolor\":\"#E5ECF6\",\"showlakes\":true,\"showland\":true,\"subunitcolor\":\"white\"},\"hoverlabel\":{\"align\":\"left\"},\"hovermode\":\"closest\",\"mapbox\":{\"style\":\"light\"},\"paper_bgcolor\":\"white\",\"plot_bgcolor\":\"#E5ECF6\",\"polar\":{\"angularaxis\":{\"gridcolor\":\"white\",\"linecolor\":\"white\",\"ticks\":\"\"},\"bgcolor\":\"#E5ECF6\",\"radialaxis\":{\"gridcolor\":\"white\",\"linecolor\":\"white\",\"ticks\":\"\"}},\"scene\":{\"xaxis\":{\"backgroundcolor\":\"#E5ECF6\",\"gridcolor\":\"white\",\"gridwidth\":2,\"linecolor\":\"white\",\"showbackground\":true,\"ticks\":\"\",\"zerolinecolor\":\"white\"},\"yaxis\":{\"backgroundcolor\":\"#E5ECF6\",\"gridcolor\":\"white\",\"gridwidth\":2,\"linecolor\":\"white\",\"showbackground\":true,\"ticks\":\"\",\"zerolinecolor\":\"white\"},\"zaxis\":{\"backgroundcolor\":\"#E5ECF6\",\"gridcolor\":\"white\",\"gridwidth\":2,\"linecolor\":\"white\",\"showbackground\":true,\"ticks\":\"\",\"zerolinecolor\":\"white\"}},\"shapedefaults\":{\"line\":{\"color\":\"#2a3f5f\"}},\"ternary\":{\"aaxis\":{\"gridcolor\":\"white\",\"linecolor\":\"white\",\"ticks\":\"\"},\"baxis\":{\"gridcolor\":\"white\",\"linecolor\":\"white\",\"ticks\":\"\"},\"bgcolor\":\"#E5ECF6\",\"caxis\":{\"gridcolor\":\"white\",\"linecolor\":\"white\",\"ticks\":\"\"}},\"title\":{\"x\":0.05},\"xaxis\":{\"automargin\":true,\"gridcolor\":\"white\",\"linecolor\":\"white\",\"ticks\":\"\",\"title\":{\"standoff\":15},\"zerolinecolor\":\"white\",\"zerolinewidth\":2},\"yaxis\":{\"automargin\":true,\"gridcolor\":\"white\",\"linecolor\":\"white\",\"ticks\":\"\",\"title\":{\"standoff\":15},\"zerolinecolor\":\"white\",\"zerolinewidth\":2}}},\"xaxis\":{\"anchor\":\"y\",\"domain\":[0.0,1.0],\"title\":{\"text\":\"x\"}},\"yaxis\":{\"anchor\":\"x\",\"domain\":[0.0,1.0],\"title\":{\"text\":\"Sales\"}},\"legend\":{\"tracegroupgap\":0},\"margin\":{\"t\":60},\"barmode\":\"relative\"},                        {\"responsive\": true}                    ).then(function(){\n",
              "                            \n",
              "var gd = document.getElementById('35499bc4-236d-4404-a78f-1cb3d01906a9');\n",
              "var x = new MutationObserver(function (mutations, observer) {{\n",
              "        var display = window.getComputedStyle(gd).display;\n",
              "        if (!display || display === 'none') {{\n",
              "            console.log([gd, 'removed!']);\n",
              "            Plotly.purge(gd);\n",
              "            observer.disconnect();\n",
              "        }}\n",
              "}});\n",
              "\n",
              "// Listen for the removal of the full notebook cells\n",
              "var notebookContainer = gd.closest('#notebook-container');\n",
              "if (notebookContainer) {{\n",
              "    x.observe(notebookContainer, {childList: true});\n",
              "}}\n",
              "\n",
              "// Listen for the clearing of the current output cell\n",
              "var outputEl = gd.closest('.output');\n",
              "if (outputEl) {{\n",
              "    x.observe(outputEl, {childList: true});\n",
              "}}\n",
              "\n",
              "                        })                };                            </script>        </div>\n",
              "</body>\n",
              "</html>"
            ]
          },
          "metadata": {}
        }
      ]
    },
    {
      "cell_type": "code",
      "source": [
        "fig = px.line(g, x=g.index.strftime('%b-%Y'),y = \"Sales\")\n",
        "fig.show()"
      ],
      "metadata": {
        "colab": {
          "base_uri": "https://localhost:8080/",
          "height": 542
        },
        "id": "_zGwiOAze6RR",
        "outputId": "317f2494-1934-4b54-a195-f1d119e1fff6"
      },
      "execution_count": null,
      "outputs": [
        {
          "output_type": "display_data",
          "data": {
            "text/html": [
              "<html>\n",
              "<head><meta charset=\"utf-8\" /></head>\n",
              "<body>\n",
              "    <div>            <script src=\"https://cdnjs.cloudflare.com/ajax/libs/mathjax/2.7.5/MathJax.js?config=TeX-AMS-MML_SVG\"></script><script type=\"text/javascript\">if (window.MathJax) {MathJax.Hub.Config({SVG: {font: \"STIX-Web\"}});}</script>                <script type=\"text/javascript\">window.PlotlyConfig = {MathJaxConfig: 'local'};</script>\n",
              "        <script src=\"https://cdn.plot.ly/plotly-2.8.3.min.js\"></script>                <div id=\"9fe063b9-4d95-4ab0-9d9c-56b15f544165\" class=\"plotly-graph-div\" style=\"height:525px; width:100%;\"></div>            <script type=\"text/javascript\">                                    window.PLOTLYENV=window.PLOTLYENV || {};                                    if (document.getElementById(\"9fe063b9-4d95-4ab0-9d9c-56b15f544165\")) {                    Plotly.newPlot(                        \"9fe063b9-4d95-4ab0-9d9c-56b15f544165\",                        [{\"hovertemplate\":\"x=%{x}<br>Sales=%{y}<extra></extra>\",\"legendgroup\":\"\",\"line\":{\"color\":\"#636efa\",\"dash\":\"solid\"},\"marker\":{\"symbol\":\"circle\"},\"mode\":\"lines\",\"name\":\"\",\"orientation\":\"v\",\"showlegend\":false,\"x\":[\"Jan-2015\",\"Feb-2015\",\"Mar-2015\",\"Apr-2015\",\"May-2015\",\"Jun-2015\",\"Jul-2015\",\"Aug-2015\",\"Sep-2015\",\"Oct-2015\",\"Nov-2015\",\"Dec-2015\",\"Jan-2016\",\"Feb-2016\",\"Mar-2016\",\"Apr-2016\",\"May-2016\",\"Jun-2016\",\"Jul-2016\",\"Aug-2016\",\"Sep-2016\",\"Oct-2016\",\"Nov-2016\",\"Dec-2016\",\"Jan-2017\",\"Feb-2017\",\"Mar-2017\",\"Apr-2017\",\"May-2017\",\"Jun-2017\",\"Jul-2017\",\"Aug-2017\",\"Sep-2017\",\"Oct-2017\",\"Nov-2017\",\"Dec-2017\",\"Jan-2018\",\"Feb-2018\",\"Mar-2018\",\"Apr-2018\",\"May-2018\",\"Jun-2018\",\"Jul-2018\",\"Aug-2018\",\"Sep-2018\",\"Oct-2018\",\"Nov-2018\",\"Dec-2018\"],\"xaxis\":\"x\",\"y\":[14205.707,4519.892,55205.797,27906.855,23644.303,34322.9356,33781.543,27117.5365,81623.5268,31453.393,77907.66070000001,68167.0585,18066.9576,11951.411,32339.3184,34154.4685,29959.5305,23599.374,28608.259000000002,36818.3422,63133.606,31011.7375,75249.3995,74543.6012,18542.490999999998,22978.815,51165.059,38679.767,56656.908,39724.486,38320.783,30542.2003,69193.3909,59583.033,79066.4958,95739.121,43476.474,19920.9974,58863.4128,35541.9101,43825.9822,48190.7277,44825.104,62837.848,86152.888,77448.1312,117938.155,83030.3888],\"yaxis\":\"y\",\"type\":\"scatter\"}],                        {\"template\":{\"data\":{\"bar\":[{\"error_x\":{\"color\":\"#2a3f5f\"},\"error_y\":{\"color\":\"#2a3f5f\"},\"marker\":{\"line\":{\"color\":\"#E5ECF6\",\"width\":0.5},\"pattern\":{\"fillmode\":\"overlay\",\"size\":10,\"solidity\":0.2}},\"type\":\"bar\"}],\"barpolar\":[{\"marker\":{\"line\":{\"color\":\"#E5ECF6\",\"width\":0.5},\"pattern\":{\"fillmode\":\"overlay\",\"size\":10,\"solidity\":0.2}},\"type\":\"barpolar\"}],\"carpet\":[{\"aaxis\":{\"endlinecolor\":\"#2a3f5f\",\"gridcolor\":\"white\",\"linecolor\":\"white\",\"minorgridcolor\":\"white\",\"startlinecolor\":\"#2a3f5f\"},\"baxis\":{\"endlinecolor\":\"#2a3f5f\",\"gridcolor\":\"white\",\"linecolor\":\"white\",\"minorgridcolor\":\"white\",\"startlinecolor\":\"#2a3f5f\"},\"type\":\"carpet\"}],\"choropleth\":[{\"colorbar\":{\"outlinewidth\":0,\"ticks\":\"\"},\"type\":\"choropleth\"}],\"contour\":[{\"colorbar\":{\"outlinewidth\":0,\"ticks\":\"\"},\"colorscale\":[[0.0,\"#0d0887\"],[0.1111111111111111,\"#46039f\"],[0.2222222222222222,\"#7201a8\"],[0.3333333333333333,\"#9c179e\"],[0.4444444444444444,\"#bd3786\"],[0.5555555555555556,\"#d8576b\"],[0.6666666666666666,\"#ed7953\"],[0.7777777777777778,\"#fb9f3a\"],[0.8888888888888888,\"#fdca26\"],[1.0,\"#f0f921\"]],\"type\":\"contour\"}],\"contourcarpet\":[{\"colorbar\":{\"outlinewidth\":0,\"ticks\":\"\"},\"type\":\"contourcarpet\"}],\"heatmap\":[{\"colorbar\":{\"outlinewidth\":0,\"ticks\":\"\"},\"colorscale\":[[0.0,\"#0d0887\"],[0.1111111111111111,\"#46039f\"],[0.2222222222222222,\"#7201a8\"],[0.3333333333333333,\"#9c179e\"],[0.4444444444444444,\"#bd3786\"],[0.5555555555555556,\"#d8576b\"],[0.6666666666666666,\"#ed7953\"],[0.7777777777777778,\"#fb9f3a\"],[0.8888888888888888,\"#fdca26\"],[1.0,\"#f0f921\"]],\"type\":\"heatmap\"}],\"heatmapgl\":[{\"colorbar\":{\"outlinewidth\":0,\"ticks\":\"\"},\"colorscale\":[[0.0,\"#0d0887\"],[0.1111111111111111,\"#46039f\"],[0.2222222222222222,\"#7201a8\"],[0.3333333333333333,\"#9c179e\"],[0.4444444444444444,\"#bd3786\"],[0.5555555555555556,\"#d8576b\"],[0.6666666666666666,\"#ed7953\"],[0.7777777777777778,\"#fb9f3a\"],[0.8888888888888888,\"#fdca26\"],[1.0,\"#f0f921\"]],\"type\":\"heatmapgl\"}],\"histogram\":[{\"marker\":{\"pattern\":{\"fillmode\":\"overlay\",\"size\":10,\"solidity\":0.2}},\"type\":\"histogram\"}],\"histogram2d\":[{\"colorbar\":{\"outlinewidth\":0,\"ticks\":\"\"},\"colorscale\":[[0.0,\"#0d0887\"],[0.1111111111111111,\"#46039f\"],[0.2222222222222222,\"#7201a8\"],[0.3333333333333333,\"#9c179e\"],[0.4444444444444444,\"#bd3786\"],[0.5555555555555556,\"#d8576b\"],[0.6666666666666666,\"#ed7953\"],[0.7777777777777778,\"#fb9f3a\"],[0.8888888888888888,\"#fdca26\"],[1.0,\"#f0f921\"]],\"type\":\"histogram2d\"}],\"histogram2dcontour\":[{\"colorbar\":{\"outlinewidth\":0,\"ticks\":\"\"},\"colorscale\":[[0.0,\"#0d0887\"],[0.1111111111111111,\"#46039f\"],[0.2222222222222222,\"#7201a8\"],[0.3333333333333333,\"#9c179e\"],[0.4444444444444444,\"#bd3786\"],[0.5555555555555556,\"#d8576b\"],[0.6666666666666666,\"#ed7953\"],[0.7777777777777778,\"#fb9f3a\"],[0.8888888888888888,\"#fdca26\"],[1.0,\"#f0f921\"]],\"type\":\"histogram2dcontour\"}],\"mesh3d\":[{\"colorbar\":{\"outlinewidth\":0,\"ticks\":\"\"},\"type\":\"mesh3d\"}],\"parcoords\":[{\"line\":{\"colorbar\":{\"outlinewidth\":0,\"ticks\":\"\"}},\"type\":\"parcoords\"}],\"pie\":[{\"automargin\":true,\"type\":\"pie\"}],\"scatter\":[{\"marker\":{\"colorbar\":{\"outlinewidth\":0,\"ticks\":\"\"}},\"type\":\"scatter\"}],\"scatter3d\":[{\"line\":{\"colorbar\":{\"outlinewidth\":0,\"ticks\":\"\"}},\"marker\":{\"colorbar\":{\"outlinewidth\":0,\"ticks\":\"\"}},\"type\":\"scatter3d\"}],\"scattercarpet\":[{\"marker\":{\"colorbar\":{\"outlinewidth\":0,\"ticks\":\"\"}},\"type\":\"scattercarpet\"}],\"scattergeo\":[{\"marker\":{\"colorbar\":{\"outlinewidth\":0,\"ticks\":\"\"}},\"type\":\"scattergeo\"}],\"scattergl\":[{\"marker\":{\"colorbar\":{\"outlinewidth\":0,\"ticks\":\"\"}},\"type\":\"scattergl\"}],\"scattermapbox\":[{\"marker\":{\"colorbar\":{\"outlinewidth\":0,\"ticks\":\"\"}},\"type\":\"scattermapbox\"}],\"scatterpolar\":[{\"marker\":{\"colorbar\":{\"outlinewidth\":0,\"ticks\":\"\"}},\"type\":\"scatterpolar\"}],\"scatterpolargl\":[{\"marker\":{\"colorbar\":{\"outlinewidth\":0,\"ticks\":\"\"}},\"type\":\"scatterpolargl\"}],\"scatterternary\":[{\"marker\":{\"colorbar\":{\"outlinewidth\":0,\"ticks\":\"\"}},\"type\":\"scatterternary\"}],\"surface\":[{\"colorbar\":{\"outlinewidth\":0,\"ticks\":\"\"},\"colorscale\":[[0.0,\"#0d0887\"],[0.1111111111111111,\"#46039f\"],[0.2222222222222222,\"#7201a8\"],[0.3333333333333333,\"#9c179e\"],[0.4444444444444444,\"#bd3786\"],[0.5555555555555556,\"#d8576b\"],[0.6666666666666666,\"#ed7953\"],[0.7777777777777778,\"#fb9f3a\"],[0.8888888888888888,\"#fdca26\"],[1.0,\"#f0f921\"]],\"type\":\"surface\"}],\"table\":[{\"cells\":{\"fill\":{\"color\":\"#EBF0F8\"},\"line\":{\"color\":\"white\"}},\"header\":{\"fill\":{\"color\":\"#C8D4E3\"},\"line\":{\"color\":\"white\"}},\"type\":\"table\"}]},\"layout\":{\"annotationdefaults\":{\"arrowcolor\":\"#2a3f5f\",\"arrowhead\":0,\"arrowwidth\":1},\"autotypenumbers\":\"strict\",\"coloraxis\":{\"colorbar\":{\"outlinewidth\":0,\"ticks\":\"\"}},\"colorscale\":{\"diverging\":[[0,\"#8e0152\"],[0.1,\"#c51b7d\"],[0.2,\"#de77ae\"],[0.3,\"#f1b6da\"],[0.4,\"#fde0ef\"],[0.5,\"#f7f7f7\"],[0.6,\"#e6f5d0\"],[0.7,\"#b8e186\"],[0.8,\"#7fbc41\"],[0.9,\"#4d9221\"],[1,\"#276419\"]],\"sequential\":[[0.0,\"#0d0887\"],[0.1111111111111111,\"#46039f\"],[0.2222222222222222,\"#7201a8\"],[0.3333333333333333,\"#9c179e\"],[0.4444444444444444,\"#bd3786\"],[0.5555555555555556,\"#d8576b\"],[0.6666666666666666,\"#ed7953\"],[0.7777777777777778,\"#fb9f3a\"],[0.8888888888888888,\"#fdca26\"],[1.0,\"#f0f921\"]],\"sequentialminus\":[[0.0,\"#0d0887\"],[0.1111111111111111,\"#46039f\"],[0.2222222222222222,\"#7201a8\"],[0.3333333333333333,\"#9c179e\"],[0.4444444444444444,\"#bd3786\"],[0.5555555555555556,\"#d8576b\"],[0.6666666666666666,\"#ed7953\"],[0.7777777777777778,\"#fb9f3a\"],[0.8888888888888888,\"#fdca26\"],[1.0,\"#f0f921\"]]},\"colorway\":[\"#636efa\",\"#EF553B\",\"#00cc96\",\"#ab63fa\",\"#FFA15A\",\"#19d3f3\",\"#FF6692\",\"#B6E880\",\"#FF97FF\",\"#FECB52\"],\"font\":{\"color\":\"#2a3f5f\"},\"geo\":{\"bgcolor\":\"white\",\"lakecolor\":\"white\",\"landcolor\":\"#E5ECF6\",\"showlakes\":true,\"showland\":true,\"subunitcolor\":\"white\"},\"hoverlabel\":{\"align\":\"left\"},\"hovermode\":\"closest\",\"mapbox\":{\"style\":\"light\"},\"paper_bgcolor\":\"white\",\"plot_bgcolor\":\"#E5ECF6\",\"polar\":{\"angularaxis\":{\"gridcolor\":\"white\",\"linecolor\":\"white\",\"ticks\":\"\"},\"bgcolor\":\"#E5ECF6\",\"radialaxis\":{\"gridcolor\":\"white\",\"linecolor\":\"white\",\"ticks\":\"\"}},\"scene\":{\"xaxis\":{\"backgroundcolor\":\"#E5ECF6\",\"gridcolor\":\"white\",\"gridwidth\":2,\"linecolor\":\"white\",\"showbackground\":true,\"ticks\":\"\",\"zerolinecolor\":\"white\"},\"yaxis\":{\"backgroundcolor\":\"#E5ECF6\",\"gridcolor\":\"white\",\"gridwidth\":2,\"linecolor\":\"white\",\"showbackground\":true,\"ticks\":\"\",\"zerolinecolor\":\"white\"},\"zaxis\":{\"backgroundcolor\":\"#E5ECF6\",\"gridcolor\":\"white\",\"gridwidth\":2,\"linecolor\":\"white\",\"showbackground\":true,\"ticks\":\"\",\"zerolinecolor\":\"white\"}},\"shapedefaults\":{\"line\":{\"color\":\"#2a3f5f\"}},\"ternary\":{\"aaxis\":{\"gridcolor\":\"white\",\"linecolor\":\"white\",\"ticks\":\"\"},\"baxis\":{\"gridcolor\":\"white\",\"linecolor\":\"white\",\"ticks\":\"\"},\"bgcolor\":\"#E5ECF6\",\"caxis\":{\"gridcolor\":\"white\",\"linecolor\":\"white\",\"ticks\":\"\"}},\"title\":{\"x\":0.05},\"xaxis\":{\"automargin\":true,\"gridcolor\":\"white\",\"linecolor\":\"white\",\"ticks\":\"\",\"title\":{\"standoff\":15},\"zerolinecolor\":\"white\",\"zerolinewidth\":2},\"yaxis\":{\"automargin\":true,\"gridcolor\":\"white\",\"linecolor\":\"white\",\"ticks\":\"\",\"title\":{\"standoff\":15},\"zerolinecolor\":\"white\",\"zerolinewidth\":2}}},\"xaxis\":{\"anchor\":\"y\",\"domain\":[0.0,1.0],\"title\":{\"text\":\"x\"}},\"yaxis\":{\"anchor\":\"x\",\"domain\":[0.0,1.0],\"title\":{\"text\":\"Sales\"}},\"legend\":{\"tracegroupgap\":0},\"margin\":{\"t\":60}},                        {\"responsive\": true}                    ).then(function(){\n",
              "                            \n",
              "var gd = document.getElementById('9fe063b9-4d95-4ab0-9d9c-56b15f544165');\n",
              "var x = new MutationObserver(function (mutations, observer) {{\n",
              "        var display = window.getComputedStyle(gd).display;\n",
              "        if (!display || display === 'none') {{\n",
              "            console.log([gd, 'removed!']);\n",
              "            Plotly.purge(gd);\n",
              "            observer.disconnect();\n",
              "        }}\n",
              "}});\n",
              "\n",
              "// Listen for the removal of the full notebook cells\n",
              "var notebookContainer = gd.closest('#notebook-container');\n",
              "if (notebookContainer) {{\n",
              "    x.observe(notebookContainer, {childList: true});\n",
              "}}\n",
              "\n",
              "// Listen for the clearing of the current output cell\n",
              "var outputEl = gd.closest('.output');\n",
              "if (outputEl) {{\n",
              "    x.observe(outputEl, {childList: true});\n",
              "}}\n",
              "\n",
              "                        })                };                            </script>        </div>\n",
              "</body>\n",
              "</html>"
            ]
          },
          "metadata": {}
        }
      ]
    },
    {
      "cell_type": "markdown",
      "source": [
        "Doanh thu trung bình trong 3 tháng gần nhất."
      ],
      "metadata": {
        "id": "x2sA9i6decol"
      }
    },
    {
      "cell_type": "code",
      "source": [
        "g = train.groupby(per)[\"Sales\"].mean()\n",
        "g[-3:]"
      ],
      "metadata": {
        "colab": {
          "base_uri": "https://localhost:8080/"
        },
        "id": "2bWYrcrveQ4h",
        "outputId": "76a7ce15-66a2-41d6-f34b-283604bdefe1"
      },
      "execution_count": null,
      "outputs": [
        {
          "output_type": "execute_result",
          "data": {
            "text/plain": [
              "Order_Date\n",
              "2018-10    263.429018\n",
              "2018-11    258.636305\n",
              "2018-12    180.894093\n",
              "Freq: M, Name: Sales, dtype: float64"
            ]
          },
          "metadata": {},
          "execution_count": 60
        }
      ]
    },
    {
      "cell_type": "markdown",
      "source": [
        "#**YC3: Vẽ biểu đồ doanh số bán hàng theo quý và cho biết quý nào có tổng doanh số cao nhất?**"
      ],
      "metadata": {
        "id": "jvnJa7Kxctbz"
      }
    },
    {
      "cell_type": "code",
      "source": [
        "per = train.Order_Date.dt.to_period(\"Q\")\n",
        "g = train\n",
        "g = g.groupby(per)[\"Sales\"].sum()\n",
        "g"
      ],
      "metadata": {
        "id": "FrVW4PRbc5dT",
        "colab": {
          "base_uri": "https://localhost:8080/"
        },
        "outputId": "b5d7c59a-877f-440c-9c55-6c2731285ab2"
      },
      "execution_count": null,
      "outputs": [
        {
          "output_type": "execute_result",
          "data": {
            "text/plain": [
              "Order_Date\n",
              "2015Q1     73931.3960\n",
              "2015Q2     85874.0936\n",
              "2015Q3    142522.6063\n",
              "2015Q4    177528.1122\n",
              "2016Q1     62357.6870\n",
              "2016Q2     87713.3730\n",
              "2016Q3    128560.2072\n",
              "2016Q4    180804.7382\n",
              "2017Q1     92686.3650\n",
              "2017Q2    135061.1610\n",
              "2017Q3    138056.3742\n",
              "2017Q4    234388.6498\n",
              "2018Q1    122260.8842\n",
              "2018Q2    127558.6200\n",
              "2018Q3    193815.8400\n",
              "2018Q4    278416.6750\n",
              "Freq: Q-DEC, Name: Sales, dtype: float64"
            ]
          },
          "metadata": {},
          "execution_count": 61
        }
      ]
    },
    {
      "cell_type": "code",
      "source": [
        "fig = px.bar(g, x=g.index.strftime('%q-%Y'),y = \"Sales\")\n",
        "fig.show()"
      ],
      "metadata": {
        "colab": {
          "base_uri": "https://localhost:8080/",
          "height": 542
        },
        "id": "CHHLqfu_elrg",
        "outputId": "6ab0b3bb-4f5b-4254-c516-f38eb0e3b716"
      },
      "execution_count": null,
      "outputs": [
        {
          "output_type": "display_data",
          "data": {
            "text/html": [
              "<html>\n",
              "<head><meta charset=\"utf-8\" /></head>\n",
              "<body>\n",
              "    <div>            <script src=\"https://cdnjs.cloudflare.com/ajax/libs/mathjax/2.7.5/MathJax.js?config=TeX-AMS-MML_SVG\"></script><script type=\"text/javascript\">if (window.MathJax) {MathJax.Hub.Config({SVG: {font: \"STIX-Web\"}});}</script>                <script type=\"text/javascript\">window.PlotlyConfig = {MathJaxConfig: 'local'};</script>\n",
              "        <script src=\"https://cdn.plot.ly/plotly-2.8.3.min.js\"></script>                <div id=\"ee755af4-eb14-4852-91b7-710174efe210\" class=\"plotly-graph-div\" style=\"height:525px; width:100%;\"></div>            <script type=\"text/javascript\">                                    window.PLOTLYENV=window.PLOTLYENV || {};                                    if (document.getElementById(\"ee755af4-eb14-4852-91b7-710174efe210\")) {                    Plotly.newPlot(                        \"ee755af4-eb14-4852-91b7-710174efe210\",                        [{\"alignmentgroup\":\"True\",\"hovertemplate\":\"x=%{x}<br>Sales=%{y}<extra></extra>\",\"legendgroup\":\"\",\"marker\":{\"color\":\"#636efa\",\"pattern\":{\"shape\":\"\"}},\"name\":\"\",\"offsetgroup\":\"\",\"orientation\":\"v\",\"showlegend\":false,\"textposition\":\"auto\",\"x\":[\"1-2015\",\"2-2015\",\"3-2015\",\"4-2015\",\"1-2016\",\"2-2016\",\"3-2016\",\"4-2016\",\"1-2017\",\"2-2017\",\"3-2017\",\"4-2017\",\"1-2018\",\"2-2018\",\"3-2018\",\"4-2018\"],\"xaxis\":\"x\",\"y\":[73931.39600000001,85874.09360000001,142522.6063,177528.1122,62357.687,87713.373,128560.2072,180804.7382,92686.365,135061.161,138056.3742,234388.6498,122260.8842,127558.62,193815.84,278416.675],\"yaxis\":\"y\",\"type\":\"bar\"}],                        {\"template\":{\"data\":{\"bar\":[{\"error_x\":{\"color\":\"#2a3f5f\"},\"error_y\":{\"color\":\"#2a3f5f\"},\"marker\":{\"line\":{\"color\":\"#E5ECF6\",\"width\":0.5},\"pattern\":{\"fillmode\":\"overlay\",\"size\":10,\"solidity\":0.2}},\"type\":\"bar\"}],\"barpolar\":[{\"marker\":{\"line\":{\"color\":\"#E5ECF6\",\"width\":0.5},\"pattern\":{\"fillmode\":\"overlay\",\"size\":10,\"solidity\":0.2}},\"type\":\"barpolar\"}],\"carpet\":[{\"aaxis\":{\"endlinecolor\":\"#2a3f5f\",\"gridcolor\":\"white\",\"linecolor\":\"white\",\"minorgridcolor\":\"white\",\"startlinecolor\":\"#2a3f5f\"},\"baxis\":{\"endlinecolor\":\"#2a3f5f\",\"gridcolor\":\"white\",\"linecolor\":\"white\",\"minorgridcolor\":\"white\",\"startlinecolor\":\"#2a3f5f\"},\"type\":\"carpet\"}],\"choropleth\":[{\"colorbar\":{\"outlinewidth\":0,\"ticks\":\"\"},\"type\":\"choropleth\"}],\"contour\":[{\"colorbar\":{\"outlinewidth\":0,\"ticks\":\"\"},\"colorscale\":[[0.0,\"#0d0887\"],[0.1111111111111111,\"#46039f\"],[0.2222222222222222,\"#7201a8\"],[0.3333333333333333,\"#9c179e\"],[0.4444444444444444,\"#bd3786\"],[0.5555555555555556,\"#d8576b\"],[0.6666666666666666,\"#ed7953\"],[0.7777777777777778,\"#fb9f3a\"],[0.8888888888888888,\"#fdca26\"],[1.0,\"#f0f921\"]],\"type\":\"contour\"}],\"contourcarpet\":[{\"colorbar\":{\"outlinewidth\":0,\"ticks\":\"\"},\"type\":\"contourcarpet\"}],\"heatmap\":[{\"colorbar\":{\"outlinewidth\":0,\"ticks\":\"\"},\"colorscale\":[[0.0,\"#0d0887\"],[0.1111111111111111,\"#46039f\"],[0.2222222222222222,\"#7201a8\"],[0.3333333333333333,\"#9c179e\"],[0.4444444444444444,\"#bd3786\"],[0.5555555555555556,\"#d8576b\"],[0.6666666666666666,\"#ed7953\"],[0.7777777777777778,\"#fb9f3a\"],[0.8888888888888888,\"#fdca26\"],[1.0,\"#f0f921\"]],\"type\":\"heatmap\"}],\"heatmapgl\":[{\"colorbar\":{\"outlinewidth\":0,\"ticks\":\"\"},\"colorscale\":[[0.0,\"#0d0887\"],[0.1111111111111111,\"#46039f\"],[0.2222222222222222,\"#7201a8\"],[0.3333333333333333,\"#9c179e\"],[0.4444444444444444,\"#bd3786\"],[0.5555555555555556,\"#d8576b\"],[0.6666666666666666,\"#ed7953\"],[0.7777777777777778,\"#fb9f3a\"],[0.8888888888888888,\"#fdca26\"],[1.0,\"#f0f921\"]],\"type\":\"heatmapgl\"}],\"histogram\":[{\"marker\":{\"pattern\":{\"fillmode\":\"overlay\",\"size\":10,\"solidity\":0.2}},\"type\":\"histogram\"}],\"histogram2d\":[{\"colorbar\":{\"outlinewidth\":0,\"ticks\":\"\"},\"colorscale\":[[0.0,\"#0d0887\"],[0.1111111111111111,\"#46039f\"],[0.2222222222222222,\"#7201a8\"],[0.3333333333333333,\"#9c179e\"],[0.4444444444444444,\"#bd3786\"],[0.5555555555555556,\"#d8576b\"],[0.6666666666666666,\"#ed7953\"],[0.7777777777777778,\"#fb9f3a\"],[0.8888888888888888,\"#fdca26\"],[1.0,\"#f0f921\"]],\"type\":\"histogram2d\"}],\"histogram2dcontour\":[{\"colorbar\":{\"outlinewidth\":0,\"ticks\":\"\"},\"colorscale\":[[0.0,\"#0d0887\"],[0.1111111111111111,\"#46039f\"],[0.2222222222222222,\"#7201a8\"],[0.3333333333333333,\"#9c179e\"],[0.4444444444444444,\"#bd3786\"],[0.5555555555555556,\"#d8576b\"],[0.6666666666666666,\"#ed7953\"],[0.7777777777777778,\"#fb9f3a\"],[0.8888888888888888,\"#fdca26\"],[1.0,\"#f0f921\"]],\"type\":\"histogram2dcontour\"}],\"mesh3d\":[{\"colorbar\":{\"outlinewidth\":0,\"ticks\":\"\"},\"type\":\"mesh3d\"}],\"parcoords\":[{\"line\":{\"colorbar\":{\"outlinewidth\":0,\"ticks\":\"\"}},\"type\":\"parcoords\"}],\"pie\":[{\"automargin\":true,\"type\":\"pie\"}],\"scatter\":[{\"marker\":{\"colorbar\":{\"outlinewidth\":0,\"ticks\":\"\"}},\"type\":\"scatter\"}],\"scatter3d\":[{\"line\":{\"colorbar\":{\"outlinewidth\":0,\"ticks\":\"\"}},\"marker\":{\"colorbar\":{\"outlinewidth\":0,\"ticks\":\"\"}},\"type\":\"scatter3d\"}],\"scattercarpet\":[{\"marker\":{\"colorbar\":{\"outlinewidth\":0,\"ticks\":\"\"}},\"type\":\"scattercarpet\"}],\"scattergeo\":[{\"marker\":{\"colorbar\":{\"outlinewidth\":0,\"ticks\":\"\"}},\"type\":\"scattergeo\"}],\"scattergl\":[{\"marker\":{\"colorbar\":{\"outlinewidth\":0,\"ticks\":\"\"}},\"type\":\"scattergl\"}],\"scattermapbox\":[{\"marker\":{\"colorbar\":{\"outlinewidth\":0,\"ticks\":\"\"}},\"type\":\"scattermapbox\"}],\"scatterpolar\":[{\"marker\":{\"colorbar\":{\"outlinewidth\":0,\"ticks\":\"\"}},\"type\":\"scatterpolar\"}],\"scatterpolargl\":[{\"marker\":{\"colorbar\":{\"outlinewidth\":0,\"ticks\":\"\"}},\"type\":\"scatterpolargl\"}],\"scatterternary\":[{\"marker\":{\"colorbar\":{\"outlinewidth\":0,\"ticks\":\"\"}},\"type\":\"scatterternary\"}],\"surface\":[{\"colorbar\":{\"outlinewidth\":0,\"ticks\":\"\"},\"colorscale\":[[0.0,\"#0d0887\"],[0.1111111111111111,\"#46039f\"],[0.2222222222222222,\"#7201a8\"],[0.3333333333333333,\"#9c179e\"],[0.4444444444444444,\"#bd3786\"],[0.5555555555555556,\"#d8576b\"],[0.6666666666666666,\"#ed7953\"],[0.7777777777777778,\"#fb9f3a\"],[0.8888888888888888,\"#fdca26\"],[1.0,\"#f0f921\"]],\"type\":\"surface\"}],\"table\":[{\"cells\":{\"fill\":{\"color\":\"#EBF0F8\"},\"line\":{\"color\":\"white\"}},\"header\":{\"fill\":{\"color\":\"#C8D4E3\"},\"line\":{\"color\":\"white\"}},\"type\":\"table\"}]},\"layout\":{\"annotationdefaults\":{\"arrowcolor\":\"#2a3f5f\",\"arrowhead\":0,\"arrowwidth\":1},\"autotypenumbers\":\"strict\",\"coloraxis\":{\"colorbar\":{\"outlinewidth\":0,\"ticks\":\"\"}},\"colorscale\":{\"diverging\":[[0,\"#8e0152\"],[0.1,\"#c51b7d\"],[0.2,\"#de77ae\"],[0.3,\"#f1b6da\"],[0.4,\"#fde0ef\"],[0.5,\"#f7f7f7\"],[0.6,\"#e6f5d0\"],[0.7,\"#b8e186\"],[0.8,\"#7fbc41\"],[0.9,\"#4d9221\"],[1,\"#276419\"]],\"sequential\":[[0.0,\"#0d0887\"],[0.1111111111111111,\"#46039f\"],[0.2222222222222222,\"#7201a8\"],[0.3333333333333333,\"#9c179e\"],[0.4444444444444444,\"#bd3786\"],[0.5555555555555556,\"#d8576b\"],[0.6666666666666666,\"#ed7953\"],[0.7777777777777778,\"#fb9f3a\"],[0.8888888888888888,\"#fdca26\"],[1.0,\"#f0f921\"]],\"sequentialminus\":[[0.0,\"#0d0887\"],[0.1111111111111111,\"#46039f\"],[0.2222222222222222,\"#7201a8\"],[0.3333333333333333,\"#9c179e\"],[0.4444444444444444,\"#bd3786\"],[0.5555555555555556,\"#d8576b\"],[0.6666666666666666,\"#ed7953\"],[0.7777777777777778,\"#fb9f3a\"],[0.8888888888888888,\"#fdca26\"],[1.0,\"#f0f921\"]]},\"colorway\":[\"#636efa\",\"#EF553B\",\"#00cc96\",\"#ab63fa\",\"#FFA15A\",\"#19d3f3\",\"#FF6692\",\"#B6E880\",\"#FF97FF\",\"#FECB52\"],\"font\":{\"color\":\"#2a3f5f\"},\"geo\":{\"bgcolor\":\"white\",\"lakecolor\":\"white\",\"landcolor\":\"#E5ECF6\",\"showlakes\":true,\"showland\":true,\"subunitcolor\":\"white\"},\"hoverlabel\":{\"align\":\"left\"},\"hovermode\":\"closest\",\"mapbox\":{\"style\":\"light\"},\"paper_bgcolor\":\"white\",\"plot_bgcolor\":\"#E5ECF6\",\"polar\":{\"angularaxis\":{\"gridcolor\":\"white\",\"linecolor\":\"white\",\"ticks\":\"\"},\"bgcolor\":\"#E5ECF6\",\"radialaxis\":{\"gridcolor\":\"white\",\"linecolor\":\"white\",\"ticks\":\"\"}},\"scene\":{\"xaxis\":{\"backgroundcolor\":\"#E5ECF6\",\"gridcolor\":\"white\",\"gridwidth\":2,\"linecolor\":\"white\",\"showbackground\":true,\"ticks\":\"\",\"zerolinecolor\":\"white\"},\"yaxis\":{\"backgroundcolor\":\"#E5ECF6\",\"gridcolor\":\"white\",\"gridwidth\":2,\"linecolor\":\"white\",\"showbackground\":true,\"ticks\":\"\",\"zerolinecolor\":\"white\"},\"zaxis\":{\"backgroundcolor\":\"#E5ECF6\",\"gridcolor\":\"white\",\"gridwidth\":2,\"linecolor\":\"white\",\"showbackground\":true,\"ticks\":\"\",\"zerolinecolor\":\"white\"}},\"shapedefaults\":{\"line\":{\"color\":\"#2a3f5f\"}},\"ternary\":{\"aaxis\":{\"gridcolor\":\"white\",\"linecolor\":\"white\",\"ticks\":\"\"},\"baxis\":{\"gridcolor\":\"white\",\"linecolor\":\"white\",\"ticks\":\"\"},\"bgcolor\":\"#E5ECF6\",\"caxis\":{\"gridcolor\":\"white\",\"linecolor\":\"white\",\"ticks\":\"\"}},\"title\":{\"x\":0.05},\"xaxis\":{\"automargin\":true,\"gridcolor\":\"white\",\"linecolor\":\"white\",\"ticks\":\"\",\"title\":{\"standoff\":15},\"zerolinecolor\":\"white\",\"zerolinewidth\":2},\"yaxis\":{\"automargin\":true,\"gridcolor\":\"white\",\"linecolor\":\"white\",\"ticks\":\"\",\"title\":{\"standoff\":15},\"zerolinecolor\":\"white\",\"zerolinewidth\":2}}},\"xaxis\":{\"anchor\":\"y\",\"domain\":[0.0,1.0],\"title\":{\"text\":\"x\"}},\"yaxis\":{\"anchor\":\"x\",\"domain\":[0.0,1.0],\"title\":{\"text\":\"Sales\"}},\"legend\":{\"tracegroupgap\":0},\"margin\":{\"t\":60},\"barmode\":\"relative\"},                        {\"responsive\": true}                    ).then(function(){\n",
              "                            \n",
              "var gd = document.getElementById('ee755af4-eb14-4852-91b7-710174efe210');\n",
              "var x = new MutationObserver(function (mutations, observer) {{\n",
              "        var display = window.getComputedStyle(gd).display;\n",
              "        if (!display || display === 'none') {{\n",
              "            console.log([gd, 'removed!']);\n",
              "            Plotly.purge(gd);\n",
              "            observer.disconnect();\n",
              "        }}\n",
              "}});\n",
              "\n",
              "// Listen for the removal of the full notebook cells\n",
              "var notebookContainer = gd.closest('#notebook-container');\n",
              "if (notebookContainer) {{\n",
              "    x.observe(notebookContainer, {childList: true});\n",
              "}}\n",
              "\n",
              "// Listen for the clearing of the current output cell\n",
              "var outputEl = gd.closest('.output');\n",
              "if (outputEl) {{\n",
              "    x.observe(outputEl, {childList: true});\n",
              "}}\n",
              "\n",
              "                        })                };                            </script>        </div>\n",
              "</body>\n",
              "</html>"
            ]
          },
          "metadata": {}
        }
      ]
    },
    {
      "cell_type": "markdown",
      "source": [
        "Quý có doanh thu cao nhất:"
      ],
      "metadata": {
        "id": "oK6dHinLgBSN"
      }
    },
    {
      "cell_type": "code",
      "source": [
        "# Quý có doanh số cao nhất\n",
        "F  = g.sort_values(ascending=False)\n",
        "print(F.index[0], F.values[0])\n",
        "# fig = px.bar(g, x=g.index.to_timestamp(),y = \"Row_ID\")\n",
        "# fig.show()"
      ],
      "metadata": {
        "colab": {
          "base_uri": "https://localhost:8080/"
        },
        "id": "3iYcT_HvfIBQ",
        "outputId": "580fa588-fdd3-455c-ed39-7bf9ee860fba"
      },
      "execution_count": null,
      "outputs": [
        {
          "output_type": "stream",
          "name": "stdout",
          "text": [
            "2018Q4 278416.675\n"
          ]
        }
      ]
    },
    {
      "cell_type": "markdown",
      "source": [
        "#**YC4: Tính thời gian trung giao hàng trung bình (ship date - order date) theo từng tháng và vẽ biểu đồ mô tả sự biến thiên của con số này.**\n"
      ],
      "metadata": {
        "id": "siPdKMz6gJzo"
      }
    },
    {
      "cell_type": "code",
      "source": [
        "X = train \n",
        "X[\"Deliver_time\"] = X[\"Ship_Date\"] - X[\"Order_Date\"] \n",
        "\n",
        "per = X.Order_Date.dt.to_period(\"M\")\n",
        "g = X.groupby(per)[\"Deliver_time\"].mean()/ np.timedelta64(1, 'D') # thời gian theo giờ\n",
        "g\n"
      ],
      "metadata": {
        "colab": {
          "base_uri": "https://localhost:8080/"
        },
        "id": "HIBiwK40goGl",
        "outputId": "73b1bcb1-c808-4a8c-e487-0e35373db356"
      },
      "execution_count": null,
      "outputs": [
        {
          "output_type": "execute_result",
          "data": {
            "text/plain": [
              "Order_Date\n",
              "2015-01    4.194805\n",
              "2015-02    4.173913\n",
              "2015-03    3.961039\n",
              "2015-04    4.015385\n",
              "2015-05    3.801653\n",
              "2015-06    4.213740\n",
              "2015-07    3.845070\n",
              "2015-08    4.089041\n",
              "2015-09    4.056180\n",
              "2015-10    3.358491\n",
              "2015-11    4.248366\n",
              "2015-12    3.959854\n",
              "2016-01    4.736842\n",
              "2016-02    4.218750\n",
              "2016-03    3.765625\n",
              "2016-04    4.333333\n",
              "2016-05    4.020979\n",
              "2016-06    4.162791\n",
              "2016-07    3.786765\n",
              "2016-08    3.955696\n",
              "2016-09    4.340351\n",
              "2016-10    3.609756\n",
              "2016-11    3.978193\n",
              "2016-12    3.938907\n",
              "2017-01    4.101124\n",
              "2017-02    3.469880\n",
              "2017-03    3.503106\n",
              "2017-04    4.452381\n",
              "2017-05    3.877828\n",
              "2017-06    3.413265\n",
              "2017-07    3.836735\n",
              "2017-08    4.331429\n",
              "2017-09    3.977077\n",
              "2017-10    4.203125\n",
              "2017-11    3.948087\n",
              "2017-12    4.014793\n",
              "2018-01    4.062937\n",
              "2018-02    4.355769\n",
              "2018-03    3.578059\n",
              "2018-04    3.860000\n",
              "2018-05    3.725000\n",
              "2018-06    4.080851\n",
              "2018-07    4.130045\n",
              "2018-08    4.042056\n",
              "2018-09    3.693157\n",
              "2018-10    3.996599\n",
              "2018-11    3.800439\n",
              "2018-12    4.028322\n",
              "Freq: M, Name: Deliver_time, dtype: float64"
            ]
          },
          "metadata": {},
          "execution_count": 64
        }
      ]
    },
    {
      "cell_type": "code",
      "source": [
        "fig = px.bar(g, x=g.index.strftime('%b-%Y'),y = \"Deliver_time\")\n",
        "fig.show()"
      ],
      "metadata": {
        "colab": {
          "base_uri": "https://localhost:8080/",
          "height": 542
        },
        "id": "XS-dUmHFjjDr",
        "outputId": "7e32aa5c-5cfb-4173-eda0-eff1feab5308"
      },
      "execution_count": null,
      "outputs": [
        {
          "output_type": "display_data",
          "data": {
            "text/html": [
              "<html>\n",
              "<head><meta charset=\"utf-8\" /></head>\n",
              "<body>\n",
              "    <div>            <script src=\"https://cdnjs.cloudflare.com/ajax/libs/mathjax/2.7.5/MathJax.js?config=TeX-AMS-MML_SVG\"></script><script type=\"text/javascript\">if (window.MathJax) {MathJax.Hub.Config({SVG: {font: \"STIX-Web\"}});}</script>                <script type=\"text/javascript\">window.PlotlyConfig = {MathJaxConfig: 'local'};</script>\n",
              "        <script src=\"https://cdn.plot.ly/plotly-2.8.3.min.js\"></script>                <div id=\"89aafd22-5074-4ada-b9b3-4eb69a3d4cfe\" class=\"plotly-graph-div\" style=\"height:525px; width:100%;\"></div>            <script type=\"text/javascript\">                                    window.PLOTLYENV=window.PLOTLYENV || {};                                    if (document.getElementById(\"89aafd22-5074-4ada-b9b3-4eb69a3d4cfe\")) {                    Plotly.newPlot(                        \"89aafd22-5074-4ada-b9b3-4eb69a3d4cfe\",                        [{\"alignmentgroup\":\"True\",\"hovertemplate\":\"x=%{x}<br>Deliver_time=%{y}<extra></extra>\",\"legendgroup\":\"\",\"marker\":{\"color\":\"#636efa\",\"pattern\":{\"shape\":\"\"}},\"name\":\"\",\"offsetgroup\":\"\",\"orientation\":\"v\",\"showlegend\":false,\"textposition\":\"auto\",\"x\":[\"Jan-2015\",\"Feb-2015\",\"Mar-2015\",\"Apr-2015\",\"May-2015\",\"Jun-2015\",\"Jul-2015\",\"Aug-2015\",\"Sep-2015\",\"Oct-2015\",\"Nov-2015\",\"Dec-2015\",\"Jan-2016\",\"Feb-2016\",\"Mar-2016\",\"Apr-2016\",\"May-2016\",\"Jun-2016\",\"Jul-2016\",\"Aug-2016\",\"Sep-2016\",\"Oct-2016\",\"Nov-2016\",\"Dec-2016\",\"Jan-2017\",\"Feb-2017\",\"Mar-2017\",\"Apr-2017\",\"May-2017\",\"Jun-2017\",\"Jul-2017\",\"Aug-2017\",\"Sep-2017\",\"Oct-2017\",\"Nov-2017\",\"Dec-2017\",\"Jan-2018\",\"Feb-2018\",\"Mar-2018\",\"Apr-2018\",\"May-2018\",\"Jun-2018\",\"Jul-2018\",\"Aug-2018\",\"Sep-2018\",\"Oct-2018\",\"Nov-2018\",\"Dec-2018\"],\"xaxis\":\"x\",\"y\":[4.194805194805185,4.173913043478252,3.9610389610389585,4.0153846153846064,3.8016528925619792,4.213740458015266,3.8450704225352084,4.089041095890405,4.056179775280891,3.3584905660377316,4.2483660130718865,3.95985401459853,4.736842105263148,4.21875,3.765625,4.333333333333333,4.020979020979016,4.16279069767441,3.7867647058823497,3.9556962025316436,4.340350877192974,3.609756097560972,3.9781931464174423,3.938906752411574,4.101123595505613,3.46987951807228,3.5031055900621064,4.452380952380949,3.877828054298634,3.413265306122442,3.8367346938775464,4.331428571428565,3.97707736389684,4.203125,3.9480874316939816,4.014792899408276,4.06293706293706,4.355769230769225,3.5780590717299536,3.86,3.725,4.08085106382978,4.130044843049317,4.0420560747663545,3.6931567328918287,3.9965986394557755,3.800438596491227,4.028322440087141],\"yaxis\":\"y\",\"type\":\"bar\"}],                        {\"template\":{\"data\":{\"bar\":[{\"error_x\":{\"color\":\"#2a3f5f\"},\"error_y\":{\"color\":\"#2a3f5f\"},\"marker\":{\"line\":{\"color\":\"#E5ECF6\",\"width\":0.5},\"pattern\":{\"fillmode\":\"overlay\",\"size\":10,\"solidity\":0.2}},\"type\":\"bar\"}],\"barpolar\":[{\"marker\":{\"line\":{\"color\":\"#E5ECF6\",\"width\":0.5},\"pattern\":{\"fillmode\":\"overlay\",\"size\":10,\"solidity\":0.2}},\"type\":\"barpolar\"}],\"carpet\":[{\"aaxis\":{\"endlinecolor\":\"#2a3f5f\",\"gridcolor\":\"white\",\"linecolor\":\"white\",\"minorgridcolor\":\"white\",\"startlinecolor\":\"#2a3f5f\"},\"baxis\":{\"endlinecolor\":\"#2a3f5f\",\"gridcolor\":\"white\",\"linecolor\":\"white\",\"minorgridcolor\":\"white\",\"startlinecolor\":\"#2a3f5f\"},\"type\":\"carpet\"}],\"choropleth\":[{\"colorbar\":{\"outlinewidth\":0,\"ticks\":\"\"},\"type\":\"choropleth\"}],\"contour\":[{\"colorbar\":{\"outlinewidth\":0,\"ticks\":\"\"},\"colorscale\":[[0.0,\"#0d0887\"],[0.1111111111111111,\"#46039f\"],[0.2222222222222222,\"#7201a8\"],[0.3333333333333333,\"#9c179e\"],[0.4444444444444444,\"#bd3786\"],[0.5555555555555556,\"#d8576b\"],[0.6666666666666666,\"#ed7953\"],[0.7777777777777778,\"#fb9f3a\"],[0.8888888888888888,\"#fdca26\"],[1.0,\"#f0f921\"]],\"type\":\"contour\"}],\"contourcarpet\":[{\"colorbar\":{\"outlinewidth\":0,\"ticks\":\"\"},\"type\":\"contourcarpet\"}],\"heatmap\":[{\"colorbar\":{\"outlinewidth\":0,\"ticks\":\"\"},\"colorscale\":[[0.0,\"#0d0887\"],[0.1111111111111111,\"#46039f\"],[0.2222222222222222,\"#7201a8\"],[0.3333333333333333,\"#9c179e\"],[0.4444444444444444,\"#bd3786\"],[0.5555555555555556,\"#d8576b\"],[0.6666666666666666,\"#ed7953\"],[0.7777777777777778,\"#fb9f3a\"],[0.8888888888888888,\"#fdca26\"],[1.0,\"#f0f921\"]],\"type\":\"heatmap\"}],\"heatmapgl\":[{\"colorbar\":{\"outlinewidth\":0,\"ticks\":\"\"},\"colorscale\":[[0.0,\"#0d0887\"],[0.1111111111111111,\"#46039f\"],[0.2222222222222222,\"#7201a8\"],[0.3333333333333333,\"#9c179e\"],[0.4444444444444444,\"#bd3786\"],[0.5555555555555556,\"#d8576b\"],[0.6666666666666666,\"#ed7953\"],[0.7777777777777778,\"#fb9f3a\"],[0.8888888888888888,\"#fdca26\"],[1.0,\"#f0f921\"]],\"type\":\"heatmapgl\"}],\"histogram\":[{\"marker\":{\"pattern\":{\"fillmode\":\"overlay\",\"size\":10,\"solidity\":0.2}},\"type\":\"histogram\"}],\"histogram2d\":[{\"colorbar\":{\"outlinewidth\":0,\"ticks\":\"\"},\"colorscale\":[[0.0,\"#0d0887\"],[0.1111111111111111,\"#46039f\"],[0.2222222222222222,\"#7201a8\"],[0.3333333333333333,\"#9c179e\"],[0.4444444444444444,\"#bd3786\"],[0.5555555555555556,\"#d8576b\"],[0.6666666666666666,\"#ed7953\"],[0.7777777777777778,\"#fb9f3a\"],[0.8888888888888888,\"#fdca26\"],[1.0,\"#f0f921\"]],\"type\":\"histogram2d\"}],\"histogram2dcontour\":[{\"colorbar\":{\"outlinewidth\":0,\"ticks\":\"\"},\"colorscale\":[[0.0,\"#0d0887\"],[0.1111111111111111,\"#46039f\"],[0.2222222222222222,\"#7201a8\"],[0.3333333333333333,\"#9c179e\"],[0.4444444444444444,\"#bd3786\"],[0.5555555555555556,\"#d8576b\"],[0.6666666666666666,\"#ed7953\"],[0.7777777777777778,\"#fb9f3a\"],[0.8888888888888888,\"#fdca26\"],[1.0,\"#f0f921\"]],\"type\":\"histogram2dcontour\"}],\"mesh3d\":[{\"colorbar\":{\"outlinewidth\":0,\"ticks\":\"\"},\"type\":\"mesh3d\"}],\"parcoords\":[{\"line\":{\"colorbar\":{\"outlinewidth\":0,\"ticks\":\"\"}},\"type\":\"parcoords\"}],\"pie\":[{\"automargin\":true,\"type\":\"pie\"}],\"scatter\":[{\"marker\":{\"colorbar\":{\"outlinewidth\":0,\"ticks\":\"\"}},\"type\":\"scatter\"}],\"scatter3d\":[{\"line\":{\"colorbar\":{\"outlinewidth\":0,\"ticks\":\"\"}},\"marker\":{\"colorbar\":{\"outlinewidth\":0,\"ticks\":\"\"}},\"type\":\"scatter3d\"}],\"scattercarpet\":[{\"marker\":{\"colorbar\":{\"outlinewidth\":0,\"ticks\":\"\"}},\"type\":\"scattercarpet\"}],\"scattergeo\":[{\"marker\":{\"colorbar\":{\"outlinewidth\":0,\"ticks\":\"\"}},\"type\":\"scattergeo\"}],\"scattergl\":[{\"marker\":{\"colorbar\":{\"outlinewidth\":0,\"ticks\":\"\"}},\"type\":\"scattergl\"}],\"scattermapbox\":[{\"marker\":{\"colorbar\":{\"outlinewidth\":0,\"ticks\":\"\"}},\"type\":\"scattermapbox\"}],\"scatterpolar\":[{\"marker\":{\"colorbar\":{\"outlinewidth\":0,\"ticks\":\"\"}},\"type\":\"scatterpolar\"}],\"scatterpolargl\":[{\"marker\":{\"colorbar\":{\"outlinewidth\":0,\"ticks\":\"\"}},\"type\":\"scatterpolargl\"}],\"scatterternary\":[{\"marker\":{\"colorbar\":{\"outlinewidth\":0,\"ticks\":\"\"}},\"type\":\"scatterternary\"}],\"surface\":[{\"colorbar\":{\"outlinewidth\":0,\"ticks\":\"\"},\"colorscale\":[[0.0,\"#0d0887\"],[0.1111111111111111,\"#46039f\"],[0.2222222222222222,\"#7201a8\"],[0.3333333333333333,\"#9c179e\"],[0.4444444444444444,\"#bd3786\"],[0.5555555555555556,\"#d8576b\"],[0.6666666666666666,\"#ed7953\"],[0.7777777777777778,\"#fb9f3a\"],[0.8888888888888888,\"#fdca26\"],[1.0,\"#f0f921\"]],\"type\":\"surface\"}],\"table\":[{\"cells\":{\"fill\":{\"color\":\"#EBF0F8\"},\"line\":{\"color\":\"white\"}},\"header\":{\"fill\":{\"color\":\"#C8D4E3\"},\"line\":{\"color\":\"white\"}},\"type\":\"table\"}]},\"layout\":{\"annotationdefaults\":{\"arrowcolor\":\"#2a3f5f\",\"arrowhead\":0,\"arrowwidth\":1},\"autotypenumbers\":\"strict\",\"coloraxis\":{\"colorbar\":{\"outlinewidth\":0,\"ticks\":\"\"}},\"colorscale\":{\"diverging\":[[0,\"#8e0152\"],[0.1,\"#c51b7d\"],[0.2,\"#de77ae\"],[0.3,\"#f1b6da\"],[0.4,\"#fde0ef\"],[0.5,\"#f7f7f7\"],[0.6,\"#e6f5d0\"],[0.7,\"#b8e186\"],[0.8,\"#7fbc41\"],[0.9,\"#4d9221\"],[1,\"#276419\"]],\"sequential\":[[0.0,\"#0d0887\"],[0.1111111111111111,\"#46039f\"],[0.2222222222222222,\"#7201a8\"],[0.3333333333333333,\"#9c179e\"],[0.4444444444444444,\"#bd3786\"],[0.5555555555555556,\"#d8576b\"],[0.6666666666666666,\"#ed7953\"],[0.7777777777777778,\"#fb9f3a\"],[0.8888888888888888,\"#fdca26\"],[1.0,\"#f0f921\"]],\"sequentialminus\":[[0.0,\"#0d0887\"],[0.1111111111111111,\"#46039f\"],[0.2222222222222222,\"#7201a8\"],[0.3333333333333333,\"#9c179e\"],[0.4444444444444444,\"#bd3786\"],[0.5555555555555556,\"#d8576b\"],[0.6666666666666666,\"#ed7953\"],[0.7777777777777778,\"#fb9f3a\"],[0.8888888888888888,\"#fdca26\"],[1.0,\"#f0f921\"]]},\"colorway\":[\"#636efa\",\"#EF553B\",\"#00cc96\",\"#ab63fa\",\"#FFA15A\",\"#19d3f3\",\"#FF6692\",\"#B6E880\",\"#FF97FF\",\"#FECB52\"],\"font\":{\"color\":\"#2a3f5f\"},\"geo\":{\"bgcolor\":\"white\",\"lakecolor\":\"white\",\"landcolor\":\"#E5ECF6\",\"showlakes\":true,\"showland\":true,\"subunitcolor\":\"white\"},\"hoverlabel\":{\"align\":\"left\"},\"hovermode\":\"closest\",\"mapbox\":{\"style\":\"light\"},\"paper_bgcolor\":\"white\",\"plot_bgcolor\":\"#E5ECF6\",\"polar\":{\"angularaxis\":{\"gridcolor\":\"white\",\"linecolor\":\"white\",\"ticks\":\"\"},\"bgcolor\":\"#E5ECF6\",\"radialaxis\":{\"gridcolor\":\"white\",\"linecolor\":\"white\",\"ticks\":\"\"}},\"scene\":{\"xaxis\":{\"backgroundcolor\":\"#E5ECF6\",\"gridcolor\":\"white\",\"gridwidth\":2,\"linecolor\":\"white\",\"showbackground\":true,\"ticks\":\"\",\"zerolinecolor\":\"white\"},\"yaxis\":{\"backgroundcolor\":\"#E5ECF6\",\"gridcolor\":\"white\",\"gridwidth\":2,\"linecolor\":\"white\",\"showbackground\":true,\"ticks\":\"\",\"zerolinecolor\":\"white\"},\"zaxis\":{\"backgroundcolor\":\"#E5ECF6\",\"gridcolor\":\"white\",\"gridwidth\":2,\"linecolor\":\"white\",\"showbackground\":true,\"ticks\":\"\",\"zerolinecolor\":\"white\"}},\"shapedefaults\":{\"line\":{\"color\":\"#2a3f5f\"}},\"ternary\":{\"aaxis\":{\"gridcolor\":\"white\",\"linecolor\":\"white\",\"ticks\":\"\"},\"baxis\":{\"gridcolor\":\"white\",\"linecolor\":\"white\",\"ticks\":\"\"},\"bgcolor\":\"#E5ECF6\",\"caxis\":{\"gridcolor\":\"white\",\"linecolor\":\"white\",\"ticks\":\"\"}},\"title\":{\"x\":0.05},\"xaxis\":{\"automargin\":true,\"gridcolor\":\"white\",\"linecolor\":\"white\",\"ticks\":\"\",\"title\":{\"standoff\":15},\"zerolinecolor\":\"white\",\"zerolinewidth\":2},\"yaxis\":{\"automargin\":true,\"gridcolor\":\"white\",\"linecolor\":\"white\",\"ticks\":\"\",\"title\":{\"standoff\":15},\"zerolinecolor\":\"white\",\"zerolinewidth\":2}}},\"xaxis\":{\"anchor\":\"y\",\"domain\":[0.0,1.0],\"title\":{\"text\":\"x\"}},\"yaxis\":{\"anchor\":\"x\",\"domain\":[0.0,1.0],\"title\":{\"text\":\"Deliver_time\"}},\"legend\":{\"tracegroupgap\":0},\"margin\":{\"t\":60},\"barmode\":\"relative\"},                        {\"responsive\": true}                    ).then(function(){\n",
              "                            \n",
              "var gd = document.getElementById('89aafd22-5074-4ada-b9b3-4eb69a3d4cfe');\n",
              "var x = new MutationObserver(function (mutations, observer) {{\n",
              "        var display = window.getComputedStyle(gd).display;\n",
              "        if (!display || display === 'none') {{\n",
              "            console.log([gd, 'removed!']);\n",
              "            Plotly.purge(gd);\n",
              "            observer.disconnect();\n",
              "        }}\n",
              "}});\n",
              "\n",
              "// Listen for the removal of the full notebook cells\n",
              "var notebookContainer = gd.closest('#notebook-container');\n",
              "if (notebookContainer) {{\n",
              "    x.observe(notebookContainer, {childList: true});\n",
              "}}\n",
              "\n",
              "// Listen for the clearing of the current output cell\n",
              "var outputEl = gd.closest('.output');\n",
              "if (outputEl) {{\n",
              "    x.observe(outputEl, {childList: true});\n",
              "}}\n",
              "\n",
              "                        })                };                            </script>        </div>\n",
              "</body>\n",
              "</html>"
            ]
          },
          "metadata": {}
        }
      ]
    },
    {
      "cell_type": "markdown",
      "source": [
        "#**YC5: Vẽ biểu đồ thể hiện sức mua theo từng thành phố. Cho biết top 3 thành phố có doanh số thấp nhất và 3 thành phố có doanh số cao nhất.**"
      ],
      "metadata": {
        "id": "5OiEJvQ1N3mY"
      }
    },
    {
      "cell_type": "code",
      "source": [
        "g = train\n",
        "g = g.groupby([\"City\"])[\"Sales\"].sum()\n",
        "g"
      ],
      "metadata": {
        "colab": {
          "base_uri": "https://localhost:8080/"
        },
        "id": "UChJwMQ1RrZ8",
        "outputId": "59fb4ac7-edb4-4e9e-82c4-9e5a99bcc0d3"
      },
      "execution_count": null,
      "outputs": [
        {
          "output_type": "execute_result",
          "data": {
            "text/plain": [
              "City\n",
              "Aberdeen         25.500\n",
              "Abilene           1.392\n",
              "Akron          2724.244\n",
              "Albuquerque    2220.160\n",
              "Alexandria     5519.570\n",
              "                 ...   \n",
              "Woonsocket      195.550\n",
              "Yonkers        7657.666\n",
              "York            817.978\n",
              "Yucaipa          50.800\n",
              "Yuma            840.865\n",
              "Name: Sales, Length: 529, dtype: float64"
            ]
          },
          "metadata": {},
          "execution_count": 66
        }
      ]
    },
    {
      "cell_type": "code",
      "source": [
        "fig = px.bar(g)\n",
        "fig.show()"
      ],
      "metadata": {
        "colab": {
          "base_uri": "https://localhost:8080/",
          "height": 542
        },
        "id": "LoKAToTwRity",
        "outputId": "477742ab-21ae-4fc1-bf8b-4581bd5a2ba5"
      },
      "execution_count": null,
      "outputs": [
        {
          "output_type": "display_data",
          "data": {
            "text/html": [
              "<html>\n",
              "<head><meta charset=\"utf-8\" /></head>\n",
              "<body>\n",
              "    <div>            <script src=\"https://cdnjs.cloudflare.com/ajax/libs/mathjax/2.7.5/MathJax.js?config=TeX-AMS-MML_SVG\"></script><script type=\"text/javascript\">if (window.MathJax) {MathJax.Hub.Config({SVG: {font: \"STIX-Web\"}});}</script>                <script type=\"text/javascript\">window.PlotlyConfig = {MathJaxConfig: 'local'};</script>\n",
              "        <script src=\"https://cdn.plot.ly/plotly-2.8.3.min.js\"></script>                <div id=\"7932e48b-cf32-4c11-a30f-cbc6e583049e\" class=\"plotly-graph-div\" style=\"height:525px; width:100%;\"></div>            <script type=\"text/javascript\">                                    window.PLOTLYENV=window.PLOTLYENV || {};                                    if (document.getElementById(\"7932e48b-cf32-4c11-a30f-cbc6e583049e\")) {                    Plotly.newPlot(                        \"7932e48b-cf32-4c11-a30f-cbc6e583049e\",                        [{\"alignmentgroup\":\"True\",\"hovertemplate\":\"variable=Sales<br>City=%{x}<br>value=%{y}<extra></extra>\",\"legendgroup\":\"Sales\",\"marker\":{\"color\":\"#636efa\",\"pattern\":{\"shape\":\"\"}},\"name\":\"Sales\",\"offsetgroup\":\"Sales\",\"orientation\":\"v\",\"showlegend\":true,\"textposition\":\"auto\",\"x\":[\"Aberdeen\",\"Abilene\",\"Akron\",\"Albuquerque\",\"Alexandria\",\"Allen\",\"Allentown\",\"Altoona\",\"Amarillo\",\"Anaheim\",\"Andover\",\"Ann Arbor\",\"Antioch\",\"Apopka\",\"Apple Valley\",\"Appleton\",\"Arlington\",\"Arlington Heights\",\"Arvada\",\"Asheville\",\"Athens\",\"Atlanta\",\"Atlantic City\",\"Auburn\",\"Aurora\",\"Austin\",\"Avondale\",\"Bakersfield\",\"Baltimore\",\"Bangor\",\"Bartlett\",\"Bayonne\",\"Baytown\",\"Beaumont\",\"Bedford\",\"Belleville\",\"Bellevue\",\"Bellingham\",\"Bethlehem\",\"Beverly\",\"Billings\",\"Bloomington\",\"Boca Raton\",\"Boise\",\"Bolingbrook\",\"Bossier City\",\"Bowling Green\",\"Boynton Beach\",\"Bozeman\",\"Brentwood\",\"Bridgeton\",\"Bristol\",\"Broken Arrow\",\"Broomfield\",\"Brownsville\",\"Bryan\",\"Buffalo\",\"Buffalo Grove\",\"Bullhead City\",\"Burbank\",\"Burlington\",\"Caldwell\",\"Camarillo\",\"Cambridge\",\"Canton\",\"Carlsbad\",\"Carol Stream\",\"Carrollton\",\"Cary\",\"Cedar Hill\",\"Cedar Rapids\",\"Champaign\",\"Chandler\",\"Chapel Hill\",\"Charlotte\",\"Charlottesville\",\"Chattanooga\",\"Chesapeake\",\"Chester\",\"Cheyenne\",\"Chicago\",\"Chico\",\"Chula Vista\",\"Cincinnati\",\"Citrus Heights\",\"Clarksville\",\"Cleveland\",\"Clifton\",\"Clinton\",\"Clovis\",\"Coachella\",\"College Station\",\"Colorado Springs\",\"Columbia\",\"Columbus\",\"Commerce City\",\"Concord\",\"Conroe\",\"Conway\",\"Coon Rapids\",\"Coppell\",\"Coral Gables\",\"Coral Springs\",\"Corpus Christi\",\"Costa Mesa\",\"Cottage Grove\",\"Covington\",\"Cranston\",\"Cuyahoga Falls\",\"Dallas\",\"Danbury\",\"Danville\",\"Davis\",\"Daytona Beach\",\"Dearborn\",\"Dearborn Heights\",\"Decatur\",\"Deer Park\",\"Delray Beach\",\"Deltona\",\"Denver\",\"Des Moines\",\"Des Plaines\",\"Detroit\",\"Dover\",\"Draper\",\"Dublin\",\"Dubuque\",\"Durham\",\"Eagan\",\"East Orange\",\"East Point\",\"Eau Claire\",\"Edinburg\",\"Edmond\",\"Edmonds\",\"El Cajon\",\"El Paso\",\"Elkhart\",\"Elmhurst\",\"Elyria\",\"Encinitas\",\"Englewood\",\"Escondido\",\"Eugene\",\"Evanston\",\"Everett\",\"Fairfield\",\"Fargo\",\"Farmington\",\"Fayetteville\",\"Florence\",\"Fort Collins\",\"Fort Lauderdale\",\"Fort Worth\",\"Frankfort\",\"Franklin\",\"Freeport\",\"Fremont\",\"Fresno\",\"Frisco\",\"Gaithersburg\",\"Garden City\",\"Garland\",\"Gastonia\",\"Georgetown\",\"Gilbert\",\"Gladstone\",\"Glendale\",\"Glenview\",\"Goldsboro\",\"Grand Island\",\"Grand Prairie\",\"Grand Rapids\",\"Grapevine\",\"Great Falls\",\"Greeley\",\"Green Bay\",\"Greensboro\",\"Greenville\",\"Greenwood\",\"Gresham\",\"Grove City\",\"Gulfport\",\"Hackensack\",\"Hagerstown\",\"Haltom City\",\"Hamilton\",\"Hampton\",\"Harlingen\",\"Harrisonburg\",\"Hattiesburg\",\"Helena\",\"Hempstead\",\"Henderson\",\"Hendersonville\",\"Hesperia\",\"Hialeah\",\"Hickory\",\"Highland Park\",\"Hillsboro\",\"Holland\",\"Hollywood\",\"Holyoke\",\"Homestead\",\"Hoover\",\"Hot Springs\",\"Houston\",\"Huntington Beach\",\"Huntsville\",\"Independence\",\"Indianapolis\",\"Inglewood\",\"Iowa City\",\"Irving\",\"Jackson\",\"Jacksonville\",\"Jamestown\",\"Jefferson City\",\"Johnson City\",\"Jonesboro\",\"Jupiter\",\"Keller\",\"Kenner\",\"Kenosha\",\"Kent\",\"Kirkwood\",\"Kissimmee\",\"Knoxville\",\"La Crosse\",\"La Mesa\",\"La Porte\",\"La Quinta\",\"Lafayette\",\"Laguna Niguel\",\"Lake Charles\",\"Lake Elsinore\",\"Lake Forest\",\"Lakeland\",\"Lakeville\",\"Lakewood\",\"Lancaster\",\"Lansing\",\"Laredo\",\"Las Cruces\",\"Las Vegas\",\"Laurel\",\"Lawrence\",\"Lawton\",\"Layton\",\"League City\",\"Lebanon\",\"Lehi\",\"Leominster\",\"Lewiston\",\"Lincoln Park\",\"Linden\",\"Lindenhurst\",\"Little Rock\",\"Littleton\",\"Logan\",\"Long Beach\",\"Longmont\",\"Longview\",\"Lorain\",\"Los Angeles\",\"Louisville\",\"Loveland\",\"Lowell\",\"Lubbock\",\"Macon\",\"Madison\",\"Malden\",\"Manchester\",\"Manhattan\",\"Mansfield\",\"Manteca\",\"Maple Grove\",\"Margate\",\"Marietta\",\"Marion\",\"Marlborough\",\"Marysville\",\"Mcallen\",\"Medford\",\"Medina\",\"Melbourne\",\"Memphis\",\"Mentor\",\"Meriden\",\"Meridian\",\"Mesa\",\"Mesquite\",\"Miami\",\"Middletown\",\"Midland\",\"Milford\",\"Milwaukee\",\"Minneapolis\",\"Miramar\",\"Mishawaka\",\"Mission Viejo\",\"Missoula\",\"Missouri City\",\"Mobile\",\"Modesto\",\"Monroe\",\"Montebello\",\"Montgomery\",\"Moorhead\",\"Moreno Valley\",\"Morgan Hill\",\"Morristown\",\"Mount Pleasant\",\"Mount Vernon\",\"Murfreesboro\",\"Murray\",\"Murrieta\",\"Muskogee\",\"Naperville\",\"Nashua\",\"Nashville\",\"New Albany\",\"New Bedford\",\"New Brunswick\",\"New Castle\",\"New Rochelle\",\"New York City\",\"Newark\",\"Newport News\",\"Niagara Falls\",\"Noblesville\",\"Norfolk\",\"Normal\",\"Norman\",\"North Charleston\",\"North Las Vegas\",\"North Miami\",\"Norwich\",\"Oak Park\",\"Oakland\",\"Oceanside\",\"Odessa\",\"Oklahoma City\",\"Olathe\",\"Olympia\",\"Omaha\",\"Ontario\",\"Orange\",\"Orem\",\"Orland Park\",\"Orlando\",\"Ormond Beach\",\"Oswego\",\"Overland Park\",\"Owensboro\",\"Oxnard\",\"Palatine\",\"Palm Coast\",\"Park Ridge\",\"Parker\",\"Parma\",\"Pasadena\",\"Pasco\",\"Passaic\",\"Paterson\",\"Pearland\",\"Pembroke Pines\",\"Pensacola\",\"Peoria\",\"Perth Amboy\",\"Pharr\",\"Philadelphia\",\"Phoenix\",\"Pico Rivera\",\"Pine Bluff\",\"Plainfield\",\"Plano\",\"Plantation\",\"Pleasant Grove\",\"Pocatello\",\"Pomona\",\"Pompano Beach\",\"Port Arthur\",\"Port Orange\",\"Port Saint Lucie\",\"Portage\",\"Portland\",\"Providence\",\"Provo\",\"Pueblo\",\"Quincy\",\"Raleigh\",\"Rancho Cucamonga\",\"Rapid City\",\"Reading\",\"Redding\",\"Redlands\",\"Redmond\",\"Redondo Beach\",\"Redwood City\",\"Reno\",\"Renton\",\"Revere\",\"Richardson\",\"Richmond\",\"Rio Rancho\",\"Riverside\",\"Rochester\",\"Rochester Hills\",\"Rock Hill\",\"Rockford\",\"Rockville\",\"Rogers\",\"Rome\",\"Romeoville\",\"Roseville\",\"Roswell\",\"Round Rock\",\"Royal Oak\",\"Sacramento\",\"Saginaw\",\"Saint Charles\",\"Saint Cloud\",\"Saint Louis\",\"Saint Paul\",\"Saint Peters\",\"Saint Petersburg\",\"Salem\",\"Salinas\",\"Salt Lake City\",\"San Angelo\",\"San Antonio\",\"San Bernardino\",\"San Clemente\",\"San Diego\",\"San Francisco\",\"San Gabriel\",\"San Jose\",\"San Luis Obispo\",\"San Marcos\",\"San Mateo\",\"Sandy Springs\",\"Sanford\",\"Santa Ana\",\"Santa Barbara\",\"Santa Clara\",\"Santa Fe\",\"Santa Maria\",\"Scottsdale\",\"Seattle\",\"Sheboygan\",\"Shelton\",\"Sierra Vista\",\"Sioux Falls\",\"Skokie\",\"Smyrna\",\"South Bend\",\"Southaven\",\"Sparks\",\"Spokane\",\"Springdale\",\"Springfield\",\"Sterling Heights\",\"Stockton\",\"Suffolk\",\"Summerville\",\"Sunnyvale\",\"Superior\",\"Tallahassee\",\"Tamarac\",\"Tampa\",\"Taylor\",\"Temecula\",\"Tempe\",\"Texarkana\",\"Texas City\",\"The Colony\",\"Thomasville\",\"Thornton\",\"Thousand Oaks\",\"Tigard\",\"Tinley Park\",\"Toledo\",\"Torrance\",\"Trenton\",\"Troy\",\"Tucson\",\"Tulsa\",\"Tuscaloosa\",\"Twin Falls\",\"Tyler\",\"Urbandale\",\"Utica\",\"Vacaville\",\"Vallejo\",\"Vancouver\",\"Vineland\",\"Virginia Beach\",\"Visalia\",\"Waco\",\"Warner Robins\",\"Warwick\",\"Washington\",\"Waterbury\",\"Waterloo\",\"Watertown\",\"Waukesha\",\"Wausau\",\"Waynesboro\",\"West Allis\",\"West Jordan\",\"West Palm Beach\",\"Westfield\",\"Westland\",\"Westminster\",\"Wheeling\",\"Whittier\",\"Wichita\",\"Wilmington\",\"Wilson\",\"Woodbury\",\"Woodland\",\"Woodstock\",\"Woonsocket\",\"Yonkers\",\"York\",\"Yucaipa\",\"Yuma\"],\"xaxis\":\"x\",\"y\":[25.5,1.392,2724.244,2220.16,5519.57,290.206,853.252,20.451,3773.0628,5600.548,435.84999999999997,889.273,19.44,904.554,2053.0209999999997,1671.31,20214.532000000003,14.112,503.4,1475.376,1434.72,17197.84,23.36,3155.168,11656.478,6057.982,946.808,1377.29,6156.842000000001,1164.45,88.96,183.4,10.368,143.524,226.25600000000003,1891.6000000000001,103.622,3790.24,1689.6339999999998,2583.19,8.288,1567.74,63.007999999999996,1094.47,218.308,1417.18,2077.375,469.585,43.66,5090.114,52.410000000000004,1251.182,2439.53,793.504,1292.2268000000001,65.84,9063.496,831.399,22.288,3247.1580000000004,21668.082,455.63199999999995,1467.5175,502.09000000000003,818.13,419.34,1305.81,2047.5339999999999,505.20799999999997,122.376,278.4,151.96,1067.403,14.016,13450.987000000001,102.60999999999999,988.803,5996.72,1968.4789999999998,1603.136,47820.133,2050.178,1041.62,1611.976,129.39,2217.73,5281.503,336.82,5514.251,111.42,163.55,291.042,3694.009,25283.324,38662.563,146.352,10542.402,111.672,301.96,503.13,135.936,64.248,824.992,220.54399999999998,1117.534,144.35999999999999,413.68,3921.9860000000003,29.093999999999998,20127.9482,27.46,1202.254,32.4,272.3315,1603.3100000000002,1051.5700000000002,6334.117,6.924,242.536,893.24,12198.793,5463.278,1493.212,42446.944,4878.074,263.65,2401.16,1687.3,879.96,214.28,31.8,268.4,1645.65,88.27600000000001,959.55,2523.692,865.616,3546.064,171.43,891.6279999999999,1.824,591.981,124.056,94.548,1465.032,1753.799,5665.734,8918.378,919.91,718.72,6925.926,7603.72,935.252,4855.2125,6602.7064,97.632,11257.037,739.15,1119.0099999999998,7888.5285,57.504,405.91999999999996,312.38,67.704,895.06,1786.42,4172.382,164.34,2917.865,158.376,34.944,15.96,1012.486,392.59,41.528,4605.58,30.351999999999997,527.3199999999999,2406.78,2117.83,1665.0500000000002,2133.424,123.588,166.5,1456.16,43.8,269.32800000000003,328.224,2722.26,471.404,4388.71,1722.84,443.84,2589.586,17549.068,319.538,1213.1715,2338.949,40.764,2035.096,87.838,137.86,1070.474,301.96,132.552,525.85,245.82999999999998,63956.1428,2527.82,9194.9868,2417.37,4834.1,3479.328,9.99,605.5,24963.858,44713.183,4708.79,86.62,765.848,2915.32,2.064,6.0,89.32000000000001,3906.73,1697.556,241.34,751.984,3928.166,830.41,367.53000000000003,1021.34,46.32,24944.280000000002,290.983,547.41,283.92,1625.536,5606.8865000000005,4260.95,18183.107,9891.464,1610.286,1024.34,98.77,1834.02,152.59,7654.192,1057.49,4.96,875.3679999999999,488.896,1516.726,217.49,115.664,387.602,115.36,55.48,3560.35,72.294,280.276,12308.842,915.088,119.21000000000001,2015.1109999999999,173420.181,12079.286,20.964000000000002,4837.93,592.564,364.01,5346.79,228.38,2126.28,273.96,558.877,452.182,882.87,15.552,2938.62,3233.146,206.64,102.18,866.716,90.218,2477.722,95.616,5942.341,693.13,1550.6799999999998,329.052,4037.7400000000002,52.147999999999996,8647.8265,1154.61,5291.512,961.74,10469.039999999999,16870.54,1531.192,776.24,775.986,487.984,6.37,5462.99,326.15000000000003,2970.4339999999997,27.88,3722.73,543.86,1262.4660000000001,545.01,5033.099999999999,563.08,2119.632,337.333,410.938,484.65,1721.7,1288.3029999999999,35.94,6070.863,209.55,235.96999999999997,14.77,84.61,977.658,252462.547,28448.049,3321.9500000000003,34.992000000000004,3091.1800000000003,17.43,366.744,1351.3300000000002,284.25,9801.002,22.128,414.03999999999996,591.0519999999999,5964.418,4350.738,976.1239999999999,6596.820000000001,895.79,1020.448,6312.53,283.92,211.11,2994.0879999999997,339.96,1740.08,2.808,321.978,606.91,71.18,1558.1000000000001,116.312,274.428,685.0,1067.942,3815.788,6590.146,2201.112,1562.086,2243.21,494.996,1714.3754999999999,2.214,1842.8319999999999,1717.08,1540.708,108841.749,11000.257,145.9,212.91,3727.92,3530.3746,1436.836,2138.178,1344.942,1482.502,90.44,737.0528,7.824,248.95,16.28,3905.181,15980.65,2761.234,1686.9379999999999,1276.459,4312.692,231.852,152.64000000000001,873.7120000000001,333.576,2891.021,1098.257,1959.803,41.904,644.062,1242.6319999999998,833.26,1288.4640000000002,17663.87,1114.192,1944.2459999999999,7974.53,132.52,11.85,3166.228,469.77,40.41,534.852,8.952,3588.626,6652.32,4854.0527999999995,35.34,7311.278,395.86,1659.65,1331.82,285.96000000000004,192.82999999999998,697.16,753.184,3444.245,728.8910000000001,802.776,650.636,21843.528,256.136,90.05799999999999,47521.029,109041.12,2061.01,6071.229,3.62,108.44399999999999,75.18,1997.03,225.54600000000002,3366.31,3896.048,222.192,100.92,115.44,1466.307,116106.322,79.74000000000001,73.33,76.072,1137.42,568.832,2978.5789999999997,1238.33,1455.39,2561.96,2027.9180000000001,4.3,41827.81,110.03999999999999,1227.6,1597.9,406.93999999999994,636.21,1299.73,7250.669,1413.51,5196.0805,353.7,808.6659999999999,1070.3020000000001,654.24,790.972,142.16000000000003,151.292,765.248,238.804,1393.7820000000002,22.288,4358.935,3132.268,1765.1950000000002,4507.091,6313.016,5556.97,175.70000000000002,1148.806,347.206,149.12,575.05,423.28,1221.41,686.836,647.966,5752.13,318.78000000000003,606.1072,434.8,2426.84,2865.02,1326.06,30.32,4044.998,54.5,317.48,3058.77,250.48000000000002,311.85,141.328,519.72,2057.976,3583.486,1946.9660000000001,444.768,825.27,7297.061000000001,368.73199999999997,607.65,264.66200000000003,857.2500000000001,195.55,7657.666,817.978,50.8,840.865],\"yaxis\":\"y\",\"type\":\"bar\"}],                        {\"template\":{\"data\":{\"bar\":[{\"error_x\":{\"color\":\"#2a3f5f\"},\"error_y\":{\"color\":\"#2a3f5f\"},\"marker\":{\"line\":{\"color\":\"#E5ECF6\",\"width\":0.5},\"pattern\":{\"fillmode\":\"overlay\",\"size\":10,\"solidity\":0.2}},\"type\":\"bar\"}],\"barpolar\":[{\"marker\":{\"line\":{\"color\":\"#E5ECF6\",\"width\":0.5},\"pattern\":{\"fillmode\":\"overlay\",\"size\":10,\"solidity\":0.2}},\"type\":\"barpolar\"}],\"carpet\":[{\"aaxis\":{\"endlinecolor\":\"#2a3f5f\",\"gridcolor\":\"white\",\"linecolor\":\"white\",\"minorgridcolor\":\"white\",\"startlinecolor\":\"#2a3f5f\"},\"baxis\":{\"endlinecolor\":\"#2a3f5f\",\"gridcolor\":\"white\",\"linecolor\":\"white\",\"minorgridcolor\":\"white\",\"startlinecolor\":\"#2a3f5f\"},\"type\":\"carpet\"}],\"choropleth\":[{\"colorbar\":{\"outlinewidth\":0,\"ticks\":\"\"},\"type\":\"choropleth\"}],\"contour\":[{\"colorbar\":{\"outlinewidth\":0,\"ticks\":\"\"},\"colorscale\":[[0.0,\"#0d0887\"],[0.1111111111111111,\"#46039f\"],[0.2222222222222222,\"#7201a8\"],[0.3333333333333333,\"#9c179e\"],[0.4444444444444444,\"#bd3786\"],[0.5555555555555556,\"#d8576b\"],[0.6666666666666666,\"#ed7953\"],[0.7777777777777778,\"#fb9f3a\"],[0.8888888888888888,\"#fdca26\"],[1.0,\"#f0f921\"]],\"type\":\"contour\"}],\"contourcarpet\":[{\"colorbar\":{\"outlinewidth\":0,\"ticks\":\"\"},\"type\":\"contourcarpet\"}],\"heatmap\":[{\"colorbar\":{\"outlinewidth\":0,\"ticks\":\"\"},\"colorscale\":[[0.0,\"#0d0887\"],[0.1111111111111111,\"#46039f\"],[0.2222222222222222,\"#7201a8\"],[0.3333333333333333,\"#9c179e\"],[0.4444444444444444,\"#bd3786\"],[0.5555555555555556,\"#d8576b\"],[0.6666666666666666,\"#ed7953\"],[0.7777777777777778,\"#fb9f3a\"],[0.8888888888888888,\"#fdca26\"],[1.0,\"#f0f921\"]],\"type\":\"heatmap\"}],\"heatmapgl\":[{\"colorbar\":{\"outlinewidth\":0,\"ticks\":\"\"},\"colorscale\":[[0.0,\"#0d0887\"],[0.1111111111111111,\"#46039f\"],[0.2222222222222222,\"#7201a8\"],[0.3333333333333333,\"#9c179e\"],[0.4444444444444444,\"#bd3786\"],[0.5555555555555556,\"#d8576b\"],[0.6666666666666666,\"#ed7953\"],[0.7777777777777778,\"#fb9f3a\"],[0.8888888888888888,\"#fdca26\"],[1.0,\"#f0f921\"]],\"type\":\"heatmapgl\"}],\"histogram\":[{\"marker\":{\"pattern\":{\"fillmode\":\"overlay\",\"size\":10,\"solidity\":0.2}},\"type\":\"histogram\"}],\"histogram2d\":[{\"colorbar\":{\"outlinewidth\":0,\"ticks\":\"\"},\"colorscale\":[[0.0,\"#0d0887\"],[0.1111111111111111,\"#46039f\"],[0.2222222222222222,\"#7201a8\"],[0.3333333333333333,\"#9c179e\"],[0.4444444444444444,\"#bd3786\"],[0.5555555555555556,\"#d8576b\"],[0.6666666666666666,\"#ed7953\"],[0.7777777777777778,\"#fb9f3a\"],[0.8888888888888888,\"#fdca26\"],[1.0,\"#f0f921\"]],\"type\":\"histogram2d\"}],\"histogram2dcontour\":[{\"colorbar\":{\"outlinewidth\":0,\"ticks\":\"\"},\"colorscale\":[[0.0,\"#0d0887\"],[0.1111111111111111,\"#46039f\"],[0.2222222222222222,\"#7201a8\"],[0.3333333333333333,\"#9c179e\"],[0.4444444444444444,\"#bd3786\"],[0.5555555555555556,\"#d8576b\"],[0.6666666666666666,\"#ed7953\"],[0.7777777777777778,\"#fb9f3a\"],[0.8888888888888888,\"#fdca26\"],[1.0,\"#f0f921\"]],\"type\":\"histogram2dcontour\"}],\"mesh3d\":[{\"colorbar\":{\"outlinewidth\":0,\"ticks\":\"\"},\"type\":\"mesh3d\"}],\"parcoords\":[{\"line\":{\"colorbar\":{\"outlinewidth\":0,\"ticks\":\"\"}},\"type\":\"parcoords\"}],\"pie\":[{\"automargin\":true,\"type\":\"pie\"}],\"scatter\":[{\"marker\":{\"colorbar\":{\"outlinewidth\":0,\"ticks\":\"\"}},\"type\":\"scatter\"}],\"scatter3d\":[{\"line\":{\"colorbar\":{\"outlinewidth\":0,\"ticks\":\"\"}},\"marker\":{\"colorbar\":{\"outlinewidth\":0,\"ticks\":\"\"}},\"type\":\"scatter3d\"}],\"scattercarpet\":[{\"marker\":{\"colorbar\":{\"outlinewidth\":0,\"ticks\":\"\"}},\"type\":\"scattercarpet\"}],\"scattergeo\":[{\"marker\":{\"colorbar\":{\"outlinewidth\":0,\"ticks\":\"\"}},\"type\":\"scattergeo\"}],\"scattergl\":[{\"marker\":{\"colorbar\":{\"outlinewidth\":0,\"ticks\":\"\"}},\"type\":\"scattergl\"}],\"scattermapbox\":[{\"marker\":{\"colorbar\":{\"outlinewidth\":0,\"ticks\":\"\"}},\"type\":\"scattermapbox\"}],\"scatterpolar\":[{\"marker\":{\"colorbar\":{\"outlinewidth\":0,\"ticks\":\"\"}},\"type\":\"scatterpolar\"}],\"scatterpolargl\":[{\"marker\":{\"colorbar\":{\"outlinewidth\":0,\"ticks\":\"\"}},\"type\":\"scatterpolargl\"}],\"scatterternary\":[{\"marker\":{\"colorbar\":{\"outlinewidth\":0,\"ticks\":\"\"}},\"type\":\"scatterternary\"}],\"surface\":[{\"colorbar\":{\"outlinewidth\":0,\"ticks\":\"\"},\"colorscale\":[[0.0,\"#0d0887\"],[0.1111111111111111,\"#46039f\"],[0.2222222222222222,\"#7201a8\"],[0.3333333333333333,\"#9c179e\"],[0.4444444444444444,\"#bd3786\"],[0.5555555555555556,\"#d8576b\"],[0.6666666666666666,\"#ed7953\"],[0.7777777777777778,\"#fb9f3a\"],[0.8888888888888888,\"#fdca26\"],[1.0,\"#f0f921\"]],\"type\":\"surface\"}],\"table\":[{\"cells\":{\"fill\":{\"color\":\"#EBF0F8\"},\"line\":{\"color\":\"white\"}},\"header\":{\"fill\":{\"color\":\"#C8D4E3\"},\"line\":{\"color\":\"white\"}},\"type\":\"table\"}]},\"layout\":{\"annotationdefaults\":{\"arrowcolor\":\"#2a3f5f\",\"arrowhead\":0,\"arrowwidth\":1},\"autotypenumbers\":\"strict\",\"coloraxis\":{\"colorbar\":{\"outlinewidth\":0,\"ticks\":\"\"}},\"colorscale\":{\"diverging\":[[0,\"#8e0152\"],[0.1,\"#c51b7d\"],[0.2,\"#de77ae\"],[0.3,\"#f1b6da\"],[0.4,\"#fde0ef\"],[0.5,\"#f7f7f7\"],[0.6,\"#e6f5d0\"],[0.7,\"#b8e186\"],[0.8,\"#7fbc41\"],[0.9,\"#4d9221\"],[1,\"#276419\"]],\"sequential\":[[0.0,\"#0d0887\"],[0.1111111111111111,\"#46039f\"],[0.2222222222222222,\"#7201a8\"],[0.3333333333333333,\"#9c179e\"],[0.4444444444444444,\"#bd3786\"],[0.5555555555555556,\"#d8576b\"],[0.6666666666666666,\"#ed7953\"],[0.7777777777777778,\"#fb9f3a\"],[0.8888888888888888,\"#fdca26\"],[1.0,\"#f0f921\"]],\"sequentialminus\":[[0.0,\"#0d0887\"],[0.1111111111111111,\"#46039f\"],[0.2222222222222222,\"#7201a8\"],[0.3333333333333333,\"#9c179e\"],[0.4444444444444444,\"#bd3786\"],[0.5555555555555556,\"#d8576b\"],[0.6666666666666666,\"#ed7953\"],[0.7777777777777778,\"#fb9f3a\"],[0.8888888888888888,\"#fdca26\"],[1.0,\"#f0f921\"]]},\"colorway\":[\"#636efa\",\"#EF553B\",\"#00cc96\",\"#ab63fa\",\"#FFA15A\",\"#19d3f3\",\"#FF6692\",\"#B6E880\",\"#FF97FF\",\"#FECB52\"],\"font\":{\"color\":\"#2a3f5f\"},\"geo\":{\"bgcolor\":\"white\",\"lakecolor\":\"white\",\"landcolor\":\"#E5ECF6\",\"showlakes\":true,\"showland\":true,\"subunitcolor\":\"white\"},\"hoverlabel\":{\"align\":\"left\"},\"hovermode\":\"closest\",\"mapbox\":{\"style\":\"light\"},\"paper_bgcolor\":\"white\",\"plot_bgcolor\":\"#E5ECF6\",\"polar\":{\"angularaxis\":{\"gridcolor\":\"white\",\"linecolor\":\"white\",\"ticks\":\"\"},\"bgcolor\":\"#E5ECF6\",\"radialaxis\":{\"gridcolor\":\"white\",\"linecolor\":\"white\",\"ticks\":\"\"}},\"scene\":{\"xaxis\":{\"backgroundcolor\":\"#E5ECF6\",\"gridcolor\":\"white\",\"gridwidth\":2,\"linecolor\":\"white\",\"showbackground\":true,\"ticks\":\"\",\"zerolinecolor\":\"white\"},\"yaxis\":{\"backgroundcolor\":\"#E5ECF6\",\"gridcolor\":\"white\",\"gridwidth\":2,\"linecolor\":\"white\",\"showbackground\":true,\"ticks\":\"\",\"zerolinecolor\":\"white\"},\"zaxis\":{\"backgroundcolor\":\"#E5ECF6\",\"gridcolor\":\"white\",\"gridwidth\":2,\"linecolor\":\"white\",\"showbackground\":true,\"ticks\":\"\",\"zerolinecolor\":\"white\"}},\"shapedefaults\":{\"line\":{\"color\":\"#2a3f5f\"}},\"ternary\":{\"aaxis\":{\"gridcolor\":\"white\",\"linecolor\":\"white\",\"ticks\":\"\"},\"baxis\":{\"gridcolor\":\"white\",\"linecolor\":\"white\",\"ticks\":\"\"},\"bgcolor\":\"#E5ECF6\",\"caxis\":{\"gridcolor\":\"white\",\"linecolor\":\"white\",\"ticks\":\"\"}},\"title\":{\"x\":0.05},\"xaxis\":{\"automargin\":true,\"gridcolor\":\"white\",\"linecolor\":\"white\",\"ticks\":\"\",\"title\":{\"standoff\":15},\"zerolinecolor\":\"white\",\"zerolinewidth\":2},\"yaxis\":{\"automargin\":true,\"gridcolor\":\"white\",\"linecolor\":\"white\",\"ticks\":\"\",\"title\":{\"standoff\":15},\"zerolinecolor\":\"white\",\"zerolinewidth\":2}}},\"xaxis\":{\"anchor\":\"y\",\"domain\":[0.0,1.0],\"title\":{\"text\":\"City\"}},\"yaxis\":{\"anchor\":\"x\",\"domain\":[0.0,1.0],\"title\":{\"text\":\"value\"}},\"legend\":{\"title\":{\"text\":\"variable\"},\"tracegroupgap\":0},\"margin\":{\"t\":60},\"barmode\":\"relative\"},                        {\"responsive\": true}                    ).then(function(){\n",
              "                            \n",
              "var gd = document.getElementById('7932e48b-cf32-4c11-a30f-cbc6e583049e');\n",
              "var x = new MutationObserver(function (mutations, observer) {{\n",
              "        var display = window.getComputedStyle(gd).display;\n",
              "        if (!display || display === 'none') {{\n",
              "            console.log([gd, 'removed!']);\n",
              "            Plotly.purge(gd);\n",
              "            observer.disconnect();\n",
              "        }}\n",
              "}});\n",
              "\n",
              "// Listen for the removal of the full notebook cells\n",
              "var notebookContainer = gd.closest('#notebook-container');\n",
              "if (notebookContainer) {{\n",
              "    x.observe(notebookContainer, {childList: true});\n",
              "}}\n",
              "\n",
              "// Listen for the clearing of the current output cell\n",
              "var outputEl = gd.closest('.output');\n",
              "if (outputEl) {{\n",
              "    x.observe(outputEl, {childList: true});\n",
              "}}\n",
              "\n",
              "                        })                };                            </script>        </div>\n",
              "</body>\n",
              "</html>"
            ]
          },
          "metadata": {}
        }
      ]
    },
    {
      "cell_type": "code",
      "source": [
        "g  = g.sort_values(ascending=False)\n",
        "print(g.head(3))"
      ],
      "metadata": {
        "colab": {
          "base_uri": "https://localhost:8080/"
        },
        "id": "2GUSTzR7WbAS",
        "outputId": "f821bf6b-6d56-41c2-ce5e-928362725e94"
      },
      "execution_count": null,
      "outputs": [
        {
          "output_type": "stream",
          "name": "stdout",
          "text": [
            "City\n",
            "New York City    252462.547\n",
            "Los Angeles      173420.181\n",
            "Seattle          116106.322\n",
            "Name: Sales, dtype: float64\n"
          ]
        }
      ]
    },
    {
      "cell_type": "code",
      "source": [
        "print(g.tail(3))"
      ],
      "metadata": {
        "colab": {
          "base_uri": "https://localhost:8080/"
        },
        "id": "osEjJsP-Wnae",
        "outputId": "344f68e6-fb3f-4110-b2a1-55a762dc2f28"
      },
      "execution_count": null,
      "outputs": [
        {
          "output_type": "stream",
          "name": "stdout",
          "text": [
            "City\n",
            "Jupiter    2.064\n",
            "Elyria     1.824\n",
            "Abilene    1.392\n",
            "Name: Sales, dtype: float64\n"
          ]
        }
      ]
    },
    {
      "cell_type": "markdown",
      "source": [
        "#**YC6: Vẽ biểu đồ thể hiện tỉ trọng doanh số theo bang (state) và cho biết trung bình doanh số của 5 bang dẫn đầu về sức mua.**"
      ],
      "metadata": {
        "id": "rcmGMbbdOARQ"
      }
    },
    {
      "cell_type": "code",
      "source": [
        "g = train\n",
        "fig = px.pie(g, values='Sales', names='State')\n",
        "fig.show()"
      ],
      "metadata": {
        "colab": {
          "base_uri": "https://localhost:8080/",
          "height": 542
        },
        "id": "eYGYgYtTXQ2_",
        "outputId": "df252d28-b1ea-4e2b-9a83-d62875843ea7"
      },
      "execution_count": null,
      "outputs": [
        {
          "output_type": "display_data",
          "data": {
            "text/html": [
              "<html>\n",
              "<head><meta charset=\"utf-8\" /></head>\n",
              "<body>\n",
              "    <div>            <script src=\"https://cdnjs.cloudflare.com/ajax/libs/mathjax/2.7.5/MathJax.js?config=TeX-AMS-MML_SVG\"></script><script type=\"text/javascript\">if (window.MathJax) {MathJax.Hub.Config({SVG: {font: \"STIX-Web\"}});}</script>                <script type=\"text/javascript\">window.PlotlyConfig = {MathJaxConfig: 'local'};</script>\n",
              "        <script src=\"https://cdn.plot.ly/plotly-2.8.3.min.js\"></script>                <div id=\"d4ca6d14-9b3f-486d-9994-b1c159ba02da\" class=\"plotly-graph-div\" style=\"height:525px; width:100%;\"></div>            <script type=\"text/javascript\">                                    window.PLOTLYENV=window.PLOTLYENV || {};                                    if (document.getElementById(\"d4ca6d14-9b3f-486d-9994-b1c159ba02da\")) {                    Plotly.newPlot(                        \"d4ca6d14-9b3f-486d-9994-b1c159ba02da\",                        [{\"domain\":{\"x\":[0.0,1.0],\"y\":[0.0,1.0]},\"hovertemplate\":\"State=%{label}<br>Sales=%{value}<extra></extra>\",\"labels\":[\"Kentucky\",\"Kentucky\",\"California\",\"Florida\",\"Florida\",\"California\",\"California\",\"California\",\"California\",\"California\",\"California\",\"California\",\"North Carolina\",\"Washington\",\"Texas\",\"Texas\",\"Wisconsin\",\"Utah\",\"California\",\"California\",\"California\",\"Nebraska\",\"Nebraska\",\"Pennsylvania\",\"Utah\",\"California\",\"California\",\"Pennsylvania\",\"Pennsylvania\",\"Pennsylvania\",\"Pennsylvania\",\"Pennsylvania\",\"Pennsylvania\",\"Pennsylvania\",\"Texas\",\"Texas\",\"Texas\",\"Texas\",\"Texas\",\"Texas\",\"Texas\",\"Illinois\",\"California\",\"Florida\",\"Minnesota\",\"Minnesota\",\"Michigan\",\"Delaware\",\"Delaware\",\"Indiana\",\"Indiana\",\"Indiana\",\"Indiana\",\"New York\",\"New York\",\"New York\",\"New York\",\"New York\",\"New York\",\"New York\",\"New York\",\"New York\",\"California\",\"California\",\"California\",\"California\",\"Illinois\",\"Arizona\",\"Arizona\",\"Virginia\",\"New York\",\"Michigan\",\"Tennessee\",\"Tennessee\",\"Tennessee\",\"Texas\",\"Texas\",\"Texas\",\"Texas\",\"Alabama\",\"Alabama\",\"California\",\"California\",\"North Carolina\",\"Illinois\",\"South Carolina\",\"Minnesota\",\"Minnesota\",\"Texas\",\"California\",\"California\",\"California\",\"Minnesota\",\"Minnesota\",\"Minnesota\",\"Oregon\",\"New York\",\"California\",\"Minnesota\",\"Illinois\",\"Illinois\",\"Illinois\",\"Minnesota\",\"Colorado\",\"Colorado\",\"Colorado\",\"North Carolina\",\"North Carolina\",\"North Carolina\",\"Illinois\",\"New York\",\"Iowa\",\"Iowa\",\"Ohio\",\"Ohio\",\"Ohio\",\"Ohio\",\"Washington\",\"Tennessee\",\"Delaware\",\"Delaware\",\"Delaware\",\"Delaware\",\"Delaware\",\"Texas\",\"Illinois\",\"Arizona\",\"Arizona\",\"California\",\"California\",\"Ohio\",\"Ohio\",\"Ohio\",\"California\",\"California\",\"California\",\"California\",\"California\",\"California\",\"California\",\"Pennsylvania\",\"California\",\"California\",\"California\",\"Missouri\",\"California\",\"Ohio\",\"Wisconsin\",\"Wisconsin\",\"Wisconsin\",\"Wisconsin\",\"Arizona\",\"Arizona\",\"California\",\"California\",\"California\",\"Washington\",\"Washington\",\"Oklahoma\",\"Oklahoma\",\"California\",\"Pennsylvania\",\"New Mexico\",\"Washington\",\"Texas\",\"Texas\",\"Texas\",\"Texas\",\"Texas\",\"Texas\",\"Texas\",\"California\",\"California\",\"California\",\"Illinois\",\"Illinois\",\"Texas\",\"Ohio\",\"Ohio\",\"New York\",\"Illinois\",\"Illinois\",\"Louisiana\",\"Louisiana\",\"Louisiana\",\"Connecticut\",\"California\",\"Texas\",\"Texas\",\"New York\",\"New York\",\"New York\",\"New York\",\"New York\",\"California\",\"Ohio\",\"Ohio\",\"New Jersey\",\"Pennsylvania\",\"Pennsylvania\",\"Ohio\",\"Colorado\",\"Colorado\",\"Texas\",\"Tennessee\",\"California\",\"Michigan\",\"Michigan\",\"Michigan\",\"Michigan\",\"Michigan\",\"Texas\",\"Ohio\",\"Ohio\",\"Ohio\",\"Ohio\",\"Ohio\",\"California\",\"California\",\"Ohio\",\"Ohio\",\"Ohio\",\"Ohio\",\"Ohio\",\"Ohio\",\"Michigan\",\"Michigan\",\"Michigan\",\"Tennessee\",\"Tennessee\",\"North Carolina\",\"Florida\",\"Florida\",\"Florida\",\"Florida\",\"Florida\",\"California\",\"Illinois\",\"Illinois\",\"Illinois\",\"Illinois\",\"Illinois\",\"Illinois\",\"Illinois\",\"Minnesota\",\"Minnesota\",\"Minnesota\",\"Minnesota\",\"Minnesota\",\"California\",\"California\",\"California\",\"New York\",\"New York\",\"Illinois\",\"Illinois\",\"Illinois\",\"Illinois\",\"New York\",\"New York\",\"New York\",\"Texas\",\"Texas\",\"Texas\",\"Illinois\",\"California\",\"North Carolina\",\"New Jersey\",\"Ohio\",\"Ohio\",\"California\",\"California\",\"California\",\"California\",\"California\",\"California\",\"Pennsylvania\",\"Pennsylvania\",\"Pennsylvania\",\"Pennsylvania\",\"Texas\",\"Texas\",\"California\",\"Oregon\",\"Oregon\",\"Oregon\",\"Florida\",\"Florida\",\"Florida\",\"Ohio\",\"Ohio\",\"Ohio\",\"Ohio\",\"Colorado\",\"Colorado\",\"Colorado\",\"Colorado\",\"Colorado\",\"New Jersey\",\"New Jersey\",\"New Jersey\",\"New Jersey\",\"New Jersey\",\"Illinois\",\"New York\",\"Michigan\",\"New Jersey\",\"New Jersey\",\"Virginia\",\"Colorado\",\"Colorado\",\"Colorado\",\"Colorado\",\"New Jersey\",\"Florida\",\"Florida\",\"Pennsylvania\",\"New York\",\"New York\",\"New York\",\"New York\",\"New York\",\"California\",\"California\",\"California\",\"Tennessee\",\"Pennsylvania\",\"Pennsylvania\",\"Pennsylvania\",\"Pennsylvania\",\"Pennsylvania\",\"Pennsylvania\",\"Pennsylvania\",\"Pennsylvania\",\"California\",\"California\",\"California\",\"California\",\"California\",\"Utah\",\"Pennsylvania\",\"Pennsylvania\",\"Pennsylvania\",\"Pennsylvania\",\"Texas\",\"California\",\"Massachusetts\",\"Massachusetts\",\"Massachusetts\",\"New York\",\"New York\",\"New York\",\"New York\",\"New York\",\"New York\",\"New York\",\"New York\",\"New York\",\"North Carolina\",\"Georgia\",\"Georgia\",\"New York\",\"New York\",\"New York\",\"New York\",\"California\",\"Connecticut\",\"Connecticut\",\"Connecticut\",\"Connecticut\",\"Texas\",\"Texas\",\"Arizona\",\"Arizona\",\"Arizona\",\"Arizona\",\"Illinois\",\"Massachusetts\",\"Texas\",\"Texas\",\"Texas\",\"California\",\"California\",\"Michigan\",\"Florida\",\"Florida\",\"Pennsylvania\",\"Pennsylvania\",\"Ohio\",\"New York\",\"New York\",\"Washington\",\"Washington\",\"Illinois\",\"Nevada\",\"Rhode Island\",\"Rhode Island\",\"Michigan\",\"Texas\",\"Texas\",\"Texas\",\"Texas\",\"Florida\",\"North Carolina\",\"New York\",\"California\",\"California\",\"California\",\"California\",\"California\",\"California\",\"California\",\"California\",\"California\",\"Washington\",\"Washington\",\"California\",\"California\",\"Kentucky\",\"California\",\"California\",\"Colorado\",\"Massachusetts\",\"Massachusetts\",\"Mississippi\",\"Michigan\",\"Michigan\",\"New York\",\"Texas\",\"North Carolina\",\"North Carolina\",\"North Carolina\",\"North Carolina\",\"Massachusetts\",\"Florida\",\"Florida\",\"Illinois\",\"Illinois\",\"Texas\",\"New York\",\"Michigan\",\"Michigan\",\"Michigan\",\"Michigan\",\"Michigan\",\"Michigan\",\"Indiana\",\"New York\",\"New York\",\"New York\",\"New York\",\"New York\",\"New York\",\"Ohio\",\"Ohio\",\"Oklahoma\",\"California\",\"Illinois\",\"Illinois\",\"Washington\",\"Washington\",\"Washington\",\"Arizona\",\"Arizona\",\"Arizona\",\"Arizona\",\"Arizona\",\"Illinois\",\"Texas\",\"Illinois\",\"New York\",\"California\",\"California\",\"California\",\"California\",\"California\",\"California\",\"California\",\"New York\",\"New York\",\"New York\",\"California\",\"New York\",\"New York\",\"California\",\"California\",\"California\",\"Illinois\",\"Texas\",\"Texas\",\"Texas\",\"New York\",\"New York\",\"Washington\",\"Tennessee\",\"Arkansas\",\"California\",\"California\",\"California\",\"California\",\"Colorado\",\"Colorado\",\"Colorado\",\"Colorado\",\"Colorado\",\"New York\",\"Georgia\",\"Georgia\",\"Georgia\",\"Georgia\",\"Missouri\",\"Missouri\",\"Ohio\",\"California\",\"California\",\"Montana\",\"Montana\",\"Montana\",\"Montana\",\"Texas\",\"Texas\",\"Texas\",\"Michigan\",\"California\",\"California\",\"Massachusetts\",\"Florida\",\"Florida\",\"Pennsylvania\",\"Pennsylvania\",\"Pennsylvania\",\"California\",\"California\",\"Alabama\",\"Alabama\",\"Arizona\",\"Illinois\",\"New York\",\"Kentucky\",\"Kentucky\",\"Wisconsin\",\"Arizona\",\"Ohio\",\"Texas\",\"Texas\",\"Texas\",\"New York\",\"New York\",\"Illinois\",\"Illinois\",\"Illinois\",\"California\",\"Florida\",\"Texas\",\"California\",\"North Carolina\",\"California\",\"California\",\"California\",\"California\",\"California\",\"Florida\",\"Florida\",\"Washington\",\"Washington\",\"California\",\"Washington\",\"Washington\",\"Washington\",\"Washington\",\"New York\",\"New York\",\"New York\",\"New York\",\"Washington\",\"California\",\"California\",\"California\",\"Illinois\",\"Illinois\",\"California\",\"Colorado\",\"Colorado\",\"Colorado\",\"Colorado\",\"Colorado\",\"Kentucky\",\"Kentucky\",\"Oregon\",\"Oregon\",\"Oregon\",\"Oregon\",\"Texas\",\"Texas\",\"California\",\"California\",\"California\",\"California\",\"Pennsylvania\",\"Pennsylvania\",\"Pennsylvania\",\"Pennsylvania\",\"Florida\",\"Florida\",\"Florida\",\"Florida\",\"Florida\",\"Pennsylvania\",\"Pennsylvania\",\"Pennsylvania\",\"Texas\",\"Texas\",\"Pennsylvania\",\"Pennsylvania\",\"Ohio\",\"Ohio\",\"New York\",\"New York\",\"New York\",\"New York\",\"New York\",\"Illinois\",\"Michigan\",\"Michigan\",\"Michigan\",\"Michigan\",\"New York\",\"Washington\",\"California\",\"California\",\"Colorado\",\"Colorado\",\"Colorado\",\"Florida\",\"Florida\",\"Georgia\",\"Colorado\",\"Colorado\",\"California\",\"California\",\"Minnesota\",\"California\",\"California\",\"Michigan\",\"New Jersey\",\"Indiana\",\"Arizona\",\"Arizona\",\"Washington\",\"Washington\",\"Washington\",\"New York\",\"New York\",\"New York\",\"Ohio\",\"Ohio\",\"Ohio\",\"Illinois\",\"Illinois\",\"Texas\",\"Texas\",\"Texas\",\"Texas\",\"New York\",\"Kentucky\",\"Texas\",\"Texas\",\"Texas\",\"Ohio\",\"Illinois\",\"Illinois\",\"Illinois\",\"Illinois\",\"Indiana\",\"Indiana\",\"Indiana\",\"Texas\",\"Texas\",\"Texas\",\"Texas\",\"New York\",\"New York\",\"New York\",\"North Carolina\",\"North Carolina\",\"Mississippi\",\"Mississippi\",\"Mississippi\",\"New York\",\"Virginia\",\"Virginia\",\"Virginia\",\"California\",\"California\",\"Pennsylvania\",\"Pennsylvania\",\"Pennsylvania\",\"Pennsylvania\",\"Pennsylvania\",\"Pennsylvania\",\"Pennsylvania\",\"Ohio\",\"Washington\",\"California\",\"North Carolina\",\"North Carolina\",\"North Carolina\",\"New York\",\"New York\",\"New York\",\"New York\",\"Florida\",\"New York\",\"New York\",\"New York\",\"Washington\",\"Delaware\",\"Ohio\",\"Utah\",\"Utah\",\"California\",\"Michigan\",\"Michigan\",\"Pennsylvania\",\"Florida\",\"Texas\",\"Texas\",\"New York\",\"New York\",\"New York\",\"New York\",\"New York\",\"Washington\",\"Washington\",\"Washington\",\"Washington\",\"Washington\",\"Washington\",\"California\",\"Illinois\",\"Illinois\",\"Illinois\",\"Texas\",\"Texas\",\"Texas\",\"Texas\",\"California\",\"California\",\"Illinois\",\"Michigan\",\"Michigan\",\"Michigan\",\"Michigan\",\"California\",\"California\",\"Florida\",\"Minnesota\",\"Minnesota\",\"New York\",\"Wisconsin\",\"California\",\"Georgia\",\"Ohio\",\"Louisiana\",\"Louisiana\",\"Louisiana\",\"Louisiana\",\"Louisiana\",\"Florida\",\"Virginia\",\"Iowa\",\"Iowa\",\"Iowa\",\"Iowa\",\"Iowa\",\"Iowa\",\"Ohio\",\"California\",\"California\",\"California\",\"California\",\"Ohio\",\"Ohio\",\"Ohio\",\"Ohio\",\"South Carolina\",\"California\",\"California\",\"Virginia\",\"Virginia\",\"Virginia\",\"Virginia\",\"North Carolina\",\"California\",\"California\",\"Minnesota\",\"New York\",\"New York\",\"New York\",\"California\",\"California\",\"California\",\"New York\",\"Louisiana\",\"California\",\"Colorado\",\"Colorado\",\"Nebraska\",\"Nebraska\",\"Washington\",\"Washington\",\"Washington\",\"Washington\",\"California\",\"California\",\"Wisconsin\",\"Pennsylvania\",\"Pennsylvania\",\"Pennsylvania\",\"Pennsylvania\",\"Pennsylvania\",\"Pennsylvania\",\"New Jersey\",\"New Jersey\",\"California\",\"California\",\"Minnesota\",\"Minnesota\",\"Minnesota\",\"Kentucky\",\"Kentucky\",\"Kentucky\",\"Kentucky\",\"Florida\",\"Florida\",\"Florida\",\"Texas\",\"Tennessee\",\"Texas\",\"New York\",\"New York\",\"New York\",\"California\",\"California\",\"California\",\"California\",\"Kentucky\",\"Kentucky\",\"Ohio\",\"New Jersey\",\"California\",\"California\",\"Mississippi\",\"New York\",\"New York\",\"New York\",\"New York\",\"New York\",\"New Jersey\",\"New Jersey\",\"California\",\"California\",\"Florida\",\"Florida\",\"Florida\",\"Virginia\",\"Virginia\",\"Pennsylvania\",\"Pennsylvania\",\"Pennsylvania\",\"Pennsylvania\",\"New Hampshire\",\"New York\",\"New York\",\"North Carolina\",\"New Hampshire\",\"New Hampshire\",\"New Hampshire\",\"Pennsylvania\",\"New York\",\"New York\",\"Virginia\",\"California\",\"Michigan\",\"New York\",\"California\",\"California\",\"Maryland\",\"California\",\"New York\",\"New York\",\"Michigan\",\"Michigan\",\"Michigan\",\"California\",\"California\",\"Texas\",\"Michigan\",\"New York\",\"Ohio\",\"Texas\",\"Texas\",\"Illinois\",\"California\",\"California\",\"California\",\"New York\",\"New York\",\"New York\",\"Michigan\",\"Michigan\",\"Michigan\",\"Connecticut\",\"Wisconsin\",\"Wisconsin\",\"Texas\",\"Texas\",\"Texas\",\"Texas\",\"Texas\",\"Virginia\",\"New York\",\"New York\",\"New York\",\"New York\",\"Pennsylvania\",\"Pennsylvania\",\"Virginia\",\"Virginia\",\"Ohio\",\"Ohio\",\"Ohio\",\"Pennsylvania\",\"Pennsylvania\",\"Pennsylvania\",\"Pennsylvania\",\"Pennsylvania\",\"New Mexico\",\"California\",\"California\",\"California\",\"California\",\"California\",\"Washington\",\"Washington\",\"Washington\",\"Arizona\",\"Pennsylvania\",\"Pennsylvania\",\"Pennsylvania\",\"Pennsylvania\",\"Pennsylvania\",\"Pennsylvania\",\"Texas\",\"Texas\",\"Mississippi\",\"Arizona\",\"Arizona\",\"Arizona\",\"California\",\"California\",\"Arkansas\",\"California\",\"Florida\",\"New York\",\"New York\",\"New York\",\"New York\",\"New York\",\"New York\",\"Pennsylvania\",\"Pennsylvania\",\"Pennsylvania\",\"Pennsylvania\",\"New York\",\"New York\",\"Oregon\",\"Michigan\",\"North Carolina\",\"Indiana\",\"New York\",\"Colorado\",\"Colorado\",\"Colorado\",\"Texas\",\"Texas\",\"Texas\",\"Texas\",\"New York\",\"New York\",\"Florida\",\"New York\",\"California\",\"California\",\"Virginia\",\"Virginia\",\"Kentucky\",\"Kentucky\",\"Kentucky\",\"Kentucky\",\"Washington\",\"New York\",\"New York\",\"New York\",\"California\",\"North Carolina\",\"Arizona\",\"Arizona\",\"Iowa\",\"Illinois\",\"California\",\"Washington\",\"Washington\",\"Washington\",\"Washington\",\"California\",\"New York\",\"New York\",\"New York\",\"New York\",\"District of Columbia\",\"District of Columbia\",\"District of Columbia\",\"Pennsylvania\",\"California\",\"Ohio\",\"Ohio\",\"Ohio\",\"New Jersey\",\"New Jersey\",\"New Jersey\",\"New Jersey\",\"New Jersey\",\"Ohio\",\"Ohio\",\"Ohio\",\"Missouri\",\"California\",\"North Carolina\",\"North Carolina\",\"Missouri\",\"New York\",\"New York\",\"Illinois\",\"Illinois\",\"Illinois\",\"Florida\",\"Florida\",\"California\",\"California\",\"Pennsylvania\",\"Pennsylvania\",\"Pennsylvania\",\"New York\",\"New York\",\"New York\",\"New York\",\"California\",\"California\",\"Pennsylvania\",\"Texas\",\"Ohio\",\"Ohio\",\"Ohio\",\"Ohio\",\"Ohio\",\"Ohio\",\"California\",\"Texas\",\"Pennsylvania\",\"California\",\"Colorado\",\"New York\",\"Arizona\",\"Arizona\",\"Arizona\",\"Indiana\",\"Washington\",\"Washington\",\"Washington\",\"Michigan\",\"Michigan\",\"New York\",\"New York\",\"New York\",\"New York\",\"Iowa\",\"California\",\"California\",\"North Carolina\",\"North Carolina\",\"California\",\"California\",\"Maryland\",\"Maryland\",\"North Carolina\",\"North Carolina\",\"California\",\"California\",\"California\",\"California\",\"California\",\"Texas\",\"Texas\",\"California\",\"Texas\",\"Texas\",\"Texas\",\"Texas\",\"Texas\",\"Texas\",\"Texas\",\"Texas\",\"California\",\"California\",\"California\",\"California\",\"Georgia\",\"Georgia\",\"Georgia\",\"Georgia\",\"Arkansas\",\"Arkansas\",\"Arkansas\",\"Arkansas\",\"Arkansas\",\"Arkansas\",\"Indiana\",\"Indiana\",\"Virginia\",\"Virginia\",\"Virginia\",\"California\",\"Pennsylvania\",\"Pennsylvania\",\"Florida\",\"Indiana\",\"Indiana\",\"Indiana\",\"Indiana\",\"Indiana\",\"California\",\"California\",\"California\",\"California\",\"California\",\"Michigan\",\"Michigan\",\"Michigan\",\"Michigan\",\"Michigan\",\"Ohio\",\"Nevada\",\"Nevada\",\"Virginia\",\"Virginia\",\"Virginia\",\"Virginia\",\"California\",\"Minnesota\",\"Minnesota\",\"California\",\"New York\",\"New York\",\"New York\",\"Michigan\",\"Washington\",\"New York\",\"New York\",\"New York\",\"New York\",\"Michigan\",\"California\",\"Illinois\",\"New York\",\"New Hampshire\",\"California\",\"Maryland\",\"Maryland\",\"Texas\",\"New Jersey\",\"New Jersey\",\"North Carolina\",\"North Carolina\",\"Washington\",\"Washington\",\"Washington\",\"Washington\",\"California\",\"California\",\"California\",\"California\",\"California\",\"Florida\",\"Florida\",\"Florida\",\"Florida\",\"Texas\",\"Texas\",\"Texas\",\"Colorado\",\"Colorado\",\"Colorado\",\"Colorado\",\"Colorado\",\"North Carolina\",\"New York\",\"New York\",\"New York\",\"New York\",\"New York\",\"New York\",\"Pennsylvania\",\"Pennsylvania\",\"Pennsylvania\",\"Pennsylvania\",\"Pennsylvania\",\"Pennsylvania\",\"Pennsylvania\",\"Pennsylvania\",\"California\",\"California\",\"New York\",\"New York\",\"New York\",\"New York\",\"New York\",\"New York\",\"California\",\"California\",\"California\",\"New York\",\"New York\",\"Ohio\",\"Florida\",\"Florida\",\"Florida\",\"Florida\",\"Washington\",\"Washington\",\"Washington\",\"New York\",\"New York\",\"New York\",\"Mississippi\",\"California\",\"California\",\"California\",\"New York\",\"New York\",\"New York\",\"New York\",\"Wisconsin\",\"Pennsylvania\",\"Pennsylvania\",\"Pennsylvania\",\"Pennsylvania\",\"North Carolina\",\"North Carolina\",\"North Carolina\",\"Florida\",\"North Carolina\",\"New York\",\"Indiana\",\"Indiana\",\"California\",\"California\",\"California\",\"Colorado\",\"Alabama\",\"Illinois\",\"Illinois\",\"Illinois\",\"Texas\",\"Texas\",\"Texas\",\"Texas\",\"Texas\",\"Georgia\",\"Georgia\",\"Iowa\",\"Florida\",\"Florida\",\"Florida\",\"Texas\",\"Rhode Island\",\"New York\",\"New York\",\"New York\",\"New York\",\"California\",\"California\",\"California\",\"California\",\"California\",\"Colorado\",\"California\",\"California\",\"Minnesota\",\"California\",\"Virginia\",\"Virginia\",\"Virginia\",\"Georgia\",\"Georgia\",\"Texas\",\"California\",\"California\",\"California\",\"California\",\"California\",\"Massachusetts\",\"Massachusetts\",\"Ohio\",\"California\",\"California\",\"California\",\"Pennsylvania\",\"Florida\",\"Florida\",\"Ohio\",\"Ohio\",\"Kentucky\",\"North Carolina\",\"Massachusetts\",\"Illinois\",\"Pennsylvania\",\"Connecticut\",\"California\",\"California\",\"Ohio\",\"Ohio\",\"Texas\",\"Texas\",\"California\",\"Connecticut\",\"California\",\"New York\",\"New York\",\"New York\",\"North Carolina\",\"North Carolina\",\"North Carolina\",\"New York\",\"New York\",\"Minnesota\",\"Minnesota\",\"Minnesota\",\"Minnesota\",\"Minnesota\",\"Illinois\",\"Virginia\",\"California\",\"California\",\"California\",\"Texas\",\"Texas\",\"Kentucky\",\"Texas\",\"California\",\"Pennsylvania\",\"Pennsylvania\",\"Pennsylvania\",\"Arizona\",\"Arizona\",\"Arizona\",\"Arizona\",\"Arizona\",\"California\",\"Colorado\",\"Colorado\",\"Maryland\",\"California\",\"California\",\"Utah\",\"Utah\",\"Utah\",\"Utah\",\"Utah\",\"Utah\",\"Utah\",\"Illinois\",\"Georgia\",\"Georgia\",\"Georgia\",\"Georgia\",\"Georgia\",\"Georgia\",\"Georgia\",\"Georgia\",\"Georgia\",\"Georgia\",\"Georgia\",\"North Carolina\",\"Illinois\",\"Illinois\",\"New York\",\"New York\",\"New York\",\"New York\",\"Virginia\",\"Virginia\",\"Ohio\",\"Ohio\",\"Pennsylvania\",\"Pennsylvania\",\"Pennsylvania\",\"New York\",\"New York\",\"Arizona\",\"Texas\",\"New York\",\"New York\",\"New York\",\"California\",\"California\",\"Texas\",\"Texas\",\"Texas\",\"Arizona\",\"Arizona\",\"Arizona\",\"Arizona\",\"Arizona\",\"Arizona\",\"Arizona\",\"California\",\"California\",\"California\",\"California\",\"Ohio\",\"Alabama\",\"Alabama\",\"Alabama\",\"Washington\",\"Ohio\",\"Ohio\",\"Texas\",\"Texas\",\"Rhode Island\",\"Rhode Island\",\"California\",\"Kentucky\",\"Colorado\",\"Illinois\",\"Illinois\",\"Illinois\",\"Illinois\",\"Pennsylvania\",\"California\",\"Arizona\",\"Alabama\",\"Alabama\",\"Alabama\",\"Alabama\",\"Georgia\",\"Georgia\",\"Massachusetts\",\"Texas\",\"Connecticut\",\"Washington\",\"New Jersey\",\"Texas\",\"Texas\",\"New York\",\"Arizona\",\"Arizona\",\"Florida\",\"Michigan\",\"Michigan\",\"Michigan\",\"Pennsylvania\",\"California\",\"Texas\",\"New York\",\"New York\",\"New York\",\"North Carolina\",\"California\",\"California\",\"California\",\"California\",\"Tennessee\",\"Tennessee\",\"Washington\",\"New York\",\"California\",\"California\",\"California\",\"Pennsylvania\",\"New York\",\"New York\",\"New York\",\"Washington\",\"Georgia\",\"Texas\",\"Texas\",\"Texas\",\"California\",\"Texas\",\"Texas\",\"Texas\",\"California\",\"California\",\"California\",\"California\",\"New York\",\"Georgia\",\"Nebraska\",\"California\",\"California\",\"California\",\"Texas\",\"Texas\",\"Texas\",\"Pennsylvania\",\"Nevada\",\"Washington\",\"Washington\",\"California\",\"Illinois\",\"Arizona\",\"Arizona\",\"Arizona\",\"Arizona\",\"Arizona\",\"Pennsylvania\",\"Pennsylvania\",\"Delaware\",\"Delaware\",\"Florida\",\"Arizona\",\"Arizona\",\"New York\",\"California\",\"New Jersey\",\"New Jersey\",\"Massachusetts\",\"Massachusetts\",\"Massachusetts\",\"Massachusetts\",\"Ohio\",\"Ohio\",\"California\",\"California\",\"New York\",\"Texas\",\"Texas\",\"Texas\",\"New York\",\"Texas\",\"California\",\"Wisconsin\",\"Kentucky\",\"Washington\",\"New York\",\"Pennsylvania\",\"Pennsylvania\",\"Washington\",\"Washington\",\"California\",\"Washington\",\"New York\",\"Pennsylvania\",\"South Carolina\",\"Washington\",\"Texas\",\"Texas\",\"California\",\"Georgia\",\"California\",\"California\",\"California\",\"California\",\"Texas\",\"Texas\",\"Illinois\",\"Alabama\",\"New York\",\"New York\",\"New York\",\"New York\",\"New York\",\"New York\",\"New York\",\"New York\",\"New York\",\"New York\",\"New York\",\"Virginia\",\"Texas\",\"Texas\",\"Washington\",\"California\",\"Illinois\",\"Ohio\",\"New York\",\"Texas\",\"Texas\",\"Texas\",\"Texas\",\"Delaware\",\"Tennessee\",\"Delaware\",\"California\",\"California\",\"California\",\"California\",\"California\",\"California\",\"California\",\"California\",\"California\",\"California\",\"Pennsylvania\",\"Minnesota\",\"Minnesota\",\"Minnesota\",\"New York\",\"New York\",\"Washington\",\"Washington\",\"Washington\",\"Washington\",\"California\",\"California\",\"New York\",\"Louisiana\",\"Ohio\",\"Ohio\",\"Ohio\",\"Ohio\",\"Ohio\",\"Ohio\",\"Ohio\",\"Oregon\",\"Oregon\",\"Oregon\",\"District of Columbia\",\"District of Columbia\",\"District of Columbia\",\"District of Columbia\",\"Illinois\",\"Washington\",\"Washington\",\"Washington\",\"Pennsylvania\",\"Pennsylvania\",\"Pennsylvania\",\"Pennsylvania\",\"California\",\"California\",\"Washington\",\"Washington\",\"Washington\",\"Washington\",\"Washington\",\"Wisconsin\",\"California\",\"Washington\",\"Washington\",\"Pennsylvania\",\"Pennsylvania\",\"Texas\",\"Texas\",\"Texas\",\"Texas\",\"Texas\",\"Texas\",\"New York\",\"Texas\",\"Nevada\",\"Texas\",\"Virginia\",\"Texas\",\"Texas\",\"California\",\"California\",\"Pennsylvania\",\"Pennsylvania\",\"Pennsylvania\",\"Pennsylvania\",\"California\",\"California\",\"Pennsylvania\",\"Pennsylvania\",\"Pennsylvania\",\"Pennsylvania\",\"Pennsylvania\",\"Pennsylvania\",\"Indiana\",\"Indiana\",\"Ohio\",\"Texas\",\"New Jersey\",\"New Jersey\",\"New Jersey\",\"California\",\"California\",\"Washington\",\"New York\",\"New York\",\"New York\",\"California\",\"Arizona\",\"Pennsylvania\",\"California\",\"California\",\"California\",\"California\",\"California\",\"California\",\"Texas\",\"Illinois\",\"California\",\"New York\",\"New York\",\"New York\",\"New York\",\"New York\",\"New York\",\"Illinois\",\"Illinois\",\"Illinois\",\"Pennsylvania\",\"Pennsylvania\",\"Pennsylvania\",\"Ohio\",\"Virginia\",\"Virginia\",\"North Carolina\",\"North Carolina\",\"Texas\",\"Texas\",\"North Carolina\",\"North Carolina\",\"North Carolina\",\"California\",\"California\",\"California\",\"California\",\"Pennsylvania\",\"Pennsylvania\",\"Pennsylvania\",\"Pennsylvania\",\"New York\",\"North Carolina\",\"North Carolina\",\"Texas\",\"Texas\",\"Texas\",\"California\",\"California\",\"California\",\"California\",\"Texas\",\"Texas\",\"Texas\",\"Texas\",\"Pennsylvania\",\"California\",\"California\",\"California\",\"Virginia\",\"Virginia\",\"Virginia\",\"Virginia\",\"North Carolina\",\"North Carolina\",\"Texas\",\"Texas\",\"Illinois\",\"Illinois\",\"Maryland\",\"Maryland\",\"Maryland\",\"Maryland\",\"California\",\"California\",\"New York\",\"New York\",\"Massachusetts\",\"Massachusetts\",\"Wisconsin\",\"Wisconsin\",\"Wisconsin\",\"Wisconsin\",\"Wisconsin\",\"Wisconsin\",\"Wisconsin\",\"New York\",\"Wisconsin\",\"Wisconsin\",\"Texas\",\"Kansas\",\"New York\",\"New York\",\"New York\",\"California\",\"Texas\",\"Texas\",\"Washington\",\"Pennsylvania\",\"Pennsylvania\",\"Pennsylvania\",\"California\",\"California\",\"California\",\"Oklahoma\",\"Illinois\",\"Illinois\",\"Virginia\",\"Ohio\",\"Ohio\",\"California\",\"Washington\",\"Washington\",\"California\",\"Illinois\",\"Illinois\",\"Illinois\",\"Illinois\",\"Illinois\",\"Illinois\",\"Oregon\",\"Oregon\",\"Oregon\",\"North Carolina\",\"Georgia\",\"Ohio\",\"Oklahoma\",\"Oklahoma\",\"North Carolina\",\"Texas\",\"Texas\",\"Connecticut\",\"Georgia\",\"North Carolina\",\"North Carolina\",\"North Carolina\",\"North Carolina\",\"Kentucky\",\"Texas\",\"Texas\",\"Washington\",\"District of Columbia\",\"District of Columbia\",\"California\",\"California\",\"Indiana\",\"Indiana\",\"Indiana\",\"Indiana\",\"Indiana\",\"Indiana\",\"California\",\"Texas\",\"Texas\",\"Connecticut\",\"Connecticut\",\"New York\",\"New York\",\"Texas\",\"Colorado\",\"Colorado\",\"Ohio\",\"Nevada\",\"Pennsylvania\",\"Pennsylvania\",\"Washington\",\"California\",\"California\",\"California\",\"Washington\",\"Ohio\",\"New York\",\"Texas\",\"California\",\"California\",\"Florida\",\"New York\",\"New York\",\"New York\",\"Pennsylvania\",\"Texas\",\"California\",\"Florida\",\"Florida\",\"Ohio\",\"Ohio\",\"California\",\"California\",\"Florida\",\"Oregon\",\"Virginia\",\"Montana\",\"Minnesota\",\"Florida\",\"Florida\",\"Florida\",\"South Carolina\",\"Michigan\",\"Oregon\",\"Oregon\",\"Oregon\",\"Indiana\",\"Florida\",\"Florida\",\"California\",\"New York\",\"California\",\"Texas\",\"Texas\",\"Georgia\",\"Florida\",\"Florida\",\"Florida\",\"Massachusetts\",\"Michigan\",\"New York\",\"New York\",\"Pennsylvania\",\"Texas\",\"Texas\",\"California\",\"California\",\"California\",\"Colorado\",\"Washington\",\"Washington\",\"Washington\",\"Arizona\",\"Louisiana\",\"Louisiana\",\"California\",\"California\",\"California\",\"Colorado\",\"Colorado\",\"Colorado\",\"Colorado\",\"Illinois\",\"Illinois\",\"Illinois\",\"Texas\",\"Texas\",\"New York\",\"New York\",\"New York\",\"New York\",\"New York\",\"New York\",\"New York\",\"New York\",\"New York\",\"New York\",\"New York\",\"New York\",\"Missouri\",\"Missouri\",\"Missouri\",\"Missouri\",\"Missouri\",\"Missouri\",\"Missouri\",\"Missouri\",\"New Jersey\",\"New Jersey\",\"New Jersey\",\"Oklahoma\",\"Illinois\",\"Illinois\",\"Illinois\",\"Illinois\",\"Illinois\",\"Alabama\",\"Alabama\",\"Alabama\",\"Oregon\",\"Arizona\",\"Arizona\",\"Georgia\",\"Oklahoma\",\"California\",\"California\",\"California\",\"Ohio\",\"Missouri\",\"Missouri\",\"Missouri\",\"Missouri\",\"Pennsylvania\",\"Oregon\",\"Oregon\",\"Oregon\",\"Texas\",\"Texas\",\"Virginia\",\"Virginia\",\"Virginia\",\"California\",\"California\",\"Kentucky\",\"Kentucky\",\"Texas\",\"Missouri\",\"Missouri\",\"Illinois\",\"Tennessee\",\"Tennessee\",\"Tennessee\",\"Texas\",\"Texas\",\"Alabama\",\"Alabama\",\"Alabama\",\"California\",\"California\",\"California\",\"California\",\"Rhode Island\",\"Rhode Island\",\"Rhode Island\",\"Rhode Island\",\"California\",\"Washington\",\"California\",\"California\",\"Massachusetts\",\"Massachusetts\",\"Massachusetts\",\"Massachusetts\",\"Texas\",\"Texas\",\"Minnesota\",\"Minnesota\",\"Montana\",\"Montana\",\"Arizona\",\"Arizona\",\"Arizona\",\"Arizona\",\"California\",\"Ohio\",\"Texas\",\"New Jersey\",\"New Jersey\",\"New Jersey\",\"Pennsylvania\",\"Pennsylvania\",\"Pennsylvania\",\"Pennsylvania\",\"Pennsylvania\",\"Pennsylvania\",\"Indiana\",\"Michigan\",\"Michigan\",\"Michigan\",\"Michigan\",\"California\",\"California\",\"California\",\"California\",\"California\",\"California\",\"California\",\"California\",\"California\",\"California\",\"California\",\"Pennsylvania\",\"California\",\"Washington\",\"California\",\"California\",\"California\",\"Maryland\",\"Maryland\",\"Maryland\",\"Arizona\",\"Arizona\",\"Arizona\",\"California\",\"Texas\",\"New York\",\"New York\",\"New York\",\"New York\",\"New York\",\"California\",\"Delaware\",\"Delaware\",\"Minnesota\",\"New Mexico\",\"North Carolina\",\"Mississippi\",\"Mississippi\",\"Mississippi\",\"Oregon\",\"Oregon\",\"Colorado\",\"Colorado\",\"Arizona\",\"New York\",\"New York\",\"Florida\",\"Texas\",\"California\",\"California\",\"California\",\"California\",\"California\",\"California\",\"California\",\"California\",\"California\",\"New York\",\"California\",\"Washington\",\"Washington\",\"Florida\",\"California\",\"Michigan\",\"Michigan\",\"Pennsylvania\",\"Pennsylvania\",\"Pennsylvania\",\"Pennsylvania\",\"Pennsylvania\",\"New Hampshire\",\"New Hampshire\",\"New Hampshire\",\"New York\",\"Pennsylvania\",\"Pennsylvania\",\"Pennsylvania\",\"Texas\",\"Texas\",\"New York\",\"New York\",\"New York\",\"New York\",\"Pennsylvania\",\"Pennsylvania\",\"Pennsylvania\",\"Pennsylvania\",\"Pennsylvania\",\"Pennsylvania\",\"California\",\"New York\",\"Texas\",\"Missouri\",\"Massachusetts\",\"New York\",\"Texas\",\"California\",\"Minnesota\",\"Minnesota\",\"Florida\",\"Illinois\",\"Ohio\",\"California\",\"California\",\"Texas\",\"Texas\",\"Texas\",\"Texas\",\"Texas\",\"Ohio\",\"Ohio\",\"Ohio\",\"Texas\",\"California\",\"Texas\",\"Texas\",\"Utah\",\"Utah\",\"Utah\",\"Utah\",\"New York\",\"New York\",\"New York\",\"New York\",\"New York\",\"New York\",\"California\",\"Alabama\",\"Indiana\",\"Indiana\",\"Indiana\",\"California\",\"Washington\",\"Washington\",\"Washington\",\"Washington\",\"Washington\",\"Tennessee\",\"Alabama\",\"Pennsylvania\",\"Pennsylvania\",\"Arkansas\",\"Arkansas\",\"Washington\",\"Washington\",\"Pennsylvania\",\"Tennessee\",\"Illinois\",\"Illinois\",\"New York\",\"Connecticut\",\"Connecticut\",\"Michigan\",\"New York\",\"California\",\"California\",\"California\",\"California\",\"Florida\",\"California\",\"California\",\"California\",\"Ohio\",\"Ohio\",\"Ohio\",\"Pennsylvania\",\"Colorado\",\"Texas\",\"Texas\",\"New York\",\"California\",\"California\",\"Indiana\",\"Illinois\",\"Oregon\",\"Vermont\",\"Indiana\",\"Indiana\",\"Utah\",\"Illinois\",\"California\",\"California\",\"Pennsylvania\",\"California\",\"California\",\"California\",\"California\",\"California\",\"California\",\"California\",\"California\",\"California\",\"California\",\"California\",\"California\",\"California\",\"Maine\",\"Maine\",\"California\",\"California\",\"California\",\"California\",\"New York\",\"Virginia\",\"Georgia\",\"Georgia\",\"Georgia\",\"North Carolina\",\"Washington\",\"New York\",\"New York\",\"Florida\",\"Washington\",\"California\",\"California\",\"California\",\"California\",\"Mississippi\",\"Mississippi\",\"Mississippi\",\"Washington\",\"Washington\",\"Washington\",\"Connecticut\",\"Indiana\",\"Indiana\",\"Tennessee\",\"Virginia\",\"Ohio\",\"California\",\"Washington\",\"Georgia\",\"Georgia\",\"Georgia\",\"New York\",\"Connecticut\",\"New York\",\"New York\",\"New York\",\"New York\",\"New York\",\"Michigan\",\"Michigan\",\"Georgia\",\"Georgia\",\"Georgia\",\"Illinois\",\"Texas\",\"New York\",\"Arizona\",\"Arizona\",\"Arizona\",\"Arizona\",\"Arizona\",\"South Dakota\",\"South Dakota\",\"South Dakota\",\"South Dakota\",\"South Dakota\",\"South Dakota\",\"Virginia\",\"Washington\",\"Kentucky\",\"Kentucky\",\"Kentucky\",\"Kentucky\",\"New York\",\"New York\",\"New York\",\"Colorado\",\"Pennsylvania\",\"California\",\"California\",\"Indiana\",\"Indiana\",\"Tennessee\",\"Connecticut\",\"Connecticut\",\"New York\",\"New York\",\"Ohio\",\"Georgia\",\"Massachusetts\",\"Massachusetts\",\"Illinois\",\"Wisconsin\",\"Texas\",\"Texas\",\"Texas\",\"California\",\"California\",\"California\",\"California\",\"California\",\"California\",\"California\",\"California\",\"California\",\"New York\",\"New York\",\"New York\",\"New York\",\"New York\",\"Ohio\",\"Virginia\",\"Virginia\",\"Virginia\",\"California\",\"Maryland\",\"Ohio\",\"Ohio\",\"Rhode Island\",\"Illinois\",\"Illinois\",\"Illinois\",\"Illinois\",\"Georgia\",\"Ohio\",\"Ohio\",\"California\",\"Ohio\",\"Ohio\",\"Ohio\",\"California\",\"California\",\"California\",\"California\",\"California\",\"California\",\"California\",\"New York\",\"New York\",\"New York\",\"New York\",\"Massachusetts\",\"New York\",\"New York\",\"New York\",\"California\",\"California\",\"South Carolina\",\"South Carolina\",\"Missouri\",\"Missouri\",\"Texas\",\"California\",\"California\",\"California\",\"California\",\"California\",\"California\",\"Pennsylvania\",\"California\",\"California\",\"California\",\"Wisconsin\",\"Massachusetts\",\"New Mexico\",\"New Mexico\",\"Nevada\",\"California\",\"California\",\"Illinois\",\"Illinois\",\"Ohio\",\"Ohio\",\"Ohio\",\"Ohio\",\"Texas\",\"Texas\",\"Texas\",\"California\",\"Washington\",\"New York\",\"Texas\",\"Virginia\",\"Virginia\",\"New Mexico\",\"Colorado\",\"Colorado\",\"Florida\",\"New Jersey\",\"New Jersey\",\"New Jersey\",\"New Jersey\",\"New Jersey\",\"New Jersey\",\"California\",\"Pennsylvania\",\"South Carolina\",\"California\",\"New York\",\"New York\",\"New York\",\"New York\",\"New York\",\"New York\",\"New York\",\"New York\",\"New York\",\"New Jersey\",\"Washington\",\"Washington\",\"New York\",\"New York\",\"New York\",\"New York\",\"Virginia\",\"Virginia\",\"Virginia\",\"Virginia\",\"North Carolina\",\"North Carolina\",\"North Carolina\",\"California\",\"California\",\"California\",\"California\",\"California\",\"New York\",\"Texas\",\"Texas\",\"Washington\",\"Washington\",\"Washington\",\"Washington\",\"Washington\",\"Delaware\",\"Delaware\",\"Delaware\",\"New York\",\"New York\",\"California\",\"New York\",\"Texas\",\"Texas\",\"Indiana\",\"California\",\"California\",\"California\",\"Florida\",\"Illinois\",\"Illinois\",\"Illinois\",\"California\",\"California\",\"California\",\"California\",\"Texas\",\"California\",\"California\",\"Oklahoma\",\"Louisiana\",\"Florida\",\"Illinois\",\"Illinois\",\"Ohio\",\"Texas\",\"New Jersey\",\"Oklahoma\",\"Oklahoma\",\"Oklahoma\",\"Oklahoma\",\"Oklahoma\",\"Oklahoma\",\"Texas\",\"Texas\",\"Texas\",\"Texas\",\"Texas\",\"Florida\",\"Arkansas\",\"Arkansas\",\"Arkansas\",\"Arkansas\",\"Pennsylvania\",\"California\",\"Ohio\",\"Ohio\",\"Ohio\",\"California\",\"California\",\"Arizona\",\"Pennsylvania\",\"Massachusetts\",\"Massachusetts\",\"California\",\"California\",\"Arizona\",\"Arizona\",\"Arizona\",\"Arizona\",\"Kentucky\",\"Kentucky\",\"South Carolina\",\"Florida\",\"New York\",\"Texas\",\"Florida\",\"Utah\",\"Utah\",\"Utah\",\"Tennessee\",\"Tennessee\",\"New York\",\"New York\",\"Kentucky\",\"Washington\",\"Washington\",\"New York\",\"Ohio\",\"Ohio\",\"Illinois\",\"Texas\",\"Indiana\",\"Georgia\",\"Georgia\",\"Georgia\",\"Georgia\",\"Virginia\",\"Virginia\",\"Virginia\",\"Virginia\",\"Virginia\",\"Virginia\",\"Virginia\",\"Texas\",\"New York\",\"New York\",\"California\",\"California\",\"Illinois\",\"Illinois\",\"South Carolina\",\"South Carolina\",\"Indiana\",\"Indiana\",\"Indiana\",\"Indiana\",\"Indiana\",\"New York\",\"New York\",\"New York\",\"New York\",\"New York\",\"New York\",\"Florida\",\"California\",\"Texas\",\"Texas\",\"Texas\",\"Texas\",\"Texas\",\"Texas\",\"California\",\"California\",\"California\",\"California\",\"California\",\"New Mexico\",\"New Mexico\",\"New Mexico\",\"New Mexico\",\"Missouri\",\"New York\",\"New York\",\"New York\",\"New York\",\"Ohio\",\"Ohio\",\"Ohio\",\"Oklahoma\",\"Washington\",\"Washington\",\"Washington\",\"North Carolina\",\"North Carolina\",\"California\",\"New York\",\"New York\",\"New York\",\"New York\",\"Arkansas\",\"Illinois\",\"North Carolina\",\"North Carolina\",\"Oklahoma\",\"Oklahoma\",\"Oklahoma\",\"Oklahoma\",\"Oklahoma\",\"California\",\"Utah\",\"Utah\",\"Utah\",\"Utah\",\"Utah\",\"Utah\",\"Utah\",\"California\",\"Arizona\",\"New York\",\"New York\",\"Missouri\",\"Tennessee\",\"Tennessee\",\"Tennessee\",\"Texas\",\"Texas\",\"California\",\"California\",\"Massachusetts\",\"Massachusetts\",\"Massachusetts\",\"Massachusetts\",\"California\",\"North Carolina\",\"North Carolina\",\"Colorado\",\"Colorado\",\"Michigan\",\"Michigan\",\"Michigan\",\"Michigan\",\"Michigan\",\"California\",\"North Carolina\",\"North Carolina\",\"Illinois\",\"California\",\"Illinois\",\"Pennsylvania\",\"Colorado\",\"Colorado\",\"Washington\",\"Florida\",\"Ohio\",\"Florida\",\"Florida\",\"Florida\",\"Florida\",\"Florida\",\"Florida\",\"Florida\",\"Maryland\",\"New York\",\"New Mexico\",\"New Mexico\",\"New Mexico\",\"California\",\"California\",\"Florida\",\"Ohio\",\"New York\",\"North Carolina\",\"Washington\",\"New York\",\"Georgia\",\"New York\",\"California\",\"Texas\",\"North Carolina\",\"North Carolina\",\"Virginia\",\"California\",\"California\",\"Pennsylvania\",\"Pennsylvania\",\"Ohio\",\"Ohio\",\"Washington\",\"Washington\",\"Washington\",\"New Jersey\",\"New Jersey\",\"New Mexico\",\"Delaware\",\"Delaware\",\"Delaware\",\"Delaware\",\"Alabama\",\"Alabama\",\"Ohio\",\"California\",\"California\",\"California\",\"North Carolina\",\"Massachusetts\",\"Texas\",\"Florida\",\"Washington\",\"California\",\"California\",\"California\",\"California\",\"California\",\"California\",\"California\",\"New York\",\"Georgia\",\"Georgia\",\"Utah\",\"California\",\"California\",\"Pennsylvania\",\"Pennsylvania\",\"Pennsylvania\",\"Pennsylvania\",\"Pennsylvania\",\"Texas\",\"Texas\",\"Texas\",\"Wisconsin\",\"Florida\",\"Michigan\",\"Ohio\",\"California\",\"Colorado\",\"California\",\"Florida\",\"Florida\",\"New York\",\"Minnesota\",\"Michigan\",\"Pennsylvania\",\"Ohio\",\"California\",\"California\",\"Texas\",\"Texas\",\"Texas\",\"Nebraska\",\"Nebraska\",\"Nebraska\",\"California\",\"California\",\"California\",\"California\",\"Arkansas\",\"Arkansas\",\"Arkansas\",\"Florida\",\"Oregon\",\"New Mexico\",\"California\",\"California\",\"Texas\",\"Washington\",\"Washington\",\"Washington\",\"Washington\",\"Wisconsin\",\"Wisconsin\",\"Wisconsin\",\"Wisconsin\",\"Wisconsin\",\"Massachusetts\",\"Massachusetts\",\"Massachusetts\",\"Massachusetts\",\"California\",\"California\",\"California\",\"Texas\",\"Texas\",\"Texas\",\"Texas\",\"Texas\",\"Texas\",\"Ohio\",\"Ohio\",\"Ohio\",\"Oregon\",\"Oregon\",\"Alabama\",\"Alabama\",\"California\",\"California\",\"California\",\"Florida\",\"New York\",\"Virginia\",\"North Carolina\",\"Texas\",\"Pennsylvania\",\"Illinois\",\"Massachusetts\",\"Illinois\",\"Georgia\",\"Georgia\",\"Florida\",\"Pennsylvania\",\"Indiana\",\"New York\",\"New York\",\"Massachusetts\",\"South Dakota\",\"California\",\"North Carolina\",\"Georgia\",\"Georgia\",\"Georgia\",\"Georgia\",\"Florida\",\"California\",\"California\",\"California\",\"California\",\"Ohio\",\"Ohio\",\"Florida\",\"Arizona\",\"Arizona\",\"California\",\"California\",\"New York\",\"California\",\"California\",\"New Jersey\",\"New Jersey\",\"New Jersey\",\"New Jersey\",\"New Jersey\",\"Illinois\",\"California\",\"California\",\"Arizona\",\"California\",\"California\",\"California\",\"Washington\",\"Louisiana\",\"Louisiana\",\"New York\",\"New York\",\"New York\",\"New York\",\"New York\",\"North Carolina\",\"Texas\",\"New York\",\"New York\",\"Georgia\",\"Illinois\",\"Illinois\",\"Illinois\",\"Washington\",\"Minnesota\",\"Minnesota\",\"Minnesota\",\"Washington\",\"Florida\",\"New York\",\"New York\",\"New York\",\"Indiana\",\"Indiana\",\"Indiana\",\"Texas\",\"Pennsylvania\",\"Pennsylvania\",\"Pennsylvania\",\"California\",\"Texas\",\"Michigan\",\"New York\",\"New York\",\"Georgia\",\"Minnesota\",\"North Carolina\",\"Michigan\",\"California\",\"California\",\"California\",\"Washington\",\"Washington\",\"Washington\",\"Washington\",\"Washington\",\"Washington\",\"Washington\",\"Wisconsin\",\"Wisconsin\",\"Wisconsin\",\"California\",\"California\",\"California\",\"California\",\"California\",\"California\",\"Arizona\",\"Arizona\",\"Arizona\",\"Arizona\",\"Arizona\",\"Arizona\",\"New York\",\"New York\",\"Ohio\",\"California\",\"California\",\"Washington\",\"Washington\",\"California\",\"California\",\"California\",\"California\",\"Illinois\",\"Illinois\",\"North Carolina\",\"North Carolina\",\"North Carolina\",\"North Carolina\",\"North Carolina\",\"Oklahoma\",\"Texas\",\"Texas\",\"Pennsylvania\",\"New York\",\"South Carolina\",\"Pennsylvania\",\"Pennsylvania\",\"Washington\",\"Washington\",\"Oregon\",\"Oregon\",\"Georgia\",\"Georgia\",\"Georgia\",\"California\",\"California\",\"California\",\"California\",\"New York\",\"Michigan\",\"California\",\"Arizona\",\"Pennsylvania\",\"Pennsylvania\",\"Pennsylvania\",\"Pennsylvania\",\"Pennsylvania\",\"Pennsylvania\",\"Michigan\",\"New York\",\"New York\",\"Wisconsin\",\"New York\",\"California\",\"Kentucky\",\"Ohio\",\"Colorado\",\"Colorado\",\"Colorado\",\"Colorado\",\"Colorado\",\"New York\",\"Texas\",\"Texas\",\"Texas\",\"Utah\",\"Utah\",\"Utah\",\"Utah\",\"Texas\",\"New York\",\"New York\",\"Pennsylvania\",\"Montana\",\"Virginia\",\"Oregon\",\"Michigan\",\"Michigan\",\"Oregon\",\"Pennsylvania\",\"Louisiana\",\"Louisiana\",\"Louisiana\",\"Louisiana\",\"Louisiana\",\"California\",\"Tennessee\",\"California\",\"California\",\"California\",\"Ohio\",\"Minnesota\",\"Minnesota\",\"Washington\",\"Georgia\",\"Georgia\",\"Idaho\",\"Idaho\",\"Idaho\",\"Michigan\",\"Michigan\",\"Illinois\",\"California\",\"California\",\"California\",\"California\",\"Ohio\",\"Texas\",\"Delaware\",\"Delaware\",\"New Mexico\",\"New Mexico\",\"New Mexico\",\"New Mexico\",\"New Mexico\",\"Ohio\",\"Delaware\",\"Delaware\",\"Delaware\",\"California\",\"California\",\"Texas\",\"Texas\",\"Texas\",\"California\",\"California\",\"California\",\"Kentucky\",\"Kentucky\",\"New York\",\"Texas\",\"Texas\",\"Texas\",\"Texas\",\"Kentucky\",\"Kentucky\",\"Delaware\",\"Delaware\",\"Delaware\",\"Illinois\",\"Illinois\",\"Illinois\",\"Illinois\",\"Texas\",\"Texas\",\"New York\",\"New York\",\"Rhode Island\",\"Rhode Island\",\"Ohio\",\"New York\",\"Texas\",\"Illinois\",\"Missouri\",\"Missouri\",\"Missouri\",\"Missouri\",\"Missouri\",\"Washington\",\"Washington\",\"Washington\",\"Washington\",\"Washington\",\"Washington\",\"Florida\",\"Florida\",\"Florida\",\"Florida\",\"Florida\",\"Florida\",\"Florida\",\"Florida\",\"Pennsylvania\",\"New York\",\"California\",\"California\",\"California\",\"California\",\"New York\",\"New York\",\"Texas\",\"Texas\",\"Texas\",\"Texas\",\"Texas\",\"Texas\",\"New York\",\"Texas\",\"Ohio\",\"Ohio\",\"Texas\",\"Washington\",\"Washington\",\"California\",\"New York\",\"Washington\",\"Ohio\",\"Ohio\",\"Ohio\",\"Ohio\",\"Minnesota\",\"Arizona\",\"New York\",\"New York\",\"North Carolina\",\"North Carolina\",\"Texas\",\"California\",\"California\",\"California\",\"California\",\"California\",\"California\",\"Michigan\",\"Florida\",\"Florida\",\"South Carolina\",\"Illinois\",\"Illinois\",\"Illinois\",\"Michigan\",\"Colorado\",\"Colorado\",\"New York\",\"New York\",\"New York\",\"New York\",\"Maryland\",\"Maryland\",\"Maryland\",\"Maryland\",\"Texas\",\"Texas\",\"Massachusetts\",\"California\",\"California\",\"Illinois\",\"New York\",\"Texas\",\"Texas\",\"Texas\",\"Mississippi\",\"New York\",\"Arizona\",\"North Carolina\",\"Pennsylvania\",\"Ohio\",\"Ohio\",\"California\",\"California\",\"California\",\"California\",\"California\",\"California\",\"California\",\"California\",\"Texas\",\"Texas\",\"Indiana\",\"Pennsylvania\",\"Pennsylvania\",\"California\",\"California\",\"New York\",\"New York\",\"New Jersey\",\"New Jersey\",\"New Jersey\",\"Arizona\",\"Arizona\",\"Arizona\",\"Arizona\",\"Arizona\",\"Arizona\",\"Arizona\",\"New York\",\"New York\",\"Texas\",\"Texas\",\"Texas\",\"California\",\"Connecticut\",\"New York\",\"New York\",\"Texas\",\"Texas\",\"Texas\",\"Virginia\",\"Illinois\",\"Texas\",\"Texas\",\"Washington\",\"Washington\",\"Washington\",\"Washington\",\"Washington\",\"Michigan\",\"Pennsylvania\",\"Illinois\",\"Illinois\",\"Washington\",\"Washington\",\"Florida\",\"Tennessee\",\"Tennessee\",\"Illinois\",\"Texas\",\"California\",\"California\",\"California\",\"Florida\",\"Pennsylvania\",\"Pennsylvania\",\"Alabama\",\"Alabama\",\"South Dakota\",\"South Dakota\",\"California\",\"California\",\"California\",\"Kansas\",\"Kansas\",\"Virginia\",\"Virginia\",\"Virginia\",\"Virginia\",\"Virginia\",\"North Carolina\",\"North Carolina\",\"New York\",\"Ohio\",\"Oklahoma\",\"Oklahoma\",\"California\",\"California\",\"California\",\"California\",\"Michigan\",\"California\",\"California\",\"Texas\",\"New York\",\"Arizona\",\"Arizona\",\"California\",\"Pennsylvania\",\"Pennsylvania\",\"Pennsylvania\",\"Pennsylvania\",\"Pennsylvania\",\"Texas\",\"Texas\",\"Texas\",\"Texas\",\"Texas\",\"New York\",\"New York\",\"Mississippi\",\"California\",\"California\",\"New York\",\"New York\",\"Texas\",\"California\",\"California\",\"Tennessee\",\"Tennessee\",\"Tennessee\",\"New York\",\"New York\",\"Texas\",\"Texas\",\"Texas\",\"Texas\",\"Texas\",\"Texas\",\"Texas\",\"Illinois\",\"Illinois\",\"Illinois\",\"California\",\"California\",\"California\",\"California\",\"California\",\"California\",\"California\",\"Massachusetts\",\"Massachusetts\",\"Massachusetts\",\"Massachusetts\",\"Massachusetts\",\"Massachusetts\",\"California\",\"Illinois\",\"Washington\",\"New York\",\"California\",\"California\",\"Connecticut\",\"Connecticut\",\"Connecticut\",\"Connecticut\",\"Illinois\",\"Illinois\",\"Illinois\",\"New York\",\"New York\",\"Massachusetts\",\"Massachusetts\",\"Texas\",\"California\",\"Texas\",\"Texas\",\"Nevada\",\"Nevada\",\"Oklahoma\",\"California\",\"California\",\"New York\",\"New York\",\"New York\",\"New York\",\"Texas\",\"Texas\",\"Texas\",\"Pennsylvania\",\"Florida\",\"New York\",\"New York\",\"New York\",\"North Carolina\",\"North Carolina\",\"North Carolina\",\"North Carolina\",\"North Carolina\",\"Texas\",\"Washington\",\"Washington\",\"Texas\",\"Pennsylvania\",\"Indiana\",\"Indiana\",\"Indiana\",\"Kentucky\",\"Kentucky\",\"Kentucky\",\"Kentucky\",\"Illinois\",\"Texas\",\"California\",\"Ohio\",\"Ohio\",\"Ohio\",\"Ohio\",\"Ohio\",\"California\",\"California\",\"California\",\"California\",\"California\",\"Wisconsin\",\"Wisconsin\",\"Colorado\",\"Colorado\",\"New York\",\"California\",\"California\",\"California\",\"California\",\"California\",\"Iowa\",\"Iowa\",\"Ohio\",\"Ohio\",\"Ohio\",\"California\",\"California\",\"California\",\"Washington\",\"Washington\",\"Illinois\",\"Illinois\",\"Texas\",\"Texas\",\"Texas\",\"California\",\"New York\",\"New York\",\"New York\",\"Pennsylvania\",\"Delaware\",\"New York\",\"Alabama\",\"California\",\"California\",\"California\",\"California\",\"North Carolina\",\"Georgia\",\"Tennessee\",\"Tennessee\",\"Pennsylvania\",\"Pennsylvania\",\"Pennsylvania\",\"Pennsylvania\",\"Pennsylvania\",\"Texas\",\"New Jersey\",\"Florida\",\"Florida\",\"Massachusetts\",\"Massachusetts\",\"Massachusetts\",\"Mississippi\",\"North Carolina\",\"California\",\"Ohio\",\"Ohio\",\"Michigan\",\"Michigan\",\"Kansas\",\"Kansas\",\"New Mexico\",\"California\",\"California\",\"California\",\"Alabama\",\"Virginia\",\"Virginia\",\"Virginia\",\"Delaware\",\"North Carolina\",\"Florida\",\"Illinois\",\"Illinois\",\"Illinois\",\"Illinois\",\"Illinois\",\"Minnesota\",\"Minnesota\",\"Minnesota\",\"California\",\"California\",\"California\",\"Alabama\",\"Alabama\",\"Alabama\",\"Texas\",\"Texas\",\"New York\",\"Texas\",\"Texas\",\"Texas\",\"Texas\",\"Texas\",\"Texas\",\"Texas\",\"Illinois\",\"Illinois\",\"Illinois\",\"Mississippi\",\"North Carolina\",\"North Carolina\",\"North Carolina\",\"Illinois\",\"California\",\"Iowa\",\"Iowa\",\"California\",\"Texas\",\"Mississippi\",\"Mississippi\",\"Mississippi\",\"California\",\"Florida\",\"Indiana\",\"New York\",\"California\",\"California\",\"California\",\"California\",\"New York\",\"Kentucky\",\"Kentucky\",\"Kentucky\",\"Kentucky\",\"Ohio\",\"Ohio\",\"Ohio\",\"Texas\",\"Texas\",\"Kentucky\",\"Kentucky\",\"Kentucky\",\"Kentucky\",\"Illinois\",\"Illinois\",\"Illinois\",\"Pennsylvania\",\"California\",\"California\",\"California\",\"California\",\"California\",\"California\",\"Ohio\",\"Ohio\",\"Ohio\",\"Ohio\",\"California\",\"California\",\"Missouri\",\"Texas\",\"Washington\",\"Washington\",\"Washington\",\"Washington\",\"Texas\",\"New York\",\"New York\",\"Florida\",\"California\",\"California\",\"Mississippi\",\"Mississippi\",\"Mississippi\",\"Nebraska\",\"Michigan\",\"Michigan\",\"Michigan\",\"Michigan\",\"California\",\"Ohio\",\"Louisiana\",\"Kentucky\",\"Kentucky\",\"Texas\",\"New York\",\"Ohio\",\"Ohio\",\"Pennsylvania\",\"Pennsylvania\",\"Pennsylvania\",\"Pennsylvania\",\"Pennsylvania\",\"Colorado\",\"Pennsylvania\",\"Pennsylvania\",\"Maryland\",\"Maryland\",\"Maryland\",\"New York\",\"New York\",\"Ohio\",\"Ohio\",\"Ohio\",\"Texas\",\"Pennsylvania\",\"Pennsylvania\",\"Texas\",\"Texas\",\"Pennsylvania\",\"California\",\"California\",\"California\",\"Tennessee\",\"Tennessee\",\"Georgia\",\"Georgia\",\"California\",\"California\",\"California\",\"California\",\"Washington\",\"Ohio\",\"Ohio\",\"California\",\"California\",\"Ohio\",\"Ohio\",\"Ohio\",\"Ohio\",\"Ohio\",\"Ohio\",\"Ohio\",\"Ohio\",\"Ohio\",\"California\",\"California\",\"California\",\"California\",\"California\",\"California\",\"Tennessee\",\"Tennessee\",\"Michigan\",\"Michigan\",\"Michigan\",\"Michigan\",\"Indiana\",\"Florida\",\"Ohio\",\"Florida\",\"Florida\",\"Florida\",\"Arizona\",\"Michigan\",\"Massachusetts\",\"Massachusetts\",\"Oregon\",\"Oregon\",\"Oregon\",\"Oregon\",\"Oregon\",\"Oregon\",\"Oregon\",\"Oregon\",\"Ohio\",\"Ohio\",\"Pennsylvania\",\"Pennsylvania\",\"California\",\"Maryland\",\"Maryland\",\"Maryland\",\"Maryland\",\"Maryland\",\"Maryland\",\"Maryland\",\"Maryland\",\"Maryland\",\"California\",\"Florida\",\"Arizona\",\"Arizona\",\"Colorado\",\"Colorado\",\"Colorado\",\"Colorado\",\"Virginia\",\"Virginia\",\"Virginia\",\"Washington\",\"Arizona\",\"New York\",\"New York\",\"Ohio\",\"Alabama\",\"Alabama\",\"Alabama\",\"Alabama\",\"Texas\",\"Texas\",\"Texas\",\"Texas\",\"California\",\"California\",\"Washington\",\"Washington\",\"Washington\",\"Washington\",\"Nebraska\",\"Georgia\",\"Georgia\",\"Indiana\",\"Mississippi\",\"Mississippi\",\"Texas\",\"Arizona\",\"Illinois\",\"Colorado\",\"Delaware\",\"Delaware\",\"Delaware\",\"Maryland\",\"Maryland\",\"Maryland\",\"Maryland\",\"Maryland\",\"New York\",\"New York\",\"Delaware\",\"Delaware\",\"Michigan\",\"Michigan\",\"Michigan\",\"New York\",\"New York\",\"New York\",\"South Carolina\",\"Georgia\",\"Georgia\",\"California\",\"California\",\"California\",\"California\",\"California\",\"California\",\"California\",\"California\",\"Texas\",\"Texas\",\"Ohio\",\"California\",\"California\",\"California\",\"Massachusetts\",\"Wisconsin\",\"Wisconsin\",\"Illinois\",\"Texas\",\"Texas\",\"Texas\",\"Florida\",\"Florida\",\"California\",\"Pennsylvania\",\"South Carolina\",\"Florida\",\"Florida\",\"Florida\",\"Florida\",\"California\",\"Florida\",\"New York\",\"Kansas\",\"Pennsylvania\",\"Tennessee\",\"Tennessee\",\"Florida\",\"Ohio\",\"California\",\"Texas\",\"Texas\",\"Nebraska\",\"California\",\"Pennsylvania\",\"Pennsylvania\",\"New York\",\"California\",\"California\",\"California\",\"Florida\",\"North Carolina\",\"North Carolina\",\"North Carolina\",\"North Carolina\",\"North Carolina\",\"North Carolina\",\"North Carolina\",\"North Carolina\",\"Florida\",\"Florida\",\"Florida\",\"Florida\",\"Florida\",\"Florida\",\"Wisconsin\",\"Illinois\",\"Florida\",\"Florida\",\"Alabama\",\"Alabama\",\"Alabama\",\"New York\",\"New York\",\"New York\",\"New York\",\"New York\",\"New York\",\"New York\",\"Texas\",\"Michigan\",\"Michigan\",\"Michigan\",\"Michigan\",\"Delaware\",\"Delaware\",\"Ohio\",\"Ohio\",\"Arizona\",\"Arizona\",\"Nevada\",\"Nevada\",\"Nevada\",\"Nevada\",\"Tennessee\",\"California\",\"California\",\"California\",\"California\",\"California\",\"Michigan\",\"Arkansas\",\"Arkansas\",\"Missouri\",\"Massachusetts\",\"Illinois\",\"California\",\"California\",\"Texas\",\"Texas\",\"Texas\",\"Colorado\",\"Illinois\",\"Illinois\",\"New York\",\"New York\",\"California\",\"Illinois\",\"California\",\"Indiana\",\"California\",\"California\",\"California\",\"California\",\"California\",\"California\",\"Tennessee\",\"Tennessee\",\"Tennessee\",\"Tennessee\",\"Florida\",\"Illinois\",\"Illinois\",\"Arizona\",\"Arizona\",\"Arizona\",\"Arizona\",\"Tennessee\",\"Illinois\",\"Indiana\",\"Georgia\",\"Georgia\",\"Georgia\",\"California\",\"California\",\"California\",\"Texas\",\"Illinois\",\"Arkansas\",\"Texas\",\"Texas\",\"Texas\",\"Ohio\",\"Texas\",\"Pennsylvania\",\"California\",\"Pennsylvania\",\"Pennsylvania\",\"Pennsylvania\",\"Pennsylvania\",\"Pennsylvania\",\"Pennsylvania\",\"Pennsylvania\",\"Pennsylvania\",\"Texas\",\"New York\",\"New York\",\"Arizona\",\"Arizona\",\"Arizona\",\"Arizona\",\"Arizona\",\"Virginia\",\"Virginia\",\"Illinois\",\"Illinois\",\"Illinois\",\"Washington\",\"Washington\",\"Washington\",\"Washington\",\"Texas\",\"Texas\",\"Texas\",\"Pennsylvania\",\"Pennsylvania\",\"California\",\"California\",\"California\",\"Texas\",\"Texas\",\"Texas\",\"Indiana\",\"New York\",\"New York\",\"Tennessee\",\"New York\",\"California\",\"Florida\",\"Florida\",\"Texas\",\"Texas\",\"Texas\",\"Texas\",\"New York\",\"Colorado\",\"Massachusetts\",\"Michigan\",\"Michigan\",\"California\",\"Tennessee\",\"Tennessee\",\"Tennessee\",\"Michigan\",\"Michigan\",\"California\",\"California\",\"Pennsylvania\",\"North Carolina\",\"New York\",\"Colorado\",\"Texas\",\"Texas\",\"California\",\"Michigan\",\"New York\",\"New York\",\"New York\",\"New York\",\"Virginia\",\"Washington\",\"Washington\",\"New York\",\"New York\",\"Washington\",\"California\",\"California\",\"California\",\"California\",\"New Jersey\",\"New Jersey\",\"Tennessee\",\"Rhode Island\",\"Pennsylvania\",\"Florida\",\"Florida\",\"Florida\",\"Wisconsin\",\"Wisconsin\",\"Wisconsin\",\"Wisconsin\",\"Wisconsin\",\"Florida\",\"Washington\",\"Washington\",\"Texas\",\"Texas\",\"Texas\",\"Georgia\",\"Georgia\",\"Georgia\",\"Colorado\",\"California\",\"Pennsylvania\",\"Pennsylvania\",\"Wisconsin\",\"Georgia\",\"Georgia\",\"Georgia\",\"Georgia\",\"Georgia\",\"Georgia\",\"Georgia\",\"Pennsylvania\",\"Pennsylvania\",\"Pennsylvania\",\"California\",\"California\",\"Texas\",\"Texas\",\"Texas\",\"Texas\",\"Louisiana\",\"Louisiana\",\"Washington\",\"Washington\",\"Washington\",\"Ohio\",\"Ohio\",\"Illinois\",\"California\",\"California\",\"California\",\"California\",\"California\",\"California\",\"California\",\"California\",\"Texas\",\"Illinois\",\"New York\",\"New York\",\"New York\",\"New York\",\"Pennsylvania\",\"Pennsylvania\",\"Pennsylvania\",\"Pennsylvania\",\"Pennsylvania\",\"Pennsylvania\",\"Illinois\",\"California\",\"California\",\"Illinois\",\"Washington\",\"Pennsylvania\",\"North Carolina\",\"North Carolina\",\"North Carolina\",\"North Carolina\",\"North Carolina\",\"North Carolina\",\"Texas\",\"Texas\",\"Texas\",\"Indiana\",\"Oklahoma\",\"Florida\",\"Florida\",\"Nebraska\",\"Nebraska\",\"Nebraska\",\"North Carolina\",\"Oregon\",\"Oregon\",\"Illinois\",\"Illinois\",\"Arizona\",\"California\",\"California\",\"California\",\"Arkansas\",\"New York\",\"New York\",\"New York\",\"Ohio\",\"Kentucky\",\"Kentucky\",\"Kentucky\",\"Minnesota\",\"Minnesota\",\"Minnesota\",\"Minnesota\",\"Texas\",\"Texas\",\"Texas\",\"Nebraska\",\"California\",\"California\",\"Texas\",\"New York\",\"New York\",\"Michigan\",\"Michigan\",\"Michigan\",\"Michigan\",\"Texas\",\"Texas\",\"Washington\",\"California\",\"California\",\"California\",\"California\",\"Pennsylvania\",\"Washington\",\"Washington\",\"Washington\",\"New York\",\"Florida\",\"Virginia\",\"North Carolina\",\"North Carolina\",\"Washington\",\"Illinois\",\"Florida\",\"Florida\",\"Virginia\",\"Virginia\",\"California\",\"California\",\"Virginia\",\"Texas\",\"Pennsylvania\",\"Pennsylvania\",\"Kansas\",\"Michigan\",\"California\",\"California\",\"California\",\"New York\",\"Texas\",\"Texas\",\"Texas\",\"Texas\",\"Pennsylvania\",\"Pennsylvania\",\"Pennsylvania\",\"Tennessee\",\"Tennessee\",\"Pennsylvania\",\"Pennsylvania\",\"Illinois\",\"Georgia\",\"New York\",\"New York\",\"New Hampshire\",\"New Hampshire\",\"Colorado\",\"Colorado\",\"New York\",\"California\",\"California\",\"Arizona\",\"Arizona\",\"California\",\"South Carolina\",\"South Carolina\",\"South Carolina\",\"California\",\"South Carolina\",\"South Carolina\",\"California\",\"California\",\"Texas\",\"New York\",\"New York\",\"New York\",\"Massachusetts\",\"Maryland\",\"Texas\",\"Texas\",\"Texas\",\"Iowa\",\"Delaware\",\"Texas\",\"Idaho\",\"Idaho\",\"California\",\"California\",\"New York\",\"Pennsylvania\",\"Pennsylvania\",\"New York\",\"New York\",\"New York\",\"New York\",\"Rhode Island\",\"Rhode Island\",\"Rhode Island\",\"Rhode Island\",\"Rhode Island\",\"Rhode Island\",\"Rhode Island\",\"Illinois\",\"Kentucky\",\"Kentucky\",\"Kentucky\",\"Indiana\",\"New York\",\"California\",\"California\",\"California\",\"Washington\",\"Washington\",\"Washington\",\"Washington\",\"Washington\",\"Illinois\",\"Illinois\",\"Iowa\",\"Washington\",\"Indiana\",\"Texas\",\"Texas\",\"Texas\",\"Texas\",\"Texas\",\"Pennsylvania\",\"Pennsylvania\",\"Illinois\",\"Pennsylvania\",\"Washington\",\"Michigan\",\"California\",\"California\",\"Virginia\",\"Virginia\",\"California\",\"Maryland\",\"Maryland\",\"Maryland\",\"Connecticut\",\"Connecticut\",\"New York\",\"Florida\",\"Florida\",\"Florida\",\"Illinois\",\"Illinois\",\"Illinois\",\"Oregon\",\"Washington\",\"New York\",\"Connecticut\",\"Minnesota\",\"Georgia\",\"Pennsylvania\",\"Texas\",\"Texas\",\"Texas\",\"Texas\",\"Texas\",\"Washington\",\"Tennessee\",\"Maryland\",\"Utah\",\"Utah\",\"Washington\",\"Texas\",\"Washington\",\"New Jersey\",\"New Jersey\",\"New Jersey\",\"New York\",\"New York\",\"Indiana\",\"Indiana\",\"Texas\",\"Texas\",\"Texas\",\"Tennessee\",\"Texas\",\"Texas\",\"California\",\"California\",\"California\",\"Pennsylvania\",\"Oregon\",\"California\",\"California\",\"Florida\",\"Florida\",\"Florida\",\"Florida\",\"Florida\",\"Ohio\",\"Texas\",\"Washington\",\"Washington\",\"California\",\"California\",\"California\",\"California\",\"California\",\"California\",\"California\",\"New York\",\"California\",\"California\",\"California\",\"California\",\"Virginia\",\"New Mexico\",\"New Mexico\",\"Ohio\",\"Ohio\",\"Ohio\",\"Ohio\",\"Ohio\",\"New Jersey\",\"New Jersey\",\"New York\",\"Florida\",\"Florida\",\"Washington\",\"Washington\",\"Florida\",\"Florida\",\"Arizona\",\"Arizona\",\"California\",\"California\",\"Tennessee\",\"Indiana\",\"Virginia\",\"California\",\"California\",\"California\",\"California\",\"New York\",\"New York\",\"Arizona\",\"Arizona\",\"Ohio\",\"Ohio\",\"California\",\"California\",\"North Carolina\",\"Tennessee\",\"Tennessee\",\"Illinois\",\"Illinois\",\"Illinois\",\"Rhode Island\",\"Louisiana\",\"North Dakota\",\"North Dakota\",\"North Dakota\",\"North Dakota\",\"North Dakota\",\"Illinois\",\"Illinois\",\"Indiana\",\"Indiana\",\"Indiana\",\"Indiana\",\"Indiana\",\"Ohio\",\"California\",\"California\",\"California\",\"Kentucky\",\"Kentucky\",\"California\",\"California\",\"Illinois\",\"Illinois\",\"Illinois\",\"Illinois\",\"California\",\"California\",\"New York\",\"New York\",\"New York\",\"New York\",\"Texas\",\"Texas\",\"Ohio\",\"Ohio\",\"California\",\"Pennsylvania\",\"Pennsylvania\",\"Maryland\",\"Maryland\",\"Maryland\",\"Colorado\",\"New York\",\"Pennsylvania\",\"Pennsylvania\",\"Indiana\",\"Indiana\",\"Indiana\",\"California\",\"California\",\"New York\",\"New York\",\"New York\",\"Massachusetts\",\"California\",\"California\",\"Michigan\",\"Ohio\",\"Ohio\",\"Illinois\",\"Florida\",\"Georgia\",\"Georgia\",\"Georgia\",\"Georgia\",\"Georgia\",\"New Mexico\",\"Oklahoma\",\"New Jersey\",\"Kentucky\",\"Kentucky\",\"Kentucky\",\"Kentucky\",\"Kentucky\",\"Illinois\",\"Illinois\",\"Illinois\",\"Texas\",\"Texas\",\"Michigan\",\"Michigan\",\"Michigan\",\"Michigan\",\"Indiana\",\"Indiana\",\"Indiana\",\"Indiana\",\"California\",\"California\",\"California\",\"California\",\"California\",\"California\",\"California\",\"California\",\"California\",\"California\",\"Colorado\",\"Colorado\",\"Colorado\",\"Colorado\",\"Colorado\",\"Colorado\",\"Colorado\",\"Idaho\",\"New York\",\"New York\",\"New York\",\"New York\",\"Pennsylvania\",\"Ohio\",\"Ohio\",\"Ohio\",\"Ohio\",\"Ohio\",\"Ohio\",\"Oklahoma\",\"Oklahoma\",\"New York\",\"California\",\"California\",\"California\",\"California\",\"California\",\"California\",\"California\",\"Texas\",\"Texas\",\"Texas\",\"California\",\"Ohio\",\"Ohio\",\"Ohio\",\"Ohio\",\"California\",\"California\",\"Pennsylvania\",\"California\",\"California\",\"California\",\"Texas\",\"Texas\",\"California\",\"California\",\"California\",\"California\",\"California\",\"California\",\"California\",\"Missouri\",\"Missouri\",\"Arizona\",\"Texas\",\"Virginia\",\"Oklahoma\",\"Washington\",\"Washington\",\"California\",\"Florida\",\"Indiana\",\"Indiana\",\"Colorado\",\"New York\",\"New York\",\"New York\",\"New York\",\"New York\",\"Ohio\",\"Texas\",\"New York\",\"New York\",\"California\",\"California\",\"California\",\"Washington\",\"Washington\",\"Washington\",\"Washington\",\"Rhode Island\",\"Rhode Island\",\"Illinois\",\"Oklahoma\",\"Illinois\",\"Illinois\",\"Illinois\",\"Illinois\",\"Illinois\",\"Illinois\",\"Illinois\",\"Connecticut\",\"California\",\"California\",\"California\",\"Wisconsin\",\"South Carolina\",\"South Carolina\",\"Arizona\",\"Texas\",\"Texas\",\"California\",\"California\",\"California\",\"Florida\",\"Arizona\",\"North Carolina\",\"North Carolina\",\"North Carolina\",\"Texas\",\"California\",\"Kansas\",\"Kansas\",\"California\",\"Michigan\",\"Michigan\",\"Michigan\",\"Michigan\",\"Idaho\",\"Virginia\",\"New York\",\"Mississippi\",\"Pennsylvania\",\"Pennsylvania\",\"California\",\"California\",\"California\",\"California\",\"California\",\"California\",\"California\",\"California\",\"California\",\"California\",\"California\",\"California\",\"California\",\"District of Columbia\",\"Wisconsin\",\"Wisconsin\",\"Maryland\",\"Maryland\",\"Maryland\",\"North Carolina\",\"North Carolina\",\"North Carolina\",\"North Carolina\",\"New York\",\"New York\",\"New York\",\"New York\",\"California\",\"Mississippi\",\"Florida\",\"Florida\",\"Texas\",\"Texas\",\"Texas\",\"Massachusetts\",\"Massachusetts\",\"California\",\"California\",\"Delaware\",\"Tennessee\",\"Tennessee\",\"Tennessee\",\"Tennessee\",\"New York\",\"New York\",\"New York\",\"New York\",\"Michigan\",\"California\",\"California\",\"California\",\"California\",\"California\",\"California\",\"California\",\"California\",\"Virginia\",\"Virginia\",\"Colorado\",\"Colorado\",\"Washington\",\"Washington\",\"New York\",\"Virginia\",\"New York\",\"Washington\",\"Washington\",\"California\",\"California\",\"New Jersey\",\"New Jersey\",\"California\",\"Illinois\",\"Pennsylvania\",\"Pennsylvania\",\"Pennsylvania\",\"Pennsylvania\",\"Pennsylvania\",\"Pennsylvania\",\"Pennsylvania\",\"Florida\",\"Florida\",\"Florida\",\"Washington\",\"Washington\",\"Texas\",\"Texas\",\"Texas\",\"Michigan\",\"Michigan\",\"Michigan\",\"Michigan\",\"Pennsylvania\",\"Utah\",\"Utah\",\"Utah\",\"Utah\",\"Utah\",\"New York\",\"North Carolina\",\"Pennsylvania\",\"Pennsylvania\",\"Pennsylvania\",\"Pennsylvania\",\"Indiana\",\"Pennsylvania\",\"Arizona\",\"Arizona\",\"Arizona\",\"Arizona\",\"Arizona\",\"Michigan\",\"Michigan\",\"Michigan\",\"Michigan\",\"Michigan\",\"Texas\",\"Texas\",\"Texas\",\"Texas\",\"Texas\",\"Connecticut\",\"Connecticut\",\"Connecticut\",\"California\",\"California\",\"California\",\"California\",\"Pennsylvania\",\"Texas\",\"Texas\",\"Oregon\",\"Colorado\",\"Washington\",\"Maryland\",\"California\",\"California\",\"California\",\"Illinois\",\"Washington\",\"Georgia\",\"Florida\",\"Florida\",\"New York\",\"New York\",\"California\",\"Texas\",\"California\",\"California\",\"California\",\"California\",\"New York\",\"Maine\",\"Maine\",\"Maine\",\"California\",\"California\",\"Washington\",\"Washington\",\"Washington\",\"Minnesota\",\"Minnesota\",\"Minnesota\",\"Minnesota\",\"California\",\"California\",\"Washington\",\"Washington\",\"Tennessee\",\"Tennessee\",\"Texas\",\"Florida\",\"Florida\",\"Pennsylvania\",\"Illinois\",\"New York\",\"New York\",\"New York\",\"Ohio\",\"Ohio\",\"California\",\"California\",\"New York\",\"Texas\",\"Texas\",\"North Carolina\",\"California\",\"California\",\"Arizona\",\"Illinois\",\"Illinois\",\"Illinois\",\"California\",\"New York\",\"New York\",\"Delaware\",\"New York\",\"Texas\",\"Texas\",\"Texas\",\"Kansas\",\"Colorado\",\"Colorado\",\"Colorado\",\"Colorado\",\"Colorado\",\"Colorado\",\"Colorado\",\"Colorado\",\"Colorado\",\"New York\",\"California\",\"Georgia\",\"Florida\",\"Florida\",\"Florida\",\"Florida\",\"Florida\",\"Florida\",\"Florida\",\"Pennsylvania\",\"Pennsylvania\",\"California\",\"California\",\"California\",\"Pennsylvania\",\"Wisconsin\",\"Wisconsin\",\"Pennsylvania\",\"Pennsylvania\",\"Pennsylvania\",\"California\",\"Pennsylvania\",\"Pennsylvania\",\"Pennsylvania\",\"Pennsylvania\",\"Connecticut\",\"Texas\",\"Texas\",\"Arizona\",\"Ohio\",\"Ohio\",\"Ohio\",\"California\",\"Kentucky\",\"Kentucky\",\"New York\",\"Wisconsin\",\"Wisconsin\",\"Wisconsin\",\"Wisconsin\",\"California\",\"California\",\"California\",\"Ohio\",\"Ohio\",\"Ohio\",\"Kentucky\",\"Ohio\",\"Tennessee\",\"New Jersey\",\"California\",\"New York\",\"Oregon\",\"Oregon\",\"Oregon\",\"Washington\",\"Washington\",\"Washington\",\"Washington\",\"California\",\"California\",\"California\",\"California\",\"California\",\"California\",\"Illinois\",\"New Jersey\",\"Texas\",\"New York\",\"New York\",\"New York\",\"Washington\",\"Washington\",\"Washington\",\"Washington\",\"Pennsylvania\",\"Pennsylvania\",\"Texas\",\"Texas\",\"Texas\",\"Texas\",\"Ohio\",\"North Carolina\",\"North Carolina\",\"Florida\",\"Kentucky\",\"Kentucky\",\"Kentucky\",\"Kentucky\",\"California\",\"California\",\"Michigan\",\"Georgia\",\"Georgia\",\"Georgia\",\"Georgia\",\"Washington\",\"Washington\",\"Washington\",\"Washington\",\"Washington\",\"Washington\",\"Washington\",\"Ohio\",\"Ohio\",\"Oregon\",\"California\",\"California\",\"New York\",\"New York\",\"Texas\",\"New Hampshire\",\"New Hampshire\",\"Ohio\",\"Ohio\",\"Tennessee\",\"Tennessee\",\"Tennessee\",\"Tennessee\",\"Tennessee\",\"Washington\",\"Washington\",\"Texas\",\"Texas\",\"Maryland\",\"Maryland\",\"Illinois\",\"Alabama\",\"Alabama\",\"Alabama\",\"Alabama\",\"Massachusetts\",\"Illinois\",\"Connecticut\",\"Connecticut\",\"New York\",\"New York\",\"Washington\",\"Colorado\",\"Colorado\",\"Colorado\",\"Utah\",\"Alabama\",\"California\",\"California\",\"California\",\"Delaware\",\"Delaware\",\"Delaware\",\"Indiana\",\"California\",\"California\",\"California\",\"Washington\",\"California\",\"California\",\"New York\",\"Michigan\",\"California\",\"New York\",\"Nevada\",\"Nevada\",\"Nevada\",\"Texas\",\"Texas\",\"California\",\"California\",\"Washington\",\"Washington\",\"Washington\",\"Florida\",\"Tennessee\",\"Rhode Island\",\"Rhode Island\",\"Rhode Island\",\"Rhode Island\",\"Florida\",\"Florida\",\"Florida\",\"Florida\",\"California\",\"Florida\",\"New York\",\"New York\",\"New York\",\"Illinois\",\"Illinois\",\"Illinois\",\"California\",\"California\",\"Tennessee\",\"New York\",\"Colorado\",\"Colorado\",\"Colorado\",\"California\",\"California\",\"Illinois\",\"Tennessee\",\"Tennessee\",\"Tennessee\",\"New York\",\"North Carolina\",\"North Carolina\",\"California\",\"California\",\"California\",\"Virginia\",\"Virginia\",\"California\",\"Mississippi\",\"Indiana\",\"New York\",\"New York\",\"Pennsylvania\",\"Pennsylvania\",\"Pennsylvania\",\"Arizona\",\"Ohio\",\"Ohio\",\"Ohio\",\"Ohio\",\"Ohio\",\"California\",\"California\",\"California\",\"New York\",\"California\",\"California\",\"California\",\"Oklahoma\",\"Oklahoma\",\"Oklahoma\",\"Oklahoma\",\"Illinois\",\"California\",\"California\",\"California\",\"New Jersey\",\"New Jersey\",\"Wisconsin\",\"Washington\",\"Washington\",\"Illinois\",\"Delaware\",\"Delaware\",\"Delaware\",\"California\",\"California\",\"California\",\"California\",\"California\",\"California\",\"California\",\"Illinois\",\"Illinois\",\"Washington\",\"Pennsylvania\",\"Georgia\",\"Texas\",\"Texas\",\"Texas\",\"California\",\"California\",\"Pennsylvania\",\"Kentucky\",\"Kentucky\",\"Minnesota\",\"Minnesota\",\"Minnesota\",\"Delaware\",\"North Carolina\",\"North Carolina\",\"California\",\"Michigan\",\"Michigan\",\"Michigan\",\"Michigan\",\"Michigan\",\"California\",\"California\",\"Texas\",\"Texas\",\"Texas\",\"Wisconsin\",\"California\",\"California\",\"Ohio\",\"North Carolina\",\"North Carolina\",\"Massachusetts\",\"Texas\",\"Pennsylvania\",\"Pennsylvania\",\"Pennsylvania\",\"Colorado\",\"Colorado\",\"Colorado\",\"Rhode Island\",\"Illinois\",\"Illinois\",\"Illinois\",\"Illinois\",\"Illinois\",\"Illinois\",\"California\",\"Texas\",\"Texas\",\"Texas\",\"Pennsylvania\",\"Pennsylvania\",\"Florida\",\"Georgia\",\"Tennessee\",\"Tennessee\",\"Pennsylvania\",\"Pennsylvania\",\"Pennsylvania\",\"Illinois\",\"Texas\",\"New Mexico\",\"Pennsylvania\",\"New York\",\"New York\",\"New York\",\"New York\",\"Louisiana\",\"Louisiana\",\"Louisiana\",\"Louisiana\",\"New York\",\"New York\",\"New York\",\"New York\",\"New York\",\"New York\",\"New York\",\"California\",\"Florida\",\"New York\",\"New York\",\"Washington\",\"California\",\"Oklahoma\",\"New York\",\"New York\",\"California\",\"New York\",\"New York\",\"New York\",\"California\",\"California\",\"California\",\"Arizona\",\"Arizona\",\"New York\",\"California\",\"Montana\",\"New York\",\"New York\",\"Missouri\",\"Missouri\",\"Illinois\",\"Illinois\",\"Illinois\",\"Arizona\",\"Arizona\",\"Washington\",\"Michigan\",\"California\",\"Michigan\",\"Michigan\",\"Michigan\",\"Michigan\",\"Michigan\",\"Michigan\",\"Michigan\",\"Michigan\",\"Michigan\",\"Colorado\",\"Texas\",\"Texas\",\"California\",\"New York\",\"California\",\"California\",\"California\",\"Rhode Island\",\"Rhode Island\",\"Georgia\",\"Georgia\",\"Florida\",\"Pennsylvania\",\"Indiana\",\"Indiana\",\"Texas\",\"Texas\",\"California\",\"South Carolina\",\"South Carolina\",\"South Carolina\",\"South Carolina\",\"Washington\",\"Washington\",\"Texas\",\"Texas\",\"Texas\",\"Texas\",\"California\",\"California\",\"New York\",\"New York\",\"New York\",\"New York\",\"New York\",\"New York\",\"Delaware\",\"New York\",\"California\",\"California\",\"California\",\"California\",\"Michigan\",\"California\",\"New York\",\"Michigan\",\"Michigan\",\"Missouri\",\"Missouri\",\"Missouri\",\"California\",\"New York\",\"New York\",\"New York\",\"California\",\"California\",\"California\",\"California\",\"California\",\"Arkansas\",\"California\",\"Indiana\",\"Maryland\",\"Maryland\",\"Maryland\",\"California\",\"California\",\"Washington\",\"Texas\",\"Virginia\",\"California\",\"California\",\"California\",\"Illinois\",\"Washington\",\"Pennsylvania\",\"Georgia\",\"Georgia\",\"Virginia\",\"Washington\",\"Pennsylvania\",\"Pennsylvania\",\"Oklahoma\",\"California\",\"California\",\"Pennsylvania\",\"Texas\",\"Texas\",\"Texas\",\"Texas\",\"Texas\",\"Washington\",\"Washington\",\"Washington\",\"New York\",\"California\",\"California\",\"California\",\"California\",\"Florida\",\"Vermont\",\"Arkansas\",\"Arkansas\",\"Texas\",\"Virginia\",\"Wisconsin\",\"Michigan\",\"Minnesota\",\"Minnesota\",\"Washington\",\"Washington\",\"Colorado\",\"Colorado\",\"Colorado\",\"California\",\"Texas\",\"Texas\",\"Texas\",\"Florida\",\"Ohio\",\"Minnesota\",\"Texas\",\"New York\",\"New York\",\"California\",\"California\",\"Virginia\",\"Virginia\",\"Virginia\",\"Illinois\",\"Texas\",\"New York\",\"New York\",\"New York\",\"Texas\",\"Texas\",\"Texas\",\"North Carolina\",\"North Carolina\",\"California\",\"California\",\"North Carolina\",\"Tennessee\",\"Tennessee\",\"Tennessee\",\"Tennessee\",\"Tennessee\",\"Tennessee\",\"Tennessee\",\"Nebraska\",\"California\",\"California\",\"Massachusetts\",\"California\",\"Texas\",\"New York\",\"New York\",\"New York\",\"New York\",\"Delaware\",\"Delaware\",\"Delaware\",\"Washington\",\"Arizona\",\"New York\",\"New York\",\"New York\",\"New York\",\"Texas\",\"Texas\",\"New York\",\"California\",\"California\",\"California\",\"Minnesota\",\"Minnesota\",\"Illinois\",\"Texas\",\"Texas\",\"Louisiana\",\"California\",\"California\",\"California\",\"California\",\"California\",\"California\",\"North Carolina\",\"Texas\",\"Kansas\",\"Kansas\",\"Oregon\",\"Texas\",\"Washington\",\"Washington\",\"Washington\",\"Ohio\",\"Michigan\",\"Michigan\",\"Texas\",\"Texas\",\"Texas\",\"Washington\",\"Washington\",\"Pennsylvania\",\"Pennsylvania\",\"California\",\"California\",\"Texas\",\"Texas\",\"Texas\",\"Pennsylvania\",\"Pennsylvania\",\"Arkansas\",\"California\",\"California\",\"California\",\"Washington\",\"Delaware\",\"Delaware\",\"Delaware\",\"Delaware\",\"Utah\",\"California\",\"California\",\"Ohio\",\"California\",\"Washington\",\"Washington\",\"New York\",\"New York\",\"California\",\"California\",\"California\",\"California\",\"California\",\"California\",\"California\",\"New Mexico\",\"New Mexico\",\"Kansas\",\"Illinois\",\"Illinois\",\"Illinois\",\"Nebraska\",\"Texas\",\"Texas\",\"Pennsylvania\",\"Pennsylvania\",\"California\",\"Kentucky\",\"Connecticut\",\"California\",\"California\",\"California\",\"California\",\"Florida\",\"Ohio\",\"Ohio\",\"Ohio\",\"Arizona\",\"California\",\"California\",\"Florida\",\"Florida\",\"Florida\",\"New York\",\"Florida\",\"Arizona\",\"New York\",\"New York\",\"New York\",\"Texas\",\"New York\",\"New York\",\"Kansas\",\"Kansas\",\"Kansas\",\"Kansas\",\"Nevada\",\"Illinois\",\"Pennsylvania\",\"Pennsylvania\",\"Washington\",\"Washington\",\"California\",\"California\",\"North Carolina\",\"California\",\"Arizona\",\"Arizona\",\"Arizona\",\"Arizona\",\"Texas\",\"California\",\"California\",\"California\",\"Ohio\",\"Colorado\",\"Colorado\",\"Colorado\",\"Nebraska\",\"Minnesota\",\"Minnesota\",\"Minnesota\",\"Delaware\",\"Florida\",\"California\",\"California\",\"California\",\"California\",\"Florida\",\"Florida\",\"Texas\",\"Florida\",\"Florida\",\"Florida\",\"Florida\",\"Texas\",\"California\",\"California\",\"California\",\"Pennsylvania\",\"Ohio\",\"New York\",\"New York\",\"New York\",\"New York\",\"New York\",\"Pennsylvania\",\"Pennsylvania\",\"Pennsylvania\",\"Pennsylvania\",\"California\",\"Georgia\",\"California\",\"Illinois\",\"Illinois\",\"Oregon\",\"Oregon\",\"New York\",\"New York\",\"New York\",\"Alabama\",\"Pennsylvania\",\"Pennsylvania\",\"Pennsylvania\",\"Pennsylvania\",\"Pennsylvania\",\"California\",\"California\",\"California\",\"California\",\"California\",\"New York\",\"Florida\",\"Texas\",\"Nebraska\",\"Arkansas\",\"Arkansas\",\"Arkansas\",\"Arkansas\",\"Arkansas\",\"Arkansas\",\"Arkansas\",\"Nebraska\",\"Illinois\",\"Illinois\",\"Illinois\",\"Arizona\",\"Arizona\",\"Arizona\",\"New Hampshire\",\"Utah\",\"Utah\",\"California\",\"California\",\"Texas\",\"Texas\",\"Texas\",\"Texas\",\"Texas\",\"Alabama\",\"Mississippi\",\"Mississippi\",\"Nevada\",\"Nevada\",\"Nevada\",\"Georgia\",\"Georgia\",\"Georgia\",\"Illinois\",\"Illinois\",\"Illinois\",\"Illinois\",\"Illinois\",\"Illinois\",\"Illinois\",\"Ohio\",\"Ohio\",\"Ohio\",\"Ohio\",\"Ohio\",\"California\",\"California\",\"California\",\"California\",\"California\",\"Maryland\",\"New York\",\"California\",\"New York\",\"New York\",\"New York\",\"California\",\"Montana\",\"California\",\"California\",\"New Jersey\",\"New Jersey\",\"Ohio\",\"Massachusetts\",\"Massachusetts\",\"New Hampshire\",\"Maryland\",\"Maryland\",\"Ohio\",\"Ohio\",\"Ohio\",\"Texas\",\"Texas\",\"New York\",\"North Carolina\",\"North Carolina\",\"New York\",\"California\",\"Louisiana\",\"Ohio\",\"Washington\",\"Washington\",\"New York\",\"New York\",\"New York\",\"New York\",\"Tennessee\",\"California\",\"Wisconsin\",\"Wisconsin\",\"Wisconsin\",\"Wisconsin\",\"California\",\"California\",\"Washington\",\"Washington\",\"Florida\",\"Florida\",\"Pennsylvania\",\"Virginia\",\"Virginia\",\"Virginia\",\"New York\",\"Michigan\",\"California\",\"California\",\"Michigan\",\"California\",\"California\",\"Ohio\",\"Connecticut\",\"Georgia\",\"Georgia\",\"Washington\",\"New Jersey\",\"Virginia\",\"Utah\",\"California\",\"California\",\"California\",\"California\",\"New York\",\"California\",\"Oregon\",\"Oregon\",\"Oregon\",\"Oregon\",\"Oregon\",\"Oregon\",\"Oregon\",\"Colorado\",\"Colorado\",\"Ohio\",\"Ohio\",\"Ohio\",\"Ohio\",\"Washington\",\"Washington\",\"Washington\",\"Idaho\",\"Idaho\",\"Texas\",\"Texas\",\"Washington\",\"Washington\",\"Washington\",\"Illinois\",\"Michigan\",\"Michigan\",\"Oklahoma\",\"Oklahoma\",\"Georgia\",\"Georgia\",\"Georgia\",\"Washington\",\"Florida\",\"Florida\",\"Florida\",\"Texas\",\"Maryland\",\"Maryland\",\"Maryland\",\"Maryland\",\"Maryland\",\"California\",\"Illinois\",\"Illinois\",\"Texas\",\"California\",\"Ohio\",\"Ohio\",\"Ohio\",\"Ohio\",\"Ohio\",\"Connecticut\",\"New York\",\"New York\",\"New York\",\"New York\",\"New York\",\"New York\",\"Illinois\",\"New York\",\"Virginia\",\"Michigan\",\"Michigan\",\"Michigan\",\"Michigan\",\"Indiana\",\"Oregon\",\"Oregon\",\"Oregon\",\"California\",\"Illinois\",\"New York\",\"Texas\",\"Wisconsin\",\"Wisconsin\",\"Wisconsin\",\"Wisconsin\",\"Wisconsin\",\"Connecticut\",\"Connecticut\",\"Connecticut\",\"New York\",\"California\",\"California\",\"California\",\"California\",\"California\",\"California\",\"California\",\"California\",\"California\",\"California\",\"North Carolina\",\"North Carolina\",\"North Carolina\",\"New York\",\"Illinois\",\"California\",\"California\",\"Kentucky\",\"Virginia\",\"Texas\",\"Texas\",\"North Carolina\",\"Florida\",\"California\",\"California\",\"California\",\"California\",\"New York\",\"Washington\",\"California\",\"Texas\",\"Texas\",\"Massachusetts\",\"Massachusetts\",\"California\",\"California\",\"Missouri\",\"Texas\",\"California\",\"California\",\"New York\",\"California\",\"California\",\"California\",\"California\",\"California\",\"California\",\"California\",\"Oregon\",\"Oregon\",\"Oregon\",\"Oregon\",\"Florida\",\"Florida\",\"California\",\"California\",\"California\",\"California\",\"California\",\"New York\",\"New York\",\"New York\",\"New York\",\"Illinois\",\"Texas\",\"Texas\",\"California\",\"Ohio\",\"Texas\",\"Texas\",\"Tennessee\",\"Tennessee\",\"Tennessee\",\"Tennessee\",\"California\",\"California\",\"California\",\"New York\",\"Florida\",\"New York\",\"New York\",\"New York\",\"New York\",\"New York\",\"California\",\"California\",\"California\",\"California\",\"Ohio\",\"New York\",\"New York\",\"New York\",\"New York\",\"Indiana\",\"Indiana\",\"California\",\"North Carolina\",\"North Carolina\",\"Florida\",\"Florida\",\"Florida\",\"California\",\"Washington\",\"Virginia\",\"Virginia\",\"California\",\"California\",\"California\",\"California\",\"California\",\"California\",\"California\",\"Minnesota\",\"Minnesota\",\"Minnesota\",\"Minnesota\",\"Minnesota\",\"Virginia\",\"Texas\",\"Texas\",\"Texas\",\"Texas\",\"California\",\"Arkansas\",\"Pennsylvania\",\"Arkansas\",\"Arkansas\",\"Arkansas\",\"Connecticut\",\"Connecticut\",\"Connecticut\",\"Pennsylvania\",\"Pennsylvania\",\"Wyoming\",\"California\",\"Indiana\",\"Georgia\",\"Arkansas\",\"Arkansas\",\"Pennsylvania\",\"Massachusetts\",\"Massachusetts\",\"Massachusetts\",\"New York\",\"California\",\"California\",\"California\",\"California\",\"California\",\"California\",\"California\",\"Rhode Island\",\"Kentucky\",\"Maryland\",\"Illinois\",\"Illinois\",\"Illinois\",\"Georgia\",\"California\",\"California\",\"California\",\"Indiana\",\"Indiana\",\"California\",\"California\",\"New Jersey\",\"California\",\"California\",\"California\",\"California\",\"California\",\"California\",\"California\",\"California\",\"California\",\"Washington\",\"Kentucky\",\"New York\",\"New York\",\"New York\",\"New York\",\"New York\",\"New York\",\"New York\",\"New York\",\"New York\",\"New York\",\"New York\",\"Virginia\",\"Washington\",\"Alabama\",\"Arkansas\",\"Arkansas\",\"Pennsylvania\",\"Pennsylvania\",\"Pennsylvania\",\"Pennsylvania\",\"Pennsylvania\",\"Pennsylvania\",\"Washington\",\"Washington\",\"Washington\",\"Texas\",\"Texas\",\"California\",\"California\",\"California\",\"California\",\"California\",\"California\",\"California\",\"Iowa\",\"Mississippi\",\"Mississippi\",\"Mississippi\",\"Mississippi\",\"Texas\",\"New York\",\"Pennsylvania\",\"Pennsylvania\",\"California\",\"California\",\"California\",\"California\",\"California\",\"California\",\"California\",\"California\",\"California\",\"California\",\"California\",\"New York\",\"California\",\"California\",\"California\",\"California\",\"New York\",\"New York\",\"North Carolina\",\"Kansas\",\"Kansas\",\"Arizona\",\"Oklahoma\",\"Oklahoma\",\"Oklahoma\",\"Oklahoma\",\"New York\",\"Pennsylvania\",\"Mississippi\",\"Mississippi\",\"Mississippi\",\"Mississippi\",\"Mississippi\",\"Mississippi\",\"California\",\"California\",\"California\",\"Ohio\",\"Ohio\",\"Ohio\",\"Ohio\",\"Ohio\",\"Idaho\",\"Idaho\",\"Idaho\",\"Arizona\",\"Arizona\",\"Florida\",\"California\",\"New York\",\"Massachusetts\",\"South Carolina\",\"California\",\"California\",\"California\",\"California\",\"California\",\"California\",\"California\",\"California\",\"California\",\"California\",\"California\",\"Ohio\",\"Louisiana\",\"Louisiana\",\"Texas\",\"Rhode Island\",\"Ohio\",\"Ohio\",\"Washington\",\"Washington\",\"North Carolina\",\"California\",\"Florida\",\"New Hampshire\",\"New York\",\"California\",\"Texas\",\"Texas\",\"Kentucky\",\"Kentucky\",\"Kentucky\",\"Kentucky\",\"California\",\"California\",\"Arizona\",\"Tennessee\",\"Tennessee\",\"Arizona\",\"Minnesota\",\"Florida\",\"Florida\",\"Texas\",\"Wisconsin\",\"Wisconsin\",\"Ohio\",\"Ohio\",\"Ohio\",\"Texas\",\"Texas\",\"New York\",\"New York\",\"Pennsylvania\",\"New York\",\"New York\",\"California\",\"California\",\"California\",\"Pennsylvania\",\"Tennessee\",\"California\",\"California\",\"California\",\"Pennsylvania\",\"Texas\",\"Texas\",\"Texas\",\"California\",\"California\",\"New York\",\"New York\",\"New York\",\"New York\",\"Texas\",\"Texas\",\"Texas\",\"Texas\",\"Texas\",\"Texas\",\"Texas\",\"California\",\"Georgia\",\"Colorado\",\"New York\",\"New York\",\"New York\",\"New York\",\"New York\",\"New York\",\"New York\",\"New York\",\"New York\",\"New York\",\"New York\",\"New York\",\"New York\",\"New York\",\"Pennsylvania\",\"Florida\",\"Texas\",\"Texas\",\"Illinois\",\"Illinois\",\"Ohio\",\"Ohio\",\"Ohio\",\"Ohio\",\"Ohio\",\"California\",\"New York\",\"New York\",\"Oregon\",\"Oregon\",\"Oregon\",\"Oregon\",\"Illinois\",\"Texas\",\"California\",\"California\",\"California\",\"New York\",\"California\",\"Virginia\",\"Virginia\",\"New York\",\"Tennessee\",\"California\",\"California\",\"Texas\",\"Texas\",\"Florida\",\"California\",\"California\",\"Connecticut\",\"Connecticut\",\"Connecticut\",\"Connecticut\",\"Nebraska\",\"California\",\"California\",\"California\",\"California\",\"California\",\"Georgia\",\"California\",\"California\",\"Pennsylvania\",\"Pennsylvania\",\"Pennsylvania\",\"Pennsylvania\",\"Oklahoma\",\"Oklahoma\",\"California\",\"Florida\",\"Florida\",\"Florida\",\"Florida\",\"Florida\",\"Florida\",\"Florida\",\"Texas\",\"California\",\"Virginia\",\"New York\",\"New York\",\"Missouri\",\"Missouri\",\"Missouri\",\"South Carolina\",\"South Carolina\",\"South Carolina\",\"South Carolina\",\"South Carolina\",\"South Carolina\",\"South Carolina\",\"South Carolina\",\"South Carolina\",\"Oregon\",\"Pennsylvania\",\"New York\",\"New York\",\"New York\",\"Illinois\",\"New York\",\"Washington\",\"Texas\",\"Texas\",\"Texas\",\"Pennsylvania\",\"Pennsylvania\",\"Indiana\",\"Indiana\",\"Indiana\",\"Illinois\",\"Illinois\",\"California\",\"Ohio\",\"Ohio\",\"Texas\",\"Texas\",\"Texas\",\"Ohio\",\"Washington\",\"Washington\",\"Washington\",\"Washington\",\"Washington\",\"California\",\"New York\",\"New York\",\"Kentucky\",\"Michigan\",\"Michigan\",\"Michigan\",\"California\",\"Tennessee\",\"Tennessee\",\"Tennessee\",\"Oregon\",\"Oregon\",\"Texas\",\"Ohio\",\"Ohio\",\"Iowa\",\"Washington\",\"Washington\",\"Washington\",\"Washington\",\"Washington\",\"Pennsylvania\",\"New York\",\"California\",\"California\",\"California\",\"New Hampshire\",\"Tennessee\",\"Washington\",\"Washington\",\"Washington\",\"Washington\",\"Indiana\",\"Indiana\",\"Indiana\",\"Indiana\",\"Illinois\",\"Georgia\",\"Georgia\",\"Alabama\",\"Texas\",\"Florida\",\"Ohio\",\"New York\",\"Indiana\",\"Washington\",\"New York\",\"Illinois\",\"Georgia\",\"Oklahoma\",\"Tennessee\",\"Tennessee\",\"Massachusetts\",\"Massachusetts\",\"California\",\"California\",\"California\",\"Illinois\",\"Washington\",\"Washington\",\"Washington\",\"Washington\",\"Washington\",\"Washington\",\"Washington\",\"Ohio\",\"Ohio\",\"Ohio\",\"California\",\"California\",\"Ohio\",\"Tennessee\",\"California\",\"California\",\"California\",\"California\",\"Virginia\",\"California\",\"California\",\"New York\",\"Massachusetts\",\"Massachusetts\",\"Massachusetts\",\"California\",\"California\",\"Illinois\",\"Illinois\",\"Texas\",\"Texas\",\"New York\",\"Oregon\",\"Oregon\",\"Oregon\",\"Oregon\",\"Oregon\",\"Oregon\",\"California\",\"Connecticut\",\"Connecticut\",\"Michigan\",\"Michigan\",\"Michigan\",\"Michigan\",\"California\",\"California\",\"Florida\",\"New York\",\"Michigan\",\"Delaware\",\"California\",\"California\",\"Michigan\",\"Michigan\",\"Michigan\",\"Michigan\",\"Michigan\",\"Michigan\",\"Michigan\",\"Michigan\",\"New York\",\"New York\",\"California\",\"California\",\"New York\",\"New York\",\"New York\",\"Ohio\",\"Delaware\",\"Delaware\",\"Delaware\",\"Delaware\",\"New York\",\"California\",\"California\",\"California\",\"Texas\",\"Florida\",\"Pennsylvania\",\"New York\",\"New York\",\"Pennsylvania\",\"Washington\",\"Washington\",\"Washington\",\"Washington\",\"California\",\"Oregon\",\"Washington\",\"Washington\",\"Washington\",\"New York\",\"New York\",\"New York\",\"California\",\"Texas\",\"New York\",\"New York\",\"New York\",\"New York\",\"Tennessee\",\"Tennessee\",\"Pennsylvania\",\"California\",\"Connecticut\",\"Connecticut\",\"Arizona\",\"Ohio\",\"Ohio\",\"Texas\",\"Texas\",\"Texas\",\"Texas\",\"Michigan\",\"Michigan\",\"Virginia\",\"Virginia\",\"New York\",\"New York\",\"New York\",\"New York\",\"New York\",\"New York\",\"Texas\",\"New Hampshire\",\"New Hampshire\",\"New Hampshire\",\"Louisiana\",\"Louisiana\",\"Louisiana\",\"North Carolina\",\"Washington\",\"Washington\",\"Texas\",\"Texas\",\"Texas\",\"Texas\",\"Texas\",\"Kentucky\",\"Kentucky\",\"Florida\",\"Arizona\",\"Pennsylvania\",\"Pennsylvania\",\"Oklahoma\",\"Oklahoma\",\"Oklahoma\",\"Oklahoma\",\"Utah\",\"California\",\"Massachusetts\",\"Pennsylvania\",\"Pennsylvania\",\"Pennsylvania\",\"Pennsylvania\",\"North Carolina\",\"North Carolina\",\"North Carolina\",\"North Carolina\",\"Illinois\",\"Illinois\",\"Idaho\",\"Idaho\",\"Idaho\",\"Texas\",\"New York\",\"New York\",\"New York\",\"New York\",\"New York\",\"New York\",\"Illinois\",\"Texas\",\"Texas\",\"Texas\",\"Connecticut\",\"Connecticut\",\"Connecticut\",\"Illinois\",\"Texas\",\"California\",\"California\",\"New York\",\"New York\",\"Maryland\",\"Maryland\",\"Maryland\",\"Maryland\",\"Maryland\",\"Maryland\",\"Kentucky\",\"Tennessee\",\"California\",\"Rhode Island\",\"Rhode Island\",\"Rhode Island\",\"Michigan\",\"Michigan\",\"Texas\",\"Tennessee\",\"Pennsylvania\",\"Florida\",\"Florida\",\"Florida\",\"Florida\",\"Florida\",\"Florida\",\"Florida\",\"Florida\",\"New York\",\"New York\",\"New York\",\"North Carolina\",\"North Carolina\",\"North Carolina\",\"New York\",\"Pennsylvania\",\"Florida\",\"Florida\",\"Florida\",\"Texas\",\"Texas\",\"Texas\",\"Kentucky\",\"Kentucky\",\"Kentucky\",\"Kentucky\",\"Ohio\",\"Ohio\",\"Ohio\",\"New York\",\"Illinois\",\"Pennsylvania\",\"Pennsylvania\",\"New York\",\"New York\",\"New York\",\"California\",\"California\",\"California\",\"California\",\"California\",\"California\",\"California\",\"California\",\"California\",\"Michigan\",\"Michigan\",\"Michigan\",\"Pennsylvania\",\"Pennsylvania\",\"Pennsylvania\",\"Pennsylvania\",\"Rhode Island\",\"New York\",\"Texas\",\"Texas\",\"Minnesota\",\"Minnesota\",\"Minnesota\",\"New York\",\"New York\",\"Tennessee\",\"Tennessee\",\"Delaware\",\"Delaware\",\"Washington\",\"Washington\",\"Washington\",\"Washington\",\"Ohio\",\"Ohio\",\"Ohio\",\"Illinois\",\"Illinois\",\"Minnesota\",\"New York\",\"California\",\"California\",\"Illinois\",\"Illinois\",\"Illinois\",\"Illinois\",\"Illinois\",\"New York\",\"California\",\"California\",\"Texas\",\"Massachusetts\",\"Massachusetts\",\"Massachusetts\",\"Massachusetts\",\"Texas\",\"Texas\",\"Texas\",\"Texas\",\"Texas\",\"Texas\",\"Washington\",\"New Jersey\",\"New Jersey\",\"California\",\"California\",\"Virginia\",\"Washington\",\"Washington\",\"Washington\",\"Washington\",\"Washington\",\"Virginia\",\"Virginia\",\"Virginia\",\"Virginia\",\"Virginia\",\"Virginia\",\"Virginia\",\"Florida\",\"California\",\"California\",\"New York\",\"Indiana\",\"Ohio\",\"Ohio\",\"Florida\",\"Florida\",\"Maryland\",\"Maryland\",\"Maryland\",\"Maryland\",\"Colorado\",\"California\",\"California\",\"California\",\"California\",\"California\",\"Maryland\",\"California\",\"Kentucky\",\"Kentucky\",\"Kentucky\",\"Kentucky\",\"California\",\"California\",\"California\",\"Missouri\",\"Missouri\",\"Missouri\",\"Missouri\",\"California\",\"California\",\"Texas\",\"Texas\",\"New York\",\"Washington\",\"New York\",\"North Carolina\",\"Washington\",\"Washington\",\"Missouri\",\"California\",\"North Carolina\",\"North Carolina\",\"North Carolina\",\"New York\",\"New York\",\"Ohio\",\"Indiana\",\"Indiana\",\"Indiana\",\"Oregon\",\"Oregon\",\"Oregon\",\"Oregon\",\"Oregon\",\"Texas\",\"Texas\",\"Texas\",\"Texas\",\"Texas\",\"Texas\",\"Arizona\",\"Arizona\",\"Arizona\",\"Arizona\",\"Arizona\",\"Arizona\",\"Massachusetts\",\"Massachusetts\",\"Massachusetts\",\"Virginia\",\"Virginia\",\"Texas\",\"New Jersey\",\"New Jersey\",\"New Jersey\",\"New Jersey\",\"Georgia\",\"California\",\"California\",\"Virginia\",\"Indiana\",\"Indiana\",\"Indiana\",\"Indiana\",\"Arizona\",\"Connecticut\",\"Connecticut\",\"Connecticut\",\"Wisconsin\",\"California\",\"Illinois\",\"Illinois\",\"Illinois\",\"California\",\"California\",\"Texas\",\"Wisconsin\",\"Wisconsin\",\"Louisiana\",\"Maryland\",\"Wisconsin\",\"New York\",\"New York\",\"New York\",\"California\",\"California\",\"California\",\"North Carolina\",\"North Carolina\",\"California\",\"California\",\"California\",\"Florida\",\"Maryland\",\"New Mexico\",\"New Mexico\",\"California\",\"Ohio\",\"Illinois\",\"Illinois\",\"Illinois\",\"Illinois\",\"Arkansas\",\"Arkansas\",\"Arkansas\",\"North Carolina\",\"California\",\"California\",\"California\",\"New Hampshire\",\"Washington\",\"Washington\",\"Washington\",\"Indiana\",\"Florida\",\"Tennessee\",\"Tennessee\",\"Tennessee\",\"Colorado\",\"Colorado\",\"Florida\",\"California\",\"California\",\"California\",\"California\",\"Illinois\",\"Illinois\",\"Illinois\",\"California\",\"New Hampshire\",\"Ohio\",\"Ohio\",\"New York\",\"New York\",\"New York\",\"New York\",\"New Jersey\",\"New Jersey\",\"New Jersey\",\"New Jersey\",\"New Jersey\",\"New Jersey\",\"New Jersey\",\"New Jersey\",\"New Jersey\",\"North Carolina\",\"New York\",\"New York\",\"Illinois\",\"Illinois\",\"Illinois\",\"Illinois\",\"Illinois\",\"Illinois\",\"New Jersey\",\"Georgia\",\"Arizona\",\"Arizona\",\"California\",\"California\",\"California\",\"New York\",\"Texas\",\"New York\",\"Maryland\",\"Maryland\",\"Maryland\",\"Maryland\",\"Pennsylvania\",\"Pennsylvania\",\"Pennsylvania\",\"Pennsylvania\",\"Pennsylvania\",\"Georgia\",\"Georgia\",\"North Carolina\",\"California\",\"California\",\"Connecticut\",\"Illinois\",\"Illinois\",\"Illinois\",\"Texas\",\"Texas\",\"Texas\",\"Arizona\",\"Arizona\",\"Arizona\",\"Arizona\",\"Arizona\",\"California\",\"Georgia\",\"Washington\",\"Texas\",\"Texas\",\"Pennsylvania\",\"Pennsylvania\",\"Pennsylvania\",\"Pennsylvania\",\"Pennsylvania\",\"Pennsylvania\",\"Washington\",\"Washington\",\"Washington\",\"Illinois\",\"Illinois\",\"Illinois\",\"Illinois\",\"California\",\"Alabama\",\"Alabama\",\"Indiana\",\"Indiana\",\"Indiana\",\"Indiana\",\"Indiana\",\"New York\",\"New York\",\"Illinois\",\"California\",\"California\",\"California\",\"California\",\"New Jersey\",\"California\",\"California\",\"Ohio\",\"Virginia\",\"Virginia\",\"Virginia\",\"Virginia\",\"California\",\"California\",\"Arizona\",\"Illinois\",\"California\",\"Wisconsin\",\"Wisconsin\",\"Arkansas\",\"Arkansas\",\"Arkansas\",\"Arkansas\",\"Arkansas\",\"California\",\"California\",\"California\",\"California\",\"California\",\"California\",\"Texas\",\"California\",\"California\",\"California\",\"California\",\"California\",\"California\",\"California\",\"Illinois\",\"Washington\",\"Texas\",\"Texas\",\"Virginia\",\"Virginia\",\"Texas\",\"Texas\",\"Washington\",\"Washington\",\"Washington\",\"Washington\",\"Washington\",\"Minnesota\",\"Ohio\",\"Ohio\",\"California\",\"California\",\"Georgia\",\"Georgia\",\"Georgia\",\"Georgia\",\"Georgia\",\"Georgia\",\"Georgia\",\"Georgia\",\"Ohio\",\"Illinois\",\"Illinois\",\"New York\",\"California\",\"Illinois\",\"Illinois\",\"Illinois\",\"California\",\"Michigan\",\"Washington\",\"South Carolina\",\"Ohio\",\"Washington\",\"California\",\"California\",\"Florida\",\"Illinois\",\"Illinois\",\"Illinois\",\"California\",\"Washington\",\"Pennsylvania\",\"California\",\"New York\",\"Alabama\",\"Alabama\",\"New York\",\"New York\",\"California\",\"California\",\"California\",\"California\",\"California\",\"Pennsylvania\",\"Pennsylvania\",\"Pennsylvania\",\"Pennsylvania\",\"Texas\",\"Illinois\",\"Texas\",\"Washington\",\"New York\",\"New York\",\"New York\",\"New York\",\"California\",\"Delaware\",\"New York\",\"California\",\"Illinois\",\"Illinois\",\"New York\",\"New York\",\"Texas\",\"California\",\"California\",\"California\",\"California\",\"Georgia\",\"Georgia\",\"California\",\"California\",\"California\",\"California\",\"South Carolina\",\"South Carolina\",\"South Carolina\",\"South Carolina\",\"South Carolina\",\"South Carolina\",\"New York\",\"Washington\",\"Arizona\",\"Arizona\",\"Arizona\",\"Arizona\",\"Texas\",\"Arizona\",\"Arizona\",\"Arkansas\",\"Georgia\",\"California\",\"New York\",\"New York\",\"Michigan\",\"Michigan\",\"Michigan\",\"Michigan\",\"Michigan\",\"Michigan\",\"Florida\",\"Texas\",\"Virginia\",\"Virginia\",\"Virginia\",\"Virginia\",\"Virginia\",\"Nevada\",\"Illinois\",\"Illinois\",\"California\",\"Kentucky\",\"Kentucky\",\"Illinois\",\"California\",\"California\",\"Texas\",\"New York\",\"Illinois\",\"Ohio\",\"Ohio\",\"Ohio\",\"New York\",\"New York\",\"New York\",\"California\",\"Kentucky\",\"Kentucky\",\"Kentucky\",\"Kentucky\",\"New York\",\"Colorado\",\"Colorado\",\"Colorado\",\"Colorado\",\"Colorado\",\"Colorado\",\"New York\",\"New York\",\"New York\",\"Nebraska\",\"New York\",\"New York\",\"New York\",\"New York\",\"New York\",\"New York\",\"California\",\"Florida\",\"Georgia\",\"Georgia\",\"New York\",\"New York\",\"New York\",\"Pennsylvania\",\"Pennsylvania\",\"Pennsylvania\",\"Texas\",\"California\",\"California\",\"Tennessee\",\"Colorado\",\"California\",\"California\",\"California\",\"California\",\"California\",\"California\",\"California\",\"California\",\"California\",\"California\",\"California\",\"Utah\",\"Oregon\",\"Oregon\",\"New York\",\"California\",\"California\",\"Texas\",\"Texas\",\"California\",\"Illinois\",\"Texas\",\"Texas\",\"Texas\",\"Texas\",\"Texas\",\"Washington\",\"North Carolina\",\"North Carolina\",\"North Carolina\",\"North Carolina\",\"North Carolina\",\"North Carolina\",\"California\",\"California\",\"Pennsylvania\",\"Pennsylvania\",\"California\",\"Nevada\",\"California\",\"Kentucky\",\"Kentucky\",\"Kentucky\",\"Kentucky\",\"Illinois\",\"New York\",\"New York\",\"New York\",\"New York\",\"New York\",\"Arizona\",\"Texas\",\"Pennsylvania\",\"California\",\"Ohio\",\"Ohio\",\"Ohio\",\"New York\",\"New York\",\"New York\",\"New York\",\"New York\",\"New York\",\"New York\",\"Nevada\",\"Nevada\",\"Washington\",\"Washington\",\"New York\",\"Washington\",\"Tennessee\",\"Washington\",\"Washington\",\"New York\",\"New York\",\"Georgia\",\"Georgia\",\"Delaware\",\"Delaware\",\"Tennessee\",\"Tennessee\",\"Indiana\",\"Indiana\",\"Indiana\",\"Indiana\",\"Indiana\",\"Florida\",\"Florida\",\"Florida\",\"Florida\",\"Missouri\",\"Missouri\",\"Virginia\",\"Pennsylvania\",\"Pennsylvania\",\"Pennsylvania\",\"Pennsylvania\",\"New York\",\"New York\",\"Texas\",\"Alabama\",\"Arizona\",\"North Carolina\",\"Illinois\",\"Georgia\",\"Georgia\",\"New Jersey\",\"California\",\"California\",\"Illinois\",\"Illinois\",\"Virginia\",\"Virginia\",\"New York\",\"New York\",\"Rhode Island\",\"California\",\"California\",\"California\",\"California\",\"New York\",\"California\",\"Texas\",\"Texas\",\"Texas\",\"Texas\",\"Texas\",\"Pennsylvania\",\"Pennsylvania\",\"Maryland\",\"Georgia\",\"Ohio\",\"California\",\"Maryland\",\"Texas\",\"Texas\",\"Texas\",\"Texas\",\"Texas\",\"California\",\"California\",\"Florida\",\"Florida\",\"Georgia\",\"Georgia\",\"Washington\",\"California\",\"California\",\"New York\",\"New York\",\"Florida\",\"Florida\",\"New York\",\"Illinois\",\"New York\",\"California\",\"California\",\"Arizona\",\"Arizona\",\"Arizona\",\"Washington\",\"Washington\",\"Washington\",\"California\",\"Michigan\",\"Michigan\",\"California\",\"California\",\"California\",\"California\",\"Pennsylvania\",\"New York\",\"Illinois\",\"California\",\"California\",\"California\",\"Pennsylvania\",\"Pennsylvania\",\"California\",\"California\",\"Connecticut\",\"Connecticut\",\"Connecticut\",\"New York\",\"New York\",\"New York\",\"California\",\"Pennsylvania\",\"California\",\"California\",\"California\",\"California\",\"California\",\"Pennsylvania\",\"California\",\"California\",\"Ohio\",\"Ohio\",\"Ohio\",\"California\",\"California\",\"Florida\",\"Michigan\",\"Wisconsin\",\"Wisconsin\",\"Wisconsin\",\"Wisconsin\",\"Wisconsin\",\"Wisconsin\",\"Wisconsin\",\"Wisconsin\",\"California\",\"Pennsylvania\",\"Pennsylvania\",\"Virginia\",\"Texas\",\"Tennessee\",\"Tennessee\",\"North Carolina\",\"North Carolina\",\"California\",\"California\",\"North Carolina\",\"North Carolina\",\"Montana\",\"Montana\",\"Florida\",\"California\",\"California\",\"Arizona\",\"Maryland\",\"Arizona\",\"Illinois\",\"Ohio\",\"Ohio\",\"California\",\"Oklahoma\",\"Oklahoma\",\"Texas\",\"California\",\"California\",\"California\",\"Tennessee\",\"California\",\"Washington\",\"Texas\",\"Texas\",\"Pennsylvania\",\"Illinois\",\"Illinois\",\"Illinois\",\"Illinois\",\"Illinois\",\"Florida\",\"Florida\",\"Texas\",\"California\",\"California\",\"California\",\"New York\",\"Michigan\",\"Florida\",\"Florida\",\"Florida\",\"Illinois\",\"New York\",\"New York\",\"Oregon\",\"Oregon\",\"New York\",\"New York\",\"Illinois\",\"Illinois\",\"New York\",\"New York\",\"Washington\",\"Washington\",\"California\",\"California\",\"California\",\"Illinois\",\"Pennsylvania\",\"Pennsylvania\",\"Florida\",\"Florida\",\"New York\",\"New York\",\"California\",\"New York\",\"New York\",\"Georgia\",\"Georgia\",\"Georgia\",\"New York\",\"Florida\",\"Florida\",\"Florida\",\"Florida\",\"Texas\",\"Wisconsin\",\"Wisconsin\",\"California\",\"Ohio\",\"Pennsylvania\",\"California\",\"Michigan\",\"Arizona\",\"Arizona\",\"Pennsylvania\",\"Pennsylvania\",\"California\",\"California\",\"California\",\"Pennsylvania\",\"Pennsylvania\",\"Pennsylvania\",\"Pennsylvania\",\"Pennsylvania\",\"Florida\",\"North Carolina\",\"Kansas\",\"California\",\"California\",\"California\",\"California\",\"California\",\"Illinois\",\"Washington\",\"North Carolina\",\"Nebraska\",\"Nebraska\",\"Nebraska\",\"Nebraska\",\"Nebraska\",\"Nebraska\",\"Nebraska\",\"Nebraska\",\"Nebraska\",\"Nebraska\",\"Tennessee\",\"Tennessee\",\"Ohio\",\"California\",\"California\",\"California\",\"New York\",\"New York\",\"Ohio\",\"Illinois\",\"Illinois\",\"Washington\",\"Washington\",\"New York\",\"California\",\"California\",\"California\",\"California\",\"Illinois\",\"California\",\"Ohio\",\"New York\",\"Oregon\",\"Oregon\",\"Oregon\",\"Pennsylvania\",\"Pennsylvania\",\"Pennsylvania\",\"Pennsylvania\",\"Pennsylvania\",\"Pennsylvania\",\"Pennsylvania\",\"Pennsylvania\",\"Pennsylvania\",\"Pennsylvania\",\"Pennsylvania\",\"Texas\",\"Texas\",\"Mississippi\",\"Mississippi\",\"Mississippi\",\"Mississippi\",\"Mississippi\",\"Arizona\",\"Arizona\",\"California\",\"California\",\"California\",\"Washington\",\"Washington\",\"California\",\"California\",\"California\",\"Texas\",\"Texas\",\"Illinois\",\"Illinois\",\"Illinois\",\"Illinois\",\"Tennessee\",\"Texas\",\"Texas\",\"Texas\",\"Texas\",\"Illinois\",\"Illinois\",\"Illinois\",\"Virginia\",\"Virginia\",\"Virginia\",\"Virginia\",\"California\",\"California\",\"Washington\",\"California\",\"California\",\"California\",\"California\",\"California\",\"New York\",\"New York\",\"Pennsylvania\",\"Pennsylvania\",\"Utah\",\"Illinois\",\"Kentucky\",\"Kentucky\",\"Kentucky\",\"Kentucky\",\"Kentucky\",\"Kentucky\",\"Kentucky\",\"California\",\"New York\",\"Pennsylvania\",\"North Dakota\",\"North Dakota\",\"New Hampshire\",\"New Hampshire\",\"New Hampshire\",\"California\",\"California\",\"New York\",\"Texas\",\"Texas\",\"Texas\",\"California\",\"California\",\"California\",\"California\",\"California\",\"California\",\"California\",\"California\",\"California\",\"New Jersey\",\"Illinois\",\"California\",\"California\",\"Ohio\",\"Ohio\",\"Ohio\",\"Ohio\",\"Ohio\",\"Ohio\",\"Kentucky\",\"Kentucky\",\"Kentucky\",\"Kentucky\",\"Kentucky\",\"Kentucky\",\"Kentucky\",\"Ohio\",\"Ohio\",\"Ohio\",\"Oregon\",\"Oregon\",\"California\",\"California\",\"California\",\"California\",\"California\",\"Colorado\",\"Colorado\",\"North Carolina\",\"North Carolina\",\"California\",\"Texas\",\"California\",\"Colorado\",\"Colorado\",\"Colorado\",\"Colorado\",\"Colorado\",\"Colorado\",\"Colorado\",\"Texas\",\"Texas\",\"Texas\",\"Texas\",\"Texas\",\"New York\",\"New York\",\"New York\",\"New York\",\"Pennsylvania\",\"Pennsylvania\",\"Indiana\",\"Indiana\",\"New York\",\"New York\",\"New York\",\"Pennsylvania\",\"Illinois\",\"Colorado\",\"Washington\",\"Washington\",\"Texas\",\"Texas\",\"California\",\"California\",\"California\",\"Virginia\",\"Virginia\",\"Virginia\",\"California\",\"California\",\"Washington\",\"Washington\",\"Nebraska\",\"New Jersey\",\"New Jersey\",\"Pennsylvania\",\"New York\",\"Virginia\",\"Virginia\",\"Virginia\",\"Virginia\",\"Virginia\",\"California\",\"Illinois\",\"Pennsylvania\",\"Pennsylvania\",\"Pennsylvania\",\"Pennsylvania\",\"Michigan\",\"Michigan\",\"California\",\"Oregon\",\"Oregon\",\"Oregon\",\"Oregon\",\"Oregon\",\"Oregon\",\"Rhode Island\",\"Illinois\",\"Illinois\",\"Illinois\",\"Texas\",\"California\",\"California\",\"California\",\"Kansas\",\"Kansas\",\"Kansas\",\"New York\",\"Florida\",\"New York\",\"New York\",\"California\",\"California\",\"California\",\"California\",\"California\",\"Delaware\",\"Michigan\",\"Michigan\",\"Arizona\",\"Arizona\",\"Arizona\",\"Texas\",\"Texas\",\"Texas\",\"Kentucky\",\"Kentucky\",\"Kentucky\",\"Kentucky\",\"Kentucky\",\"Delaware\",\"Delaware\",\"Delaware\",\"Delaware\",\"Colorado\",\"Colorado\",\"Colorado\",\"Colorado\",\"California\",\"North Carolina\",\"California\",\"California\",\"Ohio\",\"Ohio\",\"Texas\",\"Texas\",\"Alabama\",\"Nevada\",\"Nevada\",\"California\",\"California\",\"Ohio\",\"Nebraska\",\"Texas\",\"Texas\",\"California\",\"North Carolina\",\"Louisiana\",\"Rhode Island\",\"Rhode Island\",\"Rhode Island\",\"Massachusetts\",\"Massachusetts\",\"Massachusetts\",\"Massachusetts\",\"Massachusetts\",\"Massachusetts\",\"Massachusetts\",\"California\",\"North Carolina\",\"Rhode Island\",\"Rhode Island\",\"Rhode Island\",\"Rhode Island\",\"Rhode Island\",\"Michigan\",\"Michigan\",\"New York\",\"New York\",\"Michigan\",\"Michigan\",\"Michigan\",\"Virginia\",\"Virginia\",\"Virginia\",\"California\",\"California\",\"Washington\",\"Texas\",\"Texas\",\"Massachusetts\",\"Massachusetts\",\"Massachusetts\",\"Massachusetts\",\"Massachusetts\",\"Michigan\",\"Michigan\",\"Michigan\",\"Michigan\",\"Michigan\",\"Utah\",\"Pennsylvania\",\"Pennsylvania\",\"Arizona\",\"North Carolina\",\"North Carolina\",\"North Carolina\",\"California\",\"Pennsylvania\",\"Colorado\",\"Colorado\",\"California\",\"New York\",\"New York\",\"New York\",\"California\",\"Texas\",\"Ohio\",\"Ohio\",\"Ohio\",\"New York\",\"Texas\",\"Florida\",\"Washington\",\"Texas\",\"Texas\",\"Ohio\",\"Washington\",\"Washington\",\"New York\",\"North Carolina\",\"Maryland\",\"California\",\"California\",\"Arizona\",\"California\",\"Connecticut\",\"Connecticut\",\"Connecticut\",\"Illinois\",\"New York\",\"Virginia\",\"Virginia\",\"Virginia\",\"Virginia\",\"Virginia\",\"North Carolina\",\"Ohio\",\"North Carolina\",\"North Carolina\",\"New York\",\"New York\",\"Texas\",\"Tennessee\",\"Texas\",\"Oregon\",\"Georgia\",\"Maryland\",\"Maryland\",\"Maryland\",\"Oregon\",\"Florida\",\"California\",\"California\",\"Ohio\",\"Ohio\",\"Ohio\",\"California\",\"California\",\"California\",\"California\",\"California\",\"Virginia\",\"Virginia\",\"Illinois\",\"North Carolina\",\"North Carolina\",\"North Carolina\",\"New York\",\"Illinois\",\"Illinois\",\"Illinois\",\"Illinois\",\"Pennsylvania\",\"Illinois\",\"Texas\",\"Nevada\",\"Nevada\",\"Texas\",\"Connecticut\",\"New York\",\"New York\",\"New York\",\"Pennsylvania\",\"California\",\"Tennessee\",\"Tennessee\",\"Tennessee\",\"Tennessee\",\"Tennessee\",\"North Carolina\",\"North Carolina\",\"North Carolina\",\"Maryland\",\"Maryland\",\"Maryland\",\"Maryland\",\"California\",\"California\",\"Nevada\",\"Nevada\",\"Nevada\",\"California\",\"Rhode Island\",\"Tennessee\",\"Delaware\",\"Delaware\",\"California\",\"New York\",\"Illinois\",\"Illinois\",\"California\",\"California\",\"California\",\"California\",\"Texas\",\"Florida\",\"California\",\"California\",\"Washington\",\"Washington\",\"Washington\",\"Iowa\",\"Iowa\",\"New York\",\"Virginia\",\"Virginia\",\"Texas\",\"Virginia\",\"Virginia\",\"Texas\",\"Texas\",\"Texas\",\"Texas\",\"Illinois\",\"Illinois\",\"California\",\"Mississippi\",\"Mississippi\",\"New York\",\"New York\",\"New York\",\"New York\",\"Ohio\",\"Washington\",\"Washington\",\"Arizona\",\"Arizona\",\"Arizona\",\"Arizona\",\"Utah\",\"California\",\"North Carolina\",\"Ohio\",\"California\",\"California\",\"California\",\"California\",\"Oregon\",\"Oregon\",\"North Carolina\",\"Illinois\",\"Pennsylvania\",\"Colorado\",\"Colorado\",\"Colorado\",\"Colorado\",\"Colorado\",\"Colorado\",\"Colorado\",\"Colorado\",\"California\",\"Arkansas\",\"Arkansas\",\"Arkansas\",\"Arkansas\",\"New York\",\"West Virginia\",\"West Virginia\",\"West Virginia\",\"Tennessee\",\"Tennessee\",\"Tennessee\",\"Tennessee\",\"Tennessee\",\"Tennessee\",\"Tennessee\",\"Texas\",\"Texas\",\"Texas\",\"California\",\"California\",\"California\",\"California\",\"California\",\"Illinois\",\"Ohio\",\"New York\",\"New York\",\"Pennsylvania\",\"Texas\",\"California\",\"Connecticut\",\"Connecticut\",\"Maryland\",\"Florida\",\"Florida\",\"Virginia\",\"Virginia\",\"New York\",\"New York\",\"New York\",\"Texas\",\"New York\",\"Oregon\",\"Oregon\",\"California\",\"California\",\"California\",\"California\",\"California\",\"California\",\"California\",\"California\",\"California\",\"Texas\",\"Texas\",\"Texas\",\"Texas\",\"Texas\",\"Texas\",\"Texas\",\"Texas\",\"Texas\",\"New York\",\"New York\",\"Massachusetts\",\"Massachusetts\",\"California\",\"California\",\"California\",\"California\",\"California\",\"California\",\"Florida\",\"Florida\",\"Florida\",\"Florida\",\"Florida\",\"California\",\"Colorado\",\"Colorado\",\"Colorado\",\"Pennsylvania\",\"Pennsylvania\",\"Pennsylvania\",\"Pennsylvania\",\"Pennsylvania\",\"Pennsylvania\",\"Pennsylvania\",\"Mississippi\",\"Mississippi\",\"California\",\"Texas\",\"New Jersey\",\"New Jersey\",\"Illinois\",\"Illinois\",\"Washington\",\"New York\",\"Wisconsin\",\"Wisconsin\",\"Wisconsin\",\"Wisconsin\",\"Florida\",\"Florida\",\"Colorado\",\"Colorado\",\"Colorado\",\"California\",\"California\",\"Washington\",\"Washington\",\"Iowa\",\"California\",\"California\",\"Massachusetts\",\"Massachusetts\",\"Massachusetts\",\"Washington\",\"Oklahoma\",\"Oklahoma\",\"Oklahoma\",\"Pennsylvania\",\"Colorado\",\"New York\",\"New York\",\"New York\",\"New York\",\"Ohio\",\"Ohio\",\"California\",\"Missouri\",\"Missouri\",\"Texas\",\"Texas\",\"Texas\",\"Texas\",\"New York\",\"New York\",\"New York\",\"New York\",\"Texas\",\"Texas\",\"Texas\",\"Texas\",\"Texas\",\"Texas\",\"Texas\",\"Massachusetts\",\"Georgia\",\"California\",\"Washington\",\"Washington\",\"Washington\",\"Massachusetts\",\"Massachusetts\",\"Utah\",\"New York\",\"Ohio\",\"North Carolina\",\"New York\",\"Pennsylvania\",\"Pennsylvania\",\"Pennsylvania\",\"New York\",\"Pennsylvania\",\"California\",\"California\",\"California\",\"California\",\"California\",\"California\",\"New York\",\"New York\",\"New York\",\"New York\",\"New York\",\"New York\",\"New York\",\"California\",\"California\",\"Texas\",\"Texas\",\"Texas\",\"Texas\",\"Texas\",\"Texas\",\"Texas\",\"Georgia\",\"Georgia\",\"Georgia\",\"New York\",\"Oregon\",\"Oregon\",\"Oregon\",\"Oregon\",\"Oregon\",\"Virginia\",\"North Carolina\",\"Arizona\",\"California\",\"Maryland\",\"Washington\",\"California\",\"New York\",\"Washington\",\"Washington\",\"Washington\",\"Washington\",\"New Mexico\",\"New Mexico\",\"California\",\"California\",\"California\",\"California\",\"California\",\"California\",\"Texas\",\"Texas\",\"Texas\",\"Pennsylvania\",\"Illinois\",\"Illinois\",\"Texas\",\"Texas\",\"Texas\",\"Texas\",\"California\",\"Kansas\",\"California\",\"Illinois\",\"California\",\"California\",\"California\",\"Pennsylvania\",\"Pennsylvania\",\"California\",\"Texas\",\"Texas\",\"Texas\",\"Illinois\",\"California\",\"California\",\"California\",\"California\",\"Texas\",\"California\",\"California\",\"Florida\",\"New York\",\"Pennsylvania\",\"Pennsylvania\",\"Pennsylvania\",\"California\",\"California\",\"California\",\"California\",\"Oklahoma\",\"Oklahoma\",\"Virginia\",\"California\",\"South Dakota\",\"South Dakota\",\"Washington\",\"Washington\",\"Washington\",\"Connecticut\",\"Connecticut\",\"Maryland\",\"California\",\"Texas\",\"Connecticut\",\"New Jersey\",\"New York\",\"New York\",\"California\",\"California\",\"California\",\"California\",\"California\",\"Washington\",\"Washington\",\"Washington\",\"Mississippi\",\"California\",\"California\",\"California\",\"Illinois\",\"New York\",\"California\",\"Washington\",\"Oregon\",\"Pennsylvania\",\"Pennsylvania\",\"Illinois\",\"Illinois\",\"Illinois\",\"Illinois\",\"Illinois\",\"New York\",\"Maryland\",\"Maryland\",\"New York\",\"New York\",\"North Carolina\",\"North Carolina\",\"North Carolina\",\"California\",\"Tennessee\",\"Tennessee\",\"Tennessee\",\"Illinois\",\"Illinois\",\"New York\",\"New York\",\"New York\",\"New York\",\"New York\",\"Florida\",\"Florida\",\"Tennessee\",\"Tennessee\",\"Tennessee\",\"Texas\",\"Texas\",\"Tennessee\",\"Tennessee\",\"Tennessee\",\"Tennessee\",\"Texas\",\"Texas\",\"Texas\",\"Texas\",\"Texas\",\"Texas\",\"California\",\"California\",\"Massachusetts\",\"Massachusetts\",\"New York\",\"New York\",\"New York\",\"Georgia\",\"Georgia\",\"California\",\"California\",\"Florida\",\"Florida\",\"Florida\",\"Florida\",\"Florida\",\"Florida\",\"Florida\",\"New York\",\"New York\",\"California\",\"California\",\"Georgia\",\"Illinois\",\"Illinois\",\"Pennsylvania\",\"Illinois\",\"Illinois\",\"Illinois\",\"Illinois\",\"Washington\",\"Washington\",\"Washington\",\"Washington\",\"Washington\",\"Washington\",\"Michigan\",\"Michigan\",\"Michigan\",\"Arkansas\",\"North Carolina\",\"New York\",\"New York\",\"Delaware\",\"Illinois\",\"Illinois\",\"Illinois\",\"Illinois\",\"New York\",\"California\",\"Ohio\",\"New York\",\"Ohio\",\"Florida\",\"Florida\",\"Florida\",\"Georgia\",\"North Carolina\",\"North Carolina\",\"Illinois\",\"Illinois\",\"Illinois\",\"Illinois\",\"Florida\",\"Florida\",\"Florida\",\"Florida\",\"Florida\",\"Florida\",\"Ohio\",\"Washington\",\"New York\",\"Virginia\",\"Virginia\",\"North Carolina\",\"North Carolina\",\"California\",\"Michigan\",\"California\",\"California\",\"California\",\"California\",\"Oklahoma\",\"Oklahoma\",\"Oklahoma\",\"California\",\"Texas\",\"Texas\",\"Georgia\",\"Georgia\",\"Texas\",\"Texas\",\"Texas\",\"Texas\",\"North Carolina\",\"North Carolina\",\"New York\",\"Texas\",\"Texas\",\"New York\",\"New York\",\"Florida\",\"Florida\",\"Illinois\",\"Illinois\",\"New Jersey\",\"New Jersey\",\"New York\",\"Massachusetts\",\"Massachusetts\",\"Massachusetts\",\"Massachusetts\",\"Delaware\",\"Virginia\",\"Alabama\",\"Alabama\",\"California\",\"Virginia\",\"California\",\"Alabama\",\"Tennessee\",\"Tennessee\",\"Tennessee\",\"Massachusetts\",\"Massachusetts\",\"Massachusetts\",\"Massachusetts\",\"Massachusetts\",\"Pennsylvania\",\"Pennsylvania\",\"Pennsylvania\",\"Pennsylvania\",\"Pennsylvania\",\"Georgia\",\"Montana\",\"Montana\",\"Montana\",\"Texas\",\"Texas\",\"Texas\",\"Texas\",\"Florida\",\"Washington\",\"California\",\"California\",\"California\",\"California\",\"California\",\"Texas\",\"Washington\",\"California\",\"California\",\"California\",\"Florida\",\"Texas\",\"Texas\",\"Texas\",\"Illinois\",\"California\",\"Texas\",\"Connecticut\",\"Connecticut\",\"California\",\"Connecticut\",\"Connecticut\",\"New Jersey\",\"Ohio\",\"California\",\"Connecticut\",\"Massachusetts\",\"Massachusetts\",\"Massachusetts\",\"Massachusetts\",\"North Carolina\",\"Texas\",\"Ohio\",\"Arizona\",\"New York\",\"New York\",\"New York\",\"California\",\"Delaware\",\"Delaware\",\"Delaware\",\"Delaware\",\"Delaware\",\"California\",\"North Carolina\",\"Virginia\",\"Texas\",\"Texas\",\"Texas\",\"Iowa\",\"Washington\",\"Washington\",\"Washington\",\"Washington\",\"Washington\",\"New Jersey\",\"New Jersey\",\"New Jersey\",\"New Jersey\",\"Ohio\",\"Colorado\",\"Michigan\",\"Arizona\",\"Pennsylvania\",\"Minnesota\",\"Maryland\",\"Texas\",\"Texas\",\"Texas\",\"Texas\",\"Nevada\",\"Ohio\",\"Washington\",\"Illinois\",\"Ohio\",\"Arizona\",\"Pennsylvania\",\"Pennsylvania\",\"Pennsylvania\",\"Rhode Island\",\"Rhode Island\",\"Rhode Island\",\"Rhode Island\",\"Rhode Island\",\"Rhode Island\",\"California\",\"Texas\",\"Texas\",\"Texas\",\"California\",\"Illinois\",\"Illinois\",\"Texas\",\"Texas\",\"Connecticut\",\"Connecticut\",\"Michigan\",\"New Mexico\",\"Colorado\",\"New York\",\"Connecticut\",\"California\",\"Indiana\",\"Tennessee\",\"Tennessee\",\"Tennessee\",\"Tennessee\",\"Florida\",\"Pennsylvania\",\"Pennsylvania\",\"Arizona\",\"New York\",\"California\",\"California\",\"Nebraska\",\"Pennsylvania\",\"New York\",\"Michigan\",\"Washington\",\"California\",\"California\",\"California\",\"Virginia\",\"Virginia\",\"Virginia\",\"California\",\"Texas\",\"Texas\",\"Texas\",\"Colorado\",\"New York\",\"New York\",\"New York\",\"New York\",\"New York\",\"California\",\"California\",\"California\",\"Texas\",\"Texas\",\"Texas\",\"Texas\",\"Michigan\",\"Michigan\",\"Michigan\",\"New York\",\"Texas\",\"Florida\",\"Kentucky\",\"Kentucky\",\"New York\",\"Texas\",\"New Jersey\",\"New Jersey\",\"New Jersey\",\"Ohio\",\"Wisconsin\",\"California\",\"Ohio\",\"Ohio\",\"Ohio\",\"Ohio\",\"Ohio\",\"California\",\"Michigan\",\"Michigan\",\"Michigan\",\"Michigan\",\"Georgia\",\"California\",\"Pennsylvania\",\"Pennsylvania\",\"Pennsylvania\",\"California\",\"California\",\"Pennsylvania\",\"Pennsylvania\",\"New York\",\"Georgia\",\"Georgia\",\"Georgia\",\"California\",\"California\",\"Colorado\",\"Texas\",\"Texas\",\"Illinois\",\"Alabama\",\"Virginia\",\"Florida\",\"Florida\",\"Texas\",\"Texas\",\"Texas\",\"Texas\",\"Texas\",\"Wisconsin\",\"Florida\",\"Florida\",\"Texas\",\"Texas\",\"Ohio\",\"New York\",\"New York\",\"New York\",\"Texas\",\"Texas\",\"New York\",\"California\",\"Florida\",\"New Hampshire\",\"Minnesota\",\"Minnesota\",\"Kentucky\",\"Texas\",\"Texas\",\"Texas\",\"Texas\",\"California\",\"Pennsylvania\",\"California\",\"California\",\"Pennsylvania\",\"Pennsylvania\",\"New York\",\"Colorado\",\"Colorado\",\"Florida\",\"Florida\",\"Virginia\",\"Virginia\",\"California\",\"California\",\"California\",\"California\",\"California\",\"Nevada\",\"Texas\",\"Texas\",\"Texas\",\"Massachusetts\",\"New York\",\"New York\",\"New York\",\"New York\",\"California\",\"California\",\"California\",\"Washington\",\"Washington\",\"Washington\",\"Washington\",\"California\",\"New York\",\"Texas\",\"Tennessee\",\"Arizona\",\"Florida\",\"Florida\",\"Colorado\",\"New York\",\"New York\",\"New York\",\"New York\",\"New York\",\"Pennsylvania\",\"Pennsylvania\",\"Pennsylvania\",\"Pennsylvania\",\"Kentucky\",\"Kentucky\",\"Washington\",\"Wisconsin\",\"Kentucky\",\"Texas\",\"Arizona\",\"North Carolina\",\"North Carolina\",\"North Carolina\",\"North Carolina\",\"California\",\"Tennessee\",\"North Carolina\",\"North Carolina\",\"Washington\",\"Washington\",\"Washington\",\"Washington\",\"Washington\",\"Washington\",\"Washington\",\"Washington\",\"Illinois\",\"Ohio\",\"Florida\",\"Texas\",\"Texas\",\"Texas\",\"California\",\"California\",\"Pennsylvania\",\"Washington\",\"Washington\",\"California\",\"Ohio\",\"Ohio\",\"Illinois\",\"Illinois\",\"Illinois\",\"Illinois\",\"Illinois\",\"Texas\",\"Texas\",\"Texas\",\"Virginia\",\"Virginia\",\"Virginia\",\"California\",\"California\",\"New York\",\"California\",\"California\",\"California\",\"Pennsylvania\",\"Ohio\",\"Ohio\",\"Ohio\",\"California\",\"Michigan\",\"California\",\"Tennessee\",\"Tennessee\",\"Tennessee\",\"Tennessee\",\"Tennessee\",\"Tennessee\",\"Tennessee\",\"Pennsylvania\",\"Texas\",\"Nevada\",\"New York\",\"New York\",\"California\",\"California\",\"California\",\"California\",\"California\",\"California\",\"California\",\"Ohio\",\"Texas\",\"Texas\",\"Texas\",\"Texas\",\"Texas\",\"Texas\",\"Texas\",\"Florida\",\"Florida\",\"Washington\",\"Tennessee\",\"Tennessee\",\"Tennessee\",\"Tennessee\",\"Tennessee\",\"Missouri\",\"Washington\",\"Washington\",\"Washington\",\"New York\",\"Minnesota\",\"Tennessee\",\"Pennsylvania\",\"Pennsylvania\",\"Louisiana\",\"Indiana\",\"Oregon\",\"Oregon\",\"Massachusetts\",\"Massachusetts\",\"California\",\"California\",\"California\",\"New York\",\"New York\",\"Florida\",\"Florida\",\"Ohio\",\"Ohio\",\"Ohio\",\"Maryland\",\"Maryland\",\"Maryland\",\"Maryland\",\"Georgia\",\"Georgia\",\"California\",\"California\",\"Texas\",\"Texas\",\"Texas\",\"Texas\",\"Ohio\",\"Colorado\",\"Colorado\",\"North Carolina\",\"North Carolina\",\"New York\",\"New York\",\"Illinois\",\"Texas\",\"Texas\",\"New York\",\"Oregon\",\"Texas\",\"Texas\",\"Idaho\",\"Idaho\",\"Tennessee\",\"Arizona\",\"Arizona\",\"Arizona\",\"North Carolina\",\"North Carolina\",\"Virginia\",\"Texas\",\"California\",\"California\",\"California\",\"California\",\"Utah\",\"Utah\",\"Vermont\",\"Pennsylvania\",\"Illinois\",\"Oklahoma\",\"Oklahoma\",\"New York\",\"New York\",\"Utah\",\"New York\",\"Pennsylvania\",\"Pennsylvania\",\"Pennsylvania\",\"California\",\"Michigan\",\"Michigan\",\"Arizona\",\"Delaware\",\"Delaware\",\"Delaware\",\"Delaware\",\"Delaware\",\"Texas\",\"Florida\",\"Florida\",\"Florida\",\"Florida\",\"Pennsylvania\",\"Pennsylvania\",\"Texas\",\"Texas\",\"Missouri\",\"Indiana\",\"Washington\",\"Virginia\",\"New York\",\"Georgia\",\"Georgia\",\"Georgia\",\"Georgia\",\"Georgia\",\"California\",\"California\",\"California\",\"California\",\"California\",\"Minnesota\",\"Ohio\",\"Ohio\",\"Ohio\",\"Ohio\",\"North Carolina\",\"North Carolina\",\"North Carolina\",\"North Carolina\",\"New York\",\"Pennsylvania\",\"Pennsylvania\",\"Idaho\",\"California\",\"California\",\"California\",\"North Carolina\",\"New Jersey\",\"New Jersey\",\"New Jersey\",\"New Jersey\",\"New Jersey\",\"Virginia\",\"Illinois\",\"Illinois\",\"California\",\"Washington\",\"Washington\",\"Washington\",\"Ohio\",\"Ohio\",\"Texas\",\"Texas\",\"Texas\",\"New Jersey\",\"New Jersey\",\"California\",\"California\",\"Illinois\",\"North Carolina\",\"North Carolina\",\"Ohio\",\"Ohio\",\"Ohio\",\"California\",\"California\",\"Missouri\",\"Missouri\",\"Georgia\",\"California\",\"Texas\",\"California\",\"California\",\"California\",\"California\",\"Virginia\",\"Virginia\",\"Illinois\",\"Illinois\",\"Illinois\",\"Illinois\",\"New York\",\"New York\",\"New York\",\"California\",\"California\",\"Massachusetts\",\"Tennessee\",\"Tennessee\",\"Tennessee\",\"Tennessee\",\"Texas\",\"Texas\",\"Texas\",\"Texas\",\"Texas\",\"Virginia\",\"New York\",\"Florida\",\"Florida\",\"North Carolina\",\"Illinois\",\"Illinois\",\"Illinois\",\"Washington\",\"Texas\",\"Texas\",\"Texas\",\"Wisconsin\",\"Wisconsin\",\"Wisconsin\",\"Pennsylvania\",\"Pennsylvania\",\"California\",\"California\",\"California\",\"California\",\"Florida\",\"Oregon\",\"Oregon\",\"Illinois\",\"California\",\"California\",\"Massachusetts\",\"Massachusetts\",\"California\",\"Tennessee\",\"Tennessee\",\"Tennessee\",\"Tennessee\",\"Tennessee\",\"Florida\",\"California\",\"Florida\",\"Florida\",\"Texas\",\"Texas\",\"Texas\",\"Texas\",\"Virginia\",\"Virginia\",\"Virginia\",\"Texas\",\"Pennsylvania\",\"Pennsylvania\",\"Tennessee\",\"Ohio\",\"Ohio\",\"New York\",\"Pennsylvania\",\"California\",\"Texas\",\"Texas\",\"Texas\",\"Texas\",\"New Jersey\",\"Texas\",\"Illinois\",\"Illinois\",\"Illinois\",\"Illinois\",\"Illinois\",\"North Carolina\",\"North Carolina\",\"North Carolina\",\"North Carolina\",\"Missouri\",\"Missouri\",\"California\",\"Tennessee\",\"Tennessee\",\"Florida\",\"Florida\",\"Texas\",\"Texas\",\"Texas\",\"Pennsylvania\",\"Arizona\",\"Georgia\",\"Georgia\",\"Washington\",\"Washington\",\"Wisconsin\",\"Wisconsin\",\"Wisconsin\",\"Wisconsin\",\"Ohio\",\"Alabama\",\"Texas\",\"New York\",\"California\",\"California\",\"New Mexico\",\"New Mexico\",\"Idaho\",\"Idaho\",\"Virginia\",\"Virginia\",\"Ohio\",\"Colorado\",\"New York\",\"New York\",\"New York\",\"New York\",\"Massachusetts\",\"Massachusetts\",\"New York\",\"Washington\",\"Washington\",\"Michigan\",\"Arkansas\",\"Illinois\",\"Illinois\",\"New York\",\"New York\",\"Texas\",\"Michigan\",\"Arizona\",\"Florida\",\"California\",\"California\",\"California\",\"California\",\"California\",\"California\",\"California\",\"New York\",\"California\",\"California\",\"California\",\"California\",\"California\",\"Washington\",\"New York\",\"California\",\"California\",\"Washington\",\"California\",\"California\",\"New York\",\"Illinois\",\"Illinois\",\"Illinois\",\"Virginia\",\"Maryland\",\"Washington\",\"Washington\",\"Pennsylvania\",\"Indiana\",\"Missouri\",\"Missouri\",\"Kentucky\",\"Ohio\",\"Ohio\",\"Nebraska\",\"Kentucky\",\"Kentucky\",\"California\",\"California\",\"Virginia\",\"Virginia\",\"Virginia\",\"California\",\"Texas\",\"Texas\",\"North Carolina\",\"Ohio\",\"Kentucky\",\"Ohio\",\"Ohio\",\"Michigan\",\"Michigan\",\"Michigan\",\"Michigan\",\"Indiana\",\"Texas\",\"Texas\",\"Texas\",\"Texas\",\"Texas\",\"Texas\",\"Texas\",\"Texas\",\"Texas\",\"Texas\",\"Texas\",\"Texas\",\"Virginia\",\"Virginia\",\"Virginia\",\"Virginia\",\"California\",\"Pennsylvania\",\"Pennsylvania\",\"Pennsylvania\",\"Pennsylvania\",\"California\",\"California\",\"California\",\"California\",\"Pennsylvania\",\"Texas\",\"Texas\",\"New Mexico\",\"Texas\",\"Oregon\",\"Ohio\",\"Ohio\",\"Maryland\",\"Maryland\",\"California\",\"North Carolina\",\"North Carolina\",\"North Carolina\",\"Florida\",\"Florida\",\"Illinois\",\"California\",\"New York\",\"Nevada\",\"Nevada\",\"Nevada\",\"Illinois\",\"Vermont\",\"Vermont\",\"Vermont\",\"Michigan\",\"Michigan\",\"Arizona\",\"Arizona\",\"Arizona\",\"Pennsylvania\",\"Nevada\",\"Maine\",\"Maine\",\"Maine\",\"Tennessee\",\"Tennessee\",\"Wisconsin\",\"Wisconsin\",\"Illinois\",\"Illinois\",\"California\",\"California\",\"California\",\"Mississippi\",\"Mississippi\",\"California\",\"California\",\"California\",\"California\",\"Washington\",\"Washington\",\"Tennessee\",\"New York\",\"New York\",\"California\",\"California\",\"California\",\"California\",\"California\",\"California\",\"California\",\"California\",\"Pennsylvania\",\"Pennsylvania\",\"Pennsylvania\",\"Pennsylvania\",\"Pennsylvania\",\"Texas\",\"Texas\",\"Arizona\",\"Arizona\",\"California\",\"California\",\"California\",\"California\",\"New Jersey\",\"New Jersey\",\"New York\",\"New York\",\"California\",\"Connecticut\",\"Connecticut\",\"Illinois\",\"Washington\",\"Iowa\",\"Iowa\",\"California\",\"California\",\"California\",\"Pennsylvania\",\"California\",\"Texas\",\"Minnesota\",\"Pennsylvania\",\"Pennsylvania\",\"Louisiana\",\"Louisiana\",\"Louisiana\",\"Texas\",\"Texas\",\"Texas\",\"Texas\",\"California\",\"California\",\"California\",\"California\",\"Arizona\",\"California\",\"California\",\"California\",\"California\",\"California\",\"California\",\"Ohio\",\"Florida\",\"Florida\",\"Florida\",\"California\",\"California\",\"California\",\"California\",\"California\",\"California\",\"New York\",\"New York\",\"Iowa\",\"California\",\"Arkansas\",\"Arkansas\",\"Missouri\",\"Missouri\",\"Missouri\",\"Missouri\",\"Missouri\",\"Missouri\",\"South Dakota\",\"Washington\",\"Michigan\",\"Michigan\",\"Tennessee\",\"Tennessee\",\"Nevada\",\"New York\",\"New York\",\"New York\",\"New York\",\"New York\",\"New York\",\"Kentucky\",\"New Mexico\",\"Florida\",\"Florida\",\"Pennsylvania\",\"Pennsylvania\",\"Pennsylvania\",\"Washington\",\"Virginia\",\"Florida\",\"Colorado\",\"Wisconsin\",\"North Carolina\",\"Texas\",\"Texas\",\"Pennsylvania\",\"California\",\"Delaware\",\"Delaware\",\"Texas\",\"Maryland\",\"Ohio\",\"Ohio\",\"Texas\",\"Texas\",\"Texas\",\"Texas\",\"Texas\",\"Texas\",\"Texas\",\"Texas\",\"Texas\",\"New Mexico\",\"California\",\"California\",\"California\",\"California\",\"New York\",\"Texas\",\"Texas\",\"Michigan\",\"Michigan\",\"Pennsylvania\",\"Pennsylvania\",\"Texas\",\"New York\",\"New York\",\"New York\",\"Texas\",\"Texas\",\"California\",\"California\",\"California\",\"Washington\",\"Washington\",\"Washington\",\"California\",\"New York\",\"Oregon\",\"Kentucky\",\"Kentucky\",\"Florida\",\"Florida\",\"California\",\"California\",\"California\",\"California\",\"California\",\"California\",\"California\",\"Ohio\",\"Ohio\",\"Ohio\",\"Ohio\",\"Ohio\",\"California\",\"California\",\"Washington\",\"Washington\",\"Illinois\",\"Illinois\",\"Michigan\",\"Michigan\",\"Michigan\",\"New York\",\"New York\",\"New York\",\"New York\",\"Washington\",\"Washington\",\"Washington\",\"Washington\",\"Missouri\",\"New York\",\"New York\",\"New Jersey\",\"Maryland\",\"Ohio\",\"Ohio\",\"Ohio\",\"California\",\"Washington\",\"California\",\"New Jersey\",\"Wisconsin\",\"Illinois\",\"Florida\",\"Florida\",\"Florida\",\"Florida\",\"Florida\",\"New York\",\"Arizona\",\"Vermont\",\"Vermont\",\"Vermont\",\"Vermont\",\"Texas\",\"Illinois\",\"Colorado\",\"New York\",\"New York\",\"New York\",\"New York\",\"New York\",\"New York\",\"Illinois\",\"Virginia\",\"Arizona\",\"New York\",\"New York\",\"Pennsylvania\",\"Illinois\",\"Illinois\",\"New York\",\"New York\",\"Pennsylvania\",\"Pennsylvania\",\"Arizona\",\"California\",\"Texas\",\"Washington\",\"Washington\",\"Washington\",\"North Carolina\",\"North Carolina\",\"Texas\",\"Texas\",\"California\",\"California\",\"California\",\"California\",\"New York\",\"Washington\",\"New York\",\"Texas\",\"Texas\",\"Texas\",\"Pennsylvania\",\"Arizona\",\"Arizona\",\"Arizona\",\"Arizona\",\"Pennsylvania\",\"California\",\"Pennsylvania\",\"Illinois\",\"New York\",\"Ohio\",\"Florida\",\"Florida\",\"Texas\",\"Indiana\",\"Indiana\",\"Oklahoma\",\"Washington\",\"California\",\"Washington\",\"California\",\"California\",\"California\",\"California\",\"Tennessee\",\"North Carolina\",\"North Carolina\",\"California\",\"California\",\"New York\",\"California\",\"Kentucky\",\"Ohio\",\"Delaware\",\"Washington\",\"New York\",\"New York\",\"New York\",\"New York\",\"New York\",\"New York\",\"New York\",\"New York\",\"Illinois\",\"Illinois\",\"Illinois\",\"Illinois\",\"Illinois\",\"Illinois\",\"Illinois\",\"Texas\",\"Pennsylvania\",\"California\",\"Texas\",\"Texas\",\"West Virginia\",\"New Jersey\",\"Oregon\",\"Alabama\",\"California\",\"California\",\"Oklahoma\",\"Oklahoma\",\"Oklahoma\",\"California\",\"California\",\"Indiana\",\"Indiana\",\"Indiana\",\"Wisconsin\",\"California\",\"New York\",\"New York\",\"New York\",\"New York\",\"Michigan\",\"Michigan\",\"Michigan\",\"Michigan\",\"New York\",\"Illinois\",\"Texas\",\"Wisconsin\",\"Florida\",\"Illinois\",\"Ohio\",\"Ohio\",\"Ohio\",\"California\",\"California\",\"Illinois\",\"Illinois\",\"Illinois\",\"Washington\",\"Washington\",\"Washington\",\"Washington\",\"Washington\",\"Texas\",\"Washington\",\"Texas\",\"New York\",\"New York\",\"New York\",\"New York\",\"Illinois\",\"California\",\"Rhode Island\",\"Rhode Island\",\"Arizona\",\"Texas\",\"Texas\",\"Texas\",\"Texas\",\"Indiana\",\"Indiana\",\"Pennsylvania\",\"Pennsylvania\",\"Pennsylvania\",\"California\",\"Pennsylvania\",\"Virginia\",\"Colorado\",\"Ohio\",\"Ohio\",\"New Hampshire\",\"Texas\",\"Ohio\",\"Ohio\",\"Ohio\",\"Ohio\",\"Ohio\",\"Ohio\",\"California\",\"Florida\",\"Florida\",\"Florida\",\"Nebraska\",\"Ohio\",\"Ohio\",\"Ohio\",\"Ohio\",\"Ohio\",\"California\",\"Texas\",\"Texas\",\"Texas\",\"New York\",\"New York\",\"New York\",\"New York\",\"Pennsylvania\",\"New York\",\"Michigan\",\"Florida\",\"California\",\"Illinois\",\"Illinois\",\"Illinois\",\"Illinois\",\"Texas\",\"Texas\",\"New York\",\"New York\",\"California\",\"California\",\"California\",\"California\",\"Oregon\",\"Texas\",\"Arkansas\",\"Virginia\",\"New York\",\"Virginia\",\"Ohio\",\"Ohio\",\"New York\",\"New York\",\"California\",\"California\",\"Mississippi\",\"California\",\"Washington\",\"Washington\",\"Washington\",\"California\",\"Ohio\",\"Ohio\",\"Ohio\",\"Ohio\",\"Ohio\",\"Ohio\",\"Texas\",\"Texas\",\"Texas\",\"Texas\",\"Michigan\",\"Ohio\",\"Ohio\",\"New York\",\"New York\",\"Minnesota\",\"Massachusetts\",\"Massachusetts\",\"Massachusetts\",\"Washington\",\"Washington\",\"California\",\"North Carolina\",\"Washington\",\"Washington\",\"Washington\",\"Washington\",\"Arizona\",\"Arizona\",\"Arizona\",\"Minnesota\",\"Minnesota\",\"California\",\"California\",\"California\",\"California\",\"Arizona\",\"Arizona\",\"New York\",\"New York\",\"New York\",\"New York\",\"California\",\"California\",\"California\",\"California\",\"California\",\"California\",\"California\",\"California\",\"California\",\"California\",\"Alabama\",\"North Carolina\",\"California\",\"Pennsylvania\",\"Pennsylvania\",\"Texas\",\"California\",\"Indiana\",\"New York\",\"New York\",\"California\",\"California\",\"California\",\"California\",\"California\",\"California\",\"California\",\"California\",\"Texas\",\"Virginia\",\"Virginia\",\"New York\",\"Texas\",\"Connecticut\",\"California\",\"California\",\"Ohio\",\"Michigan\",\"Pennsylvania\",\"California\",\"California\",\"California\",\"California\",\"Delaware\",\"Delaware\",\"Delaware\",\"California\",\"California\",\"California\",\"California\",\"California\",\"Pennsylvania\",\"Pennsylvania\",\"Pennsylvania\",\"Pennsylvania\",\"Pennsylvania\",\"California\",\"Pennsylvania\",\"Texas\",\"Texas\",\"Pennsylvania\",\"Wisconsin\",\"New York\",\"New York\",\"New York\",\"Illinois\",\"Idaho\",\"Massachusetts\",\"Massachusetts\",\"Massachusetts\",\"Washington\",\"Washington\",\"California\",\"Virginia\",\"Virginia\",\"Virginia\",\"Pennsylvania\",\"Nebraska\",\"California\",\"California\",\"California\",\"California\",\"Vermont\",\"California\",\"Delaware\",\"Illinois\",\"California\",\"California\",\"Illinois\",\"Illinois\",\"New Hampshire\",\"Illinois\",\"Illinois\",\"Washington\",\"Virginia\",\"Virginia\",\"Virginia\",\"Virginia\",\"Virginia\",\"Virginia\",\"California\",\"Arkansas\",\"Washington\",\"Washington\",\"Washington\",\"California\",\"Connecticut\",\"Connecticut\",\"Michigan\",\"California\",\"Florida\",\"Florida\",\"Florida\",\"Pennsylvania\",\"Georgia\",\"Texas\",\"Texas\",\"Texas\",\"Texas\",\"Texas\",\"Texas\",\"New York\",\"New York\",\"New Jersey\",\"New Jersey\",\"New Jersey\",\"Kentucky\",\"Virginia\",\"Texas\",\"Texas\",\"Texas\",\"Texas\",\"Texas\",\"Texas\",\"Texas\",\"Texas\",\"Illinois\",\"Ohio\",\"Ohio\",\"Ohio\",\"Ohio\"],\"legendgroup\":\"\",\"name\":\"\",\"showlegend\":true,\"values\":[261.96,731.94,14.62,957.5775,22.368,48.86,7.28,907.152,18.504,114.9,1706.184,911.424,15.552,407.976,68.81,2.544,665.88,55.5,8.56,213.48,22.72,19.46,60.34,71.372,1044.63,11.648,90.57,3083.43,9.618,124.2,3.264,86.304,6.858,15.76,29.472,1097.544,190.92,113.328,532.3992,212.058,371.168,147.168,77.88,95.616,45.98,17.46,211.96,45.0,21.8,38.22,75.18,6.16,89.99,15.26,1029.95,208.56,32.4,319.41,14.56,30.0,48.48,1.68,13.98,25.824,146.73,79.76,213.115,1113.024,167.968,75.88,4.616,19.05,831.936,97.04,72.784,1.248,9.708,27.24,19.3,208.16,16.74,14.9,21.39,200.984,230.376,301.96,19.99,6.16,158.368,20.1,73.584,6.48,12.96,53.34,32.96,5.682,96.53,51.312,77.88,64.624,95.976,1.788,23.92,238.896,102.36,36.882,74.112,27.992,3.304,339.96,41.96,75.96,27.24,40.096,4.72,23.976,130.464,787.53,157.794,47.04,30.84,226.56,115.02,68.04,600.558,617.7,2.388,243.992,81.424,238.56,59.97,78.304,21.456,20.04,35.44,11.52,4.02,76.176,65.88,43.12,82.8,8.82,10.86,143.7,839.43,671.93,93.888,384.45,149.97,1951.84,171.55,157.92,203.184,58.38,105.52,80.88,6.63,457.568,14.62,944.93,5.98,54.384,28.4,27.68,9.936,8159.952,275.928,1740.06,32.064,177.98,143.976,20.94,110.96,340.144,52.448,20.16,97.264,396.802,15.88,3.28,24.816,408.744,503.96,149.95,29.0,7.16,176.8,37.224,20.016,899.136,71.76,51.84,626.352,19.9,14.28,7.408,6.048,46.26,2.946,16.056,21.744,218.75,2.6,66.284,35.168,444.768,83.92,131.98,15.92,52.29,91.99,20.8,23.68,452.45,62.982,1188.0,89.584,93.06,302.376,5.584,22.704,19.776,72.704,479.988,27.168,2.2,622.45,21.98,161.568,389.696,18.648,233.86,620.6145,5.328,258.072,617.976,10.56,25.92,419.68,11.688,31.984,177.225,4.044,7.408,2001.86,166.72,47.88,1503.25,25.92,321.568,7.61,3347.37,80.58,361.92,12.132,82.368,53.92,647.904,20.37,221.55,17.52,1.624,3059.982,2519.958,328.224,79.9,14.016,7.56,37.208,57.576,725.84,209.93,5.28,10.92,8.82,5.98,11.648,18.176,59.712,24.84,2.08,1114.4,1038.84,141.76,239.8,31.104,254.058,194.528,961.48,19.096,18.496,255.984,86.97,300.416,230.352,218.352,78.6,27.552,32.4,1082.48,56.91,77.6,14.28,219.075,26.8,9.84,45.48,289.2,4.89,15.136,466.768,15.232,6.264,87.54,178.384,15.552,99.136,135.882,3991.98,275.94,360.0,43.57,7.16,251.52,99.99,15.992,290.898,54.224,786.744,100.24,37.764,82.8,20.724,4.896,4.752,959.984,14.368,7.712,698.352,4.96,17.856,509.97,30.992,71.928,88.8,47.976,7.56,24.56,12.96,6.79,24.56,3.048,49.12,4355.168,388.704,8.26,17.04,34.4,36.24,647.84,20.7,20.7,488.646,5.56,47.12,211.96,23.2,7.36,104.79,1043.92,25.92,53.424,8.16,1023.936,9.24,479.04,99.136,1488.424,8.652,23.832,12.176,50.96,49.536,41.9,375.4575,83.976,482.34,2.96,2.624,23.36,39.98,246.384,1799.97,12.462,75.792,49.96,12.96,70.12,35.952,2396.2656,131.136,57.584,9.568,39.072,35.91,179.95,1199.976,27.15,1004.024,9.68,28.35,55.98,1336.829,113.568,139.86,307.136,95.92,383.8,5.78,9.32,15.25,196.752,56.56,32.7,866.4,28.4,287.92,69.99,6.672,189.588,408.744,291.96,4.768,714.3,4.812,247.8,1007.979,313.488,31.872,207.846,12.22,194.94,70.95,91.36,242.94,22.05,2.91,59.52,161.94,263.88,30.48,9.84,35.12,284.364,665.408,63.88,129.568,747.558,8.928,103.92,899.91,51.312,23.56,1272.63,28.485,185.376,78.272,254.744,205.3328,4.788,55.48,340.92,222.666,703.968,92.52,62.65,94.85,95.76,40.2,14.7,704.25,9.09,5.96,159.98,29.6,514.165,279.96,2735.952,7.992,63.984,70.368,449.15,11.07,93.98,189.882,105.42,119.616,255.76,241.568,69.3,22.62,14.952,801.568,2.376,32.792,15.92,2.74,8.34,46.74,6354.95,126.3,38.04,7.152,6.63,5.88,2999.95,51.45,11.96,1126.02,18.392,129.568,14.112,210.98,55.176,66.26,22.2,683.952,45.696,36.336,666.248,52.512,190.72,47.94,979.95,22.75,16.768,42.616,10.752,152.94,283.92,468.9,380.864,646.776,58.112,100.792,66.112,41.28,13.36,250.272,11.364,8.72,1121.568,34.504,10.824,1295.78,19.456,20.7,1335.68,32.4,42.6,84.056,13.0,13.128,3.96,2.61,374.376,91.84,81.088,19.44,451.152,72.45,13.96,33.264,14.85,8.82,160.72,19.92,7.3,69.712,8.792,51.52,470.376,105.584,31.152,6.783,406.368,70.98,294.93,84.784,20.736,16.821,10.368,9.344,31.2,76.12,1199.976,445.96,327.76,11.632,143.982,494.376,5.84,142.776,45.696,7.218,43.188,131.904,3.282,21.168,55.188,369.576,15.712,8.448,728.946,119.94,3.648,40.48,9.94,107.424,37.91,88.02,8.69,301.96,555.21,523.48,161.82,35.56,97.16,15.24,13.23,243.384,119.8,300.768,17.88,235.944,392.94,18.882,122.328,1049.2,15.424,18.84,330.4,26.25,132.52,6.48,209.3,31.56,30.144,14.8,302.376,316.0,379.4,97.82,103.12,113.552,3.318,134.288,701.372,2.308,999.432,724.08,918.785,2.724,459.95,10.74,23.76,85.056,381.576,30.36,23.976,108.925,36.352,19.56,61.44,38.9,99.39,2.688,27.816,82.524,182.994,14.352,64.96,68.6,7999.98,167.44,479.97,14.62,19.44,191.984,104.01,284.82,36.84,166.24,33.4,198.272,47.36,200.984,97.696,2.696,18.588,4.896,15.072,209.88,369.912,10.368,166.84,15.216,119.96,883.92,46.72,55.48,24.448,281.34,307.98,299.97,19.92,9.94,103.056,59.808,73.32,146.82,1652.94,296.37,129.92,45.584,17.568,55.992,182.72,400.032,33.63,542.646,6.3,242.94,179.97,99.696,27.936,84.98,18.72,49.98,11.784,272.736,3.54,51.52,3.528,4.624,55.168,567.12,359.32,11.992,58.05,157.74,56.98,2.88,1199.976,79.92,383.438,24.56,119.8,13.128,22.72,58.32,12.39,107.982,11.36,50.94,646.74,5.64,572.58,310.88,641.96,18.28,207.0,32.35,7.71,40.3,34.58,32.76,544.008,59.94,23.92,4.28,32.07,24.0,35.49,47.984,186.69,17.456,348.928,143.96,15.42,43.04,332.94,1363.96,9.96,21.72,20.16,132.79,12.96,21.56,283.92,22.23,215.968,355.32,12.96,18.28,43.176,1983.968,28.4,149.97,11.52,1298.55,213.92,25.78,18.28,1399.93,51.84,5.344,41.472,3.168,1228.465,31.086,335.52,239.97,9.82,67.8,167.97,35.0,37.24,15.28,301.96,180.66,191.98,65.99,35.216,23.696,265.475,51.184,9.664,21.072,60.45,11.52,186.048,37.44,26.976,11.36,14.62,83.72,287.94,48.896,115.36,5.16,38.88,185.88,44.46,242.94,39.96,102.3,21.36,7.61,7.16,7.36,23.1,191.472,5.248,59.184,2.89,51.94,15.936,44.91,1141.47,280.782,34.44,11.36,106.344,192.16,322.59,29.99,371.97,5.892,68.472,1242.9,30.84,13.48,31.4,17.46,13.944,83.76,37.66,34.68,149.95,51.312,4.54,15.92,543.92,155.82,70.008,15.648,103.6,46.96,8.904,10.44,18.336,323.976,20.04,64.96,12.96,323.136,90.93,52.776,1199.8,1928.78,352.38,22.2,46.94,143.73,99.918,797.944,8.568,149.352,12.992,24.56,85.14,21.99,406.6,841.568,15.552,252.0,46.2,28.84,14.592,89.856,13.872,12.192,45.056,29.718,15.552,447.696,159.99,12.96,134.48,17.12,6.096,1114.272,32.4,540.57,167.76,393.165,516.488,1007.232,2065.32,15.552,25.344,25.472,27.168,78.8528,173.8,29.592,4.752,15.552,204.6,321.568,6.24,21.88,4.608,9.82,35.97,12.96,191.6,8.64,501.81,127.104,124.2,18.588,30.072,160.93,75.792,1.08,3059.982,3.282,34.02,599.292,3.392,559.984,603.92,7.968,27.968,336.51,1.112,520.05,17.97,1166.92,14.624,10.23,154.9,2715.93,617.97,10.67,36.63,24.1,33.11,44.02,2309.65,1090.782,19.44,484.65,115.296,7.08,4.401,44.75,95.984,151.72,155.25,14.03,1618.37,99.6,32.4,13.96,155.82,124.95,601.65,22.74,1267.53,1379.92,6.208,11.808,15.552,63.312,15.588,177.2,197.97,854.94,124.11,14.4,15.696,2.628,14.427,86.62,36.624,23.968,28.728,697.16,31.86,722.352,8.84,58.464,254.604,1363.96,102.36,1113.504,99.99,168.464,6.72,282.888,11.16,108.4,82.344,9.088,19.936,65.568,4.416,107.772,45.216,10.416,7.872,118.782,1.448,55.47,194.848,1.744,25.176,19.46,29.472,8.64,6.27,4.368,31.984,40.88,119.96,31.44,6.88,19.92,1106.91,836.592,26.38,362.92,4899.93,6.48,71.976,3.15,31.984,71.984,120.15,219.184,28.9,355.96,348.208,35.784,447.84,7.04,8.73,29.29,8.64,2.694,2.934,22.92,100.704,2.328,10.78,58.368,40.968,71.96,10.368,1.192,46.672,119.833,119.98,6.3,279.9,619.95,4.36,15.28,699.93,22.96,38.6,6.63,23.34,1067.94,10.16,101.88,343.92,40.99,63.9,19.44,124.608,7.56,85.224,287.52,37.68,19.98,20.58,17.38,204.6,8.72,6.48,686.32,62.18,644.076,5.84,12.76,10.95,599.98,8.352,3.64,159.768,122.48,2244.48,62.31,455.1,195.184,362.94,11.54,53.94,9.99,125.76,25.32,46.8,447.93,109.48,272.94,19.44,31.92,22.38,16.52,5.176,50.112,27.93,11.56,172.5,179.97,258.696,1322.93,3.76,21.744,7.92,12.096,485.88,25.92,197.58,81.92,889.536,892.224,223.92,23.12,15.552,15.712,24.672,55.968,431.928,95.984,1088.792,544.008,1.872,854.352,593.568,338.04,271.96,11.21,9.144,14.07,41.86,8.544,579.136,141.372,3.036,4.503,4.672,95.88,17.024,258.696,1931.958,249.75,255.936,113.79,78.15,1.728,40.56,182.94,193.86,15.28,8.73,5.68,2.78,79.96,839.988,47.952,37.425,63.968,165.048,12.35,40.97,22.96,22.0,398.352,8.72,48.69,764.688,3610.848,254.9745,38.82,1141.938,1704.56,3.2,1099.96,5.248,35.91,6.696,43.872,27.882,540.048,255.68,863.88,17.616,17.472,69.9,41.85,6.57,142.86,292.272,29.328,12.48,102.336,48.792,44.848,10.368,388.43,14.352,63.992,86.352,32.97,83.88,278.4,15.12,17.43,251.64,2.772,14.9,15.48,39.88,12.192,20.82,13.216,32.4,32.94,114.2,3.08,845.728,13.904,20.72,114.95,26.96,572.76,286.38,61.96,23.99,287.97,419.944,46.76,17.712,21.78,161.94,161.568,3.69,122.12,155.372,38.88,183.84,579.3,14.2,575.92,5.184,5.229,285.552,72.8,10.816,46.26,17.46,51.072,11.34,87.92,37.05,2.97,27.44,1.08,7.96,140.736,552.56,25.11,29.78,677.58,75.04,695.7,15.66,28.854,47.82,13.05,93.78,47.18,19.68,53.4,35.88,258.279,31.4,183.96,17.61,300.904,220.776,281.424,79.14,1.988,145.568,123.256,23.68,309.576,38.388,95.994,239.952,201.584,899.136,145.9,590.058,14.04,49.08,29.6,17.088,912.75,1089.75,447.84,16.4,399.96,158.9,13.184,83.952,80.98,348.84,9.45,18.84,239.98,167.96,104.85,484.83,122.97,154.44,342.37,9.552,652.45,66.645,17.216,11.56,88.4,6.48,21.8,251.79,205.176,419.4,10.304,154.764,116.784,75.48,39.98,393.165,23.68,408.006,165.28,334.768,239.97,37.74,946.344,151.2,4.928,86.272,72.588,60.672,77.031,119.904,263.96,363.648,9.728,14.75,29.8,427.42,220.752,152.76,7.27,1819.86,33.9,31.104,5.248,263.88,2453.43,29.7,39.96,36.672,13.76,139.424,1979.928,164.736,470.302,47.984,2.502,88.752,2.025,70.98,91.68,33.75,3040.0,91.2,452.94,52.2,15.936,27.46,55.424,244.006,159.984,1024.716,3.68,121.376,95.976,255.968,872.94,41.54,12.96,6.848,8.67,6.688,17.28,17.712,28.91,52.136,31.968,25.92,40.46,33.87,9.728,3.424,177.0,3.76,1212.848,89.97,42.6,5.04,62.96,5.88,977.292,9.64,40.05,10.192,16.784,13.12,18.16,16.056,223.056,540.048,33.52,9.94,6.72,1004.976,17.88,396.0,34.5,8.36,385.6,35.82,200.064,21.38,6.744,63.686,1669.6,83.84,13.272,21.336,16.52,206.112,19.92,198.272,247.104,86.304,4.16,11.648,26.18,7.3,74.352,10.744,8.376,212.88,203.983,40.74,11.67,39.99,16.28,782.94,242.48,8.32,10.464,82.896,34.24,1573.488,335.52,23.912,27.056,559.992,9.324,111.96,21.56,124.75,5.28,91.96,9.344,79.36,171.96,35.352,18.9,2.78,1044.63,11.352,354.9,453.576,21.48,8.784,122.97,12.84,603.92,21.84,29.99,381.44,40.68,763.28,23.952,4.98,170.88,307.98,382.806,41.96,1217.568,47.04,6.16,979.95,143.7,10.65,247.8,10.96,33.488,8.04,201.568,13.44,359.058,47.992,547.3,16.896,6.672,99.136,15.992,211.96,6.672,155.94,39.96,5.46,73.2,5.84,22.72,9.336,290.666,201.584,83.984,1000.02,83.976,3.75,41.4,29.79,59.48,6.69,198.46,786.48,23.168,50.0,675.96,1265.85,523.25,517.5,17.92,41.256,1006.056,10.688,10.368,25.12,58.112,15.552,669.08,438.336,19.44,9.64,12.7,41.37,12.624,1247.64,3149.93,209.7,35.36,3.168,121.104,45.894,109.92,13.36,169.68,132.52,2.96,8.448,95.94,34.79,160.776,88.752,13.904,677.58,13.896,41.92,297.576,4.344,94.992,74.352,14.04,1018.104,16.68,58.58,167.968,196.62,21.936,6.588,104.28,17.94,64.784,32.382,42.368,399.54,18.97,14.82,99.28,1.188,7.518,10.368,310.88,853.092,33.45,10.4,21.88,13.616,63.96,14.46,104.98,106.96,21.56,515.88,11.808,1931.04,9.96,12.35,9.702,11.61,43.86,148.48,7.42,71.992,19.9,1702.12,14.304,765.625,307.666,7.712,242.9,454.9,35.92,39.76,47.744,159.984,255.968,359.058,434.352,3.552,88.832,1048.35,100.0,7.83,96.256,10.688,338.04,154.24,34.848,22.0,4.368,31.44,17.9,129.45,20.88,20.736,7.168,11.168,442.4,13.36,11.232,10.272,10.368,6.24,206.962,9.46,559.62,109.92,8.56,360.712,1718.4,41.568,46.864,19.536,411.332,28.752,293.199,35.06,4.13,109.8,9.82,7.644,51.465,6.976,12.222,97.984,62.4,20.86,497.61,5.34,3.15,368.91,14.7,59.97,83.36,6.58,122.94,219.84,98.16,33.04,86.97,134.97,699.98,139.95,48.94,2807.84,46.64,60.416,107.94,63.84,347.97,37.008,215.65,11.168,53.952,4.18,5.607,4663.736,79.984,2575.944,45.36,254.24,69.93,16.156,54.816,1441.3,77.6,4.656,170.136,7.38,9.26,9.96,75.6,29.32,92.064,6.976,62.958,5.184,31.32,11.84,22.784,1127.976,38.88,779.796,1439.92,262.11,207.0,1439.982,36.288,21.4,1245.86,17.544,44.128,62.92,78.304,140.81,40.096,40.784,90.57,40.08,37.68,362.352,7.184,34.76,831.2,26.4,106.75,97.82,141.4,14.52,127.92,34.24,137.62,100.49,257.568,119.96,49.632,727.45,24.96,370.782,196.45,31.104,78.256,6.48,99.2,801.568,272.848,70.98,16.224,176.784,470.376,393.568,302.376,68.742,29.34,383.607,563.4,217.056,6.0,31.56,7.104,398.352,121.792,409.59,10.56,3.38,7.824,24.784,34.65,487.984,1793.98,29.808,505.176,174.0585,191.88,14.78,5.184,478.48,28.4,909.12,2.952,27.018,136.92,18.96,99.39,273.896,597.132,149.95,4.608,15.528,11.952,11.65,299.9,895.92,462.564,15.008,863.64,47.616,92.94,199.98,177.48,88.768,6.48,46.51,659.976,271.992,145.74,15.4,244.55,166.16,14.73,19.968,33.488,8.736,662.88,47.36,27.44,3.24,95.968,10.368,23.1,11.54,254.526,12.98,26.432,197.97,18.9,1282.41,4.92,238.0,167.97,17.12,16.2,33.99,296.85,112.8,13.71,24.9,286.29,24.18,281.97,69.5,166.44,291.96,6.408,408.744,5.104,2.896,35.016,275.97,1394.95,545.88,5.248,933.536,42.976,3.76,479.96,320.88,23.88,26.76,1439.976,17.22,1024.38,26.22,17.34,4.956,71.04,5.344,11.304,294.62,8.752,15.0,161.61,144.95,199.95,41.86,95.94,304.45,11.364,29.68,47.53,183.372,4.224,333.056,24.896,159.984,46.344,350.98,13.08,900.08,17.568,14.62,33.36,40.14,1606.23,17.04,49.53,872.32,239.12,141.96,33.024,67.136,14.73,104.9,61.04,10.95,9.392,9.328,8.26,269.97,29.04,14.62,11.952,4.536,9.156,75.36,57.504,38.864,15.552,162.64,597.0,55.48,289.8,2.502,6.48,341.488,11.12,25.344,17.31,199.95,1586.69,84.99,411.8,11.34,80.3,15.968,64.74,19.296,405.64,146.352,251.91,12.39,199.96,710.832,1.941,283.92,7.312,59.97,761.544,58.2,39.9,90.86,94.85,106.232,111.984,7.712,37.44,23.68,122.12,18.45,324.9,146.73,3.96,5.76,26.55,310.443,479.9,12.88,13.12,511.84,91.96,8.34,37.68,279.944,636.408,83.168,259.136,221.92,26.0,15.552,0.876,19.98,398.352,5.04,17.45,323.136,29.7,1295.84,46.84,425.833,209.67,159.88,5.28,895.92,2.808,215.976,241.96,27.72,104.68,62.958,86.376,64.944,20.736,33.28,38.52,139.86,19.65,152.991,10.584,94.92,14.76,3.656,146.82,149.544,17.14,991.764,30.48,23.988,16.688,422.058,38.088,254.352,43.31,84.95,233.058,111.79,14.94,14.16,22.608,21.48,501.81,161.94,17.856,8.808,79.384,34.58,314.55,191.976,8.288,139.92,15.872,6.286,14.016,71.976,107.982,305.312,19.752,9.264,61.792,45.68,60.12,41.72,71.6,85.232,44.4,442.764,3999.95,199.95,63.68,54.896,29.0,70.08,121.3,1454.49,60.81,153.552,65.34,123.92,35.1,44.75,4.704,14.67,15.552,5.232,22.2,881.93,6.096,191.82,20.104,67.56,29.932,38.272,16.52,832.93,43.8,167.292,27.42,1.44,61.776,241.96,108.608,2.816,9.984,14.98,1145.6,485.94,37.376,70.686,54.816,72.294,2.896,124.792,330.588,673.568,52.98,526.45,228.92,319.968,205.03,190.86,24.32,44.4,44.4,1016.792,38.136,494.982,56.56,5.56,9.02,8.62,659.976,13.36,41.72,11.52,541.44,19.44,143.7,43.26,43.56,437.85,109.48,1212.96,18.54,5.0,371.97,166.24,359.97,499.98,5.28,8.26,7.968,12.96,6.48,6.984,47.96,199.74,435.26,1119.984,143.432,122.352,306.2,85.98,223.96,97.568,614.272,199.98,48.16,23.92,60.69,14.352,35.04,17.48,16.4,892.98,287.97,595.38,12.96,4.95,181.95,13.52,259.7,42.95,1399.93,503.96,12.72,11.52,316.0,723.92,106.32,141.372,27.216,390.75,280.792,68.448,88.04,15.872,215.592,14.62,416.32,43.0,182.94,60.83,389.97,194.32,265.93,94.74,60.64,76.3,364.8,79.872,46.384,12.96,14.352,547.136,41.96,41.7,277.4,5.78,69.216,10.86,426.79,25.92,45.92,10.72,41.86,63.2,113.97,123.552,490.32,70.08,1.272,557.585,9.024,69.456,10.86,79.47,10.08,1552.831,137.24,36.51,239.976,1579.746,1071.576,613.908,34.86,155.04,13.71,127.88,160.32,46.0,120.712,23.12,532.704,4.912,252.0,60.288,2.632,23.688,253.372,5.67,76.776,9.184,32.75,7.216,49.568,54.712,176.04,16.02,185.92,211.168,479.984,7.86,24.448,6.48,41.86,1619.91,113.92,39.68,37.6,59.9,37.0,5.76,16.68,628.81,56.45,94.2,28.4,956.6648,1115.91,128.744,79.92,24.2,359.976,211.84,5.68,7.52,11.96,629.064,754.45,301.96,595.0,79.872,2396.4,63.56,99.99,230.376,9.664,158.928,13.023,273.06,39.312,1.344,8.272,12.544,58.48,7.4,366.786,54.368,33.96,826.11,545.85,145.98,35.808,7.904,345.0,174.286,662.84,95.1,26.88,257.98,17.48,492.835,269.49,29.12,18.75,119.7,9.144,57.06,71.6,107.44,7.31,59.1,46.53,97.84,29.97,98.352,83.92,14.624,136.99,3.15,9.11,571.44,32.4,16.91,14.272,451.136,64.864,217.584,82.95,87.71,1101.48,1322.352,5.46,11.184,153.584,1003.62,35.168,1137.75,99.68,5.56,85.52,9.84,20.04,631.96,23.92,90.24,4548.81,300.93,719.96,647.84,64.17,124.46,9.584,37.608,12.224,2.304,9.36,7.38,53.72,8187.65,77.92,32.784,196.776,479.94,1117.92,106.5,45.66,95.968,47.992,264.32,604.656,129.93,20.16,29.46,868.59,12.96,5.5,121.6,42.048,25.488,6.9,9.648,7.968,10.368,114.2,17.96,12.67,339.96,1801.632,46.32,181.986,431.976,155.37,1348.704,700.152,111.888,143.952,173.94,14.76,205.92,102.833,2.304,1879.96,313.024,5.04,821.88,21.96,25.92,705.544,50.0,51.712,6.992,1406.86,15.75,323.1,9.216,10.368,15.02,33.82,71.0,25.12,2665.62,478.08,164.388,13.248,2.912,1399.944,526.45,16.23,319.9,11.36,675.12,62.82,489.92,19.44,16.68,155.35,12.42,187.98,6.608,248.57,22.23,5.98,246.168,14.136,601.47,79.1,327.84,180.96,914.97,587.97,530.34,14.94,121.94,122.71,14.94,1349.85,136.784,61.12,1.167,16.99,24.672,2.52,1218.735,5.904,15.696,6.096,41.568,230.28,18.288,5.78,121.68,4.17,67.04,37.32,18.45,25.92,11199.968,2399.6,63.9,52.99,60.864,652.995,11.22,14.94,39.96,42.624,220.96,4.928,7.23,323.1,19.04,13.128,64.14,858.24,29.99,186.048,36.792,18.624,57.69,42.81,12.96,821.88,104.85,424.9575,10.776,11.784,164.88,1292.94,25.584,261.74,14.4,10.86,883.84,1979.89,79.96,8.76,3.984,370.62,2.742,79.512,28.352,40.784,105.96,166.44,785.88,26.2,1325.85,166.44,8.76,43.584,11.088,25.164,14.4,619.95,89.52,350.973,164.99,312.552,95.952,3.204,3.98,15.7,5.248,5.346,15.48,108.576,109.9,15.384,30.352,821.3,22638.48,21.376,8.016,30.768,18.936,122.352,116.28,132.6,16.68,19.44,192.16,227.36,1919.976,12.828,45.888,60.12,302.376,13.9,129.98,71.98,377.97,124.36,23.976,8.376,58.24,81.2,14.45,95.648,359.97,350.352,1.641,629.958,6.63,799.96,107.53,73.98,5.58,49.12,377.97,42.28,299.97,89.98,477.24,25.98,46.72,35.34,257.64,125.976,79.992,700.056,27.168,8.226,585.552,423.28,225.296,5.56,323.37,783.96,1447.65,11.96,239.97,76.92,481.32,48.4,0.99,101.84,10.332,31.155,8.928,34.384,1924.16,32.192,50.12,47.976,54.5,19.104,49.44,10.368,154.44,60.984,195.466,23.68,2.376,59.2,22.0,257.98,23.988,23.976,601.536,7.9,58.36,16.464,39.96,25.96,36.27,6.48,1075.088,438.368,18.088,308.499,13.36,39.96,145.85,783.96,7.88,41.37,12.84,25.68,47.516,9.42,12.96,704.9,561.568,179.82,185.58,214.11,999.96,653.55,114.6,60.74,124.36,1088.76,6.72,298.776,302.376,8.928,47.584,33.792,300.5328,2.724,3.264,108.336,55.92,78.304,443.92,155.976,15.47,7.16,10.89,19.44,121.6,695.7,120.33,1139.92,229.544,143.728,36.048,845.488,50.94,762.594,56.28,2690.97,7.434,64.784,28.16,14.98,20.32,40.29,20.23,1603.136,225.296,67.8,377.97,1628.82,286.93,20.736,31.44,83.79,59.52,31.92,14.72,38.976,17.088,74.352,314.352,4.26,811.28,6.03,153.568,1013.488,52.34,4.66,254.97,25.44,27.93,8.85,6.96,17.456,307.92,6.63,12.96,32.4,23.85,51.96,17.94,11.56,26.4,69.08,35.88,49.65,959.968,408.422,479.984,12.6,184.66,23.12,37.464,539.658,310.12,8.56,52.4,14.94,11.22,387.136,41.4,35.0,39.552,135.72,12.56,263.96,5.952,15.8,14.368,70.448,129.3,3.882,6.08,19.9,70.71,18.84,8.64,1633.188,19.76,6.608,7.28,144.784,156.792,431.976,35.89,47.208,248.08,189.7,59.808,90.99,1526.56,368.97,305.01,18.7,38.29,26.25,64.96,43.7,41.6,23.12,113.888,113.568,7.92,671.984,39.99,191.646,2.313,19.936,45.92,20.34,39.28,81.568,97.184,24.32,18.96,32.952,30.016,499.584,31.104,13.272,28.272,259.136,10.8,244.006,15.936,188.552,22.58,545.94,20.736,43.296,123.136,11.264,53.424,275.49,24.96,19.36,1267.65,12.99,18.56,449.15,31.248,61.44,895.92,55.36,55.92,24.896,3.984,95.968,206.991,44.416,9.006,19.0,33.376,207.48,91.68,904.9,34.272,191.82,243.88,12.03,2549.985,21.594,8.964,20.736,344.22,727.296,22.608,666.4,5.04,92.94,66.69,91.68,327.7328,52.272,17.94,254.352,8.288,504.9,403.168,194.32,25.99,195.136,20.736,53.7,36.26,56.3,32.4,29.16,171.288,16.72,12.96,22.18,2054.272,1022.97,13.9,26.38,43.176,411.8,360.0,41.96,227.84,37.94,517.9,5.28,2799.96,8.96,31.5,30.56,24.368,119.976,26.88,83.97,104.97,90.8,140.736,214.95,45.36,288.24,663.936,2934.33,124.41,57.75,114.46,120.666,342.864,16.74,981.372,31.84,12.96,43.176,58.34,539.97,3.928,252.784,127.984,3.984,12.992,61.0,671.93,447.86,479.95,166.44,31.68,10.368,12.032,5.768,33.12,220.2656,10.776,242.352,695.16,220.98,12.957,25.68,15.712,298.464,21.93,242.94,7.64,51.84,265.17,837.6,135.9,34.68,532.704,43.1,15.88,1123.92,249.584,48.672,60.768,78.6,3.768,1036.624,563.808,258.528,49.12,44.46,241.568,395.0,627.168,13.28,12.672,30.56,77.952,67.992,12.224,44.784,22.848,206.43,210.392,119.96,10.608,347.802,963.136,88.776,32.4,32.4,31.05,2025.36,1799.994,101.988,262.864,735.98,93.024,284.364,26.0,67.64,119.976,5.18,15.56,78.35,59.52,38.52,239.984,19.35,67.0,390.272,62.192,23.88,3.168,528.43,13.392,181.86,180.588,47.984,18.76,20.94,58.68,254.9,9.64,826.62,1633.14,544.38,26.046,74.352,69.93,3.75,20.928,12.672,65.99,6.37,3.648,31.104,23.34,29.97,3.366,95.968,18.704,149.232,15.936,601.536,10.99,39.88,62.24,53.2,39.84,349.95,377.928,13.392,11.228,207.24,1.504,34.848,75.18,149.97,931.176,430.88,94.85,51.12,90.0,9.408,4.672,318.4,12.768,15.36,230.376,7.16,375.34,114.9,26.046,2.896,32.544,3.984,181.797,44.94,45.576,318.43,122.92,7.068,56.45,13.468,219.8,317.058,49.08,324.9,18.24,113.888,105.584,24.85,60.312,7.056,27.184,107.984,19.296,4.608,79.974,2.946,3.136,20.736,99.98,733.95,241.44,10.08,281.904,201.432,135.98,44.95,2.97,6.54,7.92,203.92,3359.952,18.24,27.78,22.96,28.99,12.96,22.96,4164.05,47.984,4.624,15.24,63.924,6.56,13.11,494.376,29.2,248.85,36.24,11.68,11.91,3.48,30.96,1704.89,19.194,121.792,1919.976,50.997,76.792,539.964,60.312,1.944,12.984,217.584,328.776,2.286,47.984,25.344,232.4,86.45,603.92,81.98,271.764,14.376,341.96,181.35,8.64,43.512,662.88,25.92,68.94,128.82,896.99,1.234,67.56,21.72,262.336,148.48,241.176,227.976,52.68,2.032,17.12,431.968,129.92,568.728,117.144,203.52,51.75,122.97,244.615,59.97,81.54,11.68,29.0,50.8,16.03,15.712,89.97,435.999,83.984,359.98,70.56,20.88,3.81,73.008,3.208,26.176,30.44,35.28,19.44,37.88,9.552,290.666,10.368,14.352,141.96,66.048,1287.45,25.824,160.96,28.44,364.41,39.96,361.764,111.672,13.776,10.272,24.048,2.896,17.94,384.174,1799.75,580.672,18.936,222.384,50.454,154.764,6.848,1091.168,219.168,6.928,40.032,443.92,169.99,25.92,36.99,629.1,193.95,5.46,22.288,65.424,77.88,281.372,281.372,7.488,22.336,10.368,65.79,271.984,11.76,77.52,48.64,1.81,8.26,43.56,5.84,271.764,262.24,182.72,131.6,22.72,558.4,15.24,1408.1,32.896,215.148,30.96,29.79,128.9,60.12,24.816,14.976,15.08,24.288,16.192,251.006,54.192,4.304,108.92,16.74,2504.74,84.784,29.9,70.88,3.76,27.264,56.65,14.97,4.02,471.92,58.72,5.16,16.496,71.976,22.512,3.444,538.194,47.984,492.768,286.79,5.08,47.992,61.96,361.96,278.82,133.38,47.952,16.74,10.848,18.544,180.98,99.98,34.95,152.0,92.52,8.56,45.36,1421.664,8.96,579.95,29.12,1202.94,7.92,36.192,147.184,408.422,382.116,68.6,435.504,11.168,72.0,655.9,603.92,513.024,487.92,15.24,209.97,62.94,25.92,10.368,95.736,900.08,201.584,3.392,193.0656,15.552,11.648,418.8,509.488,825.174,17.76,6.912,66.3,30.816,44.784,569.536,796.425,12.832,40.46,404.94,116.0,657.552,599.97,38.97,45.84,38.24,87.168,21.4,54.9,287.968,13.12,10.75,11.62,40.74,83.25,9.45,20.65,45.36,5.352,99.372,2.672,28.672,29.312,105.98,35.06,33.94,30.0,45.528,844.116,812.736,7.476,330.4,604.752,45.36,10.128,21.792,439.8,8.256,25.56,4.368,11.52,12.96,3.96,1577.94,15.008,59.98,2395.2,1687.8,7.992,5.184,11.68,104.8,14.496,4.784,4.73,7.89,65.5,2430.08,104.85,3.9,801.96,191.96,2.61,5.96,1169.694,1665.62,2.88,1443.96,2.92,465.18,22.428,37.52,2.624,15.552,64.704,17.472,135.516,431.928,12.448,657.93,277.4,25.16,91.92,29.34,139.44,6.912,27.096,177.568,58.416,16.448,36.784,718.116,31.776,9.555,487.984,5.56,217.85,40.776,63.936,142.4,7.16,681.408,3.52,5.58,36.32,2060.744,52.272,213.136,69.52,763.44,9.216,41.958,89.568,22.248,334.88,148.288,4.624,178.92,69.888,487.984,47.3,4.13,155.12,6.48,15.52,2.946,55.104,104.88,34.7,33.72,14.94,638.73,113.568,9.096,8.688,30.88,6.408,33.8,377.97,258.9,24.56,27.888,6.456,52.68,13.88,103.92,11.52,10.368,39.072,8.872,121.104,127.372,47.952,44.46,15.8,464.97,181.96,12.39,84.09,79.36,153.36,43.68,98.21,9.84,2.694,25.344,43.92,59.994,439.992,87.96,15.488,232.96,66.54,43.26,141.96,79.4,163.96,37.93,15.168,24.78,19.14,899.97,32.4,23.832,6.368,34.176,5.544,510.24,204.95,11.54,162.6,45.68,603.92,23.55,5.04,249.95,33.4,18.92,15.42,35.712,551.985,7.056,18.72,360.38,11.16,14.94,41.96,636.86,499.99,1259.93,65.08,26.38,71.97,129.98,32.54,10.9,59.98,61.929,16.52,60.12,49.536,11.85,118.25,368.97,198.46,321.92,879.984,28.4,230.28,116.28,841.568,354.9,42.784,563.43,111.104,11.68,16.9,24.4,87.6,241.96,8.52,1.788,99.372,1.344,119.96,1013.832,1.984,2003.52,82.368,62.91,6.912,383.976,10.368,335.944,665.88,71.976,37.94,273.96,269.982,8.904,720.064,41.424,3.132,1085.42,3.912,62.376,29.05,180.96,4.419,16.032,29.79,57.23,333.0,36.44,251.64,523.764,1359.96,102.592,22.704,93.024,12.768,35.008,39.152,11.76,5.238,4.662,523.92,100.792,146.136,25.06,19.824,823.96,15.984,801.96,59.97,1056.86,12.816,314.352,18.98,18.24,991.2,879.984,12.96,107.44,1458.65,26.64,476.8,87.444,76.14,19.96,1049.97,611.058,2.368,19.008,911.984,674.352,134.01,170.97,170.352,7.184,6.28,480.74,616.998,141.4,501.81,691.96,34.95,85.96,85.3,33.568,4.95,26.4,3.564,823.96,10.272,447.944,480.96,124.792,40.176,10.896,10.64,151.96,238.0,155.34,148.32,240.784,191.968,11.56,11.8,842.352,23.472,86.058,108.784,10.272,38.19,49.632,52.096,9.568,82.368,364.704,40.256,4.368,12.128,134.85,8.56,239.97,356.94,659.9,1684.752,559.92,279.944,9.98,48.9,3.552,15.552,2.368,127.984,10.368,47.984,270.34,98.112,563.808,10.428,547.136,14.85,41.988,7.584,352.45,470.376,19.44,9.82,801.6,161.568,16.096,7.656,311.976,61.68,63.96,359.976,25.344,26.72,30.28,57.93,35.34,137.24,241.332,5.184,145.544,5.472,47.984,9.4,74.0,201.584,28.752,27.216,197.372,1424.9,14.56,3.048,25.92,835.17,17.34,44.384,2.944,6.368,48.848,19.648,255.108,17.248,159.984,12.7,5.47,79.36,22.14,11.277,4.448,44.76,38.28,149.95,12.84,44.67,7.872,7.872,88.04,40.635,5.728,42.24,53.82,79.36,13.48,29.8,414.0,41.328,39.92,8.94,84.784,53.316,56.52,22.77,287.968,2799.96,48.94,257.499,2591.56,41.95,79.12,52.96,286.344,63.552,41.376,172.704,512.94,860.93,769.95,14.98,373.08,231.92,63.47,345.0,637.896,287.91,36.6,1.78,25.92,101.94,6.848,474.43,8.448,39.296,17.12,542.94,8.64,193.8,21.4,97.88,251.91,25.86,170.058,82.782,853.93,556.665,95.84,29.664,9.184,153.584,12.864,479.97,232.88,236.88,29.9,100.0,18.693,383.952,24.816,24.9,21.12,767.952,14.352,191.976,274.77,70.56,204.85,9.156,23.992,80.88,599.9,276.69,172.764,4.224,409.272,55.44,20.928,1801.632,67.176,646.2,72.744,572.16,68.112,25.032,39.992,20.016,3.104,7.52,10.272,47.808,978.84,13.14,10.024,156.3728,999.98,821.94,220.064,339.136,7.04,5.04,116.28,47.976,60.048,5.022,182.994,10.272,7.857,302.384,20.952,11.784,638.82,20.7,10.95,14.352,221.024,3080.0,79.96,587.97,32.4,404.9,9449.95,12.94,2.264,0.444,146.176,15.92,159.96,13.76,4.312,13.96,27.414,73.98,160.98,17.34,3.28,8.856,158.376,1219.96,3.168,19.44,454.86,91.392,19.04,37.44,37.59,26.032,35.91,91.032,54.66,67.344,2624.985,73.28,14.48,11.952,15.552,45.0,209.97,112.12,1575.14,25.06,6.924,37.392,79.12,18.9,57.42,12.74,8.82,120.784,322.59,9.762,13.72,55.2,259.136,29.24,15.552,4.896,38.088,2.808,47.984,26.064,15.696,12.84,539.97,22.58,16.52,671.94,169.064,168.624,19.44,31.92,433.568,31.104,54.816,48.86,14.2,12.96,58.34,56.3,629.95,122.97,46.35,14.976,4.24,319.96,17.04,344.91,81.94,98.16,6.874,1.996,8.928,9.99,10499.97,21.12,696.42,304.776,51.98,24.7,21.93,394.816,18.192,7.31,799.984,41.28,184.66,49.25,10.16,14.76,34.08,17.67,1604.9,385.686,15.984,9.42,6.56,24.56,128.4,62.28,9.24,482.664,4799.984,37.94,18.288,385.8,102.96,174.42,1.964,94.428,45.92,61.584,22.48,332.028,11.394,15.552,31.104,6.316,11.352,20.808,11.416,9.408,19.83,209.7,43.92,20.232,149.97,27.81,66.3,1.64,1049.2,20.9,88.08,751.92,887.103,55.944,10.688,11.824,63.312,96.784,10.476,9.762,196.784,47.98,13.05,63.96,80.48,11.673,863.128,3.564,956.6648,12.588,171.96,871.4,692.472,207.76,71.928,25.99,3.592,48.632,323.1,9099.93,9.96,25.3,11.36,69.264,3.69,1103.97,246.1328,11.696,439.992,64.784,33.28,14.088,11.16,896.328,189.0,53.982,177.225,129.39,54.32,4367.896,49.568,161.376,2.784,8.72,3.912,59.752,63.92,383.96,7.752,33.568,666.344,573.728,21.936,19.44,447.968,16.78,20.96,88.752,304.23,167.86,82.38,23.976,33.29,14.952,323.982,2.286,14.352,71.976,9.21,18.0,42.93,15.552,17.92,19.99,22.92,50.88,27.312,7.92,14.368,107.97,113.82,5.184,16.28,544.38,19.824,657.504,99.54,199.96,631.782,60.72,20.724,415.872,16.768,27.12,95.84,12.96,19.008,1598.058,36.96,10.368,77.72,520.464,111.96,29.16,131.94,25.92,704.76,7.41,21.5,10.528,20.544,104.9,39.68,51.75,11.68,159.75,103.968,303.25,270.72,1487.04,17.48,71.88,60.45,253.176,2.88,384.944,153.584,913.43,43.92,25.032,46.76,183.968,1259.97,68.97,70.368,59.96,25.984,27.36,361.376,172.186,69.008,199.9,901.95,971.5,11.328,21.24,34.8,38.976,9.08,314.55,4.91,5.78,107.94,19.65,617.97,59.7,387.99,575.92,30.4,478.24,190.848,5.484,40.92,15.552,17.24,302.94,34.75,113.94,55.98,27.18,1805.88,70.95,20.0,7.98,24.1,8.75,842.94,2.182,27.384,26.406,10.368,23.68,109.95,965.85,29.2,32.4,78.35,31.68,29.12,169.45,12.56,6.48,186.69,25.4,43.96,1279.165,27.92,129.568,6.368,244.55,1332.496,32.776,147.184,54.384,76.776,14.352,209.792,3.304,16.38,167.96,321.568,12.96,128.058,63.686,239.976,344.22,15.552,21.248,8.448,333.09,248.98,24.9,15.26,43.32,43.584,116.28,9.296,19.44,314.55,16.27,69.12,4.47,418.296,659.988,8.128,36.288,909.72,917.9235,38.88,631.176,12.96,12.96,23.2,25.92,21.312,173.656,361.96,62.85,818.376,20.34,23.99,171.288,37.3,81.96,54.792,10.784,290.98,36.44,21.4,48.664,16.56,1347.52,62.31,20.32,9.432,34.86,89.34,269.98,99.9,39.08,116.832,2.296,408.006,40.44,122.352,15.28,11.96,15.84,86.376,18.24,13.12,105.98,493.92,5.936,325.86,383.607,148.48,537.544,1.928,6.912,7.76,659.168,5.76,351.216,230.28,12.84,56.82,31.56,27.92,8.559,49.568,127.869,271.44,110.352,36.4,419.136,100.704,45.216,28.782,24.448,10.476,76.14,21.24,127.96,479.984,657.93,33.48,13.9,26.86,9.584,113.1,65.78,239.7,25.632,23.616,8.26,76.58,8.8,590.352,5.58,25.02,452.55,17.76,302.384,146.352,7.9,902.712,53.97,33.92,21.81,91.6,150.98,137.25,11.52,18.272,153.728,12.224,167.944,45.99,535.41,6.096,45.36,47.12,31.36,47.616,23.48,62.79,28.44,134.376,589.9,542.94,2879.952,90.48,77.55,8.832,177.536,258.48,14.136,77.55,24.88,140.75,36.63,17.14,51.75,123.96,586.398,80.98,242.94,123.92,12.39,47.3,1599.92,11.09,3.168,579.136,6.368,558.4,145.764,13.62,434.646,440.19,64.4,244.55,195.76,11.76,166.45,2.88,45.248,59.904,23.696,7.968,18.2,27.552,844.116,76.752,3.0,7.506,16.56,79.92,69.98,11.06,623.4648,772.68,283.14,635.96,118.99,272.94,15.008,33.088,80.98,82.8,21.36,62.048,29.61,863.928,241.92,163.88,3.486,10.584,440.91,5.715,51.968,71.976,242.352,221.92,8.448,29.52,302.94,142.36,546.66,212.13,5.248,74.416,6.848,7.996,8.712,65.17,14.62,173.24,895.92,130.71,11.68,62.31,0.852,36.288,56.568,344.704,201.584,521.96,8.22,45.36,947.17,61.96,268.935,7.58,14.73,9.888,671.544,1117.92,275.952,123.144,15.576,212.64,9.87,53.25,19.92,658.746,8.26,29.84,67.98,61.06,35.544,9.96,9.21,27.93,7.9,221.16,127.96,18.69,25.35,35.28,33.4,837.6,40.68,209.568,22.368,3.882,115.296,1.908,43.372,783.96,48.896,7.856,5.904,13.712,182.94,27.76,25.99,113.52,359.88,25.344,11.952,6.24,742.336,6.464,11.52,222.384,23.36,8.67,25.71,100.94,63.882,683.144,1.476,40.712,279.9,13.12,69.576,4.224,58.08,52.416,54.92,364.95,85.056,27.696,24.96,43.13,5.64,57.582,31.104,30.192,43.6,4.768,10.38,13.392,39.594,91.008,37.94,42.8,33.63,62.808,195.64,239.9,380.058,1199.976,48.576,17.94,18.264,34.656,81.552,227.136,10.36,463.248,383.952,44.856,30.345,127.554,77.952,14.016,69.52,5.64,13.776,245.88,36.63,22.58,12.39,39.92,61.96,19.936,3.798,27.744,158.376,27.58,5.553,243.92,14.96,7.184,10.512,263.96,71.632,9.328,5.88,975.92,303.84,485.88,12.54,8.94,9.24,70.008,77.6,464.85,10.192,1793.98,758.352,20.368,49.848,239.97,2404.704,563.024,344.91,8.64,89.988,229.544,1.824,18.32,48.816,1.188,119.8,61.568,6.192,2.214,5.32,975.92,2249.91,59.92,171.2,3.36,114.2,182.67,101.7,1126.02,1263.3,8.82,37.94,4.2,227.28,47.9,61.96,1117.92,183.372,7.968,26.352,481.32,13.98,25.92,91.59,674.058,22.92,269.9,11.808,9.588,18.336,36.288,111.984,5.97,2.508,35.96,14.952,67.144,254.058,173.94,231.98,2.296,96.08,3.62,629.1,90.48,14.88,91.275,19.44,897.15,57.75,14.94,23.1,12.536,1.08,4.512,16.776,33.74,1325.85,333.999,19.9,1268.82,283.92,5.68,375.34,96.08,11.68,4.36,29.24,117.488,18.84,12.42,12.96,69.48,85.9,18.06,79.14,37.4,2.512,18.864,61.192,67.84,48.712,17.94,242.94,7.764,467.04,128.85,8.4,199.98,110.98,207.984,36.112,35.568,88.768,12.9,717.12,21.36,6.688,773.94,20.568,4.356,19.04,5.22,84.84,7.24,14.4,15.552,1325.76,3.108,6.672,689.408,1889.99,55.936,18.432,20.32,52.064,48.784,13.092,109.592,56.7,79.99,69.5,191.6,10.56,47.79,714.3,2321.9,17.94,9.522,791.964,4.923,209.979,33.93,222.32,210.564,35.168,1502.376,10.11,772.47,20.46,347.58,72.64,772.47,39.92,33.48,461.97,137.62,302.67,239.976,8.34,8.57,119.616,212.94,26.49,687.4,653.55,33.9,239.96,199.836,716.0,221.06,67.71,129.92,467.46,61.4,720.76,5.184,14.7,8.134,79.984,18.54,24.4,195.64,398.4,7.056,1352.3976,26.4,41.88,99.846,699.98,584.82,43.98,377.97,123.96,391.98,383.976,1781.682,21.4,549.99,167.535,38.34,53.88,299.98,62.8,13.904,744.1,44.84,401.59,18.24,359.499,10.48,20.736,35.168,64.704,105.52,5.792,466.158,10.312,2.556,7.968,8.784,3.024,51.45,14.016,214.95,35.04,10.776,4.6,35.168,19.152,4.448,5.184,15.552,40.032,16.776,186.304,66.36,42.048,67.92,52.512,186.912,10.048,17.496,15.552,10.776,3.304,35.48,34.44,629.93,79.056,232.55,99.98,19.44,12.96,464.292,68.46,2799.96,601.3,16.99,287.97,44.82,101.12,107.976,58.73,93.344,17.05,8.096,30.36,23.34,51.55,119.9,1317.492,63.84,3.592,86.26,139.04,46.8,8.544,842.376,1214.85,67.78,39.9,2.688,6.6,28.4,212.94,1001.584,569.058,14.224,105.584,68.72,1367.84,301.96,170.352,3.9,12.84,15.84,563.94,62.94,535.41,3504.9,144.12,314.55,3.408,2.072,328.3992,53.248,4.992,37.68,258.576,75.84,45.36,45.78,40.29,38.71,1801.632,748.752,199.96,1516.2,167.952,45.04,23.16,397.6,85.96,13.12,45.66,158.13,43.6,3930.072,2.304,431.976,41.72,104.23,70.26,9.26,105.98,1.24,20.7,28.9,27.18,465.18,36.63,51.45,7.83,35.4,29.9,17.48,79.14,8.4,498.26,212.94,706.86,114.95,43.19,166.44,36.56,186.144,353.568,81.98,14.624,697.16,30.93,27.496,605.34,210.008,54.96,164.22,362.94,59.98,332.94,39.872,13.68,3.318,10.44,136.464,333.576,12.544,20.768,43.5,12.576,249.95,49.12,182.91,107.648,99.372,33.568,10.56,38.88,35.2,45.528,196.776,2.92,200.795,46.688,21.864,11.76,167.94,3.89,52.44,32.36,406.6,27.92,399.672,3.744,715.2,159.8,44.75,340.116,105.52,13.48,85.52,6.16,36.84,15.84,44.4,21.24,9.552,89.991,163.96,17.904,966.7,182.112,4.464,51.588,50.4,89.568,14.89,543.92,4.08,18.9,2275.5,1979.7,62.1,37.296,8.544,68.95,296.37,39.98,191.058,13.04,1525.188,9.216,28.048,64.96,30.56,187.056,11.808,9.656,20.736,27.36,2314.116,34.236,19.76,15.96,16.9,25.08,6.68,19.44,31.92,33.568,63.94,60.6,22.72,10.68,17.34,3.38,26.976,307.776,244.55,12.24,13.98,899.95,1.632,267.96,31.95,725.84,10.896,8.544,32.34,39.9,143.856,41.92,329.584,87.28,279.456,8.0,27.24,16.36,15.78,45.98,198.272,720.76,70.56,81.96,64.864,151.192,88.776,11.56,15.58,85.056,273.96,306.9,15.552,347.361,10.368,98.16,31.44,348.488,172.736,15.54,105.552,25.92,15.808,10.368,358.2,545.916,40.41,167.976,109.53,9.82,26.352,22.5,9.96,213.08,1025.88,21.98,63.2,39.0,2.907,556.665,71.98,79.98,24.672,3.744,445.96,36.24,10.65,87.92,22.424,90.48,42.76,10.08,101.34,224.75,73.176,20.736,39.984,15.36,36.288,150.384,280.782,31.984,11.232,26.4,3.52,1649.95,111.9,599.165,46.53,31.984,161.568,4.064,6.216,8.896,1640.7,270.0,19.52,9.81,213.216,588.784,2.064,6.368,99.6,62.296,10.71,20.936,33.0,249.95,357.93,57.4,331.96,40.56,86.2,38.016,8.384,6.848,19.6,68.46,13.344,1478.272,16.272,9.24,32.34,56.064,108.72,181.47,16.176,122.352,585.552,19.44,123.92,13.36,78.256,102.018,750.68,44.4,84.55,17.94,128.4,1.869,103.192,36.0,239.96,40.68,419.136,23.472,3.592,23.976,6.264,20.808,218.352,18.16,7.36,41.4,411.332,7.656,63.92,6.56,7.83,41.9,664.146,8.96,3.312,20.136,8.856,859.2,61.96,17.92,145.9,56.704,11.12,32.896,22.776,239.97,160.32,128.85,1319.96,239.96,54.768,13.392,23.92,255.968,21.552,58.24,80.28,9.78,1.81,37.94,79.96,115.296,2479.96,179.94,26.85,323.37,59.94,64.14,11.67,12.96,17.43,181.986,1.592,22.344,455.97,10.44,5.214,67.4,25.16,126.56,43.68,139.93,2.672,16.656,79.512,36.288,67.9932,10.16,6.16,56.3,6.48,1325.85,14.94,34.54,2999.95,64.12,19.456,209.986,29.76,89.768,959.984,15.552,34.36,98.376,29.94,17.472,36.738,179.94,383.64,56.52,6.56,243.92,47.52,19.98,8.0,6.16,83.56,546.06,269.49,10.9,6.096,34.05,352.38,245.98,18.94,59.913,391.98,437.85,68.62,25.02,10.71,55.984,14.48,142.488,14.16,79.92,590.352,17.088,98.392,11.05,7.78,659.9,53.04,843.9,1496.16,117.96,21.3,1040.8,29.34,19.52,443.92,499.95,3.04,201.96,68.64,100.0,359.98,6.16,2348.82,13.872,273.552,815.292,234.45,1256.22,17.46,10.528,152.8,82.56,284.97,60.84,1325.76,572.16,28.8,11.12,7.04,17.94,34.76,74.45,192.22,19.44,32.4,57.9,10.56,1194.165,40.99,2.94,45.24,18.688,11.648,112.776,377.45,15.936,28.68,21.44,511.056,18.656,11.088,66.688,99.488,14.62,53.984,389.97,355.36,140.376,15.84,8.448,12.96,57.408,27.6,38.976,20.44,109.92,6.38,6.48,15.84,1049.93,154.9,98.352,14.32,129.888,48.944,275.058,27.36,44.75,134.99,26.4,542.94,71.088,27.396,13.456,11.84,35.88,40.752,139.96,2.624,136.53,263.96,11.64,40.176,79.44,357.93,127.764,2799.944,19.44,36.792,5.94,177.55,619.95,29.16,57.96,29.403,81.4,8.72,91.176,159.968,12.96,331.536,899.91,946.344,178.11,1089.75,61.06,459.92,27.52,638.82,30.69,25.16,13.92,19.36,19.3,38.376,12.96,26.48,532.72,26.72,20.04,795.48,21.56,249.584,68.112,16.56,74.95,355.455,44.4,20.65,866.4,5.56,3.16,1999.96,46.152,32.985,481.32,6.384,542.94,54.92,1448.82,353.88,333.576,60.144,85.2,3.15,22.72,14.91,1158.12,599.99,23.968,638.288,13.208,15.528,104.85,30.48,112.648,71.976,2.21,15.52,36.44,217.764,39.072,22.638,95.144,12.32,4.419,35.0,72.784,97.84,51.75,46.672,1395.54,117.36,18.9,77.52,421.372,575.968,10.368,15.984,10.272,61.792,205.9992,12.192,87.168,31.744,132.224,105.52,91.96,1487.976,19.44,11.672,279.96,12.912,17.088,93.15,11.52,238.62,7.77,285.48,19.168,26.136,419.4,90.801,181.764,5.56,581.96,29.98,519.96,6.264,363.92,64.2,38.52,72.6,57.568,83.7,32.4,47.98,415.968,304.9,80.96,777.21,32.4,225.568,36.6,715.64,795.51,549.99,74.76,29.22,9.64,33.488,23.04,1.362,14.76,239.666,301.96,7.968,109.92,19.44,11.16,79.47,4.56,1133.35,4.672,104.58,1603.136,1293.488,127.95,59.76,108.08,9.54,11.736,447.86,17.94,245.88,192.16,801.568,368.91,885.528,28.28,4912.59,14.352,179.97,42.76,45.68,25.06,38.432,21.568,81.576,2.78,99.87,44.4,21.4,71.12,259.96,9.78,24.192,31.56,59.94,45.36,26.4,41.4,16.95,24.704,59.7,14.52,104.184,46.53,25.5,14.9,87.71,199.764,94.6,4228.704,2003.92,209.97,659.9,110.96,67.8,313.176,22.96,1099.5,1215.92,7.31,8.92,87.21,15.552,683.988,13.392,16.776,527.92,25.4,177.48,71.976,95.992,13.216,435.84,5.88,211.168,6.28,95.1,25.92,48.84,25.9,42.68,299.97,262.24,234.36,20.736,10.5,23.968,521.96,676.55,154.9,30.56,770.352,21.12,575.928,7.78,123.92,17.22,226.56,107.88,81.98,104.85,8.704,19.92,43.02,240.784,414.96,387.72,360.38,13.56,552.0,429.9,32.06,161.96,19.86,12.96,20.544,185.58,77.56,87.92,245.94,8.6,504.9,2357.488,369.544,184.752,64.96,13.52,458.43,387.136,328.59,338.352,25.92,91.36,87.96,5.214,12.294,19.76,109.764,128.85,127.95,68.52,74.94,2548.56,271.44,287.88,14.9,4158.912,91.96,33.11,19.44,55.48,91.92,17.34,71.98,7.08,69.98,646.272,10.368,8.4,71.96,18.48,9.84,239.24,21.12,54.9,15.24,19.568,310.392,42.6,113.94,129.92,5.28,859.2,506.28,14.368,314.352,27.888,238.152,692.94,16.146,1345.485,173.488,57.75,272.4,11.952,28.0,12.201,2.068,83.84,11.36,36.4,27.968,142.04,14.67,1199.96,12.6,17.94,23.904,88.96,518.272,6.98,343.2,17.544,152.688,3.488,5.888,153.552,270.62,468.9,72.48,10.95,191.82,151.056,25.16,6.216,23.616,24.032,2.088,4.488,29.22,6.48,1.188,272.646,212.8,38.52,72.64,45.4,13.76,80.991,11.784,4.36,2888.127,1299.66,2254.41,104.85,59.97,314.532,13.632,19.432,65.44,6.0,1.908,1474.802,110.096,16.752,1537.074,449.372,41.904,2279.96,14.94,191.976,23.832,409.216,72.588,61.568,20.96,44.75,11.96,3.912,327.996,49.408,53.25,3.76,767.214,163.96,161.28,192.8,27.696,73.164,32.064,205.666,115.44,274.8,195.64,257.98,119.04,20.07,11.76,11.76,40.736,201.584,340.704,354.9,1198.33,87.92,51.968,51.336,332.704,42.408,81.54,167.28,772.68,323.976,11.808,26.16,33.57,4.992,20.016,170.24,117.456,22.96,13.36,34.248,3.52,26.7,21.2,838.38,1690.04,85.96,121.96,23.92,63.96,629.95,113.73,14.6,887.84,403.92,106.8,70.95,34.944,119.04,383.84,799.56,31.44,25.92,6.33,75.88,329.988,71.376,63.77,50.97,96.08,1439.968,43.56,563.92,235.152,7.712,51.016,25.248,56.686,51.168,2793.528,1000.02,65.94,18.24,76.12,7.64,68.16,62.24,29.97,125.7,191.98,20.86,56.7,72.704,12.264,218.352,66.294,291.168,88.776,110.376,55.176,30.32,177.568,19.44,71.28,1471.96,79.96,57.576,26.336,166.5,360.38,11.744,247.44,18.24,25.35,119.04,22.14,13.98,43.41,6.24,465.16,7.98,2.394,58.32,200.97,21.36,9.856,3.444,384.592,22.92,11.36,14.592,41.4,442.372,34.5,28.85,3.488,143.856,311.98,22.45,39.992,1159.056,179.9,116.312,12.42,428.4,24.75,87.71,69.52,20.784,12.816,5.904,63.824,141.552,304.9,563.24,661.176,239.976,502.488,196.704,915.136,327.76,701.96,88.776,64.14,33.552,1737.18,704.25,141.76,36.36,25.83,24.588,13.984,195.96,74.352,6.68,17.584,104.784,47.952,650.352,629.184,15.176,127.95,579.51,14.99,151.92,196.62,144.12,15.96,39.96,34.08,10.368,7.752,15.28,65.97,33.4,210.84,13.98,272.94,19.05,247.716,66.58,43.92,14.73,29.7,49.12,18.28,47.04,339.96,87.8,221.382,5199.96,156.512,119.85,30.44,69.28,587.97,24.55,12.176,37.32,35.06,108.4,361.376,2.412,8.39,337.98,83.92,19.68,25.92,6.48,86.352,56.3,51.016,150.8,1039.992,51.84,41.22,240.37,119.02,133.12,38.08,113.568,83.92,6.63,371.97,561.584,99.92,4.928,14.76,99.99,286.15,49.792,299.975,158.376,32.784,47.984,62.592,4.276,10.56,229.94,311.15,12.96,14.62,5.76,21.48,396.92,17.15,23.12,5.248,824.95,24.64,227.88,241.96,3.89,8.01,177.48,569.568,149.73,899.43,46.2,47.952,7.992,76.864,102.93,98.16,11.52,83.88,108.576,5.984,21.96,368.97,12.39,332.94,111.93,454.272,19.44,8399.976,6.294,10.368,122.382,25.984,945.036,14.301,410.352,23.52,180.96,35.0,477.15,302.376,974.988,589.41,34.7,99.87,37.94,24.9,82.26,7.104,103.5,2.464,8.72,10.76,45.68,6.7,158.376,3.44,56.56,36.96,135.99,15.96,3.76,14.7,37.2,89.97,261.96,74.0,13.28,84.96,68.46,2079.4,629.95,72.42,131.98,114.52,100.24,871.8,61.96,4.554,5.2,205.992,15.552,503.96,24.472,241.568,110.4,384.768,78.66,45.36,962.08,12.843,295.456,32.4,103.936,289.568,39.72,244.768,24.0,15.552,26.176,20.94,135.09,279.86,90.06,539.964,50.232,19.242,1247.64,5.304,19.136,332.832,279.9,50.352,34.02,23.88,11.52,286.93,206.384,218.352,529.9,99.3,108.96,2.688,5443.96,302.67,56.07,10.08,59.994,5.715,9.42,1999.96,216.4,6.936,4.428,8.8,142.8,399.95,2152.776,4007.84,328.59,98.352,158.99,291.1,73.68,139.92,107.88,33.29,58.17,5.04,24.784,634.116,17.472,155.88,327.564,13.36,158.9,319.968,505.32,3.808,8.682,24.424,1522.638,419.9,3.15,33.62,16.14,194.25,8.64,872.32,243.992,7.12,2.688,317.058,149.352,227.976,11.96,563.4,319.92,1049.44,170.352,173.94,1007.944,6.68,8.34,101.94,179.97,101.94,271.96,8.8,19.68,302.94,14.94,231.72,9.912,34.65,19.8,33.568,125.93,11.76,5.344,1.365,62.016,60.72,146.82,239.84,15.66,146.352,5.94,45.36,211.168,484.704,371.976,89.82,19.296,191.96,21.3,469.95,209.88,239.666,22.5,219.84,32.4,209.94,4164.05,212.94,41.88,58.48,102.438,199.304,6999.96,12.96,279.86,7.38,698.352,1747.25,54.48,199.99,68.541,627.168,122.12,6.99,107.424,1421.664,125.88,79.78,133.2,438.368,139.944,133.472,564.195,87.168,42.616,319.984,45.92,21.184,20.736,213.43,333.576,31.992,51.168,10.64,68.704,386.91,39.66,113.92,447.86,356.85,251.58,219.84,42.85,6.16,17.0,87.4,29.84,49.568,265.86,67.96,10.92,83.9,19.75,393.54,46.872,10.9,79.92,146.82,3.6,20.04,180.016,41.552,13.12,1117.92,111.96,12.16,17.52,155.88,477.51,164.88,47.97,415.176,35.232,54.96,16.34,225.296,50.352,163.136,6.408,217.584,5.43,143.976,519.68,7.83,883.84,230.352,273.92,9.912,266.352,56.328,39.264,95.232,30.0,25.92,159.92,34.944,149.95,23.32,16.74,14.82,10.47,11.07,20.704,177.2,50.496,6.129,643.136,20.736,177.536,32.432,11.696,113.76,579.51,150.66,48.032,102.624,359.772,13.392,122.136,35.88,479.952,23.92,629.95,14.952,17.94,116.98,121.96,8.74,61.96,7.96,275.24,47.4,512.96,395.94,81.96,32.776,272.94,253.764,29.24,35.168,1362.9,317.058,15.76,14.56,196.21,35.4,419.4,13.005,7.712,4.176,38.88,17.64,93.456,449.91,344.94,14.76,12.76,58.48,20.096,37.752,138.588,259.92,20.736,129.93,69.93,140.736,8.32,9.98,62.94,21.488,239.976,34.504,20.104,3.798,7.88,35.445,269.97,45.12,100.8,47.968,99.98,9.96,3.856,98.376,22.38,3.882,12.585,113.372,18.312,127.936,241.17,6.24,17.9,3266.376,1.68,7.968,113.372,2.96,168.1,98.46,358.58,32.48,17499.95,735.98,34.37,33.96,197.97,17.48,8.016,146.04,27.88,152.65,22.72,11.12,1640.7,371.2,14.832,20.7,11.34,67.9,1059.12,478.48,32.04,55.992,76.864,59.92,1565.88,106.05,62.04,494.97,367.96,44.96,182.94,28.14,7.38,10.9,274.89,23.04,218.352,10.368,12.672,91.96,254.97,31.984,2887.056,12.96,47.52,11.952,4.98,10.78,119.976,25.06,1652.94,131.376,5.344,2003.92,32.4,1913.4,146.73,114.2,2567.84,37.056,259.896,19.05,73.344,95.68,50.96,113.94,25.92,20.32,411.98,34.48,244.55,10.782,602.651,7.656,559.93,2399.96,16.0,5.588,235.92,10.68,41.28,1001.584,14.76,2.502,115.96,186.54,159.56,55.984,132.16,17.904,124.032,1403.92,28.8,24.588,356.79,16.98,491.55,7.38,23.66,681.408,18.9,93.68,21.93,862.344,19.98,13.494,23.988,31.984,41.584,95.976,84.272,36.544,479.72,102.368,28.4,713.88,68.52,623.96,11.12,523.92,2.48,221.024,128.058,58.408,79.974,479.988,11.808,53.568,503.96,21.34,36.4,51.75,15.51,146.82,12.96,7.8,10.2,22.32,24.1,75.98,6.46,60.12,824.97,24.85,12.624,89.584,471.92,18.18,31.744,5.904,621.76,59.98,48.87,154.9,5.92,30.18,24.1,8.78,376.74,29.52,11.96,26.4,1158.12,1.392,44.43,226.2,186.54,265.86,27.9,31.08,13.84,175.872,12.96,208.44,25.76,366.744,289.24,69.456,5.184,205.164,8.544,12.828,598.458,25.984,17.96,5.04,208.16,148.257,146.76,32.96,587.97,14.94,25.83,15.552,6.8,4.224,143.64,31.104,223.056,227.46,46.24,5.22,33.9,28.14,36.0,92.94,245.646,55.008,35.232,523.392,479.984,12.96,17.94,166.72,24.816,124.36,599.97,198.744,9.184,9.248,99.592,399.96,15.552,14.576,209.6,23.32,30.98,119.96,363.92,35.808,122.688,892.136,50.22,83.42,5.872,12.144,27.792,6.208,32.67,1261.33,38.88,1.964,82.656,5.98,9.248,4.448,5.184,175.92,4.752,13.344,54.9,22.911,309.456,19.456,472.518,1012.68,17.22,3.52,1626.192,8.595,190.896,99.87,79.36,119.96,106.32,163.44,42.76,51.55,479.952,146.688,276.784,25.32,318.96,212.64,23.472,19.648,6.57,421.1,760.116,38.784,122.328,25.98,3.28,459.88,7.76,71.96,54.9,9.28,1685.88,5.728,61.96,1.344,17.94,13.904,67.194,41.86,141.96,10.02,144.12,17.94,13.89,16.45,19.92,35.168,123.088,257.94,1879.96,27.46,89.98,828.6,7.23,17.44,62.88,290.352,113.52,135.3,111.15,776.85,12.294,154.764,43.28,92.94,52.56,971.88,141.96,182.55,88.768,53.088,275.88,157.9,4.91,87.92,5.98,222.384,16.0,21.84,15.6,247.84,9.912,69.52,11.52,717.72,236.5,170.352,145.764,107.97,143.96,2399.96,74.352,87.168,32.232,2.202,9.396,89.97,12.78,40.0,23.24,908.82,5.552,8.016,74.592,16.784,38.864,203.976,674.352,5.388,30.976,1350.12,15.92,19.54,21.4,12.6,11.96,138.0,116.76,331.023,756.8,8.736,6.08,17.46,369.16,2.912,20.736,9.568,30.18,51.648,11.232,14.73,16.4,25.92,8.82,62.496,339.96,49.568,274.491,137.94,40.68,110.376,151.62,30.8,123.92,1319.8,89.712,22.83,30.88,465.16,27.12,113.6,12.96,69.456,8.64,341.991,43.96,39.76,66.36,92.88,24.14,4416.174,49.56,354.9,15.12,302.45,44.672,119.98,989.97,9.216,68.52,364.74,47.4,49.76,5.56,629.1,14.7,45.36,125.99,14.7,32.7,31.68,181.86,155.372,13.428,67.136,89.568,315.776,273.666,17.48,20.608,4.095,339.96,63.98,799.92,35.984,389.97,185.528,2541.98,599.985,3.036,25.92,66.112,46.36,6.9,57.69,559.71,305.01,50.784,26.01,649.0,59.99,20.24,37.84,5.472,77.24,292.1,8.544,424.116,2.892,381.72,97.184,10.368,890.841,72.0,113.888,158.13,14.13,64.75,1.872,11.214,37.376,286.4,43.92,142.182,19.608,4.158,979.95,135.3,8.904,100.8,41.96,9.45,400.8,28.792,111.0,1279.968,1856.19,22.752,61.542,81.438,67.36,54.528,843.9,449.568,15.51,192.186,5.76,67.88,162.89,25.71,191.88,721.875,73.568,13.584,64.784,176.772,38.82,21.9,111.79,445.44,16.52,29.9,116.4,1.408,169.568,251.964,523.764,19.44,194.352,36.624,340.182,12.672,6.888,32.544,347.802,15.57,4.608,257.98,153.78,61.02,110.11,7.89,36.024,54.336,92.52,10.272,40.74,14.4,149.95,16.9,17.61,378.0,17.64,373.08,1336.44,29.97,390.368,101.52,74.352,15.7,59.52,34.4,313.176,866.646,795.408,35.856,23.84,43.13,30.87,70.12,509.9575,122.91,97.568,722.352,11.52,167.84,172.11,99.98,156.792,35.36,13.592,386.68,379.96,539.91,41.24,51.897,552.56,23.16,126.08,449.1,195.104,36.672,85.246,32.712,11.43,30.44,12.96,16.0,32.67,4.464,9.345,9.144,23.136,99.2,21.36,46.9,18.72,236.528,18.9,10.688,237.096,5.184,65.584,22.2,419.4,88.92,9.912,318.43,5.8,1415.76,148.48,9.248,1036.624,569.64,9.14,1196.86,523.26,639.968,52.76,538.92,14.88,34.24,261.74,87.84,34.92,14.94,14.56,3.576,147.184,1499.95,13.568,2573.82,609.98,5.48,391.98,755.96,31.12,6.54,12.78,18.464,445.802,2.48,25.9,29.9,2249.91,1053.164,12.96,106.68,119.94,10.272,512.19,1.556,4.448,276.69,4.96,71.92,18.84,140.97,470.376,6.08,164.792,23.36,12.176,46.384,362.92,9.248,1889.946,62.04,396.92,239.456,13.12,29.36,214.9,15.92,146.45,15.14,5.76,1399.98,8.952,8.856,85.246,21.728,1487.04,71.88,9.24,35.88,17.04,931.176,266.352,483.136,196.784,231.92,29.7,13.592,70.88,114.288,36.624,242.352,49.616,508.704,57.36,906.68,719.952,755.944,11.98,0.898,21.204,34.74,833.94,12.96,25.92,349.965,22.32,158.28,497.94,533.94,167.94,31.68,170.786,198.744,63.824,435.168,48.58,47.976,20.736,26.46,49.12,15.0,194.7,591.32,2.84,221.96,236.0,41.94,52.792,563.94,2625.12,17.94,422.856,127.764,3499.93,14.4,122.97,9.32,122.94,17.31,128.744,58.248,71.246,7.872,887.271,146.86,36.56,225.576,5.248,38.256,40.24,29.925,148.704,55.92,12.96,25.176,5.584,1297.368,264.32,25.92,22.96,19.44,9.54,5.81,5.76,14.91,6.642,18.54,679.96,189.576,71.96,539.92,725.344,7.44,39.48,850.5,75.33,325.632,23.344,16.52,335.72,251.944,127.302,1207.84,12.53,34.58,300.98,258.75,59.52,57.96,441.96,68.04,703.71,17.904,11.976,67.96,892.224,1299.99,4.544,1352.032,1548.99,19.872,119.448,118.16,19.56,80.96,25.92,106.96,187.76,76.776,53.9,76.728,10.43,99.2,15.92,129.92,30.4,5399.91,119.1,40.08,59.94,259.98,170.98,38.97,154.9,446.068,152.94,23.472,195.64,14.94,1687.8,341.96,605.88,186.732,3812.97,26.424,625.99,1568.61,17.3,160.0,179.94,872.94,12.96,88.8,319.968,167.888,163.96,5.232,1199.98,73.85,25.71,17.28,526.582,11.56,209.97,447.84,479.97,8.64,11.68,40.776,13.698,87.8,77.952,147.184,47.952,250.26,40.776,29.6,1.938,159.96,59.52,17.48,13.168,40.74,179.886,286.256,24.224,331.536,17.52,17.856,431.976,291.136,114.848,10.688,15.232,12.42,19.44,70.368,12.672,89.95,6.58,94.99,35.12,25.92,7.96,566.97,9.84,25.488,7.56,60.84,450.04,34.6,467.97,33.02,17.088,3.008,268.24,431.16,43.6,154.95,15.552,42.208,10.368,2.224,74.52,17.52,1779.9,219.9,7.152,26.72,1039.728,45.96,456.588,4499.985,59.976,6.12,10.98,7.86,51.45,37.056,203.92,29.56,8.568,45.248,876.3,185.376,25.06,2.89,7.896,22.608,30.528,4.842,1.8,39.984,32.4,97.88,307.168,26.9,47.01,469.99,207.846,324.744,40.48,12.0,720.064,25.424,2.816,3.204,30.828,47.616,108.784,4.77,7.98,550.431,10.56,1497.666,17.52,113.22,35.88,4535.976,11.84,592.74,111.672,8.64,149.97,232.88,90.882,508.768,9.912,63.936,59.52,311.976,50.352,19.136,13.12,241.568,479.92,307.136,12.6,159.98,6.12,1184.72,45.96,58.05,71.28,124.404,154.9,1871.88,16.192,18.936,12.672,5.04,8.448,20.388,9.96,320.64,52.0,25.584,464.0,235.95,39.96,18.528,17.9,81.96,272.736,18.496,441.92,127.764,166.44,13.38,24.0,24.448,6.16,915.136,8.56,97.82,31.104,11.176,5.04,242.176,337.176,13.344,76.752,102.336,10.32,47.32,23.376,16.72,16.192,32.4,19.89,399.98,343.85,106.32,13.92,82.4,6.24,447.84,272.048,1614.582,24.32,1.584,31.984,14.76,423.648,76.64,4.464,3.96,715.64,268.704,21.92,48.72,205.666,30.344,25.696,3404.5,101.34,344.372,30.384,22.848,38.62,59.98,174.3,383.96,15.57,22.32,103.6,2.97,569.99,50.97,298.116,59.52,230.28,105.52,23.36,71.976,8.56,13.92,2518.29,540.57,221.056,81.424,134.8,39.582,44.688,31.744,40.98,3.168,18.84,362.25,63.552,129.552,5.984,861.76,66.96,6.24,435.168,14.9,15.8,72.9,206.352,7.992,81.36,20.232,389.056,20.736,41.472,33.36,90.882,15.992,120.784,519.792,31.176,10.368,2.724,254.352,3.762,10.272,659.97,113.73,5.104,16.448,81.92,254.9,15.12,7.872,8.32,89.95,25.2,37.59,14.97,1.98,39.936,18.464,4.896,145.764,9.612,199.75,1673.184,12.18,57.68,263.96,299.94,25.76,271.9,45.84,9.82,93.36,541.24,106.32,1323.9,126.624,125.944,663.92,120.0,3.29,18.84,60.672,30.816,52.792,83.9,11.76,4.992,87.92,657.93,1.044,210.68,78.8,19.99,772.68,106.08,23.076,25.92,47.952,0.984,75.384,4.608,37.68,41.91,435.999,388.704,572.58,33.18,63.88,26.72,295.056,393.25,2.214,16.272,706.86,5.97,21.184,41.376,17.94,2.655,892.35,307.666,728.82,41.36,43.176,4.16,61.4,24.448,263.96,359.97,12.96,116.82,276.784,239.97,16.02,454.56,141.42,310.744,12.736,6.47,13.748,15.224,27.42,165.98,75.0,134.272,146.544,131.904,203.88,14.301,718.64,61.1,28.08,10.496,39.92,77.58,269.36,5.76,109.9,23.88,26.2,12.96,234.95,118.25,4.28,26.85,3357.6,8.26,2973.32,104.79,775.728,89.0664,175.44,438.336,215.544,55.584,127.386,248.43,11.648,85.246,20.64,148.02,33.29,204.95,526.344,41.96,451.152,31.504,30.672,1079.976,161.568,2.934,18.528,670.752,64.96,41.94,11.96,13.12,535.41,72.78,36.84,87.71,562.2925,56.52,11.264,284.08,18.496,14.73,186.54,557.728,159.968,471.9,3.52,49.12,20.16,10.68,141.96,32.48,20.04,13999.96,238.0,61.96,239.372,595.0,16.032,199.75,227.96,293.52,307.98,96.96,117.488,11.952,512.499,863.128,2036.86,449.568,108.96,264.18,2.88,41.904,23.92,156.512,128.34,474.95,999.98,277.5,1252.704,110.97,22.608,1.892,63.312,7.824,170.072,62.82,19.44,7.38,38.88,187.76,6.048,98.352,335.744,8.96,89.568,71.96,15.552,10.43,72.784,67.15,549.98,11.82,4643.8,577.764,191.5155,2.624,1369.764,294.368,81.568,44.46,314.088,6.336,10.48,2.469,3.264,4.344,31.776,4.928,1.788,15.072,12.624,185.88,12.96,189.7,40.99,82.64,31.02,89.97,35.97,1266.86,169.45,40.68,3.328,933.262,2803.92,4.768,6.672,4.448,43.936,23.744,357.0,806.336,85.44,344.91,70.97,36.784,743.988,11.212,4.712,180.98,60.416,299.99,192.16,242.624,46.74,174.95,100.704,368.91,8.02,171.04,19.44,13.092,122.94,35.448,19.98,69.375,31.68,2003.168,9.344,2563.056,387.136,3.424,1085.42,43.056,3.762,34.86,432.456,675.06,65.232,207.0,600.53,59.904,637.44,51.756,31.104,47.96,158.928,211.248,5.552,2.952,10.332,18.368,299.9,26.55,111.98,4.928,11.784,7.98,180.96,1649.95,362.352,73.584,486.368,32.4,41.86,77.56,37.17,137.352,376.509,62.72,2939.93,512.358,3.488,22.288,16.032,1.752,20.992,11.21,45.04,15.624,8.74,44.75,61.68,158.376,2.864,94.192,143.7,6.48,7.88,11.21,354.9,17.94,51.8,299.52,7.7,23.92,498.0,436.704,32.4,61.44,73.36,59.2,32.952,218.376,31.4,9.48,209.5,24.3,6.48,32.448,26.388,373.47,64.2,8.0,186.54,87.08,105.584,217.44,31.744,5.432,913.43,372.144,751.984,604.768,27.36,20.56,83.92,902.712,120.666,4.984,82.26,29.74,87.36,56.16,64.384,64.784,15.552,223.888,10.896,84.784,241.5,59.97,13.36,11.808,16.24,77.55,76.12,17.184,11.76,27.46,137.94,111.15,901.95,366.009,310.688,7.68,155.372,10.744,232.4,164.646,22.68,105.52,83.92,141.9,39.98,28.91,174.95,110.528,630.024,27.86,933.408,51.84,165.6,106.32,147.92,104.28,286.85,66.96,199.98,45.0,17.9,40.48,2154.9,18.432,10.944,4.36,62.352,303.92,129.3,274.2,6.048,6.848,9.96,8.552,45.584,25.488,136.96,49.616,10.584,84.416,431.94,2.043,68.238,240.744,35.0,210.68,637.896,43.44,2.22,1679.96,344.372,1554.936,127.88,222.384,106.869,3.564,25.68,12.384,25.3,95.94,7.5,302.376,46.688,17.94,370.14,8.928,2678.94,387.136,45.408,77.952,3.0,9.952,37.896,65.584,44.784,1035.8,5.76,19.98,35.98,16.656,20.7,83.7,199.8,45.68,110.96,11.94,8749.95,36.4,18.69,5.94,60.736,479.976,6.08,165.6,59.52,479.97,18.62,49.632,97.82,15.984,184.752,12.96,366.744,8.856,27.96,146.352,175.23,125.99,23.0,25.584,73.784,20.736,17.52,35.76,3.64,30.336,12.99,182.22,302.94,54.992,12.99,55.86,44.376,51.264,5.193,159.984,54.224,241.424,33.36,13.76,496.86,389.97,9.82,56.4,18.312,25.92,8.016,479.984,30.84,33.568,422.625,199.98,20.24,39.92,32.54,39.0,12.6,24.64,6.264,14.432,719.976,239.92,1056.86,447.944,150.408,453.576,45.36,287.88,131.88,2.328,1454.9,4.842,220.704,67.176,15.232,31.104,968.744,222.352,479.984,10.272,998.85,24.56,5.67,14.336,102.3,607.52,31.16,2.61,10.332,10.368,20.784,66.96,17.248,11.088,1287.45,168.1,51.968,4.768,7.98,18.688,11.664,191.976,499.168,11.88,35.44,67.136,4.32,14.94,40.54,7.312,475.944,30.08,165.6,180.96,23.18,56.96,15.56,353.568,13.96,82.95,39.68,479.97,7.38,14.256,81.98,39.624,399.672,65.12,30.56,20.768,39.808,121.104,111.96,15.696,70.26,90.0,6.096,481.176,7.24,177.45,1369.764,9.48,130.98,174.95,826.0,139.58,399.95,12.39,760.98,67.86,31.504,5.04,39.879,4.712,194.352,97.424,704.76,27.396,5.7,14.19,7.3,199.98,144.96,118.0,48.94,22.66,0.836,30.96,723.92,21.968,619.152,127.904,94.2,49.5,16.52,55.36,11.56,17.12,182.352,118.16,18.368,600.558,50.352,28.032,7.692,517.405,8.608,159.56,2104.55,40.7,47.79,5.16,21.21,96.36,231.72,17.9,12.48,8.016,259.896,247.188,279.96,450.0,19.44,300.904,239.976,31.168,120.96,2239.936,76.608,142.776,91.36,3.552,115.136,4.71,172.764,3.52,79.968,305.9745,344.91,626.352,359.499,71.952,29.8,1.824,64.384,6.984,11.264,15.552,379.372,67.536,1.524,37.408,25.344,46.2,4.728,53.352,131.104,22.512,72.744,52.59,19.44,126.3,1287.45,64.96,535.41,8.1,13.248,83.988,73.2,10.74,11.032,53.04,17.12,59.94,210.58,30.96,239.984,3050.376,133.98,93.248,177.48,17.712,4.86,6.258,37.68,51.84,27.42,5.4,1270.99,125.36,14.03,27.96,5.344,1.696,24.588,7.98,288.0,146.952,83.136,942.784,74.352,26.88,10.896,3.536,528.43,41.472,287.976,29.304,55.328,1227.9984,20.416,1128.39,4.608,195.96,15.552,271.968,698.352,77.728,46.62,537.544,14.62,22.55,583.8,211.168,12.96,45.98,1294.75,1799.97,10.688,221.98,341.96,34.77,18.9,102.72,40.48,33.282,118.65,14.76,37.52,207.144,13.9,266.352,307.98,44.1,13.12,16.56,38.88,335.52,959.984,4.086,55.984,10.688,8.856,6.912,26.72,33.488,10.56,386.34,33.44,39.96,1217.568,15.51,89.9,14.28,12.72,15.75,70.95,65.568,299.97,89.97,31.86,67.15,7.236,4.824,91.36,130.112,74.24,159.84,2.892,9.392,123.92,55.6,617.976,21.312,209.94,31.984,5083.96,35.96,31.05,8.92,209.6,111.04,38.88,36.27,493.43,11.12,686.4,15.92,70.68,541.24,101.994,18.264,21.99,185.376,58.924,480.0,34.05,192.72,239.97,50.12,15.984,14.352,6.528,2.862,20.856,276.28,629.64,449.97,1927.59,121.78,2676.672,489.23,312.03,17.94,165.6,37.52,494.97,25.06,32.064,18.496,191.079,10.368,30.53,30.84,75.06,66.976,182.72,21.93,95.976,143.928,3.564,4.928,856.656,13.184,48.784,76.64,18.528,177.68,159.98,52.68,11.568,4.572,1439.968,1.728,626.1,99.2,609.98,211.372,239.976,99.95,29.34,16.74,12.672,1119.888,204.85,135.984,16.4,92.96,7.632,4.158,179.991,239.358,164.88,10.95,19.44,12.3,13.97,934.956,46.864,26.16,23.128,59.24,155.456,8.56,21.0,120.0,299.96,67.84,853.93,18.688,273.96,89.97,756.8,1.248,72.0,470.155,39.128,19.728,151.188,271.764,47.496,344.981,36.288,78.304,127.785,6.104,5.76,1.72,8.952,2.334,1.728,159.04,145.98,77.952,95.97,105.584,9.344,9.68,4899.93,104.75,18.528,1875.258,91.36,152.24,35.184,56.704,274.064,458.43,8.226,5.95,15.24,239.94,23.84,92.52,37.76,7.38,5.82,3.816,26.16,100.8,135.8,13.9,19.4,13.488,11.416,17.64,17.04,99.98,29.46,166.92,98.328,117.882,20.97,139.96,37.74,14.82,191.82,13.904,314.6,283.56,487.96,1793.98,2.992,108.768,25.92,22.58,55.176,9892.74,73.915,337.088,61.44,479.97,5.984,189.95,149.95,29.95,44.4,66.03,10.86,3.36,27.936,28.784,21.96,21.98,2621.322,74.76,364.776,1115.17,89.696,50.12,36.48,322.192,2.946,19.136,23.08,90.48,215.976,65.94,11.352,24.56,16.56,279.95,828.84,7.218,27.2,89.97,318.08,5.8,143.952,19.44,5.56,146.73,29.9,276.784,93.032,454.965,246.168,295.4,348.56,15.552,482.94,299.98,403.68,41.9,28.91,32.4,369.544,10.368,791.88,23.64,84.784,64.96,32.06,177.648,287.91,22.368,32.368,207.984,36.4,22.96,315.2,15.18,623.96,429.6,31.968,887.271,21.696,22.05,99.9,90.86,7.78,78.759,9.552,5.344,8.28,50.136,88.074,301.47,18.656,27.46,125.13,555.96,129.552,51.984,10.272,18.336,180.96,475.944,159.98,43.6,8.288,1123.128,64.9,2.808,99.98,8.04,1564.29,138.56,65.52,14.576,23.2,16.464,19.312,40.08,101.96,259.74,255.42,4.338,11.88,405.86,680.01,2.376,143.128,4476.8,104.85,241.44,319.76,45.68,31.96,47.9,1112.94,22.92,71.976,19.44,31.086,13.98,23.65,707.88,11.952,31.128,55.76,24.56,51.75,207.184,1473.1,3.488,21.728,663.072,99.588,49.568,29.372,344.704,47.992,102.24,39.96,1432.0,41.04,256.784,120.98,315.98,28.752,114.95,23.04,15.48,51.84,39.816,16.06,7.28,5.4,19.44,39.88,79.44,20.664,32.4,13.762,15.28,44.688,301.47,11.07,1504.52,25.92,7.536,1.408,4.144,52.752,381.36,6.72,15.192,58.32,946.764,94.68,23.67,1091.168,18.69,568.728,7.312,147.568,56.784,5.607,6.576,14.304,119.833,5.56,32.4,9.84,2.78,3.64,881.93,115.84,107.648,199.95,12.96,60.89,14.94,9.64,332.94,51.9,64.96,25.5,215.976,389.97,269.91,11.673,64.848,14.56,102.582,20.04,32.088,4305.552,10.02,631.96,1577.94,255.85,184.704,47.92,15.936,8.001,398.972,163.88,67.9,72.224,11.696,392.94,18.176,6.888,457.485,1079.316,48.91,9.84,34.5,0.556,43.8,13.872,115.96,41.424,244.768,74.352,4.312,56.686,97.968,7.872,15.552,1.476,8.4,6.56,14.88,45.48,25.44,146.688,4.928,63.488,418.32,123.858,118.782,769.184,47.904,13.36,163.764,183.92,11.376,66.112,211.04,594.816,72.96,80.96,455.712,25.98,45.28,15.56,859.2,195.68,14.2,314.352,4.608,17.9,2.992,20.064,146.73,18.75,117.576,51.184,455.97,5.715,57.594,30.144,899.43,842.72,41.96,13.216,184.752,520.464,11.424,19.44,3.64,18.54,43.12,313.722,45.98,428.68,30.576,13.02,22.14,359.32,11.56,68.48,1676.88,37.94,272.97,41.568,317.058,8.04,419.944,61.38,50.0,31.8,32.56,7.072,45.528,64.784,424.272,1.344,83.92,25.92,120.576,79.92,12.28,542.94,2.04,228.92,7.992,582.336,629.95,631.782,801.568,75.18,30.98,1349.91,14.112,31.12,4.272,209.148,1591.02,7.92,574.91,8.448,1071.0,12.07,3.273,87.92,104.696,2803.92,6.816,249.584,17.94,10.11,10.368,11.952,15.224,21.984,604.752,40.7,302.376,45.0,3785.292,35.4,199.9,1212.96,1099.96,103.481,5.904,30.08,36.288,10.272,252.8,2.946,12.96,285.576,22.24,14.62,48.36,16.256,219.184,95.84,12.39,35.88,477.3,12.32,8.608,136.26,186.15,81.792,47.19,36.784,91.475,27.192,12.06,144.6,15.992,34.44,321.552,701.96,19.456,17.28,31.96,164.688,166.5,12.96,110.96,99.98,11.424,128.124,101.4,5.904,173.488,51.56,3.564,13.16,3.828,304.99,18.16,319.984,19.68,781.864,30.816,673.344,6.54,572.8,197.05,2022.272,9.12,38.16,1592.85,11.88,120.0,8.67,4.41,167.94,67.8,26.94,32.04,32.13,2.88,1091.93,111.96,26.7,40.2,13.89,689.82,38.34,9.264,204.6664,1649.75,91.056,54.208,26.982,6.912,435.504,81.08,93.02,323.976,15.552,32.592,83.92,199.9,31.176,172.752,9.296,12.768,52.76,55.616,427.644,40.67,33.48,9.728,8.856,477.666,16.9,39.96,191.968,35.52,6.23,56.704,369.1992,1.98,75.88,6.848,4.626,453.6,13.848,577.584,151.96,68.432,71.12,3.008,184.66,5.312,132.52,195.64,51.968,431.976,224.937,6.0,11.76,1125.488,12.645,4.032,79.96,6.732,33.568,15.84,24.424,17.12,31.56,105.686,399.54,104.93,1079.85,70.98,29.95,589.41,9.648,400.784,53.72,31.008,61.12,195.136,121.536,17.472,104.58,24.7,302.72,8.56,11.56,25.86,276.784,110.352,60.84,35.208,41.472,239.5,34.2,376.866,197.72,70.72,194.352,21.6,11.07,282.84,27.72,11.68,239.984,22.98,102.13,2033.584,5.76,899.982,86.352,139.96,16.704,3.152,32.896,21.392,307.314,409.9992,9.248,14.67,37.408,3.438,7.152,179.7,90.64,177.0,79.45,1628.82,137.54,730.2,11.56,4297.644,20.65,204.9,436.704,481.568,89.544,35.168,72.588,221.16,281.97,3406.664,37.17,64.96,595.38,95.984,4.938,97.44,3.984,13.04,579.528,18.75,3023.928,26.96,477.6,193.95,12.96,119.94,12.42,18.088,71.97,14.94,64.68,22.0,7.968,1499.97,26.632,41.6,64.02,6.99,6.84,323.1,668.16,8.64,38.88,201.04,12.96,16.59,35.1,11.646,32.4,503.96,7.04,613.9992,470.36,31.08,7.3,73.536,491.55,30.336,22.83,54.32,196.776,3.62,11.54,849.95,11.01,39.624,242.136,12.39,19.96,340.92,273.568,13.194,1080.096,51.56,58.416,57.584,37.312,79.96,223.96,221.024,18.96,326.646,89.97,296.712,12.224,89.97,286.86,979.95,4.36,10.048,807.75,34.24,500.24,20.12,896.99,5.88,269.98,310.12,70.464,19.68,140.67,4404.9,62.65,9.45,268.576,364.08,71.088,10.984,797.944,159.98,5.344,27.72,2.496,8.26,17.76,332.94,292.1,206.1,17.64,1403.92,4.3,239.97,81.96,238.62,139.8,9.84,7.78,54.9,50.04,339.92,10.528,42.384,123.92,135.95,2177.584,17.496,16.784,431.136,8.88,4.836,437.85,673.568,274.8,62.18,8.28,48.81,149.9,1023.332,600.558,39.992,211.246,56.064,107.772,4.832,18.24,3.798,10.368,235.188,26.376,10.384],\"type\":\"pie\"}],                        {\"template\":{\"data\":{\"bar\":[{\"error_x\":{\"color\":\"#2a3f5f\"},\"error_y\":{\"color\":\"#2a3f5f\"},\"marker\":{\"line\":{\"color\":\"#E5ECF6\",\"width\":0.5},\"pattern\":{\"fillmode\":\"overlay\",\"size\":10,\"solidity\":0.2}},\"type\":\"bar\"}],\"barpolar\":[{\"marker\":{\"line\":{\"color\":\"#E5ECF6\",\"width\":0.5},\"pattern\":{\"fillmode\":\"overlay\",\"size\":10,\"solidity\":0.2}},\"type\":\"barpolar\"}],\"carpet\":[{\"aaxis\":{\"endlinecolor\":\"#2a3f5f\",\"gridcolor\":\"white\",\"linecolor\":\"white\",\"minorgridcolor\":\"white\",\"startlinecolor\":\"#2a3f5f\"},\"baxis\":{\"endlinecolor\":\"#2a3f5f\",\"gridcolor\":\"white\",\"linecolor\":\"white\",\"minorgridcolor\":\"white\",\"startlinecolor\":\"#2a3f5f\"},\"type\":\"carpet\"}],\"choropleth\":[{\"colorbar\":{\"outlinewidth\":0,\"ticks\":\"\"},\"type\":\"choropleth\"}],\"contour\":[{\"colorbar\":{\"outlinewidth\":0,\"ticks\":\"\"},\"colorscale\":[[0.0,\"#0d0887\"],[0.1111111111111111,\"#46039f\"],[0.2222222222222222,\"#7201a8\"],[0.3333333333333333,\"#9c179e\"],[0.4444444444444444,\"#bd3786\"],[0.5555555555555556,\"#d8576b\"],[0.6666666666666666,\"#ed7953\"],[0.7777777777777778,\"#fb9f3a\"],[0.8888888888888888,\"#fdca26\"],[1.0,\"#f0f921\"]],\"type\":\"contour\"}],\"contourcarpet\":[{\"colorbar\":{\"outlinewidth\":0,\"ticks\":\"\"},\"type\":\"contourcarpet\"}],\"heatmap\":[{\"colorbar\":{\"outlinewidth\":0,\"ticks\":\"\"},\"colorscale\":[[0.0,\"#0d0887\"],[0.1111111111111111,\"#46039f\"],[0.2222222222222222,\"#7201a8\"],[0.3333333333333333,\"#9c179e\"],[0.4444444444444444,\"#bd3786\"],[0.5555555555555556,\"#d8576b\"],[0.6666666666666666,\"#ed7953\"],[0.7777777777777778,\"#fb9f3a\"],[0.8888888888888888,\"#fdca26\"],[1.0,\"#f0f921\"]],\"type\":\"heatmap\"}],\"heatmapgl\":[{\"colorbar\":{\"outlinewidth\":0,\"ticks\":\"\"},\"colorscale\":[[0.0,\"#0d0887\"],[0.1111111111111111,\"#46039f\"],[0.2222222222222222,\"#7201a8\"],[0.3333333333333333,\"#9c179e\"],[0.4444444444444444,\"#bd3786\"],[0.5555555555555556,\"#d8576b\"],[0.6666666666666666,\"#ed7953\"],[0.7777777777777778,\"#fb9f3a\"],[0.8888888888888888,\"#fdca26\"],[1.0,\"#f0f921\"]],\"type\":\"heatmapgl\"}],\"histogram\":[{\"marker\":{\"pattern\":{\"fillmode\":\"overlay\",\"size\":10,\"solidity\":0.2}},\"type\":\"histogram\"}],\"histogram2d\":[{\"colorbar\":{\"outlinewidth\":0,\"ticks\":\"\"},\"colorscale\":[[0.0,\"#0d0887\"],[0.1111111111111111,\"#46039f\"],[0.2222222222222222,\"#7201a8\"],[0.3333333333333333,\"#9c179e\"],[0.4444444444444444,\"#bd3786\"],[0.5555555555555556,\"#d8576b\"],[0.6666666666666666,\"#ed7953\"],[0.7777777777777778,\"#fb9f3a\"],[0.8888888888888888,\"#fdca26\"],[1.0,\"#f0f921\"]],\"type\":\"histogram2d\"}],\"histogram2dcontour\":[{\"colorbar\":{\"outlinewidth\":0,\"ticks\":\"\"},\"colorscale\":[[0.0,\"#0d0887\"],[0.1111111111111111,\"#46039f\"],[0.2222222222222222,\"#7201a8\"],[0.3333333333333333,\"#9c179e\"],[0.4444444444444444,\"#bd3786\"],[0.5555555555555556,\"#d8576b\"],[0.6666666666666666,\"#ed7953\"],[0.7777777777777778,\"#fb9f3a\"],[0.8888888888888888,\"#fdca26\"],[1.0,\"#f0f921\"]],\"type\":\"histogram2dcontour\"}],\"mesh3d\":[{\"colorbar\":{\"outlinewidth\":0,\"ticks\":\"\"},\"type\":\"mesh3d\"}],\"parcoords\":[{\"line\":{\"colorbar\":{\"outlinewidth\":0,\"ticks\":\"\"}},\"type\":\"parcoords\"}],\"pie\":[{\"automargin\":true,\"type\":\"pie\"}],\"scatter\":[{\"marker\":{\"colorbar\":{\"outlinewidth\":0,\"ticks\":\"\"}},\"type\":\"scatter\"}],\"scatter3d\":[{\"line\":{\"colorbar\":{\"outlinewidth\":0,\"ticks\":\"\"}},\"marker\":{\"colorbar\":{\"outlinewidth\":0,\"ticks\":\"\"}},\"type\":\"scatter3d\"}],\"scattercarpet\":[{\"marker\":{\"colorbar\":{\"outlinewidth\":0,\"ticks\":\"\"}},\"type\":\"scattercarpet\"}],\"scattergeo\":[{\"marker\":{\"colorbar\":{\"outlinewidth\":0,\"ticks\":\"\"}},\"type\":\"scattergeo\"}],\"scattergl\":[{\"marker\":{\"colorbar\":{\"outlinewidth\":0,\"ticks\":\"\"}},\"type\":\"scattergl\"}],\"scattermapbox\":[{\"marker\":{\"colorbar\":{\"outlinewidth\":0,\"ticks\":\"\"}},\"type\":\"scattermapbox\"}],\"scatterpolar\":[{\"marker\":{\"colorbar\":{\"outlinewidth\":0,\"ticks\":\"\"}},\"type\":\"scatterpolar\"}],\"scatterpolargl\":[{\"marker\":{\"colorbar\":{\"outlinewidth\":0,\"ticks\":\"\"}},\"type\":\"scatterpolargl\"}],\"scatterternary\":[{\"marker\":{\"colorbar\":{\"outlinewidth\":0,\"ticks\":\"\"}},\"type\":\"scatterternary\"}],\"surface\":[{\"colorbar\":{\"outlinewidth\":0,\"ticks\":\"\"},\"colorscale\":[[0.0,\"#0d0887\"],[0.1111111111111111,\"#46039f\"],[0.2222222222222222,\"#7201a8\"],[0.3333333333333333,\"#9c179e\"],[0.4444444444444444,\"#bd3786\"],[0.5555555555555556,\"#d8576b\"],[0.6666666666666666,\"#ed7953\"],[0.7777777777777778,\"#fb9f3a\"],[0.8888888888888888,\"#fdca26\"],[1.0,\"#f0f921\"]],\"type\":\"surface\"}],\"table\":[{\"cells\":{\"fill\":{\"color\":\"#EBF0F8\"},\"line\":{\"color\":\"white\"}},\"header\":{\"fill\":{\"color\":\"#C8D4E3\"},\"line\":{\"color\":\"white\"}},\"type\":\"table\"}]},\"layout\":{\"annotationdefaults\":{\"arrowcolor\":\"#2a3f5f\",\"arrowhead\":0,\"arrowwidth\":1},\"autotypenumbers\":\"strict\",\"coloraxis\":{\"colorbar\":{\"outlinewidth\":0,\"ticks\":\"\"}},\"colorscale\":{\"diverging\":[[0,\"#8e0152\"],[0.1,\"#c51b7d\"],[0.2,\"#de77ae\"],[0.3,\"#f1b6da\"],[0.4,\"#fde0ef\"],[0.5,\"#f7f7f7\"],[0.6,\"#e6f5d0\"],[0.7,\"#b8e186\"],[0.8,\"#7fbc41\"],[0.9,\"#4d9221\"],[1,\"#276419\"]],\"sequential\":[[0.0,\"#0d0887\"],[0.1111111111111111,\"#46039f\"],[0.2222222222222222,\"#7201a8\"],[0.3333333333333333,\"#9c179e\"],[0.4444444444444444,\"#bd3786\"],[0.5555555555555556,\"#d8576b\"],[0.6666666666666666,\"#ed7953\"],[0.7777777777777778,\"#fb9f3a\"],[0.8888888888888888,\"#fdca26\"],[1.0,\"#f0f921\"]],\"sequentialminus\":[[0.0,\"#0d0887\"],[0.1111111111111111,\"#46039f\"],[0.2222222222222222,\"#7201a8\"],[0.3333333333333333,\"#9c179e\"],[0.4444444444444444,\"#bd3786\"],[0.5555555555555556,\"#d8576b\"],[0.6666666666666666,\"#ed7953\"],[0.7777777777777778,\"#fb9f3a\"],[0.8888888888888888,\"#fdca26\"],[1.0,\"#f0f921\"]]},\"colorway\":[\"#636efa\",\"#EF553B\",\"#00cc96\",\"#ab63fa\",\"#FFA15A\",\"#19d3f3\",\"#FF6692\",\"#B6E880\",\"#FF97FF\",\"#FECB52\"],\"font\":{\"color\":\"#2a3f5f\"},\"geo\":{\"bgcolor\":\"white\",\"lakecolor\":\"white\",\"landcolor\":\"#E5ECF6\",\"showlakes\":true,\"showland\":true,\"subunitcolor\":\"white\"},\"hoverlabel\":{\"align\":\"left\"},\"hovermode\":\"closest\",\"mapbox\":{\"style\":\"light\"},\"paper_bgcolor\":\"white\",\"plot_bgcolor\":\"#E5ECF6\",\"polar\":{\"angularaxis\":{\"gridcolor\":\"white\",\"linecolor\":\"white\",\"ticks\":\"\"},\"bgcolor\":\"#E5ECF6\",\"radialaxis\":{\"gridcolor\":\"white\",\"linecolor\":\"white\",\"ticks\":\"\"}},\"scene\":{\"xaxis\":{\"backgroundcolor\":\"#E5ECF6\",\"gridcolor\":\"white\",\"gridwidth\":2,\"linecolor\":\"white\",\"showbackground\":true,\"ticks\":\"\",\"zerolinecolor\":\"white\"},\"yaxis\":{\"backgroundcolor\":\"#E5ECF6\",\"gridcolor\":\"white\",\"gridwidth\":2,\"linecolor\":\"white\",\"showbackground\":true,\"ticks\":\"\",\"zerolinecolor\":\"white\"},\"zaxis\":{\"backgroundcolor\":\"#E5ECF6\",\"gridcolor\":\"white\",\"gridwidth\":2,\"linecolor\":\"white\",\"showbackground\":true,\"ticks\":\"\",\"zerolinecolor\":\"white\"}},\"shapedefaults\":{\"line\":{\"color\":\"#2a3f5f\"}},\"ternary\":{\"aaxis\":{\"gridcolor\":\"white\",\"linecolor\":\"white\",\"ticks\":\"\"},\"baxis\":{\"gridcolor\":\"white\",\"linecolor\":\"white\",\"ticks\":\"\"},\"bgcolor\":\"#E5ECF6\",\"caxis\":{\"gridcolor\":\"white\",\"linecolor\":\"white\",\"ticks\":\"\"}},\"title\":{\"x\":0.05},\"xaxis\":{\"automargin\":true,\"gridcolor\":\"white\",\"linecolor\":\"white\",\"ticks\":\"\",\"title\":{\"standoff\":15},\"zerolinecolor\":\"white\",\"zerolinewidth\":2},\"yaxis\":{\"automargin\":true,\"gridcolor\":\"white\",\"linecolor\":\"white\",\"ticks\":\"\",\"title\":{\"standoff\":15},\"zerolinecolor\":\"white\",\"zerolinewidth\":2}}},\"legend\":{\"tracegroupgap\":0},\"margin\":{\"t\":60}},                        {\"responsive\": true}                    ).then(function(){\n",
              "                            \n",
              "var gd = document.getElementById('d4ca6d14-9b3f-486d-9994-b1c159ba02da');\n",
              "var x = new MutationObserver(function (mutations, observer) {{\n",
              "        var display = window.getComputedStyle(gd).display;\n",
              "        if (!display || display === 'none') {{\n",
              "            console.log([gd, 'removed!']);\n",
              "            Plotly.purge(gd);\n",
              "            observer.disconnect();\n",
              "        }}\n",
              "}});\n",
              "\n",
              "// Listen for the removal of the full notebook cells\n",
              "var notebookContainer = gd.closest('#notebook-container');\n",
              "if (notebookContainer) {{\n",
              "    x.observe(notebookContainer, {childList: true});\n",
              "}}\n",
              "\n",
              "// Listen for the clearing of the current output cell\n",
              "var outputEl = gd.closest('.output');\n",
              "if (outputEl) {{\n",
              "    x.observe(outputEl, {childList: true});\n",
              "}}\n",
              "\n",
              "                        })                };                            </script>        </div>\n",
              "</body>\n",
              "</html>"
            ]
          },
          "metadata": {}
        }
      ]
    },
    {
      "cell_type": "code",
      "source": [
        "g = g.groupby([\"State\"])[\"Sales\"].sum().sort_values(ascending=False)"
      ],
      "metadata": {
        "id": "joTgx6zVXxhj"
      },
      "execution_count": null,
      "outputs": []
    },
    {
      "cell_type": "code",
      "source": [
        "g.head(5).mean()"
      ],
      "metadata": {
        "colab": {
          "base_uri": "https://localhost:8080/"
        },
        "id": "cd9stcCPX7Tx",
        "outputId": "3b74ce37-b8a8-412d-ec50-47af61048582"
      },
      "execution_count": null,
      "outputs": [
        {
          "output_type": "execute_result",
          "data": {
            "text/plain": [
              "234544.72853999998"
            ]
          },
          "metadata": {},
          "execution_count": 72
        }
      ]
    },
    {
      "cell_type": "markdown",
      "source": [
        "#**YC7: Cho biết các bang dẫn đầu doanh số theo từng vùng (east, west, south, central,..).**"
      ],
      "metadata": {
        "id": "QbE-b7lcN6WD"
      }
    },
    {
      "cell_type": "code",
      "source": [
        "g = train\n",
        "g.groupby([\"Region\",\"State\"])[\"Sales\"].sum().sort_values().groupby(level=0).tail(1)"
      ],
      "metadata": {
        "colab": {
          "base_uri": "https://localhost:8080/"
        },
        "id": "rCmp7qhJYN6z",
        "outputId": "ee8fcaf1-9757-4e7f-8937-4a7e1f9c4175"
      },
      "execution_count": null,
      "outputs": [
        {
          "output_type": "execute_result",
          "data": {
            "text/plain": [
              "Region   State     \n",
              "South    Florida        88436.5320\n",
              "Central  Texas         168572.5322\n",
              "East     New York      306361.1470\n",
              "West     California    446306.4635\n",
              "Name: Sales, dtype: float64"
            ]
          },
          "metadata": {},
          "execution_count": 73
        }
      ]
    },
    {
      "cell_type": "markdown",
      "source": [
        "#**YC8: Cho biết top 3 sản phẩm có doanh thu cao nhất và top 3 sản phẩm có số lượng đơn vị bán ra cao nhất.**"
      ],
      "metadata": {
        "id": "IHC4B-f3N1Lm"
      }
    },
    {
      "cell_type": "markdown",
      "source": [
        "Top3 sản phẩm có doanh thu cao nhất"
      ],
      "metadata": {
        "id": "hTTJj1q-hbJG"
      }
    },
    {
      "cell_type": "code",
      "source": [
        "g = train\n",
        "g.groupby(\"Product_ID\")[\"Sales\"].sum().sort_values(ascending=False).head(3)"
      ],
      "metadata": {
        "colab": {
          "base_uri": "https://localhost:8080/"
        },
        "id": "e5lsiF2nZmhU",
        "outputId": "eb6d6103-b0eb-493a-dd05-8fc55cb4e7e9"
      },
      "execution_count": null,
      "outputs": [
        {
          "output_type": "execute_result",
          "data": {
            "text/plain": [
              "Product_ID\n",
              "TEC-CO-10004722    61599.824\n",
              "OFF-BI-10003527    27453.384\n",
              "TEC-MA-10002412    22638.480\n",
              "Name: Sales, dtype: float64"
            ]
          },
          "metadata": {},
          "execution_count": 74
        }
      ]
    },
    {
      "cell_type": "markdown",
      "source": [
        "Top 3 sản phẩm có đơn vị bán ra cao nhất"
      ],
      "metadata": {
        "id": "Y-G3iLB8he9j"
      }
    },
    {
      "cell_type": "code",
      "source": [
        "g = train\n",
        "g.groupby(\"Product_ID\")[\"Row_ID\"].sum().sort_values(ascending=False).head(3)"
      ],
      "metadata": {
        "colab": {
          "base_uri": "https://localhost:8080/"
        },
        "id": "RrBnR0q2cq9M",
        "outputId": "e2d44f08-d2ba-4250-81e3-9af555f5ad39"
      },
      "execution_count": null,
      "outputs": [
        {
          "output_type": "execute_result",
          "data": {
            "text/plain": [
              "Product_ID\n",
              "OFF-PA-10001970    86699\n",
              "OFF-BI-10001524    83138\n",
              "OFF-BI-10002026    81080\n",
              "Name: Row_ID, dtype: int64"
            ]
          },
          "metadata": {},
          "execution_count": 75
        }
      ]
    },
    {
      "cell_type": "markdown",
      "source": [
        "#**YC9: Vẽ biểu đồ thể hiện tỉ trọng doanh số của từng category.**"
      ],
      "metadata": {
        "id": "I_zpWEOzOYFH"
      }
    },
    {
      "cell_type": "code",
      "source": [
        "g = train\n",
        "g"
      ],
      "metadata": {
        "colab": {
          "base_uri": "https://localhost:8080/",
          "height": 956
        },
        "id": "rd76TGOWc4rc",
        "outputId": "d0499fcd-bc03-4b78-df66-3e39726b7d94"
      },
      "execution_count": null,
      "outputs": [
        {
          "output_type": "execute_result",
          "data": {
            "text/plain": [
              "      Row_ID        Order_ID Order_Date  Ship_Date       Ship Mode  \\\n",
              "0          1  CA-2017-152156 2017-11-08 2017-11-11    Second Class   \n",
              "1          2  CA-2017-152156 2017-11-08 2017-11-11    Second Class   \n",
              "2          3  CA-2017-138688 2017-06-12 2017-06-16    Second Class   \n",
              "3          4  US-2016-108966 2016-10-11 2016-10-18  Standard Class   \n",
              "4          5  US-2016-108966 2016-10-11 2016-10-18  Standard Class   \n",
              "...      ...             ...        ...        ...             ...   \n",
              "9795    9796  CA-2017-125920 2017-05-21 2017-05-28  Standard Class   \n",
              "9796    9797  CA-2016-128608 2016-01-12 2016-01-17  Standard Class   \n",
              "9797    9798  CA-2016-128608 2016-01-12 2016-01-17  Standard Class   \n",
              "9798    9799  CA-2016-128608 2016-01-12 2016-01-17  Standard Class   \n",
              "9799    9800  CA-2016-128608 2016-01-12 2016-01-17  Standard Class   \n",
              "\n",
              "     Custmoer_ID     Customer_Name    Segment        Country             City  \\\n",
              "0       CG-12520       Claire Gute   Consumer  United States        Henderson   \n",
              "1       CG-12520       Claire Gute   Consumer  United States        Henderson   \n",
              "2       DV-13045   Darrin Van Huff  Corporate  United States      Los Angeles   \n",
              "3       SO-20335    Sean O'Donnell   Consumer  United States  Fort Lauderdale   \n",
              "4       SO-20335    Sean O'Donnell   Consumer  United States  Fort Lauderdale   \n",
              "...          ...               ...        ...            ...              ...   \n",
              "9795    SH-19975     Sally Hughsby  Corporate  United States          Chicago   \n",
              "9796    CS-12490  Cindy Schnelling  Corporate  United States           Toledo   \n",
              "9797    CS-12490  Cindy Schnelling  Corporate  United States           Toledo   \n",
              "9798    CS-12490  Cindy Schnelling  Corporate  United States           Toledo   \n",
              "9799    CS-12490  Cindy Schnelling  Corporate  United States           Toledo   \n",
              "\n",
              "           State  Postal_Code   Region       Product_ID         Category  \\\n",
              "0       Kentucky        42420    South  FUR-BO-10001798        Furniture   \n",
              "1       Kentucky        42420    South  FUR-CH-10000454        Furniture   \n",
              "2     California        90036     West  OFF-LA-10000240  Office Supplies   \n",
              "3        Florida        33311    South  FUR-TA-10000577        Furniture   \n",
              "4        Florida        33311    South  OFF-ST-10000760  Office Supplies   \n",
              "...          ...          ...      ...              ...              ...   \n",
              "9795    Illinois        60610  Central  OFF-BI-10003429  Office Supplies   \n",
              "9796        Ohio        43615     East  OFF-AR-10001374  Office Supplies   \n",
              "9797        Ohio        43615     East  TEC-PH-10004977       Technology   \n",
              "9798        Ohio        43615     East  TEC-PH-10000912       Technology   \n",
              "9799        Ohio        43615     East  TEC-AC-10000487       Technology   \n",
              "\n",
              "     Sub_Category                                       Product_Name  \\\n",
              "0       Bookcases                  Bush Somerset Collection Bookcase   \n",
              "1          Chairs  Hon Deluxe Fabric Upholstered Stacking Chairs,...   \n",
              "2          Labels  Self-Adhesive Address Labels for Typewriters b...   \n",
              "3          Tables      Bretford CR4500 Series Slim Rectangular Table   \n",
              "4         Storage                     Eldon Fold 'N Roll Cart System   \n",
              "...           ...                                                ...   \n",
              "9795      Binders  Cardinal HOLDit! Binder Insert Strips,Extra St...   \n",
              "9796          Art           BIC Brite Liner Highlighters, Chisel Tip   \n",
              "9797       Phones                                        GE 30524EE4   \n",
              "9798       Phones           Anker 24W Portable Micro USB Car Charger   \n",
              "9799  Accessories                SanDisk Cruzer 4 GB USB Flash Drive   \n",
              "\n",
              "         Sales Deliver_time  \n",
              "0     261.9600       3 days  \n",
              "1     731.9400       3 days  \n",
              "2      14.6200       4 days  \n",
              "3     957.5775       7 days  \n",
              "4      22.3680       7 days  \n",
              "...        ...          ...  \n",
              "9795    3.7980       7 days  \n",
              "9796   10.3680       5 days  \n",
              "9797  235.1880       5 days  \n",
              "9798   26.3760       5 days  \n",
              "9799   10.3840       5 days  \n",
              "\n",
              "[9800 rows x 19 columns]"
            ],
            "text/html": [
              "\n",
              "  <div id=\"df-d1632741-5218-4f41-bec6-25e53bb51efc\">\n",
              "    <div class=\"colab-df-container\">\n",
              "      <div>\n",
              "<style scoped>\n",
              "    .dataframe tbody tr th:only-of-type {\n",
              "        vertical-align: middle;\n",
              "    }\n",
              "\n",
              "    .dataframe tbody tr th {\n",
              "        vertical-align: top;\n",
              "    }\n",
              "\n",
              "    .dataframe thead th {\n",
              "        text-align: right;\n",
              "    }\n",
              "</style>\n",
              "<table border=\"1\" class=\"dataframe\">\n",
              "  <thead>\n",
              "    <tr style=\"text-align: right;\">\n",
              "      <th></th>\n",
              "      <th>Row_ID</th>\n",
              "      <th>Order_ID</th>\n",
              "      <th>Order_Date</th>\n",
              "      <th>Ship_Date</th>\n",
              "      <th>Ship Mode</th>\n",
              "      <th>Custmoer_ID</th>\n",
              "      <th>Customer_Name</th>\n",
              "      <th>Segment</th>\n",
              "      <th>Country</th>\n",
              "      <th>City</th>\n",
              "      <th>State</th>\n",
              "      <th>Postal_Code</th>\n",
              "      <th>Region</th>\n",
              "      <th>Product_ID</th>\n",
              "      <th>Category</th>\n",
              "      <th>Sub_Category</th>\n",
              "      <th>Product_Name</th>\n",
              "      <th>Sales</th>\n",
              "      <th>Deliver_time</th>\n",
              "    </tr>\n",
              "  </thead>\n",
              "  <tbody>\n",
              "    <tr>\n",
              "      <th>0</th>\n",
              "      <td>1</td>\n",
              "      <td>CA-2017-152156</td>\n",
              "      <td>2017-11-08</td>\n",
              "      <td>2017-11-11</td>\n",
              "      <td>Second Class</td>\n",
              "      <td>CG-12520</td>\n",
              "      <td>Claire Gute</td>\n",
              "      <td>Consumer</td>\n",
              "      <td>United States</td>\n",
              "      <td>Henderson</td>\n",
              "      <td>Kentucky</td>\n",
              "      <td>42420</td>\n",
              "      <td>South</td>\n",
              "      <td>FUR-BO-10001798</td>\n",
              "      <td>Furniture</td>\n",
              "      <td>Bookcases</td>\n",
              "      <td>Bush Somerset Collection Bookcase</td>\n",
              "      <td>261.9600</td>\n",
              "      <td>3 days</td>\n",
              "    </tr>\n",
              "    <tr>\n",
              "      <th>1</th>\n",
              "      <td>2</td>\n",
              "      <td>CA-2017-152156</td>\n",
              "      <td>2017-11-08</td>\n",
              "      <td>2017-11-11</td>\n",
              "      <td>Second Class</td>\n",
              "      <td>CG-12520</td>\n",
              "      <td>Claire Gute</td>\n",
              "      <td>Consumer</td>\n",
              "      <td>United States</td>\n",
              "      <td>Henderson</td>\n",
              "      <td>Kentucky</td>\n",
              "      <td>42420</td>\n",
              "      <td>South</td>\n",
              "      <td>FUR-CH-10000454</td>\n",
              "      <td>Furniture</td>\n",
              "      <td>Chairs</td>\n",
              "      <td>Hon Deluxe Fabric Upholstered Stacking Chairs,...</td>\n",
              "      <td>731.9400</td>\n",
              "      <td>3 days</td>\n",
              "    </tr>\n",
              "    <tr>\n",
              "      <th>2</th>\n",
              "      <td>3</td>\n",
              "      <td>CA-2017-138688</td>\n",
              "      <td>2017-06-12</td>\n",
              "      <td>2017-06-16</td>\n",
              "      <td>Second Class</td>\n",
              "      <td>DV-13045</td>\n",
              "      <td>Darrin Van Huff</td>\n",
              "      <td>Corporate</td>\n",
              "      <td>United States</td>\n",
              "      <td>Los Angeles</td>\n",
              "      <td>California</td>\n",
              "      <td>90036</td>\n",
              "      <td>West</td>\n",
              "      <td>OFF-LA-10000240</td>\n",
              "      <td>Office Supplies</td>\n",
              "      <td>Labels</td>\n",
              "      <td>Self-Adhesive Address Labels for Typewriters b...</td>\n",
              "      <td>14.6200</td>\n",
              "      <td>4 days</td>\n",
              "    </tr>\n",
              "    <tr>\n",
              "      <th>3</th>\n",
              "      <td>4</td>\n",
              "      <td>US-2016-108966</td>\n",
              "      <td>2016-10-11</td>\n",
              "      <td>2016-10-18</td>\n",
              "      <td>Standard Class</td>\n",
              "      <td>SO-20335</td>\n",
              "      <td>Sean O'Donnell</td>\n",
              "      <td>Consumer</td>\n",
              "      <td>United States</td>\n",
              "      <td>Fort Lauderdale</td>\n",
              "      <td>Florida</td>\n",
              "      <td>33311</td>\n",
              "      <td>South</td>\n",
              "      <td>FUR-TA-10000577</td>\n",
              "      <td>Furniture</td>\n",
              "      <td>Tables</td>\n",
              "      <td>Bretford CR4500 Series Slim Rectangular Table</td>\n",
              "      <td>957.5775</td>\n",
              "      <td>7 days</td>\n",
              "    </tr>\n",
              "    <tr>\n",
              "      <th>4</th>\n",
              "      <td>5</td>\n",
              "      <td>US-2016-108966</td>\n",
              "      <td>2016-10-11</td>\n",
              "      <td>2016-10-18</td>\n",
              "      <td>Standard Class</td>\n",
              "      <td>SO-20335</td>\n",
              "      <td>Sean O'Donnell</td>\n",
              "      <td>Consumer</td>\n",
              "      <td>United States</td>\n",
              "      <td>Fort Lauderdale</td>\n",
              "      <td>Florida</td>\n",
              "      <td>33311</td>\n",
              "      <td>South</td>\n",
              "      <td>OFF-ST-10000760</td>\n",
              "      <td>Office Supplies</td>\n",
              "      <td>Storage</td>\n",
              "      <td>Eldon Fold 'N Roll Cart System</td>\n",
              "      <td>22.3680</td>\n",
              "      <td>7 days</td>\n",
              "    </tr>\n",
              "    <tr>\n",
              "      <th>...</th>\n",
              "      <td>...</td>\n",
              "      <td>...</td>\n",
              "      <td>...</td>\n",
              "      <td>...</td>\n",
              "      <td>...</td>\n",
              "      <td>...</td>\n",
              "      <td>...</td>\n",
              "      <td>...</td>\n",
              "      <td>...</td>\n",
              "      <td>...</td>\n",
              "      <td>...</td>\n",
              "      <td>...</td>\n",
              "      <td>...</td>\n",
              "      <td>...</td>\n",
              "      <td>...</td>\n",
              "      <td>...</td>\n",
              "      <td>...</td>\n",
              "      <td>...</td>\n",
              "      <td>...</td>\n",
              "    </tr>\n",
              "    <tr>\n",
              "      <th>9795</th>\n",
              "      <td>9796</td>\n",
              "      <td>CA-2017-125920</td>\n",
              "      <td>2017-05-21</td>\n",
              "      <td>2017-05-28</td>\n",
              "      <td>Standard Class</td>\n",
              "      <td>SH-19975</td>\n",
              "      <td>Sally Hughsby</td>\n",
              "      <td>Corporate</td>\n",
              "      <td>United States</td>\n",
              "      <td>Chicago</td>\n",
              "      <td>Illinois</td>\n",
              "      <td>60610</td>\n",
              "      <td>Central</td>\n",
              "      <td>OFF-BI-10003429</td>\n",
              "      <td>Office Supplies</td>\n",
              "      <td>Binders</td>\n",
              "      <td>Cardinal HOLDit! Binder Insert Strips,Extra St...</td>\n",
              "      <td>3.7980</td>\n",
              "      <td>7 days</td>\n",
              "    </tr>\n",
              "    <tr>\n",
              "      <th>9796</th>\n",
              "      <td>9797</td>\n",
              "      <td>CA-2016-128608</td>\n",
              "      <td>2016-01-12</td>\n",
              "      <td>2016-01-17</td>\n",
              "      <td>Standard Class</td>\n",
              "      <td>CS-12490</td>\n",
              "      <td>Cindy Schnelling</td>\n",
              "      <td>Corporate</td>\n",
              "      <td>United States</td>\n",
              "      <td>Toledo</td>\n",
              "      <td>Ohio</td>\n",
              "      <td>43615</td>\n",
              "      <td>East</td>\n",
              "      <td>OFF-AR-10001374</td>\n",
              "      <td>Office Supplies</td>\n",
              "      <td>Art</td>\n",
              "      <td>BIC Brite Liner Highlighters, Chisel Tip</td>\n",
              "      <td>10.3680</td>\n",
              "      <td>5 days</td>\n",
              "    </tr>\n",
              "    <tr>\n",
              "      <th>9797</th>\n",
              "      <td>9798</td>\n",
              "      <td>CA-2016-128608</td>\n",
              "      <td>2016-01-12</td>\n",
              "      <td>2016-01-17</td>\n",
              "      <td>Standard Class</td>\n",
              "      <td>CS-12490</td>\n",
              "      <td>Cindy Schnelling</td>\n",
              "      <td>Corporate</td>\n",
              "      <td>United States</td>\n",
              "      <td>Toledo</td>\n",
              "      <td>Ohio</td>\n",
              "      <td>43615</td>\n",
              "      <td>East</td>\n",
              "      <td>TEC-PH-10004977</td>\n",
              "      <td>Technology</td>\n",
              "      <td>Phones</td>\n",
              "      <td>GE 30524EE4</td>\n",
              "      <td>235.1880</td>\n",
              "      <td>5 days</td>\n",
              "    </tr>\n",
              "    <tr>\n",
              "      <th>9798</th>\n",
              "      <td>9799</td>\n",
              "      <td>CA-2016-128608</td>\n",
              "      <td>2016-01-12</td>\n",
              "      <td>2016-01-17</td>\n",
              "      <td>Standard Class</td>\n",
              "      <td>CS-12490</td>\n",
              "      <td>Cindy Schnelling</td>\n",
              "      <td>Corporate</td>\n",
              "      <td>United States</td>\n",
              "      <td>Toledo</td>\n",
              "      <td>Ohio</td>\n",
              "      <td>43615</td>\n",
              "      <td>East</td>\n",
              "      <td>TEC-PH-10000912</td>\n",
              "      <td>Technology</td>\n",
              "      <td>Phones</td>\n",
              "      <td>Anker 24W Portable Micro USB Car Charger</td>\n",
              "      <td>26.3760</td>\n",
              "      <td>5 days</td>\n",
              "    </tr>\n",
              "    <tr>\n",
              "      <th>9799</th>\n",
              "      <td>9800</td>\n",
              "      <td>CA-2016-128608</td>\n",
              "      <td>2016-01-12</td>\n",
              "      <td>2016-01-17</td>\n",
              "      <td>Standard Class</td>\n",
              "      <td>CS-12490</td>\n",
              "      <td>Cindy Schnelling</td>\n",
              "      <td>Corporate</td>\n",
              "      <td>United States</td>\n",
              "      <td>Toledo</td>\n",
              "      <td>Ohio</td>\n",
              "      <td>43615</td>\n",
              "      <td>East</td>\n",
              "      <td>TEC-AC-10000487</td>\n",
              "      <td>Technology</td>\n",
              "      <td>Accessories</td>\n",
              "      <td>SanDisk Cruzer 4 GB USB Flash Drive</td>\n",
              "      <td>10.3840</td>\n",
              "      <td>5 days</td>\n",
              "    </tr>\n",
              "  </tbody>\n",
              "</table>\n",
              "<p>9800 rows × 19 columns</p>\n",
              "</div>\n",
              "      <button class=\"colab-df-convert\" onclick=\"convertToInteractive('df-d1632741-5218-4f41-bec6-25e53bb51efc')\"\n",
              "              title=\"Convert this dataframe to an interactive table.\"\n",
              "              style=\"display:none;\">\n",
              "        \n",
              "  <svg xmlns=\"http://www.w3.org/2000/svg\" height=\"24px\"viewBox=\"0 0 24 24\"\n",
              "       width=\"24px\">\n",
              "    <path d=\"M0 0h24v24H0V0z\" fill=\"none\"/>\n",
              "    <path d=\"M18.56 5.44l.94 2.06.94-2.06 2.06-.94-2.06-.94-.94-2.06-.94 2.06-2.06.94zm-11 1L8.5 8.5l.94-2.06 2.06-.94-2.06-.94L8.5 2.5l-.94 2.06-2.06.94zm10 10l.94 2.06.94-2.06 2.06-.94-2.06-.94-.94-2.06-.94 2.06-2.06.94z\"/><path d=\"M17.41 7.96l-1.37-1.37c-.4-.4-.92-.59-1.43-.59-.52 0-1.04.2-1.43.59L10.3 9.45l-7.72 7.72c-.78.78-.78 2.05 0 2.83L4 21.41c.39.39.9.59 1.41.59.51 0 1.02-.2 1.41-.59l7.78-7.78 2.81-2.81c.8-.78.8-2.07 0-2.86zM5.41 20L4 18.59l7.72-7.72 1.47 1.35L5.41 20z\"/>\n",
              "  </svg>\n",
              "      </button>\n",
              "      \n",
              "  <style>\n",
              "    .colab-df-container {\n",
              "      display:flex;\n",
              "      flex-wrap:wrap;\n",
              "      gap: 12px;\n",
              "    }\n",
              "\n",
              "    .colab-df-convert {\n",
              "      background-color: #E8F0FE;\n",
              "      border: none;\n",
              "      border-radius: 50%;\n",
              "      cursor: pointer;\n",
              "      display: none;\n",
              "      fill: #1967D2;\n",
              "      height: 32px;\n",
              "      padding: 0 0 0 0;\n",
              "      width: 32px;\n",
              "    }\n",
              "\n",
              "    .colab-df-convert:hover {\n",
              "      background-color: #E2EBFA;\n",
              "      box-shadow: 0px 1px 2px rgba(60, 64, 67, 0.3), 0px 1px 3px 1px rgba(60, 64, 67, 0.15);\n",
              "      fill: #174EA6;\n",
              "    }\n",
              "\n",
              "    [theme=dark] .colab-df-convert {\n",
              "      background-color: #3B4455;\n",
              "      fill: #D2E3FC;\n",
              "    }\n",
              "\n",
              "    [theme=dark] .colab-df-convert:hover {\n",
              "      background-color: #434B5C;\n",
              "      box-shadow: 0px 1px 3px 1px rgba(0, 0, 0, 0.15);\n",
              "      filter: drop-shadow(0px 1px 2px rgba(0, 0, 0, 0.3));\n",
              "      fill: #FFFFFF;\n",
              "    }\n",
              "  </style>\n",
              "\n",
              "      <script>\n",
              "        const buttonEl =\n",
              "          document.querySelector('#df-d1632741-5218-4f41-bec6-25e53bb51efc button.colab-df-convert');\n",
              "        buttonEl.style.display =\n",
              "          google.colab.kernel.accessAllowed ? 'block' : 'none';\n",
              "\n",
              "        async function convertToInteractive(key) {\n",
              "          const element = document.querySelector('#df-d1632741-5218-4f41-bec6-25e53bb51efc');\n",
              "          const dataTable =\n",
              "            await google.colab.kernel.invokeFunction('convertToInteractive',\n",
              "                                                     [key], {});\n",
              "          if (!dataTable) return;\n",
              "\n",
              "          const docLinkHtml = 'Like what you see? Visit the ' +\n",
              "            '<a target=\"_blank\" href=https://colab.research.google.com/notebooks/data_table.ipynb>data table notebook</a>'\n",
              "            + ' to learn more about interactive tables.';\n",
              "          element.innerHTML = '';\n",
              "          dataTable['output_type'] = 'display_data';\n",
              "          await google.colab.output.renderOutput(dataTable, element);\n",
              "          const docLink = document.createElement('div');\n",
              "          docLink.innerHTML = docLinkHtml;\n",
              "          element.appendChild(docLink);\n",
              "        }\n",
              "      </script>\n",
              "    </div>\n",
              "  </div>\n",
              "  "
            ]
          },
          "metadata": {},
          "execution_count": 76
        }
      ]
    },
    {
      "cell_type": "code",
      "source": [
        "fig = px.pie(g, values='Sales', names='Category')\n",
        "fig.show()"
      ],
      "metadata": {
        "colab": {
          "base_uri": "https://localhost:8080/",
          "height": 542
        },
        "id": "3XhaZMP6dX1D",
        "outputId": "a23fc8f1-b335-4442-8428-65ff9f4d1167"
      },
      "execution_count": null,
      "outputs": [
        {
          "output_type": "display_data",
          "data": {
            "text/html": [
              "<html>\n",
              "<head><meta charset=\"utf-8\" /></head>\n",
              "<body>\n",
              "    <div>            <script src=\"https://cdnjs.cloudflare.com/ajax/libs/mathjax/2.7.5/MathJax.js?config=TeX-AMS-MML_SVG\"></script><script type=\"text/javascript\">if (window.MathJax) {MathJax.Hub.Config({SVG: {font: \"STIX-Web\"}});}</script>                <script type=\"text/javascript\">window.PlotlyConfig = {MathJaxConfig: 'local'};</script>\n",
              "        <script src=\"https://cdn.plot.ly/plotly-2.8.3.min.js\"></script>                <div id=\"c4c04c1a-9deb-4b5e-9062-3b10b3e6b2a8\" class=\"plotly-graph-div\" style=\"height:525px; width:100%;\"></div>            <script type=\"text/javascript\">                                    window.PLOTLYENV=window.PLOTLYENV || {};                                    if (document.getElementById(\"c4c04c1a-9deb-4b5e-9062-3b10b3e6b2a8\")) {                    Plotly.newPlot(                        \"c4c04c1a-9deb-4b5e-9062-3b10b3e6b2a8\",                        [{\"domain\":{\"x\":[0.0,1.0],\"y\":[0.0,1.0]},\"hovertemplate\":\"Category=%{label}<br>Sales=%{value}<extra></extra>\",\"labels\":[\"Furniture\",\"Furniture\",\"Office Supplies\",\"Furniture\",\"Office Supplies\",\"Furniture\",\"Office Supplies\",\"Technology\",\"Office Supplies\",\"Office Supplies\",\"Furniture\",\"Technology\",\"Office Supplies\",\"Office Supplies\",\"Office Supplies\",\"Office Supplies\",\"Office Supplies\",\"Office Supplies\",\"Office Supplies\",\"Technology\",\"Office Supplies\",\"Office Supplies\",\"Office Supplies\",\"Furniture\",\"Furniture\",\"Office Supplies\",\"Technology\",\"Furniture\",\"Office Supplies\",\"Furniture\",\"Office Supplies\",\"Office Supplies\",\"Office Supplies\",\"Office Supplies\",\"Office Supplies\",\"Technology\",\"Furniture\",\"Office Supplies\",\"Furniture\",\"Furniture\",\"Technology\",\"Technology\",\"Office Supplies\",\"Office Supplies\",\"Technology\",\"Office Supplies\",\"Office Supplies\",\"Technology\",\"Technology\",\"Office Supplies\",\"Office Supplies\",\"Furniture\",\"Furniture\",\"Office Supplies\",\"Technology\",\"Office Supplies\",\"Office Supplies\",\"Furniture\",\"Office Supplies\",\"Technology\",\"Office Supplies\",\"Office Supplies\",\"Technology\",\"Office Supplies\",\"Office Supplies\",\"Furniture\",\"Furniture\",\"Office Supplies\",\"Technology\",\"Office Supplies\",\"Office Supplies\",\"Office Supplies\",\"Furniture\",\"Furniture\",\"Office Supplies\",\"Office Supplies\",\"Furniture\",\"Office Supplies\",\"Furniture\",\"Office Supplies\",\"Office Supplies\",\"Office Supplies\",\"Office Supplies\",\"Office Supplies\",\"Office Supplies\",\"Furniture\",\"Technology\",\"Office Supplies\",\"Office Supplies\",\"Office Supplies\",\"Technology\",\"Office Supplies\",\"Office Supplies\",\"Furniture\",\"Office Supplies\",\"Office Supplies\",\"Furniture\",\"Office Supplies\",\"Office Supplies\",\"Office Supplies\",\"Technology\",\"Office Supplies\",\"Office Supplies\",\"Technology\",\"Furniture\",\"Office Supplies\",\"Technology\",\"Technology\",\"Office Supplies\",\"Technology\",\"Furniture\",\"Office Supplies\",\"Office Supplies\",\"Office Supplies\",\"Office Supplies\",\"Office Supplies\",\"Office Supplies\",\"Furniture\",\"Office Supplies\",\"Furniture\",\"Office Supplies\",\"Office Supplies\",\"Office Supplies\",\"Technology\",\"Furniture\",\"Furniture\",\"Office Supplies\",\"Office Supplies\",\"Furniture\",\"Furniture\",\"Technology\",\"Office Supplies\",\"Office Supplies\",\"Office Supplies\",\"Office Supplies\",\"Office Supplies\",\"Office Supplies\",\"Office Supplies\",\"Office Supplies\",\"Furniture\",\"Furniture\",\"Office Supplies\",\"Office Supplies\",\"Office Supplies\",\"Office Supplies\",\"Office Supplies\",\"Furniture\",\"Technology\",\"Technology\",\"Furniture\",\"Office Supplies\",\"Office Supplies\",\"Technology\",\"Office Supplies\",\"Office Supplies\",\"Office Supplies\",\"Office Supplies\",\"Furniture\",\"Office Supplies\",\"Technology\",\"Office Supplies\",\"Technology\",\"Office Supplies\",\"Office Supplies\",\"Office Supplies\",\"Technology\",\"Office Supplies\",\"Furniture\",\"Office Supplies\",\"Office Supplies\",\"Technology\",\"Office Supplies\",\"Office Supplies\",\"Furniture\",\"Office Supplies\",\"Office Supplies\",\"Office Supplies\",\"Furniture\",\"Office Supplies\",\"Office Supplies\",\"Office Supplies\",\"Technology\",\"Technology\",\"Technology\",\"Technology\",\"Office Supplies\",\"Technology\",\"Office Supplies\",\"Office Supplies\",\"Furniture\",\"Technology\",\"Office Supplies\",\"Furniture\",\"Office Supplies\",\"Office Supplies\",\"Office Supplies\",\"Office Supplies\",\"Office Supplies\",\"Office Supplies\",\"Office Supplies\",\"Office Supplies\",\"Furniture\",\"Office Supplies\",\"Office Supplies\",\"Furniture\",\"Technology\",\"Office Supplies\",\"Technology\",\"Office Supplies\",\"Office Supplies\",\"Office Supplies\",\"Technology\",\"Office Supplies\",\"Furniture\",\"Technology\",\"Technology\",\"Technology\",\"Office Supplies\",\"Technology\",\"Office Supplies\",\"Office Supplies\",\"Office Supplies\",\"Furniture\",\"Technology\",\"Office Supplies\",\"Office Supplies\",\"Furniture\",\"Office Supplies\",\"Furniture\",\"Furniture\",\"Office Supplies\",\"Furniture\",\"Furniture\",\"Office Supplies\",\"Furniture\",\"Technology\",\"Office Supplies\",\"Office Supplies\",\"Furniture\",\"Furniture\",\"Technology\",\"Furniture\",\"Furniture\",\"Office Supplies\",\"Furniture\",\"Office Supplies\",\"Office Supplies\",\"Office Supplies\",\"Office Supplies\",\"Furniture\",\"Office Supplies\",\"Technology\",\"Office Supplies\",\"Office Supplies\",\"Furniture\",\"Office Supplies\",\"Office Supplies\",\"Technology\",\"Technology\",\"Office Supplies\",\"Office Supplies\",\"Office Supplies\",\"Technology\",\"Technology\",\"Technology\",\"Technology\",\"Office Supplies\",\"Office Supplies\",\"Office Supplies\",\"Office Supplies\",\"Office Supplies\",\"Technology\",\"Furniture\",\"Office Supplies\",\"Office Supplies\",\"Office Supplies\",\"Office Supplies\",\"Office Supplies\",\"Office Supplies\",\"Office Supplies\",\"Office Supplies\",\"Technology\",\"Furniture\",\"Office Supplies\",\"Technology\",\"Office Supplies\",\"Office Supplies\",\"Office Supplies\",\"Office Supplies\",\"Office Supplies\",\"Office Supplies\",\"Technology\",\"Furniture\",\"Furniture\",\"Furniture\",\"Furniture\",\"Office Supplies\",\"Office Supplies\",\"Office Supplies\",\"Office Supplies\",\"Office Supplies\",\"Furniture\",\"Office Supplies\",\"Furniture\",\"Furniture\",\"Office Supplies\",\"Office Supplies\",\"Office Supplies\",\"Office Supplies\",\"Furniture\",\"Furniture\",\"Furniture\",\"Office Supplies\",\"Furniture\",\"Technology\",\"Office Supplies\",\"Office Supplies\",\"Furniture\",\"Technology\",\"Technology\",\"Technology\",\"Office Supplies\",\"Office Supplies\",\"Office Supplies\",\"Technology\",\"Furniture\",\"Technology\",\"Office Supplies\",\"Furniture\",\"Office Supplies\",\"Office Supplies\",\"Technology\",\"Office Supplies\",\"Office Supplies\",\"Office Supplies\",\"Technology\",\"Office Supplies\",\"Office Supplies\",\"Furniture\",\"Office Supplies\",\"Office Supplies\",\"Office Supplies\",\"Office Supplies\",\"Technology\",\"Office Supplies\",\"Technology\",\"Office Supplies\",\"Office Supplies\",\"Office Supplies\",\"Technology\",\"Office Supplies\",\"Office Supplies\",\"Office Supplies\",\"Office Supplies\",\"Furniture\",\"Office Supplies\",\"Office Supplies\",\"Office Supplies\",\"Office Supplies\",\"Office Supplies\",\"Office Supplies\",\"Office Supplies\",\"Furniture\",\"Office Supplies\",\"Furniture\",\"Office Supplies\",\"Office Supplies\",\"Office Supplies\",\"Office Supplies\",\"Furniture\",\"Office Supplies\",\"Office Supplies\",\"Office Supplies\",\"Technology\",\"Office Supplies\",\"Technology\",\"Office Supplies\",\"Furniture\",\"Office Supplies\",\"Office Supplies\",\"Office Supplies\",\"Office Supplies\",\"Office Supplies\",\"Technology\",\"Furniture\",\"Technology\",\"Technology\",\"Furniture\",\"Office Supplies\",\"Office Supplies\",\"Technology\",\"Technology\",\"Technology\",\"Office Supplies\",\"Office Supplies\",\"Office Supplies\",\"Office Supplies\",\"Office Supplies\",\"Office Supplies\",\"Furniture\",\"Office Supplies\",\"Technology\",\"Office Supplies\",\"Office Supplies\",\"Office Supplies\",\"Technology\",\"Technology\",\"Office Supplies\",\"Furniture\",\"Office Supplies\",\"Office Supplies\",\"Office Supplies\",\"Furniture\",\"Furniture\",\"Office Supplies\",\"Furniture\",\"Office Supplies\",\"Furniture\",\"Office Supplies\",\"Office Supplies\",\"Office Supplies\",\"Technology\",\"Furniture\",\"Office Supplies\",\"Furniture\",\"Furniture\",\"Office Supplies\",\"Technology\",\"Office Supplies\",\"Office Supplies\",\"Technology\",\"Technology\",\"Office Supplies\",\"Office Supplies\",\"Office Supplies\",\"Technology\",\"Technology\",\"Office Supplies\",\"Office Supplies\",\"Furniture\",\"Furniture\",\"Office Supplies\",\"Office Supplies\",\"Office Supplies\",\"Furniture\",\"Office Supplies\",\"Furniture\",\"Office Supplies\",\"Office Supplies\",\"Office Supplies\",\"Office Supplies\",\"Office Supplies\",\"Technology\",\"Furniture\",\"Office Supplies\",\"Technology\",\"Furniture\",\"Furniture\",\"Office Supplies\",\"Office Supplies\",\"Technology\",\"Office Supplies\",\"Furniture\",\"Furniture\",\"Office Supplies\",\"Office Supplies\",\"Office Supplies\",\"Furniture\",\"Furniture\",\"Office Supplies\",\"Office Supplies\",\"Office Supplies\",\"Furniture\",\"Technology\",\"Office Supplies\",\"Office Supplies\",\"Office Supplies\",\"Technology\",\"Furniture\",\"Office Supplies\",\"Office Supplies\",\"Technology\",\"Office Supplies\",\"Technology\",\"Office Supplies\",\"Furniture\",\"Technology\",\"Technology\",\"Technology\",\"Technology\",\"Office Supplies\",\"Office Supplies\",\"Office Supplies\",\"Technology\",\"Furniture\",\"Office Supplies\",\"Office Supplies\",\"Furniture\",\"Furniture\",\"Furniture\",\"Office Supplies\",\"Office Supplies\",\"Furniture\",\"Office Supplies\",\"Office Supplies\",\"Office Supplies\",\"Office Supplies\",\"Office Supplies\",\"Office Supplies\",\"Office Supplies\",\"Furniture\",\"Technology\",\"Office Supplies\",\"Office Supplies\",\"Office Supplies\",\"Technology\",\"Office Supplies\",\"Office Supplies\",\"Office Supplies\",\"Technology\",\"Office Supplies\",\"Office Supplies\",\"Furniture\",\"Technology\",\"Technology\",\"Office Supplies\",\"Furniture\",\"Furniture\",\"Office Supplies\",\"Office Supplies\",\"Office Supplies\",\"Furniture\",\"Furniture\",\"Technology\",\"Office Supplies\",\"Office Supplies\",\"Office Supplies\",\"Office Supplies\",\"Office Supplies\",\"Furniture\",\"Technology\",\"Technology\",\"Office Supplies\",\"Technology\",\"Technology\",\"Furniture\",\"Office Supplies\",\"Office Supplies\",\"Office Supplies\",\"Office Supplies\",\"Office Supplies\",\"Furniture\",\"Furniture\",\"Office Supplies\",\"Office Supplies\",\"Office Supplies\",\"Office Supplies\",\"Furniture\",\"Office Supplies\",\"Furniture\",\"Office Supplies\",\"Office Supplies\",\"Furniture\",\"Office Supplies\",\"Office Supplies\",\"Technology\",\"Office Supplies\",\"Office Supplies\",\"Office Supplies\",\"Furniture\",\"Office Supplies\",\"Office Supplies\",\"Office Supplies\",\"Technology\",\"Office Supplies\",\"Office Supplies\",\"Office Supplies\",\"Office Supplies\",\"Office Supplies\",\"Furniture\",\"Office Supplies\",\"Technology\",\"Technology\",\"Office Supplies\",\"Office Supplies\",\"Technology\",\"Furniture\",\"Office Supplies\",\"Technology\",\"Office Supplies\",\"Office Supplies\",\"Office Supplies\",\"Office Supplies\",\"Technology\",\"Office Supplies\",\"Technology\",\"Technology\",\"Furniture\",\"Office Supplies\",\"Technology\",\"Technology\",\"Office Supplies\",\"Office Supplies\",\"Furniture\",\"Office Supplies\",\"Office Supplies\",\"Office Supplies\",\"Office Supplies\",\"Office Supplies\",\"Technology\",\"Technology\",\"Office Supplies\",\"Office Supplies\",\"Technology\",\"Technology\",\"Office Supplies\",\"Furniture\",\"Furniture\",\"Office Supplies\",\"Technology\",\"Furniture\",\"Office Supplies\",\"Furniture\",\"Office Supplies\",\"Office Supplies\",\"Office Supplies\",\"Furniture\",\"Office Supplies\",\"Office Supplies\",\"Office Supplies\",\"Office Supplies\",\"Technology\",\"Technology\",\"Technology\",\"Office Supplies\",\"Furniture\",\"Office Supplies\",\"Office Supplies\",\"Furniture\",\"Office Supplies\",\"Furniture\",\"Office Supplies\",\"Office Supplies\",\"Technology\",\"Office Supplies\",\"Office Supplies\",\"Office Supplies\",\"Office Supplies\",\"Furniture\",\"Technology\",\"Technology\",\"Office Supplies\",\"Office Supplies\",\"Technology\",\"Office Supplies\",\"Office Supplies\",\"Office Supplies\",\"Furniture\",\"Office Supplies\",\"Office Supplies\",\"Office Supplies\",\"Furniture\",\"Office Supplies\",\"Office Supplies\",\"Office Supplies\",\"Office Supplies\",\"Office Supplies\",\"Technology\",\"Furniture\",\"Furniture\",\"Furniture\",\"Office Supplies\",\"Office Supplies\",\"Office Supplies\",\"Office Supplies\",\"Technology\",\"Office Supplies\",\"Technology\",\"Furniture\",\"Office Supplies\",\"Office Supplies\",\"Office Supplies\",\"Office Supplies\",\"Technology\",\"Office Supplies\",\"Technology\",\"Office Supplies\",\"Office Supplies\",\"Furniture\",\"Furniture\",\"Technology\",\"Office Supplies\",\"Technology\",\"Office Supplies\",\"Office Supplies\",\"Office Supplies\",\"Office Supplies\",\"Office Supplies\",\"Office Supplies\",\"Office Supplies\",\"Office Supplies\",\"Furniture\",\"Furniture\",\"Furniture\",\"Office Supplies\",\"Office Supplies\",\"Technology\",\"Technology\",\"Furniture\",\"Office Supplies\",\"Office Supplies\",\"Office Supplies\",\"Office Supplies\",\"Technology\",\"Technology\",\"Office Supplies\",\"Furniture\",\"Furniture\",\"Office Supplies\",\"Furniture\",\"Office Supplies\",\"Furniture\",\"Office Supplies\",\"Furniture\",\"Office Supplies\",\"Office Supplies\",\"Technology\",\"Office Supplies\",\"Furniture\",\"Office Supplies\",\"Furniture\",\"Office Supplies\",\"Office Supplies\",\"Technology\",\"Office Supplies\",\"Office Supplies\",\"Furniture\",\"Office Supplies\",\"Technology\",\"Office Supplies\",\"Office Supplies\",\"Office Supplies\",\"Office Supplies\",\"Office Supplies\",\"Office Supplies\",\"Office Supplies\",\"Furniture\",\"Office Supplies\",\"Technology\",\"Office Supplies\",\"Furniture\",\"Office Supplies\",\"Office Supplies\",\"Technology\",\"Furniture\",\"Furniture\",\"Office Supplies\",\"Technology\",\"Office Supplies\",\"Office Supplies\",\"Office Supplies\",\"Office Supplies\",\"Technology\",\"Office Supplies\",\"Office Supplies\",\"Technology\",\"Office Supplies\",\"Office Supplies\",\"Furniture\",\"Furniture\",\"Office Supplies\",\"Technology\",\"Office Supplies\",\"Office Supplies\",\"Office Supplies\",\"Furniture\",\"Office Supplies\",\"Furniture\",\"Office Supplies\",\"Office Supplies\",\"Office Supplies\",\"Office Supplies\",\"Technology\",\"Furniture\",\"Technology\",\"Office Supplies\",\"Office Supplies\",\"Furniture\",\"Office Supplies\",\"Office Supplies\",\"Office Supplies\",\"Furniture\",\"Technology\",\"Office Supplies\",\"Office Supplies\",\"Office Supplies\",\"Office Supplies\",\"Office Supplies\",\"Office Supplies\",\"Furniture\",\"Furniture\",\"Technology\",\"Office Supplies\",\"Office Supplies\",\"Furniture\",\"Office Supplies\",\"Technology\",\"Furniture\",\"Technology\",\"Office Supplies\",\"Furniture\",\"Office Supplies\",\"Technology\",\"Furniture\",\"Technology\",\"Office Supplies\",\"Office Supplies\",\"Office Supplies\",\"Office Supplies\",\"Furniture\",\"Office Supplies\",\"Office Supplies\",\"Technology\",\"Office Supplies\",\"Technology\",\"Technology\",\"Office Supplies\",\"Office Supplies\",\"Office Supplies\",\"Furniture\",\"Office Supplies\",\"Technology\",\"Technology\",\"Office Supplies\",\"Office Supplies\",\"Technology\",\"Office Supplies\",\"Office Supplies\",\"Technology\",\"Office Supplies\",\"Office Supplies\",\"Furniture\",\"Office Supplies\",\"Office Supplies\",\"Office Supplies\",\"Office Supplies\",\"Technology\",\"Furniture\",\"Furniture\",\"Technology\",\"Office Supplies\",\"Office Supplies\",\"Office Supplies\",\"Furniture\",\"Office Supplies\",\"Office Supplies\",\"Office Supplies\",\"Office Supplies\",\"Office Supplies\",\"Office Supplies\",\"Office Supplies\",\"Office Supplies\",\"Technology\",\"Office Supplies\",\"Technology\",\"Office Supplies\",\"Furniture\",\"Office Supplies\",\"Office Supplies\",\"Office Supplies\",\"Technology\",\"Office Supplies\",\"Office Supplies\",\"Office Supplies\",\"Office Supplies\",\"Furniture\",\"Technology\",\"Technology\",\"Office Supplies\",\"Office Supplies\",\"Furniture\",\"Office Supplies\",\"Office Supplies\",\"Furniture\",\"Furniture\",\"Office Supplies\",\"Office Supplies\",\"Office Supplies\",\"Office Supplies\",\"Technology\",\"Office Supplies\",\"Office Supplies\",\"Office Supplies\",\"Technology\",\"Office Supplies\",\"Office Supplies\",\"Office Supplies\",\"Office Supplies\",\"Office Supplies\",\"Office Supplies\",\"Office Supplies\",\"Office Supplies\",\"Technology\",\"Office Supplies\",\"Office Supplies\",\"Office Supplies\",\"Furniture\",\"Technology\",\"Office Supplies\",\"Technology\",\"Technology\",\"Office Supplies\",\"Furniture\",\"Furniture\",\"Technology\",\"Furniture\",\"Furniture\",\"Office Supplies\",\"Office Supplies\",\"Office Supplies\",\"Office Supplies\",\"Technology\",\"Technology\",\"Office Supplies\",\"Office Supplies\",\"Office Supplies\",\"Technology\",\"Office Supplies\",\"Office Supplies\",\"Office Supplies\",\"Office Supplies\",\"Office Supplies\",\"Office Supplies\",\"Office Supplies\",\"Office Supplies\",\"Office Supplies\",\"Office Supplies\",\"Technology\",\"Office Supplies\",\"Office Supplies\",\"Office Supplies\",\"Office Supplies\",\"Furniture\",\"Office Supplies\",\"Office Supplies\",\"Office Supplies\",\"Furniture\",\"Furniture\",\"Furniture\",\"Furniture\",\"Office Supplies\",\"Office Supplies\",\"Furniture\",\"Office Supplies\",\"Furniture\",\"Office Supplies\",\"Technology\",\"Office Supplies\",\"Office Supplies\",\"Furniture\",\"Furniture\",\"Office Supplies\",\"Office Supplies\",\"Office Supplies\",\"Office Supplies\",\"Office Supplies\",\"Office Supplies\",\"Office Supplies\",\"Office Supplies\",\"Office Supplies\",\"Furniture\",\"Technology\",\"Office Supplies\",\"Office Supplies\",\"Technology\",\"Office Supplies\",\"Office Supplies\",\"Technology\",\"Office Supplies\",\"Office Supplies\",\"Furniture\",\"Office Supplies\",\"Technology\",\"Furniture\",\"Office Supplies\",\"Office Supplies\",\"Technology\",\"Office Supplies\",\"Furniture\",\"Office Supplies\",\"Furniture\",\"Office Supplies\",\"Office Supplies\",\"Office Supplies\",\"Office Supplies\",\"Technology\",\"Office Supplies\",\"Office Supplies\",\"Furniture\",\"Furniture\",\"Office Supplies\",\"Technology\",\"Furniture\",\"Office Supplies\",\"Office Supplies\",\"Office Supplies\",\"Office Supplies\",\"Office Supplies\",\"Office Supplies\",\"Technology\",\"Furniture\",\"Furniture\",\"Office Supplies\",\"Furniture\",\"Technology\",\"Office Supplies\",\"Furniture\",\"Furniture\",\"Technology\",\"Office Supplies\",\"Office Supplies\",\"Furniture\",\"Technology\",\"Office Supplies\",\"Office Supplies\",\"Office Supplies\",\"Office Supplies\",\"Technology\",\"Office Supplies\",\"Technology\",\"Furniture\",\"Furniture\",\"Office Supplies\",\"Office Supplies\",\"Office Supplies\",\"Office Supplies\",\"Furniture\",\"Office Supplies\",\"Office Supplies\",\"Office Supplies\",\"Furniture\",\"Technology\",\"Furniture\",\"Office Supplies\",\"Office Supplies\",\"Furniture\",\"Technology\",\"Furniture\",\"Technology\",\"Technology\",\"Furniture\",\"Office Supplies\",\"Furniture\",\"Office Supplies\",\"Furniture\",\"Office Supplies\",\"Office Supplies\",\"Office Supplies\",\"Office Supplies\",\"Office Supplies\",\"Furniture\",\"Office Supplies\",\"Office Supplies\",\"Office Supplies\",\"Technology\",\"Office Supplies\",\"Office Supplies\",\"Furniture\",\"Office Supplies\",\"Office Supplies\",\"Office Supplies\",\"Office Supplies\",\"Office Supplies\",\"Office Supplies\",\"Office Supplies\",\"Technology\",\"Office Supplies\",\"Office Supplies\",\"Office Supplies\",\"Office Supplies\",\"Office Supplies\",\"Furniture\",\"Furniture\",\"Office Supplies\",\"Office Supplies\",\"Technology\",\"Office Supplies\",\"Technology\",\"Office Supplies\",\"Furniture\",\"Technology\",\"Office Supplies\",\"Technology\",\"Office Supplies\",\"Office Supplies\",\"Office Supplies\",\"Office Supplies\",\"Furniture\",\"Office Supplies\",\"Furniture\",\"Technology\",\"Office Supplies\",\"Office Supplies\",\"Office Supplies\",\"Office Supplies\",\"Office Supplies\",\"Furniture\",\"Office Supplies\",\"Office Supplies\",\"Office Supplies\",\"Technology\",\"Office Supplies\",\"Office Supplies\",\"Office Supplies\",\"Furniture\",\"Technology\",\"Office Supplies\",\"Office Supplies\",\"Technology\",\"Office Supplies\",\"Office Supplies\",\"Technology\",\"Office Supplies\",\"Furniture\",\"Office Supplies\",\"Office Supplies\",\"Furniture\",\"Office Supplies\",\"Office Supplies\",\"Furniture\",\"Office Supplies\",\"Office Supplies\",\"Office Supplies\",\"Office Supplies\",\"Office Supplies\",\"Office Supplies\",\"Office Supplies\",\"Office Supplies\",\"Office Supplies\",\"Office Supplies\",\"Office Supplies\",\"Furniture\",\"Office Supplies\",\"Office Supplies\",\"Technology\",\"Office Supplies\",\"Office Supplies\",\"Office Supplies\",\"Office Supplies\",\"Technology\",\"Technology\",\"Furniture\",\"Office Supplies\",\"Office Supplies\",\"Office Supplies\",\"Furniture\",\"Office Supplies\",\"Furniture\",\"Furniture\",\"Office Supplies\",\"Office Supplies\",\"Office Supplies\",\"Technology\",\"Office Supplies\",\"Office Supplies\",\"Office Supplies\",\"Technology\",\"Furniture\",\"Office Supplies\",\"Office Supplies\",\"Office Supplies\",\"Office Supplies\",\"Office Supplies\",\"Office Supplies\",\"Office Supplies\",\"Office Supplies\",\"Office Supplies\",\"Furniture\",\"Technology\",\"Technology\",\"Technology\",\"Office Supplies\",\"Office Supplies\",\"Technology\",\"Office Supplies\",\"Office Supplies\",\"Office Supplies\",\"Office Supplies\",\"Office Supplies\",\"Technology\",\"Furniture\",\"Office Supplies\",\"Office Supplies\",\"Office Supplies\",\"Furniture\",\"Office Supplies\",\"Furniture\",\"Technology\",\"Furniture\",\"Office Supplies\",\"Furniture\",\"Office Supplies\",\"Furniture\",\"Office Supplies\",\"Office Supplies\",\"Technology\",\"Office Supplies\",\"Office Supplies\",\"Office Supplies\",\"Office Supplies\",\"Office Supplies\",\"Furniture\",\"Furniture\",\"Office Supplies\",\"Office Supplies\",\"Office Supplies\",\"Technology\",\"Furniture\",\"Technology\",\"Technology\",\"Office Supplies\",\"Technology\",\"Furniture\",\"Technology\",\"Office Supplies\",\"Office Supplies\",\"Office Supplies\",\"Office Supplies\",\"Office Supplies\",\"Furniture\",\"Office Supplies\",\"Office Supplies\",\"Office Supplies\",\"Technology\",\"Furniture\",\"Office Supplies\",\"Furniture\",\"Furniture\",\"Furniture\",\"Office Supplies\",\"Office Supplies\",\"Technology\",\"Office Supplies\",\"Office Supplies\",\"Office Supplies\",\"Furniture\",\"Furniture\",\"Furniture\",\"Office Supplies\",\"Furniture\",\"Office Supplies\",\"Office Supplies\",\"Technology\",\"Office Supplies\",\"Technology\",\"Furniture\",\"Furniture\",\"Office Supplies\",\"Office Supplies\",\"Technology\",\"Technology\",\"Office Supplies\",\"Office Supplies\",\"Technology\",\"Furniture\",\"Office Supplies\",\"Office Supplies\",\"Furniture\",\"Furniture\",\"Office Supplies\",\"Office Supplies\",\"Office Supplies\",\"Office Supplies\",\"Office Supplies\",\"Furniture\",\"Office Supplies\",\"Technology\",\"Office Supplies\",\"Technology\",\"Technology\",\"Technology\",\"Office Supplies\",\"Office Supplies\",\"Office Supplies\",\"Office Supplies\",\"Office Supplies\",\"Office Supplies\",\"Furniture\",\"Office Supplies\",\"Office Supplies\",\"Office Supplies\",\"Office Supplies\",\"Office Supplies\",\"Office Supplies\",\"Office Supplies\",\"Office Supplies\",\"Office Supplies\",\"Office Supplies\",\"Technology\",\"Office Supplies\",\"Furniture\",\"Furniture\",\"Furniture\",\"Furniture\",\"Technology\",\"Technology\",\"Office Supplies\",\"Office Supplies\",\"Office Supplies\",\"Office Supplies\",\"Furniture\",\"Office Supplies\",\"Office Supplies\",\"Furniture\",\"Office Supplies\",\"Furniture\",\"Office Supplies\",\"Technology\",\"Technology\",\"Office Supplies\",\"Office Supplies\",\"Office Supplies\",\"Office Supplies\",\"Office Supplies\",\"Office Supplies\",\"Office Supplies\",\"Furniture\",\"Office Supplies\",\"Office Supplies\",\"Furniture\",\"Technology\",\"Office Supplies\",\"Office Supplies\",\"Office Supplies\",\"Office Supplies\",\"Office Supplies\",\"Furniture\",\"Furniture\",\"Technology\",\"Office Supplies\",\"Technology\",\"Office Supplies\",\"Office Supplies\",\"Office Supplies\",\"Office Supplies\",\"Office Supplies\",\"Office Supplies\",\"Office Supplies\",\"Office Supplies\",\"Office Supplies\",\"Furniture\",\"Office Supplies\",\"Technology\",\"Office Supplies\",\"Furniture\",\"Office Supplies\",\"Office Supplies\",\"Office Supplies\",\"Furniture\",\"Furniture\",\"Office Supplies\",\"Office Supplies\",\"Technology\",\"Office Supplies\",\"Technology\",\"Technology\",\"Technology\",\"Furniture\",\"Furniture\",\"Furniture\",\"Office Supplies\",\"Technology\",\"Office Supplies\",\"Office Supplies\",\"Furniture\",\"Office Supplies\",\"Office Supplies\",\"Office Supplies\",\"Technology\",\"Office Supplies\",\"Office Supplies\",\"Furniture\",\"Office Supplies\",\"Office Supplies\",\"Office Supplies\",\"Furniture\",\"Furniture\",\"Office Supplies\",\"Technology\",\"Technology\",\"Office Supplies\",\"Office Supplies\",\"Office Supplies\",\"Office Supplies\",\"Furniture\",\"Furniture\",\"Office Supplies\",\"Office Supplies\",\"Technology\",\"Office Supplies\",\"Technology\",\"Office Supplies\",\"Furniture\",\"Office Supplies\",\"Office Supplies\",\"Furniture\",\"Technology\",\"Office Supplies\",\"Furniture\",\"Furniture\",\"Office Supplies\",\"Furniture\",\"Furniture\",\"Office Supplies\",\"Technology\",\"Furniture\",\"Technology\",\"Technology\",\"Furniture\",\"Office Supplies\",\"Office Supplies\",\"Office Supplies\",\"Office Supplies\",\"Office Supplies\",\"Technology\",\"Office Supplies\",\"Office Supplies\",\"Office Supplies\",\"Office Supplies\",\"Office Supplies\",\"Technology\",\"Office Supplies\",\"Office Supplies\",\"Furniture\",\"Office Supplies\",\"Office Supplies\",\"Office Supplies\",\"Technology\",\"Furniture\",\"Office Supplies\",\"Office Supplies\",\"Office Supplies\",\"Office Supplies\",\"Office Supplies\",\"Technology\",\"Office Supplies\",\"Furniture\",\"Technology\",\"Office Supplies\",\"Technology\",\"Office Supplies\",\"Office Supplies\",\"Office Supplies\",\"Office Supplies\",\"Technology\",\"Office Supplies\",\"Furniture\",\"Office Supplies\",\"Office Supplies\",\"Furniture\",\"Office Supplies\",\"Furniture\",\"Technology\",\"Furniture\",\"Office Supplies\",\"Furniture\",\"Technology\",\"Technology\",\"Furniture\",\"Office Supplies\",\"Office Supplies\",\"Office Supplies\",\"Office Supplies\",\"Furniture\",\"Office Supplies\",\"Office Supplies\",\"Office Supplies\",\"Office Supplies\",\"Technology\",\"Office Supplies\",\"Office Supplies\",\"Office Supplies\",\"Office Supplies\",\"Office Supplies\",\"Technology\",\"Office Supplies\",\"Technology\",\"Technology\",\"Furniture\",\"Office Supplies\",\"Office Supplies\",\"Office Supplies\",\"Furniture\",\"Furniture\",\"Office Supplies\",\"Office Supplies\",\"Office Supplies\",\"Office Supplies\",\"Office Supplies\",\"Office Supplies\",\"Office Supplies\",\"Office Supplies\",\"Technology\",\"Furniture\",\"Office Supplies\",\"Furniture\",\"Office Supplies\",\"Technology\",\"Office Supplies\",\"Furniture\",\"Office Supplies\",\"Office Supplies\",\"Office Supplies\",\"Office Supplies\",\"Office Supplies\",\"Furniture\",\"Furniture\",\"Office Supplies\",\"Office Supplies\",\"Office Supplies\",\"Office Supplies\",\"Furniture\",\"Office Supplies\",\"Office Supplies\",\"Office Supplies\",\"Office Supplies\",\"Office Supplies\",\"Furniture\",\"Office Supplies\",\"Office Supplies\",\"Office Supplies\",\"Office Supplies\",\"Office Supplies\",\"Office Supplies\",\"Furniture\",\"Office Supplies\",\"Office Supplies\",\"Technology\",\"Office Supplies\",\"Furniture\",\"Office Supplies\",\"Furniture\",\"Office Supplies\",\"Office Supplies\",\"Office Supplies\",\"Furniture\",\"Office Supplies\",\"Office Supplies\",\"Office Supplies\",\"Technology\",\"Office Supplies\",\"Office Supplies\",\"Office Supplies\",\"Office Supplies\",\"Office Supplies\",\"Technology\",\"Office Supplies\",\"Office Supplies\",\"Furniture\",\"Office Supplies\",\"Office Supplies\",\"Office Supplies\",\"Furniture\",\"Office Supplies\",\"Office Supplies\",\"Technology\",\"Technology\",\"Office Supplies\",\"Office Supplies\",\"Office Supplies\",\"Furniture\",\"Office Supplies\",\"Technology\",\"Furniture\",\"Technology\",\"Furniture\",\"Office Supplies\",\"Office Supplies\",\"Office Supplies\",\"Technology\",\"Furniture\",\"Office Supplies\",\"Office Supplies\",\"Furniture\",\"Furniture\",\"Technology\",\"Office Supplies\",\"Office Supplies\",\"Technology\",\"Office Supplies\",\"Office Supplies\",\"Office Supplies\",\"Technology\",\"Office Supplies\",\"Furniture\",\"Furniture\",\"Furniture\",\"Office Supplies\",\"Office Supplies\",\"Office Supplies\",\"Furniture\",\"Furniture\",\"Office Supplies\",\"Office Supplies\",\"Technology\",\"Office Supplies\",\"Office Supplies\",\"Office Supplies\",\"Office Supplies\",\"Office Supplies\",\"Furniture\",\"Technology\",\"Technology\",\"Office Supplies\",\"Technology\",\"Office Supplies\",\"Office Supplies\",\"Office Supplies\",\"Office Supplies\",\"Office Supplies\",\"Furniture\",\"Office Supplies\",\"Office Supplies\",\"Technology\",\"Technology\",\"Technology\",\"Office Supplies\",\"Furniture\",\"Furniture\",\"Office Supplies\",\"Office Supplies\",\"Office Supplies\",\"Office Supplies\",\"Office Supplies\",\"Technology\",\"Office Supplies\",\"Office Supplies\",\"Technology\",\"Office Supplies\",\"Office Supplies\",\"Office Supplies\",\"Furniture\",\"Office Supplies\",\"Office Supplies\",\"Technology\",\"Office Supplies\",\"Technology\",\"Office Supplies\",\"Office Supplies\",\"Technology\",\"Office Supplies\",\"Office Supplies\",\"Office Supplies\",\"Technology\",\"Office Supplies\",\"Office Supplies\",\"Office Supplies\",\"Furniture\",\"Technology\",\"Office Supplies\",\"Office Supplies\",\"Technology\",\"Office Supplies\",\"Office Supplies\",\"Technology\",\"Office Supplies\",\"Technology\",\"Office Supplies\",\"Office Supplies\",\"Furniture\",\"Technology\",\"Technology\",\"Technology\",\"Office Supplies\",\"Furniture\",\"Office Supplies\",\"Office Supplies\",\"Office Supplies\",\"Office Supplies\",\"Technology\",\"Furniture\",\"Technology\",\"Office Supplies\",\"Furniture\",\"Office Supplies\",\"Office Supplies\",\"Office Supplies\",\"Office Supplies\",\"Furniture\",\"Furniture\",\"Office Supplies\",\"Office Supplies\",\"Furniture\",\"Technology\",\"Technology\",\"Office Supplies\",\"Technology\",\"Office Supplies\",\"Office Supplies\",\"Furniture\",\"Office Supplies\",\"Furniture\",\"Office Supplies\",\"Office Supplies\",\"Office Supplies\",\"Office Supplies\",\"Office Supplies\",\"Technology\",\"Office Supplies\",\"Furniture\",\"Office Supplies\",\"Office Supplies\",\"Office Supplies\",\"Furniture\",\"Furniture\",\"Office Supplies\",\"Office Supplies\",\"Office Supplies\",\"Furniture\",\"Furniture\",\"Office Supplies\",\"Technology\",\"Technology\",\"Furniture\",\"Office Supplies\",\"Office Supplies\",\"Office Supplies\",\"Furniture\",\"Technology\",\"Office Supplies\",\"Office Supplies\",\"Office Supplies\",\"Office Supplies\",\"Office Supplies\",\"Office Supplies\",\"Technology\",\"Office Supplies\",\"Office Supplies\",\"Technology\",\"Technology\",\"Office Supplies\",\"Office Supplies\",\"Furniture\",\"Office Supplies\",\"Technology\",\"Office Supplies\",\"Office Supplies\",\"Office Supplies\",\"Office Supplies\",\"Office Supplies\",\"Furniture\",\"Furniture\",\"Office Supplies\",\"Office Supplies\",\"Office Supplies\",\"Office Supplies\",\"Technology\",\"Office Supplies\",\"Technology\",\"Office Supplies\",\"Furniture\",\"Office Supplies\",\"Furniture\",\"Office Supplies\",\"Office Supplies\",\"Furniture\",\"Office Supplies\",\"Office Supplies\",\"Office Supplies\",\"Office Supplies\",\"Office Supplies\",\"Office Supplies\",\"Technology\",\"Office Supplies\",\"Office Supplies\",\"Office Supplies\",\"Office Supplies\",\"Office Supplies\",\"Office Supplies\",\"Technology\",\"Office Supplies\",\"Office Supplies\",\"Office Supplies\",\"Office Supplies\",\"Technology\",\"Office Supplies\",\"Technology\",\"Technology\",\"Technology\",\"Technology\",\"Office Supplies\",\"Furniture\",\"Office Supplies\",\"Office Supplies\",\"Office Supplies\",\"Office Supplies\",\"Technology\",\"Office Supplies\",\"Furniture\",\"Office Supplies\",\"Office Supplies\",\"Furniture\",\"Office Supplies\",\"Office Supplies\",\"Technology\",\"Technology\",\"Office Supplies\",\"Technology\",\"Technology\",\"Furniture\",\"Office Supplies\",\"Furniture\",\"Furniture\",\"Furniture\",\"Furniture\",\"Office Supplies\",\"Office Supplies\",\"Office Supplies\",\"Office Supplies\",\"Furniture\",\"Office Supplies\",\"Office Supplies\",\"Furniture\",\"Office Supplies\",\"Office Supplies\",\"Furniture\",\"Furniture\",\"Technology\",\"Office Supplies\",\"Technology\",\"Technology\",\"Furniture\",\"Furniture\",\"Technology\",\"Office Supplies\",\"Office Supplies\",\"Office Supplies\",\"Office Supplies\",\"Furniture\",\"Office Supplies\",\"Office Supplies\",\"Furniture\",\"Office Supplies\",\"Furniture\",\"Technology\",\"Office Supplies\",\"Furniture\",\"Furniture\",\"Office Supplies\",\"Office Supplies\",\"Technology\",\"Office Supplies\",\"Office Supplies\",\"Office Supplies\",\"Office Supplies\",\"Office Supplies\",\"Office Supplies\",\"Office Supplies\",\"Office Supplies\",\"Technology\",\"Furniture\",\"Technology\",\"Office Supplies\",\"Furniture\",\"Furniture\",\"Technology\",\"Furniture\",\"Office Supplies\",\"Office Supplies\",\"Office Supplies\",\"Office Supplies\",\"Furniture\",\"Furniture\",\"Furniture\",\"Office Supplies\",\"Furniture\",\"Technology\",\"Furniture\",\"Technology\",\"Office Supplies\",\"Office Supplies\",\"Furniture\",\"Office Supplies\",\"Office Supplies\",\"Office Supplies\",\"Furniture\",\"Office Supplies\",\"Office Supplies\",\"Office Supplies\",\"Furniture\",\"Office Supplies\",\"Office Supplies\",\"Office Supplies\",\"Office Supplies\",\"Office Supplies\",\"Office Supplies\",\"Office Supplies\",\"Office Supplies\",\"Office Supplies\",\"Furniture\",\"Office Supplies\",\"Technology\",\"Office Supplies\",\"Furniture\",\"Technology\",\"Office Supplies\",\"Office Supplies\",\"Office Supplies\",\"Furniture\",\"Furniture\",\"Technology\",\"Office Supplies\",\"Technology\",\"Technology\",\"Office Supplies\",\"Office Supplies\",\"Office Supplies\",\"Office Supplies\",\"Technology\",\"Office Supplies\",\"Furniture\",\"Office Supplies\",\"Technology\",\"Office Supplies\",\"Office Supplies\",\"Technology\",\"Technology\",\"Office Supplies\",\"Office Supplies\",\"Office Supplies\",\"Technology\",\"Technology\",\"Furniture\",\"Furniture\",\"Office Supplies\",\"Technology\",\"Furniture\",\"Office Supplies\",\"Office Supplies\",\"Office Supplies\",\"Furniture\",\"Office Supplies\",\"Office Supplies\",\"Office Supplies\",\"Technology\",\"Office Supplies\",\"Office Supplies\",\"Furniture\",\"Furniture\",\"Office Supplies\",\"Office Supplies\",\"Technology\",\"Office Supplies\",\"Furniture\",\"Office Supplies\",\"Technology\",\"Technology\",\"Office Supplies\",\"Office Supplies\",\"Office Supplies\",\"Technology\",\"Technology\",\"Office Supplies\",\"Office Supplies\",\"Office Supplies\",\"Office Supplies\",\"Technology\",\"Office Supplies\",\"Office Supplies\",\"Technology\",\"Office Supplies\",\"Technology\",\"Office Supplies\",\"Office Supplies\",\"Technology\",\"Office Supplies\",\"Technology\",\"Furniture\",\"Office Supplies\",\"Furniture\",\"Office Supplies\",\"Office Supplies\",\"Technology\",\"Office Supplies\",\"Furniture\",\"Office Supplies\",\"Technology\",\"Office Supplies\",\"Furniture\",\"Office Supplies\",\"Office Supplies\",\"Office Supplies\",\"Office Supplies\",\"Office Supplies\",\"Office Supplies\",\"Office Supplies\",\"Furniture\",\"Office Supplies\",\"Technology\",\"Technology\",\"Technology\",\"Office Supplies\",\"Office Supplies\",\"Furniture\",\"Office Supplies\",\"Office Supplies\",\"Technology\",\"Furniture\",\"Office Supplies\",\"Office Supplies\",\"Office Supplies\",\"Technology\",\"Office Supplies\",\"Furniture\",\"Office Supplies\",\"Office Supplies\",\"Office Supplies\",\"Office Supplies\",\"Office Supplies\",\"Office Supplies\",\"Office Supplies\",\"Office Supplies\",\"Office Supplies\",\"Furniture\",\"Office Supplies\",\"Furniture\",\"Office Supplies\",\"Office Supplies\",\"Office Supplies\",\"Office Supplies\",\"Office Supplies\",\"Office Supplies\",\"Office Supplies\",\"Office Supplies\",\"Office Supplies\",\"Furniture\",\"Office Supplies\",\"Office Supplies\",\"Office Supplies\",\"Office Supplies\",\"Office Supplies\",\"Furniture\",\"Office Supplies\",\"Office Supplies\",\"Office Supplies\",\"Office Supplies\",\"Technology\",\"Office Supplies\",\"Furniture\",\"Office Supplies\",\"Office Supplies\",\"Furniture\",\"Office Supplies\",\"Furniture\",\"Furniture\",\"Technology\",\"Furniture\",\"Technology\",\"Furniture\",\"Office Supplies\",\"Office Supplies\",\"Office Supplies\",\"Office Supplies\",\"Office Supplies\",\"Office Supplies\",\"Furniture\",\"Technology\",\"Office Supplies\",\"Technology\",\"Furniture\",\"Office Supplies\",\"Furniture\",\"Office Supplies\",\"Technology\",\"Technology\",\"Furniture\",\"Office Supplies\",\"Office Supplies\",\"Office Supplies\",\"Office Supplies\",\"Technology\",\"Furniture\",\"Office Supplies\",\"Office Supplies\",\"Office Supplies\",\"Office Supplies\",\"Office Supplies\",\"Office Supplies\",\"Office Supplies\",\"Office Supplies\",\"Office Supplies\",\"Furniture\",\"Furniture\",\"Office Supplies\",\"Office Supplies\",\"Office Supplies\",\"Office Supplies\",\"Office Supplies\",\"Office Supplies\",\"Technology\",\"Office Supplies\",\"Office Supplies\",\"Furniture\",\"Office Supplies\",\"Technology\",\"Office Supplies\",\"Office Supplies\",\"Office Supplies\",\"Office Supplies\",\"Office Supplies\",\"Office Supplies\",\"Furniture\",\"Office Supplies\",\"Technology\",\"Office Supplies\",\"Furniture\",\"Furniture\",\"Office Supplies\",\"Office Supplies\",\"Office Supplies\",\"Office Supplies\",\"Furniture\",\"Furniture\",\"Office Supplies\",\"Office Supplies\",\"Technology\",\"Technology\",\"Furniture\",\"Office Supplies\",\"Office Supplies\",\"Office Supplies\",\"Furniture\",\"Office Supplies\",\"Office Supplies\",\"Office Supplies\",\"Technology\",\"Furniture\",\"Office Supplies\",\"Office Supplies\",\"Office Supplies\",\"Office Supplies\",\"Furniture\",\"Office Supplies\",\"Technology\",\"Office Supplies\",\"Furniture\",\"Office Supplies\",\"Office Supplies\",\"Furniture\",\"Technology\",\"Furniture\",\"Technology\",\"Office Supplies\",\"Office Supplies\",\"Furniture\",\"Office Supplies\",\"Office Supplies\",\"Office Supplies\",\"Office Supplies\",\"Office Supplies\",\"Furniture\",\"Office Supplies\",\"Office Supplies\",\"Technology\",\"Office Supplies\",\"Furniture\",\"Office Supplies\",\"Office Supplies\",\"Office Supplies\",\"Technology\",\"Technology\",\"Furniture\",\"Office Supplies\",\"Office Supplies\",\"Office Supplies\",\"Office Supplies\",\"Office Supplies\",\"Office Supplies\",\"Office Supplies\",\"Office Supplies\",\"Office Supplies\",\"Furniture\",\"Technology\",\"Technology\",\"Furniture\",\"Office Supplies\",\"Technology\",\"Office Supplies\",\"Furniture\",\"Technology\",\"Office Supplies\",\"Office Supplies\",\"Office Supplies\",\"Office Supplies\",\"Office Supplies\",\"Technology\",\"Office Supplies\",\"Office Supplies\",\"Office Supplies\",\"Office Supplies\",\"Furniture\",\"Technology\",\"Office Supplies\",\"Furniture\",\"Furniture\",\"Office Supplies\",\"Office Supplies\",\"Technology\",\"Office Supplies\",\"Technology\",\"Office Supplies\",\"Office Supplies\",\"Furniture\",\"Office Supplies\",\"Office Supplies\",\"Office Supplies\",\"Furniture\",\"Office Supplies\",\"Office Supplies\",\"Office Supplies\",\"Technology\",\"Technology\",\"Office Supplies\",\"Furniture\",\"Office Supplies\",\"Furniture\",\"Office Supplies\",\"Technology\",\"Furniture\",\"Office Supplies\",\"Office Supplies\",\"Furniture\",\"Office Supplies\",\"Technology\",\"Technology\",\"Office Supplies\",\"Office Supplies\",\"Office Supplies\",\"Furniture\",\"Office Supplies\",\"Office Supplies\",\"Technology\",\"Office Supplies\",\"Office Supplies\",\"Office Supplies\",\"Office Supplies\",\"Technology\",\"Office Supplies\",\"Office Supplies\",\"Office Supplies\",\"Office Supplies\",\"Office Supplies\",\"Office Supplies\",\"Office Supplies\",\"Office Supplies\",\"Technology\",\"Furniture\",\"Furniture\",\"Office Supplies\",\"Office Supplies\",\"Technology\",\"Technology\",\"Furniture\",\"Technology\",\"Office Supplies\",\"Office Supplies\",\"Office Supplies\",\"Office Supplies\",\"Office Supplies\",\"Office Supplies\",\"Office Supplies\",\"Office Supplies\",\"Furniture\",\"Technology\",\"Furniture\",\"Furniture\",\"Office Supplies\",\"Furniture\",\"Technology\",\"Furniture\",\"Furniture\",\"Furniture\",\"Office Supplies\",\"Technology\",\"Office Supplies\",\"Office Supplies\",\"Office Supplies\",\"Office Supplies\",\"Office Supplies\",\"Furniture\",\"Technology\",\"Furniture\",\"Office Supplies\",\"Technology\",\"Furniture\",\"Office Supplies\",\"Furniture\",\"Technology\",\"Technology\",\"Technology\",\"Office Supplies\",\"Office Supplies\",\"Technology\",\"Furniture\",\"Office Supplies\",\"Furniture\",\"Office Supplies\",\"Technology\",\"Furniture\",\"Office Supplies\",\"Office Supplies\",\"Office Supplies\",\"Office Supplies\",\"Office Supplies\",\"Office Supplies\",\"Office Supplies\",\"Furniture\",\"Office Supplies\",\"Technology\",\"Office Supplies\",\"Technology\",\"Office Supplies\",\"Office Supplies\",\"Office Supplies\",\"Office Supplies\",\"Office Supplies\",\"Furniture\",\"Office Supplies\",\"Office Supplies\",\"Furniture\",\"Office Supplies\",\"Office Supplies\",\"Office Supplies\",\"Office Supplies\",\"Office Supplies\",\"Office Supplies\",\"Office Supplies\",\"Office Supplies\",\"Office Supplies\",\"Office Supplies\",\"Office Supplies\",\"Furniture\",\"Technology\",\"Office Supplies\",\"Office Supplies\",\"Office Supplies\",\"Office Supplies\",\"Furniture\",\"Office Supplies\",\"Office Supplies\",\"Office Supplies\",\"Office Supplies\",\"Office Supplies\",\"Furniture\",\"Office Supplies\",\"Technology\",\"Technology\",\"Furniture\",\"Furniture\",\"Furniture\",\"Office Supplies\",\"Office Supplies\",\"Office Supplies\",\"Furniture\",\"Office Supplies\",\"Office Supplies\",\"Furniture\",\"Office Supplies\",\"Furniture\",\"Office Supplies\",\"Technology\",\"Furniture\",\"Office Supplies\",\"Office Supplies\",\"Furniture\",\"Office Supplies\",\"Office Supplies\",\"Office Supplies\",\"Office Supplies\",\"Office Supplies\",\"Office Supplies\",\"Furniture\",\"Office Supplies\",\"Office Supplies\",\"Office Supplies\",\"Technology\",\"Technology\",\"Office Supplies\",\"Office Supplies\",\"Office Supplies\",\"Office Supplies\",\"Technology\",\"Furniture\",\"Office Supplies\",\"Technology\",\"Technology\",\"Office Supplies\",\"Office Supplies\",\"Office Supplies\",\"Office Supplies\",\"Office Supplies\",\"Office Supplies\",\"Office Supplies\",\"Furniture\",\"Technology\",\"Technology\",\"Technology\",\"Office Supplies\",\"Technology\",\"Furniture\",\"Office Supplies\",\"Office Supplies\",\"Office Supplies\",\"Furniture\",\"Furniture\",\"Furniture\",\"Technology\",\"Office Supplies\",\"Technology\",\"Office Supplies\",\"Technology\",\"Office Supplies\",\"Office Supplies\",\"Technology\",\"Office Supplies\",\"Furniture\",\"Office Supplies\",\"Office Supplies\",\"Office Supplies\",\"Furniture\",\"Office Supplies\",\"Furniture\",\"Furniture\",\"Technology\",\"Office Supplies\",\"Office Supplies\",\"Furniture\",\"Furniture\",\"Office Supplies\",\"Furniture\",\"Technology\",\"Furniture\",\"Office Supplies\",\"Technology\",\"Office Supplies\",\"Technology\",\"Office Supplies\",\"Furniture\",\"Office Supplies\",\"Office Supplies\",\"Office Supplies\",\"Technology\",\"Office Supplies\",\"Technology\",\"Technology\",\"Office Supplies\",\"Office Supplies\",\"Office Supplies\",\"Office Supplies\",\"Office Supplies\",\"Office Supplies\",\"Office Supplies\",\"Office Supplies\",\"Office Supplies\",\"Technology\",\"Office Supplies\",\"Office Supplies\",\"Office Supplies\",\"Office Supplies\",\"Office Supplies\",\"Furniture\",\"Furniture\",\"Office Supplies\",\"Furniture\",\"Technology\",\"Office Supplies\",\"Office Supplies\",\"Furniture\",\"Office Supplies\",\"Office Supplies\",\"Office Supplies\",\"Office Supplies\",\"Technology\",\"Furniture\",\"Office Supplies\",\"Office Supplies\",\"Office Supplies\",\"Office Supplies\",\"Office Supplies\",\"Technology\",\"Office Supplies\",\"Office Supplies\",\"Technology\",\"Furniture\",\"Technology\",\"Furniture\",\"Office Supplies\",\"Office Supplies\",\"Office Supplies\",\"Office Supplies\",\"Office Supplies\",\"Office Supplies\",\"Office Supplies\",\"Office Supplies\",\"Office Supplies\",\"Office Supplies\",\"Furniture\",\"Office Supplies\",\"Technology\",\"Technology\",\"Office Supplies\",\"Technology\",\"Office Supplies\",\"Technology\",\"Furniture\",\"Office Supplies\",\"Office Supplies\",\"Furniture\",\"Office Supplies\",\"Office Supplies\",\"Office Supplies\",\"Office Supplies\",\"Technology\",\"Office Supplies\",\"Office Supplies\",\"Technology\",\"Office Supplies\",\"Office Supplies\",\"Office Supplies\",\"Office Supplies\",\"Office Supplies\",\"Office Supplies\",\"Office Supplies\",\"Technology\",\"Office Supplies\",\"Technology\",\"Furniture\",\"Technology\",\"Technology\",\"Furniture\",\"Furniture\",\"Furniture\",\"Office Supplies\",\"Furniture\",\"Office Supplies\",\"Office Supplies\",\"Furniture\",\"Office Supplies\",\"Technology\",\"Office Supplies\",\"Office Supplies\",\"Furniture\",\"Office Supplies\",\"Office Supplies\",\"Technology\",\"Technology\",\"Furniture\",\"Office Supplies\",\"Furniture\",\"Office Supplies\",\"Office Supplies\",\"Office Supplies\",\"Office Supplies\",\"Technology\",\"Office Supplies\",\"Technology\",\"Office Supplies\",\"Furniture\",\"Office Supplies\",\"Technology\",\"Office Supplies\",\"Office Supplies\",\"Technology\",\"Furniture\",\"Office Supplies\",\"Office Supplies\",\"Office Supplies\",\"Office Supplies\",\"Furniture\",\"Office Supplies\",\"Office Supplies\",\"Office Supplies\",\"Technology\",\"Furniture\",\"Technology\",\"Office Supplies\",\"Office Supplies\",\"Furniture\",\"Office Supplies\",\"Technology\",\"Furniture\",\"Furniture\",\"Technology\",\"Office Supplies\",\"Office Supplies\",\"Office Supplies\",\"Technology\",\"Office Supplies\",\"Office Supplies\",\"Office Supplies\",\"Office Supplies\",\"Office Supplies\",\"Technology\",\"Furniture\",\"Furniture\",\"Office Supplies\",\"Office Supplies\",\"Technology\",\"Office Supplies\",\"Furniture\",\"Office Supplies\",\"Office Supplies\",\"Furniture\",\"Furniture\",\"Furniture\",\"Office Supplies\",\"Office Supplies\",\"Office Supplies\",\"Office Supplies\",\"Technology\",\"Office Supplies\",\"Office Supplies\",\"Office Supplies\",\"Technology\",\"Technology\",\"Office Supplies\",\"Technology\",\"Technology\",\"Technology\",\"Office Supplies\",\"Office Supplies\",\"Furniture\",\"Furniture\",\"Furniture\",\"Furniture\",\"Office Supplies\",\"Office Supplies\",\"Office Supplies\",\"Office Supplies\",\"Office Supplies\",\"Furniture\",\"Technology\",\"Office Supplies\",\"Technology\",\"Furniture\",\"Furniture\",\"Office Supplies\",\"Office Supplies\",\"Furniture\",\"Technology\",\"Furniture\",\"Office Supplies\",\"Office Supplies\",\"Office Supplies\",\"Furniture\",\"Office Supplies\",\"Office Supplies\",\"Office Supplies\",\"Office Supplies\",\"Furniture\",\"Technology\",\"Office Supplies\",\"Office Supplies\",\"Office Supplies\",\"Furniture\",\"Office Supplies\",\"Technology\",\"Office Supplies\",\"Furniture\",\"Office Supplies\",\"Office Supplies\",\"Furniture\",\"Office Supplies\",\"Office Supplies\",\"Office Supplies\",\"Office Supplies\",\"Office Supplies\",\"Office Supplies\",\"Office Supplies\",\"Office Supplies\",\"Technology\",\"Office Supplies\",\"Technology\",\"Technology\",\"Office Supplies\",\"Office Supplies\",\"Office Supplies\",\"Office Supplies\",\"Office Supplies\",\"Office Supplies\",\"Office Supplies\",\"Office Supplies\",\"Technology\",\"Furniture\",\"Furniture\",\"Office Supplies\",\"Technology\",\"Technology\",\"Office Supplies\",\"Office Supplies\",\"Furniture\",\"Office Supplies\",\"Furniture\",\"Office Supplies\",\"Technology\",\"Office Supplies\",\"Office Supplies\",\"Office Supplies\",\"Furniture\",\"Technology\",\"Office Supplies\",\"Furniture\",\"Office Supplies\",\"Technology\",\"Office Supplies\",\"Technology\",\"Technology\",\"Technology\",\"Office Supplies\",\"Furniture\",\"Office Supplies\",\"Office Supplies\",\"Office Supplies\",\"Office Supplies\",\"Office Supplies\",\"Technology\",\"Furniture\",\"Office Supplies\",\"Technology\",\"Office Supplies\",\"Technology\",\"Furniture\",\"Technology\",\"Office Supplies\",\"Office Supplies\",\"Technology\",\"Office Supplies\",\"Furniture\",\"Technology\",\"Office Supplies\",\"Technology\",\"Office Supplies\",\"Furniture\",\"Furniture\",\"Technology\",\"Technology\",\"Furniture\",\"Technology\",\"Office Supplies\",\"Furniture\",\"Office Supplies\",\"Furniture\",\"Office Supplies\",\"Technology\",\"Technology\",\"Office Supplies\",\"Office Supplies\",\"Technology\",\"Furniture\",\"Office Supplies\",\"Office Supplies\",\"Technology\",\"Office Supplies\",\"Office Supplies\",\"Office Supplies\",\"Office Supplies\",\"Office Supplies\",\"Office Supplies\",\"Office Supplies\",\"Technology\",\"Technology\",\"Office Supplies\",\"Furniture\",\"Office Supplies\",\"Office Supplies\",\"Office Supplies\",\"Office Supplies\",\"Furniture\",\"Furniture\",\"Technology\",\"Office Supplies\",\"Office Supplies\",\"Technology\",\"Technology\",\"Technology\",\"Furniture\",\"Office Supplies\",\"Furniture\",\"Office Supplies\",\"Furniture\",\"Office Supplies\",\"Office Supplies\",\"Office Supplies\",\"Technology\",\"Technology\",\"Office Supplies\",\"Furniture\",\"Office Supplies\",\"Office Supplies\",\"Office Supplies\",\"Technology\",\"Office Supplies\",\"Furniture\",\"Office Supplies\",\"Office Supplies\",\"Furniture\",\"Office Supplies\",\"Office Supplies\",\"Furniture\",\"Furniture\",\"Office Supplies\",\"Furniture\",\"Furniture\",\"Technology\",\"Furniture\",\"Office Supplies\",\"Furniture\",\"Furniture\",\"Office Supplies\",\"Office Supplies\",\"Furniture\",\"Technology\",\"Office Supplies\",\"Office Supplies\",\"Office Supplies\",\"Furniture\",\"Office Supplies\",\"Office Supplies\",\"Office Supplies\",\"Office Supplies\",\"Office Supplies\",\"Office Supplies\",\"Technology\",\"Office Supplies\",\"Office Supplies\",\"Office Supplies\",\"Office Supplies\",\"Office Supplies\",\"Technology\",\"Office Supplies\",\"Furniture\",\"Office Supplies\",\"Office Supplies\",\"Technology\",\"Furniture\",\"Office Supplies\",\"Office Supplies\",\"Furniture\",\"Office Supplies\",\"Office Supplies\",\"Office Supplies\",\"Office Supplies\",\"Furniture\",\"Furniture\",\"Office Supplies\",\"Office Supplies\",\"Furniture\",\"Furniture\",\"Technology\",\"Technology\",\"Furniture\",\"Office Supplies\",\"Office Supplies\",\"Office Supplies\",\"Office Supplies\",\"Office Supplies\",\"Office Supplies\",\"Office Supplies\",\"Office Supplies\",\"Furniture\",\"Office Supplies\",\"Furniture\",\"Office Supplies\",\"Office Supplies\",\"Office Supplies\",\"Furniture\",\"Furniture\",\"Office Supplies\",\"Office Supplies\",\"Technology\",\"Office Supplies\",\"Office Supplies\",\"Office Supplies\",\"Furniture\",\"Office Supplies\",\"Furniture\",\"Office Supplies\",\"Office Supplies\",\"Office Supplies\",\"Office Supplies\",\"Furniture\",\"Office Supplies\",\"Office Supplies\",\"Office Supplies\",\"Furniture\",\"Technology\",\"Office Supplies\",\"Technology\",\"Furniture\",\"Technology\",\"Office Supplies\",\"Office Supplies\",\"Office Supplies\",\"Office Supplies\",\"Furniture\",\"Office Supplies\",\"Office Supplies\",\"Office Supplies\",\"Office Supplies\",\"Office Supplies\",\"Office Supplies\",\"Office Supplies\",\"Office Supplies\",\"Office Supplies\",\"Technology\",\"Office Supplies\",\"Technology\",\"Office Supplies\",\"Office Supplies\",\"Furniture\",\"Furniture\",\"Office Supplies\",\"Office Supplies\",\"Office Supplies\",\"Office Supplies\",\"Furniture\",\"Furniture\",\"Office Supplies\",\"Office Supplies\",\"Furniture\",\"Office Supplies\",\"Office Supplies\",\"Furniture\",\"Technology\",\"Technology\",\"Office Supplies\",\"Office Supplies\",\"Office Supplies\",\"Office Supplies\",\"Office Supplies\",\"Furniture\",\"Furniture\",\"Furniture\",\"Office Supplies\",\"Furniture\",\"Furniture\",\"Furniture\",\"Office Supplies\",\"Office Supplies\",\"Technology\",\"Office Supplies\",\"Furniture\",\"Furniture\",\"Technology\",\"Technology\",\"Technology\",\"Furniture\",\"Office Supplies\",\"Office Supplies\",\"Office Supplies\",\"Office Supplies\",\"Office Supplies\",\"Furniture\",\"Furniture\",\"Office Supplies\",\"Furniture\",\"Furniture\",\"Office Supplies\",\"Office Supplies\",\"Office Supplies\",\"Office Supplies\",\"Furniture\",\"Office Supplies\",\"Office Supplies\",\"Furniture\",\"Office Supplies\",\"Furniture\",\"Office Supplies\",\"Furniture\",\"Office Supplies\",\"Furniture\",\"Furniture\",\"Office Supplies\",\"Office Supplies\",\"Furniture\",\"Furniture\",\"Office Supplies\",\"Office Supplies\",\"Technology\",\"Office Supplies\",\"Office Supplies\",\"Office Supplies\",\"Office Supplies\",\"Office Supplies\",\"Office Supplies\",\"Office Supplies\",\"Office Supplies\",\"Furniture\",\"Technology\",\"Technology\",\"Office Supplies\",\"Office Supplies\",\"Office Supplies\",\"Office Supplies\",\"Office Supplies\",\"Office Supplies\",\"Office Supplies\",\"Office Supplies\",\"Furniture\",\"Office Supplies\",\"Office Supplies\",\"Technology\",\"Office Supplies\",\"Office Supplies\",\"Office Supplies\",\"Furniture\",\"Office Supplies\",\"Furniture\",\"Technology\",\"Office Supplies\",\"Office Supplies\",\"Furniture\",\"Office Supplies\",\"Furniture\",\"Office Supplies\",\"Office Supplies\",\"Furniture\",\"Office Supplies\",\"Furniture\",\"Technology\",\"Furniture\",\"Office Supplies\",\"Furniture\",\"Office Supplies\",\"Technology\",\"Office Supplies\",\"Office Supplies\",\"Office Supplies\",\"Furniture\",\"Furniture\",\"Furniture\",\"Office Supplies\",\"Office Supplies\",\"Furniture\",\"Technology\",\"Office Supplies\",\"Office Supplies\",\"Office Supplies\",\"Furniture\",\"Technology\",\"Furniture\",\"Office Supplies\",\"Office Supplies\",\"Technology\",\"Office Supplies\",\"Technology\",\"Office Supplies\",\"Office Supplies\",\"Furniture\",\"Furniture\",\"Technology\",\"Office Supplies\",\"Technology\",\"Technology\",\"Office Supplies\",\"Technology\",\"Technology\",\"Office Supplies\",\"Office Supplies\",\"Office Supplies\",\"Office Supplies\",\"Furniture\",\"Office Supplies\",\"Office Supplies\",\"Furniture\",\"Office Supplies\",\"Furniture\",\"Furniture\",\"Office Supplies\",\"Office Supplies\",\"Technology\",\"Office Supplies\",\"Technology\",\"Office Supplies\",\"Office Supplies\",\"Technology\",\"Furniture\",\"Office Supplies\",\"Furniture\",\"Technology\",\"Office Supplies\",\"Technology\",\"Office Supplies\",\"Office Supplies\",\"Office Supplies\",\"Office Supplies\",\"Office Supplies\",\"Office Supplies\",\"Furniture\",\"Office Supplies\",\"Furniture\",\"Office Supplies\",\"Furniture\",\"Office Supplies\",\"Office Supplies\",\"Office Supplies\",\"Office Supplies\",\"Office Supplies\",\"Office Supplies\",\"Office Supplies\",\"Office Supplies\",\"Office Supplies\",\"Technology\",\"Office Supplies\",\"Office Supplies\",\"Furniture\",\"Office Supplies\",\"Office Supplies\",\"Furniture\",\"Technology\",\"Furniture\",\"Office Supplies\",\"Office Supplies\",\"Office Supplies\",\"Office Supplies\",\"Office Supplies\",\"Technology\",\"Office Supplies\",\"Furniture\",\"Furniture\",\"Technology\",\"Technology\",\"Furniture\",\"Office Supplies\",\"Office Supplies\",\"Office Supplies\",\"Technology\",\"Office Supplies\",\"Technology\",\"Furniture\",\"Office Supplies\",\"Office Supplies\",\"Technology\",\"Office Supplies\",\"Furniture\",\"Furniture\",\"Technology\",\"Office Supplies\",\"Office Supplies\",\"Office Supplies\",\"Technology\",\"Technology\",\"Technology\",\"Furniture\",\"Office Supplies\",\"Office Supplies\",\"Furniture\",\"Technology\",\"Office Supplies\",\"Technology\",\"Office Supplies\",\"Office Supplies\",\"Office Supplies\",\"Office Supplies\",\"Office Supplies\",\"Technology\",\"Office Supplies\",\"Furniture\",\"Furniture\",\"Office Supplies\",\"Office Supplies\",\"Office Supplies\",\"Furniture\",\"Office Supplies\",\"Office Supplies\",\"Furniture\",\"Technology\",\"Office Supplies\",\"Furniture\",\"Furniture\",\"Office Supplies\",\"Office Supplies\",\"Technology\",\"Office Supplies\",\"Office Supplies\",\"Office Supplies\",\"Office Supplies\",\"Technology\",\"Office Supplies\",\"Office Supplies\",\"Office Supplies\",\"Technology\",\"Office Supplies\",\"Office Supplies\",\"Office Supplies\",\"Office Supplies\",\"Technology\",\"Office Supplies\",\"Technology\",\"Office Supplies\",\"Furniture\",\"Office Supplies\",\"Technology\",\"Technology\",\"Furniture\",\"Office Supplies\",\"Furniture\",\"Office Supplies\",\"Technology\",\"Technology\",\"Office Supplies\",\"Office Supplies\",\"Office Supplies\",\"Office Supplies\",\"Office Supplies\",\"Office Supplies\",\"Technology\",\"Office Supplies\",\"Technology\",\"Office Supplies\",\"Office Supplies\",\"Technology\",\"Office Supplies\",\"Office Supplies\",\"Technology\",\"Office Supplies\",\"Office Supplies\",\"Technology\",\"Technology\",\"Office Supplies\",\"Furniture\",\"Office Supplies\",\"Office Supplies\",\"Office Supplies\",\"Office Supplies\",\"Furniture\",\"Office Supplies\",\"Office Supplies\",\"Furniture\",\"Technology\",\"Furniture\",\"Office Supplies\",\"Office Supplies\",\"Technology\",\"Furniture\",\"Technology\",\"Office Supplies\",\"Office Supplies\",\"Furniture\",\"Technology\",\"Office Supplies\",\"Furniture\",\"Office Supplies\",\"Technology\",\"Technology\",\"Office Supplies\",\"Office Supplies\",\"Furniture\",\"Office Supplies\",\"Office Supplies\",\"Office Supplies\",\"Technology\",\"Office Supplies\",\"Office Supplies\",\"Office Supplies\",\"Office Supplies\",\"Office Supplies\",\"Technology\",\"Technology\",\"Technology\",\"Office Supplies\",\"Technology\",\"Furniture\",\"Technology\",\"Office Supplies\",\"Office Supplies\",\"Office Supplies\",\"Technology\",\"Office Supplies\",\"Office Supplies\",\"Office Supplies\",\"Technology\",\"Office Supplies\",\"Furniture\",\"Office Supplies\",\"Office Supplies\",\"Office Supplies\",\"Technology\",\"Office Supplies\",\"Technology\",\"Technology\",\"Office Supplies\",\"Office Supplies\",\"Furniture\",\"Office Supplies\",\"Technology\",\"Office Supplies\",\"Office Supplies\",\"Technology\",\"Office Supplies\",\"Office Supplies\",\"Technology\",\"Furniture\",\"Office Supplies\",\"Office Supplies\",\"Technology\",\"Technology\",\"Office Supplies\",\"Technology\",\"Office Supplies\",\"Office Supplies\",\"Furniture\",\"Furniture\",\"Office Supplies\",\"Furniture\",\"Office Supplies\",\"Furniture\",\"Office Supplies\",\"Office Supplies\",\"Office Supplies\",\"Furniture\",\"Office Supplies\",\"Office Supplies\",\"Furniture\",\"Office Supplies\",\"Office Supplies\",\"Office Supplies\",\"Office Supplies\",\"Office Supplies\",\"Technology\",\"Technology\",\"Technology\",\"Technology\",\"Furniture\",\"Office Supplies\",\"Technology\",\"Furniture\",\"Furniture\",\"Office Supplies\",\"Office Supplies\",\"Office Supplies\",\"Office Supplies\",\"Furniture\",\"Technology\",\"Office Supplies\",\"Office Supplies\",\"Office Supplies\",\"Office Supplies\",\"Office Supplies\",\"Office Supplies\",\"Technology\",\"Furniture\",\"Technology\",\"Technology\",\"Furniture\",\"Office Supplies\",\"Office Supplies\",\"Office Supplies\",\"Office Supplies\",\"Technology\",\"Office Supplies\",\"Furniture\",\"Office Supplies\",\"Office Supplies\",\"Furniture\",\"Furniture\",\"Office Supplies\",\"Office Supplies\",\"Furniture\",\"Office Supplies\",\"Technology\",\"Office Supplies\",\"Office Supplies\",\"Furniture\",\"Furniture\",\"Technology\",\"Furniture\",\"Office Supplies\",\"Office Supplies\",\"Office Supplies\",\"Furniture\",\"Office Supplies\",\"Office Supplies\",\"Furniture\",\"Technology\",\"Office Supplies\",\"Office Supplies\",\"Technology\",\"Office Supplies\",\"Furniture\",\"Office Supplies\",\"Technology\",\"Technology\",\"Office Supplies\",\"Office Supplies\",\"Office Supplies\",\"Office Supplies\",\"Office Supplies\",\"Technology\",\"Office Supplies\",\"Office Supplies\",\"Office Supplies\",\"Furniture\",\"Furniture\",\"Office Supplies\",\"Furniture\",\"Furniture\",\"Office Supplies\",\"Furniture\",\"Office Supplies\",\"Office Supplies\",\"Office Supplies\",\"Office Supplies\",\"Office Supplies\",\"Office Supplies\",\"Office Supplies\",\"Office Supplies\",\"Office Supplies\",\"Office Supplies\",\"Furniture\",\"Office Supplies\",\"Office Supplies\",\"Technology\",\"Office Supplies\",\"Technology\",\"Office Supplies\",\"Furniture\",\"Office Supplies\",\"Furniture\",\"Office Supplies\",\"Office Supplies\",\"Furniture\",\"Office Supplies\",\"Office Supplies\",\"Office Supplies\",\"Office Supplies\",\"Furniture\",\"Furniture\",\"Furniture\",\"Office Supplies\",\"Office Supplies\",\"Office Supplies\",\"Office Supplies\",\"Office Supplies\",\"Office Supplies\",\"Office Supplies\",\"Office Supplies\",\"Office Supplies\",\"Office Supplies\",\"Office Supplies\",\"Office Supplies\",\"Office Supplies\",\"Technology\",\"Office Supplies\",\"Office Supplies\",\"Office Supplies\",\"Technology\",\"Furniture\",\"Office Supplies\",\"Office Supplies\",\"Technology\",\"Technology\",\"Office Supplies\",\"Office Supplies\",\"Technology\",\"Office Supplies\",\"Furniture\",\"Office Supplies\",\"Furniture\",\"Office Supplies\",\"Furniture\",\"Office Supplies\",\"Technology\",\"Furniture\",\"Technology\",\"Technology\",\"Office Supplies\",\"Technology\",\"Office Supplies\",\"Office Supplies\",\"Furniture\",\"Furniture\",\"Technology\",\"Furniture\",\"Furniture\",\"Office Supplies\",\"Technology\",\"Office Supplies\",\"Furniture\",\"Furniture\",\"Office Supplies\",\"Office Supplies\",\"Office Supplies\",\"Technology\",\"Technology\",\"Furniture\",\"Furniture\",\"Office Supplies\",\"Office Supplies\",\"Technology\",\"Office Supplies\",\"Office Supplies\",\"Office Supplies\",\"Technology\",\"Office Supplies\",\"Technology\",\"Office Supplies\",\"Furniture\",\"Office Supplies\",\"Office Supplies\",\"Technology\",\"Office Supplies\",\"Furniture\",\"Office Supplies\",\"Office Supplies\",\"Technology\",\"Office Supplies\",\"Technology\",\"Office Supplies\",\"Furniture\",\"Office Supplies\",\"Office Supplies\",\"Technology\",\"Technology\",\"Technology\",\"Technology\",\"Technology\",\"Office Supplies\",\"Technology\",\"Technology\",\"Office Supplies\",\"Office Supplies\",\"Technology\",\"Office Supplies\",\"Office Supplies\",\"Office Supplies\",\"Office Supplies\",\"Office Supplies\",\"Office Supplies\",\"Office Supplies\",\"Office Supplies\",\"Furniture\",\"Furniture\",\"Office Supplies\",\"Office Supplies\",\"Office Supplies\",\"Office Supplies\",\"Office Supplies\",\"Furniture\",\"Office Supplies\",\"Office Supplies\",\"Furniture\",\"Technology\",\"Office Supplies\",\"Office Supplies\",\"Technology\",\"Office Supplies\",\"Office Supplies\",\"Office Supplies\",\"Technology\",\"Office Supplies\",\"Office Supplies\",\"Office Supplies\",\"Office Supplies\",\"Office Supplies\",\"Office Supplies\",\"Office Supplies\",\"Furniture\",\"Technology\",\"Technology\",\"Technology\",\"Technology\",\"Office Supplies\",\"Office Supplies\",\"Office Supplies\",\"Office Supplies\",\"Office Supplies\",\"Office Supplies\",\"Office Supplies\",\"Office Supplies\",\"Furniture\",\"Office Supplies\",\"Office Supplies\",\"Furniture\",\"Furniture\",\"Office Supplies\",\"Office Supplies\",\"Technology\",\"Office Supplies\",\"Office Supplies\",\"Office Supplies\",\"Office Supplies\",\"Office Supplies\",\"Office Supplies\",\"Office Supplies\",\"Office Supplies\",\"Office Supplies\",\"Technology\",\"Furniture\",\"Technology\",\"Technology\",\"Office Supplies\",\"Furniture\",\"Office Supplies\",\"Furniture\",\"Furniture\",\"Office Supplies\",\"Office Supplies\",\"Office Supplies\",\"Office Supplies\",\"Office Supplies\",\"Technology\",\"Office Supplies\",\"Technology\",\"Furniture\",\"Office Supplies\",\"Office Supplies\",\"Office Supplies\",\"Technology\",\"Office Supplies\",\"Office Supplies\",\"Technology\",\"Furniture\",\"Office Supplies\",\"Furniture\",\"Office Supplies\",\"Office Supplies\",\"Technology\",\"Office Supplies\",\"Office Supplies\",\"Office Supplies\",\"Office Supplies\",\"Office Supplies\",\"Office Supplies\",\"Technology\",\"Office Supplies\",\"Office Supplies\",\"Office Supplies\",\"Furniture\",\"Office Supplies\",\"Technology\",\"Office Supplies\",\"Office Supplies\",\"Office Supplies\",\"Office Supplies\",\"Office Supplies\",\"Office Supplies\",\"Office Supplies\",\"Office Supplies\",\"Office Supplies\",\"Technology\",\"Office Supplies\",\"Office Supplies\",\"Office Supplies\",\"Office Supplies\",\"Office Supplies\",\"Technology\",\"Office Supplies\",\"Furniture\",\"Furniture\",\"Office Supplies\",\"Technology\",\"Technology\",\"Office Supplies\",\"Office Supplies\",\"Office Supplies\",\"Technology\",\"Office Supplies\",\"Technology\",\"Office Supplies\",\"Office Supplies\",\"Office Supplies\",\"Office Supplies\",\"Office Supplies\",\"Furniture\",\"Office Supplies\",\"Furniture\",\"Office Supplies\",\"Technology\",\"Furniture\",\"Office Supplies\",\"Office Supplies\",\"Office Supplies\",\"Office Supplies\",\"Office Supplies\",\"Office Supplies\",\"Office Supplies\",\"Office Supplies\",\"Office Supplies\",\"Office Supplies\",\"Technology\",\"Technology\",\"Technology\",\"Furniture\",\"Office Supplies\",\"Office Supplies\",\"Office Supplies\",\"Furniture\",\"Office Supplies\",\"Technology\",\"Furniture\",\"Furniture\",\"Office Supplies\",\"Office Supplies\",\"Technology\",\"Office Supplies\",\"Office Supplies\",\"Furniture\",\"Office Supplies\",\"Technology\",\"Furniture\",\"Office Supplies\",\"Technology\",\"Furniture\",\"Office Supplies\",\"Furniture\",\"Office Supplies\",\"Office Supplies\",\"Technology\",\"Office Supplies\",\"Furniture\",\"Office Supplies\",\"Office Supplies\",\"Office Supplies\",\"Office Supplies\",\"Office Supplies\",\"Office Supplies\",\"Office Supplies\",\"Office Supplies\",\"Office Supplies\",\"Office Supplies\",\"Technology\",\"Technology\",\"Office Supplies\",\"Office Supplies\",\"Furniture\",\"Technology\",\"Office Supplies\",\"Technology\",\"Technology\",\"Office Supplies\",\"Office Supplies\",\"Office Supplies\",\"Office Supplies\",\"Office Supplies\",\"Office Supplies\",\"Furniture\",\"Furniture\",\"Office Supplies\",\"Technology\",\"Office Supplies\",\"Furniture\",\"Office Supplies\",\"Office Supplies\",\"Office Supplies\",\"Office Supplies\",\"Furniture\",\"Office Supplies\",\"Office Supplies\",\"Office Supplies\",\"Furniture\",\"Office Supplies\",\"Furniture\",\"Office Supplies\",\"Office Supplies\",\"Furniture\",\"Office Supplies\",\"Technology\",\"Furniture\",\"Office Supplies\",\"Furniture\",\"Office Supplies\",\"Technology\",\"Office Supplies\",\"Technology\",\"Office Supplies\",\"Technology\",\"Furniture\",\"Technology\",\"Office Supplies\",\"Technology\",\"Technology\",\"Office Supplies\",\"Office Supplies\",\"Technology\",\"Office Supplies\",\"Office Supplies\",\"Office Supplies\",\"Office Supplies\",\"Office Supplies\",\"Office Supplies\",\"Office Supplies\",\"Office Supplies\",\"Office Supplies\",\"Office Supplies\",\"Furniture\",\"Office Supplies\",\"Office Supplies\",\"Furniture\",\"Technology\",\"Furniture\",\"Technology\",\"Office Supplies\",\"Office Supplies\",\"Office Supplies\",\"Office Supplies\",\"Office Supplies\",\"Office Supplies\",\"Office Supplies\",\"Furniture\",\"Technology\",\"Furniture\",\"Office Supplies\",\"Office Supplies\",\"Technology\",\"Office Supplies\",\"Furniture\",\"Technology\",\"Furniture\",\"Office Supplies\",\"Furniture\",\"Office Supplies\",\"Office Supplies\",\"Office Supplies\",\"Technology\",\"Office Supplies\",\"Office Supplies\",\"Furniture\",\"Furniture\",\"Furniture\",\"Office Supplies\",\"Furniture\",\"Office Supplies\",\"Technology\",\"Furniture\",\"Office Supplies\",\"Office Supplies\",\"Technology\",\"Furniture\",\"Furniture\",\"Technology\",\"Furniture\",\"Office Supplies\",\"Office Supplies\",\"Office Supplies\",\"Furniture\",\"Office Supplies\",\"Office Supplies\",\"Office Supplies\",\"Technology\",\"Office Supplies\",\"Furniture\",\"Office Supplies\",\"Furniture\",\"Office Supplies\",\"Office Supplies\",\"Technology\",\"Office Supplies\",\"Technology\",\"Furniture\",\"Technology\",\"Office Supplies\",\"Office Supplies\",\"Office Supplies\",\"Furniture\",\"Technology\",\"Technology\",\"Technology\",\"Furniture\",\"Furniture\",\"Office Supplies\",\"Office Supplies\",\"Furniture\",\"Office Supplies\",\"Office Supplies\",\"Technology\",\"Office Supplies\",\"Office Supplies\",\"Office Supplies\",\"Office Supplies\",\"Office Supplies\",\"Office Supplies\",\"Furniture\",\"Furniture\",\"Office Supplies\",\"Office Supplies\",\"Technology\",\"Office Supplies\",\"Technology\",\"Office Supplies\",\"Technology\",\"Furniture\",\"Technology\",\"Technology\",\"Office Supplies\",\"Technology\",\"Office Supplies\",\"Office Supplies\",\"Office Supplies\",\"Technology\",\"Office Supplies\",\"Technology\",\"Office Supplies\",\"Office Supplies\",\"Office Supplies\",\"Office Supplies\",\"Furniture\",\"Technology\",\"Technology\",\"Furniture\",\"Furniture\",\"Technology\",\"Office Supplies\",\"Furniture\",\"Furniture\",\"Furniture\",\"Office Supplies\",\"Office Supplies\",\"Furniture\",\"Office Supplies\",\"Office Supplies\",\"Technology\",\"Office Supplies\",\"Office Supplies\",\"Office Supplies\",\"Office Supplies\",\"Furniture\",\"Office Supplies\",\"Furniture\",\"Office Supplies\",\"Office Supplies\",\"Office Supplies\",\"Technology\",\"Office Supplies\",\"Office Supplies\",\"Technology\",\"Office Supplies\",\"Office Supplies\",\"Furniture\",\"Furniture\",\"Furniture\",\"Office Supplies\",\"Office Supplies\",\"Office Supplies\",\"Office Supplies\",\"Office Supplies\",\"Office Supplies\",\"Office Supplies\",\"Office Supplies\",\"Office Supplies\",\"Furniture\",\"Office Supplies\",\"Technology\",\"Office Supplies\",\"Furniture\",\"Office Supplies\",\"Furniture\",\"Office Supplies\",\"Office Supplies\",\"Furniture\",\"Office Supplies\",\"Technology\",\"Office Supplies\",\"Furniture\",\"Office Supplies\",\"Office Supplies\",\"Office Supplies\",\"Office Supplies\",\"Office Supplies\",\"Office Supplies\",\"Office Supplies\",\"Office Supplies\",\"Office Supplies\",\"Office Supplies\",\"Furniture\",\"Office Supplies\",\"Furniture\",\"Office Supplies\",\"Technology\",\"Furniture\",\"Office Supplies\",\"Furniture\",\"Furniture\",\"Technology\",\"Office Supplies\",\"Furniture\",\"Office Supplies\",\"Office Supplies\",\"Furniture\",\"Furniture\",\"Office Supplies\",\"Furniture\",\"Office Supplies\",\"Office Supplies\",\"Furniture\",\"Furniture\",\"Technology\",\"Office Supplies\",\"Furniture\",\"Furniture\",\"Furniture\",\"Technology\",\"Furniture\",\"Technology\",\"Office Supplies\",\"Office Supplies\",\"Office Supplies\",\"Technology\",\"Office Supplies\",\"Furniture\",\"Office Supplies\",\"Office Supplies\",\"Office Supplies\",\"Office Supplies\",\"Office Supplies\",\"Office Supplies\",\"Office Supplies\",\"Office Supplies\",\"Technology\",\"Office Supplies\",\"Furniture\",\"Technology\",\"Furniture\",\"Furniture\",\"Technology\",\"Office Supplies\",\"Office Supplies\",\"Technology\",\"Office Supplies\",\"Technology\",\"Furniture\",\"Office Supplies\",\"Office Supplies\",\"Technology\",\"Office Supplies\",\"Technology\",\"Office Supplies\",\"Furniture\",\"Office Supplies\",\"Technology\",\"Office Supplies\",\"Technology\",\"Office Supplies\",\"Furniture\",\"Furniture\",\"Office Supplies\",\"Office Supplies\",\"Office Supplies\",\"Technology\",\"Furniture\",\"Furniture\",\"Office Supplies\",\"Furniture\",\"Office Supplies\",\"Office Supplies\",\"Office Supplies\",\"Furniture\",\"Office Supplies\",\"Technology\",\"Furniture\",\"Technology\",\"Office Supplies\",\"Technology\",\"Office Supplies\",\"Office Supplies\",\"Office Supplies\",\"Office Supplies\",\"Office Supplies\",\"Technology\",\"Office Supplies\",\"Office Supplies\",\"Furniture\",\"Technology\",\"Technology\",\"Furniture\",\"Furniture\",\"Office Supplies\",\"Office Supplies\",\"Office Supplies\",\"Technology\",\"Office Supplies\",\"Office Supplies\",\"Office Supplies\",\"Office Supplies\",\"Office Supplies\",\"Technology\",\"Office Supplies\",\"Office Supplies\",\"Furniture\",\"Office Supplies\",\"Office Supplies\",\"Office Supplies\",\"Office Supplies\",\"Technology\",\"Technology\",\"Technology\",\"Office Supplies\",\"Office Supplies\",\"Office Supplies\",\"Office Supplies\",\"Office Supplies\",\"Office Supplies\",\"Office Supplies\",\"Furniture\",\"Technology\",\"Office Supplies\",\"Office Supplies\",\"Office Supplies\",\"Furniture\",\"Technology\",\"Furniture\",\"Office Supplies\",\"Office Supplies\",\"Office Supplies\",\"Technology\",\"Office Supplies\",\"Office Supplies\",\"Office Supplies\",\"Office Supplies\",\"Office Supplies\",\"Technology\",\"Office Supplies\",\"Office Supplies\",\"Office Supplies\",\"Office Supplies\",\"Furniture\",\"Office Supplies\",\"Office Supplies\",\"Technology\",\"Office Supplies\",\"Office Supplies\",\"Office Supplies\",\"Office Supplies\",\"Office Supplies\",\"Technology\",\"Office Supplies\",\"Office Supplies\",\"Office Supplies\",\"Office Supplies\",\"Office Supplies\",\"Furniture\",\"Office Supplies\",\"Office Supplies\",\"Office Supplies\",\"Office Supplies\",\"Furniture\",\"Furniture\",\"Office Supplies\",\"Office Supplies\",\"Technology\",\"Office Supplies\",\"Office Supplies\",\"Office Supplies\",\"Office Supplies\",\"Office Supplies\",\"Office Supplies\",\"Technology\",\"Office Supplies\",\"Office Supplies\",\"Office Supplies\",\"Technology\",\"Office Supplies\",\"Office Supplies\",\"Office Supplies\",\"Technology\",\"Office Supplies\",\"Office Supplies\",\"Office Supplies\",\"Furniture\",\"Office Supplies\",\"Office Supplies\",\"Office Supplies\",\"Office Supplies\",\"Office Supplies\",\"Office Supplies\",\"Office Supplies\",\"Technology\",\"Office Supplies\",\"Office Supplies\",\"Office Supplies\",\"Office Supplies\",\"Technology\",\"Office Supplies\",\"Office Supplies\",\"Furniture\",\"Technology\",\"Office Supplies\",\"Office Supplies\",\"Office Supplies\",\"Office Supplies\",\"Technology\",\"Office Supplies\",\"Furniture\",\"Technology\",\"Office Supplies\",\"Furniture\",\"Office Supplies\",\"Office Supplies\",\"Office Supplies\",\"Office Supplies\",\"Technology\",\"Office Supplies\",\"Office Supplies\",\"Office Supplies\",\"Office Supplies\",\"Furniture\",\"Office Supplies\",\"Furniture\",\"Furniture\",\"Furniture\",\"Office Supplies\",\"Office Supplies\",\"Office Supplies\",\"Office Supplies\",\"Office Supplies\",\"Office Supplies\",\"Office Supplies\",\"Furniture\",\"Technology\",\"Office Supplies\",\"Office Supplies\",\"Technology\",\"Office Supplies\",\"Furniture\",\"Office Supplies\",\"Furniture\",\"Office Supplies\",\"Furniture\",\"Office Supplies\",\"Furniture\",\"Office Supplies\",\"Office Supplies\",\"Office Supplies\",\"Office Supplies\",\"Office Supplies\",\"Office Supplies\",\"Office Supplies\",\"Office Supplies\",\"Office Supplies\",\"Office Supplies\",\"Office Supplies\",\"Office Supplies\",\"Technology\",\"Office Supplies\",\"Technology\",\"Office Supplies\",\"Furniture\",\"Furniture\",\"Office Supplies\",\"Furniture\",\"Furniture\",\"Technology\",\"Office Supplies\",\"Technology\",\"Office Supplies\",\"Office Supplies\",\"Furniture\",\"Office Supplies\",\"Furniture\",\"Office Supplies\",\"Office Supplies\",\"Technology\",\"Office Supplies\",\"Office Supplies\",\"Furniture\",\"Office Supplies\",\"Furniture\",\"Office Supplies\",\"Technology\",\"Furniture\",\"Furniture\",\"Furniture\",\"Technology\",\"Office Supplies\",\"Office Supplies\",\"Office Supplies\",\"Office Supplies\",\"Technology\",\"Furniture\",\"Office Supplies\",\"Office Supplies\",\"Furniture\",\"Office Supplies\",\"Office Supplies\",\"Furniture\",\"Office Supplies\",\"Technology\",\"Office Supplies\",\"Office Supplies\",\"Office Supplies\",\"Office Supplies\",\"Furniture\",\"Office Supplies\",\"Technology\",\"Furniture\",\"Furniture\",\"Office Supplies\",\"Technology\",\"Office Supplies\",\"Office Supplies\",\"Furniture\",\"Office Supplies\",\"Office Supplies\",\"Office Supplies\",\"Furniture\",\"Technology\",\"Office Supplies\",\"Office Supplies\",\"Technology\",\"Furniture\",\"Office Supplies\",\"Office Supplies\",\"Technology\",\"Office Supplies\",\"Office Supplies\",\"Office Supplies\",\"Office Supplies\",\"Office Supplies\",\"Furniture\",\"Technology\",\"Office Supplies\",\"Office Supplies\",\"Technology\",\"Office Supplies\",\"Office Supplies\",\"Technology\",\"Office Supplies\",\"Office Supplies\",\"Office Supplies\",\"Office Supplies\",\"Office Supplies\",\"Technology\",\"Office Supplies\",\"Technology\",\"Office Supplies\",\"Office Supplies\",\"Furniture\",\"Technology\",\"Office Supplies\",\"Office Supplies\",\"Office Supplies\",\"Office Supplies\",\"Office Supplies\",\"Technology\",\"Technology\",\"Technology\",\"Furniture\",\"Furniture\",\"Office Supplies\",\"Office Supplies\",\"Office Supplies\",\"Technology\",\"Technology\",\"Office Supplies\",\"Office Supplies\",\"Office Supplies\",\"Office Supplies\",\"Office Supplies\",\"Furniture\",\"Furniture\",\"Office Supplies\",\"Technology\",\"Office Supplies\",\"Office Supplies\",\"Office Supplies\",\"Office Supplies\",\"Office Supplies\",\"Office Supplies\",\"Office Supplies\",\"Office Supplies\",\"Office Supplies\",\"Office Supplies\",\"Office Supplies\",\"Technology\",\"Office Supplies\",\"Furniture\",\"Office Supplies\",\"Furniture\",\"Office Supplies\",\"Office Supplies\",\"Office Supplies\",\"Furniture\",\"Office Supplies\",\"Furniture\",\"Technology\",\"Furniture\",\"Office Supplies\",\"Office Supplies\",\"Office Supplies\",\"Furniture\",\"Technology\",\"Office Supplies\",\"Office Supplies\",\"Technology\",\"Office Supplies\",\"Office Supplies\",\"Technology\",\"Furniture\",\"Furniture\",\"Office Supplies\",\"Office Supplies\",\"Furniture\",\"Office Supplies\",\"Office Supplies\",\"Technology\",\"Office Supplies\",\"Office Supplies\",\"Office Supplies\",\"Office Supplies\",\"Office Supplies\",\"Office Supplies\",\"Office Supplies\",\"Technology\",\"Office Supplies\",\"Office Supplies\",\"Technology\",\"Office Supplies\",\"Office Supplies\",\"Furniture\",\"Office Supplies\",\"Office Supplies\",\"Office Supplies\",\"Office Supplies\",\"Furniture\",\"Technology\",\"Office Supplies\",\"Technology\",\"Office Supplies\",\"Furniture\",\"Office Supplies\",\"Office Supplies\",\"Office Supplies\",\"Furniture\",\"Office Supplies\",\"Furniture\",\"Office Supplies\",\"Office Supplies\",\"Office Supplies\",\"Office Supplies\",\"Office Supplies\",\"Technology\",\"Office Supplies\",\"Office Supplies\",\"Office Supplies\",\"Office Supplies\",\"Office Supplies\",\"Office Supplies\",\"Office Supplies\",\"Furniture\",\"Office Supplies\",\"Office Supplies\",\"Furniture\",\"Office Supplies\",\"Furniture\",\"Office Supplies\",\"Furniture\",\"Office Supplies\",\"Office Supplies\",\"Office Supplies\",\"Furniture\",\"Office Supplies\",\"Technology\",\"Office Supplies\",\"Office Supplies\",\"Office Supplies\",\"Office Supplies\",\"Office Supplies\",\"Office Supplies\",\"Furniture\",\"Office Supplies\",\"Furniture\",\"Furniture\",\"Technology\",\"Furniture\",\"Office Supplies\",\"Furniture\",\"Office Supplies\",\"Office Supplies\",\"Furniture\",\"Office Supplies\",\"Office Supplies\",\"Office Supplies\",\"Office Supplies\",\"Office Supplies\",\"Office Supplies\",\"Office Supplies\",\"Office Supplies\",\"Office Supplies\",\"Office Supplies\",\"Office Supplies\",\"Furniture\",\"Technology\",\"Furniture\",\"Office Supplies\",\"Furniture\",\"Furniture\",\"Office Supplies\",\"Office Supplies\",\"Office Supplies\",\"Office Supplies\",\"Office Supplies\",\"Office Supplies\",\"Office Supplies\",\"Technology\",\"Office Supplies\",\"Technology\",\"Technology\",\"Office Supplies\",\"Furniture\",\"Furniture\",\"Furniture\",\"Office Supplies\",\"Office Supplies\",\"Office Supplies\",\"Furniture\",\"Office Supplies\",\"Office Supplies\",\"Office Supplies\",\"Office Supplies\",\"Office Supplies\",\"Technology\",\"Furniture\",\"Office Supplies\",\"Office Supplies\",\"Furniture\",\"Technology\",\"Office Supplies\",\"Furniture\",\"Technology\",\"Office Supplies\",\"Furniture\",\"Office Supplies\",\"Furniture\",\"Office Supplies\",\"Office Supplies\",\"Furniture\",\"Office Supplies\",\"Office Supplies\",\"Office Supplies\",\"Technology\",\"Furniture\",\"Office Supplies\",\"Office Supplies\",\"Furniture\",\"Technology\",\"Technology\",\"Office Supplies\",\"Office Supplies\",\"Furniture\",\"Technology\",\"Office Supplies\",\"Furniture\",\"Furniture\",\"Office Supplies\",\"Office Supplies\",\"Office Supplies\",\"Office Supplies\",\"Office Supplies\",\"Office Supplies\",\"Furniture\",\"Office Supplies\",\"Technology\",\"Furniture\",\"Furniture\",\"Office Supplies\",\"Office Supplies\",\"Office Supplies\",\"Office Supplies\",\"Office Supplies\",\"Furniture\",\"Office Supplies\",\"Office Supplies\",\"Technology\",\"Technology\",\"Furniture\",\"Office Supplies\",\"Office Supplies\",\"Office Supplies\",\"Office Supplies\",\"Office Supplies\",\"Technology\",\"Furniture\",\"Office Supplies\",\"Office Supplies\",\"Office Supplies\",\"Office Supplies\",\"Office Supplies\",\"Office Supplies\",\"Furniture\",\"Office Supplies\",\"Office Supplies\",\"Technology\",\"Furniture\",\"Office Supplies\",\"Furniture\",\"Office Supplies\",\"Office Supplies\",\"Office Supplies\",\"Office Supplies\",\"Furniture\",\"Office Supplies\",\"Office Supplies\",\"Office Supplies\",\"Office Supplies\",\"Office Supplies\",\"Technology\",\"Technology\",\"Office Supplies\",\"Office Supplies\",\"Office Supplies\",\"Furniture\",\"Office Supplies\",\"Office Supplies\",\"Office Supplies\",\"Office Supplies\",\"Office Supplies\",\"Technology\",\"Technology\",\"Furniture\",\"Technology\",\"Office Supplies\",\"Office Supplies\",\"Office Supplies\",\"Office Supplies\",\"Office Supplies\",\"Furniture\",\"Office Supplies\",\"Office Supplies\",\"Office Supplies\",\"Office Supplies\",\"Furniture\",\"Office Supplies\",\"Furniture\",\"Furniture\",\"Office Supplies\",\"Office Supplies\",\"Office Supplies\",\"Office Supplies\",\"Office Supplies\",\"Technology\",\"Office Supplies\",\"Office Supplies\",\"Furniture\",\"Office Supplies\",\"Technology\",\"Furniture\",\"Office Supplies\",\"Furniture\",\"Office Supplies\",\"Office Supplies\",\"Office Supplies\",\"Office Supplies\",\"Office Supplies\",\"Office Supplies\",\"Office Supplies\",\"Office Supplies\",\"Office Supplies\",\"Office Supplies\",\"Office Supplies\",\"Office Supplies\",\"Technology\",\"Furniture\",\"Office Supplies\",\"Office Supplies\",\"Office Supplies\",\"Office Supplies\",\"Furniture\",\"Technology\",\"Office Supplies\",\"Furniture\",\"Office Supplies\",\"Office Supplies\",\"Technology\",\"Technology\",\"Furniture\",\"Furniture\",\"Office Supplies\",\"Office Supplies\",\"Technology\",\"Office Supplies\",\"Office Supplies\",\"Office Supplies\",\"Technology\",\"Furniture\",\"Furniture\",\"Office Supplies\",\"Office Supplies\",\"Technology\",\"Office Supplies\",\"Furniture\",\"Technology\",\"Furniture\",\"Office Supplies\",\"Office Supplies\",\"Office Supplies\",\"Furniture\",\"Furniture\",\"Furniture\",\"Furniture\",\"Office Supplies\",\"Office Supplies\",\"Office Supplies\",\"Furniture\",\"Office Supplies\",\"Office Supplies\",\"Office Supplies\",\"Furniture\",\"Office Supplies\",\"Office Supplies\",\"Office Supplies\",\"Technology\",\"Office Supplies\",\"Office Supplies\",\"Furniture\",\"Technology\",\"Technology\",\"Furniture\",\"Office Supplies\",\"Office Supplies\",\"Office Supplies\",\"Office Supplies\",\"Furniture\",\"Office Supplies\",\"Office Supplies\",\"Office Supplies\",\"Office Supplies\",\"Office Supplies\",\"Furniture\",\"Office Supplies\",\"Technology\",\"Office Supplies\",\"Office Supplies\",\"Technology\",\"Furniture\",\"Furniture\",\"Office Supplies\",\"Office Supplies\",\"Technology\",\"Office Supplies\",\"Furniture\",\"Office Supplies\",\"Office Supplies\",\"Office Supplies\",\"Office Supplies\",\"Office Supplies\",\"Office Supplies\",\"Office Supplies\",\"Office Supplies\",\"Furniture\",\"Office Supplies\",\"Technology\",\"Technology\",\"Furniture\",\"Technology\",\"Office Supplies\",\"Office Supplies\",\"Office Supplies\",\"Office Supplies\",\"Technology\",\"Office Supplies\",\"Office Supplies\",\"Office Supplies\",\"Office Supplies\",\"Office Supplies\",\"Office Supplies\",\"Office Supplies\",\"Technology\",\"Technology\",\"Office Supplies\",\"Office Supplies\",\"Office Supplies\",\"Technology\",\"Furniture\",\"Office Supplies\",\"Technology\",\"Office Supplies\",\"Office Supplies\",\"Office Supplies\",\"Office Supplies\",\"Furniture\",\"Furniture\",\"Office Supplies\",\"Office Supplies\",\"Office Supplies\",\"Office Supplies\",\"Furniture\",\"Office Supplies\",\"Technology\",\"Furniture\",\"Furniture\",\"Furniture\",\"Office Supplies\",\"Office Supplies\",\"Office Supplies\",\"Furniture\",\"Office Supplies\",\"Office Supplies\",\"Office Supplies\",\"Furniture\",\"Technology\",\"Office Supplies\",\"Office Supplies\",\"Office Supplies\",\"Technology\",\"Furniture\",\"Office Supplies\",\"Office Supplies\",\"Office Supplies\",\"Office Supplies\",\"Office Supplies\",\"Technology\",\"Furniture\",\"Technology\",\"Furniture\",\"Office Supplies\",\"Office Supplies\",\"Office Supplies\",\"Office Supplies\",\"Office Supplies\",\"Office Supplies\",\"Office Supplies\",\"Technology\",\"Office Supplies\",\"Technology\",\"Furniture\",\"Furniture\",\"Office Supplies\",\"Office Supplies\",\"Office Supplies\",\"Office Supplies\",\"Office Supplies\",\"Office Supplies\",\"Office Supplies\",\"Office Supplies\",\"Office Supplies\",\"Office Supplies\",\"Office Supplies\",\"Office Supplies\",\"Office Supplies\",\"Technology\",\"Furniture\",\"Office Supplies\",\"Office Supplies\",\"Office Supplies\",\"Office Supplies\",\"Office Supplies\",\"Technology\",\"Office Supplies\",\"Office Supplies\",\"Office Supplies\",\"Furniture\",\"Office Supplies\",\"Office Supplies\",\"Furniture\",\"Office Supplies\",\"Furniture\",\"Office Supplies\",\"Furniture\",\"Furniture\",\"Office Supplies\",\"Office Supplies\",\"Technology\",\"Office Supplies\",\"Office Supplies\",\"Technology\",\"Furniture\",\"Office Supplies\",\"Office Supplies\",\"Office Supplies\",\"Technology\",\"Office Supplies\",\"Office Supplies\",\"Office Supplies\",\"Office Supplies\",\"Office Supplies\",\"Technology\",\"Office Supplies\",\"Office Supplies\",\"Office Supplies\",\"Office Supplies\",\"Furniture\",\"Technology\",\"Office Supplies\",\"Office Supplies\",\"Office Supplies\",\"Office Supplies\",\"Furniture\",\"Technology\",\"Office Supplies\",\"Office Supplies\",\"Office Supplies\",\"Office Supplies\",\"Office Supplies\",\"Office Supplies\",\"Office Supplies\",\"Office Supplies\",\"Office Supplies\",\"Furniture\",\"Office Supplies\",\"Office Supplies\",\"Office Supplies\",\"Office Supplies\",\"Office Supplies\",\"Office Supplies\",\"Furniture\",\"Office Supplies\",\"Office Supplies\",\"Office Supplies\",\"Technology\",\"Office Supplies\",\"Office Supplies\",\"Technology\",\"Office Supplies\",\"Office Supplies\",\"Office Supplies\",\"Office Supplies\",\"Office Supplies\",\"Furniture\",\"Furniture\",\"Technology\",\"Office Supplies\",\"Office Supplies\",\"Office Supplies\",\"Office Supplies\",\"Technology\",\"Office Supplies\",\"Furniture\",\"Office Supplies\",\"Furniture\",\"Office Supplies\",\"Office Supplies\",\"Office Supplies\",\"Office Supplies\",\"Office Supplies\",\"Office Supplies\",\"Technology\",\"Office Supplies\",\"Office Supplies\",\"Furniture\",\"Office Supplies\",\"Furniture\",\"Furniture\",\"Office Supplies\",\"Office Supplies\",\"Office Supplies\",\"Office Supplies\",\"Office Supplies\",\"Office Supplies\",\"Office Supplies\",\"Furniture\",\"Office Supplies\",\"Office Supplies\",\"Office Supplies\",\"Technology\",\"Office Supplies\",\"Office Supplies\",\"Furniture\",\"Office Supplies\",\"Office Supplies\",\"Technology\",\"Office Supplies\",\"Furniture\",\"Office Supplies\",\"Office Supplies\",\"Office Supplies\",\"Technology\",\"Technology\",\"Office Supplies\",\"Technology\",\"Furniture\",\"Furniture\",\"Office Supplies\",\"Furniture\",\"Office Supplies\",\"Office Supplies\",\"Technology\",\"Office Supplies\",\"Office Supplies\",\"Technology\",\"Office Supplies\",\"Office Supplies\",\"Technology\",\"Office Supplies\",\"Office Supplies\",\"Office Supplies\",\"Office Supplies\",\"Office Supplies\",\"Furniture\",\"Office Supplies\",\"Office Supplies\",\"Technology\",\"Office Supplies\",\"Office Supplies\",\"Office Supplies\",\"Furniture\",\"Office Supplies\",\"Office Supplies\",\"Office Supplies\",\"Technology\",\"Office Supplies\",\"Technology\",\"Office Supplies\",\"Office Supplies\",\"Office Supplies\",\"Technology\",\"Office Supplies\",\"Technology\",\"Office Supplies\",\"Office Supplies\",\"Technology\",\"Office Supplies\",\"Furniture\",\"Office Supplies\",\"Office Supplies\",\"Technology\",\"Furniture\",\"Technology\",\"Furniture\",\"Technology\",\"Office Supplies\",\"Office Supplies\",\"Technology\",\"Technology\",\"Furniture\",\"Office Supplies\",\"Technology\",\"Office Supplies\",\"Furniture\",\"Technology\",\"Office Supplies\",\"Office Supplies\",\"Office Supplies\",\"Furniture\",\"Office Supplies\",\"Furniture\",\"Furniture\",\"Technology\",\"Technology\",\"Furniture\",\"Technology\",\"Office Supplies\",\"Office Supplies\",\"Office Supplies\",\"Furniture\",\"Office Supplies\",\"Office Supplies\",\"Office Supplies\",\"Office Supplies\",\"Office Supplies\",\"Technology\",\"Office Supplies\",\"Office Supplies\",\"Office Supplies\",\"Technology\",\"Office Supplies\",\"Furniture\",\"Office Supplies\",\"Office Supplies\",\"Office Supplies\",\"Technology\",\"Office Supplies\",\"Office Supplies\",\"Technology\",\"Furniture\",\"Technology\",\"Technology\",\"Furniture\",\"Office Supplies\",\"Technology\",\"Office Supplies\",\"Office Supplies\",\"Furniture\",\"Technology\",\"Office Supplies\",\"Office Supplies\",\"Furniture\",\"Office Supplies\",\"Furniture\",\"Office Supplies\",\"Furniture\",\"Office Supplies\",\"Office Supplies\",\"Technology\",\"Office Supplies\",\"Office Supplies\",\"Office Supplies\",\"Technology\",\"Technology\",\"Office Supplies\",\"Office Supplies\",\"Office Supplies\",\"Office Supplies\",\"Office Supplies\",\"Office Supplies\",\"Furniture\",\"Technology\",\"Furniture\",\"Office Supplies\",\"Office Supplies\",\"Office Supplies\",\"Office Supplies\",\"Office Supplies\",\"Office Supplies\",\"Office Supplies\",\"Technology\",\"Furniture\",\"Technology\",\"Office Supplies\",\"Office Supplies\",\"Office Supplies\",\"Office Supplies\",\"Office Supplies\",\"Furniture\",\"Office Supplies\",\"Office Supplies\",\"Office Supplies\",\"Office Supplies\",\"Office Supplies\",\"Technology\",\"Office Supplies\",\"Office Supplies\",\"Technology\",\"Office Supplies\",\"Office Supplies\",\"Furniture\",\"Office Supplies\",\"Technology\",\"Office Supplies\",\"Technology\",\"Technology\",\"Office Supplies\",\"Furniture\",\"Technology\",\"Office Supplies\",\"Office Supplies\",\"Office Supplies\",\"Office Supplies\",\"Furniture\",\"Office Supplies\",\"Office Supplies\",\"Technology\",\"Furniture\",\"Office Supplies\",\"Office Supplies\",\"Furniture\",\"Office Supplies\",\"Office Supplies\",\"Furniture\",\"Furniture\",\"Technology\",\"Office Supplies\",\"Office Supplies\",\"Office Supplies\",\"Office Supplies\",\"Office Supplies\",\"Furniture\",\"Technology\",\"Furniture\",\"Furniture\",\"Technology\",\"Technology\",\"Furniture\",\"Furniture\",\"Furniture\",\"Office Supplies\",\"Office Supplies\",\"Office Supplies\",\"Furniture\",\"Office Supplies\",\"Office Supplies\",\"Furniture\",\"Office Supplies\",\"Office Supplies\",\"Office Supplies\",\"Office Supplies\",\"Furniture\",\"Office Supplies\",\"Office Supplies\",\"Furniture\",\"Technology\",\"Office Supplies\",\"Office Supplies\",\"Office Supplies\",\"Office Supplies\",\"Office Supplies\",\"Office Supplies\",\"Technology\",\"Technology\",\"Furniture\",\"Technology\",\"Office Supplies\",\"Office Supplies\",\"Furniture\",\"Office Supplies\",\"Office Supplies\",\"Office Supplies\",\"Office Supplies\",\"Technology\",\"Office Supplies\",\"Office Supplies\",\"Technology\",\"Technology\",\"Furniture\",\"Office Supplies\",\"Office Supplies\",\"Office Supplies\",\"Office Supplies\",\"Office Supplies\",\"Office Supplies\",\"Office Supplies\",\"Office Supplies\",\"Office Supplies\",\"Office Supplies\",\"Office Supplies\",\"Office Supplies\",\"Office Supplies\",\"Office Supplies\",\"Office Supplies\",\"Office Supplies\",\"Furniture\",\"Furniture\",\"Office Supplies\",\"Technology\",\"Office Supplies\",\"Office Supplies\",\"Office Supplies\",\"Office Supplies\",\"Furniture\",\"Office Supplies\",\"Office Supplies\",\"Furniture\",\"Furniture\",\"Office Supplies\",\"Furniture\",\"Furniture\",\"Office Supplies\",\"Furniture\",\"Furniture\",\"Technology\",\"Office Supplies\",\"Office Supplies\",\"Office Supplies\",\"Office Supplies\",\"Office Supplies\",\"Furniture\",\"Technology\",\"Office Supplies\",\"Office Supplies\",\"Technology\",\"Office Supplies\",\"Technology\",\"Office Supplies\",\"Office Supplies\",\"Office Supplies\",\"Furniture\",\"Furniture\",\"Office Supplies\",\"Office Supplies\",\"Office Supplies\",\"Office Supplies\",\"Technology\",\"Office Supplies\",\"Furniture\",\"Technology\",\"Office Supplies\",\"Office Supplies\",\"Office Supplies\",\"Office Supplies\",\"Technology\",\"Furniture\",\"Office Supplies\",\"Furniture\",\"Furniture\",\"Office Supplies\",\"Furniture\",\"Technology\",\"Technology\",\"Furniture\",\"Office Supplies\",\"Technology\",\"Office Supplies\",\"Furniture\",\"Office Supplies\",\"Office Supplies\",\"Office Supplies\",\"Office Supplies\",\"Office Supplies\",\"Furniture\",\"Office Supplies\",\"Office Supplies\",\"Furniture\",\"Office Supplies\",\"Office Supplies\",\"Furniture\",\"Office Supplies\",\"Office Supplies\",\"Furniture\",\"Technology\",\"Office Supplies\",\"Office Supplies\",\"Furniture\",\"Technology\",\"Office Supplies\",\"Furniture\",\"Furniture\",\"Furniture\",\"Office Supplies\",\"Technology\",\"Furniture\",\"Office Supplies\",\"Office Supplies\",\"Office Supplies\",\"Office Supplies\",\"Furniture\",\"Office Supplies\",\"Furniture\",\"Furniture\",\"Furniture\",\"Office Supplies\",\"Office Supplies\",\"Furniture\",\"Office Supplies\",\"Furniture\",\"Office Supplies\",\"Office Supplies\",\"Furniture\",\"Office Supplies\",\"Office Supplies\",\"Technology\",\"Office Supplies\",\"Furniture\",\"Office Supplies\",\"Office Supplies\",\"Furniture\",\"Office Supplies\",\"Office Supplies\",\"Office Supplies\",\"Office Supplies\",\"Office Supplies\",\"Office Supplies\",\"Technology\",\"Technology\",\"Office Supplies\",\"Technology\",\"Technology\",\"Office Supplies\",\"Office Supplies\",\"Office Supplies\",\"Office Supplies\",\"Office Supplies\",\"Office Supplies\",\"Office Supplies\",\"Technology\",\"Office Supplies\",\"Furniture\",\"Office Supplies\",\"Office Supplies\",\"Technology\",\"Office Supplies\",\"Office Supplies\",\"Furniture\",\"Office Supplies\",\"Furniture\",\"Office Supplies\",\"Office Supplies\",\"Technology\",\"Technology\",\"Office Supplies\",\"Office Supplies\",\"Office Supplies\",\"Furniture\",\"Furniture\",\"Office Supplies\",\"Furniture\",\"Office Supplies\",\"Technology\",\"Office Supplies\",\"Office Supplies\",\"Office Supplies\",\"Office Supplies\",\"Technology\",\"Office Supplies\",\"Office Supplies\",\"Office Supplies\",\"Technology\",\"Technology\",\"Office Supplies\",\"Technology\",\"Technology\",\"Office Supplies\",\"Office Supplies\",\"Office Supplies\",\"Office Supplies\",\"Office Supplies\",\"Furniture\",\"Office Supplies\",\"Furniture\",\"Office Supplies\",\"Office Supplies\",\"Furniture\",\"Technology\",\"Technology\",\"Office Supplies\",\"Office Supplies\",\"Technology\",\"Technology\",\"Office Supplies\",\"Office Supplies\",\"Office Supplies\",\"Office Supplies\",\"Office Supplies\",\"Office Supplies\",\"Technology\",\"Technology\",\"Office Supplies\",\"Office Supplies\",\"Technology\",\"Office Supplies\",\"Office Supplies\",\"Technology\",\"Technology\",\"Technology\",\"Office Supplies\",\"Office Supplies\",\"Office Supplies\",\"Technology\",\"Furniture\",\"Furniture\",\"Office Supplies\",\"Furniture\",\"Office Supplies\",\"Office Supplies\",\"Office Supplies\",\"Office Supplies\",\"Office Supplies\",\"Technology\",\"Furniture\",\"Office Supplies\",\"Furniture\",\"Office Supplies\",\"Office Supplies\",\"Office Supplies\",\"Technology\",\"Office Supplies\",\"Office Supplies\",\"Office Supplies\",\"Technology\",\"Technology\",\"Office Supplies\",\"Technology\",\"Office Supplies\",\"Furniture\",\"Office Supplies\",\"Office Supplies\",\"Office Supplies\",\"Office Supplies\",\"Office Supplies\",\"Furniture\",\"Office Supplies\",\"Furniture\",\"Office Supplies\",\"Furniture\",\"Office Supplies\",\"Office Supplies\",\"Office Supplies\",\"Furniture\",\"Office Supplies\",\"Furniture\",\"Furniture\",\"Office Supplies\",\"Office Supplies\",\"Furniture\",\"Office Supplies\",\"Furniture\",\"Office Supplies\",\"Office Supplies\",\"Office Supplies\",\"Office Supplies\",\"Office Supplies\",\"Office Supplies\",\"Technology\",\"Technology\",\"Technology\",\"Office Supplies\",\"Furniture\",\"Office Supplies\",\"Office Supplies\",\"Technology\",\"Office Supplies\",\"Office Supplies\",\"Furniture\",\"Office Supplies\",\"Office Supplies\",\"Office Supplies\",\"Furniture\",\"Office Supplies\",\"Technology\",\"Office Supplies\",\"Office Supplies\",\"Technology\",\"Furniture\",\"Office Supplies\",\"Furniture\",\"Office Supplies\",\"Office Supplies\",\"Technology\",\"Office Supplies\",\"Office Supplies\",\"Furniture\",\"Office Supplies\",\"Technology\",\"Office Supplies\",\"Office Supplies\",\"Technology\",\"Office Supplies\",\"Technology\",\"Technology\",\"Furniture\",\"Furniture\",\"Office Supplies\",\"Office Supplies\",\"Technology\",\"Office Supplies\",\"Office Supplies\",\"Office Supplies\",\"Office Supplies\",\"Office Supplies\",\"Office Supplies\",\"Technology\",\"Office Supplies\",\"Technology\",\"Technology\",\"Technology\",\"Technology\",\"Office Supplies\",\"Office Supplies\",\"Office Supplies\",\"Office Supplies\",\"Office Supplies\",\"Furniture\",\"Office Supplies\",\"Office Supplies\",\"Furniture\",\"Office Supplies\",\"Office Supplies\",\"Office Supplies\",\"Furniture\",\"Technology\",\"Office Supplies\",\"Technology\",\"Office Supplies\",\"Office Supplies\",\"Technology\",\"Office Supplies\",\"Furniture\",\"Furniture\",\"Furniture\",\"Office Supplies\",\"Office Supplies\",\"Office Supplies\",\"Office Supplies\",\"Office Supplies\",\"Technology\",\"Office Supplies\",\"Office Supplies\",\"Technology\",\"Office Supplies\",\"Furniture\",\"Technology\",\"Office Supplies\",\"Technology\",\"Office Supplies\",\"Office Supplies\",\"Office Supplies\",\"Technology\",\"Technology\",\"Furniture\",\"Office Supplies\",\"Office Supplies\",\"Furniture\",\"Office Supplies\",\"Furniture\",\"Office Supplies\",\"Furniture\",\"Office Supplies\",\"Technology\",\"Office Supplies\",\"Office Supplies\",\"Office Supplies\",\"Office Supplies\",\"Office Supplies\",\"Furniture\",\"Office Supplies\",\"Office Supplies\",\"Technology\",\"Technology\",\"Office Supplies\",\"Office Supplies\",\"Office Supplies\",\"Office Supplies\",\"Office Supplies\",\"Technology\",\"Office Supplies\",\"Office Supplies\",\"Office Supplies\",\"Furniture\",\"Furniture\",\"Office Supplies\",\"Office Supplies\",\"Technology\",\"Technology\",\"Technology\",\"Technology\",\"Office Supplies\",\"Office Supplies\",\"Office Supplies\",\"Office Supplies\",\"Furniture\",\"Office Supplies\",\"Technology\",\"Office Supplies\",\"Furniture\",\"Furniture\",\"Technology\",\"Technology\",\"Furniture\",\"Furniture\",\"Office Supplies\",\"Furniture\",\"Furniture\",\"Technology\",\"Furniture\",\"Office Supplies\",\"Office Supplies\",\"Office Supplies\",\"Office Supplies\",\"Technology\",\"Furniture\",\"Furniture\",\"Furniture\",\"Office Supplies\",\"Office Supplies\",\"Furniture\",\"Office Supplies\",\"Office Supplies\",\"Furniture\",\"Furniture\",\"Office Supplies\",\"Office Supplies\",\"Office Supplies\",\"Office Supplies\",\"Furniture\",\"Office Supplies\",\"Office Supplies\",\"Office Supplies\",\"Office Supplies\",\"Office Supplies\",\"Technology\",\"Furniture\",\"Office Supplies\",\"Technology\",\"Furniture\",\"Office Supplies\",\"Office Supplies\",\"Office Supplies\",\"Office Supplies\",\"Office Supplies\",\"Office Supplies\",\"Office Supplies\",\"Technology\",\"Furniture\",\"Technology\",\"Office Supplies\",\"Office Supplies\",\"Office Supplies\",\"Technology\",\"Technology\",\"Furniture\",\"Office Supplies\",\"Office Supplies\",\"Office Supplies\",\"Office Supplies\",\"Office Supplies\",\"Technology\",\"Office Supplies\",\"Office Supplies\",\"Office Supplies\",\"Furniture\",\"Office Supplies\",\"Furniture\",\"Office Supplies\",\"Office Supplies\",\"Technology\",\"Office Supplies\",\"Furniture\",\"Furniture\",\"Office Supplies\",\"Office Supplies\",\"Office Supplies\",\"Office Supplies\",\"Office Supplies\",\"Technology\",\"Office Supplies\",\"Furniture\",\"Technology\",\"Office Supplies\",\"Office Supplies\",\"Furniture\",\"Office Supplies\",\"Furniture\",\"Technology\",\"Office Supplies\",\"Technology\",\"Technology\",\"Office Supplies\",\"Technology\",\"Technology\",\"Office Supplies\",\"Office Supplies\",\"Office Supplies\",\"Office Supplies\",\"Technology\",\"Technology\",\"Office Supplies\",\"Office Supplies\",\"Technology\",\"Technology\",\"Technology\",\"Office Supplies\",\"Office Supplies\",\"Furniture\",\"Office Supplies\",\"Furniture\",\"Office Supplies\",\"Furniture\",\"Office Supplies\",\"Office Supplies\",\"Furniture\",\"Office Supplies\",\"Office Supplies\",\"Furniture\",\"Technology\",\"Office Supplies\",\"Office Supplies\",\"Office Supplies\",\"Furniture\",\"Technology\",\"Technology\",\"Technology\",\"Technology\",\"Furniture\",\"Office Supplies\",\"Office Supplies\",\"Furniture\",\"Office Supplies\",\"Office Supplies\",\"Technology\",\"Furniture\",\"Technology\",\"Office Supplies\",\"Office Supplies\",\"Office Supplies\",\"Furniture\",\"Furniture\",\"Office Supplies\",\"Technology\",\"Office Supplies\",\"Technology\",\"Office Supplies\",\"Office Supplies\",\"Furniture\",\"Office Supplies\",\"Technology\",\"Office Supplies\",\"Furniture\",\"Office Supplies\",\"Office Supplies\",\"Office Supplies\",\"Office Supplies\",\"Furniture\",\"Technology\",\"Office Supplies\",\"Office Supplies\",\"Office Supplies\",\"Furniture\",\"Office Supplies\",\"Office Supplies\",\"Office Supplies\",\"Furniture\",\"Office Supplies\",\"Office Supplies\",\"Furniture\",\"Office Supplies\",\"Furniture\",\"Office Supplies\",\"Office Supplies\",\"Furniture\",\"Office Supplies\",\"Office Supplies\",\"Furniture\",\"Technology\",\"Office Supplies\",\"Technology\",\"Office Supplies\",\"Office Supplies\",\"Furniture\",\"Office Supplies\",\"Office Supplies\",\"Office Supplies\",\"Furniture\",\"Office Supplies\",\"Furniture\",\"Technology\",\"Office Supplies\",\"Technology\",\"Technology\",\"Office Supplies\",\"Office Supplies\",\"Office Supplies\",\"Office Supplies\",\"Office Supplies\",\"Office Supplies\",\"Furniture\",\"Office Supplies\",\"Office Supplies\",\"Office Supplies\",\"Furniture\",\"Furniture\",\"Office Supplies\",\"Furniture\",\"Furniture\",\"Technology\",\"Office Supplies\",\"Furniture\",\"Office Supplies\",\"Office Supplies\",\"Technology\",\"Technology\",\"Office Supplies\",\"Office Supplies\",\"Furniture\",\"Technology\",\"Office Supplies\",\"Furniture\",\"Office Supplies\",\"Office Supplies\",\"Furniture\",\"Furniture\",\"Office Supplies\",\"Office Supplies\",\"Technology\",\"Office Supplies\",\"Furniture\",\"Office Supplies\",\"Office Supplies\",\"Office Supplies\",\"Office Supplies\",\"Furniture\",\"Furniture\",\"Furniture\",\"Office Supplies\",\"Office Supplies\",\"Office Supplies\",\"Office Supplies\",\"Office Supplies\",\"Office Supplies\",\"Furniture\",\"Office Supplies\",\"Office Supplies\",\"Furniture\",\"Furniture\",\"Furniture\",\"Office Supplies\",\"Office Supplies\",\"Office Supplies\",\"Office Supplies\",\"Office Supplies\",\"Office Supplies\",\"Office Supplies\",\"Office Supplies\",\"Furniture\",\"Office Supplies\",\"Furniture\",\"Furniture\",\"Office Supplies\",\"Office Supplies\",\"Technology\",\"Office Supplies\",\"Office Supplies\",\"Office Supplies\",\"Office Supplies\",\"Office Supplies\",\"Technology\",\"Office Supplies\",\"Office Supplies\",\"Office Supplies\",\"Office Supplies\",\"Furniture\",\"Technology\",\"Office Supplies\",\"Office Supplies\",\"Furniture\",\"Office Supplies\",\"Office Supplies\",\"Office Supplies\",\"Office Supplies\",\"Technology\",\"Office Supplies\",\"Office Supplies\",\"Furniture\",\"Office Supplies\",\"Office Supplies\",\"Office Supplies\",\"Office Supplies\",\"Office Supplies\",\"Furniture\",\"Office Supplies\",\"Furniture\",\"Furniture\",\"Technology\",\"Technology\",\"Office Supplies\",\"Technology\",\"Furniture\",\"Office Supplies\",\"Technology\",\"Furniture\",\"Office Supplies\",\"Furniture\",\"Furniture\",\"Office Supplies\",\"Technology\",\"Office Supplies\",\"Technology\",\"Technology\",\"Furniture\",\"Technology\",\"Technology\",\"Technology\",\"Office Supplies\",\"Technology\",\"Office Supplies\",\"Technology\",\"Furniture\",\"Technology\",\"Office Supplies\",\"Office Supplies\",\"Office Supplies\",\"Office Supplies\",\"Technology\",\"Office Supplies\",\"Office Supplies\",\"Office Supplies\",\"Office Supplies\",\"Furniture\",\"Furniture\",\"Office Supplies\",\"Office Supplies\",\"Office Supplies\",\"Furniture\",\"Furniture\",\"Technology\",\"Office Supplies\",\"Office Supplies\",\"Office Supplies\",\"Office Supplies\",\"Technology\",\"Office Supplies\",\"Office Supplies\",\"Office Supplies\",\"Office Supplies\",\"Furniture\",\"Furniture\",\"Office Supplies\",\"Office Supplies\",\"Office Supplies\",\"Office Supplies\",\"Technology\",\"Furniture\",\"Office Supplies\",\"Furniture\",\"Office Supplies\",\"Office Supplies\",\"Office Supplies\",\"Furniture\",\"Office Supplies\",\"Office Supplies\",\"Office Supplies\",\"Office Supplies\",\"Furniture\",\"Office Supplies\",\"Technology\",\"Furniture\",\"Office Supplies\",\"Office Supplies\",\"Furniture\",\"Office Supplies\",\"Furniture\",\"Furniture\",\"Office Supplies\",\"Office Supplies\",\"Furniture\",\"Office Supplies\",\"Office Supplies\",\"Furniture\",\"Furniture\",\"Technology\",\"Furniture\",\"Office Supplies\",\"Office Supplies\",\"Technology\",\"Office Supplies\",\"Technology\",\"Office Supplies\",\"Technology\",\"Furniture\",\"Furniture\",\"Office Supplies\",\"Office Supplies\",\"Office Supplies\",\"Office Supplies\",\"Technology\",\"Office Supplies\",\"Technology\",\"Office Supplies\",\"Office Supplies\",\"Office Supplies\",\"Technology\",\"Office Supplies\",\"Office Supplies\",\"Furniture\",\"Furniture\",\"Office Supplies\",\"Furniture\",\"Office Supplies\",\"Office Supplies\",\"Furniture\",\"Office Supplies\",\"Office Supplies\",\"Office Supplies\",\"Technology\",\"Technology\",\"Furniture\",\"Furniture\",\"Office Supplies\",\"Furniture\",\"Furniture\",\"Office Supplies\",\"Office Supplies\",\"Office Supplies\",\"Office Supplies\",\"Office Supplies\",\"Office Supplies\",\"Furniture\",\"Office Supplies\",\"Office Supplies\",\"Office Supplies\",\"Office Supplies\",\"Office Supplies\",\"Technology\",\"Office Supplies\",\"Office Supplies\",\"Technology\",\"Office Supplies\",\"Office Supplies\",\"Office Supplies\",\"Office Supplies\",\"Furniture\",\"Furniture\",\"Technology\",\"Office Supplies\",\"Office Supplies\",\"Office Supplies\",\"Office Supplies\",\"Office Supplies\",\"Office Supplies\",\"Technology\",\"Technology\",\"Office Supplies\",\"Furniture\",\"Office Supplies\",\"Furniture\",\"Office Supplies\",\"Office Supplies\",\"Technology\",\"Office Supplies\",\"Office Supplies\",\"Furniture\",\"Office Supplies\",\"Office Supplies\",\"Furniture\",\"Technology\",\"Office Supplies\",\"Technology\",\"Office Supplies\",\"Office Supplies\",\"Furniture\",\"Office Supplies\",\"Office Supplies\",\"Furniture\",\"Technology\",\"Furniture\",\"Technology\",\"Technology\",\"Furniture\",\"Office Supplies\",\"Office Supplies\",\"Technology\",\"Office Supplies\",\"Office Supplies\",\"Furniture\",\"Office Supplies\",\"Office Supplies\",\"Furniture\",\"Furniture\",\"Office Supplies\",\"Technology\",\"Office Supplies\",\"Technology\",\"Office Supplies\",\"Furniture\",\"Furniture\",\"Office Supplies\",\"Office Supplies\",\"Technology\",\"Office Supplies\",\"Office Supplies\",\"Furniture\",\"Office Supplies\",\"Technology\",\"Office Supplies\",\"Furniture\",\"Office Supplies\",\"Furniture\",\"Office Supplies\",\"Technology\",\"Office Supplies\",\"Office Supplies\",\"Furniture\",\"Office Supplies\",\"Office Supplies\",\"Office Supplies\",\"Technology\",\"Office Supplies\",\"Office Supplies\",\"Office Supplies\",\"Office Supplies\",\"Office Supplies\",\"Technology\",\"Furniture\",\"Furniture\",\"Furniture\",\"Office Supplies\",\"Furniture\",\"Office Supplies\",\"Office Supplies\",\"Furniture\",\"Office Supplies\",\"Technology\",\"Office Supplies\",\"Technology\",\"Office Supplies\",\"Office Supplies\",\"Office Supplies\",\"Furniture\",\"Furniture\",\"Technology\",\"Office Supplies\",\"Office Supplies\",\"Office Supplies\",\"Office Supplies\",\"Office Supplies\",\"Office Supplies\",\"Technology\",\"Office Supplies\",\"Furniture\",\"Office Supplies\",\"Office Supplies\",\"Office Supplies\",\"Office Supplies\",\"Technology\",\"Technology\",\"Office Supplies\",\"Office Supplies\",\"Furniture\",\"Office Supplies\",\"Office Supplies\",\"Office Supplies\",\"Office Supplies\",\"Technology\",\"Furniture\",\"Office Supplies\",\"Office Supplies\",\"Office Supplies\",\"Office Supplies\",\"Technology\",\"Office Supplies\",\"Office Supplies\",\"Technology\",\"Office Supplies\",\"Technology\",\"Technology\",\"Furniture\",\"Technology\",\"Furniture\",\"Office Supplies\",\"Office Supplies\",\"Furniture\",\"Office Supplies\",\"Office Supplies\",\"Office Supplies\",\"Furniture\",\"Office Supplies\",\"Office Supplies\",\"Office Supplies\",\"Furniture\",\"Office Supplies\",\"Technology\",\"Technology\",\"Technology\",\"Office Supplies\",\"Office Supplies\",\"Furniture\",\"Office Supplies\",\"Office Supplies\",\"Furniture\",\"Furniture\",\"Technology\",\"Technology\",\"Technology\",\"Office Supplies\",\"Furniture\",\"Office Supplies\",\"Office Supplies\",\"Office Supplies\",\"Technology\",\"Office Supplies\",\"Office Supplies\",\"Furniture\",\"Office Supplies\",\"Office Supplies\",\"Furniture\",\"Office Supplies\",\"Office Supplies\",\"Office Supplies\",\"Furniture\",\"Technology\",\"Office Supplies\",\"Furniture\",\"Office Supplies\",\"Office Supplies\",\"Office Supplies\",\"Office Supplies\",\"Technology\",\"Furniture\",\"Office Supplies\",\"Office Supplies\",\"Office Supplies\",\"Office Supplies\",\"Office Supplies\",\"Office Supplies\",\"Office Supplies\",\"Office Supplies\",\"Office Supplies\",\"Office Supplies\",\"Office Supplies\",\"Office Supplies\",\"Technology\",\"Office Supplies\",\"Technology\",\"Furniture\",\"Office Supplies\",\"Technology\",\"Furniture\",\"Technology\",\"Furniture\",\"Office Supplies\",\"Office Supplies\",\"Technology\",\"Office Supplies\",\"Office Supplies\",\"Furniture\",\"Office Supplies\",\"Office Supplies\",\"Furniture\",\"Furniture\",\"Technology\",\"Furniture\",\"Office Supplies\",\"Furniture\",\"Furniture\",\"Furniture\",\"Technology\",\"Office Supplies\",\"Office Supplies\",\"Office Supplies\",\"Office Supplies\",\"Office Supplies\",\"Office Supplies\",\"Furniture\",\"Office Supplies\",\"Office Supplies\",\"Technology\",\"Office Supplies\",\"Office Supplies\",\"Office Supplies\",\"Furniture\",\"Office Supplies\",\"Furniture\",\"Office Supplies\",\"Office Supplies\",\"Furniture\",\"Office Supplies\",\"Technology\",\"Office Supplies\",\"Office Supplies\",\"Office Supplies\",\"Office Supplies\",\"Technology\",\"Office Supplies\",\"Office Supplies\",\"Office Supplies\",\"Office Supplies\",\"Technology\",\"Office Supplies\",\"Office Supplies\",\"Office Supplies\",\"Furniture\",\"Office Supplies\",\"Office Supplies\",\"Office Supplies\",\"Office Supplies\",\"Furniture\",\"Office Supplies\",\"Office Supplies\",\"Office Supplies\",\"Furniture\",\"Technology\",\"Technology\",\"Furniture\",\"Technology\",\"Office Supplies\",\"Technology\",\"Office Supplies\",\"Office Supplies\",\"Technology\",\"Office Supplies\",\"Office Supplies\",\"Office Supplies\",\"Office Supplies\",\"Furniture\",\"Technology\",\"Office Supplies\",\"Office Supplies\",\"Technology\",\"Office Supplies\",\"Office Supplies\",\"Office Supplies\",\"Office Supplies\",\"Technology\",\"Office Supplies\",\"Office Supplies\",\"Office Supplies\",\"Technology\",\"Office Supplies\",\"Technology\",\"Office Supplies\",\"Technology\",\"Office Supplies\",\"Furniture\",\"Furniture\",\"Furniture\",\"Office Supplies\",\"Technology\",\"Furniture\",\"Office Supplies\",\"Office Supplies\",\"Furniture\",\"Technology\",\"Office Supplies\",\"Office Supplies\",\"Furniture\",\"Technology\",\"Office Supplies\",\"Technology\",\"Technology\",\"Office Supplies\",\"Office Supplies\",\"Office Supplies\",\"Office Supplies\",\"Office Supplies\",\"Office Supplies\",\"Office Supplies\",\"Office Supplies\",\"Furniture\",\"Office Supplies\",\"Office Supplies\",\"Office Supplies\",\"Technology\",\"Office Supplies\",\"Office Supplies\",\"Furniture\",\"Office Supplies\",\"Furniture\",\"Technology\",\"Furniture\",\"Office Supplies\",\"Furniture\",\"Office Supplies\",\"Office Supplies\",\"Technology\",\"Office Supplies\",\"Office Supplies\",\"Technology\",\"Office Supplies\",\"Office Supplies\",\"Technology\",\"Office Supplies\",\"Office Supplies\",\"Furniture\",\"Office Supplies\",\"Office Supplies\",\"Technology\",\"Furniture\",\"Office Supplies\",\"Technology\",\"Office Supplies\",\"Office Supplies\",\"Technology\",\"Office Supplies\",\"Furniture\",\"Office Supplies\",\"Furniture\",\"Office Supplies\",\"Technology\",\"Furniture\",\"Office Supplies\",\"Technology\",\"Furniture\",\"Furniture\",\"Office Supplies\",\"Office Supplies\",\"Office Supplies\",\"Office Supplies\",\"Furniture\",\"Office Supplies\",\"Furniture\",\"Office Supplies\",\"Office Supplies\",\"Office Supplies\",\"Office Supplies\",\"Office Supplies\",\"Technology\",\"Office Supplies\",\"Office Supplies\",\"Furniture\",\"Technology\",\"Office Supplies\",\"Office Supplies\",\"Office Supplies\",\"Office Supplies\",\"Technology\",\"Furniture\",\"Office Supplies\",\"Furniture\",\"Office Supplies\",\"Technology\",\"Office Supplies\",\"Technology\",\"Furniture\",\"Technology\",\"Technology\",\"Office Supplies\",\"Office Supplies\",\"Furniture\",\"Office Supplies\",\"Office Supplies\",\"Technology\",\"Office Supplies\",\"Technology\",\"Office Supplies\",\"Furniture\",\"Technology\",\"Furniture\",\"Technology\",\"Office Supplies\",\"Office Supplies\",\"Office Supplies\",\"Office Supplies\",\"Office Supplies\",\"Furniture\",\"Furniture\",\"Office Supplies\",\"Technology\",\"Technology\",\"Office Supplies\",\"Technology\",\"Furniture\",\"Office Supplies\",\"Technology\",\"Office Supplies\",\"Technology\",\"Technology\",\"Office Supplies\",\"Office Supplies\",\"Office Supplies\",\"Office Supplies\",\"Furniture\",\"Office Supplies\",\"Office Supplies\",\"Office Supplies\",\"Office Supplies\",\"Office Supplies\",\"Office Supplies\",\"Technology\",\"Furniture\",\"Furniture\",\"Office Supplies\",\"Office Supplies\",\"Office Supplies\",\"Office Supplies\",\"Furniture\",\"Office Supplies\",\"Office Supplies\",\"Technology\",\"Office Supplies\",\"Office Supplies\",\"Technology\",\"Office Supplies\",\"Office Supplies\",\"Office Supplies\",\"Office Supplies\",\"Technology\",\"Technology\",\"Office Supplies\",\"Furniture\",\"Furniture\",\"Office Supplies\",\"Technology\",\"Furniture\",\"Office Supplies\",\"Furniture\",\"Technology\",\"Office Supplies\",\"Office Supplies\",\"Office Supplies\",\"Office Supplies\",\"Furniture\",\"Office Supplies\",\"Furniture\",\"Furniture\",\"Office Supplies\",\"Office Supplies\",\"Technology\",\"Office Supplies\",\"Office Supplies\",\"Office Supplies\",\"Office Supplies\",\"Furniture\",\"Office Supplies\",\"Office Supplies\",\"Office Supplies\",\"Office Supplies\",\"Furniture\",\"Office Supplies\",\"Furniture\",\"Office Supplies\",\"Office Supplies\",\"Office Supplies\",\"Furniture\",\"Office Supplies\",\"Technology\",\"Office Supplies\",\"Office Supplies\",\"Technology\",\"Technology\",\"Furniture\",\"Technology\",\"Technology\",\"Office Supplies\",\"Office Supplies\",\"Furniture\",\"Technology\",\"Office Supplies\",\"Technology\",\"Furniture\",\"Office Supplies\",\"Furniture\",\"Office Supplies\",\"Office Supplies\",\"Office Supplies\",\"Office Supplies\",\"Technology\",\"Office Supplies\",\"Office Supplies\",\"Office Supplies\",\"Office Supplies\",\"Office Supplies\",\"Office Supplies\",\"Furniture\",\"Office Supplies\",\"Furniture\",\"Office Supplies\",\"Office Supplies\",\"Office Supplies\",\"Office Supplies\",\"Technology\",\"Furniture\",\"Technology\",\"Office Supplies\",\"Office Supplies\",\"Furniture\",\"Office Supplies\",\"Technology\",\"Furniture\",\"Furniture\",\"Office Supplies\",\"Office Supplies\",\"Office Supplies\",\"Office Supplies\",\"Office Supplies\",\"Furniture\",\"Furniture\",\"Office Supplies\",\"Furniture\",\"Furniture\",\"Technology\",\"Office Supplies\",\"Technology\",\"Office Supplies\",\"Furniture\",\"Furniture\",\"Office Supplies\",\"Technology\",\"Office Supplies\",\"Technology\",\"Office Supplies\",\"Office Supplies\",\"Office Supplies\",\"Furniture\",\"Office Supplies\",\"Technology\",\"Office Supplies\",\"Technology\",\"Technology\",\"Office Supplies\",\"Furniture\",\"Office Supplies\",\"Office Supplies\",\"Technology\",\"Office Supplies\",\"Furniture\",\"Office Supplies\",\"Furniture\",\"Technology\",\"Technology\",\"Office Supplies\",\"Office Supplies\",\"Furniture\",\"Furniture\",\"Office Supplies\",\"Office Supplies\",\"Office Supplies\",\"Furniture\",\"Office Supplies\",\"Office Supplies\",\"Furniture\",\"Office Supplies\",\"Office Supplies\",\"Technology\",\"Office Supplies\",\"Office Supplies\",\"Office Supplies\",\"Furniture\",\"Office Supplies\",\"Technology\",\"Office Supplies\",\"Technology\",\"Furniture\",\"Office Supplies\",\"Office Supplies\",\"Office Supplies\",\"Office Supplies\",\"Furniture\",\"Office Supplies\",\"Furniture\",\"Office Supplies\",\"Office Supplies\",\"Technology\",\"Office Supplies\",\"Office Supplies\",\"Office Supplies\",\"Office Supplies\",\"Office Supplies\",\"Technology\",\"Office Supplies\",\"Office Supplies\",\"Office Supplies\",\"Office Supplies\",\"Furniture\",\"Office Supplies\",\"Furniture\",\"Office Supplies\",\"Technology\",\"Office Supplies\",\"Technology\",\"Technology\",\"Office Supplies\",\"Furniture\",\"Furniture\",\"Office Supplies\",\"Office Supplies\",\"Furniture\",\"Furniture\",\"Technology\",\"Office Supplies\",\"Office Supplies\",\"Office Supplies\",\"Furniture\",\"Office Supplies\",\"Technology\",\"Office Supplies\",\"Office Supplies\",\"Office Supplies\",\"Office Supplies\",\"Office Supplies\",\"Office Supplies\",\"Office Supplies\",\"Furniture\",\"Office Supplies\",\"Furniture\",\"Office Supplies\",\"Office Supplies\",\"Office Supplies\",\"Office Supplies\",\"Office Supplies\",\"Office Supplies\",\"Office Supplies\",\"Office Supplies\",\"Office Supplies\",\"Furniture\",\"Office Supplies\",\"Furniture\",\"Office Supplies\",\"Technology\",\"Office Supplies\",\"Technology\",\"Office Supplies\",\"Office Supplies\",\"Technology\",\"Furniture\",\"Office Supplies\",\"Office Supplies\",\"Office Supplies\",\"Office Supplies\",\"Furniture\",\"Furniture\",\"Technology\",\"Office Supplies\",\"Office Supplies\",\"Office Supplies\",\"Furniture\",\"Office Supplies\",\"Office Supplies\",\"Technology\",\"Furniture\",\"Office Supplies\",\"Furniture\",\"Office Supplies\",\"Office Supplies\",\"Office Supplies\",\"Office Supplies\",\"Office Supplies\",\"Office Supplies\",\"Office Supplies\",\"Office Supplies\",\"Office Supplies\",\"Technology\",\"Furniture\",\"Furniture\",\"Office Supplies\",\"Office Supplies\",\"Furniture\",\"Office Supplies\",\"Furniture\",\"Office Supplies\",\"Office Supplies\",\"Furniture\",\"Office Supplies\",\"Office Supplies\",\"Office Supplies\",\"Furniture\",\"Office Supplies\",\"Office Supplies\",\"Technology\",\"Furniture\",\"Furniture\",\"Office Supplies\",\"Furniture\",\"Furniture\",\"Technology\",\"Technology\",\"Technology\",\"Furniture\",\"Technology\",\"Office Supplies\",\"Office Supplies\",\"Office Supplies\",\"Furniture\",\"Office Supplies\",\"Technology\",\"Furniture\",\"Office Supplies\",\"Furniture\",\"Technology\",\"Furniture\",\"Office Supplies\",\"Office Supplies\",\"Office Supplies\",\"Furniture\",\"Furniture\",\"Furniture\",\"Office Supplies\",\"Office Supplies\",\"Furniture\",\"Office Supplies\",\"Technology\",\"Office Supplies\",\"Office Supplies\",\"Office Supplies\",\"Technology\",\"Office Supplies\",\"Office Supplies\",\"Furniture\",\"Technology\",\"Office Supplies\",\"Furniture\",\"Office Supplies\",\"Office Supplies\",\"Technology\",\"Office Supplies\",\"Technology\",\"Office Supplies\",\"Office Supplies\",\"Furniture\",\"Furniture\",\"Office Supplies\",\"Technology\",\"Office Supplies\",\"Furniture\",\"Furniture\",\"Office Supplies\",\"Office Supplies\",\"Technology\",\"Office Supplies\",\"Office Supplies\",\"Office Supplies\",\"Office Supplies\",\"Office Supplies\",\"Office Supplies\",\"Technology\",\"Office Supplies\",\"Furniture\",\"Office Supplies\",\"Office Supplies\",\"Technology\",\"Technology\",\"Technology\",\"Furniture\",\"Office Supplies\",\"Office Supplies\",\"Office Supplies\",\"Office Supplies\",\"Office Supplies\",\"Technology\",\"Office Supplies\",\"Furniture\",\"Furniture\",\"Office Supplies\",\"Furniture\",\"Office Supplies\",\"Furniture\",\"Office Supplies\",\"Office Supplies\",\"Furniture\",\"Technology\",\"Technology\",\"Office Supplies\",\"Office Supplies\",\"Technology\",\"Office Supplies\",\"Office Supplies\",\"Office Supplies\",\"Furniture\",\"Technology\",\"Office Supplies\",\"Office Supplies\",\"Office Supplies\",\"Furniture\",\"Office Supplies\",\"Technology\",\"Technology\",\"Office Supplies\",\"Office Supplies\",\"Office Supplies\",\"Office Supplies\",\"Office Supplies\",\"Technology\",\"Furniture\",\"Office Supplies\",\"Furniture\",\"Office Supplies\",\"Technology\",\"Technology\",\"Office Supplies\",\"Office Supplies\",\"Office Supplies\",\"Furniture\",\"Office Supplies\",\"Office Supplies\",\"Office Supplies\",\"Office Supplies\",\"Office Supplies\",\"Office Supplies\",\"Office Supplies\",\"Furniture\",\"Office Supplies\",\"Office Supplies\",\"Office Supplies\",\"Technology\",\"Office Supplies\",\"Technology\",\"Technology\",\"Furniture\",\"Office Supplies\",\"Technology\",\"Furniture\",\"Office Supplies\",\"Technology\",\"Office Supplies\",\"Office Supplies\",\"Office Supplies\",\"Office Supplies\",\"Technology\",\"Office Supplies\",\"Furniture\",\"Office Supplies\",\"Office Supplies\",\"Furniture\",\"Office Supplies\",\"Furniture\",\"Technology\",\"Office Supplies\",\"Office Supplies\",\"Technology\",\"Office Supplies\",\"Office Supplies\",\"Furniture\",\"Office Supplies\",\"Office Supplies\",\"Office Supplies\",\"Office Supplies\",\"Office Supplies\",\"Office Supplies\",\"Office Supplies\",\"Technology\",\"Office Supplies\",\"Office Supplies\",\"Technology\",\"Furniture\",\"Office Supplies\",\"Technology\",\"Technology\",\"Office Supplies\",\"Office Supplies\",\"Office Supplies\",\"Furniture\",\"Technology\",\"Office Supplies\",\"Office Supplies\",\"Office Supplies\",\"Office Supplies\",\"Office Supplies\",\"Technology\",\"Office Supplies\",\"Office Supplies\",\"Office Supplies\",\"Office Supplies\",\"Office Supplies\",\"Office Supplies\",\"Office Supplies\",\"Technology\",\"Furniture\",\"Office Supplies\",\"Office Supplies\",\"Office Supplies\",\"Office Supplies\",\"Office Supplies\",\"Office Supplies\",\"Office Supplies\",\"Office Supplies\",\"Furniture\",\"Furniture\",\"Office Supplies\",\"Office Supplies\",\"Furniture\",\"Furniture\",\"Office Supplies\",\"Furniture\",\"Furniture\",\"Office Supplies\",\"Office Supplies\",\"Office Supplies\",\"Furniture\",\"Office Supplies\",\"Technology\",\"Technology\",\"Office Supplies\",\"Office Supplies\",\"Office Supplies\",\"Office Supplies\",\"Furniture\",\"Technology\",\"Office Supplies\",\"Office Supplies\",\"Technology\",\"Office Supplies\",\"Office Supplies\",\"Office Supplies\",\"Office Supplies\",\"Technology\",\"Office Supplies\",\"Furniture\",\"Office Supplies\",\"Office Supplies\",\"Furniture\",\"Technology\",\"Office Supplies\",\"Office Supplies\",\"Office Supplies\",\"Office Supplies\",\"Furniture\",\"Technology\",\"Furniture\",\"Office Supplies\",\"Office Supplies\",\"Furniture\",\"Technology\",\"Office Supplies\",\"Office Supplies\",\"Office Supplies\",\"Office Supplies\",\"Office Supplies\",\"Technology\",\"Furniture\",\"Office Supplies\",\"Office Supplies\",\"Furniture\",\"Office Supplies\",\"Office Supplies\",\"Office Supplies\",\"Office Supplies\",\"Office Supplies\",\"Office Supplies\",\"Office Supplies\",\"Office Supplies\",\"Office Supplies\",\"Office Supplies\",\"Office Supplies\",\"Office Supplies\",\"Office Supplies\",\"Office Supplies\",\"Office Supplies\",\"Office Supplies\",\"Office Supplies\",\"Office Supplies\",\"Office Supplies\",\"Office Supplies\",\"Office Supplies\",\"Office Supplies\",\"Furniture\",\"Technology\",\"Office Supplies\",\"Office Supplies\",\"Technology\",\"Office Supplies\",\"Office Supplies\",\"Office Supplies\",\"Office Supplies\",\"Technology\",\"Office Supplies\",\"Office Supplies\",\"Office Supplies\",\"Office Supplies\",\"Technology\",\"Office Supplies\",\"Office Supplies\",\"Office Supplies\",\"Office Supplies\",\"Office Supplies\",\"Office Supplies\",\"Office Supplies\",\"Office Supplies\",\"Office Supplies\",\"Furniture\",\"Furniture\",\"Technology\",\"Technology\",\"Office Supplies\",\"Office Supplies\",\"Office Supplies\",\"Office Supplies\",\"Office Supplies\",\"Office Supplies\",\"Furniture\",\"Office Supplies\",\"Office Supplies\",\"Office Supplies\",\"Office Supplies\",\"Office Supplies\",\"Office Supplies\",\"Office Supplies\",\"Furniture\",\"Furniture\",\"Office Supplies\",\"Office Supplies\",\"Office Supplies\",\"Office Supplies\",\"Furniture\",\"Technology\",\"Office Supplies\",\"Furniture\",\"Technology\",\"Furniture\",\"Technology\",\"Furniture\",\"Office Supplies\",\"Office Supplies\",\"Office Supplies\",\"Furniture\",\"Technology\",\"Furniture\",\"Furniture\",\"Technology\",\"Office Supplies\",\"Furniture\",\"Office Supplies\",\"Office Supplies\",\"Office Supplies\",\"Technology\",\"Furniture\",\"Furniture\",\"Office Supplies\",\"Office Supplies\",\"Furniture\",\"Office Supplies\",\"Office Supplies\",\"Office Supplies\",\"Office Supplies\",\"Technology\",\"Office Supplies\",\"Office Supplies\",\"Office Supplies\",\"Office Supplies\",\"Office Supplies\",\"Office Supplies\",\"Office Supplies\",\"Furniture\",\"Office Supplies\",\"Furniture\",\"Furniture\",\"Technology\",\"Technology\",\"Technology\",\"Office Supplies\",\"Office Supplies\",\"Office Supplies\",\"Office Supplies\",\"Office Supplies\",\"Technology\",\"Office Supplies\",\"Technology\",\"Office Supplies\",\"Furniture\",\"Office Supplies\",\"Office Supplies\",\"Furniture\",\"Furniture\",\"Office Supplies\",\"Technology\",\"Furniture\",\"Office Supplies\",\"Office Supplies\",\"Office Supplies\",\"Office Supplies\",\"Furniture\",\"Office Supplies\",\"Office Supplies\",\"Office Supplies\",\"Technology\",\"Technology\",\"Furniture\",\"Furniture\",\"Furniture\",\"Office Supplies\",\"Furniture\",\"Technology\",\"Office Supplies\",\"Office Supplies\",\"Office Supplies\",\"Office Supplies\",\"Office Supplies\",\"Office Supplies\",\"Office Supplies\",\"Office Supplies\",\"Office Supplies\",\"Office Supplies\",\"Office Supplies\",\"Technology\",\"Office Supplies\",\"Office Supplies\",\"Technology\",\"Technology\",\"Technology\",\"Office Supplies\",\"Furniture\",\"Office Supplies\",\"Technology\",\"Office Supplies\",\"Office Supplies\",\"Office Supplies\",\"Office Supplies\",\"Office Supplies\",\"Furniture\",\"Office Supplies\",\"Office Supplies\",\"Office Supplies\",\"Technology\",\"Furniture\",\"Office Supplies\",\"Furniture\",\"Office Supplies\",\"Furniture\",\"Furniture\",\"Office Supplies\",\"Office Supplies\",\"Office Supplies\",\"Furniture\",\"Office Supplies\",\"Technology\",\"Technology\",\"Office Supplies\",\"Office Supplies\",\"Office Supplies\",\"Furniture\",\"Office Supplies\",\"Office Supplies\",\"Office Supplies\",\"Office Supplies\",\"Office Supplies\",\"Technology\",\"Office Supplies\",\"Technology\",\"Office Supplies\",\"Office Supplies\",\"Furniture\",\"Office Supplies\",\"Office Supplies\",\"Office Supplies\",\"Furniture\",\"Furniture\",\"Office Supplies\",\"Office Supplies\",\"Office Supplies\",\"Technology\",\"Furniture\",\"Technology\",\"Technology\",\"Technology\",\"Technology\",\"Office Supplies\",\"Technology\",\"Office Supplies\",\"Office Supplies\",\"Furniture\",\"Technology\",\"Technology\",\"Furniture\",\"Technology\",\"Office Supplies\",\"Office Supplies\",\"Office Supplies\",\"Technology\",\"Furniture\",\"Furniture\",\"Office Supplies\",\"Office Supplies\",\"Office Supplies\",\"Furniture\",\"Furniture\",\"Furniture\",\"Office Supplies\",\"Office Supplies\",\"Furniture\",\"Office Supplies\",\"Furniture\",\"Technology\",\"Furniture\",\"Office Supplies\",\"Office Supplies\",\"Office Supplies\",\"Office Supplies\",\"Office Supplies\",\"Office Supplies\",\"Technology\",\"Office Supplies\",\"Furniture\",\"Office Supplies\",\"Office Supplies\",\"Technology\",\"Furniture\",\"Office Supplies\",\"Technology\",\"Furniture\",\"Office Supplies\",\"Office Supplies\",\"Office Supplies\",\"Furniture\",\"Technology\",\"Office Supplies\",\"Furniture\",\"Technology\",\"Office Supplies\",\"Furniture\",\"Furniture\",\"Technology\",\"Furniture\",\"Office Supplies\",\"Furniture\",\"Office Supplies\",\"Furniture\",\"Office Supplies\",\"Furniture\",\"Office Supplies\",\"Furniture\",\"Technology\",\"Office Supplies\",\"Furniture\",\"Office Supplies\",\"Office Supplies\",\"Office Supplies\",\"Technology\",\"Technology\",\"Office Supplies\",\"Office Supplies\",\"Office Supplies\",\"Office Supplies\",\"Furniture\",\"Technology\",\"Furniture\",\"Office Supplies\",\"Furniture\",\"Office Supplies\",\"Technology\",\"Office Supplies\",\"Office Supplies\",\"Office Supplies\",\"Furniture\",\"Office Supplies\",\"Office Supplies\",\"Technology\",\"Office Supplies\",\"Office Supplies\",\"Office Supplies\",\"Office Supplies\",\"Office Supplies\",\"Office Supplies\",\"Office Supplies\",\"Office Supplies\",\"Office Supplies\",\"Office Supplies\",\"Technology\",\"Office Supplies\",\"Office Supplies\",\"Office Supplies\",\"Office Supplies\",\"Office Supplies\",\"Furniture\",\"Technology\",\"Furniture\",\"Furniture\",\"Office Supplies\",\"Office Supplies\",\"Office Supplies\",\"Office Supplies\",\"Furniture\",\"Furniture\",\"Office Supplies\",\"Office Supplies\",\"Technology\",\"Furniture\",\"Office Supplies\",\"Office Supplies\",\"Furniture\",\"Furniture\",\"Furniture\",\"Furniture\",\"Office Supplies\",\"Furniture\",\"Furniture\",\"Technology\",\"Technology\",\"Technology\",\"Furniture\",\"Furniture\",\"Technology\",\"Technology\",\"Office Supplies\",\"Office Supplies\",\"Office Supplies\",\"Office Supplies\",\"Office Supplies\",\"Technology\",\"Office Supplies\",\"Furniture\",\"Furniture\",\"Furniture\",\"Office Supplies\",\"Office Supplies\",\"Office Supplies\",\"Office Supplies\",\"Office Supplies\",\"Office Supplies\",\"Office Supplies\",\"Office Supplies\",\"Office Supplies\",\"Office Supplies\",\"Office Supplies\",\"Furniture\",\"Office Supplies\",\"Furniture\",\"Office Supplies\",\"Office Supplies\",\"Office Supplies\",\"Office Supplies\",\"Office Supplies\",\"Furniture\",\"Office Supplies\",\"Furniture\",\"Office Supplies\",\"Furniture\",\"Office Supplies\",\"Technology\",\"Technology\",\"Office Supplies\",\"Office Supplies\",\"Technology\",\"Office Supplies\",\"Furniture\",\"Furniture\",\"Technology\",\"Office Supplies\",\"Technology\",\"Office Supplies\",\"Office Supplies\",\"Office Supplies\",\"Office Supplies\",\"Furniture\",\"Office Supplies\",\"Furniture\",\"Office Supplies\",\"Office Supplies\",\"Technology\",\"Office Supplies\",\"Furniture\",\"Office Supplies\",\"Office Supplies\",\"Technology\",\"Technology\",\"Office Supplies\",\"Office Supplies\",\"Office Supplies\",\"Office Supplies\",\"Furniture\",\"Office Supplies\",\"Office Supplies\",\"Office Supplies\",\"Technology\",\"Furniture\",\"Office Supplies\",\"Furniture\",\"Technology\",\"Office Supplies\",\"Furniture\",\"Office Supplies\",\"Office Supplies\",\"Furniture\",\"Office Supplies\",\"Office Supplies\",\"Furniture\",\"Technology\",\"Technology\",\"Office Supplies\",\"Technology\",\"Office Supplies\",\"Office Supplies\",\"Technology\",\"Office Supplies\",\"Office Supplies\",\"Technology\",\"Office Supplies\",\"Furniture\",\"Office Supplies\",\"Office Supplies\",\"Office Supplies\",\"Office Supplies\",\"Office Supplies\",\"Technology\",\"Office Supplies\",\"Office Supplies\",\"Technology\",\"Office Supplies\",\"Office Supplies\",\"Furniture\",\"Office Supplies\",\"Furniture\",\"Office Supplies\",\"Furniture\",\"Office Supplies\",\"Office Supplies\",\"Office Supplies\",\"Furniture\",\"Furniture\",\"Furniture\",\"Furniture\",\"Office Supplies\",\"Furniture\",\"Office Supplies\",\"Office Supplies\",\"Office Supplies\",\"Furniture\",\"Technology\",\"Furniture\",\"Technology\",\"Furniture\",\"Technology\",\"Technology\",\"Office Supplies\",\"Office Supplies\",\"Furniture\",\"Office Supplies\",\"Technology\",\"Office Supplies\",\"Office Supplies\",\"Furniture\",\"Office Supplies\",\"Office Supplies\",\"Office Supplies\",\"Office Supplies\",\"Office Supplies\",\"Furniture\",\"Furniture\",\"Furniture\",\"Technology\",\"Furniture\",\"Furniture\",\"Technology\",\"Office Supplies\",\"Office Supplies\",\"Office Supplies\",\"Office Supplies\",\"Office Supplies\",\"Furniture\",\"Office Supplies\",\"Office Supplies\",\"Technology\",\"Technology\",\"Technology\",\"Furniture\",\"Office Supplies\",\"Office Supplies\",\"Office Supplies\",\"Furniture\",\"Technology\",\"Office Supplies\",\"Office Supplies\",\"Office Supplies\",\"Office Supplies\",\"Furniture\",\"Office Supplies\",\"Furniture\",\"Furniture\",\"Office Supplies\",\"Furniture\",\"Office Supplies\",\"Office Supplies\",\"Technology\",\"Office Supplies\",\"Office Supplies\",\"Office Supplies\",\"Technology\",\"Office Supplies\",\"Technology\",\"Office Supplies\",\"Furniture\",\"Furniture\",\"Office Supplies\",\"Office Supplies\",\"Office Supplies\",\"Office Supplies\",\"Office Supplies\",\"Office Supplies\",\"Office Supplies\",\"Office Supplies\",\"Furniture\",\"Office Supplies\",\"Office Supplies\",\"Office Supplies\",\"Furniture\",\"Technology\",\"Technology\",\"Furniture\",\"Office Supplies\",\"Office Supplies\",\"Office Supplies\",\"Furniture\",\"Office Supplies\",\"Technology\",\"Office Supplies\",\"Office Supplies\",\"Technology\",\"Furniture\",\"Furniture\",\"Office Supplies\",\"Office Supplies\",\"Furniture\",\"Furniture\",\"Office Supplies\",\"Office Supplies\",\"Furniture\",\"Office Supplies\",\"Technology\",\"Office Supplies\",\"Office Supplies\",\"Technology\",\"Furniture\",\"Technology\",\"Office Supplies\",\"Furniture\",\"Furniture\",\"Office Supplies\",\"Technology\",\"Office Supplies\",\"Office Supplies\",\"Furniture\",\"Office Supplies\",\"Office Supplies\",\"Furniture\",\"Office Supplies\",\"Office Supplies\",\"Furniture\",\"Office Supplies\",\"Office Supplies\",\"Office Supplies\",\"Furniture\",\"Office Supplies\",\"Technology\",\"Office Supplies\",\"Office Supplies\",\"Office Supplies\",\"Technology\",\"Furniture\",\"Furniture\",\"Office Supplies\",\"Furniture\",\"Office Supplies\",\"Technology\",\"Office Supplies\",\"Office Supplies\",\"Technology\",\"Furniture\",\"Furniture\",\"Office Supplies\",\"Office Supplies\",\"Office Supplies\",\"Technology\",\"Furniture\",\"Office Supplies\",\"Technology\",\"Office Supplies\",\"Furniture\",\"Office Supplies\",\"Office Supplies\",\"Technology\",\"Furniture\",\"Office Supplies\",\"Office Supplies\",\"Technology\",\"Office Supplies\",\"Office Supplies\",\"Office Supplies\",\"Furniture\",\"Office Supplies\",\"Technology\",\"Furniture\",\"Technology\",\"Office Supplies\",\"Office Supplies\",\"Technology\",\"Office Supplies\",\"Technology\",\"Furniture\",\"Office Supplies\",\"Office Supplies\",\"Office Supplies\",\"Technology\",\"Office Supplies\",\"Office Supplies\",\"Technology\",\"Office Supplies\",\"Office Supplies\",\"Office Supplies\",\"Office Supplies\",\"Furniture\",\"Office Supplies\",\"Office Supplies\",\"Office Supplies\",\"Office Supplies\",\"Office Supplies\",\"Technology\",\"Furniture\",\"Office Supplies\",\"Office Supplies\",\"Office Supplies\",\"Office Supplies\",\"Office Supplies\",\"Office Supplies\",\"Office Supplies\",\"Technology\",\"Office Supplies\",\"Technology\",\"Technology\",\"Office Supplies\",\"Office Supplies\",\"Technology\",\"Office Supplies\",\"Technology\",\"Office Supplies\",\"Furniture\",\"Office Supplies\",\"Office Supplies\",\"Technology\",\"Office Supplies\",\"Furniture\",\"Office Supplies\",\"Office Supplies\",\"Technology\",\"Technology\",\"Furniture\",\"Office Supplies\",\"Office Supplies\",\"Office Supplies\",\"Office Supplies\",\"Office Supplies\",\"Office Supplies\",\"Furniture\",\"Office Supplies\",\"Office Supplies\",\"Office Supplies\",\"Technology\",\"Office Supplies\",\"Office Supplies\",\"Technology\",\"Technology\",\"Office Supplies\",\"Office Supplies\",\"Office Supplies\",\"Office Supplies\",\"Office Supplies\",\"Office Supplies\",\"Technology\",\"Office Supplies\",\"Office Supplies\",\"Furniture\",\"Office Supplies\",\"Office Supplies\",\"Office Supplies\",\"Office Supplies\",\"Furniture\",\"Office Supplies\",\"Office Supplies\",\"Office Supplies\",\"Technology\",\"Office Supplies\",\"Office Supplies\",\"Technology\",\"Office Supplies\",\"Office Supplies\",\"Technology\",\"Furniture\",\"Office Supplies\",\"Furniture\",\"Office Supplies\",\"Office Supplies\",\"Office Supplies\",\"Office Supplies\",\"Office Supplies\",\"Office Supplies\",\"Office Supplies\",\"Technology\",\"Office Supplies\",\"Office Supplies\",\"Furniture\",\"Furniture\",\"Furniture\",\"Technology\",\"Office Supplies\",\"Office Supplies\",\"Office Supplies\",\"Office Supplies\",\"Office Supplies\",\"Office Supplies\",\"Office Supplies\",\"Technology\",\"Furniture\",\"Furniture\",\"Technology\",\"Office Supplies\",\"Furniture\",\"Office Supplies\",\"Technology\",\"Office Supplies\",\"Technology\",\"Office Supplies\",\"Furniture\",\"Technology\",\"Furniture\",\"Office Supplies\",\"Technology\",\"Office Supplies\",\"Furniture\",\"Office Supplies\",\"Office Supplies\",\"Office Supplies\",\"Furniture\",\"Office Supplies\",\"Technology\",\"Furniture\",\"Office Supplies\",\"Office Supplies\",\"Office Supplies\",\"Office Supplies\",\"Office Supplies\",\"Office Supplies\",\"Office Supplies\",\"Technology\",\"Office Supplies\",\"Technology\",\"Office Supplies\",\"Office Supplies\",\"Office Supplies\",\"Technology\",\"Office Supplies\",\"Office Supplies\",\"Office Supplies\",\"Furniture\",\"Furniture\",\"Office Supplies\",\"Office Supplies\",\"Technology\",\"Office Supplies\",\"Office Supplies\",\"Furniture\",\"Office Supplies\",\"Office Supplies\",\"Office Supplies\",\"Office Supplies\",\"Office Supplies\",\"Furniture\",\"Furniture\",\"Office Supplies\",\"Technology\",\"Technology\",\"Office Supplies\",\"Office Supplies\",\"Furniture\",\"Furniture\",\"Furniture\",\"Office Supplies\",\"Office Supplies\",\"Technology\",\"Furniture\",\"Office Supplies\",\"Office Supplies\",\"Office Supplies\",\"Office Supplies\",\"Office Supplies\",\"Office Supplies\",\"Office Supplies\",\"Office Supplies\",\"Technology\",\"Furniture\",\"Office Supplies\",\"Furniture\",\"Office Supplies\",\"Office Supplies\",\"Office Supplies\",\"Office Supplies\",\"Furniture\",\"Office Supplies\",\"Office Supplies\",\"Furniture\",\"Furniture\",\"Office Supplies\",\"Technology\",\"Technology\",\"Furniture\",\"Office Supplies\",\"Office Supplies\",\"Office Supplies\",\"Technology\",\"Office Supplies\",\"Technology\",\"Office Supplies\",\"Office Supplies\",\"Office Supplies\",\"Technology\",\"Technology\",\"Furniture\",\"Furniture\",\"Office Supplies\",\"Furniture\",\"Office Supplies\",\"Office Supplies\",\"Technology\",\"Office Supplies\",\"Office Supplies\",\"Office Supplies\",\"Office Supplies\",\"Office Supplies\",\"Furniture\",\"Office Supplies\",\"Office Supplies\",\"Office Supplies\",\"Office Supplies\",\"Office Supplies\",\"Office Supplies\",\"Office Supplies\",\"Furniture\",\"Furniture\",\"Office Supplies\",\"Office Supplies\",\"Technology\",\"Office Supplies\",\"Office Supplies\",\"Furniture\",\"Office Supplies\",\"Office Supplies\",\"Furniture\",\"Furniture\",\"Technology\",\"Office Supplies\",\"Office Supplies\",\"Office Supplies\",\"Office Supplies\",\"Office Supplies\",\"Office Supplies\",\"Furniture\",\"Technology\",\"Furniture\",\"Technology\",\"Technology\",\"Office Supplies\",\"Office Supplies\",\"Furniture\",\"Office Supplies\",\"Office Supplies\",\"Technology\",\"Technology\",\"Office Supplies\",\"Office Supplies\",\"Office Supplies\",\"Furniture\",\"Office Supplies\",\"Office Supplies\",\"Office Supplies\",\"Technology\",\"Office Supplies\",\"Office Supplies\",\"Office Supplies\",\"Technology\",\"Office Supplies\",\"Technology\",\"Office Supplies\",\"Furniture\",\"Office Supplies\",\"Technology\",\"Furniture\",\"Furniture\",\"Office Supplies\",\"Technology\",\"Technology\",\"Office Supplies\",\"Technology\",\"Furniture\",\"Furniture\",\"Office Supplies\",\"Office Supplies\",\"Office Supplies\",\"Furniture\",\"Office Supplies\",\"Technology\",\"Office Supplies\",\"Technology\",\"Office Supplies\",\"Furniture\",\"Furniture\",\"Office Supplies\",\"Technology\",\"Office Supplies\",\"Office Supplies\",\"Office Supplies\",\"Office Supplies\",\"Furniture\",\"Office Supplies\",\"Furniture\",\"Office Supplies\",\"Technology\",\"Office Supplies\",\"Technology\",\"Furniture\",\"Office Supplies\",\"Office Supplies\",\"Office Supplies\",\"Furniture\",\"Office Supplies\",\"Office Supplies\",\"Office Supplies\",\"Furniture\",\"Furniture\",\"Office Supplies\",\"Technology\",\"Technology\",\"Furniture\",\"Office Supplies\",\"Office Supplies\",\"Office Supplies\",\"Office Supplies\",\"Office Supplies\",\"Office Supplies\",\"Furniture\",\"Office Supplies\",\"Office Supplies\",\"Office Supplies\",\"Office Supplies\",\"Furniture\",\"Office Supplies\",\"Office Supplies\",\"Technology\",\"Furniture\",\"Office Supplies\",\"Office Supplies\",\"Technology\",\"Technology\",\"Office Supplies\",\"Office Supplies\",\"Office Supplies\",\"Technology\",\"Furniture\",\"Office Supplies\",\"Furniture\",\"Furniture\",\"Office Supplies\",\"Office Supplies\",\"Office Supplies\",\"Office Supplies\",\"Furniture\",\"Office Supplies\",\"Technology\",\"Office Supplies\",\"Office Supplies\",\"Office Supplies\",\"Office Supplies\",\"Office Supplies\",\"Office Supplies\",\"Furniture\",\"Office Supplies\",\"Office Supplies\",\"Office Supplies\",\"Office Supplies\",\"Office Supplies\",\"Office Supplies\",\"Office Supplies\",\"Furniture\",\"Office Supplies\",\"Office Supplies\",\"Technology\",\"Office Supplies\",\"Office Supplies\",\"Technology\",\"Technology\",\"Office Supplies\",\"Technology\",\"Office Supplies\",\"Technology\",\"Furniture\",\"Office Supplies\",\"Technology\",\"Furniture\",\"Office Supplies\",\"Furniture\",\"Furniture\",\"Office Supplies\",\"Furniture\",\"Office Supplies\",\"Furniture\",\"Office Supplies\",\"Office Supplies\",\"Furniture\",\"Furniture\",\"Furniture\",\"Office Supplies\",\"Office Supplies\",\"Technology\",\"Furniture\",\"Office Supplies\",\"Technology\",\"Office Supplies\",\"Furniture\",\"Technology\",\"Office Supplies\",\"Office Supplies\",\"Office Supplies\",\"Furniture\",\"Office Supplies\",\"Office Supplies\",\"Furniture\",\"Furniture\",\"Office Supplies\",\"Office Supplies\",\"Office Supplies\",\"Office Supplies\",\"Office Supplies\",\"Furniture\",\"Technology\",\"Office Supplies\",\"Office Supplies\",\"Office Supplies\",\"Office Supplies\",\"Office Supplies\",\"Furniture\",\"Office Supplies\",\"Office Supplies\",\"Technology\",\"Technology\",\"Office Supplies\",\"Furniture\",\"Technology\",\"Office Supplies\",\"Technology\",\"Furniture\",\"Office Supplies\",\"Technology\",\"Furniture\",\"Office Supplies\",\"Office Supplies\",\"Furniture\",\"Furniture\",\"Furniture\",\"Furniture\",\"Technology\",\"Office Supplies\",\"Office Supplies\",\"Office Supplies\",\"Office Supplies\",\"Office Supplies\",\"Office Supplies\",\"Technology\",\"Technology\",\"Furniture\",\"Furniture\",\"Technology\",\"Furniture\",\"Furniture\",\"Office Supplies\",\"Office Supplies\",\"Furniture\",\"Office Supplies\",\"Office Supplies\",\"Office Supplies\",\"Office Supplies\",\"Furniture\",\"Office Supplies\",\"Office Supplies\",\"Furniture\",\"Office Supplies\",\"Technology\",\"Office Supplies\",\"Office Supplies\",\"Office Supplies\",\"Office Supplies\",\"Office Supplies\",\"Technology\",\"Furniture\",\"Technology\",\"Furniture\",\"Furniture\",\"Office Supplies\",\"Office Supplies\",\"Office Supplies\",\"Office Supplies\",\"Furniture\",\"Office Supplies\",\"Office Supplies\",\"Office Supplies\",\"Office Supplies\",\"Office Supplies\",\"Office Supplies\",\"Furniture\",\"Office Supplies\",\"Office Supplies\",\"Office Supplies\",\"Office Supplies\",\"Office Supplies\",\"Office Supplies\",\"Office Supplies\",\"Office Supplies\",\"Furniture\",\"Office Supplies\",\"Technology\",\"Office Supplies\",\"Furniture\",\"Office Supplies\",\"Office Supplies\",\"Office Supplies\",\"Furniture\",\"Furniture\",\"Office Supplies\",\"Office Supplies\",\"Office Supplies\",\"Furniture\",\"Office Supplies\",\"Technology\",\"Technology\",\"Furniture\",\"Office Supplies\",\"Office Supplies\",\"Office Supplies\",\"Technology\",\"Office Supplies\",\"Furniture\",\"Office Supplies\",\"Office Supplies\",\"Technology\",\"Office Supplies\",\"Technology\",\"Office Supplies\",\"Technology\",\"Office Supplies\",\"Office Supplies\",\"Office Supplies\",\"Office Supplies\",\"Office Supplies\",\"Office Supplies\",\"Office Supplies\",\"Office Supplies\",\"Technology\",\"Furniture\",\"Office Supplies\",\"Technology\",\"Office Supplies\",\"Furniture\",\"Furniture\",\"Office Supplies\",\"Office Supplies\",\"Office Supplies\",\"Office Supplies\",\"Office Supplies\",\"Office Supplies\",\"Office Supplies\",\"Office Supplies\",\"Furniture\",\"Technology\",\"Office Supplies\",\"Technology\",\"Furniture\",\"Office Supplies\",\"Office Supplies\",\"Technology\",\"Office Supplies\",\"Office Supplies\",\"Office Supplies\",\"Office Supplies\",\"Office Supplies\",\"Technology\",\"Office Supplies\",\"Technology\",\"Furniture\",\"Office Supplies\",\"Office Supplies\",\"Office Supplies\",\"Technology\",\"Furniture\",\"Technology\",\"Furniture\",\"Office Supplies\",\"Office Supplies\",\"Office Supplies\",\"Office Supplies\",\"Office Supplies\",\"Furniture\",\"Furniture\",\"Technology\",\"Furniture\",\"Office Supplies\",\"Office Supplies\",\"Office Supplies\",\"Office Supplies\",\"Office Supplies\",\"Office Supplies\",\"Office Supplies\",\"Office Supplies\",\"Office Supplies\",\"Office Supplies\",\"Office Supplies\",\"Technology\",\"Office Supplies\",\"Office Supplies\",\"Office Supplies\",\"Office Supplies\",\"Technology\",\"Office Supplies\",\"Furniture\",\"Office Supplies\",\"Office Supplies\",\"Office Supplies\",\"Office Supplies\",\"Office Supplies\",\"Technology\",\"Furniture\",\"Office Supplies\",\"Office Supplies\",\"Office Supplies\",\"Office Supplies\",\"Furniture\",\"Furniture\",\"Furniture\",\"Furniture\",\"Technology\",\"Furniture\",\"Office Supplies\",\"Furniture\",\"Office Supplies\",\"Furniture\",\"Office Supplies\",\"Office Supplies\",\"Furniture\",\"Office Supplies\",\"Technology\",\"Technology\",\"Office Supplies\",\"Office Supplies\",\"Furniture\",\"Office Supplies\",\"Technology\",\"Technology\",\"Office Supplies\",\"Office Supplies\",\"Office Supplies\",\"Furniture\",\"Furniture\",\"Office Supplies\",\"Furniture\",\"Office Supplies\",\"Office Supplies\",\"Office Supplies\",\"Office Supplies\",\"Office Supplies\",\"Office Supplies\",\"Office Supplies\",\"Office Supplies\",\"Technology\",\"Furniture\",\"Technology\",\"Office Supplies\",\"Office Supplies\",\"Office Supplies\",\"Office Supplies\",\"Office Supplies\",\"Office Supplies\",\"Office Supplies\",\"Furniture\",\"Technology\",\"Furniture\",\"Office Supplies\",\"Furniture\",\"Office Supplies\",\"Office Supplies\",\"Furniture\",\"Office Supplies\",\"Office Supplies\",\"Furniture\",\"Office Supplies\",\"Office Supplies\",\"Furniture\",\"Technology\",\"Furniture\",\"Office Supplies\",\"Office Supplies\",\"Office Supplies\",\"Furniture\",\"Office Supplies\",\"Furniture\",\"Office Supplies\",\"Technology\",\"Office Supplies\",\"Office Supplies\",\"Office Supplies\",\"Furniture\",\"Office Supplies\",\"Technology\",\"Technology\",\"Office Supplies\",\"Furniture\",\"Furniture\",\"Office Supplies\",\"Office Supplies\",\"Office Supplies\",\"Technology\",\"Furniture\",\"Office Supplies\",\"Furniture\",\"Office Supplies\",\"Office Supplies\",\"Furniture\",\"Office Supplies\",\"Office Supplies\",\"Technology\",\"Office Supplies\",\"Technology\",\"Office Supplies\",\"Office Supplies\",\"Technology\",\"Office Supplies\",\"Technology\",\"Furniture\",\"Furniture\",\"Furniture\",\"Furniture\",\"Office Supplies\",\"Office Supplies\",\"Technology\",\"Furniture\",\"Office Supplies\",\"Furniture\",\"Technology\",\"Furniture\",\"Office Supplies\",\"Office Supplies\",\"Office Supplies\",\"Office Supplies\",\"Office Supplies\",\"Office Supplies\",\"Technology\",\"Technology\",\"Office Supplies\",\"Office Supplies\",\"Office Supplies\",\"Furniture\",\"Furniture\",\"Technology\",\"Furniture\",\"Office Supplies\",\"Office Supplies\",\"Office Supplies\",\"Office Supplies\",\"Office Supplies\",\"Technology\",\"Office Supplies\",\"Office Supplies\",\"Technology\",\"Office Supplies\",\"Office Supplies\",\"Office Supplies\",\"Furniture\",\"Office Supplies\",\"Office Supplies\",\"Office Supplies\",\"Technology\",\"Office Supplies\",\"Furniture\",\"Office Supplies\",\"Office Supplies\",\"Technology\",\"Office Supplies\",\"Technology\",\"Office Supplies\",\"Technology\",\"Office Supplies\",\"Office Supplies\",\"Office Supplies\",\"Technology\",\"Furniture\",\"Office Supplies\",\"Furniture\",\"Office Supplies\",\"Technology\",\"Office Supplies\",\"Technology\",\"Technology\",\"Office Supplies\",\"Office Supplies\",\"Furniture\",\"Office Supplies\",\"Office Supplies\",\"Office Supplies\",\"Office Supplies\",\"Furniture\",\"Furniture\",\"Furniture\",\"Furniture\",\"Furniture\",\"Technology\",\"Office Supplies\",\"Technology\",\"Furniture\",\"Office Supplies\",\"Technology\",\"Office Supplies\",\"Furniture\",\"Office Supplies\",\"Office Supplies\",\"Office Supplies\",\"Furniture\",\"Office Supplies\",\"Technology\",\"Office Supplies\",\"Office Supplies\",\"Office Supplies\",\"Technology\",\"Office Supplies\",\"Office Supplies\",\"Furniture\",\"Technology\",\"Furniture\",\"Furniture\",\"Office Supplies\",\"Technology\",\"Office Supplies\",\"Furniture\",\"Office Supplies\",\"Office Supplies\",\"Technology\",\"Technology\",\"Furniture\",\"Technology\",\"Office Supplies\",\"Technology\",\"Office Supplies\",\"Technology\",\"Technology\",\"Furniture\",\"Furniture\",\"Office Supplies\",\"Furniture\",\"Technology\",\"Office Supplies\",\"Office Supplies\",\"Office Supplies\",\"Office Supplies\",\"Technology\",\"Office Supplies\",\"Technology\",\"Office Supplies\",\"Office Supplies\",\"Office Supplies\",\"Furniture\",\"Furniture\",\"Office Supplies\",\"Office Supplies\",\"Furniture\",\"Office Supplies\",\"Technology\",\"Office Supplies\",\"Office Supplies\",\"Office Supplies\",\"Technology\",\"Office Supplies\",\"Office Supplies\",\"Office Supplies\",\"Office Supplies\",\"Office Supplies\",\"Furniture\",\"Technology\",\"Technology\",\"Office Supplies\",\"Office Supplies\",\"Office Supplies\",\"Office Supplies\",\"Office Supplies\",\"Office Supplies\",\"Office Supplies\",\"Technology\",\"Technology\",\"Technology\",\"Technology\",\"Technology\",\"Furniture\",\"Office Supplies\",\"Furniture\",\"Furniture\",\"Technology\",\"Office Supplies\",\"Technology\",\"Office Supplies\",\"Office Supplies\",\"Office Supplies\",\"Office Supplies\",\"Furniture\",\"Office Supplies\",\"Furniture\",\"Office Supplies\",\"Office Supplies\",\"Office Supplies\",\"Technology\",\"Office Supplies\",\"Office Supplies\",\"Technology\",\"Office Supplies\",\"Furniture\",\"Office Supplies\",\"Furniture\",\"Office Supplies\",\"Office Supplies\",\"Furniture\",\"Office Supplies\",\"Office Supplies\",\"Furniture\",\"Technology\",\"Office Supplies\",\"Office Supplies\",\"Office Supplies\",\"Office Supplies\",\"Office Supplies\",\"Office Supplies\",\"Furniture\",\"Furniture\",\"Furniture\",\"Office Supplies\",\"Office Supplies\",\"Office Supplies\",\"Furniture\",\"Office Supplies\",\"Technology\",\"Technology\",\"Technology\",\"Office Supplies\",\"Office Supplies\",\"Office Supplies\",\"Office Supplies\",\"Furniture\",\"Furniture\",\"Technology\",\"Office Supplies\",\"Furniture\",\"Office Supplies\",\"Office Supplies\",\"Office Supplies\",\"Technology\",\"Office Supplies\",\"Furniture\",\"Office Supplies\",\"Office Supplies\",\"Furniture\",\"Office Supplies\",\"Office Supplies\",\"Furniture\",\"Furniture\",\"Office Supplies\",\"Technology\",\"Office Supplies\",\"Office Supplies\",\"Technology\",\"Office Supplies\",\"Technology\",\"Office Supplies\",\"Office Supplies\",\"Office Supplies\",\"Office Supplies\",\"Office Supplies\",\"Technology\",\"Technology\",\"Technology\",\"Technology\",\"Office Supplies\",\"Furniture\",\"Technology\",\"Furniture\",\"Furniture\",\"Technology\",\"Office Supplies\",\"Office Supplies\",\"Office Supplies\",\"Office Supplies\",\"Technology\",\"Office Supplies\",\"Furniture\",\"Office Supplies\",\"Technology\",\"Furniture\",\"Office Supplies\",\"Furniture\",\"Furniture\",\"Technology\",\"Office Supplies\",\"Office Supplies\",\"Office Supplies\",\"Furniture\",\"Office Supplies\",\"Office Supplies\",\"Furniture\",\"Office Supplies\",\"Office Supplies\",\"Office Supplies\",\"Office Supplies\",\"Office Supplies\",\"Technology\",\"Furniture\",\"Furniture\",\"Office Supplies\",\"Technology\",\"Office Supplies\",\"Office Supplies\",\"Furniture\",\"Technology\",\"Office Supplies\",\"Office Supplies\",\"Office Supplies\",\"Office Supplies\",\"Technology\",\"Office Supplies\",\"Office Supplies\",\"Furniture\",\"Technology\",\"Office Supplies\",\"Office Supplies\",\"Furniture\",\"Office Supplies\",\"Technology\",\"Office Supplies\",\"Technology\",\"Office Supplies\",\"Technology\",\"Office Supplies\",\"Office Supplies\",\"Office Supplies\",\"Office Supplies\",\"Office Supplies\",\"Furniture\",\"Office Supplies\",\"Office Supplies\",\"Office Supplies\",\"Office Supplies\",\"Office Supplies\",\"Office Supplies\",\"Office Supplies\",\"Office Supplies\",\"Office Supplies\",\"Technology\",\"Technology\",\"Furniture\",\"Office Supplies\",\"Office Supplies\",\"Office Supplies\",\"Office Supplies\",\"Office Supplies\",\"Furniture\",\"Office Supplies\",\"Furniture\",\"Office Supplies\",\"Office Supplies\",\"Furniture\",\"Office Supplies\",\"Furniture\",\"Office Supplies\",\"Technology\",\"Office Supplies\",\"Technology\",\"Furniture\",\"Furniture\",\"Office Supplies\",\"Technology\",\"Office Supplies\",\"Office Supplies\",\"Technology\",\"Technology\",\"Office Supplies\",\"Office Supplies\",\"Technology\",\"Technology\",\"Office Supplies\",\"Technology\",\"Furniture\",\"Technology\",\"Office Supplies\",\"Office Supplies\",\"Furniture\",\"Office Supplies\",\"Technology\",\"Office Supplies\",\"Office Supplies\",\"Office Supplies\",\"Office Supplies\",\"Furniture\",\"Technology\",\"Office Supplies\",\"Office Supplies\",\"Office Supplies\",\"Office Supplies\",\"Office Supplies\",\"Technology\",\"Office Supplies\",\"Office Supplies\",\"Office Supplies\",\"Office Supplies\",\"Office Supplies\",\"Office Supplies\",\"Office Supplies\",\"Office Supplies\",\"Office Supplies\",\"Office Supplies\",\"Furniture\",\"Office Supplies\",\"Office Supplies\",\"Technology\",\"Office Supplies\",\"Office Supplies\",\"Office Supplies\",\"Office Supplies\",\"Office Supplies\",\"Technology\",\"Technology\",\"Technology\",\"Office Supplies\",\"Office Supplies\",\"Office Supplies\",\"Office Supplies\",\"Office Supplies\",\"Technology\",\"Furniture\",\"Office Supplies\",\"Office Supplies\",\"Office Supplies\",\"Office Supplies\",\"Technology\",\"Office Supplies\",\"Technology\",\"Technology\",\"Office Supplies\",\"Technology\",\"Office Supplies\",\"Furniture\",\"Office Supplies\",\"Office Supplies\",\"Office Supplies\",\"Office Supplies\",\"Furniture\",\"Technology\",\"Technology\",\"Office Supplies\",\"Furniture\",\"Office Supplies\",\"Technology\",\"Office Supplies\",\"Office Supplies\",\"Office Supplies\",\"Office Supplies\",\"Technology\",\"Office Supplies\",\"Office Supplies\",\"Technology\",\"Technology\",\"Technology\",\"Office Supplies\",\"Office Supplies\",\"Office Supplies\",\"Office Supplies\",\"Office Supplies\",\"Furniture\",\"Technology\",\"Office Supplies\",\"Furniture\",\"Furniture\",\"Furniture\",\"Furniture\",\"Office Supplies\",\"Technology\",\"Office Supplies\",\"Technology\",\"Office Supplies\",\"Furniture\",\"Office Supplies\",\"Furniture\",\"Office Supplies\",\"Office Supplies\",\"Technology\",\"Office Supplies\",\"Technology\",\"Office Supplies\",\"Office Supplies\",\"Technology\",\"Technology\",\"Office Supplies\",\"Office Supplies\",\"Office Supplies\",\"Office Supplies\",\"Office Supplies\",\"Office Supplies\",\"Office Supplies\",\"Furniture\",\"Technology\",\"Technology\",\"Furniture\",\"Office Supplies\",\"Technology\",\"Office Supplies\",\"Furniture\",\"Office Supplies\",\"Furniture\",\"Furniture\",\"Technology\",\"Furniture\",\"Technology\",\"Furniture\",\"Office Supplies\",\"Technology\",\"Office Supplies\",\"Technology\",\"Office Supplies\",\"Office Supplies\",\"Office Supplies\",\"Office Supplies\",\"Technology\",\"Furniture\",\"Office Supplies\",\"Office Supplies\",\"Office Supplies\",\"Office Supplies\",\"Office Supplies\",\"Furniture\",\"Technology\",\"Office Supplies\",\"Office Supplies\",\"Office Supplies\",\"Furniture\",\"Office Supplies\",\"Furniture\",\"Technology\",\"Technology\",\"Office Supplies\",\"Furniture\",\"Office Supplies\",\"Furniture\",\"Technology\",\"Furniture\",\"Office Supplies\",\"Technology\",\"Furniture\",\"Office Supplies\",\"Office Supplies\",\"Technology\",\"Furniture\",\"Technology\",\"Furniture\",\"Office Supplies\",\"Office Supplies\",\"Furniture\",\"Office Supplies\",\"Office Supplies\",\"Office Supplies\",\"Office Supplies\",\"Office Supplies\",\"Office Supplies\",\"Furniture\",\"Furniture\",\"Furniture\",\"Office Supplies\",\"Technology\",\"Office Supplies\",\"Furniture\",\"Technology\",\"Technology\",\"Technology\",\"Furniture\",\"Office Supplies\",\"Office Supplies\",\"Technology\",\"Office Supplies\",\"Office Supplies\",\"Furniture\",\"Office Supplies\",\"Technology\",\"Office Supplies\",\"Technology\",\"Office Supplies\",\"Office Supplies\",\"Office Supplies\",\"Office Supplies\",\"Furniture\",\"Office Supplies\",\"Office Supplies\",\"Technology\",\"Furniture\",\"Office Supplies\",\"Office Supplies\",\"Office Supplies\",\"Office Supplies\",\"Office Supplies\",\"Office Supplies\",\"Technology\",\"Furniture\",\"Office Supplies\",\"Furniture\",\"Furniture\",\"Technology\",\"Technology\",\"Furniture\",\"Furniture\",\"Furniture\",\"Office Supplies\",\"Office Supplies\",\"Furniture\",\"Furniture\",\"Office Supplies\",\"Office Supplies\",\"Technology\",\"Office Supplies\",\"Office Supplies\",\"Technology\",\"Office Supplies\",\"Furniture\",\"Furniture\",\"Office Supplies\",\"Technology\",\"Office Supplies\",\"Technology\",\"Technology\",\"Office Supplies\",\"Office Supplies\",\"Office Supplies\",\"Office Supplies\",\"Office Supplies\",\"Office Supplies\",\"Technology\",\"Office Supplies\",\"Technology\",\"Furniture\",\"Furniture\",\"Furniture\",\"Furniture\",\"Office Supplies\",\"Office Supplies\",\"Office Supplies\",\"Office Supplies\",\"Office Supplies\",\"Office Supplies\",\"Technology\",\"Technology\",\"Furniture\",\"Office Supplies\",\"Furniture\",\"Office Supplies\",\"Office Supplies\",\"Technology\",\"Office Supplies\",\"Office Supplies\",\"Office Supplies\",\"Technology\",\"Furniture\",\"Office Supplies\",\"Technology\",\"Office Supplies\",\"Office Supplies\",\"Office Supplies\",\"Office Supplies\",\"Office Supplies\",\"Office Supplies\",\"Furniture\",\"Technology\",\"Office Supplies\",\"Office Supplies\",\"Office Supplies\",\"Furniture\",\"Technology\",\"Office Supplies\",\"Technology\",\"Office Supplies\",\"Office Supplies\",\"Technology\",\"Office Supplies\",\"Technology\",\"Office Supplies\",\"Office Supplies\",\"Furniture\",\"Office Supplies\",\"Office Supplies\",\"Technology\",\"Office Supplies\",\"Office Supplies\",\"Technology\",\"Office Supplies\",\"Technology\",\"Office Supplies\",\"Office Supplies\",\"Technology\",\"Technology\",\"Furniture\",\"Furniture\",\"Office Supplies\",\"Office Supplies\",\"Office Supplies\",\"Office Supplies\",\"Office Supplies\",\"Office Supplies\",\"Furniture\",\"Furniture\",\"Office Supplies\",\"Office Supplies\",\"Office Supplies\",\"Furniture\",\"Office Supplies\",\"Furniture\",\"Office Supplies\",\"Technology\",\"Office Supplies\",\"Office Supplies\",\"Office Supplies\",\"Office Supplies\",\"Technology\",\"Technology\",\"Technology\",\"Technology\",\"Office Supplies\",\"Technology\",\"Office Supplies\",\"Office Supplies\",\"Technology\",\"Office Supplies\",\"Office Supplies\",\"Office Supplies\",\"Office Supplies\",\"Office Supplies\",\"Technology\",\"Office Supplies\",\"Furniture\",\"Office Supplies\",\"Office Supplies\",\"Office Supplies\",\"Technology\",\"Office Supplies\",\"Office Supplies\",\"Furniture\",\"Furniture\",\"Technology\",\"Office Supplies\",\"Technology\",\"Office Supplies\",\"Office Supplies\",\"Office Supplies\",\"Office Supplies\",\"Furniture\",\"Office Supplies\",\"Office Supplies\",\"Office Supplies\",\"Technology\",\"Office Supplies\",\"Office Supplies\",\"Technology\",\"Office Supplies\",\"Technology\",\"Office Supplies\",\"Office Supplies\",\"Technology\",\"Office Supplies\",\"Furniture\",\"Furniture\",\"Office Supplies\",\"Office Supplies\",\"Technology\",\"Office Supplies\",\"Office Supplies\",\"Office Supplies\",\"Office Supplies\",\"Technology\",\"Office Supplies\",\"Technology\",\"Office Supplies\",\"Technology\",\"Office Supplies\",\"Furniture\",\"Furniture\",\"Office Supplies\",\"Office Supplies\",\"Office Supplies\",\"Office Supplies\",\"Office Supplies\",\"Office Supplies\",\"Technology\",\"Office Supplies\",\"Office Supplies\",\"Office Supplies\",\"Office Supplies\",\"Furniture\",\"Furniture\",\"Office Supplies\",\"Office Supplies\",\"Office Supplies\",\"Office Supplies\",\"Office Supplies\",\"Furniture\",\"Office Supplies\",\"Furniture\",\"Office Supplies\",\"Office Supplies\",\"Office Supplies\",\"Office Supplies\",\"Office Supplies\",\"Office Supplies\",\"Office Supplies\",\"Office Supplies\",\"Office Supplies\",\"Office Supplies\",\"Furniture\",\"Office Supplies\",\"Technology\",\"Office Supplies\",\"Furniture\",\"Office Supplies\",\"Furniture\",\"Office Supplies\",\"Office Supplies\",\"Office Supplies\",\"Office Supplies\",\"Furniture\",\"Office Supplies\",\"Office Supplies\",\"Office Supplies\",\"Office Supplies\",\"Office Supplies\",\"Technology\",\"Office Supplies\",\"Office Supplies\",\"Technology\",\"Office Supplies\",\"Furniture\",\"Office Supplies\",\"Office Supplies\",\"Furniture\",\"Office Supplies\",\"Office Supplies\",\"Office Supplies\",\"Furniture\",\"Furniture\",\"Office Supplies\",\"Office Supplies\",\"Office Supplies\",\"Furniture\",\"Furniture\",\"Office Supplies\",\"Office Supplies\",\"Office Supplies\",\"Furniture\",\"Technology\",\"Office Supplies\",\"Office Supplies\",\"Office Supplies\",\"Technology\",\"Office Supplies\",\"Office Supplies\",\"Furniture\",\"Furniture\",\"Office Supplies\",\"Office Supplies\",\"Office Supplies\",\"Furniture\",\"Furniture\",\"Office Supplies\",\"Furniture\",\"Furniture\",\"Office Supplies\",\"Office Supplies\",\"Office Supplies\",\"Office Supplies\",\"Office Supplies\",\"Office Supplies\",\"Furniture\",\"Technology\",\"Technology\",\"Office Supplies\",\"Office Supplies\",\"Furniture\",\"Technology\",\"Office Supplies\",\"Office Supplies\",\"Office Supplies\",\"Office Supplies\",\"Office Supplies\",\"Office Supplies\",\"Technology\",\"Office Supplies\",\"Office Supplies\",\"Office Supplies\",\"Office Supplies\",\"Office Supplies\",\"Office Supplies\",\"Technology\",\"Office Supplies\",\"Technology\",\"Office Supplies\",\"Furniture\",\"Furniture\",\"Furniture\",\"Furniture\",\"Office Supplies\",\"Furniture\",\"Office Supplies\",\"Furniture\",\"Technology\",\"Office Supplies\",\"Office Supplies\",\"Office Supplies\",\"Technology\",\"Office Supplies\",\"Office Supplies\",\"Furniture\",\"Office Supplies\",\"Office Supplies\",\"Office Supplies\",\"Office Supplies\",\"Office Supplies\",\"Office Supplies\",\"Technology\",\"Office Supplies\",\"Furniture\",\"Office Supplies\",\"Technology\",\"Furniture\",\"Furniture\",\"Furniture\",\"Furniture\",\"Office Supplies\",\"Furniture\",\"Furniture\",\"Office Supplies\",\"Office Supplies\",\"Office Supplies\",\"Office Supplies\",\"Office Supplies\",\"Furniture\",\"Furniture\",\"Office Supplies\",\"Office Supplies\",\"Office Supplies\",\"Furniture\",\"Office Supplies\",\"Office Supplies\",\"Office Supplies\",\"Office Supplies\",\"Office Supplies\",\"Furniture\",\"Furniture\",\"Furniture\",\"Office Supplies\",\"Technology\",\"Office Supplies\",\"Technology\",\"Technology\",\"Office Supplies\",\"Office Supplies\",\"Office Supplies\",\"Furniture\",\"Office Supplies\",\"Office Supplies\",\"Office Supplies\",\"Office Supplies\",\"Furniture\",\"Office Supplies\",\"Office Supplies\",\"Office Supplies\",\"Office Supplies\",\"Office Supplies\",\"Technology\",\"Furniture\",\"Technology\",\"Furniture\",\"Furniture\",\"Office Supplies\",\"Office Supplies\",\"Technology\",\"Office Supplies\",\"Office Supplies\",\"Furniture\",\"Furniture\",\"Office Supplies\",\"Office Supplies\",\"Technology\",\"Office Supplies\",\"Technology\",\"Furniture\",\"Office Supplies\",\"Furniture\",\"Office Supplies\",\"Furniture\",\"Office Supplies\",\"Technology\",\"Office Supplies\",\"Furniture\",\"Office Supplies\",\"Office Supplies\",\"Office Supplies\",\"Office Supplies\",\"Technology\",\"Office Supplies\",\"Technology\",\"Technology\",\"Furniture\",\"Office Supplies\",\"Furniture\",\"Furniture\",\"Technology\",\"Furniture\",\"Office Supplies\",\"Technology\",\"Office Supplies\",\"Office Supplies\",\"Technology\",\"Office Supplies\",\"Office Supplies\",\"Technology\",\"Office Supplies\",\"Office Supplies\",\"Office Supplies\",\"Office Supplies\",\"Technology\",\"Technology\",\"Office Supplies\",\"Office Supplies\",\"Furniture\",\"Office Supplies\",\"Office Supplies\",\"Office Supplies\",\"Office Supplies\",\"Office Supplies\",\"Office Supplies\",\"Technology\",\"Technology\",\"Technology\",\"Office Supplies\",\"Office Supplies\",\"Technology\",\"Office Supplies\",\"Technology\",\"Furniture\",\"Office Supplies\",\"Office Supplies\",\"Furniture\",\"Office Supplies\",\"Furniture\",\"Office Supplies\",\"Office Supplies\",\"Technology\",\"Office Supplies\",\"Furniture\",\"Furniture\",\"Office Supplies\",\"Office Supplies\",\"Furniture\",\"Office Supplies\",\"Office Supplies\",\"Office Supplies\",\"Office Supplies\",\"Office Supplies\",\"Technology\",\"Office Supplies\",\"Furniture\",\"Office Supplies\",\"Furniture\",\"Office Supplies\",\"Technology\",\"Office Supplies\",\"Office Supplies\",\"Office Supplies\",\"Office Supplies\",\"Furniture\",\"Office Supplies\",\"Technology\",\"Office Supplies\",\"Office Supplies\",\"Office Supplies\",\"Office Supplies\",\"Furniture\",\"Furniture\",\"Office Supplies\",\"Office Supplies\",\"Technology\",\"Office Supplies\",\"Office Supplies\",\"Office Supplies\",\"Office Supplies\",\"Office Supplies\",\"Office Supplies\",\"Office Supplies\",\"Furniture\",\"Technology\",\"Office Supplies\",\"Office Supplies\",\"Technology\",\"Office Supplies\",\"Office Supplies\",\"Office Supplies\",\"Office Supplies\",\"Technology\",\"Office Supplies\",\"Office Supplies\",\"Office Supplies\",\"Furniture\",\"Technology\",\"Office Supplies\",\"Office Supplies\",\"Office Supplies\",\"Office Supplies\",\"Office Supplies\",\"Furniture\",\"Office Supplies\",\"Office Supplies\",\"Office Supplies\",\"Furniture\",\"Furniture\",\"Office Supplies\",\"Office Supplies\",\"Furniture\",\"Office Supplies\",\"Office Supplies\",\"Office Supplies\",\"Furniture\",\"Technology\",\"Office Supplies\",\"Office Supplies\",\"Office Supplies\",\"Office Supplies\",\"Office Supplies\",\"Office Supplies\",\"Technology\",\"Furniture\",\"Furniture\",\"Office Supplies\",\"Office Supplies\",\"Furniture\",\"Technology\",\"Office Supplies\",\"Furniture\",\"Technology\",\"Technology\",\"Office Supplies\",\"Office Supplies\",\"Furniture\",\"Office Supplies\",\"Office Supplies\",\"Technology\",\"Office Supplies\",\"Office Supplies\",\"Office Supplies\",\"Office Supplies\",\"Office Supplies\",\"Furniture\",\"Furniture\",\"Technology\",\"Furniture\",\"Technology\",\"Office Supplies\",\"Office Supplies\",\"Furniture\",\"Office Supplies\",\"Furniture\",\"Office Supplies\",\"Office Supplies\",\"Office Supplies\",\"Office Supplies\",\"Office Supplies\",\"Office Supplies\",\"Office Supplies\",\"Furniture\",\"Furniture\",\"Office Supplies\",\"Office Supplies\",\"Office Supplies\",\"Office Supplies\",\"Technology\",\"Furniture\",\"Office Supplies\",\"Office Supplies\",\"Office Supplies\",\"Office Supplies\",\"Furniture\",\"Office Supplies\",\"Technology\",\"Office Supplies\",\"Office Supplies\",\"Office Supplies\",\"Furniture\",\"Office Supplies\",\"Office Supplies\",\"Technology\",\"Office Supplies\",\"Technology\",\"Office Supplies\",\"Office Supplies\",\"Technology\",\"Office Supplies\",\"Technology\",\"Office Supplies\",\"Technology\",\"Office Supplies\",\"Office Supplies\",\"Furniture\",\"Furniture\",\"Office Supplies\",\"Office Supplies\",\"Office Supplies\",\"Office Supplies\",\"Office Supplies\",\"Technology\",\"Office Supplies\",\"Technology\",\"Office Supplies\",\"Furniture\",\"Furniture\",\"Furniture\",\"Office Supplies\",\"Furniture\",\"Office Supplies\",\"Office Supplies\",\"Furniture\",\"Furniture\",\"Technology\",\"Office Supplies\",\"Office Supplies\",\"Office Supplies\",\"Technology\",\"Furniture\",\"Office Supplies\",\"Office Supplies\",\"Furniture\",\"Technology\",\"Office Supplies\",\"Furniture\",\"Office Supplies\",\"Office Supplies\",\"Furniture\",\"Office Supplies\",\"Technology\",\"Technology\",\"Technology\",\"Office Supplies\",\"Office Supplies\",\"Furniture\",\"Furniture\",\"Office Supplies\",\"Office Supplies\",\"Office Supplies\",\"Office Supplies\",\"Technology\",\"Office Supplies\",\"Technology\",\"Office Supplies\",\"Furniture\",\"Office Supplies\",\"Office Supplies\",\"Office Supplies\",\"Office Supplies\",\"Technology\",\"Office Supplies\",\"Office Supplies\",\"Furniture\",\"Office Supplies\",\"Technology\",\"Office Supplies\",\"Office Supplies\",\"Office Supplies\",\"Technology\",\"Office Supplies\",\"Furniture\",\"Office Supplies\",\"Office Supplies\",\"Office Supplies\",\"Office Supplies\",\"Office Supplies\",\"Furniture\",\"Office Supplies\",\"Office Supplies\",\"Technology\",\"Office Supplies\",\"Office Supplies\",\"Office Supplies\",\"Office Supplies\",\"Office Supplies\",\"Furniture\",\"Office Supplies\",\"Furniture\",\"Office Supplies\",\"Furniture\",\"Office Supplies\",\"Office Supplies\",\"Technology\",\"Technology\",\"Office Supplies\",\"Office Supplies\",\"Technology\",\"Technology\",\"Office Supplies\",\"Furniture\",\"Furniture\",\"Technology\",\"Office Supplies\",\"Office Supplies\",\"Technology\",\"Office Supplies\",\"Technology\",\"Office Supplies\",\"Office Supplies\",\"Office Supplies\",\"Office Supplies\",\"Furniture\",\"Office Supplies\",\"Office Supplies\",\"Office Supplies\",\"Technology\",\"Office Supplies\",\"Office Supplies\",\"Office Supplies\",\"Office Supplies\",\"Furniture\",\"Office Supplies\",\"Office Supplies\",\"Office Supplies\",\"Furniture\",\"Furniture\",\"Furniture\",\"Furniture\",\"Technology\",\"Office Supplies\",\"Office Supplies\",\"Office Supplies\",\"Office Supplies\",\"Office Supplies\",\"Office Supplies\",\"Furniture\",\"Technology\",\"Office Supplies\",\"Furniture\",\"Office Supplies\",\"Technology\",\"Office Supplies\",\"Office Supplies\",\"Technology\",\"Office Supplies\",\"Office Supplies\",\"Office Supplies\",\"Office Supplies\",\"Furniture\",\"Office Supplies\",\"Office Supplies\",\"Office Supplies\",\"Technology\",\"Office Supplies\",\"Furniture\",\"Office Supplies\",\"Technology\",\"Office Supplies\",\"Office Supplies\",\"Technology\",\"Office Supplies\",\"Office Supplies\",\"Office Supplies\",\"Furniture\",\"Office Supplies\",\"Furniture\",\"Furniture\",\"Furniture\",\"Technology\",\"Furniture\",\"Office Supplies\",\"Furniture\",\"Office Supplies\",\"Office Supplies\",\"Office Supplies\",\"Office Supplies\",\"Technology\",\"Technology\",\"Technology\"],\"legendgroup\":\"\",\"name\":\"\",\"showlegend\":true,\"values\":[261.96,731.94,14.62,957.5775,22.368,48.86,7.28,907.152,18.504,114.9,1706.184,911.424,15.552,407.976,68.81,2.544,665.88,55.5,8.56,213.48,22.72,19.46,60.34,71.372,1044.63,11.648,90.57,3083.43,9.618,124.2,3.264,86.304,6.858,15.76,29.472,1097.544,190.92,113.328,532.3992,212.058,371.168,147.168,77.88,95.616,45.98,17.46,211.96,45.0,21.8,38.22,75.18,6.16,89.99,15.26,1029.95,208.56,32.4,319.41,14.56,30.0,48.48,1.68,13.98,25.824,146.73,79.76,213.115,1113.024,167.968,75.88,4.616,19.05,831.936,97.04,72.784,1.248,9.708,27.24,19.3,208.16,16.74,14.9,21.39,200.984,230.376,301.96,19.99,6.16,158.368,20.1,73.584,6.48,12.96,53.34,32.96,5.682,96.53,51.312,77.88,64.624,95.976,1.788,23.92,238.896,102.36,36.882,74.112,27.992,3.304,339.96,41.96,75.96,27.24,40.096,4.72,23.976,130.464,787.53,157.794,47.04,30.84,226.56,115.02,68.04,600.558,617.7,2.388,243.992,81.424,238.56,59.97,78.304,21.456,20.04,35.44,11.52,4.02,76.176,65.88,43.12,82.8,8.82,10.86,143.7,839.43,671.93,93.888,384.45,149.97,1951.84,171.55,157.92,203.184,58.38,105.52,80.88,6.63,457.568,14.62,944.93,5.98,54.384,28.4,27.68,9.936,8159.952,275.928,1740.06,32.064,177.98,143.976,20.94,110.96,340.144,52.448,20.16,97.264,396.802,15.88,3.28,24.816,408.744,503.96,149.95,29.0,7.16,176.8,37.224,20.016,899.136,71.76,51.84,626.352,19.9,14.28,7.408,6.048,46.26,2.946,16.056,21.744,218.75,2.6,66.284,35.168,444.768,83.92,131.98,15.92,52.29,91.99,20.8,23.68,452.45,62.982,1188.0,89.584,93.06,302.376,5.584,22.704,19.776,72.704,479.988,27.168,2.2,622.45,21.98,161.568,389.696,18.648,233.86,620.6145,5.328,258.072,617.976,10.56,25.92,419.68,11.688,31.984,177.225,4.044,7.408,2001.86,166.72,47.88,1503.25,25.92,321.568,7.61,3347.37,80.58,361.92,12.132,82.368,53.92,647.904,20.37,221.55,17.52,1.624,3059.982,2519.958,328.224,79.9,14.016,7.56,37.208,57.576,725.84,209.93,5.28,10.92,8.82,5.98,11.648,18.176,59.712,24.84,2.08,1114.4,1038.84,141.76,239.8,31.104,254.058,194.528,961.48,19.096,18.496,255.984,86.97,300.416,230.352,218.352,78.6,27.552,32.4,1082.48,56.91,77.6,14.28,219.075,26.8,9.84,45.48,289.2,4.89,15.136,466.768,15.232,6.264,87.54,178.384,15.552,99.136,135.882,3991.98,275.94,360.0,43.57,7.16,251.52,99.99,15.992,290.898,54.224,786.744,100.24,37.764,82.8,20.724,4.896,4.752,959.984,14.368,7.712,698.352,4.96,17.856,509.97,30.992,71.928,88.8,47.976,7.56,24.56,12.96,6.79,24.56,3.048,49.12,4355.168,388.704,8.26,17.04,34.4,36.24,647.84,20.7,20.7,488.646,5.56,47.12,211.96,23.2,7.36,104.79,1043.92,25.92,53.424,8.16,1023.936,9.24,479.04,99.136,1488.424,8.652,23.832,12.176,50.96,49.536,41.9,375.4575,83.976,482.34,2.96,2.624,23.36,39.98,246.384,1799.97,12.462,75.792,49.96,12.96,70.12,35.952,2396.2656,131.136,57.584,9.568,39.072,35.91,179.95,1199.976,27.15,1004.024,9.68,28.35,55.98,1336.829,113.568,139.86,307.136,95.92,383.8,5.78,9.32,15.25,196.752,56.56,32.7,866.4,28.4,287.92,69.99,6.672,189.588,408.744,291.96,4.768,714.3,4.812,247.8,1007.979,313.488,31.872,207.846,12.22,194.94,70.95,91.36,242.94,22.05,2.91,59.52,161.94,263.88,30.48,9.84,35.12,284.364,665.408,63.88,129.568,747.558,8.928,103.92,899.91,51.312,23.56,1272.63,28.485,185.376,78.272,254.744,205.3328,4.788,55.48,340.92,222.666,703.968,92.52,62.65,94.85,95.76,40.2,14.7,704.25,9.09,5.96,159.98,29.6,514.165,279.96,2735.952,7.992,63.984,70.368,449.15,11.07,93.98,189.882,105.42,119.616,255.76,241.568,69.3,22.62,14.952,801.568,2.376,32.792,15.92,2.74,8.34,46.74,6354.95,126.3,38.04,7.152,6.63,5.88,2999.95,51.45,11.96,1126.02,18.392,129.568,14.112,210.98,55.176,66.26,22.2,683.952,45.696,36.336,666.248,52.512,190.72,47.94,979.95,22.75,16.768,42.616,10.752,152.94,283.92,468.9,380.864,646.776,58.112,100.792,66.112,41.28,13.36,250.272,11.364,8.72,1121.568,34.504,10.824,1295.78,19.456,20.7,1335.68,32.4,42.6,84.056,13.0,13.128,3.96,2.61,374.376,91.84,81.088,19.44,451.152,72.45,13.96,33.264,14.85,8.82,160.72,19.92,7.3,69.712,8.792,51.52,470.376,105.584,31.152,6.783,406.368,70.98,294.93,84.784,20.736,16.821,10.368,9.344,31.2,76.12,1199.976,445.96,327.76,11.632,143.982,494.376,5.84,142.776,45.696,7.218,43.188,131.904,3.282,21.168,55.188,369.576,15.712,8.448,728.946,119.94,3.648,40.48,9.94,107.424,37.91,88.02,8.69,301.96,555.21,523.48,161.82,35.56,97.16,15.24,13.23,243.384,119.8,300.768,17.88,235.944,392.94,18.882,122.328,1049.2,15.424,18.84,330.4,26.25,132.52,6.48,209.3,31.56,30.144,14.8,302.376,316.0,379.4,97.82,103.12,113.552,3.318,134.288,701.372,2.308,999.432,724.08,918.785,2.724,459.95,10.74,23.76,85.056,381.576,30.36,23.976,108.925,36.352,19.56,61.44,38.9,99.39,2.688,27.816,82.524,182.994,14.352,64.96,68.6,7999.98,167.44,479.97,14.62,19.44,191.984,104.01,284.82,36.84,166.24,33.4,198.272,47.36,200.984,97.696,2.696,18.588,4.896,15.072,209.88,369.912,10.368,166.84,15.216,119.96,883.92,46.72,55.48,24.448,281.34,307.98,299.97,19.92,9.94,103.056,59.808,73.32,146.82,1652.94,296.37,129.92,45.584,17.568,55.992,182.72,400.032,33.63,542.646,6.3,242.94,179.97,99.696,27.936,84.98,18.72,49.98,11.784,272.736,3.54,51.52,3.528,4.624,55.168,567.12,359.32,11.992,58.05,157.74,56.98,2.88,1199.976,79.92,383.438,24.56,119.8,13.128,22.72,58.32,12.39,107.982,11.36,50.94,646.74,5.64,572.58,310.88,641.96,18.28,207.0,32.35,7.71,40.3,34.58,32.76,544.008,59.94,23.92,4.28,32.07,24.0,35.49,47.984,186.69,17.456,348.928,143.96,15.42,43.04,332.94,1363.96,9.96,21.72,20.16,132.79,12.96,21.56,283.92,22.23,215.968,355.32,12.96,18.28,43.176,1983.968,28.4,149.97,11.52,1298.55,213.92,25.78,18.28,1399.93,51.84,5.344,41.472,3.168,1228.465,31.086,335.52,239.97,9.82,67.8,167.97,35.0,37.24,15.28,301.96,180.66,191.98,65.99,35.216,23.696,265.475,51.184,9.664,21.072,60.45,11.52,186.048,37.44,26.976,11.36,14.62,83.72,287.94,48.896,115.36,5.16,38.88,185.88,44.46,242.94,39.96,102.3,21.36,7.61,7.16,7.36,23.1,191.472,5.248,59.184,2.89,51.94,15.936,44.91,1141.47,280.782,34.44,11.36,106.344,192.16,322.59,29.99,371.97,5.892,68.472,1242.9,30.84,13.48,31.4,17.46,13.944,83.76,37.66,34.68,149.95,51.312,4.54,15.92,543.92,155.82,70.008,15.648,103.6,46.96,8.904,10.44,18.336,323.976,20.04,64.96,12.96,323.136,90.93,52.776,1199.8,1928.78,352.38,22.2,46.94,143.73,99.918,797.944,8.568,149.352,12.992,24.56,85.14,21.99,406.6,841.568,15.552,252.0,46.2,28.84,14.592,89.856,13.872,12.192,45.056,29.718,15.552,447.696,159.99,12.96,134.48,17.12,6.096,1114.272,32.4,540.57,167.76,393.165,516.488,1007.232,2065.32,15.552,25.344,25.472,27.168,78.8528,173.8,29.592,4.752,15.552,204.6,321.568,6.24,21.88,4.608,9.82,35.97,12.96,191.6,8.64,501.81,127.104,124.2,18.588,30.072,160.93,75.792,1.08,3059.982,3.282,34.02,599.292,3.392,559.984,603.92,7.968,27.968,336.51,1.112,520.05,17.97,1166.92,14.624,10.23,154.9,2715.93,617.97,10.67,36.63,24.1,33.11,44.02,2309.65,1090.782,19.44,484.65,115.296,7.08,4.401,44.75,95.984,151.72,155.25,14.03,1618.37,99.6,32.4,13.96,155.82,124.95,601.65,22.74,1267.53,1379.92,6.208,11.808,15.552,63.312,15.588,177.2,197.97,854.94,124.11,14.4,15.696,2.628,14.427,86.62,36.624,23.968,28.728,697.16,31.86,722.352,8.84,58.464,254.604,1363.96,102.36,1113.504,99.99,168.464,6.72,282.888,11.16,108.4,82.344,9.088,19.936,65.568,4.416,107.772,45.216,10.416,7.872,118.782,1.448,55.47,194.848,1.744,25.176,19.46,29.472,8.64,6.27,4.368,31.984,40.88,119.96,31.44,6.88,19.92,1106.91,836.592,26.38,362.92,4899.93,6.48,71.976,3.15,31.984,71.984,120.15,219.184,28.9,355.96,348.208,35.784,447.84,7.04,8.73,29.29,8.64,2.694,2.934,22.92,100.704,2.328,10.78,58.368,40.968,71.96,10.368,1.192,46.672,119.833,119.98,6.3,279.9,619.95,4.36,15.28,699.93,22.96,38.6,6.63,23.34,1067.94,10.16,101.88,343.92,40.99,63.9,19.44,124.608,7.56,85.224,287.52,37.68,19.98,20.58,17.38,204.6,8.72,6.48,686.32,62.18,644.076,5.84,12.76,10.95,599.98,8.352,3.64,159.768,122.48,2244.48,62.31,455.1,195.184,362.94,11.54,53.94,9.99,125.76,25.32,46.8,447.93,109.48,272.94,19.44,31.92,22.38,16.52,5.176,50.112,27.93,11.56,172.5,179.97,258.696,1322.93,3.76,21.744,7.92,12.096,485.88,25.92,197.58,81.92,889.536,892.224,223.92,23.12,15.552,15.712,24.672,55.968,431.928,95.984,1088.792,544.008,1.872,854.352,593.568,338.04,271.96,11.21,9.144,14.07,41.86,8.544,579.136,141.372,3.036,4.503,4.672,95.88,17.024,258.696,1931.958,249.75,255.936,113.79,78.15,1.728,40.56,182.94,193.86,15.28,8.73,5.68,2.78,79.96,839.988,47.952,37.425,63.968,165.048,12.35,40.97,22.96,22.0,398.352,8.72,48.69,764.688,3610.848,254.9745,38.82,1141.938,1704.56,3.2,1099.96,5.248,35.91,6.696,43.872,27.882,540.048,255.68,863.88,17.616,17.472,69.9,41.85,6.57,142.86,292.272,29.328,12.48,102.336,48.792,44.848,10.368,388.43,14.352,63.992,86.352,32.97,83.88,278.4,15.12,17.43,251.64,2.772,14.9,15.48,39.88,12.192,20.82,13.216,32.4,32.94,114.2,3.08,845.728,13.904,20.72,114.95,26.96,572.76,286.38,61.96,23.99,287.97,419.944,46.76,17.712,21.78,161.94,161.568,3.69,122.12,155.372,38.88,183.84,579.3,14.2,575.92,5.184,5.229,285.552,72.8,10.816,46.26,17.46,51.072,11.34,87.92,37.05,2.97,27.44,1.08,7.96,140.736,552.56,25.11,29.78,677.58,75.04,695.7,15.66,28.854,47.82,13.05,93.78,47.18,19.68,53.4,35.88,258.279,31.4,183.96,17.61,300.904,220.776,281.424,79.14,1.988,145.568,123.256,23.68,309.576,38.388,95.994,239.952,201.584,899.136,145.9,590.058,14.04,49.08,29.6,17.088,912.75,1089.75,447.84,16.4,399.96,158.9,13.184,83.952,80.98,348.84,9.45,18.84,239.98,167.96,104.85,484.83,122.97,154.44,342.37,9.552,652.45,66.645,17.216,11.56,88.4,6.48,21.8,251.79,205.176,419.4,10.304,154.764,116.784,75.48,39.98,393.165,23.68,408.006,165.28,334.768,239.97,37.74,946.344,151.2,4.928,86.272,72.588,60.672,77.031,119.904,263.96,363.648,9.728,14.75,29.8,427.42,220.752,152.76,7.27,1819.86,33.9,31.104,5.248,263.88,2453.43,29.7,39.96,36.672,13.76,139.424,1979.928,164.736,470.302,47.984,2.502,88.752,2.025,70.98,91.68,33.75,3040.0,91.2,452.94,52.2,15.936,27.46,55.424,244.006,159.984,1024.716,3.68,121.376,95.976,255.968,872.94,41.54,12.96,6.848,8.67,6.688,17.28,17.712,28.91,52.136,31.968,25.92,40.46,33.87,9.728,3.424,177.0,3.76,1212.848,89.97,42.6,5.04,62.96,5.88,977.292,9.64,40.05,10.192,16.784,13.12,18.16,16.056,223.056,540.048,33.52,9.94,6.72,1004.976,17.88,396.0,34.5,8.36,385.6,35.82,200.064,21.38,6.744,63.686,1669.6,83.84,13.272,21.336,16.52,206.112,19.92,198.272,247.104,86.304,4.16,11.648,26.18,7.3,74.352,10.744,8.376,212.88,203.983,40.74,11.67,39.99,16.28,782.94,242.48,8.32,10.464,82.896,34.24,1573.488,335.52,23.912,27.056,559.992,9.324,111.96,21.56,124.75,5.28,91.96,9.344,79.36,171.96,35.352,18.9,2.78,1044.63,11.352,354.9,453.576,21.48,8.784,122.97,12.84,603.92,21.84,29.99,381.44,40.68,763.28,23.952,4.98,170.88,307.98,382.806,41.96,1217.568,47.04,6.16,979.95,143.7,10.65,247.8,10.96,33.488,8.04,201.568,13.44,359.058,47.992,547.3,16.896,6.672,99.136,15.992,211.96,6.672,155.94,39.96,5.46,73.2,5.84,22.72,9.336,290.666,201.584,83.984,1000.02,83.976,3.75,41.4,29.79,59.48,6.69,198.46,786.48,23.168,50.0,675.96,1265.85,523.25,517.5,17.92,41.256,1006.056,10.688,10.368,25.12,58.112,15.552,669.08,438.336,19.44,9.64,12.7,41.37,12.624,1247.64,3149.93,209.7,35.36,3.168,121.104,45.894,109.92,13.36,169.68,132.52,2.96,8.448,95.94,34.79,160.776,88.752,13.904,677.58,13.896,41.92,297.576,4.344,94.992,74.352,14.04,1018.104,16.68,58.58,167.968,196.62,21.936,6.588,104.28,17.94,64.784,32.382,42.368,399.54,18.97,14.82,99.28,1.188,7.518,10.368,310.88,853.092,33.45,10.4,21.88,13.616,63.96,14.46,104.98,106.96,21.56,515.88,11.808,1931.04,9.96,12.35,9.702,11.61,43.86,148.48,7.42,71.992,19.9,1702.12,14.304,765.625,307.666,7.712,242.9,454.9,35.92,39.76,47.744,159.984,255.968,359.058,434.352,3.552,88.832,1048.35,100.0,7.83,96.256,10.688,338.04,154.24,34.848,22.0,4.368,31.44,17.9,129.45,20.88,20.736,7.168,11.168,442.4,13.36,11.232,10.272,10.368,6.24,206.962,9.46,559.62,109.92,8.56,360.712,1718.4,41.568,46.864,19.536,411.332,28.752,293.199,35.06,4.13,109.8,9.82,7.644,51.465,6.976,12.222,97.984,62.4,20.86,497.61,5.34,3.15,368.91,14.7,59.97,83.36,6.58,122.94,219.84,98.16,33.04,86.97,134.97,699.98,139.95,48.94,2807.84,46.64,60.416,107.94,63.84,347.97,37.008,215.65,11.168,53.952,4.18,5.607,4663.736,79.984,2575.944,45.36,254.24,69.93,16.156,54.816,1441.3,77.6,4.656,170.136,7.38,9.26,9.96,75.6,29.32,92.064,6.976,62.958,5.184,31.32,11.84,22.784,1127.976,38.88,779.796,1439.92,262.11,207.0,1439.982,36.288,21.4,1245.86,17.544,44.128,62.92,78.304,140.81,40.096,40.784,90.57,40.08,37.68,362.352,7.184,34.76,831.2,26.4,106.75,97.82,141.4,14.52,127.92,34.24,137.62,100.49,257.568,119.96,49.632,727.45,24.96,370.782,196.45,31.104,78.256,6.48,99.2,801.568,272.848,70.98,16.224,176.784,470.376,393.568,302.376,68.742,29.34,383.607,563.4,217.056,6.0,31.56,7.104,398.352,121.792,409.59,10.56,3.38,7.824,24.784,34.65,487.984,1793.98,29.808,505.176,174.0585,191.88,14.78,5.184,478.48,28.4,909.12,2.952,27.018,136.92,18.96,99.39,273.896,597.132,149.95,4.608,15.528,11.952,11.65,299.9,895.92,462.564,15.008,863.64,47.616,92.94,199.98,177.48,88.768,6.48,46.51,659.976,271.992,145.74,15.4,244.55,166.16,14.73,19.968,33.488,8.736,662.88,47.36,27.44,3.24,95.968,10.368,23.1,11.54,254.526,12.98,26.432,197.97,18.9,1282.41,4.92,238.0,167.97,17.12,16.2,33.99,296.85,112.8,13.71,24.9,286.29,24.18,281.97,69.5,166.44,291.96,6.408,408.744,5.104,2.896,35.016,275.97,1394.95,545.88,5.248,933.536,42.976,3.76,479.96,320.88,23.88,26.76,1439.976,17.22,1024.38,26.22,17.34,4.956,71.04,5.344,11.304,294.62,8.752,15.0,161.61,144.95,199.95,41.86,95.94,304.45,11.364,29.68,47.53,183.372,4.224,333.056,24.896,159.984,46.344,350.98,13.08,900.08,17.568,14.62,33.36,40.14,1606.23,17.04,49.53,872.32,239.12,141.96,33.024,67.136,14.73,104.9,61.04,10.95,9.392,9.328,8.26,269.97,29.04,14.62,11.952,4.536,9.156,75.36,57.504,38.864,15.552,162.64,597.0,55.48,289.8,2.502,6.48,341.488,11.12,25.344,17.31,199.95,1586.69,84.99,411.8,11.34,80.3,15.968,64.74,19.296,405.64,146.352,251.91,12.39,199.96,710.832,1.941,283.92,7.312,59.97,761.544,58.2,39.9,90.86,94.85,106.232,111.984,7.712,37.44,23.68,122.12,18.45,324.9,146.73,3.96,5.76,26.55,310.443,479.9,12.88,13.12,511.84,91.96,8.34,37.68,279.944,636.408,83.168,259.136,221.92,26.0,15.552,0.876,19.98,398.352,5.04,17.45,323.136,29.7,1295.84,46.84,425.833,209.67,159.88,5.28,895.92,2.808,215.976,241.96,27.72,104.68,62.958,86.376,64.944,20.736,33.28,38.52,139.86,19.65,152.991,10.584,94.92,14.76,3.656,146.82,149.544,17.14,991.764,30.48,23.988,16.688,422.058,38.088,254.352,43.31,84.95,233.058,111.79,14.94,14.16,22.608,21.48,501.81,161.94,17.856,8.808,79.384,34.58,314.55,191.976,8.288,139.92,15.872,6.286,14.016,71.976,107.982,305.312,19.752,9.264,61.792,45.68,60.12,41.72,71.6,85.232,44.4,442.764,3999.95,199.95,63.68,54.896,29.0,70.08,121.3,1454.49,60.81,153.552,65.34,123.92,35.1,44.75,4.704,14.67,15.552,5.232,22.2,881.93,6.096,191.82,20.104,67.56,29.932,38.272,16.52,832.93,43.8,167.292,27.42,1.44,61.776,241.96,108.608,2.816,9.984,14.98,1145.6,485.94,37.376,70.686,54.816,72.294,2.896,124.792,330.588,673.568,52.98,526.45,228.92,319.968,205.03,190.86,24.32,44.4,44.4,1016.792,38.136,494.982,56.56,5.56,9.02,8.62,659.976,13.36,41.72,11.52,541.44,19.44,143.7,43.26,43.56,437.85,109.48,1212.96,18.54,5.0,371.97,166.24,359.97,499.98,5.28,8.26,7.968,12.96,6.48,6.984,47.96,199.74,435.26,1119.984,143.432,122.352,306.2,85.98,223.96,97.568,614.272,199.98,48.16,23.92,60.69,14.352,35.04,17.48,16.4,892.98,287.97,595.38,12.96,4.95,181.95,13.52,259.7,42.95,1399.93,503.96,12.72,11.52,316.0,723.92,106.32,141.372,27.216,390.75,280.792,68.448,88.04,15.872,215.592,14.62,416.32,43.0,182.94,60.83,389.97,194.32,265.93,94.74,60.64,76.3,364.8,79.872,46.384,12.96,14.352,547.136,41.96,41.7,277.4,5.78,69.216,10.86,426.79,25.92,45.92,10.72,41.86,63.2,113.97,123.552,490.32,70.08,1.272,557.585,9.024,69.456,10.86,79.47,10.08,1552.831,137.24,36.51,239.976,1579.746,1071.576,613.908,34.86,155.04,13.71,127.88,160.32,46.0,120.712,23.12,532.704,4.912,252.0,60.288,2.632,23.688,253.372,5.67,76.776,9.184,32.75,7.216,49.568,54.712,176.04,16.02,185.92,211.168,479.984,7.86,24.448,6.48,41.86,1619.91,113.92,39.68,37.6,59.9,37.0,5.76,16.68,628.81,56.45,94.2,28.4,956.6648,1115.91,128.744,79.92,24.2,359.976,211.84,5.68,7.52,11.96,629.064,754.45,301.96,595.0,79.872,2396.4,63.56,99.99,230.376,9.664,158.928,13.023,273.06,39.312,1.344,8.272,12.544,58.48,7.4,366.786,54.368,33.96,826.11,545.85,145.98,35.808,7.904,345.0,174.286,662.84,95.1,26.88,257.98,17.48,492.835,269.49,29.12,18.75,119.7,9.144,57.06,71.6,107.44,7.31,59.1,46.53,97.84,29.97,98.352,83.92,14.624,136.99,3.15,9.11,571.44,32.4,16.91,14.272,451.136,64.864,217.584,82.95,87.71,1101.48,1322.352,5.46,11.184,153.584,1003.62,35.168,1137.75,99.68,5.56,85.52,9.84,20.04,631.96,23.92,90.24,4548.81,300.93,719.96,647.84,64.17,124.46,9.584,37.608,12.224,2.304,9.36,7.38,53.72,8187.65,77.92,32.784,196.776,479.94,1117.92,106.5,45.66,95.968,47.992,264.32,604.656,129.93,20.16,29.46,868.59,12.96,5.5,121.6,42.048,25.488,6.9,9.648,7.968,10.368,114.2,17.96,12.67,339.96,1801.632,46.32,181.986,431.976,155.37,1348.704,700.152,111.888,143.952,173.94,14.76,205.92,102.833,2.304,1879.96,313.024,5.04,821.88,21.96,25.92,705.544,50.0,51.712,6.992,1406.86,15.75,323.1,9.216,10.368,15.02,33.82,71.0,25.12,2665.62,478.08,164.388,13.248,2.912,1399.944,526.45,16.23,319.9,11.36,675.12,62.82,489.92,19.44,16.68,155.35,12.42,187.98,6.608,248.57,22.23,5.98,246.168,14.136,601.47,79.1,327.84,180.96,914.97,587.97,530.34,14.94,121.94,122.71,14.94,1349.85,136.784,61.12,1.167,16.99,24.672,2.52,1218.735,5.904,15.696,6.096,41.568,230.28,18.288,5.78,121.68,4.17,67.04,37.32,18.45,25.92,11199.968,2399.6,63.9,52.99,60.864,652.995,11.22,14.94,39.96,42.624,220.96,4.928,7.23,323.1,19.04,13.128,64.14,858.24,29.99,186.048,36.792,18.624,57.69,42.81,12.96,821.88,104.85,424.9575,10.776,11.784,164.88,1292.94,25.584,261.74,14.4,10.86,883.84,1979.89,79.96,8.76,3.984,370.62,2.742,79.512,28.352,40.784,105.96,166.44,785.88,26.2,1325.85,166.44,8.76,43.584,11.088,25.164,14.4,619.95,89.52,350.973,164.99,312.552,95.952,3.204,3.98,15.7,5.248,5.346,15.48,108.576,109.9,15.384,30.352,821.3,22638.48,21.376,8.016,30.768,18.936,122.352,116.28,132.6,16.68,19.44,192.16,227.36,1919.976,12.828,45.888,60.12,302.376,13.9,129.98,71.98,377.97,124.36,23.976,8.376,58.24,81.2,14.45,95.648,359.97,350.352,1.641,629.958,6.63,799.96,107.53,73.98,5.58,49.12,377.97,42.28,299.97,89.98,477.24,25.98,46.72,35.34,257.64,125.976,79.992,700.056,27.168,8.226,585.552,423.28,225.296,5.56,323.37,783.96,1447.65,11.96,239.97,76.92,481.32,48.4,0.99,101.84,10.332,31.155,8.928,34.384,1924.16,32.192,50.12,47.976,54.5,19.104,49.44,10.368,154.44,60.984,195.466,23.68,2.376,59.2,22.0,257.98,23.988,23.976,601.536,7.9,58.36,16.464,39.96,25.96,36.27,6.48,1075.088,438.368,18.088,308.499,13.36,39.96,145.85,783.96,7.88,41.37,12.84,25.68,47.516,9.42,12.96,704.9,561.568,179.82,185.58,214.11,999.96,653.55,114.6,60.74,124.36,1088.76,6.72,298.776,302.376,8.928,47.584,33.792,300.5328,2.724,3.264,108.336,55.92,78.304,443.92,155.976,15.47,7.16,10.89,19.44,121.6,695.7,120.33,1139.92,229.544,143.728,36.048,845.488,50.94,762.594,56.28,2690.97,7.434,64.784,28.16,14.98,20.32,40.29,20.23,1603.136,225.296,67.8,377.97,1628.82,286.93,20.736,31.44,83.79,59.52,31.92,14.72,38.976,17.088,74.352,314.352,4.26,811.28,6.03,153.568,1013.488,52.34,4.66,254.97,25.44,27.93,8.85,6.96,17.456,307.92,6.63,12.96,32.4,23.85,51.96,17.94,11.56,26.4,69.08,35.88,49.65,959.968,408.422,479.984,12.6,184.66,23.12,37.464,539.658,310.12,8.56,52.4,14.94,11.22,387.136,41.4,35.0,39.552,135.72,12.56,263.96,5.952,15.8,14.368,70.448,129.3,3.882,6.08,19.9,70.71,18.84,8.64,1633.188,19.76,6.608,7.28,144.784,156.792,431.976,35.89,47.208,248.08,189.7,59.808,90.99,1526.56,368.97,305.01,18.7,38.29,26.25,64.96,43.7,41.6,23.12,113.888,113.568,7.92,671.984,39.99,191.646,2.313,19.936,45.92,20.34,39.28,81.568,97.184,24.32,18.96,32.952,30.016,499.584,31.104,13.272,28.272,259.136,10.8,244.006,15.936,188.552,22.58,545.94,20.736,43.296,123.136,11.264,53.424,275.49,24.96,19.36,1267.65,12.99,18.56,449.15,31.248,61.44,895.92,55.36,55.92,24.896,3.984,95.968,206.991,44.416,9.006,19.0,33.376,207.48,91.68,904.9,34.272,191.82,243.88,12.03,2549.985,21.594,8.964,20.736,344.22,727.296,22.608,666.4,5.04,92.94,66.69,91.68,327.7328,52.272,17.94,254.352,8.288,504.9,403.168,194.32,25.99,195.136,20.736,53.7,36.26,56.3,32.4,29.16,171.288,16.72,12.96,22.18,2054.272,1022.97,13.9,26.38,43.176,411.8,360.0,41.96,227.84,37.94,517.9,5.28,2799.96,8.96,31.5,30.56,24.368,119.976,26.88,83.97,104.97,90.8,140.736,214.95,45.36,288.24,663.936,2934.33,124.41,57.75,114.46,120.666,342.864,16.74,981.372,31.84,12.96,43.176,58.34,539.97,3.928,252.784,127.984,3.984,12.992,61.0,671.93,447.86,479.95,166.44,31.68,10.368,12.032,5.768,33.12,220.2656,10.776,242.352,695.16,220.98,12.957,25.68,15.712,298.464,21.93,242.94,7.64,51.84,265.17,837.6,135.9,34.68,532.704,43.1,15.88,1123.92,249.584,48.672,60.768,78.6,3.768,1036.624,563.808,258.528,49.12,44.46,241.568,395.0,627.168,13.28,12.672,30.56,77.952,67.992,12.224,44.784,22.848,206.43,210.392,119.96,10.608,347.802,963.136,88.776,32.4,32.4,31.05,2025.36,1799.994,101.988,262.864,735.98,93.024,284.364,26.0,67.64,119.976,5.18,15.56,78.35,59.52,38.52,239.984,19.35,67.0,390.272,62.192,23.88,3.168,528.43,13.392,181.86,180.588,47.984,18.76,20.94,58.68,254.9,9.64,826.62,1633.14,544.38,26.046,74.352,69.93,3.75,20.928,12.672,65.99,6.37,3.648,31.104,23.34,29.97,3.366,95.968,18.704,149.232,15.936,601.536,10.99,39.88,62.24,53.2,39.84,349.95,377.928,13.392,11.228,207.24,1.504,34.848,75.18,149.97,931.176,430.88,94.85,51.12,90.0,9.408,4.672,318.4,12.768,15.36,230.376,7.16,375.34,114.9,26.046,2.896,32.544,3.984,181.797,44.94,45.576,318.43,122.92,7.068,56.45,13.468,219.8,317.058,49.08,324.9,18.24,113.888,105.584,24.85,60.312,7.056,27.184,107.984,19.296,4.608,79.974,2.946,3.136,20.736,99.98,733.95,241.44,10.08,281.904,201.432,135.98,44.95,2.97,6.54,7.92,203.92,3359.952,18.24,27.78,22.96,28.99,12.96,22.96,4164.05,47.984,4.624,15.24,63.924,6.56,13.11,494.376,29.2,248.85,36.24,11.68,11.91,3.48,30.96,1704.89,19.194,121.792,1919.976,50.997,76.792,539.964,60.312,1.944,12.984,217.584,328.776,2.286,47.984,25.344,232.4,86.45,603.92,81.98,271.764,14.376,341.96,181.35,8.64,43.512,662.88,25.92,68.94,128.82,896.99,1.234,67.56,21.72,262.336,148.48,241.176,227.976,52.68,2.032,17.12,431.968,129.92,568.728,117.144,203.52,51.75,122.97,244.615,59.97,81.54,11.68,29.0,50.8,16.03,15.712,89.97,435.999,83.984,359.98,70.56,20.88,3.81,73.008,3.208,26.176,30.44,35.28,19.44,37.88,9.552,290.666,10.368,14.352,141.96,66.048,1287.45,25.824,160.96,28.44,364.41,39.96,361.764,111.672,13.776,10.272,24.048,2.896,17.94,384.174,1799.75,580.672,18.936,222.384,50.454,154.764,6.848,1091.168,219.168,6.928,40.032,443.92,169.99,25.92,36.99,629.1,193.95,5.46,22.288,65.424,77.88,281.372,281.372,7.488,22.336,10.368,65.79,271.984,11.76,77.52,48.64,1.81,8.26,43.56,5.84,271.764,262.24,182.72,131.6,22.72,558.4,15.24,1408.1,32.896,215.148,30.96,29.79,128.9,60.12,24.816,14.976,15.08,24.288,16.192,251.006,54.192,4.304,108.92,16.74,2504.74,84.784,29.9,70.88,3.76,27.264,56.65,14.97,4.02,471.92,58.72,5.16,16.496,71.976,22.512,3.444,538.194,47.984,492.768,286.79,5.08,47.992,61.96,361.96,278.82,133.38,47.952,16.74,10.848,18.544,180.98,99.98,34.95,152.0,92.52,8.56,45.36,1421.664,8.96,579.95,29.12,1202.94,7.92,36.192,147.184,408.422,382.116,68.6,435.504,11.168,72.0,655.9,603.92,513.024,487.92,15.24,209.97,62.94,25.92,10.368,95.736,900.08,201.584,3.392,193.0656,15.552,11.648,418.8,509.488,825.174,17.76,6.912,66.3,30.816,44.784,569.536,796.425,12.832,40.46,404.94,116.0,657.552,599.97,38.97,45.84,38.24,87.168,21.4,54.9,287.968,13.12,10.75,11.62,40.74,83.25,9.45,20.65,45.36,5.352,99.372,2.672,28.672,29.312,105.98,35.06,33.94,30.0,45.528,844.116,812.736,7.476,330.4,604.752,45.36,10.128,21.792,439.8,8.256,25.56,4.368,11.52,12.96,3.96,1577.94,15.008,59.98,2395.2,1687.8,7.992,5.184,11.68,104.8,14.496,4.784,4.73,7.89,65.5,2430.08,104.85,3.9,801.96,191.96,2.61,5.96,1169.694,1665.62,2.88,1443.96,2.92,465.18,22.428,37.52,2.624,15.552,64.704,17.472,135.516,431.928,12.448,657.93,277.4,25.16,91.92,29.34,139.44,6.912,27.096,177.568,58.416,16.448,36.784,718.116,31.776,9.555,487.984,5.56,217.85,40.776,63.936,142.4,7.16,681.408,3.52,5.58,36.32,2060.744,52.272,213.136,69.52,763.44,9.216,41.958,89.568,22.248,334.88,148.288,4.624,178.92,69.888,487.984,47.3,4.13,155.12,6.48,15.52,2.946,55.104,104.88,34.7,33.72,14.94,638.73,113.568,9.096,8.688,30.88,6.408,33.8,377.97,258.9,24.56,27.888,6.456,52.68,13.88,103.92,11.52,10.368,39.072,8.872,121.104,127.372,47.952,44.46,15.8,464.97,181.96,12.39,84.09,79.36,153.36,43.68,98.21,9.84,2.694,25.344,43.92,59.994,439.992,87.96,15.488,232.96,66.54,43.26,141.96,79.4,163.96,37.93,15.168,24.78,19.14,899.97,32.4,23.832,6.368,34.176,5.544,510.24,204.95,11.54,162.6,45.68,603.92,23.55,5.04,249.95,33.4,18.92,15.42,35.712,551.985,7.056,18.72,360.38,11.16,14.94,41.96,636.86,499.99,1259.93,65.08,26.38,71.97,129.98,32.54,10.9,59.98,61.929,16.52,60.12,49.536,11.85,118.25,368.97,198.46,321.92,879.984,28.4,230.28,116.28,841.568,354.9,42.784,563.43,111.104,11.68,16.9,24.4,87.6,241.96,8.52,1.788,99.372,1.344,119.96,1013.832,1.984,2003.52,82.368,62.91,6.912,383.976,10.368,335.944,665.88,71.976,37.94,273.96,269.982,8.904,720.064,41.424,3.132,1085.42,3.912,62.376,29.05,180.96,4.419,16.032,29.79,57.23,333.0,36.44,251.64,523.764,1359.96,102.592,22.704,93.024,12.768,35.008,39.152,11.76,5.238,4.662,523.92,100.792,146.136,25.06,19.824,823.96,15.984,801.96,59.97,1056.86,12.816,314.352,18.98,18.24,991.2,879.984,12.96,107.44,1458.65,26.64,476.8,87.444,76.14,19.96,1049.97,611.058,2.368,19.008,911.984,674.352,134.01,170.97,170.352,7.184,6.28,480.74,616.998,141.4,501.81,691.96,34.95,85.96,85.3,33.568,4.95,26.4,3.564,823.96,10.272,447.944,480.96,124.792,40.176,10.896,10.64,151.96,238.0,155.34,148.32,240.784,191.968,11.56,11.8,842.352,23.472,86.058,108.784,10.272,38.19,49.632,52.096,9.568,82.368,364.704,40.256,4.368,12.128,134.85,8.56,239.97,356.94,659.9,1684.752,559.92,279.944,9.98,48.9,3.552,15.552,2.368,127.984,10.368,47.984,270.34,98.112,563.808,10.428,547.136,14.85,41.988,7.584,352.45,470.376,19.44,9.82,801.6,161.568,16.096,7.656,311.976,61.68,63.96,359.976,25.344,26.72,30.28,57.93,35.34,137.24,241.332,5.184,145.544,5.472,47.984,9.4,74.0,201.584,28.752,27.216,197.372,1424.9,14.56,3.048,25.92,835.17,17.34,44.384,2.944,6.368,48.848,19.648,255.108,17.248,159.984,12.7,5.47,79.36,22.14,11.277,4.448,44.76,38.28,149.95,12.84,44.67,7.872,7.872,88.04,40.635,5.728,42.24,53.82,79.36,13.48,29.8,414.0,41.328,39.92,8.94,84.784,53.316,56.52,22.77,287.968,2799.96,48.94,257.499,2591.56,41.95,79.12,52.96,286.344,63.552,41.376,172.704,512.94,860.93,769.95,14.98,373.08,231.92,63.47,345.0,637.896,287.91,36.6,1.78,25.92,101.94,6.848,474.43,8.448,39.296,17.12,542.94,8.64,193.8,21.4,97.88,251.91,25.86,170.058,82.782,853.93,556.665,95.84,29.664,9.184,153.584,12.864,479.97,232.88,236.88,29.9,100.0,18.693,383.952,24.816,24.9,21.12,767.952,14.352,191.976,274.77,70.56,204.85,9.156,23.992,80.88,599.9,276.69,172.764,4.224,409.272,55.44,20.928,1801.632,67.176,646.2,72.744,572.16,68.112,25.032,39.992,20.016,3.104,7.52,10.272,47.808,978.84,13.14,10.024,156.3728,999.98,821.94,220.064,339.136,7.04,5.04,116.28,47.976,60.048,5.022,182.994,10.272,7.857,302.384,20.952,11.784,638.82,20.7,10.95,14.352,221.024,3080.0,79.96,587.97,32.4,404.9,9449.95,12.94,2.264,0.444,146.176,15.92,159.96,13.76,4.312,13.96,27.414,73.98,160.98,17.34,3.28,8.856,158.376,1219.96,3.168,19.44,454.86,91.392,19.04,37.44,37.59,26.032,35.91,91.032,54.66,67.344,2624.985,73.28,14.48,11.952,15.552,45.0,209.97,112.12,1575.14,25.06,6.924,37.392,79.12,18.9,57.42,12.74,8.82,120.784,322.59,9.762,13.72,55.2,259.136,29.24,15.552,4.896,38.088,2.808,47.984,26.064,15.696,12.84,539.97,22.58,16.52,671.94,169.064,168.624,19.44,31.92,433.568,31.104,54.816,48.86,14.2,12.96,58.34,56.3,629.95,122.97,46.35,14.976,4.24,319.96,17.04,344.91,81.94,98.16,6.874,1.996,8.928,9.99,10499.97,21.12,696.42,304.776,51.98,24.7,21.93,394.816,18.192,7.31,799.984,41.28,184.66,49.25,10.16,14.76,34.08,17.67,1604.9,385.686,15.984,9.42,6.56,24.56,128.4,62.28,9.24,482.664,4799.984,37.94,18.288,385.8,102.96,174.42,1.964,94.428,45.92,61.584,22.48,332.028,11.394,15.552,31.104,6.316,11.352,20.808,11.416,9.408,19.83,209.7,43.92,20.232,149.97,27.81,66.3,1.64,1049.2,20.9,88.08,751.92,887.103,55.944,10.688,11.824,63.312,96.784,10.476,9.762,196.784,47.98,13.05,63.96,80.48,11.673,863.128,3.564,956.6648,12.588,171.96,871.4,692.472,207.76,71.928,25.99,3.592,48.632,323.1,9099.93,9.96,25.3,11.36,69.264,3.69,1103.97,246.1328,11.696,439.992,64.784,33.28,14.088,11.16,896.328,189.0,53.982,177.225,129.39,54.32,4367.896,49.568,161.376,2.784,8.72,3.912,59.752,63.92,383.96,7.752,33.568,666.344,573.728,21.936,19.44,447.968,16.78,20.96,88.752,304.23,167.86,82.38,23.976,33.29,14.952,323.982,2.286,14.352,71.976,9.21,18.0,42.93,15.552,17.92,19.99,22.92,50.88,27.312,7.92,14.368,107.97,113.82,5.184,16.28,544.38,19.824,657.504,99.54,199.96,631.782,60.72,20.724,415.872,16.768,27.12,95.84,12.96,19.008,1598.058,36.96,10.368,77.72,520.464,111.96,29.16,131.94,25.92,704.76,7.41,21.5,10.528,20.544,104.9,39.68,51.75,11.68,159.75,103.968,303.25,270.72,1487.04,17.48,71.88,60.45,253.176,2.88,384.944,153.584,913.43,43.92,25.032,46.76,183.968,1259.97,68.97,70.368,59.96,25.984,27.36,361.376,172.186,69.008,199.9,901.95,971.5,11.328,21.24,34.8,38.976,9.08,314.55,4.91,5.78,107.94,19.65,617.97,59.7,387.99,575.92,30.4,478.24,190.848,5.484,40.92,15.552,17.24,302.94,34.75,113.94,55.98,27.18,1805.88,70.95,20.0,7.98,24.1,8.75,842.94,2.182,27.384,26.406,10.368,23.68,109.95,965.85,29.2,32.4,78.35,31.68,29.12,169.45,12.56,6.48,186.69,25.4,43.96,1279.165,27.92,129.568,6.368,244.55,1332.496,32.776,147.184,54.384,76.776,14.352,209.792,3.304,16.38,167.96,321.568,12.96,128.058,63.686,239.976,344.22,15.552,21.248,8.448,333.09,248.98,24.9,15.26,43.32,43.584,116.28,9.296,19.44,314.55,16.27,69.12,4.47,418.296,659.988,8.128,36.288,909.72,917.9235,38.88,631.176,12.96,12.96,23.2,25.92,21.312,173.656,361.96,62.85,818.376,20.34,23.99,171.288,37.3,81.96,54.792,10.784,290.98,36.44,21.4,48.664,16.56,1347.52,62.31,20.32,9.432,34.86,89.34,269.98,99.9,39.08,116.832,2.296,408.006,40.44,122.352,15.28,11.96,15.84,86.376,18.24,13.12,105.98,493.92,5.936,325.86,383.607,148.48,537.544,1.928,6.912,7.76,659.168,5.76,351.216,230.28,12.84,56.82,31.56,27.92,8.559,49.568,127.869,271.44,110.352,36.4,419.136,100.704,45.216,28.782,24.448,10.476,76.14,21.24,127.96,479.984,657.93,33.48,13.9,26.86,9.584,113.1,65.78,239.7,25.632,23.616,8.26,76.58,8.8,590.352,5.58,25.02,452.55,17.76,302.384,146.352,7.9,902.712,53.97,33.92,21.81,91.6,150.98,137.25,11.52,18.272,153.728,12.224,167.944,45.99,535.41,6.096,45.36,47.12,31.36,47.616,23.48,62.79,28.44,134.376,589.9,542.94,2879.952,90.48,77.55,8.832,177.536,258.48,14.136,77.55,24.88,140.75,36.63,17.14,51.75,123.96,586.398,80.98,242.94,123.92,12.39,47.3,1599.92,11.09,3.168,579.136,6.368,558.4,145.764,13.62,434.646,440.19,64.4,244.55,195.76,11.76,166.45,2.88,45.248,59.904,23.696,7.968,18.2,27.552,844.116,76.752,3.0,7.506,16.56,79.92,69.98,11.06,623.4648,772.68,283.14,635.96,118.99,272.94,15.008,33.088,80.98,82.8,21.36,62.048,29.61,863.928,241.92,163.88,3.486,10.584,440.91,5.715,51.968,71.976,242.352,221.92,8.448,29.52,302.94,142.36,546.66,212.13,5.248,74.416,6.848,7.996,8.712,65.17,14.62,173.24,895.92,130.71,11.68,62.31,0.852,36.288,56.568,344.704,201.584,521.96,8.22,45.36,947.17,61.96,268.935,7.58,14.73,9.888,671.544,1117.92,275.952,123.144,15.576,212.64,9.87,53.25,19.92,658.746,8.26,29.84,67.98,61.06,35.544,9.96,9.21,27.93,7.9,221.16,127.96,18.69,25.35,35.28,33.4,837.6,40.68,209.568,22.368,3.882,115.296,1.908,43.372,783.96,48.896,7.856,5.904,13.712,182.94,27.76,25.99,113.52,359.88,25.344,11.952,6.24,742.336,6.464,11.52,222.384,23.36,8.67,25.71,100.94,63.882,683.144,1.476,40.712,279.9,13.12,69.576,4.224,58.08,52.416,54.92,364.95,85.056,27.696,24.96,43.13,5.64,57.582,31.104,30.192,43.6,4.768,10.38,13.392,39.594,91.008,37.94,42.8,33.63,62.808,195.64,239.9,380.058,1199.976,48.576,17.94,18.264,34.656,81.552,227.136,10.36,463.248,383.952,44.856,30.345,127.554,77.952,14.016,69.52,5.64,13.776,245.88,36.63,22.58,12.39,39.92,61.96,19.936,3.798,27.744,158.376,27.58,5.553,243.92,14.96,7.184,10.512,263.96,71.632,9.328,5.88,975.92,303.84,485.88,12.54,8.94,9.24,70.008,77.6,464.85,10.192,1793.98,758.352,20.368,49.848,239.97,2404.704,563.024,344.91,8.64,89.988,229.544,1.824,18.32,48.816,1.188,119.8,61.568,6.192,2.214,5.32,975.92,2249.91,59.92,171.2,3.36,114.2,182.67,101.7,1126.02,1263.3,8.82,37.94,4.2,227.28,47.9,61.96,1117.92,183.372,7.968,26.352,481.32,13.98,25.92,91.59,674.058,22.92,269.9,11.808,9.588,18.336,36.288,111.984,5.97,2.508,35.96,14.952,67.144,254.058,173.94,231.98,2.296,96.08,3.62,629.1,90.48,14.88,91.275,19.44,897.15,57.75,14.94,23.1,12.536,1.08,4.512,16.776,33.74,1325.85,333.999,19.9,1268.82,283.92,5.68,375.34,96.08,11.68,4.36,29.24,117.488,18.84,12.42,12.96,69.48,85.9,18.06,79.14,37.4,2.512,18.864,61.192,67.84,48.712,17.94,242.94,7.764,467.04,128.85,8.4,199.98,110.98,207.984,36.112,35.568,88.768,12.9,717.12,21.36,6.688,773.94,20.568,4.356,19.04,5.22,84.84,7.24,14.4,15.552,1325.76,3.108,6.672,689.408,1889.99,55.936,18.432,20.32,52.064,48.784,13.092,109.592,56.7,79.99,69.5,191.6,10.56,47.79,714.3,2321.9,17.94,9.522,791.964,4.923,209.979,33.93,222.32,210.564,35.168,1502.376,10.11,772.47,20.46,347.58,72.64,772.47,39.92,33.48,461.97,137.62,302.67,239.976,8.34,8.57,119.616,212.94,26.49,687.4,653.55,33.9,239.96,199.836,716.0,221.06,67.71,129.92,467.46,61.4,720.76,5.184,14.7,8.134,79.984,18.54,24.4,195.64,398.4,7.056,1352.3976,26.4,41.88,99.846,699.98,584.82,43.98,377.97,123.96,391.98,383.976,1781.682,21.4,549.99,167.535,38.34,53.88,299.98,62.8,13.904,744.1,44.84,401.59,18.24,359.499,10.48,20.736,35.168,64.704,105.52,5.792,466.158,10.312,2.556,7.968,8.784,3.024,51.45,14.016,214.95,35.04,10.776,4.6,35.168,19.152,4.448,5.184,15.552,40.032,16.776,186.304,66.36,42.048,67.92,52.512,186.912,10.048,17.496,15.552,10.776,3.304,35.48,34.44,629.93,79.056,232.55,99.98,19.44,12.96,464.292,68.46,2799.96,601.3,16.99,287.97,44.82,101.12,107.976,58.73,93.344,17.05,8.096,30.36,23.34,51.55,119.9,1317.492,63.84,3.592,86.26,139.04,46.8,8.544,842.376,1214.85,67.78,39.9,2.688,6.6,28.4,212.94,1001.584,569.058,14.224,105.584,68.72,1367.84,301.96,170.352,3.9,12.84,15.84,563.94,62.94,535.41,3504.9,144.12,314.55,3.408,2.072,328.3992,53.248,4.992,37.68,258.576,75.84,45.36,45.78,40.29,38.71,1801.632,748.752,199.96,1516.2,167.952,45.04,23.16,397.6,85.96,13.12,45.66,158.13,43.6,3930.072,2.304,431.976,41.72,104.23,70.26,9.26,105.98,1.24,20.7,28.9,27.18,465.18,36.63,51.45,7.83,35.4,29.9,17.48,79.14,8.4,498.26,212.94,706.86,114.95,43.19,166.44,36.56,186.144,353.568,81.98,14.624,697.16,30.93,27.496,605.34,210.008,54.96,164.22,362.94,59.98,332.94,39.872,13.68,3.318,10.44,136.464,333.576,12.544,20.768,43.5,12.576,249.95,49.12,182.91,107.648,99.372,33.568,10.56,38.88,35.2,45.528,196.776,2.92,200.795,46.688,21.864,11.76,167.94,3.89,52.44,32.36,406.6,27.92,399.672,3.744,715.2,159.8,44.75,340.116,105.52,13.48,85.52,6.16,36.84,15.84,44.4,21.24,9.552,89.991,163.96,17.904,966.7,182.112,4.464,51.588,50.4,89.568,14.89,543.92,4.08,18.9,2275.5,1979.7,62.1,37.296,8.544,68.95,296.37,39.98,191.058,13.04,1525.188,9.216,28.048,64.96,30.56,187.056,11.808,9.656,20.736,27.36,2314.116,34.236,19.76,15.96,16.9,25.08,6.68,19.44,31.92,33.568,63.94,60.6,22.72,10.68,17.34,3.38,26.976,307.776,244.55,12.24,13.98,899.95,1.632,267.96,31.95,725.84,10.896,8.544,32.34,39.9,143.856,41.92,329.584,87.28,279.456,8.0,27.24,16.36,15.78,45.98,198.272,720.76,70.56,81.96,64.864,151.192,88.776,11.56,15.58,85.056,273.96,306.9,15.552,347.361,10.368,98.16,31.44,348.488,172.736,15.54,105.552,25.92,15.808,10.368,358.2,545.916,40.41,167.976,109.53,9.82,26.352,22.5,9.96,213.08,1025.88,21.98,63.2,39.0,2.907,556.665,71.98,79.98,24.672,3.744,445.96,36.24,10.65,87.92,22.424,90.48,42.76,10.08,101.34,224.75,73.176,20.736,39.984,15.36,36.288,150.384,280.782,31.984,11.232,26.4,3.52,1649.95,111.9,599.165,46.53,31.984,161.568,4.064,6.216,8.896,1640.7,270.0,19.52,9.81,213.216,588.784,2.064,6.368,99.6,62.296,10.71,20.936,33.0,249.95,357.93,57.4,331.96,40.56,86.2,38.016,8.384,6.848,19.6,68.46,13.344,1478.272,16.272,9.24,32.34,56.064,108.72,181.47,16.176,122.352,585.552,19.44,123.92,13.36,78.256,102.018,750.68,44.4,84.55,17.94,128.4,1.869,103.192,36.0,239.96,40.68,419.136,23.472,3.592,23.976,6.264,20.808,218.352,18.16,7.36,41.4,411.332,7.656,63.92,6.56,7.83,41.9,664.146,8.96,3.312,20.136,8.856,859.2,61.96,17.92,145.9,56.704,11.12,32.896,22.776,239.97,160.32,128.85,1319.96,239.96,54.768,13.392,23.92,255.968,21.552,58.24,80.28,9.78,1.81,37.94,79.96,115.296,2479.96,179.94,26.85,323.37,59.94,64.14,11.67,12.96,17.43,181.986,1.592,22.344,455.97,10.44,5.214,67.4,25.16,126.56,43.68,139.93,2.672,16.656,79.512,36.288,67.9932,10.16,6.16,56.3,6.48,1325.85,14.94,34.54,2999.95,64.12,19.456,209.986,29.76,89.768,959.984,15.552,34.36,98.376,29.94,17.472,36.738,179.94,383.64,56.52,6.56,243.92,47.52,19.98,8.0,6.16,83.56,546.06,269.49,10.9,6.096,34.05,352.38,245.98,18.94,59.913,391.98,437.85,68.62,25.02,10.71,55.984,14.48,142.488,14.16,79.92,590.352,17.088,98.392,11.05,7.78,659.9,53.04,843.9,1496.16,117.96,21.3,1040.8,29.34,19.52,443.92,499.95,3.04,201.96,68.64,100.0,359.98,6.16,2348.82,13.872,273.552,815.292,234.45,1256.22,17.46,10.528,152.8,82.56,284.97,60.84,1325.76,572.16,28.8,11.12,7.04,17.94,34.76,74.45,192.22,19.44,32.4,57.9,10.56,1194.165,40.99,2.94,45.24,18.688,11.648,112.776,377.45,15.936,28.68,21.44,511.056,18.656,11.088,66.688,99.488,14.62,53.984,389.97,355.36,140.376,15.84,8.448,12.96,57.408,27.6,38.976,20.44,109.92,6.38,6.48,15.84,1049.93,154.9,98.352,14.32,129.888,48.944,275.058,27.36,44.75,134.99,26.4,542.94,71.088,27.396,13.456,11.84,35.88,40.752,139.96,2.624,136.53,263.96,11.64,40.176,79.44,357.93,127.764,2799.944,19.44,36.792,5.94,177.55,619.95,29.16,57.96,29.403,81.4,8.72,91.176,159.968,12.96,331.536,899.91,946.344,178.11,1089.75,61.06,459.92,27.52,638.82,30.69,25.16,13.92,19.36,19.3,38.376,12.96,26.48,532.72,26.72,20.04,795.48,21.56,249.584,68.112,16.56,74.95,355.455,44.4,20.65,866.4,5.56,3.16,1999.96,46.152,32.985,481.32,6.384,542.94,54.92,1448.82,353.88,333.576,60.144,85.2,3.15,22.72,14.91,1158.12,599.99,23.968,638.288,13.208,15.528,104.85,30.48,112.648,71.976,2.21,15.52,36.44,217.764,39.072,22.638,95.144,12.32,4.419,35.0,72.784,97.84,51.75,46.672,1395.54,117.36,18.9,77.52,421.372,575.968,10.368,15.984,10.272,61.792,205.9992,12.192,87.168,31.744,132.224,105.52,91.96,1487.976,19.44,11.672,279.96,12.912,17.088,93.15,11.52,238.62,7.77,285.48,19.168,26.136,419.4,90.801,181.764,5.56,581.96,29.98,519.96,6.264,363.92,64.2,38.52,72.6,57.568,83.7,32.4,47.98,415.968,304.9,80.96,777.21,32.4,225.568,36.6,715.64,795.51,549.99,74.76,29.22,9.64,33.488,23.04,1.362,14.76,239.666,301.96,7.968,109.92,19.44,11.16,79.47,4.56,1133.35,4.672,104.58,1603.136,1293.488,127.95,59.76,108.08,9.54,11.736,447.86,17.94,245.88,192.16,801.568,368.91,885.528,28.28,4912.59,14.352,179.97,42.76,45.68,25.06,38.432,21.568,81.576,2.78,99.87,44.4,21.4,71.12,259.96,9.78,24.192,31.56,59.94,45.36,26.4,41.4,16.95,24.704,59.7,14.52,104.184,46.53,25.5,14.9,87.71,199.764,94.6,4228.704,2003.92,209.97,659.9,110.96,67.8,313.176,22.96,1099.5,1215.92,7.31,8.92,87.21,15.552,683.988,13.392,16.776,527.92,25.4,177.48,71.976,95.992,13.216,435.84,5.88,211.168,6.28,95.1,25.92,48.84,25.9,42.68,299.97,262.24,234.36,20.736,10.5,23.968,521.96,676.55,154.9,30.56,770.352,21.12,575.928,7.78,123.92,17.22,226.56,107.88,81.98,104.85,8.704,19.92,43.02,240.784,414.96,387.72,360.38,13.56,552.0,429.9,32.06,161.96,19.86,12.96,20.544,185.58,77.56,87.92,245.94,8.6,504.9,2357.488,369.544,184.752,64.96,13.52,458.43,387.136,328.59,338.352,25.92,91.36,87.96,5.214,12.294,19.76,109.764,128.85,127.95,68.52,74.94,2548.56,271.44,287.88,14.9,4158.912,91.96,33.11,19.44,55.48,91.92,17.34,71.98,7.08,69.98,646.272,10.368,8.4,71.96,18.48,9.84,239.24,21.12,54.9,15.24,19.568,310.392,42.6,113.94,129.92,5.28,859.2,506.28,14.368,314.352,27.888,238.152,692.94,16.146,1345.485,173.488,57.75,272.4,11.952,28.0,12.201,2.068,83.84,11.36,36.4,27.968,142.04,14.67,1199.96,12.6,17.94,23.904,88.96,518.272,6.98,343.2,17.544,152.688,3.488,5.888,153.552,270.62,468.9,72.48,10.95,191.82,151.056,25.16,6.216,23.616,24.032,2.088,4.488,29.22,6.48,1.188,272.646,212.8,38.52,72.64,45.4,13.76,80.991,11.784,4.36,2888.127,1299.66,2254.41,104.85,59.97,314.532,13.632,19.432,65.44,6.0,1.908,1474.802,110.096,16.752,1537.074,449.372,41.904,2279.96,14.94,191.976,23.832,409.216,72.588,61.568,20.96,44.75,11.96,3.912,327.996,49.408,53.25,3.76,767.214,163.96,161.28,192.8,27.696,73.164,32.064,205.666,115.44,274.8,195.64,257.98,119.04,20.07,11.76,11.76,40.736,201.584,340.704,354.9,1198.33,87.92,51.968,51.336,332.704,42.408,81.54,167.28,772.68,323.976,11.808,26.16,33.57,4.992,20.016,170.24,117.456,22.96,13.36,34.248,3.52,26.7,21.2,838.38,1690.04,85.96,121.96,23.92,63.96,629.95,113.73,14.6,887.84,403.92,106.8,70.95,34.944,119.04,383.84,799.56,31.44,25.92,6.33,75.88,329.988,71.376,63.77,50.97,96.08,1439.968,43.56,563.92,235.152,7.712,51.016,25.248,56.686,51.168,2793.528,1000.02,65.94,18.24,76.12,7.64,68.16,62.24,29.97,125.7,191.98,20.86,56.7,72.704,12.264,218.352,66.294,291.168,88.776,110.376,55.176,30.32,177.568,19.44,71.28,1471.96,79.96,57.576,26.336,166.5,360.38,11.744,247.44,18.24,25.35,119.04,22.14,13.98,43.41,6.24,465.16,7.98,2.394,58.32,200.97,21.36,9.856,3.444,384.592,22.92,11.36,14.592,41.4,442.372,34.5,28.85,3.488,143.856,311.98,22.45,39.992,1159.056,179.9,116.312,12.42,428.4,24.75,87.71,69.52,20.784,12.816,5.904,63.824,141.552,304.9,563.24,661.176,239.976,502.488,196.704,915.136,327.76,701.96,88.776,64.14,33.552,1737.18,704.25,141.76,36.36,25.83,24.588,13.984,195.96,74.352,6.68,17.584,104.784,47.952,650.352,629.184,15.176,127.95,579.51,14.99,151.92,196.62,144.12,15.96,39.96,34.08,10.368,7.752,15.28,65.97,33.4,210.84,13.98,272.94,19.05,247.716,66.58,43.92,14.73,29.7,49.12,18.28,47.04,339.96,87.8,221.382,5199.96,156.512,119.85,30.44,69.28,587.97,24.55,12.176,37.32,35.06,108.4,361.376,2.412,8.39,337.98,83.92,19.68,25.92,6.48,86.352,56.3,51.016,150.8,1039.992,51.84,41.22,240.37,119.02,133.12,38.08,113.568,83.92,6.63,371.97,561.584,99.92,4.928,14.76,99.99,286.15,49.792,299.975,158.376,32.784,47.984,62.592,4.276,10.56,229.94,311.15,12.96,14.62,5.76,21.48,396.92,17.15,23.12,5.248,824.95,24.64,227.88,241.96,3.89,8.01,177.48,569.568,149.73,899.43,46.2,47.952,7.992,76.864,102.93,98.16,11.52,83.88,108.576,5.984,21.96,368.97,12.39,332.94,111.93,454.272,19.44,8399.976,6.294,10.368,122.382,25.984,945.036,14.301,410.352,23.52,180.96,35.0,477.15,302.376,974.988,589.41,34.7,99.87,37.94,24.9,82.26,7.104,103.5,2.464,8.72,10.76,45.68,6.7,158.376,3.44,56.56,36.96,135.99,15.96,3.76,14.7,37.2,89.97,261.96,74.0,13.28,84.96,68.46,2079.4,629.95,72.42,131.98,114.52,100.24,871.8,61.96,4.554,5.2,205.992,15.552,503.96,24.472,241.568,110.4,384.768,78.66,45.36,962.08,12.843,295.456,32.4,103.936,289.568,39.72,244.768,24.0,15.552,26.176,20.94,135.09,279.86,90.06,539.964,50.232,19.242,1247.64,5.304,19.136,332.832,279.9,50.352,34.02,23.88,11.52,286.93,206.384,218.352,529.9,99.3,108.96,2.688,5443.96,302.67,56.07,10.08,59.994,5.715,9.42,1999.96,216.4,6.936,4.428,8.8,142.8,399.95,2152.776,4007.84,328.59,98.352,158.99,291.1,73.68,139.92,107.88,33.29,58.17,5.04,24.784,634.116,17.472,155.88,327.564,13.36,158.9,319.968,505.32,3.808,8.682,24.424,1522.638,419.9,3.15,33.62,16.14,194.25,8.64,872.32,243.992,7.12,2.688,317.058,149.352,227.976,11.96,563.4,319.92,1049.44,170.352,173.94,1007.944,6.68,8.34,101.94,179.97,101.94,271.96,8.8,19.68,302.94,14.94,231.72,9.912,34.65,19.8,33.568,125.93,11.76,5.344,1.365,62.016,60.72,146.82,239.84,15.66,146.352,5.94,45.36,211.168,484.704,371.976,89.82,19.296,191.96,21.3,469.95,209.88,239.666,22.5,219.84,32.4,209.94,4164.05,212.94,41.88,58.48,102.438,199.304,6999.96,12.96,279.86,7.38,698.352,1747.25,54.48,199.99,68.541,627.168,122.12,6.99,107.424,1421.664,125.88,79.78,133.2,438.368,139.944,133.472,564.195,87.168,42.616,319.984,45.92,21.184,20.736,213.43,333.576,31.992,51.168,10.64,68.704,386.91,39.66,113.92,447.86,356.85,251.58,219.84,42.85,6.16,17.0,87.4,29.84,49.568,265.86,67.96,10.92,83.9,19.75,393.54,46.872,10.9,79.92,146.82,3.6,20.04,180.016,41.552,13.12,1117.92,111.96,12.16,17.52,155.88,477.51,164.88,47.97,415.176,35.232,54.96,16.34,225.296,50.352,163.136,6.408,217.584,5.43,143.976,519.68,7.83,883.84,230.352,273.92,9.912,266.352,56.328,39.264,95.232,30.0,25.92,159.92,34.944,149.95,23.32,16.74,14.82,10.47,11.07,20.704,177.2,50.496,6.129,643.136,20.736,177.536,32.432,11.696,113.76,579.51,150.66,48.032,102.624,359.772,13.392,122.136,35.88,479.952,23.92,629.95,14.952,17.94,116.98,121.96,8.74,61.96,7.96,275.24,47.4,512.96,395.94,81.96,32.776,272.94,253.764,29.24,35.168,1362.9,317.058,15.76,14.56,196.21,35.4,419.4,13.005,7.712,4.176,38.88,17.64,93.456,449.91,344.94,14.76,12.76,58.48,20.096,37.752,138.588,259.92,20.736,129.93,69.93,140.736,8.32,9.98,62.94,21.488,239.976,34.504,20.104,3.798,7.88,35.445,269.97,45.12,100.8,47.968,99.98,9.96,3.856,98.376,22.38,3.882,12.585,113.372,18.312,127.936,241.17,6.24,17.9,3266.376,1.68,7.968,113.372,2.96,168.1,98.46,358.58,32.48,17499.95,735.98,34.37,33.96,197.97,17.48,8.016,146.04,27.88,152.65,22.72,11.12,1640.7,371.2,14.832,20.7,11.34,67.9,1059.12,478.48,32.04,55.992,76.864,59.92,1565.88,106.05,62.04,494.97,367.96,44.96,182.94,28.14,7.38,10.9,274.89,23.04,218.352,10.368,12.672,91.96,254.97,31.984,2887.056,12.96,47.52,11.952,4.98,10.78,119.976,25.06,1652.94,131.376,5.344,2003.92,32.4,1913.4,146.73,114.2,2567.84,37.056,259.896,19.05,73.344,95.68,50.96,113.94,25.92,20.32,411.98,34.48,244.55,10.782,602.651,7.656,559.93,2399.96,16.0,5.588,235.92,10.68,41.28,1001.584,14.76,2.502,115.96,186.54,159.56,55.984,132.16,17.904,124.032,1403.92,28.8,24.588,356.79,16.98,491.55,7.38,23.66,681.408,18.9,93.68,21.93,862.344,19.98,13.494,23.988,31.984,41.584,95.976,84.272,36.544,479.72,102.368,28.4,713.88,68.52,623.96,11.12,523.92,2.48,221.024,128.058,58.408,79.974,479.988,11.808,53.568,503.96,21.34,36.4,51.75,15.51,146.82,12.96,7.8,10.2,22.32,24.1,75.98,6.46,60.12,824.97,24.85,12.624,89.584,471.92,18.18,31.744,5.904,621.76,59.98,48.87,154.9,5.92,30.18,24.1,8.78,376.74,29.52,11.96,26.4,1158.12,1.392,44.43,226.2,186.54,265.86,27.9,31.08,13.84,175.872,12.96,208.44,25.76,366.744,289.24,69.456,5.184,205.164,8.544,12.828,598.458,25.984,17.96,5.04,208.16,148.257,146.76,32.96,587.97,14.94,25.83,15.552,6.8,4.224,143.64,31.104,223.056,227.46,46.24,5.22,33.9,28.14,36.0,92.94,245.646,55.008,35.232,523.392,479.984,12.96,17.94,166.72,24.816,124.36,599.97,198.744,9.184,9.248,99.592,399.96,15.552,14.576,209.6,23.32,30.98,119.96,363.92,35.808,122.688,892.136,50.22,83.42,5.872,12.144,27.792,6.208,32.67,1261.33,38.88,1.964,82.656,5.98,9.248,4.448,5.184,175.92,4.752,13.344,54.9,22.911,309.456,19.456,472.518,1012.68,17.22,3.52,1626.192,8.595,190.896,99.87,79.36,119.96,106.32,163.44,42.76,51.55,479.952,146.688,276.784,25.32,318.96,212.64,23.472,19.648,6.57,421.1,760.116,38.784,122.328,25.98,3.28,459.88,7.76,71.96,54.9,9.28,1685.88,5.728,61.96,1.344,17.94,13.904,67.194,41.86,141.96,10.02,144.12,17.94,13.89,16.45,19.92,35.168,123.088,257.94,1879.96,27.46,89.98,828.6,7.23,17.44,62.88,290.352,113.52,135.3,111.15,776.85,12.294,154.764,43.28,92.94,52.56,971.88,141.96,182.55,88.768,53.088,275.88,157.9,4.91,87.92,5.98,222.384,16.0,21.84,15.6,247.84,9.912,69.52,11.52,717.72,236.5,170.352,145.764,107.97,143.96,2399.96,74.352,87.168,32.232,2.202,9.396,89.97,12.78,40.0,23.24,908.82,5.552,8.016,74.592,16.784,38.864,203.976,674.352,5.388,30.976,1350.12,15.92,19.54,21.4,12.6,11.96,138.0,116.76,331.023,756.8,8.736,6.08,17.46,369.16,2.912,20.736,9.568,30.18,51.648,11.232,14.73,16.4,25.92,8.82,62.496,339.96,49.568,274.491,137.94,40.68,110.376,151.62,30.8,123.92,1319.8,89.712,22.83,30.88,465.16,27.12,113.6,12.96,69.456,8.64,341.991,43.96,39.76,66.36,92.88,24.14,4416.174,49.56,354.9,15.12,302.45,44.672,119.98,989.97,9.216,68.52,364.74,47.4,49.76,5.56,629.1,14.7,45.36,125.99,14.7,32.7,31.68,181.86,155.372,13.428,67.136,89.568,315.776,273.666,17.48,20.608,4.095,339.96,63.98,799.92,35.984,389.97,185.528,2541.98,599.985,3.036,25.92,66.112,46.36,6.9,57.69,559.71,305.01,50.784,26.01,649.0,59.99,20.24,37.84,5.472,77.24,292.1,8.544,424.116,2.892,381.72,97.184,10.368,890.841,72.0,113.888,158.13,14.13,64.75,1.872,11.214,37.376,286.4,43.92,142.182,19.608,4.158,979.95,135.3,8.904,100.8,41.96,9.45,400.8,28.792,111.0,1279.968,1856.19,22.752,61.542,81.438,67.36,54.528,843.9,449.568,15.51,192.186,5.76,67.88,162.89,25.71,191.88,721.875,73.568,13.584,64.784,176.772,38.82,21.9,111.79,445.44,16.52,29.9,116.4,1.408,169.568,251.964,523.764,19.44,194.352,36.624,340.182,12.672,6.888,32.544,347.802,15.57,4.608,257.98,153.78,61.02,110.11,7.89,36.024,54.336,92.52,10.272,40.74,14.4,149.95,16.9,17.61,378.0,17.64,373.08,1336.44,29.97,390.368,101.52,74.352,15.7,59.52,34.4,313.176,866.646,795.408,35.856,23.84,43.13,30.87,70.12,509.9575,122.91,97.568,722.352,11.52,167.84,172.11,99.98,156.792,35.36,13.592,386.68,379.96,539.91,41.24,51.897,552.56,23.16,126.08,449.1,195.104,36.672,85.246,32.712,11.43,30.44,12.96,16.0,32.67,4.464,9.345,9.144,23.136,99.2,21.36,46.9,18.72,236.528,18.9,10.688,237.096,5.184,65.584,22.2,419.4,88.92,9.912,318.43,5.8,1415.76,148.48,9.248,1036.624,569.64,9.14,1196.86,523.26,639.968,52.76,538.92,14.88,34.24,261.74,87.84,34.92,14.94,14.56,3.576,147.184,1499.95,13.568,2573.82,609.98,5.48,391.98,755.96,31.12,6.54,12.78,18.464,445.802,2.48,25.9,29.9,2249.91,1053.164,12.96,106.68,119.94,10.272,512.19,1.556,4.448,276.69,4.96,71.92,18.84,140.97,470.376,6.08,164.792,23.36,12.176,46.384,362.92,9.248,1889.946,62.04,396.92,239.456,13.12,29.36,214.9,15.92,146.45,15.14,5.76,1399.98,8.952,8.856,85.246,21.728,1487.04,71.88,9.24,35.88,17.04,931.176,266.352,483.136,196.784,231.92,29.7,13.592,70.88,114.288,36.624,242.352,49.616,508.704,57.36,906.68,719.952,755.944,11.98,0.898,21.204,34.74,833.94,12.96,25.92,349.965,22.32,158.28,497.94,533.94,167.94,31.68,170.786,198.744,63.824,435.168,48.58,47.976,20.736,26.46,49.12,15.0,194.7,591.32,2.84,221.96,236.0,41.94,52.792,563.94,2625.12,17.94,422.856,127.764,3499.93,14.4,122.97,9.32,122.94,17.31,128.744,58.248,71.246,7.872,887.271,146.86,36.56,225.576,5.248,38.256,40.24,29.925,148.704,55.92,12.96,25.176,5.584,1297.368,264.32,25.92,22.96,19.44,9.54,5.81,5.76,14.91,6.642,18.54,679.96,189.576,71.96,539.92,725.344,7.44,39.48,850.5,75.33,325.632,23.344,16.52,335.72,251.944,127.302,1207.84,12.53,34.58,300.98,258.75,59.52,57.96,441.96,68.04,703.71,17.904,11.976,67.96,892.224,1299.99,4.544,1352.032,1548.99,19.872,119.448,118.16,19.56,80.96,25.92,106.96,187.76,76.776,53.9,76.728,10.43,99.2,15.92,129.92,30.4,5399.91,119.1,40.08,59.94,259.98,170.98,38.97,154.9,446.068,152.94,23.472,195.64,14.94,1687.8,341.96,605.88,186.732,3812.97,26.424,625.99,1568.61,17.3,160.0,179.94,872.94,12.96,88.8,319.968,167.888,163.96,5.232,1199.98,73.85,25.71,17.28,526.582,11.56,209.97,447.84,479.97,8.64,11.68,40.776,13.698,87.8,77.952,147.184,47.952,250.26,40.776,29.6,1.938,159.96,59.52,17.48,13.168,40.74,179.886,286.256,24.224,331.536,17.52,17.856,431.976,291.136,114.848,10.688,15.232,12.42,19.44,70.368,12.672,89.95,6.58,94.99,35.12,25.92,7.96,566.97,9.84,25.488,7.56,60.84,450.04,34.6,467.97,33.02,17.088,3.008,268.24,431.16,43.6,154.95,15.552,42.208,10.368,2.224,74.52,17.52,1779.9,219.9,7.152,26.72,1039.728,45.96,456.588,4499.985,59.976,6.12,10.98,7.86,51.45,37.056,203.92,29.56,8.568,45.248,876.3,185.376,25.06,2.89,7.896,22.608,30.528,4.842,1.8,39.984,32.4,97.88,307.168,26.9,47.01,469.99,207.846,324.744,40.48,12.0,720.064,25.424,2.816,3.204,30.828,47.616,108.784,4.77,7.98,550.431,10.56,1497.666,17.52,113.22,35.88,4535.976,11.84,592.74,111.672,8.64,149.97,232.88,90.882,508.768,9.912,63.936,59.52,311.976,50.352,19.136,13.12,241.568,479.92,307.136,12.6,159.98,6.12,1184.72,45.96,58.05,71.28,124.404,154.9,1871.88,16.192,18.936,12.672,5.04,8.448,20.388,9.96,320.64,52.0,25.584,464.0,235.95,39.96,18.528,17.9,81.96,272.736,18.496,441.92,127.764,166.44,13.38,24.0,24.448,6.16,915.136,8.56,97.82,31.104,11.176,5.04,242.176,337.176,13.344,76.752,102.336,10.32,47.32,23.376,16.72,16.192,32.4,19.89,399.98,343.85,106.32,13.92,82.4,6.24,447.84,272.048,1614.582,24.32,1.584,31.984,14.76,423.648,76.64,4.464,3.96,715.64,268.704,21.92,48.72,205.666,30.344,25.696,3404.5,101.34,344.372,30.384,22.848,38.62,59.98,174.3,383.96,15.57,22.32,103.6,2.97,569.99,50.97,298.116,59.52,230.28,105.52,23.36,71.976,8.56,13.92,2518.29,540.57,221.056,81.424,134.8,39.582,44.688,31.744,40.98,3.168,18.84,362.25,63.552,129.552,5.984,861.76,66.96,6.24,435.168,14.9,15.8,72.9,206.352,7.992,81.36,20.232,389.056,20.736,41.472,33.36,90.882,15.992,120.784,519.792,31.176,10.368,2.724,254.352,3.762,10.272,659.97,113.73,5.104,16.448,81.92,254.9,15.12,7.872,8.32,89.95,25.2,37.59,14.97,1.98,39.936,18.464,4.896,145.764,9.612,199.75,1673.184,12.18,57.68,263.96,299.94,25.76,271.9,45.84,9.82,93.36,541.24,106.32,1323.9,126.624,125.944,663.92,120.0,3.29,18.84,60.672,30.816,52.792,83.9,11.76,4.992,87.92,657.93,1.044,210.68,78.8,19.99,772.68,106.08,23.076,25.92,47.952,0.984,75.384,4.608,37.68,41.91,435.999,388.704,572.58,33.18,63.88,26.72,295.056,393.25,2.214,16.272,706.86,5.97,21.184,41.376,17.94,2.655,892.35,307.666,728.82,41.36,43.176,4.16,61.4,24.448,263.96,359.97,12.96,116.82,276.784,239.97,16.02,454.56,141.42,310.744,12.736,6.47,13.748,15.224,27.42,165.98,75.0,134.272,146.544,131.904,203.88,14.301,718.64,61.1,28.08,10.496,39.92,77.58,269.36,5.76,109.9,23.88,26.2,12.96,234.95,118.25,4.28,26.85,3357.6,8.26,2973.32,104.79,775.728,89.0664,175.44,438.336,215.544,55.584,127.386,248.43,11.648,85.246,20.64,148.02,33.29,204.95,526.344,41.96,451.152,31.504,30.672,1079.976,161.568,2.934,18.528,670.752,64.96,41.94,11.96,13.12,535.41,72.78,36.84,87.71,562.2925,56.52,11.264,284.08,18.496,14.73,186.54,557.728,159.968,471.9,3.52,49.12,20.16,10.68,141.96,32.48,20.04,13999.96,238.0,61.96,239.372,595.0,16.032,199.75,227.96,293.52,307.98,96.96,117.488,11.952,512.499,863.128,2036.86,449.568,108.96,264.18,2.88,41.904,23.92,156.512,128.34,474.95,999.98,277.5,1252.704,110.97,22.608,1.892,63.312,7.824,170.072,62.82,19.44,7.38,38.88,187.76,6.048,98.352,335.744,8.96,89.568,71.96,15.552,10.43,72.784,67.15,549.98,11.82,4643.8,577.764,191.5155,2.624,1369.764,294.368,81.568,44.46,314.088,6.336,10.48,2.469,3.264,4.344,31.776,4.928,1.788,15.072,12.624,185.88,12.96,189.7,40.99,82.64,31.02,89.97,35.97,1266.86,169.45,40.68,3.328,933.262,2803.92,4.768,6.672,4.448,43.936,23.744,357.0,806.336,85.44,344.91,70.97,36.784,743.988,11.212,4.712,180.98,60.416,299.99,192.16,242.624,46.74,174.95,100.704,368.91,8.02,171.04,19.44,13.092,122.94,35.448,19.98,69.375,31.68,2003.168,9.344,2563.056,387.136,3.424,1085.42,43.056,3.762,34.86,432.456,675.06,65.232,207.0,600.53,59.904,637.44,51.756,31.104,47.96,158.928,211.248,5.552,2.952,10.332,18.368,299.9,26.55,111.98,4.928,11.784,7.98,180.96,1649.95,362.352,73.584,486.368,32.4,41.86,77.56,37.17,137.352,376.509,62.72,2939.93,512.358,3.488,22.288,16.032,1.752,20.992,11.21,45.04,15.624,8.74,44.75,61.68,158.376,2.864,94.192,143.7,6.48,7.88,11.21,354.9,17.94,51.8,299.52,7.7,23.92,498.0,436.704,32.4,61.44,73.36,59.2,32.952,218.376,31.4,9.48,209.5,24.3,6.48,32.448,26.388,373.47,64.2,8.0,186.54,87.08,105.584,217.44,31.744,5.432,913.43,372.144,751.984,604.768,27.36,20.56,83.92,902.712,120.666,4.984,82.26,29.74,87.36,56.16,64.384,64.784,15.552,223.888,10.896,84.784,241.5,59.97,13.36,11.808,16.24,77.55,76.12,17.184,11.76,27.46,137.94,111.15,901.95,366.009,310.688,7.68,155.372,10.744,232.4,164.646,22.68,105.52,83.92,141.9,39.98,28.91,174.95,110.528,630.024,27.86,933.408,51.84,165.6,106.32,147.92,104.28,286.85,66.96,199.98,45.0,17.9,40.48,2154.9,18.432,10.944,4.36,62.352,303.92,129.3,274.2,6.048,6.848,9.96,8.552,45.584,25.488,136.96,49.616,10.584,84.416,431.94,2.043,68.238,240.744,35.0,210.68,637.896,43.44,2.22,1679.96,344.372,1554.936,127.88,222.384,106.869,3.564,25.68,12.384,25.3,95.94,7.5,302.376,46.688,17.94,370.14,8.928,2678.94,387.136,45.408,77.952,3.0,9.952,37.896,65.584,44.784,1035.8,5.76,19.98,35.98,16.656,20.7,83.7,199.8,45.68,110.96,11.94,8749.95,36.4,18.69,5.94,60.736,479.976,6.08,165.6,59.52,479.97,18.62,49.632,97.82,15.984,184.752,12.96,366.744,8.856,27.96,146.352,175.23,125.99,23.0,25.584,73.784,20.736,17.52,35.76,3.64,30.336,12.99,182.22,302.94,54.992,12.99,55.86,44.376,51.264,5.193,159.984,54.224,241.424,33.36,13.76,496.86,389.97,9.82,56.4,18.312,25.92,8.016,479.984,30.84,33.568,422.625,199.98,20.24,39.92,32.54,39.0,12.6,24.64,6.264,14.432,719.976,239.92,1056.86,447.944,150.408,453.576,45.36,287.88,131.88,2.328,1454.9,4.842,220.704,67.176,15.232,31.104,968.744,222.352,479.984,10.272,998.85,24.56,5.67,14.336,102.3,607.52,31.16,2.61,10.332,10.368,20.784,66.96,17.248,11.088,1287.45,168.1,51.968,4.768,7.98,18.688,11.664,191.976,499.168,11.88,35.44,67.136,4.32,14.94,40.54,7.312,475.944,30.08,165.6,180.96,23.18,56.96,15.56,353.568,13.96,82.95,39.68,479.97,7.38,14.256,81.98,39.624,399.672,65.12,30.56,20.768,39.808,121.104,111.96,15.696,70.26,90.0,6.096,481.176,7.24,177.45,1369.764,9.48,130.98,174.95,826.0,139.58,399.95,12.39,760.98,67.86,31.504,5.04,39.879,4.712,194.352,97.424,704.76,27.396,5.7,14.19,7.3,199.98,144.96,118.0,48.94,22.66,0.836,30.96,723.92,21.968,619.152,127.904,94.2,49.5,16.52,55.36,11.56,17.12,182.352,118.16,18.368,600.558,50.352,28.032,7.692,517.405,8.608,159.56,2104.55,40.7,47.79,5.16,21.21,96.36,231.72,17.9,12.48,8.016,259.896,247.188,279.96,450.0,19.44,300.904,239.976,31.168,120.96,2239.936,76.608,142.776,91.36,3.552,115.136,4.71,172.764,3.52,79.968,305.9745,344.91,626.352,359.499,71.952,29.8,1.824,64.384,6.984,11.264,15.552,379.372,67.536,1.524,37.408,25.344,46.2,4.728,53.352,131.104,22.512,72.744,52.59,19.44,126.3,1287.45,64.96,535.41,8.1,13.248,83.988,73.2,10.74,11.032,53.04,17.12,59.94,210.58,30.96,239.984,3050.376,133.98,93.248,177.48,17.712,4.86,6.258,37.68,51.84,27.42,5.4,1270.99,125.36,14.03,27.96,5.344,1.696,24.588,7.98,288.0,146.952,83.136,942.784,74.352,26.88,10.896,3.536,528.43,41.472,287.976,29.304,55.328,1227.9984,20.416,1128.39,4.608,195.96,15.552,271.968,698.352,77.728,46.62,537.544,14.62,22.55,583.8,211.168,12.96,45.98,1294.75,1799.97,10.688,221.98,341.96,34.77,18.9,102.72,40.48,33.282,118.65,14.76,37.52,207.144,13.9,266.352,307.98,44.1,13.12,16.56,38.88,335.52,959.984,4.086,55.984,10.688,8.856,6.912,26.72,33.488,10.56,386.34,33.44,39.96,1217.568,15.51,89.9,14.28,12.72,15.75,70.95,65.568,299.97,89.97,31.86,67.15,7.236,4.824,91.36,130.112,74.24,159.84,2.892,9.392,123.92,55.6,617.976,21.312,209.94,31.984,5083.96,35.96,31.05,8.92,209.6,111.04,38.88,36.27,493.43,11.12,686.4,15.92,70.68,541.24,101.994,18.264,21.99,185.376,58.924,480.0,34.05,192.72,239.97,50.12,15.984,14.352,6.528,2.862,20.856,276.28,629.64,449.97,1927.59,121.78,2676.672,489.23,312.03,17.94,165.6,37.52,494.97,25.06,32.064,18.496,191.079,10.368,30.53,30.84,75.06,66.976,182.72,21.93,95.976,143.928,3.564,4.928,856.656,13.184,48.784,76.64,18.528,177.68,159.98,52.68,11.568,4.572,1439.968,1.728,626.1,99.2,609.98,211.372,239.976,99.95,29.34,16.74,12.672,1119.888,204.85,135.984,16.4,92.96,7.632,4.158,179.991,239.358,164.88,10.95,19.44,12.3,13.97,934.956,46.864,26.16,23.128,59.24,155.456,8.56,21.0,120.0,299.96,67.84,853.93,18.688,273.96,89.97,756.8,1.248,72.0,470.155,39.128,19.728,151.188,271.764,47.496,344.981,36.288,78.304,127.785,6.104,5.76,1.72,8.952,2.334,1.728,159.04,145.98,77.952,95.97,105.584,9.344,9.68,4899.93,104.75,18.528,1875.258,91.36,152.24,35.184,56.704,274.064,458.43,8.226,5.95,15.24,239.94,23.84,92.52,37.76,7.38,5.82,3.816,26.16,100.8,135.8,13.9,19.4,13.488,11.416,17.64,17.04,99.98,29.46,166.92,98.328,117.882,20.97,139.96,37.74,14.82,191.82,13.904,314.6,283.56,487.96,1793.98,2.992,108.768,25.92,22.58,55.176,9892.74,73.915,337.088,61.44,479.97,5.984,189.95,149.95,29.95,44.4,66.03,10.86,3.36,27.936,28.784,21.96,21.98,2621.322,74.76,364.776,1115.17,89.696,50.12,36.48,322.192,2.946,19.136,23.08,90.48,215.976,65.94,11.352,24.56,16.56,279.95,828.84,7.218,27.2,89.97,318.08,5.8,143.952,19.44,5.56,146.73,29.9,276.784,93.032,454.965,246.168,295.4,348.56,15.552,482.94,299.98,403.68,41.9,28.91,32.4,369.544,10.368,791.88,23.64,84.784,64.96,32.06,177.648,287.91,22.368,32.368,207.984,36.4,22.96,315.2,15.18,623.96,429.6,31.968,887.271,21.696,22.05,99.9,90.86,7.78,78.759,9.552,5.344,8.28,50.136,88.074,301.47,18.656,27.46,125.13,555.96,129.552,51.984,10.272,18.336,180.96,475.944,159.98,43.6,8.288,1123.128,64.9,2.808,99.98,8.04,1564.29,138.56,65.52,14.576,23.2,16.464,19.312,40.08,101.96,259.74,255.42,4.338,11.88,405.86,680.01,2.376,143.128,4476.8,104.85,241.44,319.76,45.68,31.96,47.9,1112.94,22.92,71.976,19.44,31.086,13.98,23.65,707.88,11.952,31.128,55.76,24.56,51.75,207.184,1473.1,3.488,21.728,663.072,99.588,49.568,29.372,344.704,47.992,102.24,39.96,1432.0,41.04,256.784,120.98,315.98,28.752,114.95,23.04,15.48,51.84,39.816,16.06,7.28,5.4,19.44,39.88,79.44,20.664,32.4,13.762,15.28,44.688,301.47,11.07,1504.52,25.92,7.536,1.408,4.144,52.752,381.36,6.72,15.192,58.32,946.764,94.68,23.67,1091.168,18.69,568.728,7.312,147.568,56.784,5.607,6.576,14.304,119.833,5.56,32.4,9.84,2.78,3.64,881.93,115.84,107.648,199.95,12.96,60.89,14.94,9.64,332.94,51.9,64.96,25.5,215.976,389.97,269.91,11.673,64.848,14.56,102.582,20.04,32.088,4305.552,10.02,631.96,1577.94,255.85,184.704,47.92,15.936,8.001,398.972,163.88,67.9,72.224,11.696,392.94,18.176,6.888,457.485,1079.316,48.91,9.84,34.5,0.556,43.8,13.872,115.96,41.424,244.768,74.352,4.312,56.686,97.968,7.872,15.552,1.476,8.4,6.56,14.88,45.48,25.44,146.688,4.928,63.488,418.32,123.858,118.782,769.184,47.904,13.36,163.764,183.92,11.376,66.112,211.04,594.816,72.96,80.96,455.712,25.98,45.28,15.56,859.2,195.68,14.2,314.352,4.608,17.9,2.992,20.064,146.73,18.75,117.576,51.184,455.97,5.715,57.594,30.144,899.43,842.72,41.96,13.216,184.752,520.464,11.424,19.44,3.64,18.54,43.12,313.722,45.98,428.68,30.576,13.02,22.14,359.32,11.56,68.48,1676.88,37.94,272.97,41.568,317.058,8.04,419.944,61.38,50.0,31.8,32.56,7.072,45.528,64.784,424.272,1.344,83.92,25.92,120.576,79.92,12.28,542.94,2.04,228.92,7.992,582.336,629.95,631.782,801.568,75.18,30.98,1349.91,14.112,31.12,4.272,209.148,1591.02,7.92,574.91,8.448,1071.0,12.07,3.273,87.92,104.696,2803.92,6.816,249.584,17.94,10.11,10.368,11.952,15.224,21.984,604.752,40.7,302.376,45.0,3785.292,35.4,199.9,1212.96,1099.96,103.481,5.904,30.08,36.288,10.272,252.8,2.946,12.96,285.576,22.24,14.62,48.36,16.256,219.184,95.84,12.39,35.88,477.3,12.32,8.608,136.26,186.15,81.792,47.19,36.784,91.475,27.192,12.06,144.6,15.992,34.44,321.552,701.96,19.456,17.28,31.96,164.688,166.5,12.96,110.96,99.98,11.424,128.124,101.4,5.904,173.488,51.56,3.564,13.16,3.828,304.99,18.16,319.984,19.68,781.864,30.816,673.344,6.54,572.8,197.05,2022.272,9.12,38.16,1592.85,11.88,120.0,8.67,4.41,167.94,67.8,26.94,32.04,32.13,2.88,1091.93,111.96,26.7,40.2,13.89,689.82,38.34,9.264,204.6664,1649.75,91.056,54.208,26.982,6.912,435.504,81.08,93.02,323.976,15.552,32.592,83.92,199.9,31.176,172.752,9.296,12.768,52.76,55.616,427.644,40.67,33.48,9.728,8.856,477.666,16.9,39.96,191.968,35.52,6.23,56.704,369.1992,1.98,75.88,6.848,4.626,453.6,13.848,577.584,151.96,68.432,71.12,3.008,184.66,5.312,132.52,195.64,51.968,431.976,224.937,6.0,11.76,1125.488,12.645,4.032,79.96,6.732,33.568,15.84,24.424,17.12,31.56,105.686,399.54,104.93,1079.85,70.98,29.95,589.41,9.648,400.784,53.72,31.008,61.12,195.136,121.536,17.472,104.58,24.7,302.72,8.56,11.56,25.86,276.784,110.352,60.84,35.208,41.472,239.5,34.2,376.866,197.72,70.72,194.352,21.6,11.07,282.84,27.72,11.68,239.984,22.98,102.13,2033.584,5.76,899.982,86.352,139.96,16.704,3.152,32.896,21.392,307.314,409.9992,9.248,14.67,37.408,3.438,7.152,179.7,90.64,177.0,79.45,1628.82,137.54,730.2,11.56,4297.644,20.65,204.9,436.704,481.568,89.544,35.168,72.588,221.16,281.97,3406.664,37.17,64.96,595.38,95.984,4.938,97.44,3.984,13.04,579.528,18.75,3023.928,26.96,477.6,193.95,12.96,119.94,12.42,18.088,71.97,14.94,64.68,22.0,7.968,1499.97,26.632,41.6,64.02,6.99,6.84,323.1,668.16,8.64,38.88,201.04,12.96,16.59,35.1,11.646,32.4,503.96,7.04,613.9992,470.36,31.08,7.3,73.536,491.55,30.336,22.83,54.32,196.776,3.62,11.54,849.95,11.01,39.624,242.136,12.39,19.96,340.92,273.568,13.194,1080.096,51.56,58.416,57.584,37.312,79.96,223.96,221.024,18.96,326.646,89.97,296.712,12.224,89.97,286.86,979.95,4.36,10.048,807.75,34.24,500.24,20.12,896.99,5.88,269.98,310.12,70.464,19.68,140.67,4404.9,62.65,9.45,268.576,364.08,71.088,10.984,797.944,159.98,5.344,27.72,2.496,8.26,17.76,332.94,292.1,206.1,17.64,1403.92,4.3,239.97,81.96,238.62,139.8,9.84,7.78,54.9,50.04,339.92,10.528,42.384,123.92,135.95,2177.584,17.496,16.784,431.136,8.88,4.836,437.85,673.568,274.8,62.18,8.28,48.81,149.9,1023.332,600.558,39.992,211.246,56.064,107.772,4.832,18.24,3.798,10.368,235.188,26.376,10.384],\"type\":\"pie\"}],                        {\"template\":{\"data\":{\"bar\":[{\"error_x\":{\"color\":\"#2a3f5f\"},\"error_y\":{\"color\":\"#2a3f5f\"},\"marker\":{\"line\":{\"color\":\"#E5ECF6\",\"width\":0.5},\"pattern\":{\"fillmode\":\"overlay\",\"size\":10,\"solidity\":0.2}},\"type\":\"bar\"}],\"barpolar\":[{\"marker\":{\"line\":{\"color\":\"#E5ECF6\",\"width\":0.5},\"pattern\":{\"fillmode\":\"overlay\",\"size\":10,\"solidity\":0.2}},\"type\":\"barpolar\"}],\"carpet\":[{\"aaxis\":{\"endlinecolor\":\"#2a3f5f\",\"gridcolor\":\"white\",\"linecolor\":\"white\",\"minorgridcolor\":\"white\",\"startlinecolor\":\"#2a3f5f\"},\"baxis\":{\"endlinecolor\":\"#2a3f5f\",\"gridcolor\":\"white\",\"linecolor\":\"white\",\"minorgridcolor\":\"white\",\"startlinecolor\":\"#2a3f5f\"},\"type\":\"carpet\"}],\"choropleth\":[{\"colorbar\":{\"outlinewidth\":0,\"ticks\":\"\"},\"type\":\"choropleth\"}],\"contour\":[{\"colorbar\":{\"outlinewidth\":0,\"ticks\":\"\"},\"colorscale\":[[0.0,\"#0d0887\"],[0.1111111111111111,\"#46039f\"],[0.2222222222222222,\"#7201a8\"],[0.3333333333333333,\"#9c179e\"],[0.4444444444444444,\"#bd3786\"],[0.5555555555555556,\"#d8576b\"],[0.6666666666666666,\"#ed7953\"],[0.7777777777777778,\"#fb9f3a\"],[0.8888888888888888,\"#fdca26\"],[1.0,\"#f0f921\"]],\"type\":\"contour\"}],\"contourcarpet\":[{\"colorbar\":{\"outlinewidth\":0,\"ticks\":\"\"},\"type\":\"contourcarpet\"}],\"heatmap\":[{\"colorbar\":{\"outlinewidth\":0,\"ticks\":\"\"},\"colorscale\":[[0.0,\"#0d0887\"],[0.1111111111111111,\"#46039f\"],[0.2222222222222222,\"#7201a8\"],[0.3333333333333333,\"#9c179e\"],[0.4444444444444444,\"#bd3786\"],[0.5555555555555556,\"#d8576b\"],[0.6666666666666666,\"#ed7953\"],[0.7777777777777778,\"#fb9f3a\"],[0.8888888888888888,\"#fdca26\"],[1.0,\"#f0f921\"]],\"type\":\"heatmap\"}],\"heatmapgl\":[{\"colorbar\":{\"outlinewidth\":0,\"ticks\":\"\"},\"colorscale\":[[0.0,\"#0d0887\"],[0.1111111111111111,\"#46039f\"],[0.2222222222222222,\"#7201a8\"],[0.3333333333333333,\"#9c179e\"],[0.4444444444444444,\"#bd3786\"],[0.5555555555555556,\"#d8576b\"],[0.6666666666666666,\"#ed7953\"],[0.7777777777777778,\"#fb9f3a\"],[0.8888888888888888,\"#fdca26\"],[1.0,\"#f0f921\"]],\"type\":\"heatmapgl\"}],\"histogram\":[{\"marker\":{\"pattern\":{\"fillmode\":\"overlay\",\"size\":10,\"solidity\":0.2}},\"type\":\"histogram\"}],\"histogram2d\":[{\"colorbar\":{\"outlinewidth\":0,\"ticks\":\"\"},\"colorscale\":[[0.0,\"#0d0887\"],[0.1111111111111111,\"#46039f\"],[0.2222222222222222,\"#7201a8\"],[0.3333333333333333,\"#9c179e\"],[0.4444444444444444,\"#bd3786\"],[0.5555555555555556,\"#d8576b\"],[0.6666666666666666,\"#ed7953\"],[0.7777777777777778,\"#fb9f3a\"],[0.8888888888888888,\"#fdca26\"],[1.0,\"#f0f921\"]],\"type\":\"histogram2d\"}],\"histogram2dcontour\":[{\"colorbar\":{\"outlinewidth\":0,\"ticks\":\"\"},\"colorscale\":[[0.0,\"#0d0887\"],[0.1111111111111111,\"#46039f\"],[0.2222222222222222,\"#7201a8\"],[0.3333333333333333,\"#9c179e\"],[0.4444444444444444,\"#bd3786\"],[0.5555555555555556,\"#d8576b\"],[0.6666666666666666,\"#ed7953\"],[0.7777777777777778,\"#fb9f3a\"],[0.8888888888888888,\"#fdca26\"],[1.0,\"#f0f921\"]],\"type\":\"histogram2dcontour\"}],\"mesh3d\":[{\"colorbar\":{\"outlinewidth\":0,\"ticks\":\"\"},\"type\":\"mesh3d\"}],\"parcoords\":[{\"line\":{\"colorbar\":{\"outlinewidth\":0,\"ticks\":\"\"}},\"type\":\"parcoords\"}],\"pie\":[{\"automargin\":true,\"type\":\"pie\"}],\"scatter\":[{\"marker\":{\"colorbar\":{\"outlinewidth\":0,\"ticks\":\"\"}},\"type\":\"scatter\"}],\"scatter3d\":[{\"line\":{\"colorbar\":{\"outlinewidth\":0,\"ticks\":\"\"}},\"marker\":{\"colorbar\":{\"outlinewidth\":0,\"ticks\":\"\"}},\"type\":\"scatter3d\"}],\"scattercarpet\":[{\"marker\":{\"colorbar\":{\"outlinewidth\":0,\"ticks\":\"\"}},\"type\":\"scattercarpet\"}],\"scattergeo\":[{\"marker\":{\"colorbar\":{\"outlinewidth\":0,\"ticks\":\"\"}},\"type\":\"scattergeo\"}],\"scattergl\":[{\"marker\":{\"colorbar\":{\"outlinewidth\":0,\"ticks\":\"\"}},\"type\":\"scattergl\"}],\"scattermapbox\":[{\"marker\":{\"colorbar\":{\"outlinewidth\":0,\"ticks\":\"\"}},\"type\":\"scattermapbox\"}],\"scatterpolar\":[{\"marker\":{\"colorbar\":{\"outlinewidth\":0,\"ticks\":\"\"}},\"type\":\"scatterpolar\"}],\"scatterpolargl\":[{\"marker\":{\"colorbar\":{\"outlinewidth\":0,\"ticks\":\"\"}},\"type\":\"scatterpolargl\"}],\"scatterternary\":[{\"marker\":{\"colorbar\":{\"outlinewidth\":0,\"ticks\":\"\"}},\"type\":\"scatterternary\"}],\"surface\":[{\"colorbar\":{\"outlinewidth\":0,\"ticks\":\"\"},\"colorscale\":[[0.0,\"#0d0887\"],[0.1111111111111111,\"#46039f\"],[0.2222222222222222,\"#7201a8\"],[0.3333333333333333,\"#9c179e\"],[0.4444444444444444,\"#bd3786\"],[0.5555555555555556,\"#d8576b\"],[0.6666666666666666,\"#ed7953\"],[0.7777777777777778,\"#fb9f3a\"],[0.8888888888888888,\"#fdca26\"],[1.0,\"#f0f921\"]],\"type\":\"surface\"}],\"table\":[{\"cells\":{\"fill\":{\"color\":\"#EBF0F8\"},\"line\":{\"color\":\"white\"}},\"header\":{\"fill\":{\"color\":\"#C8D4E3\"},\"line\":{\"color\":\"white\"}},\"type\":\"table\"}]},\"layout\":{\"annotationdefaults\":{\"arrowcolor\":\"#2a3f5f\",\"arrowhead\":0,\"arrowwidth\":1},\"autotypenumbers\":\"strict\",\"coloraxis\":{\"colorbar\":{\"outlinewidth\":0,\"ticks\":\"\"}},\"colorscale\":{\"diverging\":[[0,\"#8e0152\"],[0.1,\"#c51b7d\"],[0.2,\"#de77ae\"],[0.3,\"#f1b6da\"],[0.4,\"#fde0ef\"],[0.5,\"#f7f7f7\"],[0.6,\"#e6f5d0\"],[0.7,\"#b8e186\"],[0.8,\"#7fbc41\"],[0.9,\"#4d9221\"],[1,\"#276419\"]],\"sequential\":[[0.0,\"#0d0887\"],[0.1111111111111111,\"#46039f\"],[0.2222222222222222,\"#7201a8\"],[0.3333333333333333,\"#9c179e\"],[0.4444444444444444,\"#bd3786\"],[0.5555555555555556,\"#d8576b\"],[0.6666666666666666,\"#ed7953\"],[0.7777777777777778,\"#fb9f3a\"],[0.8888888888888888,\"#fdca26\"],[1.0,\"#f0f921\"]],\"sequentialminus\":[[0.0,\"#0d0887\"],[0.1111111111111111,\"#46039f\"],[0.2222222222222222,\"#7201a8\"],[0.3333333333333333,\"#9c179e\"],[0.4444444444444444,\"#bd3786\"],[0.5555555555555556,\"#d8576b\"],[0.6666666666666666,\"#ed7953\"],[0.7777777777777778,\"#fb9f3a\"],[0.8888888888888888,\"#fdca26\"],[1.0,\"#f0f921\"]]},\"colorway\":[\"#636efa\",\"#EF553B\",\"#00cc96\",\"#ab63fa\",\"#FFA15A\",\"#19d3f3\",\"#FF6692\",\"#B6E880\",\"#FF97FF\",\"#FECB52\"],\"font\":{\"color\":\"#2a3f5f\"},\"geo\":{\"bgcolor\":\"white\",\"lakecolor\":\"white\",\"landcolor\":\"#E5ECF6\",\"showlakes\":true,\"showland\":true,\"subunitcolor\":\"white\"},\"hoverlabel\":{\"align\":\"left\"},\"hovermode\":\"closest\",\"mapbox\":{\"style\":\"light\"},\"paper_bgcolor\":\"white\",\"plot_bgcolor\":\"#E5ECF6\",\"polar\":{\"angularaxis\":{\"gridcolor\":\"white\",\"linecolor\":\"white\",\"ticks\":\"\"},\"bgcolor\":\"#E5ECF6\",\"radialaxis\":{\"gridcolor\":\"white\",\"linecolor\":\"white\",\"ticks\":\"\"}},\"scene\":{\"xaxis\":{\"backgroundcolor\":\"#E5ECF6\",\"gridcolor\":\"white\",\"gridwidth\":2,\"linecolor\":\"white\",\"showbackground\":true,\"ticks\":\"\",\"zerolinecolor\":\"white\"},\"yaxis\":{\"backgroundcolor\":\"#E5ECF6\",\"gridcolor\":\"white\",\"gridwidth\":2,\"linecolor\":\"white\",\"showbackground\":true,\"ticks\":\"\",\"zerolinecolor\":\"white\"},\"zaxis\":{\"backgroundcolor\":\"#E5ECF6\",\"gridcolor\":\"white\",\"gridwidth\":2,\"linecolor\":\"white\",\"showbackground\":true,\"ticks\":\"\",\"zerolinecolor\":\"white\"}},\"shapedefaults\":{\"line\":{\"color\":\"#2a3f5f\"}},\"ternary\":{\"aaxis\":{\"gridcolor\":\"white\",\"linecolor\":\"white\",\"ticks\":\"\"},\"baxis\":{\"gridcolor\":\"white\",\"linecolor\":\"white\",\"ticks\":\"\"},\"bgcolor\":\"#E5ECF6\",\"caxis\":{\"gridcolor\":\"white\",\"linecolor\":\"white\",\"ticks\":\"\"}},\"title\":{\"x\":0.05},\"xaxis\":{\"automargin\":true,\"gridcolor\":\"white\",\"linecolor\":\"white\",\"ticks\":\"\",\"title\":{\"standoff\":15},\"zerolinecolor\":\"white\",\"zerolinewidth\":2},\"yaxis\":{\"automargin\":true,\"gridcolor\":\"white\",\"linecolor\":\"white\",\"ticks\":\"\",\"title\":{\"standoff\":15},\"zerolinecolor\":\"white\",\"zerolinewidth\":2}}},\"legend\":{\"tracegroupgap\":0},\"margin\":{\"t\":60}},                        {\"responsive\": true}                    ).then(function(){\n",
              "                            \n",
              "var gd = document.getElementById('c4c04c1a-9deb-4b5e-9062-3b10b3e6b2a8');\n",
              "var x = new MutationObserver(function (mutations, observer) {{\n",
              "        var display = window.getComputedStyle(gd).display;\n",
              "        if (!display || display === 'none') {{\n",
              "            console.log([gd, 'removed!']);\n",
              "            Plotly.purge(gd);\n",
              "            observer.disconnect();\n",
              "        }}\n",
              "}});\n",
              "\n",
              "// Listen for the removal of the full notebook cells\n",
              "var notebookContainer = gd.closest('#notebook-container');\n",
              "if (notebookContainer) {{\n",
              "    x.observe(notebookContainer, {childList: true});\n",
              "}}\n",
              "\n",
              "// Listen for the clearing of the current output cell\n",
              "var outputEl = gd.closest('.output');\n",
              "if (outputEl) {{\n",
              "    x.observe(outputEl, {childList: true});\n",
              "}}\n",
              "\n",
              "                        })                };                            </script>        </div>\n",
              "</body>\n",
              "</html>"
            ]
          },
          "metadata": {}
        }
      ]
    },
    {
      "cell_type": "markdown",
      "source": [
        "#**YC10: Dự báo doanh số theo nhiều khía cạnh khác nhau trong tương lai: theo vùng, theo bang, theo category,.. và phát hành API để khai thác.**"
      ],
      "metadata": {
        "id": "9t7JjtBkObqS"
      }
    },
    {
      "cell_type": "markdown",
      "source": [
        "Dự báo danh số bán hàng theo bang cho các ngày tiếp theo"
      ],
      "metadata": {
        "id": "GlyH1tzVXJNz"
      }
    },
    {
      "cell_type": "markdown",
      "source": [
        "##**Tạo data train**"
      ],
      "metadata": {
        "id": "PmZGZOcfHo2I"
      }
    },
    {
      "cell_type": "code",
      "source": [
        "def encode_dates(df, column):\n",
        "    df = df.copy()\n",
        "    df[column] = pd.to_datetime(df[column])\n",
        "    df[column + '_year'] = df[column].apply(lambda x: x.year)\n",
        "    df[column + '_month'] = df[column].apply(lambda x: x.month)\n",
        "    df[column + '_day'] = df[column].apply(lambda x: x.day)\n",
        "    df = df.drop(column, axis=1)\n",
        "    return df\n",
        "\n",
        "df = train.copy()\n",
        "df = encode_dates(df, column='Order_Date')\n",
        "\n",
        "df = df.groupby([\"State\",\"Order_Date_year\",\"Order_Date_month\",\"Order_Date_day\"])[\"Sales\"].sum()\n"
      ],
      "metadata": {
        "colab": {
          "base_uri": "https://localhost:8080/"
        },
        "id": "N4oA-gli9NRM",
        "outputId": "4dd3c116-59b1-415b-ddb4-32a7f4476020"
      },
      "execution_count": null,
      "outputs": [
        {
          "output_type": "execute_result",
          "data": {
            "text/plain": [
              "State      Order_Date_year  Order_Date_month  Order_Date_day\n",
              "Alabama    2015             4                 7                    8.960\n",
              "                                              8                 1215.920\n",
              "                            5                 22                 180.930\n",
              "                            10                18                2216.800\n",
              "                            11                28                  14.670\n",
              "                                                                  ...   \n",
              "Wisconsin  2018             11                27                 190.670\n",
              "                            12                8                 1816.360\n",
              "                                              17                  32.560\n",
              "                                              18                 129.290\n",
              "Wyoming    2017             11                7                 1603.136\n",
              "Name: Sales, Length: 4147, dtype: float64"
            ]
          },
          "metadata": {},
          "execution_count": 79
        }
      ]
    },
    {
      "cell_type": "code",
      "source": [
        "X = pd.get_dummies(df.index.to_frame())\n",
        "Y = df.values"
      ],
      "metadata": {
        "id": "jRQL-sSdZgZy"
      },
      "execution_count": null,
      "outputs": []
    },
    {
      "cell_type": "code",
      "source": [
        "X_train, X_test, y_train, y_test = train_test_split(X, Y, train_size=0.8, shuffle=True, random_state=1)\n"
      ],
      "metadata": {
        "colab": {
          "base_uri": "https://localhost:8080/"
        },
        "id": "Mnevv1JuaIiC",
        "outputId": "ef2d1d49-5be5-4504-b906-24c21df6dc8f"
      },
      "execution_count": null,
      "outputs": [
        {
          "output_type": "stream",
          "name": "stdout",
          "text": [
            "<class 'pandas.core.frame.DataFrame'>\n",
            "MultiIndex: 4147 entries, ('Alabama', 2015, 4, 7) to ('Wyoming', 2017, 11, 7)\n",
            "Data columns (total 52 columns):\n",
            " #   Column                      Non-Null Count  Dtype\n",
            "---  ------                      --------------  -----\n",
            " 0   Order_Date_year             4147 non-null   int64\n",
            " 1   Order_Date_month            4147 non-null   int64\n",
            " 2   Order_Date_day              4147 non-null   int64\n",
            " 3   State_Alabama               4147 non-null   uint8\n",
            " 4   State_Arizona               4147 non-null   uint8\n",
            " 5   State_Arkansas              4147 non-null   uint8\n",
            " 6   State_California            4147 non-null   uint8\n",
            " 7   State_Colorado              4147 non-null   uint8\n",
            " 8   State_Connecticut           4147 non-null   uint8\n",
            " 9   State_Delaware              4147 non-null   uint8\n",
            " 10  State_District of Columbia  4147 non-null   uint8\n",
            " 11  State_Florida               4147 non-null   uint8\n",
            " 12  State_Georgia               4147 non-null   uint8\n",
            " 13  State_Idaho                 4147 non-null   uint8\n",
            " 14  State_Illinois              4147 non-null   uint8\n",
            " 15  State_Indiana               4147 non-null   uint8\n",
            " 16  State_Iowa                  4147 non-null   uint8\n",
            " 17  State_Kansas                4147 non-null   uint8\n",
            " 18  State_Kentucky              4147 non-null   uint8\n",
            " 19  State_Louisiana             4147 non-null   uint8\n",
            " 20  State_Maine                 4147 non-null   uint8\n",
            " 21  State_Maryland              4147 non-null   uint8\n",
            " 22  State_Massachusetts         4147 non-null   uint8\n",
            " 23  State_Michigan              4147 non-null   uint8\n",
            " 24  State_Minnesota             4147 non-null   uint8\n",
            " 25  State_Mississippi           4147 non-null   uint8\n",
            " 26  State_Missouri              4147 non-null   uint8\n",
            " 27  State_Montana               4147 non-null   uint8\n",
            " 28  State_Nebraska              4147 non-null   uint8\n",
            " 29  State_Nevada                4147 non-null   uint8\n",
            " 30  State_New Hampshire         4147 non-null   uint8\n",
            " 31  State_New Jersey            4147 non-null   uint8\n",
            " 32  State_New Mexico            4147 non-null   uint8\n",
            " 33  State_New York              4147 non-null   uint8\n",
            " 34  State_North Carolina        4147 non-null   uint8\n",
            " 35  State_North Dakota          4147 non-null   uint8\n",
            " 36  State_Ohio                  4147 non-null   uint8\n",
            " 37  State_Oklahoma              4147 non-null   uint8\n",
            " 38  State_Oregon                4147 non-null   uint8\n",
            " 39  State_Pennsylvania          4147 non-null   uint8\n",
            " 40  State_Rhode Island          4147 non-null   uint8\n",
            " 41  State_South Carolina        4147 non-null   uint8\n",
            " 42  State_South Dakota          4147 non-null   uint8\n",
            " 43  State_Tennessee             4147 non-null   uint8\n",
            " 44  State_Texas                 4147 non-null   uint8\n",
            " 45  State_Utah                  4147 non-null   uint8\n",
            " 46  State_Vermont               4147 non-null   uint8\n",
            " 47  State_Virginia              4147 non-null   uint8\n",
            " 48  State_Washington            4147 non-null   uint8\n",
            " 49  State_West Virginia         4147 non-null   uint8\n",
            " 50  State_Wisconsin             4147 non-null   uint8\n",
            " 51  State_Wyoming               4147 non-null   uint8\n",
            "dtypes: int64(3), uint8(49)\n",
            "memory usage: 313.9+ KB\n"
          ]
        }
      ]
    },
    {
      "cell_type": "markdown",
      "source": [
        "##**Định nghĩa model**"
      ],
      "metadata": {
        "id": "p9fJS_qTHwy6"
      }
    },
    {
      "cell_type": "code",
      "source": [
        "import tensorflow as tf\n",
        "inputs = tf.keras.Input(shape=(X_train.shape[1],))\n",
        "x = tf.keras.layers.Dense(256, activation='relu')(inputs)\n",
        "x = tf.keras.layers.Dense(256, activation='relu')(x)\n",
        "outputs = tf.keras.layers.Dense(1, activation='linear')(x)\n",
        "\n",
        "model = tf.keras.Model(inputs=inputs, outputs=outputs)\n",
        "\n",
        "model.summary()"
      ],
      "metadata": {
        "colab": {
          "base_uri": "https://localhost:8080/"
        },
        "id": "N0MPsozRcirA",
        "outputId": "1977d32e-1454-4aa1-b80c-ad5da1c11c22"
      },
      "execution_count": null,
      "outputs": [
        {
          "output_type": "stream",
          "name": "stdout",
          "text": [
            "Model: \"model_1\"\n",
            "_________________________________________________________________\n",
            " Layer (type)                Output Shape              Param #   \n",
            "=================================================================\n",
            " input_2 (InputLayer)        [(None, 52)]              0         \n",
            "                                                                 \n",
            " dense_3 (Dense)             (None, 256)               13568     \n",
            "                                                                 \n",
            " dense_4 (Dense)             (None, 256)               65792     \n",
            "                                                                 \n",
            " dense_5 (Dense)             (None, 1)                 257       \n",
            "                                                                 \n",
            "=================================================================\n",
            "Total params: 79,617\n",
            "Trainable params: 79,617\n",
            "Non-trainable params: 0\n",
            "_________________________________________________________________\n",
            "None\n"
          ]
        }
      ]
    },
    {
      "cell_type": "markdown",
      "source": [
        "##**Huấn luyện model**"
      ],
      "metadata": {
        "id": "o431H1bCH5-5"
      }
    },
    {
      "cell_type": "code",
      "source": [
        "model.compile(\n",
        "    optimizer='adam',\n",
        "    loss='mse'\n",
        ")\n",
        "\n",
        "history = model.fit(\n",
        "    X_train,\n",
        "    y_train,\n",
        "    validation_split=0.2,\n",
        "    batch_size=32,\n",
        "    epochs=100,\n",
        "    callbacks=[\n",
        "        tf.keras.callbacks.EarlyStopping(\n",
        "            monitor='val_loss',\n",
        "            patience=5,\n",
        "            restore_best_weights=True\n",
        "        ),\n",
        "        tf.keras.callbacks.ReduceLROnPlateau()\n",
        "    ]\n",
        ")"
      ],
      "metadata": {
        "colab": {
          "base_uri": "https://localhost:8080/"
        },
        "id": "2KapwpkrjG7z",
        "outputId": "e6b1ce36-3193-4f38-fddd-80694c33b10e"
      },
      "execution_count": null,
      "outputs": [
        {
          "output_type": "stream",
          "name": "stdout",
          "text": [
            "Epoch 1/100\n",
            "83/83 [==============================] - 1s 5ms/step - loss: 1234148.8750 - val_loss: 1075400.5000 - lr: 0.0010\n",
            "Epoch 2/100\n",
            "83/83 [==============================] - 0s 3ms/step - loss: 1239368.0000 - val_loss: 1051019.1250 - lr: 0.0010\n",
            "Epoch 3/100\n",
            "83/83 [==============================] - 0s 4ms/step - loss: 1231477.8750 - val_loss: 1061047.2500 - lr: 0.0010\n",
            "Epoch 4/100\n",
            "83/83 [==============================] - 0s 4ms/step - loss: 1230620.0000 - val_loss: 1090886.7500 - lr: 0.0010\n",
            "Epoch 5/100\n",
            "83/83 [==============================] - 0s 4ms/step - loss: 1227866.3750 - val_loss: 1064688.6250 - lr: 0.0010\n",
            "Epoch 6/100\n",
            "83/83 [==============================] - 0s 4ms/step - loss: 1231542.0000 - val_loss: 1048561.4375 - lr: 0.0010\n",
            "Epoch 7/100\n",
            "83/83 [==============================] - 0s 4ms/step - loss: 1229165.0000 - val_loss: 1052227.0000 - lr: 0.0010\n",
            "Epoch 8/100\n",
            "83/83 [==============================] - 0s 3ms/step - loss: 1231199.1250 - val_loss: 1051428.0000 - lr: 0.0010\n",
            "Epoch 9/100\n",
            "83/83 [==============================] - 0s 4ms/step - loss: 1227570.2500 - val_loss: 1047988.0625 - lr: 0.0010\n",
            "Epoch 10/100\n",
            "83/83 [==============================] - 0s 3ms/step - loss: 1226206.1250 - val_loss: 1050069.6250 - lr: 0.0010\n",
            "Epoch 11/100\n",
            "83/83 [==============================] - 0s 4ms/step - loss: 1225834.1250 - val_loss: 1050502.6250 - lr: 0.0010\n",
            "Epoch 12/100\n",
            "83/83 [==============================] - 0s 3ms/step - loss: 1227497.7500 - val_loss: 1053210.1250 - lr: 0.0010\n",
            "Epoch 13/100\n",
            "83/83 [==============================] - 0s 4ms/step - loss: 1230122.2500 - val_loss: 1050752.6250 - lr: 0.0010\n",
            "Epoch 14/100\n",
            "83/83 [==============================] - 0s 3ms/step - loss: 1228526.2500 - val_loss: 1048544.5000 - lr: 0.0010\n"
          ]
        }
      ]
    },
    {
      "cell_type": "code",
      "source": [
        "test_loss = model.evaluate(X_test, y_test, verbose=0)\n",
        "\n",
        "print(\"Test Loss: {:.5f}\".format(test_loss))"
      ],
      "metadata": {
        "colab": {
          "base_uri": "https://localhost:8080/"
        },
        "id": "Y1ktZYPcmlu6",
        "outputId": "d46e9bb9-879f-4e69-ea74-fb88a072881d"
      },
      "execution_count": null,
      "outputs": [
        {
          "output_type": "stream",
          "name": "stdout",
          "text": [
            "Test Loss: 936343.12500\n"
          ]
        }
      ]
    },
    {
      "cell_type": "code",
      "source": [
        "from sklearn.metrics import r2_score\n",
        "y_pred = np.squeeze(model.predict(X_test))\n",
        "test_r2 = r2_score(y_test, y_pred)\n",
        "\n",
        "print(\"Test R^2 Score: {:.5f}\".format(test_r2))"
      ],
      "metadata": {
        "colab": {
          "base_uri": "https://localhost:8080/"
        },
        "id": "hJvtonsPmraF",
        "outputId": "b306a0e9-16a6-4003-e000-b79198b02651"
      },
      "execution_count": null,
      "outputs": [
        {
          "output_type": "stream",
          "name": "stdout",
          "text": [
            "26/26 [==============================] - 0s 2ms/step\n",
            "Test R^2 Score: -0.00018\n"
          ]
        }
      ]
    },
    {
      "cell_type": "markdown",
      "source": [
        "##**Tạo API**"
      ],
      "metadata": {
        "id": "r68E0MeTIA-H"
      }
    },
    {
      "cell_type": "code",
      "source": [
        "!pip install flask-ngrok"
      ],
      "metadata": {
        "colab": {
          "base_uri": "https://localhost:8080/"
        },
        "id": "jRQBsReknG7B",
        "outputId": "0a5ca6fc-5d94-4a99-a362-6f3f7ccf85cb"
      },
      "execution_count": null,
      "outputs": [
        {
          "output_type": "stream",
          "name": "stdout",
          "text": [
            "Looking in indexes: https://pypi.org/simple, https://us-python.pkg.dev/colab-wheels/public/simple/\n",
            "Collecting flask-ngrok\n",
            "  Downloading flask_ngrok-0.0.25-py3-none-any.whl (3.1 kB)\n",
            "Requirement already satisfied: requests in /usr/local/lib/python3.7/dist-packages (from flask-ngrok) (2.23.0)\n",
            "Requirement already satisfied: Flask>=0.8 in /usr/local/lib/python3.7/dist-packages (from flask-ngrok) (1.1.4)\n",
            "Requirement already satisfied: Jinja2<3.0,>=2.10.1 in /usr/local/lib/python3.7/dist-packages (from Flask>=0.8->flask-ngrok) (2.11.3)\n",
            "Requirement already satisfied: itsdangerous<2.0,>=0.24 in /usr/local/lib/python3.7/dist-packages (from Flask>=0.8->flask-ngrok) (1.1.0)\n",
            "Requirement already satisfied: click<8.0,>=5.1 in /usr/local/lib/python3.7/dist-packages (from Flask>=0.8->flask-ngrok) (7.1.2)\n",
            "Requirement already satisfied: Werkzeug<2.0,>=0.15 in /usr/local/lib/python3.7/dist-packages (from Flask>=0.8->flask-ngrok) (1.0.1)\n",
            "Requirement already satisfied: MarkupSafe>=0.23 in /usr/local/lib/python3.7/dist-packages (from Jinja2<3.0,>=2.10.1->Flask>=0.8->flask-ngrok) (2.0.1)\n",
            "Requirement already satisfied: urllib3!=1.25.0,!=1.25.1,<1.26,>=1.21.1 in /usr/local/lib/python3.7/dist-packages (from requests->flask-ngrok) (1.24.3)\n",
            "Requirement already satisfied: idna<3,>=2.5 in /usr/local/lib/python3.7/dist-packages (from requests->flask-ngrok) (2.10)\n",
            "Requirement already satisfied: chardet<4,>=3.0.2 in /usr/local/lib/python3.7/dist-packages (from requests->flask-ngrok) (3.0.4)\n",
            "Requirement already satisfied: certifi>=2017.4.17 in /usr/local/lib/python3.7/dist-packages (from requests->flask-ngrok) (2022.9.24)\n",
            "Installing collected packages: flask-ngrok\n",
            "Successfully installed flask-ngrok-0.0.25\n"
          ]
        }
      ]
    },
    {
      "cell_type": "code",
      "source": [
        "# flask_ngrok_example.py\n",
        "from flask import Flask\n",
        "from flask_ngrok import run_with_ngrok\n",
        "from flask import request\n",
        "\n",
        "app = Flask(__name__)\n",
        "run_with_ngrok(app)  # Start ngrok when app is run\n",
        "\n",
        "@app.route(\"/\")\n",
        "def hello():\n",
        "    state = request.args.get('state')\n",
        "    y = request.args.get('y')\n",
        "    m = request.args.get('m')\n",
        "    d = request.args.get('d')\n",
        "    return predict_data(state,y,m,d)\n",
        "\n",
        "def predict_data(cus_test_state,cus_test_year,cus_test_month,cus_test_day ):\n",
        "\n",
        "    key_test =pd.MultiIndex.from_tuples([(cus_test_state,cus_test_year,cus_test_month,cus_test_day)], names=[\"State\",\"Order_Date_year\", \"Order_Date_month\", \"Order_Date_day\"])\n",
        "    X_test.columns\n",
        "    ff = np.zeros(52,int)\n",
        "\n",
        "    data_input = pd.DataFrame([ff],index=[key_test], columns = X_test.columns)\n",
        "    data_input.iloc[0] = int(0)\n",
        "    data_input[\"Order_Date_year\"] = cus_test_year\n",
        "    data_input[\"Order_Date_month\"] = cus_test_month\n",
        "    data_input[\"Order_Date_day\"] = cus_test_day\n",
        "    data_input[\"State_\" + cus_test_state] = 1\n",
        "    return model.predict(data_input)\n",
        "\n",
        "\n",
        "if __name__ == '__main__':\n",
        "    app.run()  # If address is in use, may need to terminate other sessions:\n",
        "               # Runtime > Manage Sessions > Terminate Other Sessions"
      ],
      "metadata": {
        "colab": {
          "base_uri": "https://localhost:8080/"
        },
        "id": "roaH_qPdINan",
        "outputId": "a37fb869-aa39-4bde-f47c-5730b06e7e7f"
      },
      "execution_count": null,
      "outputs": [
        {
          "output_type": "stream",
          "name": "stdout",
          "text": [
            " * Serving Flask app \"__main__\" (lazy loading)\n",
            " * Environment: production\n",
            "\u001b[31m   WARNING: This is a development server. Do not use it in a production deployment.\u001b[0m\n",
            "\u001b[2m   Use a production WSGI server instead.\u001b[0m\n",
            " * Debug mode: off\n"
          ]
        },
        {
          "output_type": "stream",
          "name": "stderr",
          "text": [
            "INFO:werkzeug: * Running on http://127.0.0.1:5000/ (Press CTRL+C to quit)\n"
          ]
        },
        {
          "output_type": "stream",
          "name": "stdout",
          "text": [
            " * Running on http://1a63-35-225-86-128.ngrok.io\n",
            " * Traffic stats available on http://127.0.0.1:4040\n"
          ]
        },
        {
          "output_type": "stream",
          "name": "stderr",
          "text": [
            "ERROR:__main__:Exception on / [GET]\n",
            "Traceback (most recent call last):\n",
            "  File \"/usr/local/lib/python3.7/dist-packages/flask/app.py\", line 2447, in wsgi_app\n",
            "    response = self.full_dispatch_request()\n",
            "  File \"/usr/local/lib/python3.7/dist-packages/flask/app.py\", line 1952, in full_dispatch_request\n",
            "    rv = self.handle_user_exception(e)\n",
            "  File \"/usr/local/lib/python3.7/dist-packages/flask/app.py\", line 1821, in handle_user_exception\n",
            "    reraise(exc_type, exc_value, tb)\n",
            "  File \"/usr/local/lib/python3.7/dist-packages/flask/_compat.py\", line 39, in reraise\n",
            "    raise value\n",
            "  File \"/usr/local/lib/python3.7/dist-packages/flask/app.py\", line 1950, in full_dispatch_request\n",
            "    rv = self.dispatch_request()\n",
            "  File \"/usr/local/lib/python3.7/dist-packages/flask/app.py\", line 1936, in dispatch_request\n",
            "    return self.view_functions[rule.endpoint](**req.view_args)\n",
            "  File \"<ipython-input-89-de69abf3b2b7>\", line 15, in hello\n",
            "    return predict_data(state,y,m,d)\n",
            "  File \"<ipython-input-89-de69abf3b2b7>\", line 28, in predict_data\n",
            "    data_input[\"State_\" + cus_test_state] = 1\n",
            "TypeError: can only concatenate str (not \"NoneType\") to str\n",
            "INFO:werkzeug:127.0.0.1 - - [01/Nov/2022 16:58:09] \"\u001b[35m\u001b[1mGET / HTTP/1.1\u001b[0m\" 500 -\n",
            "INFO:werkzeug:127.0.0.1 - - [01/Nov/2022 16:58:10] \"\u001b[33mGET /favicon.ico HTTP/1.1\u001b[0m\" 404 -\n",
            "ERROR:__main__:Exception on / [GET]\n",
            "Traceback (most recent call last):\n",
            "  File \"/usr/local/lib/python3.7/dist-packages/flask/app.py\", line 2447, in wsgi_app\n",
            "    response = self.full_dispatch_request()\n",
            "  File \"/usr/local/lib/python3.7/dist-packages/flask/app.py\", line 1952, in full_dispatch_request\n",
            "    rv = self.handle_user_exception(e)\n",
            "  File \"/usr/local/lib/python3.7/dist-packages/flask/app.py\", line 1821, in handle_user_exception\n",
            "    reraise(exc_type, exc_value, tb)\n",
            "  File \"/usr/local/lib/python3.7/dist-packages/flask/_compat.py\", line 39, in reraise\n",
            "    raise value\n",
            "  File \"/usr/local/lib/python3.7/dist-packages/flask/app.py\", line 1950, in full_dispatch_request\n",
            "    rv = self.dispatch_request()\n",
            "  File \"/usr/local/lib/python3.7/dist-packages/flask/app.py\", line 1936, in dispatch_request\n",
            "    return self.view_functions[rule.endpoint](**req.view_args)\n",
            "  File \"<ipython-input-89-de69abf3b2b7>\", line 15, in hello\n",
            "    return predict_data(state,y,m,d)\n",
            "  File \"<ipython-input-89-de69abf3b2b7>\", line 28, in predict_data\n",
            "    data_input[\"State_\" + cus_test_state] = 1\n",
            "TypeError: can only concatenate str (not \"NoneType\") to str\n",
            "INFO:werkzeug:127.0.0.1 - - [01/Nov/2022 16:58:40] \"\u001b[35m\u001b[1mGET / HTTP/1.1\u001b[0m\" 500 -\n",
            "INFO:werkzeug:127.0.0.1 - - [01/Nov/2022 16:58:41] \"\u001b[33mGET /favicon.ico HTTP/1.1\u001b[0m\" 404 -\n"
          ]
        }
      ]
    }
  ]
}