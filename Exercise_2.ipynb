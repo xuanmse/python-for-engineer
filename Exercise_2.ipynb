{
  "nbformat": 4,
  "nbformat_minor": 0,
  "metadata": {
    "colab": {
      "provenance": [],
      "collapsed_sections": [],
      "toc_visible": true,
      "authorship_tag": "ABX9TyNbnGCN3ofIoXbs6JBO36pX",
      "include_colab_link": true
    },
    "kernelspec": {
      "name": "python3",
      "display_name": "Python 3"
    },
    "language_info": {
      "name": "python"
    }
  },
  "cells": [
    {
      "cell_type": "markdown",
      "metadata": {
        "id": "view-in-github",
        "colab_type": "text"
      },
      "source": [
        "<a href=\"https://colab.research.google.com/github/xuanmse/python-for-engineer/blob/master/Exercise_2.ipynb\" target=\"_parent\"><img src=\"https://colab.research.google.com/assets/colab-badge.svg\" alt=\"Open In Colab\"/></a>"
      ]
    },
    {
      "cell_type": "markdown",
      "source": [
        "| Thông tin   |               |\n",
        "| ----------- | -----------   |\n",
        "| MSSV        | 22mse23076    |\n",
        "| Họ Và Tên   | KIEU VAN XUAN |"
      ],
      "metadata": {
        "id": "fiPouw-z7Vu_"
      }
    },
    {
      "cell_type": "markdown",
      "source": [
        "Bài tập 2: Tự lập trình vẽ lại các biểu đồ theo gợi ý ở đây [M5 EDA | Kaggle](https://www.kaggle.com/code/akshaychaudhary44/m5-eda)"
      ],
      "metadata": {
        "id": "FE4fjPLxBuvo"
      }
    },
    {
      "cell_type": "markdown",
      "source": [
        "#**Cài đặt môi trường & tải tập dữ liệu**"
      ],
      "metadata": {
        "id": "F4taWcHqC0Ck"
      }
    },
    {
      "cell_type": "markdown",
      "source": [
        "##**Cài đặt thư viện**"
      ],
      "metadata": {
        "id": "ymphzfh7DkIZ"
      }
    },
    {
      "cell_type": "code",
      "source": [
        "!pip install kaggle # cài đặt công cụ Kaggle\n",
        "!pip install seaborn\n",
        "!pip install plotly"
      ],
      "metadata": {
        "colab": {
          "base_uri": "https://localhost:8080/"
        },
        "id": "NbkI3RDwC8pS",
        "outputId": "4b3d1313-5471-474a-f683-cc77c211db61"
      },
      "execution_count": 1,
      "outputs": [
        {
          "output_type": "stream",
          "name": "stdout",
          "text": [
            "Looking in indexes: https://pypi.org/simple, https://us-python.pkg.dev/colab-wheels/public/simple/\n",
            "Requirement already satisfied: kaggle in /usr/local/lib/python3.7/dist-packages (1.5.12)\n",
            "Requirement already satisfied: python-slugify in /usr/local/lib/python3.7/dist-packages (from kaggle) (6.1.2)\n",
            "Requirement already satisfied: certifi in /usr/local/lib/python3.7/dist-packages (from kaggle) (2022.9.24)\n",
            "Requirement already satisfied: six>=1.10 in /usr/local/lib/python3.7/dist-packages (from kaggle) (1.15.0)\n",
            "Requirement already satisfied: python-dateutil in /usr/local/lib/python3.7/dist-packages (from kaggle) (2.8.2)\n",
            "Requirement already satisfied: tqdm in /usr/local/lib/python3.7/dist-packages (from kaggle) (4.64.1)\n",
            "Requirement already satisfied: requests in /usr/local/lib/python3.7/dist-packages (from kaggle) (2.23.0)\n",
            "Requirement already satisfied: urllib3 in /usr/local/lib/python3.7/dist-packages (from kaggle) (1.24.3)\n",
            "Requirement already satisfied: text-unidecode>=1.3 in /usr/local/lib/python3.7/dist-packages (from python-slugify->kaggle) (1.3)\n",
            "Requirement already satisfied: idna<3,>=2.5 in /usr/local/lib/python3.7/dist-packages (from requests->kaggle) (2.10)\n",
            "Requirement already satisfied: chardet<4,>=3.0.2 in /usr/local/lib/python3.7/dist-packages (from requests->kaggle) (3.0.4)\n",
            "Looking in indexes: https://pypi.org/simple, https://us-python.pkg.dev/colab-wheels/public/simple/\n",
            "Requirement already satisfied: seaborn in /usr/local/lib/python3.7/dist-packages (0.11.2)\n",
            "Requirement already satisfied: pandas>=0.23 in /usr/local/lib/python3.7/dist-packages (from seaborn) (1.3.5)\n",
            "Requirement already satisfied: numpy>=1.15 in /usr/local/lib/python3.7/dist-packages (from seaborn) (1.21.6)\n",
            "Requirement already satisfied: matplotlib>=2.2 in /usr/local/lib/python3.7/dist-packages (from seaborn) (3.2.2)\n",
            "Requirement already satisfied: scipy>=1.0 in /usr/local/lib/python3.7/dist-packages (from seaborn) (1.7.3)\n",
            "Requirement already satisfied: pyparsing!=2.0.4,!=2.1.2,!=2.1.6,>=2.0.1 in /usr/local/lib/python3.7/dist-packages (from matplotlib>=2.2->seaborn) (3.0.9)\n",
            "Requirement already satisfied: kiwisolver>=1.0.1 in /usr/local/lib/python3.7/dist-packages (from matplotlib>=2.2->seaborn) (1.4.4)\n",
            "Requirement already satisfied: python-dateutil>=2.1 in /usr/local/lib/python3.7/dist-packages (from matplotlib>=2.2->seaborn) (2.8.2)\n",
            "Requirement already satisfied: cycler>=0.10 in /usr/local/lib/python3.7/dist-packages (from matplotlib>=2.2->seaborn) (0.11.0)\n",
            "Requirement already satisfied: typing-extensions in /usr/local/lib/python3.7/dist-packages (from kiwisolver>=1.0.1->matplotlib>=2.2->seaborn) (4.1.1)\n",
            "Requirement already satisfied: pytz>=2017.3 in /usr/local/lib/python3.7/dist-packages (from pandas>=0.23->seaborn) (2022.5)\n",
            "Requirement already satisfied: six>=1.5 in /usr/local/lib/python3.7/dist-packages (from python-dateutil>=2.1->matplotlib>=2.2->seaborn) (1.15.0)\n",
            "Looking in indexes: https://pypi.org/simple, https://us-python.pkg.dev/colab-wheels/public/simple/\n",
            "Requirement already satisfied: plotly in /usr/local/lib/python3.7/dist-packages (5.5.0)\n",
            "Requirement already satisfied: tenacity>=6.2.0 in /usr/local/lib/python3.7/dist-packages (from plotly) (8.1.0)\n",
            "Requirement already satisfied: six in /usr/local/lib/python3.7/dist-packages (from plotly) (1.15.0)\n"
          ]
        }
      ]
    },
    {
      "cell_type": "markdown",
      "source": [
        "##**Cài đặt xác thực**"
      ],
      "metadata": {
        "id": "DNhn7ujZDpO1"
      }
    },
    {
      "cell_type": "code",
      "source": [
        "# Tải thông tin tài khoảng để xác thực trên kaggle và lưu vào máy ảo colab\n",
        "! yes | mkdir /root/.kaggle\n",
        "! yes | wget https://raw.githubusercontent.com/xuanmse/python-for-engineer/master/kaggle.json -P /root/.kaggle/\n",
        "! chmod 600 /root/.kaggle/kaggle.json"
      ],
      "metadata": {
        "colab": {
          "base_uri": "https://localhost:8080/"
        },
        "id": "d7HceY--DG6C",
        "outputId": "56f13d73-8476-4ca0-e294-c7a48596b6a0"
      },
      "execution_count": 2,
      "outputs": [
        {
          "output_type": "stream",
          "name": "stdout",
          "text": [
            "--2022-11-01 16:11:18--  https://raw.githubusercontent.com/xuanmse/python-for-engineer/master/kaggle.json\n",
            "Resolving raw.githubusercontent.com (raw.githubusercontent.com)... 185.199.109.133, 185.199.110.133, 185.199.111.133, ...\n",
            "Connecting to raw.githubusercontent.com (raw.githubusercontent.com)|185.199.109.133|:443... connected.\n",
            "HTTP request sent, awaiting response... 200 OK\n",
            "Length: 68 [text/plain]\n",
            "Saving to: ‘/root/.kaggle/kaggle.json’\n",
            "\n",
            "kaggle.json         100%[===================>]      68  --.-KB/s    in 0s      \n",
            "\n",
            "2022-11-01 16:11:18 (2.36 MB/s) - ‘/root/.kaggle/kaggle.json’ saved [68/68]\n",
            "\n"
          ]
        }
      ]
    },
    {
      "cell_type": "markdown",
      "source": [
        "##**Giải nén**"
      ],
      "metadata": {
        "id": "CA-jvE6kDeie"
      }
    },
    {
      "cell_type": "code",
      "source": [
        "!yes | kaggle competitions download -c m5-forecasting-accuracy -p /kaggle/input/\n",
        "!yes | unzip /kaggle/input/m5-forecasting-accuracy.zip -d /kaggle/input/m5-forecasting-accuracy\n",
        "!yes | rm /kaggle/input/m5-forecasting-accuracy.zip"
      ],
      "metadata": {
        "id": "I_wnTk1GD7HZ"
      },
      "execution_count": null,
      "outputs": []
    },
    {
      "cell_type": "markdown",
      "source": [
        "##**Nhập thư viện và kiểm tra dữ liệu**"
      ],
      "metadata": {
        "id": "Gf6UiZw6HC2k"
      }
    },
    {
      "cell_type": "code",
      "source": [
        "import numpy as np # linear algebra\n",
        "import pandas as pd # data processing, CSV file I/O (e.g. pd.read_csv)\n",
        "import seaborn as sns\n",
        "import plotly.express as px\n",
        "import plotly.graph_objects as go\n",
        "from plotly.subplots import make_subplots\n"
      ],
      "metadata": {
        "id": "4mlOgHZTH9Gq"
      },
      "execution_count": null,
      "outputs": []
    },
    {
      "cell_type": "code",
      "source": [
        "import os\n",
        "for dirname, _, filenames in os.walk('/kaggle/input'):\n",
        "    for filename in filenames:\n",
        "        print(os.path.join(dirname, filename))"
      ],
      "metadata": {
        "id": "ZqbUKwwTIDda"
      },
      "execution_count": null,
      "outputs": []
    },
    {
      "cell_type": "markdown",
      "source": [
        "##**Tải tập dữ liệu lên ô nhớ**"
      ],
      "metadata": {
        "id": "oV_PlAKwJDIJ"
      }
    },
    {
      "cell_type": "code",
      "source": [
        "sale2 = pd.read_csv('/kaggle/input/m5-forecasting-accuracy/sales_train_validation.csv')\n",
        "cale4 = pd.read_csv('/kaggle/input/m5-forecasting-accuracy/calendar.csv')\n",
        "prices = pd.read_csv(\"/kaggle/input/m5-forecasting-accuracy/sell_prices.csv\")"
      ],
      "metadata": {
        "id": "8U3gZWJNJHcd"
      },
      "execution_count": null,
      "outputs": []
    },
    {
      "cell_type": "markdown",
      "source": [
        "## **Thay đỗi thông tin tên cột của tập dữ liệu**"
      ],
      "metadata": {
        "id": "30dvIKjjJh_J"
      }
    },
    {
      "cell_type": "code",
      "source": [
        "import datetime\n",
        "x = datetime.date(2011,1,29)\n",
        "for c in ((sale2.columns)[6:]):\n",
        "    sale2.rename(columns={c:x},inplace=True)\n",
        "    x = x + datetime.timedelta(days=1)\n",
        "\n"
      ],
      "metadata": {
        "id": "al6ZjsrXJQ7d"
      },
      "execution_count": null,
      "outputs": []
    },
    {
      "cell_type": "markdown",
      "source": [
        "# **Trực quan hóa dữ liệu**"
      ],
      "metadata": {
        "id": "RU-Wb8jeKCSX"
      }
    },
    {
      "cell_type": "markdown",
      "source": [
        "##**Doanh số năm mặt hàng đầu tiên theo thời gian**"
      ],
      "metadata": {
        "id": "3YfFUQlbKMUT"
      }
    },
    {
      "cell_type": "code",
      "source": [
        "X = sale2.groupby('item_id')[(sale2.columns)[6:]].sum()\n",
        "fig = px.line(X[:5].transpose(), title='Doanh số năm mặt hàng đầu tiên theo thời gian')\n",
        "fig.show()"
      ],
      "metadata": {
        "id": "Ga6XOvHUJeiY"
      },
      "execution_count": null,
      "outputs": []
    },
    {
      "cell_type": "markdown",
      "source": [
        "##**Tổng doanh số bán hàng theo thời gian**"
      ],
      "metadata": {
        "id": "hPuUsZQ1PW0G"
      }
    },
    {
      "cell_type": "code",
      "source": [
        "fig = px.line(X.sum().transpose(), title='Doanh số năm mặt hàng đầu tiên theo thời gian')\n",
        "fig.show()"
      ],
      "metadata": {
        "id": "tSKGjEYIPnn0"
      },
      "execution_count": null,
      "outputs": []
    },
    {
      "cell_type": "markdown",
      "source": [
        "##Doanh số hàng tháng ở các thành phố"
      ],
      "metadata": {
        "id": "d17RaimuR95o"
      }
    },
    {
      "cell_type": "code",
      "source": [
        "\n",
        "\n",
        "X = sale2\n",
        "X = X.groupby(X.columns.map(lambda x : x if type(x) == str else x.strftime('%Y-%m')),axis=1).sum()\n",
        "for c in ((X.columns)[:-6]):\n",
        "    x= datetime.datetime.strptime(c, '%Y-%m').date()\n",
        "    X.rename(columns={c:x},inplace=True)\n",
        "\n"
      ],
      "metadata": {
        "id": "4gpO-thNSTty"
      },
      "execution_count": null,
      "outputs": []
    },
    {
      "cell_type": "code",
      "source": [
        "F = X.groupby(['state_id'])[(X.columns)[:-6]].sum()\n",
        "fig = px.line(F.transpose()[1:], title='Doanh số hàng tháng ở các thành phố')\n",
        "fig.show()\n",
        "# plt.figure(num=None, figsize=(7, 4), dpi=80, facecolor='w', edgecolor='k')\n",
        "# for i in range(3):\n",
        "#     plt.plot(F.iloc[i,1:-1],label=F.index[i])\n",
        "#     plt.legend(loc='best')\n",
        "# plt.show()"
      ],
      "metadata": {
        "id": "6lcymBWDT0-x"
      },
      "execution_count": null,
      "outputs": []
    },
    {
      "cell_type": "markdown",
      "source": [
        "##**Doanh số theo tháng của các doanh mục**"
      ],
      "metadata": {
        "id": "xWPkns3DUqkF"
      }
    },
    {
      "cell_type": "code",
      "source": [
        "F = X.groupby(['cat_id'])[(X.columns)[:-6]].sum()\n",
        "fig = px.line(F.transpose()[1:], title='Doanh số theo tháng của các doanh mục')\n",
        "fig.show()"
      ],
      "metadata": {
        "id": "JrjnVHF2U66s"
      },
      "execution_count": null,
      "outputs": []
    },
    {
      "cell_type": "markdown",
      "source": [
        "##**Tổng doanh số bán hàng của các danh mục**"
      ],
      "metadata": {
        "id": "j-con9TWVOV3"
      }
    },
    {
      "cell_type": "code",
      "source": [
        "F = X.groupby(['cat_id'])[(X.columns)[:-6]].sum().transpose().sum()\n",
        "fig = px.bar(F, title='Tổng doanh số bán hàng của các danh mục')\n",
        "fig.show()"
      ],
      "metadata": {
        "id": "mfyV6tyzVT07"
      },
      "execution_count": null,
      "outputs": []
    },
    {
      "cell_type": "markdown",
      "source": [
        "##**Doanh số hàng tháng theo cửa hàng**"
      ],
      "metadata": {
        "id": "PMezecv4Wp9V"
      }
    },
    {
      "cell_type": "code",
      "source": [
        "def visualize_store_sales_monthly(DF, fig,row,col ):\n",
        "  for i in range(len(DF.index)):\n",
        "    tmp = DF.iloc[i]\n",
        "    fig.add_trace(go.Scatter(x=tmp.index[1:], y = tmp.values[1:],name=tmp.name),row = row, col =col)\n",
        "\n",
        "F = X.groupby(['store_id'])[(X.columns)[:-6]].sum()\n",
        "\n",
        "fig = make_subplots(rows=1, cols=3, shared_yaxes=True)\n",
        "visualize_store_sales_monthly (F[F.index.str.startswith(\"CA\")] ,fig, 1,1)\n",
        "visualize_store_sales_monthly (F[F.index.str.startswith(\"TX\")] ,fig, 1,2)\n",
        "visualize_store_sales_monthly (F[F.index.str.startswith(\"WI\")] ,fig, 1,3)\n",
        "\n",
        "fig.show()"
      ],
      "metadata": {
        "id": "A-2B8Y2pWvt_"
      },
      "execution_count": null,
      "outputs": []
    },
    {
      "cell_type": "markdown",
      "source": [
        "##**Doanh số hàng tháng theo bộ phận khác nhau của ba bang**"
      ],
      "metadata": {
        "id": "yta4owIPq7y9"
      }
    },
    {
      "cell_type": "code",
      "source": [
        "import matplotlib.pyplot as plt\n",
        "F = X.groupby(['state_id','dept_id'])[(X.columns)[6:]].sum()\n",
        "\n",
        "fig = make_subplots(rows=3, cols=7, shared_yaxes=True)\n",
        "\n",
        "for i in range(3):\n",
        "    for j in range(7):\n",
        "        k = (7*i)+(j)\n",
        "        tmp = F.iloc[k,1:-1]\n",
        "        fig.add_trace(go.Scatter(x=tmp.index[1:], y = tmp.values[1:], name = tmp.name[0] +\":\" + tmp.name[1] ),row = i+1, col =j+1)\n",
        "fig.show()    \n"
      ],
      "metadata": {
        "id": "LOjqV9pArH63"
      },
      "execution_count": null,
      "outputs": []
    },
    {
      "cell_type": "markdown",
      "source": [
        "##**Tổng doanh số với đường làm mịn**"
      ],
      "metadata": {
        "id": "grIvBGFOuZ89"
      }
    },
    {
      "cell_type": "code",
      "source": [
        "F = sale2.drop(labels=[datetime.date(2011, 12, 25),datetime.date(2012, 12, 25), datetime.date(2013, 12, 25),datetime.date(2014, 12, 25),datetime.date(2015, 12, 25)],axis=1)"
      ],
      "metadata": {
        "id": "GVEFR45BvUkz"
      },
      "execution_count": null,
      "outputs": []
    },
    {
      "cell_type": "code",
      "source": [
        "S = F.iloc[:,6:].sum()\n",
        "\n",
        "import statsmodels.api as sm\n",
        "lowess = sm.nonparametric.lowess\n",
        "z = lowess(S.values, range(S.shape[0]))\n",
        "L = pd.Series(z[:,1],S.index)\n",
        "\n",
        "fig = go.Figure()\n",
        "fig.add_trace(go.Scatter(x=S.index[1:], y = S.values[1:],\n",
        "                    mode='lines',\n",
        "                    name='total'))\n",
        "fig.add_trace(go.Scatter(x=L.index[1:], y = L.values[1:],\n",
        "                    mode='lines',\n",
        "                    name='smoothing'))\n",
        "fig.show()    \n",
        "\n",
        "# results = px.get_trendline_results(fig)\n",
        "# print(results)\n",
        "\n",
        "# results.query(\"sex == 'Male' and smoker == 'Yes'\").px_fit_results.iloc[0].summary()"
      ],
      "metadata": {
        "id": "4iGk9D_tv7bC"
      },
      "execution_count": null,
      "outputs": []
    },
    {
      "cell_type": "markdown",
      "source": [
        "##**Doanh số dư theo mùa**"
      ],
      "metadata": {
        "id": "uT-W3UCx2otF"
      }
    },
    {
      "cell_type": "code",
      "source": [
        "M = F.iloc[:,6:].sum()\n",
        "z = lowess(M, range(M.shape[0]))\n",
        "Z = M.values - z[:,1]\n",
        "A = (pd.DataFrame(data=Z,index=M.index)).T\n",
        "A = A.groupby(A.columns.map(lambda x : str(x.weekday())+'-'+str(x.month)),axis=1).sum()\n",
        "H = np.zeros((7,12))\n",
        "for i in range(7):\n",
        "    for j in range(12):\n",
        "        H[i,j] = A[str(i)+'-'+str(j+1)]//1000\n",
        "fig = px.imshow(H, x=['Jan', 'Feb', 'Mar', 'Apr', 'May', 'Jun', 'Jul', 'Aug', 'Sep', 'Oct', 'Nov', 'Dec'],\n",
        "                y=['Monday', 'Tuesday', 'Wednesday', 'Thursday', 'Friday','Saturday','Sunday'])\n",
        "fig.show()"
      ],
      "metadata": {
        "id": "Hjc_jQto2oCk"
      },
      "execution_count": null,
      "outputs": []
    },
    {
      "cell_type": "markdown",
      "source": [
        "##**Doanh số theo mùa tại các bang**"
      ],
      "metadata": {
        "id": "Brl6xVPb47J8"
      }
    },
    {
      "cell_type": "code",
      "source": [
        "def visualize_sale_state_season(df_tmp, se_tmp ,row,col):\n",
        "  fig.add_trace(go.Scatter(x=df_tmp.index[1:], y = df_tmp.values[1:],name=\"total\"),row = row, col =col)\n",
        "  fig.add_trace(go.Scatter(x=se_tmp.index[1:], y = se_tmp.values[1:],name=\"smooth\"),row = row, col =col)\n",
        "\n",
        "M = F.groupby(['state_id'])[(F.columns)[6:]].sum()\n",
        "fig = make_subplots(rows=1, cols=3, shared_yaxes=True, column_titles =[\"CA\",\"TX\", \"WI\"])\n",
        "for i in range (3):\n",
        "  z = lowess(M.iloc[i,:].values, range(M.shape[1]))\n",
        "  visualize_sale_state_season (M.iloc[i,:],pd.Series(z[:,1],M.columns), 1,i+1)\n",
        "fig.show()\n"
      ],
      "metadata": {
        "id": "7QVU9esX5Cj3"
      },
      "execution_count": null,
      "outputs": []
    },
    {
      "cell_type": "markdown",
      "source": [
        "##**Hàng Tuần**"
      ],
      "metadata": {
        "id": "TeLU6VWA7dIr"
      }
    },
    {
      "cell_type": "code",
      "source": [
        "mean_sales = F.iloc[:,6:].sum().mean()"
      ],
      "metadata": {
        "id": "3zkPCfEC7kb-"
      },
      "execution_count": null,
      "outputs": []
    },
    {
      "cell_type": "code",
      "source": [
        "A = M\n",
        "for i in range(3):\n",
        "    z = lowess(M.iloc[i,:].values, range(M.shape[1]))\n",
        "    A.iloc[i,:] = M.iloc[i,:] - z[:,1]\n",
        "A = A/mean_sales\n",
        "A = A.groupby(A.columns.map(lambda x : str(x.weekday())),axis=1).sum()\n",
        "px.line(A.transpose(), title='Doanh số hàng tuần theo mùa',)"
      ],
      "metadata": {
        "id": "sauevkor7rzm"
      },
      "execution_count": null,
      "outputs": []
    },
    {
      "cell_type": "markdown",
      "source": [
        "##**Hàng tháng**\n"
      ],
      "metadata": {
        "id": "KHHJwE988aax"
      }
    },
    {
      "cell_type": "code",
      "source": [
        "A = M\n",
        "for i in range(3):\n",
        "    z = lowess(M.iloc[i,:].values, range(M.shape[1]))\n",
        "    A.iloc[i,:] = M.iloc[i,:] - z[:,1]\n",
        "A = A/mean_sales\n",
        "A = A.groupby(A.columns.map(lambda x : (x.month)),axis=1).sum()\n",
        "px.line(A.transpose(), title='Doanh số hàng tuần theo mùa',)\n",
        "# plt.figure(num=None, figsize=(7,3), dpi=80, facecolor='w', edgecolor='k')\n",
        "# for i in range(3):\n",
        "#     plt.plot(A.iloc[i,:],label=A.index[i])\n",
        "#     plt.legend(loc='best')\n",
        "#     plt.xticks(range(1,13),['Jan', 'Feb', 'Mar', 'Apr', 'May', 'Jun', 'Jul', 'Aug', 'Sep', 'Oct', 'Nov', 'Dec'])\n",
        "# plt.show()\n",
        "\n"
      ],
      "metadata": {
        "id": "ATOkoVOJ8egs"
      },
      "execution_count": null,
      "outputs": []
    },
    {
      "cell_type": "markdown",
      "source": [
        "##**Hàng tuần, Hàng tháng theo danh mục**"
      ],
      "metadata": {
        "id": "JSkmm-I798qt"
      }
    },
    {
      "cell_type": "code",
      "source": [
        "M = F.groupby(['cat_id','state_id'])[(F.columns)[6:]].sum()\n",
        "A = M\n",
        "for i in range(9):\n",
        "    z = lowess(M.iloc[i,:].values, range(M.shape[1]))\n",
        "    A.iloc[i,:] = M.iloc[i,:] - z[:,1]\n",
        "G = A/mean_sales\n",
        "A = G.groupby(G.columns.map(lambda x : str(x.weekday())),axis=1).sum()\n",
        "B = G.groupby(G.columns.map(lambda x : x.month),axis=1).sum()\n",
        "def visualize_sale_state_season1(df_tmp,name,color,row,col):\n",
        "  fig.add_trace(go.Scatter(x=df_tmp.index[1:], y = df_tmp.values[1:],name=name,marker=dict(color=color)),row = row, col =col)\n",
        "\n",
        "fig = make_subplots(rows=2, cols=3, column_titles =[\"FOODS\",\"HOBBIES\", \"HOUSEHOLD\"])\n",
        "\n",
        "for i in range (9):\n",
        "  visualize_sale_state_season1 (A.iloc[i,:],\"%s-%s\"%(A.iloc[i,:].name),i%3, 1,i//3+1)\n",
        "  visualize_sale_state_season1 (B.iloc[i,:],\"%s-%s\"%(B.iloc[i,:].name),i%3, 2,i//3+1)\n",
        "fig.show()\n"
      ],
      "metadata": {
        "id": "pqzkNmJN-DBI"
      },
      "execution_count": null,
      "outputs": []
    },
    {
      "cell_type": "markdown",
      "source": [
        "##**Ngày có sự kiện và không có sự kiện**\n"
      ],
      "metadata": {
        "id": "g2shC1wiGg4X"
      }
    },
    {
      "cell_type": "code",
      "source": [
        "Non_events = cale4.date.count() - cale4.event_name_1.count()\n",
        "Events = cale4.event_name_1.count()\n",
        "fig = px.pie(values=[Non_events,Events],names=[\"Non_events\",\"Events\"])\n",
        "fig.show()\n"
      ],
      "metadata": {
        "id": "8OAl6Ys0HtJB"
      },
      "execution_count": null,
      "outputs": []
    },
    {
      "cell_type": "markdown",
      "source": [
        "Số loại sự kiện\n"
      ],
      "metadata": {
        "id": "f33dUrbRJsZv"
      }
    },
    {
      "cell_type": "code",
      "source": [
        "E = cale4.groupby(['event_type_1']).count().iloc[:,1].sort_values(ascending=True)\n",
        "\n",
        "fig = px.bar(E, x=E.index, y=E.values)\n",
        "fig.show()\n"
      ],
      "metadata": {
        "id": "MssCa2jLGyA4"
      },
      "execution_count": null,
      "outputs": []
    },
    {
      "cell_type": "markdown",
      "source": [
        "##**Phân bổ giá sản phẩm của các bộ phận khác nhau theo bang(tobe update)**"
      ],
      "metadata": {
        "id": "8oRzEIaJMXJE"
      }
    },
    {
      "cell_type": "code",
      "source": [
        "A=prices.groupby([prices.store_id.str.slice(0,-2),prices.item_id.str.slice(0,-4)])\n",
        "B = []\n",
        "for name, group in A:\n",
        "    B.append(name)"
      ],
      "metadata": {
        "id": "7aO4heTEMhiu"
      },
      "execution_count": null,
      "outputs": []
    },
    {
      "cell_type": "code",
      "source": [
        "import plotly.figure_factory as ff\n",
        "def get_r_c(b):\n",
        "  c = [\"CA\",\"TX\", \"WI\"].index(b[0])\n",
        "  r = 0\n",
        "  if b[1].startswith(\"FOODS\"):\n",
        "    r = 0\n",
        "    ylabel = \"FOODS\"\n",
        "  elif b[1].startswith(\"HOBBIES\"):\n",
        "    r = 1\n",
        "    ylabel = \"HOBBIES\"\n",
        "  elif b[1].startswith(\"HOUSEHOLD\"):\n",
        "    r = 2\n",
        "    ylabel = \"HOUSEHOLD\"\n",
        "  return r,c, b[0], ylabel\n",
        "\n",
        "fig, ax = plt.subplots(3,3,sharey=True,sharex=True, figsize=(15,7))\n",
        "for b in B:\n",
        "  i,j,xlabel,ylabel = get_r_c(b)\n",
        "  sns.kdeplot(np.log10(A.get_group(b)['sell_price']),bw_adjust=3,legend=False,shade=True,ax=ax[i,j])\n",
        "  ax[i,j].grid(b=True,axis='y')\n",
        "  ax[i,j].set(xlabel = xlabel, ylabel =ylabel)\n",
        "fig.canvas.draw()\n",
        "loc,labels = plt.xticks()\n",
        "for ax in ax.flat:\n",
        "    ax.label_outer()\n",
        "    ax.set_xlim(-1,2)\n",
        "    ax.set_xticklabels([10 ** int(i.get_text().replace(u'\\u2212', '-')) for i in labels])\n",
        "fig.subplots_adjust( hspace = 0.0,wspace=0.1)\n",
        "plt.show()\n"
      ],
      "metadata": {
        "id": "yRDyrUbRNtFY"
      },
      "execution_count": null,
      "outputs": []
    },
    {
      "cell_type": "markdown",
      "source": [
        "##**Phân bổ giá của sản phầm theo phòng ban theo năm** (TOBE Update)"
      ],
      "metadata": {
        "id": "DGfpTL_2U-5w"
      }
    },
    {
      "cell_type": "code",
      "source": [
        "A=prices.groupby([prices.item_id.str.slice(0,-4),prices.wm_yr_wk//100 + 1900])['sell_price']\n",
        "n = []\n",
        "for name,group in A:\n",
        "    n.append(name)"
      ],
      "metadata": {
        "id": "uWieL1BXVvo-"
      },
      "execution_count": null,
      "outputs": []
    },
    {
      "cell_type": "code",
      "source": [
        "fig, ax = plt.subplots(6,3,sharey=True,sharex=True, figsize=(10,7))\n",
        "\n",
        "for i in n:\n",
        "    j = 0 if i[0][:-2]=='FOODS' else (1 if i[0][:-2]=='HOBBIES' else 2)\n",
        "    k = i[1] - 2011\n",
        "    sns.kdeplot(np.log10(A.get_group(i)),legend=False,shade=True,bw_adjust=3,ax=ax[k,j])\n",
        "    ax[k,j].set(xlabel = i[0][:-2], ylabel =k+2011)\n",
        "\n",
        "fig.canvas.draw()\n",
        "loc,labels = plt.xticks()\n",
        "for ax in ax.flat:\n",
        "    ax.label_outer()\n",
        "    ax.set_xlim(-1,2)\n",
        "    ax.set_xticklabels([10 ** int(i.get_text().replace(u'\\u2212', '-')) for i in labels])\n",
        "plt.yticks([], [])\n",
        "fig.subplots_adjust( hspace = 0.0,wspace=0.2)\n",
        "plt.show()"
      ],
      "metadata": {
        "id": "owmN0kNNVQ9B"
      },
      "execution_count": null,
      "outputs": []
    },
    {
      "cell_type": "markdown",
      "source": [
        "##**Doanh số theo doanh mục trong những ngày có sự kiện và không có sự kiện**"
      ],
      "metadata": {
        "id": "2WFbV872zST7"
      }
    },
    {
      "cell_type": "code",
      "source": [
        "\n",
        "\n",
        "c = [datetime.date(2011, 12, 25),datetime.date(2012, 12, 25), datetime.date(2013, 12, 25),datetime.date(2014, 12, 25),datetime.date(2015, 12, 25)]\n",
        "F = sale2.drop(labels=c,axis=1)\n",
        "event_dates = cale4[pd.notnull(cale4['event_name_1'])]['date'] \n",
        "event_dates = [datetime.datetime.strptime(i, '%Y-%m-%d').date() for i in event_dates.values]\n",
        "\n",
        "for i in c:\n",
        "    event_dates.remove(i)\n",
        "event_sales = F[['id','dept_id','cat_id', 'store_id', 'state_id']+event_dates[:-8]]\n",
        "nevent_sales = F[F.drop(columns=event_dates[:-8]).columns]\n",
        "\n"
      ],
      "metadata": {
        "id": "9eqHwo6vzcI7"
      },
      "execution_count": null,
      "outputs": []
    },
    {
      "cell_type": "code",
      "source": [
        "N3 = []\n",
        "L1 = []\n",
        "L2 = []\n",
        "L3 = []\n",
        "means = []\n",
        "e = event_sales.groupby(['cat_id']).sum()\n",
        "ne = nevent_sales.groupby(['cat_id']).sum()\n",
        "t = F.groupby(['cat_id']).sum()\n",
        "means = t.mean(axis=1)\n",
        "for i in range(3):\n",
        "    n1 = lowess(e.iloc[i,:].values, range(e.shape[1]),frac=0.4)\n",
        "    n2 = lowess(ne.iloc[i,:].values, range(ne.shape[1]),frac=0.4)\n",
        "    n3 = lowess(t.iloc[i,:].values, range(t.shape[1]),frac=0.4)\n",
        "    L1.append(n1[:,1])\n",
        "    L2.append(n2[:,1])\n",
        "    L3.append(n3[:,1])\n",
        "    n3 = (t.iloc[i,:] - n3[:,1]) /(means[i])\n",
        "    N3.append(n3)\n",
        "N3 = pd.DataFrame(N3,columns = t.columns)\n",
        "L1 = pd.DataFrame(L1,columns = e.columns)\n",
        "L2 = pd.DataFrame(L2,columns = ne.columns)\n",
        "L3 = pd.DataFrame(L3,columns = t.columns)"
      ],
      "metadata": {
        "id": "Kd70Ilh3zjAA"
      },
      "execution_count": null,
      "outputs": []
    },
    {
      "cell_type": "code",
      "source": [
        "\n",
        "fig = make_subplots(rows=1, cols=3,column_titles =[\"FOODS\",\"HOBBIES\", \"HOUSEHOLD\"])\n",
        "for j in range (3):\n",
        "\n",
        "  ne_tmp = ne.iloc[j,:] \n",
        "  fig.add_trace(go.Scatter(x=ne_tmp.index, y = ne_tmp.values,name=\"non-event\", marker=dict(color='gainsboro')),row = 1, col =j+1)\n",
        "  e_tmp = e.iloc[j,:]\n",
        "  fig.add_trace(go.Scatter(x=e_tmp.index, y = e_tmp.values,name=\"event\", marker=dict(color='lightcoral')),row = 1, col =j+1)\n",
        "  L3_tmp = L3.iloc[j,:]\n",
        "  fig.add_trace(go.Scatter(x=L3_tmp.index, y = L3_tmp.values,name=\"l-gen\", marker=dict(color='black'), line= dict(dash = \"dash\",width=3)),row = 1, col =j+1)\n",
        "  L1_tmp = L1.iloc[j,:]\n",
        "  fig.add_trace(go.Scatter(x=L1_tmp.index, y = L1_tmp.values,name=\"l-event\", marker=dict(color='red'), line= dict(width=3)),row = 1, col =j+1)\n",
        "  L2_tmp = L2.iloc[j,:]\n",
        "  fig.add_trace(go.Scatter(x=L2_tmp.index, y = L2_tmp.values,name=\"l-non-event\", marker=dict(color='darkgray'), line= dict(width=3)),row = 1, col =j+1)\n",
        "  \n",
        "fig.show()"
      ],
      "metadata": {
        "id": "ib8XFE_pz0KJ"
      },
      "execution_count": null,
      "outputs": []
    },
    {
      "cell_type": "code",
      "source": [
        "N1 = N3[event_dates[:-8]].T.assign(Event='True')\n",
        "N2 = N3[N3.drop(columns=event_dates[:-8]).columns].T.assign(Event='False')\n",
        "cdf = pd.concat([N1,N2])\n",
        "mdf = pd.melt(cdf, id_vars=['Event'], var_name=['Letter'])"
      ],
      "metadata": {
        "id": "Pj2stJ3a4YFt"
      },
      "execution_count": null,
      "outputs": []
    },
    {
      "cell_type": "code",
      "source": [
        "fig = px.box(mdf, x=\"value\", y=\"Letter\",color=\"Event\")\n",
        "fig.show()"
      ],
      "metadata": {
        "id": "eLC2d5zs4oOd"
      },
      "execution_count": null,
      "outputs": []
    },
    {
      "cell_type": "code",
      "source": [
        "N3 = []\n",
        "means = []\n",
        "t = F.groupby(['cat_id']).sum()\n",
        "means = t.mean(axis=1)\n",
        "for i in range(3):\n",
        "    n3 = lowess(t.iloc[i,:].values, range(t.shape[1]),frac=0.5)\n",
        "    n3 = (t.iloc[i,:] - n3[:,1]) /(means[i])\n",
        "    N3.append(n3)\n",
        "N3 = pd.DataFrame(N3,columns = t.columns)\n",
        "\n",
        "c = [datetime.date(2011, 12, 25),datetime.date(2012, 12, 25), datetime.date(2013, 12, 25),datetime.date(2014, 12, 25),datetime.date(2015, 12, 25)]\n",
        "F = sale2.drop(labels=c,axis=1)\n",
        "event_dates = cale4[pd.notnull(cale4['event_name_1'])][['date','event_type_1']] \n",
        "event_dates['date'] = [datetime.datetime.strptime(i, '%Y-%m-%d').date() for i in event_dates['date']]\n",
        "\n",
        "for i in c:\n",
        "    event_dates = event_dates[event_dates['date'] != i]\n",
        "\n",
        "\n",
        "s = N3.T\n",
        "s.reset_index(drop=False, inplace=True)\n",
        "s.rename(columns = {'index':'date'},inplace=True)\n",
        "s = pd.merge(left=event_dates, right=s, how='left', left_on='date', right_on='date')\n",
        "\n",
        "s = s.groupby(['event_type_1']).median()\n",
        "s.reset_index(drop=False, inplace=True)\n",
        "s = s.melt(id_vars=['event_type_1'], value_vars=s.columns[1:])"
      ],
      "metadata": {
        "id": "5GCgvl7z47mJ"
      },
      "execution_count": null,
      "outputs": []
    },
    {
      "cell_type": "code",
      "source": [
        "fig = px.histogram(x=s.value,y=s.variable, color=s.event_type_1,barmode='group')\n",
        "fig.show()"
      ],
      "metadata": {
        "id": "HwQpjaF05sz1"
      },
      "execution_count": null,
      "outputs": []
    },
    {
      "cell_type": "markdown",
      "source": [
        "##**Doanh số theo bang vào ngày SNAP & không SNAP**"
      ],
      "metadata": {
        "id": "ZUjnzsQj6sF1"
      }
    },
    {
      "cell_type": "code",
      "source": [
        "\n",
        "\n",
        "c = [datetime.date(2011, 12, 25),datetime.date(2012, 12, 25), datetime.date(2013, 12, 25),datetime.date(2014, 12, 25),datetime.date(2015, 12, 25)]\n",
        "F = sale2.drop(labels=c,axis=1)\n",
        "F = F.groupby(['state_id']).sum()\n",
        "CA_snap = cale4.date[cale4.snap_CA == 1].values\n",
        "TX_snap = cale4.date[cale4.snap_TX == 1].values\n",
        "WI_snap = cale4.date[cale4.snap_WI == 1].values\n",
        "CA_snap = [datetime.datetime.strptime(i, '%Y-%m-%d').date() for i in CA_snap]\n",
        "TX_snap = [datetime.datetime.strptime(i, '%Y-%m-%d').date() for i in TX_snap]\n",
        "WI_snap = [datetime.datetime.strptime(i, '%Y-%m-%d').date() for i in WI_snap]\n",
        "\n",
        "CA_snap_sales = F[CA_snap[:-20]].iloc[0,:]\n",
        "TX_snap_sales = F[TX_snap[:-20]].iloc[1,:]\n",
        "WI_snap_sales = F[WI_snap[:-20]].iloc[2,:]\n",
        "\n",
        "CA_nsnap_sales = F[F.drop(columns=CA_snap[:-20]).columns].iloc[0,:]\n",
        "TX_nsnap_sales = F[F.drop(columns=TX_snap[:-20]).columns].iloc[1,:]\n",
        "WI_nsnap_sales = F[F.drop(columns=WI_snap[:-20]).columns].iloc[2,:]\n",
        "\n"
      ],
      "metadata": {
        "id": "8uS6o8hP60Vn"
      },
      "execution_count": null,
      "outputs": []
    },
    {
      "cell_type": "code",
      "source": [
        "N3 = []\n",
        "L1 = []\n",
        "L2 = []\n",
        "L3 = []\n",
        "means = []\n",
        "e = [CA_snap_sales,TX_snap_sales,WI_snap_sales]\n",
        "ne = [CA_nsnap_sales,TX_nsnap_sales,WI_nsnap_sales]\n",
        "t = F\n",
        "means = t.mean(axis=1)\n",
        "for i in range(3):\n",
        "    n1 = lowess(e[i].values, range(len(e[i])),frac=0.5)\n",
        "    n2 = lowess(ne[i].values, range(len(ne[i])),frac=0.5)\n",
        "    nn3 = lowess(t.iloc[i,:].values, range(t.shape[1]),frac=0.5)\n",
        "    n1 = pd.Series(n1[:,1],e[i].index)\n",
        "    n2 = pd.Series(n2[:,1],ne[i].index)\n",
        "    n3 = pd.Series(nn3[:,1],t.columns)\n",
        "    L1.append(n1)\n",
        "    L2.append(n2)\n",
        "    L3.append(n3)\n",
        "    n3 = (t.iloc[i,:] - nn3[:,1]) /(means[i])\n",
        "    N3.append(n3)\n",
        "N3 = pd.DataFrame(N3,columns = t.columns)"
      ],
      "metadata": {
        "id": "Ilk-0yWJ65zH"
      },
      "execution_count": null,
      "outputs": []
    },
    {
      "cell_type": "code",
      "source": [
        "fig = make_subplots(rows=1, cols=3,column_titles =[\"CA\",\"TX\", \"WI\"])\n",
        "for j in range (3):\n",
        "\n",
        "  ne_tmp = ne[j] \n",
        "  fig.add_trace(go.Scatter(x=ne_tmp.index, y = ne_tmp.values,name=\"non-event\", marker=dict(color='gainsboro')),row = 1, col =j+1)\n",
        "  e_tmp = e[j]\n",
        "  fig.add_trace(go.Scatter(x=e_tmp.index, y = e_tmp.values,name=\"event\", marker=dict(color='lightcoral')),row = 1, col =j+1)\n",
        "  L3_tmp = L3[j]\n",
        "  fig.add_trace(go.Scatter(x=L3_tmp.index, y = L3_tmp.values,name=\"l-gen\", marker=dict(color='black'), line= dict(dash = \"dash\",width=3)),row = 1, col =j+1)\n",
        "  L1_tmp = L1[j]\n",
        "  fig.add_trace(go.Scatter(x=L1_tmp.index, y = L1_tmp.values,name=\"l-event\", marker=dict(color='red'), line= dict(width=3)),row = 1, col =j+1)\n",
        "  L2_tmp = L2[j]\n",
        "  fig.add_trace(go.Scatter(x=L2_tmp.index, y = L2_tmp.values,name=\"l-non-event\", marker=dict(color='darkgray'), line= dict(width=3)),row = 1, col =j+1)\n",
        "  \n",
        "fig.show()"
      ],
      "metadata": {
        "id": "IU2hbfPl7AeH"
      },
      "execution_count": null,
      "outputs": []
    },
    {
      "cell_type": "markdown",
      "source": [
        "##**Phần trăm doanh số theo ngày SNAP và không SNAP**"
      ],
      "metadata": {
        "id": "KS1XQ4qG7adG"
      }
    },
    {
      "cell_type": "code",
      "source": [
        "perc = []\n",
        "for i in range(3):\n",
        "    a = e[i].sum()/(1908/3)\n",
        "    b = ne[i].sum()/(2*1908/3)\n",
        "    perc.append([a*100/(a+b), b*100/(a+b)])\n",
        "\n",
        "perc = pd.DataFrame(perc,index=[\"CA\",\"TX\",\"WI\"],columns=[\"SNAP\",\"NON_SNAP\"])\n",
        "perc.reset_index(drop=False, inplace=True)\n",
        "s = perc.melt(id_vars=['index'], value_vars=perc.columns[1:])\n",
        "s = s.sort_values(by='index',ignore_index=True)"
      ],
      "metadata": {
        "id": "RKQze3oF7Zp1"
      },
      "execution_count": null,
      "outputs": []
    },
    {
      "cell_type": "code",
      "source": [
        "fig = px.histogram(x=s['index'],y=s.value, color=s.variable,barmode='group', text_auto='.2f')\n",
        "fig.show()"
      ],
      "metadata": {
        "id": "c4Wi6Q6F7yZ4"
      },
      "execution_count": null,
      "outputs": []
    },
    {
      "cell_type": "markdown",
      "source": [
        "##**Phần trăm doanh số theo ngày SNAP & không SNAP theo danh mục**"
      ],
      "metadata": {
        "id": "TRaiOUkF9OAM"
      }
    },
    {
      "cell_type": "code",
      "source": [
        "F  = sale2.groupby(['state_id','cat_id']).sum()\n",
        "F.reset_index(drop=False, inplace=True)\n",
        "l = [CA_snap[:-20],TX_snap[:-20],WI_snap[:-20]]\n",
        "\n",
        "t = []\n",
        "for i in range(9):\n",
        "    t.append((F['state_id'][i],F['cat_id'][i]))\n",
        "    \n",
        "a=[]\n",
        "b = []\n",
        "perc = []\n",
        "for i in range(9):\n",
        "    a.append(F[l[i//3]].loc[i,:].sum()/(1908/3))\n",
        "    b.append(F[F.drop(columns=l[i//3]).columns].iloc[i,3:].sum()/(2*1908/3))\n",
        "    perc.append([a[i]*100/(a[i]+b[i]), b[i]*100/(a[i]+b[i])])\n",
        "perc = pd.DataFrame(perc,index=t,columns=[\"SNAP\",\"NON_SNAP\"])\n",
        "perc.reset_index(drop=False, inplace=True)\n",
        "s = perc.melt(id_vars=['index'], value_vars=perc.columns[1:])\n",
        "s = s.sort_values(by='index',ignore_index=True)"
      ],
      "metadata": {
        "id": "-s5Fli1D9XM8"
      },
      "execution_count": null,
      "outputs": []
    },
    {
      "cell_type": "code",
      "source": [
        "s['index']\n",
        "fig = px.histogram(x=s['index'].map(str),y=s.value, color=s.variable,barmode='group', text_auto='.2f')\n",
        "fig.show()\n",
        "\n",
        "# fig.show()"
      ],
      "metadata": {
        "id": "96i-5AC19f4r"
      },
      "execution_count": null,
      "outputs": []
    },
    {
      "cell_type": "markdown",
      "source": [
        "##**Tác động của ngày SNAP đến doanh số doanh mục thức ăn của CA**"
      ],
      "metadata": {
        "id": "U5hB7ZjiAQ6N"
      }
    },
    {
      "cell_type": "code",
      "source": [
        "z = F.drop(labels=c,axis=1).iloc[0,2:]\n",
        "n1 = lowess(z.values, range(1908),frac=0.5)\n",
        "rel_sales = (z.values - n1[:,1]) / z.mean()\n",
        "rel_sales = pd.Series(rel_sales,z.index)\n",
        "\n",
        "rel_sales1 = rel_sales[CA_snap[:-20]]\n",
        "rel_sales2 = rel_sales.drop(labels = CA_snap[:-20])\n",
        "\n",
        "a = rel_sales1.groupby(rel_sales1.index.map(lambda x : str(x.weekday())+'-'+str(x.month))).sum()\n",
        "b = rel_sales2.groupby(rel_sales2.index.map(lambda x : str(x.weekday())+'-'+str(x.month))).sum()\n",
        "\n",
        "H = np.zeros((7,12))\n",
        "for i in range(7):\n",
        "    for j in range(12):\n",
        "        H[i,j] = a[str(i)+'-'+str(j+1)] - b[str(i)+'-'+str(j+1)]"
      ],
      "metadata": {
        "id": "ZAxcQtQdAeB3"
      },
      "execution_count": null,
      "outputs": []
    },
    {
      "cell_type": "code",
      "source": [
        "fig = px.imshow(H, x=['Jan', 'Feb', 'Mar', 'Apr', 'May', 'Jun', 'Jul', 'Aug', 'Sep', 'Oct', 'Nov', 'Dec'],\n",
        "                y=['Monday', 'Tuesday', 'Wednesday', 'Thursday', 'Friday','Saturday','Sunday'])\n",
        "fig.show()"
      ],
      "metadata": {
        "id": "YdXZRlnNAsM7"
      },
      "execution_count": null,
      "outputs": []
    },
    {
      "cell_type": "markdown",
      "source": [
        "##**Doanh số Ba mặt hàng ngẫu nhiên giữa năm 2015 với điểm Màu đen là Sự kiện và Nền màu xám là ngày SNAP**"
      ],
      "metadata": {
        "id": "aVLLFnsgBHVe"
      }
    },
    {
      "cell_type": "code",
      "source": [
        "x = sale2[sale2['id'].isin([\"FOODS_2_092_CA_1_validation\", \"HOUSEHOLD_2_071_TX_2_validation\", \"HOBBIES_1_348_WI_3_validation\"])].loc[:,datetime.date(2015,5,1):datetime.date(2015,10,1)]"
      ],
      "metadata": {
        "id": "_Ddl6KJmBYA_"
      },
      "execution_count": null,
      "outputs": []
    },
    {
      "cell_type": "code",
      "source": [
        "v = event_dates[event_dates['date'].isin([datetime.date(2015,5,1) + datetime.timedelta(days=x) for x in range(153)])]['date']\n",
        "d = []\n",
        "for i in range(len(v)):\n",
        "    d.append(x.columns.get_loc(v.values[i]))   \n",
        "c = list(set(CA_snap) & set([datetime.date(2015,5,1) + datetime.timedelta(days=x) for x in range(153)]))\n",
        "e = []\n",
        "for i in range(len(c)):\n",
        "    e.append(x.columns.get_loc(c[i]))\n"
      ],
      "metadata": {
        "id": "LBNkaxiVBbdA"
      },
      "execution_count": null,
      "outputs": []
    },
    {
      "cell_type": "code",
      "source": [
        "    \n",
        "plt.figure(None, figsize=(15, 3), dpi=80, facecolor='w', edgecolor='k')\n",
        "for i in range(len(c)):\n",
        "    plt.axvline(c[i],color='gainsboro',linewidth=5.5)\n",
        "plt.plot(x.iloc[0,:], '-gd', markevery = d,markerfacecolor='black',marker='.',markersize=10)\n",
        "plt.show()"
      ],
      "metadata": {
        "id": "4n0yvv4rBfJw"
      },
      "execution_count": null,
      "outputs": []
    }
  ]
}