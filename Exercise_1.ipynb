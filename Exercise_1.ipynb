{
  "nbformat": 4,
  "nbformat_minor": 0,
  "metadata": {
    "colab": {
      "provenance": [],
      "collapsed_sections": [],
      "toc_visible": true,
      "authorship_tag": "ABX9TyOwzZ6R97nOODWUjjRt8zOP",
      "include_colab_link": true
    },
    "kernelspec": {
      "name": "python3",
      "display_name": "Python 3"
    },
    "language_info": {
      "name": "python"
    }
  },
  "cells": [
    {
      "cell_type": "markdown",
      "metadata": {
        "id": "view-in-github",
        "colab_type": "text"
      },
      "source": [
        "<a href=\"https://colab.research.google.com/github/xuanmse/python-for-engineer/blob/master/Exercise_1.ipynb\" target=\"_parent\"><img src=\"https://colab.research.google.com/assets/colab-badge.svg\" alt=\"Open In Colab\"/></a>"
      ]
    },
    {
      "cell_type": "markdown",
      "source": [
        "| Thông tin   |               |\n",
        "| ----------- | -----------   |\n",
        "| MSSV        | 22mse23076    |\n",
        "| Họ Và Tên   | KIEU VAN XUAN |"
      ],
      "metadata": {
        "id": "QvocaRRpypc_"
      }
    },
    {
      "cell_type": "markdown",
      "source": [
        "#**Hướng dẫn toàn diện để tìm hiểu về EDA + Phân tích chuỗi thời gian + Dự báo theo chuỗi thời gian SAMIMAX & Prophet**"
      ],
      "metadata": {
        "id": "5UYq8YIHhODE"
      }
    },
    {
      "cell_type": "markdown",
      "source": [
        "#**Giới Thiệu:**"
      ],
      "metadata": {
        "id": "5ZTjgZmZzth6"
      }
    },
    {
      "cell_type": "markdown",
      "source": [
        "Cuộc thi này được đặt tên là M5-Forecasting, người tham gia cuộc thi này sẽ sử dụng dữ liệu bán hàng đã được phân loại và trích xuất từ công ty Walmart lớn nhất thế giới về doang thu để phân tích và dự đoán doanh số hàng ngày trong 28 ngày tiếp theo. \n",
        "\n",
        "Dữ liệu bán hàng chứa thông tin của 30,000 mặt hàng khác nhau được thu thập trong 1900 ngày. Dữ liệu đã được chia theo ba bang của Mỹ (California, Texas, and Wisconsin) bao gồm các thông tin: cấp độ, bộ phận, danh mục sản phẩm, chi tiết cấp độ cửa hàng. Ngoài ra, dữ liệu còn chứa các thông tin về giá, chương trình khuyến mãi, ngày trong tuần, các sự kiện đặc biệt. \n",
        "\n",
        "Tập dữ liệu mạnh mẽ này không chỉ giúp cải thiện dự báo chính xác mà còn giúp khám phá ra các mô hình bán hàng quan sát được thông qua các địa phương khác nhau, danh mục sản phẩm khác nhau để cung cấp các thông tin chi tiết giá trị về kinh doanh.\n",
        "\n"
      ],
      "metadata": {
        "id": "vjUPwcwwz1hB"
      }
    },
    {
      "cell_type": "markdown",
      "source": [
        "#**Đặt vấn đề**"
      ],
      "metadata": {
        "id": "awF-U0F3-Qhp"
      }
    },
    {
      "cell_type": "markdown",
      "source": [
        "Một tập dữ liệu lớn sẽ rất khó khăn trong việc tìm kiếm tất cả các mẫu cơ bản. Bằng việc sử dụng một số câu hỏi có tính chất SMART (từ tiếng anh viết tắt của specific, measureable, attainable, relevant and time-bound: cụ thể, đo lường được, có thể đạt được, có liên quan và giới hạn thời gian) rất hữu ích trong việc hiểu các mô hình. Nếu không tiếp cận một cách chính xác các thông tin có có ích có thể bị ẩn đi toàn bộ ngay từ lần tiên tiếp cận."
      ],
      "metadata": {
        "id": "oP3JnZjT-Ycw"
      }
    },
    {
      "cell_type": "markdown",
      "source": [
        "Bài toán cụ thể trong M5-Forecasting sẽ quan tâm đến việc tìm ra:\n",
        "\n",
        "\n",
        "*   Sự phân phối tổng quan của sales_items (ids) thông qua danh mục như thế nào?\n",
        "*   Hành vi của các danh mục thông qua các cửa hàng khác nhau như thế nào?\n",
        "*   Id của mặt hàng đang bán chạy nhất?\n",
        "*   Id cụ thể của các mặt hàng trong mỗi danh mục bán chạy nhất?\n",
        "*   Doanh thu bán hàng thu được nhiều nhất là bao nhiêu? Có phải mặt hàng bán chạy nhất mang lại nhiều doanh thu nhất không hay có sự thay đổi theo xu hướng đó không?\n",
        "*Hành vi của tổng doanh số bán hàng (hoặc doanh số trung bình) theo thời gian như thế nào\n",
        "* hành vi bán các item_ids trong các ngày khác nhau trong tuần như thế nào? có bất kỳ ngày nào trong tháng có nhiều doanh thu nhất không? Xu thế như thế nào ở các cửa hàng khác nhau?\n",
        "\n",
        "\n",
        "\n",
        "\n"
      ],
      "metadata": {
        "id": "h6MEafDgBJjm"
      }
    },
    {
      "cell_type": "markdown",
      "source": [
        "Và cuối cùng sử dụng mô hình SARIMAX và Prophet (phát triển bỡi Facebook) để dự báo doanh số bán hàng trong 28 ngày tiếp theo."
      ],
      "metadata": {
        "id": "bHmgckmzDWk5"
      }
    },
    {
      "cell_type": "markdown",
      "source": [
        "\n",
        "#**Phương pháp đánh giá**"
      ],
      "metadata": {
        "id": "c-KBARCuEV0u"
      }
    },
    {
      "cell_type": "markdown",
      "source": [
        "Dự án này sử dụng khá nhiều phương pháp đánh giá lỗi để tối ưu hóa và tinh chỉnh mô hình hoặc để tìm độ chính xác cho mô hình dự báo theo chuỗi thời gian như sau:\n",
        "\n",
        "\n",
        "\n",
        "1.   RMSE (Root Mean Square Error): Sử dụng để đánh giá dự báo bán hàng được tạo ra từ mô hình SARIMAX. Việc sử dụng chuổi thời gian, lấy số lượng bán hàng trung bình trong 1900 ngày bỏ qua việc sắp xếp id sản phẩm phân cấp kể cả các thứ tự khác. Việc lấy trung bình lượng bán hàng sẽ không ảnh hưởng đến phương pháp đánh giá RMSE do đó sẽ giúp tận dụng được vị trí trống của Id sản phẩm và số ngày.\n",
        "2.   Custom Loss (WMAPE): Phương pháp này được sử dụng để đánh giá và tìm ra bộ tham số/hệ số tối ưu cho mô hình học Prophet của Facebook. Phương pháp này được sử dụng cho những trường hợp mà mức độ ưu tiên của Id sản phẩm và số lượng bán hàng được xem xét. Các hệ số / tham số được tạo ra bằng cách chia sự khác nhau của trung bình giá trị dự báo và giá trị thực tế.\n",
        "3. WRMSSE (Weighted Root Mean Square Scaled Error): Để đánh giá mô hình đã được thiết kế, Điểm WRMSSE được tính khi dữ liệu dự đoán sẵn sàn (dự đoán tổng cộng 30,000 id sản phẩm). Điểm WRMSSE được tính toán yêu cầu dự trên toàn bộ Id sản phẩm và sự khác biệt giữa giá trị trong tập xác thực như sales_train_validation.csv  và dữ liệu dự báo đã được tính toán. Phương pháp đánh giá WRMSSE được cung cấp số liệu đã được tối ưu cho cuộc thi trong file sales_train_validation.csv. Để có thêm thông tin vui lòng truy cập: https://mofc.unic.ac.cy/m5-competition/\n",
        "\n",
        "\n"
      ],
      "metadata": {
        "id": "6khkIVHjEt1e"
      }
    },
    {
      "cell_type": "markdown",
      "source": [
        "#**Khởi tạo**"
      ],
      "metadata": {
        "id": "WjIy-iqKCpHV"
      }
    },
    {
      "cell_type": "markdown",
      "source": [
        "###**Tải dữ liệu data đầu vào**"
      ],
      "metadata": {
        "id": "7iOAwc0tUUnc"
      }
    },
    {
      "cell_type": "code",
      "source": [
        "!pip install kaggle"
      ],
      "metadata": {
        "colab": {
          "base_uri": "https://localhost:8080/"
        },
        "id": "vl0XRSigCVZi",
        "outputId": "b6526afb-f641-4a58-d845-7b119c415fe8"
      },
      "execution_count": 1,
      "outputs": [
        {
          "output_type": "stream",
          "name": "stdout",
          "text": [
            "Looking in indexes: https://pypi.org/simple, https://us-python.pkg.dev/colab-wheels/public/simple/\n",
            "Requirement already satisfied: kaggle in /usr/local/lib/python3.7/dist-packages (1.5.12)\n",
            "Requirement already satisfied: python-dateutil in /usr/local/lib/python3.7/dist-packages (from kaggle) (2.8.2)\n",
            "Requirement already satisfied: python-slugify in /usr/local/lib/python3.7/dist-packages (from kaggle) (6.1.2)\n",
            "Requirement already satisfied: certifi in /usr/local/lib/python3.7/dist-packages (from kaggle) (2022.9.24)\n",
            "Requirement already satisfied: requests in /usr/local/lib/python3.7/dist-packages (from kaggle) (2.23.0)\n",
            "Requirement already satisfied: six>=1.10 in /usr/local/lib/python3.7/dist-packages (from kaggle) (1.15.0)\n",
            "Requirement already satisfied: urllib3 in /usr/local/lib/python3.7/dist-packages (from kaggle) (1.24.3)\n",
            "Requirement already satisfied: tqdm in /usr/local/lib/python3.7/dist-packages (from kaggle) (4.64.1)\n",
            "Requirement already satisfied: text-unidecode>=1.3 in /usr/local/lib/python3.7/dist-packages (from python-slugify->kaggle) (1.3)\n",
            "Requirement already satisfied: chardet<4,>=3.0.2 in /usr/local/lib/python3.7/dist-packages (from requests->kaggle) (3.0.4)\n",
            "Requirement already satisfied: idna<3,>=2.5 in /usr/local/lib/python3.7/dist-packages (from requests->kaggle) (2.10)\n"
          ]
        }
      ]
    },
    {
      "cell_type": "code",
      "source": [
        "! yes | mkdir /root/.kaggle\n",
        "! yes | wget https://raw.githubusercontent.com/xuanmse/python-for-engineer/master/kaggle.json -P /root/.kaggle/\n",
        "! chmod 600 /root/.kaggle/kaggle.json"
      ],
      "metadata": {
        "colab": {
          "base_uri": "https://localhost:8080/"
        },
        "id": "MlRLrOTJGJRm",
        "outputId": "55fb1922-13bd-49ff-f65d-07be1a3d0da0"
      },
      "execution_count": 2,
      "outputs": [
        {
          "output_type": "stream",
          "name": "stdout",
          "text": [
            "--2022-11-01 16:07:25--  https://raw.githubusercontent.com/xuanmse/python-for-engineer/master/kaggle.json\n",
            "Resolving raw.githubusercontent.com (raw.githubusercontent.com)... 185.199.108.133, 185.199.109.133, 185.199.110.133, ...\n",
            "Connecting to raw.githubusercontent.com (raw.githubusercontent.com)|185.199.108.133|:443... connected.\n",
            "HTTP request sent, awaiting response... 200 OK\n",
            "Length: 68 [text/plain]\n",
            "Saving to: ‘/root/.kaggle/kaggle.json’\n",
            "\n",
            "kaggle.json         100%[===================>]      68  --.-KB/s    in 0s      \n",
            "\n",
            "2022-11-01 16:07:25 (1.06 MB/s) - ‘/root/.kaggle/kaggle.json’ saved [68/68]\n",
            "\n"
          ]
        }
      ]
    },
    {
      "cell_type": "code",
      "source": [
        "!yes | kaggle competitions download -c m5-forecasting-accuracy -p /kaggle/input/\n",
        "!yes | unzip /kaggle/input/m5-forecasting-accuracy.zip -d /kaggle/input/m5-forecasting-accuracy"
      ],
      "metadata": {
        "colab": {
          "base_uri": "https://localhost:8080/"
        },
        "id": "yconFu5gFwUs",
        "outputId": "351119a6-4ae8-4c14-d177-0ed514f75ac0"
      },
      "execution_count": 3,
      "outputs": [
        {
          "output_type": "stream",
          "name": "stdout",
          "text": [
            "Downloading m5-forecasting-accuracy.zip to /kaggle/input\n",
            " 76% 35.0M/45.8M [00:00<00:00, 126MB/s]\n",
            "100% 45.8M/45.8M [00:00<00:00, 121MB/s]\n",
            "Archive:  /kaggle/input/m5-forecasting-accuracy.zip\n",
            "  inflating: /kaggle/input/m5-forecasting-accuracy/calendar.csv  \n",
            "  inflating: /kaggle/input/m5-forecasting-accuracy/sales_train_evaluation.csv  \n",
            "  inflating: /kaggle/input/m5-forecasting-accuracy/sales_train_validation.csv  \n",
            "  inflating: /kaggle/input/m5-forecasting-accuracy/sample_submission.csv  \n",
            "  inflating: /kaggle/input/m5-forecasting-accuracy/sell_prices.csv  \n"
          ]
        }
      ]
    },
    {
      "cell_type": "markdown",
      "source": [
        "###**Các thư viện cần thiết**"
      ],
      "metadata": {
        "id": "PvAUlQszNuOq"
      }
    },
    {
      "cell_type": "code",
      "source": [
        "# This Python 3 environment comes with many helpful analytics libraries installed\n",
        "# It is defined by the kaggle/python docker image: https://github.com/kaggle/docker-python\n",
        "# For example, here's several helpful packages to load in \n",
        "\n",
        "import numpy as np # linear algebra\n",
        "import pandas as pd # data processing, CSV file I/O (e.g. pd.read_csv)\n",
        "import matplotlib.pyplot as plt\n",
        "\n",
        "import time\n",
        "import math\n",
        "import datetime\n",
        "\n",
        "\n",
        "# Import widgets\n",
        "from ipywidgets import widgets, interactive, interact\n",
        "import ipywidgets as widgets\n",
        "from IPython.display import display\n",
        "\n",
        "from math import log, floor\n",
        "from sklearn.neighbors import KDTree\n",
        "\n",
        "import seaborn as sns\n",
        "sns.set_style('whitegrid')\n",
        "\n",
        "import plotly.express as px\n",
        "import plotly.graph_objects as go\n",
        "import plotly.figure_factory as ff\n",
        "from plotly.subplots import make_subplots\n",
        "\n",
        "import pywt\n",
        "from statsmodels.robust import mad\n",
        "\n",
        "import scipy\n",
        "import statsmodels\n",
        "from scipy import signal\n",
        "\n",
        "from statsmodels.tsa.arima_model import ARIMA\n",
        "from statsmodels.tsa.statespace.sarimax import SARIMAX\n",
        "from statsmodels.tsa.api import ExponentialSmoothing, SimpleExpSmoothing, Holt\n",
        "from statsmodels.tsa.stattools import adfuller\n",
        "\n",
        "import itertools\n",
        "from itertools import cycle\n",
        "plt.style.use('seaborn')\n",
        "color_cycle = cycle(plt.rcParams['axes.prop_cycle'].by_key()['color'])\n",
        "\n",
        "# Input data files are available in the \"../input/\" directory.\n",
        "# For example, running this (by clicking run or pressing Shift+Enter) will list all files under the input directory\n",
        "\n",
        "import os\n",
        "for dirname, _, filenames in os.walk('/kaggle/'):\n",
        "    for filename in filenames:\n",
        "        print(os.path.join(dirname, filename))\n",
        "\n",
        "# Any results you write to the current directory are saved as output."
      ],
      "metadata": {
        "id": "aVjdP_UTOBZT",
        "colab": {
          "base_uri": "https://localhost:8080/"
        },
        "outputId": "37bca970-6166-433f-855b-53a65fb3d01a"
      },
      "execution_count": 4,
      "outputs": [
        {
          "output_type": "stream",
          "name": "stdout",
          "text": [
            "/kaggle/input/m5-forecasting-accuracy.zip\n",
            "/kaggle/input/m5-forecasting-accuracy/sample_submission.csv\n",
            "/kaggle/input/m5-forecasting-accuracy/sales_train_evaluation.csv\n",
            "/kaggle/input/m5-forecasting-accuracy/sales_train_validation.csv\n",
            "/kaggle/input/m5-forecasting-accuracy/sell_prices.csv\n",
            "/kaggle/input/m5-forecasting-accuracy/calendar.csv\n"
          ]
        }
      ]
    },
    {
      "cell_type": "markdown",
      "source": [
        "###**Thông tin của dữ liệu**"
      ],
      "metadata": {
        "id": "-nukUXU7UkNt"
      }
    },
    {
      "cell_type": "markdown",
      "source": [
        "Thông tin của tập dữ liệu:\n",
        "\n",
        "\n",
        "*   *calendar.csv*: Chứa thông tin về ngày bán và các thông tin khác về ngày nghỉ, và ngày dịp đặc biệt của sản phẩm được bán.\n",
        "*   *train_sales_df.csv*: Chứa thông tin lịch sử bán hàng hàng ngày của mổi id sản phẩm, cửa hàng, bộ phận trong 1900 ngày [d_1 - d_1913]\n",
        "\n",
        "* *submission_file.csv*: Định dạng đúng cho kết quả dự đoán bán hàng chứa id sản phẩm và id cột cho 28 ngày tiếp theo.\n",
        "* *sell_prices_df.csv*: Chứa thông tin về giá của các sản phẩm được bán theo cửa hàng theo ngày.\n",
        "* *sales_train_evaluation.csv*: Bao gồm doanh số bán hàng từ [d_1 - d_1941].\n",
        "\n"
      ],
      "metadata": {
        "id": "VvOft-uXNvyr"
      }
    },
    {
      "cell_type": "markdown",
      "source": [
        "###**Tải tập dữ liệu lên bộ nhớ**\n"
      ],
      "metadata": {
        "id": "OCy-kQbCXTWO"
      }
    },
    {
      "cell_type": "code",
      "source": [
        "sell_prices_df = pd.read_csv('/kaggle/input/m5-forecasting-accuracy/sell_prices.csv')\n",
        "train_sales_df = pd.read_csv('/kaggle/input/m5-forecasting-accuracy/sales_train_validation.csv')\n",
        "calendar_df = pd.read_csv('/kaggle/input/m5-forecasting-accuracy/calendar.csv')\n",
        "submission_file = pd.read_csv('/kaggle/input/m5-forecasting-accuracy/sample_submission.csv')  "
      ],
      "metadata": {
        "id": "g6XgxFiRXchI"
      },
      "execution_count": null,
      "outputs": []
    },
    {
      "cell_type": "markdown",
      "source": [
        "###**Kiểm tra thông tin tập dữ liệu**"
      ],
      "metadata": {
        "id": "vg89rJXBXjJS"
      }
    },
    {
      "cell_type": "code",
      "source": [
        "sell_prices_df.info()"
      ],
      "metadata": {
        "id": "aAPXr8-VXwPn"
      },
      "execution_count": null,
      "outputs": []
    },
    {
      "cell_type": "code",
      "source": [
        "train_sales_df.info()"
      ],
      "metadata": {
        "id": "2UyscoMbX11A"
      },
      "execution_count": null,
      "outputs": []
    },
    {
      "cell_type": "code",
      "source": [
        "calendar_df.info()"
      ],
      "metadata": {
        "id": "ukyTBxo4X7_U"
      },
      "execution_count": null,
      "outputs": []
    },
    {
      "cell_type": "markdown",
      "source": [
        "Tập dữ liệu được cung cấp sẽ cho thấy các mối quan hệ giữa các cửa hàng, các sản phẩm cụ thể được bán, danh mục mà người tiêu dùng quan tâm nhất, thông tin bán hàng tại các khu vực cụ thể. sell_prices_df chứa thông tin của 6,841,121 sản phẩm, trong khi train_sales_df chứa thông tin của 30,490 sản phẩm bán ra.\n",
        "\n",
        "Và tập dữ liệu calendar_df giúp thực hiện phân tích các sản phẩm bán ra theo chuổi thời gian"
      ],
      "metadata": {
        "id": "BT8146I1_Wcy"
      }
    },
    {
      "cell_type": "markdown",
      "source": [
        "#**Khai phá dữ liệu**"
      ],
      "metadata": {
        "id": "6eGtH7IzBQLA"
      }
    },
    {
      "cell_type": "markdown",
      "source": [
        "##**Các câu hỏi về hành vi và nhu cầu sản phẩm theo thời gian.**\n"
      ],
      "metadata": {
        "id": "ZgIzJo51BZtZ"
      }
    },
    {
      "cell_type": "markdown",
      "source": [
        "\n",
        "Bắt đầu bằng train_sales_df chứa các thông tin cụ thể về định danh sản phẩm (Id), khu vực sản phẩm ('store_id' , 'state_id'), ngày bán ra  (d_1 to d_1913). Phân tách dữ liệu theo ngày bán hàng để phân tích theo item_id, store_id và dept_id."
      ],
      "metadata": {
        "id": "mKF9V7zVUrix"
      }
    },
    {
      "cell_type": "code",
      "source": [
        "train_sales_df.head(3)"
      ],
      "metadata": {
        "id": "OjaymIlbC6fi"
      },
      "execution_count": null,
      "outputs": []
    },
    {
      "cell_type": "code",
      "source": [
        "d_cols = [c for c in train_sales_df.columns if 'd_' in c]\n",
        "train_sales_df['total_sales_all_days'] = train_sales_df[d_cols].sum(axis = 1)\n",
        "train_sales_df['avg_sales_all_days'] = train_sales_df[d_cols].mean(axis = 1)\n",
        "train_sales_df['median_sales_all_days'] = train_sales_df[d_cols].median(axis = 1)\n",
        "#train_sales_df.groupby(['id'])['total_sales_all_days'].sum().sort_values(ascending=False)"
      ],
      "metadata": {
        "id": "R_-xn3G-DCbS"
      },
      "execution_count": null,
      "outputs": []
    },
    {
      "cell_type": "markdown",
      "source": [
        "###**Phân phối sản phẩm (product_ids) theo danh mục**"
      ],
      "metadata": {
        "id": "JxTJ6Q2BDNjw"
      }
    },
    {
      "cell_type": "code",
      "source": [],
      "metadata": {
        "id": "nXDDWpaHUvT6"
      },
      "execution_count": null,
      "outputs": []
    },
    {
      "cell_type": "code",
      "source": [
        "df = train_sales_df.groupby(['cat_id'])['id'].count().reset_index(name='total_entries')\n",
        "fig = px.pie(df, values='total_entries', names='cat_id', \n",
        "            color_discrete_sequence=px.colors.sequential.RdBu,\n",
        "            width = 750, height=450, title = 'Distribution of Product_IDs Across Categories')\n",
        "fig.show()\n"
      ],
      "metadata": {
        "id": "HYZ9FVHIDLYd"
      },
      "execution_count": null,
      "outputs": []
    },
    {
      "cell_type": "markdown",
      "source": [
        "Biểu đồ trên thể hiện phần trăm bán chạy của các sản phẩm theo thứ tự là sản phẩm thực phẩm bán chạy nhất, tiếp theo đến các mặt hàng gia dụng và cuối cùng là các sản phẩm thuộc về sở thích"
      ],
      "metadata": {
        "id": "kHjlnDp0Dlk5"
      }
    },
    {
      "cell_type": "code",
      "source": [
        "df = train_sales_df.groupby(['state_id'])['total_sales_all_days'].sum().reset_index()\n",
        "fig = px.pie(df, values='total_sales_all_days', names='state_id', \n",
        "            color_discrete_sequence=px.colors.sequential.Aggrnyl,\n",
        "            width = 750, height=450, title = 'Distribution of Total_Sales Across States')\n",
        "fig.show()"
      ],
      "metadata": {
        "id": "3MJ0r2kuEClT"
      },
      "execution_count": null,
      "outputs": []
    },
    {
      "cell_type": "markdown",
      "source": [
        "Biểu đồ thể hiện tổng số lượng bán ra theo thứ tự CA nhiều nhất, đến Texas và cuối cùng là Wisconsin."
      ],
      "metadata": {
        "id": "oEqcNuuhcc3Y"
      }
    },
    {
      "cell_type": "code",
      "source": [
        "df1 = train_sales_df.groupby(['cat_id'])['id'].count().reset_index(name='total_entries')\n",
        "df2 = train_sales_df.groupby(['cat_id', 'state_id'])['total_sales_all_days'].sum().reset_index()"
      ],
      "metadata": {
        "id": "xW71f3y6En7-"
      },
      "execution_count": null,
      "outputs": []
    },
    {
      "cell_type": "code",
      "source": [
        "sns.set_style('whitegrid')\n",
        "sns.axes_style(style='ticks')\n",
        "fig, (ax1, ax2) = plt.subplots(1,2, figsize=(14,5))\n",
        "\n",
        "sns.barplot(x = 'cat_id', y='total_entries', data=df1, \n",
        "            palette='mako', ax=ax1)\n",
        "sns.barplot(x = 'cat_id', y='total_sales_all_days', hue='state_id', data=df2, \n",
        "            palette='magma', ax=ax2)\n",
        "\n",
        "plt.xticks(rotation=90)\n",
        "plt.show()"
      ],
      "metadata": {
        "id": "_sn8bSwlEq7J"
      },
      "execution_count": null,
      "outputs": []
    },
    {
      "cell_type": "markdown",
      "source": [
        "Hai biểu đồ trên cung cấp thông tin:\n",
        "\n",
        "\n",
        "*   Danh mục bán chạy nhất là FOODS, tiếp theo là HOUSEHOLD và HOBBIES\n",
        "* CA dẫn đầu về tổng số số lượng mặt hàng được bán ra trong cả ba danh mục. Trong khi Wisconsin đứng sau TX tại hai danh mục là HOUSEHOLD VÀ HOBBIES và tương đương về FOODS. \n",
        "\n"
      ],
      "metadata": {
        "id": "eot08PqqH7vT"
      }
    },
    {
      "cell_type": "code",
      "source": [
        "df = train_sales_df.groupby(['state_id', 'cat_id'])['id'].count().reset_index(name='num_sales_by_category')\n",
        "fig = px.bar(df, x=\"state_id\", y=\"num_sales_by_category\", \n",
        "             color=\"cat_id\", title=\"Distribution of Product_ids Count Across Categories & Each Locale\")\n",
        "fig.show()"
      ],
      "metadata": {
        "id": "TXsO7GZkI_YE"
      },
      "execution_count": null,
      "outputs": []
    },
    {
      "cell_type": "markdown",
      "source": [
        "Biểu đồ trên thể hiện:\n",
        "\n",
        "\n",
        "*   Các bặt hàng được bán ra nhiều nhất tại CA.\n",
        "*   Các cửa hàng ở WI và TX có gần như cùng tổng bán ra trong 1913 ngày. Cần kiểm tra liệu doanh thu bán ra có tương tự, và các cửa hàng khác trên hai bang này có tương tự.\n",
        "\n"
      ],
      "metadata": {
        "id": "xfrIyIvWJWmQ"
      }
    },
    {
      "cell_type": "markdown",
      "source": [
        "###**Phân phối sản phẩm theo cửa hàng**"
      ],
      "metadata": {
        "id": "KjNeAkiOKjZ4"
      }
    },
    {
      "cell_type": "code",
      "source": [
        "df = train_sales_df.groupby(['dept_id', 'store_id', 'state_id', 'cat_id'])[train_sales_df.columns[6:]].sum().reset_index()\n",
        "df = df.sort_values('total_sales_all_days', ascending=False)"
      ],
      "metadata": {
        "id": "6qhgUCQ0KrAw"
      },
      "execution_count": null,
      "outputs": []
    },
    {
      "cell_type": "code",
      "source": [
        "x_dept = df['dept_id']\n",
        "x_store = df['store_id']\n",
        "\n",
        "def items_sold_per_days(x_spec,title_text, title):\n",
        "    \n",
        "    '''\n",
        "    returns plotly plots with drop down menus for specified parameter made in dataframe earlier\n",
        "    \n",
        "    inputs: x_spec (categorical feature on the x_axis), title_text(title on dropdown), \n",
        "            title (title of the plot)\n",
        "            \n",
        "    returns: plotly plots of categorical feature (x_axis) with dropdowns on specific \n",
        "    number of days        \n",
        "    '''\n",
        "    \n",
        "    cols = ['d_1', 'd_50', 'd_300', 'd_500', 'd_700', 'd_900', 'd_1100', 'd_1500', 'd_1700',\n",
        "        'total_sales_all_days', 'median_sales_all_days']\n",
        "\n",
        "    buttons1 = [dict(method = \"restyle\",\n",
        "                 args = [{'x': [x_spec, 'undefined'],\n",
        "                          'y': [df[cols[k]], 'undefined'],\n",
        "                          'visible':[True, False]}], \n",
        "                 label = cols[k])   for k in range(0, len(cols))]\n",
        "\n",
        "    fig = go.Figure()\n",
        "    fig.add_trace(go.Bar(x=x_spec, y = df['d_1'], name='Dept.Sales on day2',\n",
        "                     marker_color='Crimson'))\n",
        "\n",
        "    fig.update_layout(title_text= title_text,\n",
        "                  title_x= 0.4, width=750, height=450, \n",
        "                  margin=dict(t=100, b=20, l=0, r=0),\n",
        "                  autosize = False,\n",
        "                  updatemenus=[dict(active=0,\n",
        "                                    buttons=buttons1,\n",
        "                                    x=0.08,\n",
        "                                    y=1.13,\n",
        "                                    xanchor='left',\n",
        "                                    yanchor='top')\n",
        "                              ]); \n",
        "\n",
        "    fig.add_annotation( x=0.00,  y=1.13, showarrow=False, xref='paper', yref='paper', xanchor='left',\n",
        "                   text=\"With<br>\"+str(title));\n",
        "    fig.show()\n",
        "\n",
        "items_sold_per_days(df['store_id'], 'Distribution of Sales Made on Each Store', 'Stores')\n",
        "items_sold_per_days(df['state_id'], \"Distribution of Sales Made In Each State\", 'States')"
      ],
      "metadata": {
        "id": "1g9pgfUGKxU8"
      },
      "execution_count": null,
      "outputs": []
    },
    {
      "cell_type": "markdown",
      "source": [
        "Hai biểu đồ trên thể hiện:\n",
        "\n",
        "\n",
        "*   Phân bổ doanh số bán hàng trên các dept_id\n",
        "*  Phân bổ doanh số bán hàng trên các cửa hàng ở Texas và Wisconsin KHÔNG giống nhau mặt dùng tổng doanh số có thể giống nhau\n",
        "* Các cửa hàng hoạt động tốt nhất tại mỗi khu vực lần lược là:  CA_3, TX_2 và WI_3.\n"
      ],
      "metadata": {
        "id": "wIZoFRlVLvMG"
      }
    },
    {
      "cell_type": "markdown",
      "source": [
        "###**Sản phẩm bán chạy nhất**"
      ],
      "metadata": {
        "id": "PLKBRxwnMuNC"
      }
    },
    {
      "cell_type": "markdown",
      "source": [
        "Sử dụng dữ liệu từ train_sales_df để xác định các mặt hàng được mua thường xuyên nhất\n",
        "\n",
        "Lập biểu đồ hành vi để xác định hành vi chung về bán hàng trong các ngày nhất định"
      ],
      "metadata": {
        "id": "Bk0zJ-S-NFK_"
      }
    },
    {
      "cell_type": "code",
      "source": [
        "train_sales_df.groupby(['id'])['total_sales_all_days'].sum().sort_values(ascending=False)"
      ],
      "metadata": {
        "id": "jwtjZ_nvM1jO"
      },
      "execution_count": null,
      "outputs": []
    },
    {
      "cell_type": "markdown",
      "source": [
        "Dữ liệu trên cho thấy tổng số sản phẩm bán được đã được group theo Id. và mặt hàng FOODS_3_090_CA_3_validation đang được bán ra nhiều nhất"
      ],
      "metadata": {
        "id": "8KMwhA5JN69W"
      }
    },
    {
      "cell_type": "code",
      "source": [
        "sns.set_style('whitegrid')\n",
        "\n",
        "def plot_dailysales(spec_id):\n",
        "    \"\"\"\n",
        "    plots the behavior of dailysales of specific ids i.e. spec_id\n",
        "    \n",
        "    input: spec_id\n",
        "    returns : number of sales plotted across number of days \n",
        "    \"\"\"\n",
        "    train_sales_df.loc[train_sales_df['id'] == spec_id ].set_index('id')[d_cols]\\\n",
        "                .T\\\n",
        "                .plot(figsize = (13,2.5),\n",
        "                      title =  str(spec_id)+\"_item daily sales\", \n",
        "                      color = next(color_cycle) )\n",
        "    plt.legend()\n",
        "    plt.show()\n",
        "\n",
        "plot_dailysales('FOODS_3_090_CA_3_validation') \n",
        "plot_dailysales('FOODS_3_586_TX_2_validation')\n"
      ],
      "metadata": {
        "id": "llMYtWIWOKwF"
      },
      "execution_count": null,
      "outputs": []
    },
    {
      "cell_type": "markdown",
      "source": [
        "###**Mặt hàng bán chạy nhất trên mỗi danh mục**"
      ],
      "metadata": {
        "id": "Ie0AwHGwR6P0"
      }
    },
    {
      "cell_type": "code",
      "source": [
        "df_agg = pd.DataFrame(train_sales_df.groupby(['id', 'cat_id', 'store_id'])['total_sales_all_days'].sum().sort_values(ascending=False))\n",
        "df_agg = df_agg.reset_index()\n",
        "df_agg.head(3)"
      ],
      "metadata": {
        "id": "PjaOng8MSDNE"
      },
      "execution_count": null,
      "outputs": []
    },
    {
      "cell_type": "markdown",
      "source": [
        "Lấy ra 3 danh mục só số lượng bán chạy nhất được sắp xếp theo thứ tự giảm dần"
      ],
      "metadata": {
        "id": "EABfFwvsSQDG"
      }
    },
    {
      "cell_type": "code",
      "source": [
        "\n",
        "\n",
        "print(\"The 3 item_ids outselling most in FOODS category are: {}\".format(list(df_agg.loc[df_agg['cat_id'] == 'FOODS']['id'][:3])))\n",
        "print(\"The 3 item_ids outselling most in HOUSEHOLDS category are: {}\".format(list(df_agg.loc[df_agg['cat_id'] == 'HOUSEHOLD']['id'][:3])))\n",
        "print(\"The 3 item_ids outselling most in HOBBIES category are: {}\".format(list(df_agg.loc[df_agg['cat_id'] == 'HOBBIES']['id'][:3])))\n",
        "\n"
      ],
      "metadata": {
        "id": "oSOTADCVSaYC"
      },
      "execution_count": null,
      "outputs": []
    },
    {
      "cell_type": "markdown",
      "source": [
        "3 sản phẩm bán chạy nhất trên mỗi danh mục bán chạy nhất"
      ],
      "metadata": {
        "id": "E9nYfFQlSi64"
      }
    },
    {
      "cell_type": "code",
      "source": [
        "def plot_sample_sales(spec_id, sm_start, sm_end, samples_pick=50):\n",
        "    \"\"\"\n",
        "    plots sample sales data with selection point and ending point specified, along with\n",
        "    samples_pick point that specifies the samples picked after specified intervals\n",
        "    \n",
        "    input: spec_id (item_id or id), sm_start (sample_start), sm_end(sample_end),\n",
        "    samples_pick (samples picked after how many intervals)\n",
        "    \n",
        "    returns: outputs a graph of sample points plotted against daily sales data d_1 to d_1913\n",
        "    \"\"\"\n",
        "    fig, ax1 = plt.subplots(figsize=(13, 2.5))\n",
        "    \n",
        "    x1 = list(train_sales_df[train_sales_df['id'] == spec_id][d_cols]\\\n",
        "              .columns)[sm_start:sm_end]\n",
        "    y1 = list(train_sales_df[train_sales_df['id'] == spec_id][d_cols]\\\n",
        "              .values.flatten())[sm_start:sm_end]\n",
        "    \n",
        "    #this conversion for regplot only\n",
        "    x1 = [x.replace(\"d_\", \"\") for x in x1]\n",
        "    x1 = [int(x) for x in x1]\n",
        "    \n",
        "    #sns.lineplot(x=x1, y=y1, ax=ax1)\n",
        "    sns.regplot(x=x1, y=y1, order=10, ax=ax1)\n",
        "    ax1.set_ylabel(\"Number of Sales\")\n",
        "    ax1.set_xlabel(\"Days\")\n",
        "\n",
        "    ax1.set_xticks(x1[::samples_pick])\n",
        "    ax1.set_xticklabels(x1[::samples_pick], rotation=0)\n",
        "\n",
        "    fig.tight_layout()\n",
        "    plt.show()"
      ],
      "metadata": {
        "id": "jLqmcGtlS0Ed"
      },
      "execution_count": null,
      "outputs": []
    },
    {
      "cell_type": "code",
      "source": [
        "\n",
        "\n",
        "plot_sample_sales('FOODS_3_090_CA_3_validation', 500, 1300)\n",
        "plot_sample_sales('FOODS_3_586_TX_2_validation', 500, 1300)\n",
        "plot_sample_sales('FOODS_3_090_CA_1_validation', 500, 1300)\n",
        "\n"
      ],
      "metadata": {
        "id": "VPplWerUS9b9"
      },
      "execution_count": null,
      "outputs": []
    },
    {
      "cell_type": "markdown",
      "source": [
        "Biều đồ mô hình hồi quy thể hiện xu hướng bán các mặt hàng: FOODS_3_090_CA_3_validation, FOODS_3_586_TX_2_validation,FOODS_3_090_CA_1_validation từ ngày thứ 500 đến ngày thứ 1300 (cận trên và cận dưới thể hiện những ngày đặt biệt thúc đẩy doanh số bán hàng)"
      ],
      "metadata": {
        "id": "xEXMpx2lS_2M"
      }
    },
    {
      "cell_type": "markdown",
      "source": [
        "##**Những câu hỏi về doanh thu bán hàng**"
      ],
      "metadata": {
        "id": "9vPI8rWnT_il"
      }
    },
    {
      "cell_type": "markdown",
      "source": [
        "Cần tìm hiểu doanh thu cục thể với từng sản phẩm. Nhưng tập dữ liệu sell_price_df không cung cấp thông tin về product_id (mã sản phẩm) và có sự không khớp dữ liệu giữa hai tập train_sales_df với 30,490 mặt hàng và tập sell_prices_df với 6,841,121 mục. Do đó cần sử dụng phương pháp ước tính sơ bộ để hợp nhất hai tập dữ liệu\n",
        "\n",
        "Vì tập sell_prices_df có phân loại dữ liệu theo cấp, vì vậy có thể ước tính về các mặt hàng được bán trong từng danh mục để xem xét giá được bán của từng mặt hàng được bán là bao nhiêu.\n",
        "\n"
      ],
      "metadata": {
        "id": "EQBSeeiBUxIu"
      }
    },
    {
      "cell_type": "code",
      "source": [
        "sell_prices_df.head(3)"
      ],
      "metadata": {
        "id": "MOg9bopsWRy2"
      },
      "execution_count": null,
      "outputs": []
    },
    {
      "cell_type": "markdown",
      "source": [
        "Lấy ra 3 dòng đầu tiên của dữ liệu"
      ],
      "metadata": {
        "id": "CdKhHCWQWTMd"
      }
    },
    {
      "cell_type": "code",
      "source": [
        "# making a new column category out of the item_id \n",
        "sell_prices_df['category'] = sell_prices_df['item_id'].str.split(\"_\", expand=True)[0]\n"
      ],
      "metadata": {
        "id": "tGaTwzWAWcbz"
      },
      "execution_count": null,
      "outputs": []
    },
    {
      "cell_type": "markdown",
      "source": [
        "Tạo cột danh mục dữ liệu từ thông tin item_id"
      ],
      "metadata": {
        "id": "ZdXu3fgnWjgF"
      }
    },
    {
      "cell_type": "code",
      "source": [
        "sns.set_style('whitegrid')\n",
        "#plt.figure(figsize=(15,5))\n",
        "\n",
        "def kde_plotting(df, category, bin_size, color, label):\n",
        "    \n",
        "    '''\n",
        "    plots the kde density plot of the continuous features of df specified\n",
        "    \n",
        "    inputs: df, category(whether, foods, household or hobbies), bin_size(bin size for histogram)\n",
        "            color (color of the plot), label (label to the plot)\n",
        "    returns: kde plots with logarithmic scale taken on x_axis\n",
        "            \n",
        "    '''\n",
        "    fig, ax1 = plt.subplots(figsize=(13, 2.5) )\n",
        "\n",
        "    sns.distplot(df[df['category'] == category]['sell_price'], \n",
        "               axlabel = label ,bins=bin_size, color = color, ax=ax1) \n",
        "\n",
        "    fig.tight_layout()\n",
        "    ax1.set_xscale('log')\n",
        "    plt.legend()\n",
        "    plt.show()\n",
        "    \n",
        "kde_plotting(sell_prices_df, 'HOBBIES', 150, 'b', 'hobbies')   \n",
        "kde_plotting(sell_prices_df, 'FOODS', 250, 'g', 'foods') \n",
        "kde_plotting(sell_prices_df, 'HOUSEHOLD', 150, 'r', 'household') "
      ],
      "metadata": {
        "id": "l3zn67GaWsJW"
      },
      "execution_count": null,
      "outputs": []
    },
    {
      "cell_type": "markdown",
      "source": [
        "Sử dụng biểu đồ phân phối theo mật độ để trích xuất các thông tin:\n",
        "\n",
        "\n",
        "*   Các mặt hàng gia dụng tuân theo phân phối gần như chuẩn và có giá trung bình là 5dollars và hầu hết các mặt hàng gia dụng đều được bán trong giá từ 1$ đến 10dollars. Khung giá của mặt hàng gia dụng là từ 25xu đến 10dollars\n",
        "*   Các mặt hàng thực phẩm phân phối đa phương, cho thấy người tiêu dùng quan tâm đến nhiều mặt hàng khác nhau với danh mục và giá trị khác nhau. Khung giá của mặt hàng thực phẩm là từ 2 xu đến 10dollars và rất ít mặt hàng nằm ngoài khung giá\n",
        "*   Các mặt hàng thuộc về sở thích phân phối theo nhiều đỉnh nhỏ khác nhau với giá trị cao thấp khách nhau cho thấy người tiêu dùng quan tâm đặc biệt đến một số sản phẩm nhất định\n",
        "\n",
        "\n",
        "\n",
        "\n"
      ],
      "metadata": {
        "id": "HLovHj-pXOxn"
      }
    },
    {
      "cell_type": "markdown",
      "source": [
        "###**Loại bỏ các phân phối ngoại lai để quan sát phân phối về giá**"
      ],
      "metadata": {
        "id": "Hf9iAQ4ZZQat"
      }
    },
    {
      "cell_type": "code",
      "source": [
        "def remove_outliers(df):\n",
        "    \n",
        "    '''\n",
        "    removes the outliers in continous features using quartile ranges\n",
        "    \n",
        "    inputs: df(df specified with continous features along side categorical features)\n",
        "    returns: df with removed outliers\n",
        "    '''\n",
        "    Q1=df.quantile(0.25)\n",
        "    Q3=df.quantile(0.75)\n",
        "    IQR=Q3-Q1\n",
        "    df_final=df[~((df<(Q1-1.5*IQR)) | (df>(Q3+1.5*IQR)))]\n",
        "    \n",
        "    return df_final\n",
        "\n",
        "df = sell_prices_df[['category', 'sell_price']]\n",
        "df = remove_outliers(df)\n"
      ],
      "metadata": {
        "id": "kYaQGj_fZZ8D"
      },
      "execution_count": null,
      "outputs": []
    },
    {
      "cell_type": "markdown",
      "source": [
        "Sử dụng phương pháp lọc nhiễu phần tư"
      ],
      "metadata": {
        "id": "u_mmZ28IZe8q"
      }
    },
    {
      "cell_type": "code",
      "source": [
        "sns.set_style('whitegrid')\n",
        "sns.axes_style(style='ticks')\n",
        "plt.figure(figsize=(13,3))\n",
        "sns.boxplot(y=df['category'], x=df['sell_price'])\n",
        "plt.show()"
      ],
      "metadata": {
        "id": "OWQkeYT3Z0XV"
      },
      "execution_count": null,
      "outputs": []
    },
    {
      "cell_type": "markdown",
      "source": [
        "Sau khi lọc nhiễu:\n",
        "\n",
        "*   Danh mục thức ăn: 75% các mặt hàng bán ra dưới 4dollars\n",
        "* Danh mục sở thích: 75% các mặt hàng bán ra dưới 6dollars và giá trung bình tập trung từ 3,25dollars đến 3,5dollars\n",
        "* Danh mục gia dụng: 75% mặt hàng bán dưới 6,5dollars\n",
        "\n",
        "Sau khi lọc nhiều và so sánh với kết quả ban đầu cho thấy rất nhiều nhiễu trong dữ liệu về giá\n",
        "\n"
      ],
      "metadata": {
        "id": "bO6DdeyFaMAZ"
      }
    },
    {
      "cell_type": "markdown",
      "source": [
        "##**Phân phối doanh số vào các ngày trong tuần và các dịp đặc biệt**\n"
      ],
      "metadata": {
        "id": "L4cIopEAXGZF"
      }
    },
    {
      "cell_type": "markdown",
      "source": [
        "Tập dữ liệu canlendar_df chứa các thông tin có giá trị theo thời gian của các sản phẩm theo product_id. Tập dữ liệu này chũng chứa các thông tin về các dịp đặc biệt và SNAP (chương trình hỗ trợ dinh dưỡng bổ xung).\n",
        "Tập dữ liệu train_sales_df chứa nhiều thông tin về doanh số bán hàng cùng các ngày trong tuần, các ngày cụ thể và các dịp đặc biệt"
      ],
      "metadata": {
        "id": "vKpzBy37YGOf"
      }
    },
    {
      "cell_type": "code",
      "source": [
        "calendar_df.head(3)"
      ],
      "metadata": {
        "id": "nrEciRcWX9t6"
      },
      "execution_count": null,
      "outputs": []
    },
    {
      "cell_type": "markdown",
      "source": [
        "Thông tin tập dữ liệu calendar_df."
      ],
      "metadata": {
        "id": "gbJMA_k2YA9N"
      }
    },
    {
      "cell_type": "code",
      "source": [
        "calendar_df.groupby(['event_name_1', 'event_type_1'])['wday'].count()"
      ],
      "metadata": {
        "id": "XpY6onzeYNQ-"
      },
      "execution_count": null,
      "outputs": []
    },
    {
      "cell_type": "markdown",
      "source": [
        "Việc quan sát phân bố dữ liệu trong *\"event_name_1\"* và *event_type_1* liên quan đến ngày lễ và dịp đặc biệt kế hợp với dữ liệu về doanh số bán hàng sẽ cung cấp các xu hướng quan trọng"
      ],
      "metadata": {
        "id": "SeryhvJkYXFm"
      }
    },
    {
      "cell_type": "code",
      "source": [
        "calendar_df.groupby(['event_name_2', 'event_type_2'])['wday'].count()"
      ],
      "metadata": {
        "id": "4rDxP_VjYs50"
      },
      "execution_count": null,
      "outputs": []
    },
    {
      "cell_type": "markdown",
      "source": [
        "Dữ liệu trên cho thấy có một số dữ liệu nằm trong các danh mục khác ngoài *\"event_name_1\"*"
      ],
      "metadata": {
        "id": "57_I73sGY_LX"
      }
    },
    {
      "cell_type": "code",
      "source": [
        "#Making in and including a new entry of days as well as merging the events_1 and event_2 into\n",
        "# a single new events_names and types category\n",
        "\n",
        "calendar_df['days'] = [d.split('-')[2] for d in calendar_df['date']]\n",
        "calendar_df['events_names'] = pd.concat([calendar_df['event_name_1'], calendar_df['event_name_2']], \n",
        "                                        ignore_index=True)\n",
        "calendar_df['events_types'] = pd.concat([calendar_df['event_type_1'], calendar_df['event_type_2']], \n",
        "                                        ignore_index=True)\n",
        "#calendar_df.drop(['event_name_1', 'event_name_2', 'event_type_1', 'event_type_2'], axis=1, inplace=True)"
      ],
      "metadata": {
        "id": "leN8-p1BZsDd"
      },
      "execution_count": null,
      "outputs": []
    },
    {
      "cell_type": "markdown",
      "source": [
        "Kết hợp hai tập dữ liệu *\"event_name_1\"* và tập dữ liệu *\"event_name_2\"*"
      ],
      "metadata": {
        "id": "GDr8z4nvaRYO"
      }
    },
    {
      "cell_type": "markdown",
      "source": [
        "###**Dữ liệu SNAP_CA, SNAP_TX, SNAP_WI là gì?**"
      ],
      "metadata": {
        "id": "mIGFZDOvaqrM"
      }
    },
    {
      "cell_type": "markdown",
      "source": [
        "SNAP là cụm từ viết tắc tiếng anh của chương trình \"hỗ trợ dinh dưỡng bổ sung\" liên bang của Hoa Kỳ nhầm cung cấp thực phẩm thiết yếu cho những hộ gia đình có thu nhập thấp. Danh mục các vận dụng gia đình và các vật dụng sở thích không nằm trong chương trình này. Chương trình này nhằm chống lại nạn đói thực phẩm ở Mỹ"
      ],
      "metadata": {
        "id": "e6F7hUp_a35j"
      }
    },
    {
      "cell_type": "code",
      "source": [
        "df = calendar_df.groupby(['events_types'])['snap_CA'].value_counts().reset_index(name='counts')"
      ],
      "metadata": {
        "id": "3QI0eim6cC1B"
      },
      "execution_count": null,
      "outputs": []
    },
    {
      "cell_type": "code",
      "source": [
        "sns.set_style('whitegrid')\n",
        "sns.axes_style(style='ticks')\n",
        "plt.figure(figsize=(13,3))\n",
        "sns.barplot(x = 'events_types', y='counts', hue='snap_CA', data=df, palette='bwr')\n",
        "plt.show()"
      ],
      "metadata": {
        "id": "Y08FgFWfcKCo"
      },
      "execution_count": null,
      "outputs": []
    },
    {
      "cell_type": "code",
      "source": [
        "df = calendar_df.groupby(['events_names'])['snap_CA'].value_counts().reset_index(name='counts')"
      ],
      "metadata": {
        "id": "HKSNBx5FcYWD"
      },
      "execution_count": null,
      "outputs": []
    },
    {
      "cell_type": "code",
      "source": [
        "sns.set_style('whitegrid')\n",
        "sns.axes_style(style='ticks')\n",
        "plt.figure(figsize=(13,3))\n",
        "sns.barplot(x = 'events_names', y='counts', hue='snap_CA', data=df, \n",
        "            order = df.sort_values(['counts'], ascending=False).events_names, \n",
        "            palette='OrRd')\n",
        "plt.xticks(rotation=90)\n",
        "plt.show()"
      ],
      "metadata": {
        "id": "_CflTBtBcber"
      },
      "execution_count": null,
      "outputs": []
    },
    {
      "cell_type": "markdown",
      "source": [
        "Hai biểu đồ trên biểu thị chương trình SNAP ở CA được sử dụng trong các dịp đặc biệt."
      ],
      "metadata": {
        "id": "4NpJtwLUclA7"
      }
    },
    {
      "cell_type": "markdown",
      "source": [
        "##**Phân phối của doanh số bán hàng và doanh thu bán hàng**"
      ],
      "metadata": {
        "id": "moPLx1Zqcwd9"
      }
    },
    {
      "cell_type": "markdown",
      "source": [
        "Hợp nhất dữ liệu liên quan đến sản phẩm và doanh thu dựa trên product_id và revenue_df để khai phá các xu hướng của dữ liệu item_specific_data và sale_price_specific"
      ],
      "metadata": {
        "id": "09T5qIlBc36g"
      }
    },
    {
      "cell_type": "code",
      "source": [
        "train_sales_df"
      ],
      "metadata": {
        "id": "elLXgl0Zx9EP"
      },
      "execution_count": null,
      "outputs": []
    },
    {
      "cell_type": "code",
      "source": [
        "\n",
        "train_sales_prices_df = train_sales_df.merge(sell_prices_df, how='inner',\n",
        "                                            left_index=True, right_index=True, \n",
        "                                            validate=\"1:1\")\n"
      ],
      "metadata": {
        "id": "ighFZmCfdVaf"
      },
      "execution_count": null,
      "outputs": []
    },
    {
      "cell_type": "code",
      "source": [
        "train_sales_prices_df"
      ],
      "metadata": {
        "id": "uK9xdbTDREYn"
      },
      "execution_count": null,
      "outputs": []
    },
    {
      "cell_type": "code",
      "source": [
        "\n",
        "\n",
        "df = train_sales_prices_df.groupby(['cat_id', 'state_id', 'store_id_x'])['sell_price'].sum().reset_index(name='total_revenue')\n",
        "df = df.sort_values(by='total_revenue', ascending=False)\n",
        "\n"
      ],
      "metadata": {
        "id": "oNunTOq1vZTt"
      },
      "execution_count": null,
      "outputs": []
    },
    {
      "cell_type": "code",
      "source": [
        "sns.set_style('whitegrid')\n",
        "sns.axes_style(style='ticks')\n",
        "fig, (ax1, ax2) = plt.subplots(1,2, figsize=(14,5))\n",
        "\n",
        "sns.barplot(x = 'state_id', y='total_revenue', data=df, \n",
        "            palette='coolwarm', ax=ax1)\n",
        "sns.barplot(x = 'cat_id', y='total_revenue', hue='state_id', data=df, \n",
        "            palette='plasma', ax=ax2)\n",
        "\n",
        "plt.xticks(rotation=90)\n",
        "plt.show()"
      ],
      "metadata": {
        "id": "Syi-TOa7zCgf"
      },
      "execution_count": null,
      "outputs": []
    },
    {
      "cell_type": "markdown",
      "source": [
        "Một số thông tin quan trọng được đưa ra dựa trên hai biểu đồ trên:\n",
        "* Mặt dù bang CA luôn là một bang bán được nhiều product_id, nhưng bang có doanh thu cao nhất là WI\n",
        "* Tương tự với danh mục ban WI và TX có doanh thu cao hơn bang CA.\n",
        "* WI dẫn đầu doanh số về danh mục thức ăn và giải trí, TX dẫn đầu về vật dụng gia đình.\n",
        "* Bang CA đóng góp doanh thu thấp nhất, nhưng có doanh số tại các cửa hàng cao nhất.\n"
      ],
      "metadata": {
        "id": "6EPNIe9xTd3l"
      }
    },
    {
      "cell_type": "markdown",
      "source": [
        "# **Phân tích hành vi trên chuỗi thời gian**"
      ],
      "metadata": {
        "id": "1wcxHP9BhWOL"
      }
    },
    {
      "cell_type": "markdown",
      "source": [
        "Hợp nhất tập dữ liệu chứa product_ids và thông tin dữ liệu theo thời gian để phân tích các hành vi theo thời gian: doanh số bán hàng, các tác động cụ thể, cuối tuần hoặc các dịp đặc biệt có thể có đối với doanh số."
      ],
      "metadata": {
        "id": "bi_DEa9bhowi"
      }
    },
    {
      "cell_type": "markdown",
      "source": [
        "**Trung bình trượt**: Sử dụng phương pháp trung bình trượt để làm mượt dữ liệu để dễ dàng phân tích liên hệ của doanh số bán hàng, tồn kho theo thời gian\n"
      ],
      "metadata": {
        "id": "EKU53jSAie1q"
      }
    },
    {
      "cell_type": "markdown",
      "source": [
        "##**Phân phối của doanh số product_id theo thời gian**"
      ],
      "metadata": {
        "id": "CLVM81Nbisey"
      }
    },
    {
      "cell_type": "code",
      "source": [
        "train_sales_cal_df = train_sales_df.set_index('id')[d_cols].T.merge(calendar_df.set_index('d')['date'], \n",
        "                                                                    left_index=True, right_index=True,\n",
        "                                                                    validate=\"1:1\").set_index('date')\n",
        "train_sales_cal_df['total_sales'] = train_sales_cal_df.sum(axis=1)"
      ],
      "metadata": {
        "id": "Grccci4PjMqV"
      },
      "execution_count": null,
      "outputs": []
    },
    {
      "cell_type": "markdown",
      "source": [
        "Kết hợp tập dữ liệu doanh số và tập dữ liệu thời gian (lịch)\n",
        "Tính toán doanh số theo ngày"
      ],
      "metadata": {
        "id": "WtOX57cqkJOr"
      }
    },
    {
      "cell_type": "code",
      "source": [
        "train_sales_cal_df = train_sales_cal_df[['total_sales']]\n",
        "train_sales_cal_df = train_sales_cal_df.reset_index()"
      ],
      "metadata": {
        "id": "TqujEKLskbjN"
      },
      "execution_count": null,
      "outputs": []
    },
    {
      "cell_type": "markdown",
      "source": [
        "Cấu trúc lại dữ liệu để trực quan hóa"
      ],
      "metadata": {
        "id": "9ezx-8Loju1Y"
      }
    },
    {
      "cell_type": "code",
      "source": [
        "fig = px.line(train_sales_cal_df, x='date', y=\"total_sales\", \n",
        "             template = 'plotly_white', title = 'Total Sales by Product id', \n",
        "             width=800, height=450)\n",
        "\n",
        "fig.update_xaxes(rangeslider_visible=True)\n",
        "fig.update_layout(\n",
        "    xaxis=dict(\n",
        "    rangeselector=dict( buttons=list([ dict(count=1, label=\"1m\", step=\"month\", stepmode=\"backward\"),\n",
        "    dict(count=6,label=\"6m\", step=\"month\", stepmode=\"backward\"),\n",
        "    dict(count=1, label=\"YTD\", step=\"year\", stepmode=\"todate\"),\n",
        "    dict(count=1, label=\"1y\", step=\"year\", stepmode=\"backward\"),\n",
        "    dict(step=\"all\")\n",
        "            ]) \n",
        "                      ),\n",
        "        rangeslider=dict(\n",
        "            visible=True\n",
        "        ),\n",
        "        type=\"date\"\n",
        "    )\n",
        ")\n",
        "\n",
        "fig.show()"
      ],
      "metadata": {
        "id": "-7-Ptanqkhec"
      },
      "execution_count": null,
      "outputs": []
    },
    {
      "cell_type": "markdown",
      "source": [
        "Trực quan hóa dữ liệu doanh số theo thời gian bằng biểu đồ đường"
      ],
      "metadata": {
        "id": "AGjITBKgkszD"
      }
    },
    {
      "cell_type": "markdown",
      "source": [
        "Sử dụng biểu đồ này sẽ có khó để xác định xu hướng doanh số cục bộ và tính theo mùa của tập dữ liệu. Mặt dù có xu hướng ngày càng tăng doanh số, nhưng rất khó xác định các bức tranh về doanh số theo biểu đồ này\n",
        "\n",
        "Sử dụng môdun season_decompose trong statsmodel (mô hình thống kê) để xác định các xu hướng theo thời gian. Sử dụng phương pháp lặp theo mùa để xác định sự thay đổi về doanh thu theo thời gian"
      ],
      "metadata": {
        "id": "X8_3Ij2Vk4RY"
      }
    },
    {
      "cell_type": "code",
      "source": [
        "from statsmodels.tsa.seasonal import seasonal_decompose\n",
        "\n",
        "def time_series_decompose(df, model_specified, period):\n",
        "\n",
        "    '''\n",
        "    returns decomposed time series components (with seasonality, trend and residuals ) of time_series df\n",
        "    \n",
        "    inputs: df(time series df), model_specified (whether additive or multiplicative ), period(number of days)\n",
        "    returns: trend values, seasonality values and residual values of time_series df\n",
        "    \n",
        "    '''\n",
        "    df_decomposition = seasonal_decompose(\n",
        "                               x=df.set_index(['date']), \n",
        "                               model= model_specified, \n",
        "                               period=period)\n",
        "    \n",
        "    est_trend = df_decomposition.trend\n",
        "    est_trend = est_trend.reset_index(name='trend').set_index('date')\n",
        "    est_seasonal = df_decomposition.seasonal\n",
        "    est_seasonal = est_seasonal.reset_index(name='seasonal').set_index('date')\n",
        "    est_residual = df_decomposition.resid\n",
        "    est_residual = est_residual.reset_index(name='resid').set_index('date')\n",
        "    \n",
        "    return est_trend, est_seasonal, est_residual\n",
        "\n",
        "sample_time_s1 = train_sales_cal_df[400:700]\n",
        "est_trend, est_seasonal, est_residual = time_series_decompose(sample_time_s1, \n",
        "                                                              'multiplicative', 30)\n"
      ],
      "metadata": {
        "id": "mVkzAjEFw4iW"
      },
      "execution_count": null,
      "outputs": []
    },
    {
      "cell_type": "code",
      "source": [
        "fig, (ax1, ax2, ax3) = plt.subplots(3, 1, figsize=(14, 7))\n",
        "\n",
        "est_trend.plot(figsize=(15, 5) ,\n",
        "                 alpha=0.9, \n",
        "                 lw=3, ax = ax1)\n",
        "est_seasonal.plot(figsize=(15, 5) ,\n",
        "                 alpha=0.9, \n",
        "                 lw=3, ax = ax2)\n",
        "est_residual.plot(figsize=(15, 5) ,\n",
        "                 alpha=0.9, \n",
        "                 lw=3, ax = ax3)\n",
        "\n",
        "fig.tight_layout()\n",
        "plt.show()"
      ],
      "metadata": {
        "id": "vihSby26w9eI"
      },
      "execution_count": null,
      "outputs": []
    },
    {
      "cell_type": "markdown",
      "source": [
        "Nhìn vào biểu đồ xu hướng, theo mùa, tồn dư có thể xác định được những thông tin sau:\n",
        "* Có tính chắc chắn của tính thời vụ trong tập dữ liệu\n",
        "* Có thể nhận thấy xu dướng theo mùa và phần dư có xu hướng lặp hành vi"
      ],
      "metadata": {
        "id": "upMkwn4Kxss6"
      }
    },
    {
      "cell_type": "code",
      "source": [
        "train_sales_cal_df = train_sales_cal_df.set_index('date')"
      ],
      "metadata": {
        "id": "72g226QqyvnU"
      },
      "execution_count": null,
      "outputs": []
    },
    {
      "cell_type": "code",
      "source": [
        "def time_and_rolling_plot(df, title_text, rolling_days=30, height=2.2):\n",
        "\n",
        "    '''\n",
        "    plots the time_series of dailysales made along with rolling mean plot\n",
        "    \n",
        "    inputs: df, title_text(plot title), rolling_days (rolling mean to be taken across), \n",
        "            height(height of the plot to be specified)\n",
        "            \n",
        "    returns: time series plot and rolling mean plot of the variable specified \n",
        "    '''\n",
        "    sns.set_style('whitegrid')\n",
        "    fig, ax1 = plt.subplots(1, 1, figsize=(13, height))\n",
        "    df.plot(figsize=(13, height),\n",
        "                        alpha=0.8,\n",
        "                        title=\"Time Plot for the \" + str(title_text), \n",
        "                        lw=2, color=next(color_cycle), ax=ax1)\n",
        "    df.rolling(rolling_days).mean().plot(figsize=(13, height),\n",
        "                                          alpha=1, \n",
        "                                          legend=\"Rolling Mean on 30 days\", \n",
        "                                          lw=2.5, color=next(color_cycle), ax=ax1)\n",
        "    ax1.legend(['Total Sales Per Category', 'total_sales_rolling_mean'])\n",
        "    plt.show()\n"
      ],
      "metadata": {
        "id": "aHDRpmKzyy7U"
      },
      "execution_count": null,
      "outputs": []
    },
    {
      "cell_type": "code",
      "source": [
        "time_and_rolling_plot(train_sales_cal_df, 'Total_Sales_Data')"
      ],
      "metadata": {
        "id": "LEnt9h7ly3FG"
      },
      "execution_count": null,
      "outputs": []
    },
    {
      "cell_type": "markdown",
      "source": [
        "Nhìn vào biểu đồ cho thấy doanh số tăng đều đặn:\n",
        "* Cần theo dõi số lượng mặt hàng còn trong kho.\n",
        "* Lập biểu đồ doanh số của một vài mặt hàng để xem xét hành vi theo thời gian."
      ],
      "metadata": {
        "id": "n1-xf7CVzC3d"
      }
    },
    {
      "cell_type": "code",
      "source": [
        "train_sales_most_sold_25 = train_sales_df.groupby(['id'])['total_sales_all_days'].sum().sort_values(ascending=False)[:25]\n",
        "train_sales_most_sold_25 = train_sales_most_sold_25.reset_index(name='total_sales')\n",
        "train_sales_most_sold_25.iloc[0:5]"
      ],
      "metadata": {
        "id": "70tdULG72B1D"
      },
      "execution_count": null,
      "outputs": []
    },
    {
      "cell_type": "markdown",
      "source": [
        "Lấy ra danh sách 25 sản phẩm bán chạy nhất"
      ],
      "metadata": {
        "id": "TsItujxT2HTi"
      }
    },
    {
      "cell_type": "code",
      "source": [
        "train_sales_most_sold_25['state'] = train_sales_most_sold_25['id'].str.split(\"_\", expand=True)[3]\n",
        "train_sales_most_sold_25.groupby(['state'])['total_sales'].sum().sort_values(ascending=False)"
      ],
      "metadata": {
        "id": "fU3PJQ9n2NJC"
      },
      "execution_count": null,
      "outputs": []
    },
    {
      "cell_type": "markdown",
      "source": [
        "Top 25 doanh số, TX có nhiều mặt hàng hơn so với CA hoặc WI"
      ],
      "metadata": {
        "id": "xPXVB-XW2uq3"
      }
    },
    {
      "cell_type": "code",
      "source": [
        "train_sales_cal_df = train_sales_df.set_index('id')[d_cols].T.merge(calendar_df.set_index('d')['date'], \n",
        "                                                                    left_index=True, right_index=True,\n",
        "                                                                    validate=\"1:1\").set_index('date')"
      ],
      "metadata": {
        "id": "YX4JF7kQ3Bib"
      },
      "execution_count": null,
      "outputs": []
    },
    {
      "cell_type": "code",
      "source": [
        "time_and_rolling_plot(train_sales_cal_df[['FOODS_3_586_WI_3_validation']], \"Product_id_FOODS_3_586_WI_3_validation\")\n",
        "time_and_rolling_plot(train_sales_cal_df[['FOODS_3_090_CA_1_validation']], \"Product_id_FOODS_3_090_CA_1_validation\")\n",
        "time_and_rolling_plot(train_sales_cal_df[['FOODS_3_586_CA_3_validation']], \"Product_id_FOODS_3_586_CA_3_validation\")\n",
        "time_and_rolling_plot(train_sales_cal_df[['FOODS_3_090_TX_2_validation']], \"Product_id_FOODS_3_090_TX_2_validation\")\n",
        "time_and_rolling_plot(train_sales_cal_df[['FOODS_3_120_CA_3_validation']], \"Product_id_FOODS_3_120_CA_3_validation\")\n",
        "time_and_rolling_plot(train_sales_cal_df[['FOODS_3_252_TX_3_validation']], \"Product_id_FOODS_3_252_TX_3_validation\")"
      ],
      "metadata": {
        "id": "NKj5tuHm3EXK"
      },
      "execution_count": null,
      "outputs": []
    },
    {
      "cell_type": "markdown",
      "source": [
        "## Phân phối tổng doanh số trên mỗi loại"
      ],
      "metadata": {
        "id": "fZIuDNRq4Hyr"
      }
    },
    {
      "cell_type": "code",
      "source": [
        "train_sales_cal_df = train_sales_df.groupby(['cat_id'])[d_cols].sum().\\\n",
        "                                                T.merge(calendar_df.set_index('d')['date'], \n",
        "                                                                    left_index=True, right_index=True,\n",
        "                                                                    validate=\"1:1\").set_index('date')"
      ],
      "metadata": {
        "id": "Zxn1RMK24P-k"
      },
      "execution_count": null,
      "outputs": []
    },
    {
      "cell_type": "code",
      "source": [
        "train_sales_cal_df.head(2)"
      ],
      "metadata": {
        "id": "nrACM0RZ4Xbb"
      },
      "execution_count": null,
      "outputs": []
    },
    {
      "cell_type": "code",
      "source": [
        "def plotly_time_plot_markers(df, text, samples_onwards=1000):\n",
        "\n",
        "    '''\n",
        "    plots time_series plotly scatter plot of the format specified in df \n",
        "    \n",
        "    inputs: df(dataframe), text(title text ), samples_onwards (time_series_sample and the end)\n",
        "    returns : plotly time series scatter plot\n",
        "    \n",
        "    '''\n",
        "    fig = go.Figure()\n",
        "    for c in df.columns[:4]:\n",
        "        fig.add_traces(go.Scatter(x=train_sales_cal_df[samples_onwards:].index, \n",
        "                              y=train_sales_cal_df[samples_onwards:][c],\n",
        "                              mode='markers',\n",
        "                              name = c))\n",
        "\n",
        "    fig.update_layout( title = 'Sales per Day by ' + str(text), template = 'plotly_white',\n",
        "        width=750, height=550,\n",
        "        xaxis_tickformatstops = [\n",
        "            dict(dtickrange=[\"M1\", \"M12\"], value=\"%b '%y\"),\n",
        "        ]\n",
        "    )\n",
        "    \n",
        "    fig.update_layout(\n",
        "    xaxis=dict(\n",
        "    rangeselector=dict( buttons=list([ dict(count=1, label=\"1m\", step=\"month\", stepmode=\"backward\"),\n",
        "    dict(count=6,label=\"6m\", step=\"month\", stepmode=\"backward\"),\n",
        "    dict(count=1, label=\"YTD\", step=\"year\", stepmode=\"todate\"),\n",
        "    dict(count=1, label=\"1y\", step=\"year\", stepmode=\"backward\"),\n",
        "    dict(step=\"all\") ])  ),\n",
        "        rangeslider=dict(\n",
        "            visible=True\n",
        "        ),\n",
        "        type=\"date\" ) )\n",
        "\n",
        "    fig.update_xaxes(rangeslider_visible=True)    \n",
        "    fig.show()    \n",
        "\n",
        "plotly_time_plot_markers(train_sales_cal_df, 'Category')  \n"
      ],
      "metadata": {
        "id": "qXaFENPv4efr"
      },
      "execution_count": null,
      "outputs": []
    },
    {
      "cell_type": "markdown",
      "source": [
        "Dự vào biểu đồ cho thấy:\n",
        "* có sự gia tăng về doanh số bán hàng theo thời gian.\n",
        "* các sản phẩm về thức ăn hoặc gia dụng tăng nhanh hơn so với mặt hàng giải trí.\n"
      ],
      "metadata": {
        "id": "DcJb57TJ4v9f"
      }
    },
    {
      "cell_type": "markdown",
      "source": [
        "##**Phân phối tổng doanh số bán ra trên mỗi bang**"
      ],
      "metadata": {
        "id": "GNgcmnUC51EB"
      }
    },
    {
      "cell_type": "code",
      "source": [
        "train_sales_cal_df = train_sales_df.groupby(['state_id'])[d_cols].sum().T.merge(calendar_df.set_index('d')['date'], \n",
        "                                                                    left_index=True, right_index=True,\n",
        "                                                                    validate=\"1:1\").set_index('date')"
      ],
      "metadata": {
        "id": "Ws1SdGuk5-gA"
      },
      "execution_count": null,
      "outputs": []
    },
    {
      "cell_type": "code",
      "source": [
        "train_sales_cal_df"
      ],
      "metadata": {
        "id": "9o09mCNo6DhP"
      },
      "execution_count": null,
      "outputs": []
    },
    {
      "cell_type": "markdown",
      "source": [],
      "metadata": {
        "id": "AqTOA8jJ_356"
      }
    },
    {
      "cell_type": "code",
      "source": [
        "from plotly.subplots import make_subplots\n",
        "\n",
        "def plotly_time_plot_rolling(df, text, start_col=0, end_col=3, rolling_days=30):\n",
        "\n",
        "    '''\n",
        "    time series rolling plots of the categories specified in df\n",
        "    inputs: df (dataframe with ts as index, and columns as categories), text (title of the plot)\n",
        "            rolling_days (number of rolling days)\n",
        "    \n",
        "    returns: plotly time series plot of sales along the categories specified as columns in df\n",
        "    '''\n",
        "    fig = go.Figure()\n",
        "    for c in df.columns[start_col:end_col]:\n",
        "        fig.add_traces(go.Scatter(x=df.rolling(rolling_days).mean().index, \n",
        "                              y=df.rolling(rolling_days).mean()[c],\n",
        "                              mode='lines+markers',\n",
        "                              name = c))\n",
        "\n",
        "    fig.update_layout( title = 'Sales per Day by ' + str(text), template = 'plotly_white',\n",
        "        width=750, height=550,\n",
        "        xaxis_tickformatstops = [\n",
        "            dict(dtickrange=[\"M1\", \"M12\"], value=\"%b '%y\"),\n",
        "        ]\n",
        "    )\n",
        "    \n",
        "    fig.update_layout(\n",
        "    xaxis=dict(\n",
        "    rangeselector=dict( buttons=list([ dict(count=1, label=\"1m\", step=\"month\", stepmode=\"backward\"),\n",
        "    dict(count=6,label=\"6m\", step=\"month\", stepmode=\"backward\"),\n",
        "    dict(count=1, label=\"YTD\", step=\"year\", stepmode=\"todate\"),\n",
        "    dict(count=1, label=\"1y\", step=\"year\", stepmode=\"backward\"),\n",
        "    dict(step=\"all\") ])  ),\n",
        "        rangeslider=dict(\n",
        "            visible=True\n",
        "        ),\n",
        "        type=\"date\" ) )\n",
        "\n",
        "    fig.update_xaxes(rangeslider_visible=True)    \n",
        "    fig.show()   \n",
        "\n",
        "plotly_time_plot_rolling(train_sales_cal_df, 'State')"
      ],
      "metadata": {
        "id": "KEkqGoQS6IeI"
      },
      "execution_count": null,
      "outputs": []
    },
    {
      "cell_type": "markdown",
      "source": [
        "Doanh số bán hàng có tăng trê cả ba bang CA, TX, WI. Nhưng có thêm một số điểm:\n",
        "* Tổng doanh số của các mặt hàng trên tất cả các bang đều tăng.\n",
        "* Doanh số của bang WI cắt TX vào 14 tháng 10 và 15 tháng 9 cho thấy có sự tăng trưởng bán hàng theo mùa. \n"
      ],
      "metadata": {
        "id": "1Xy_sBQW6T6U"
      }
    },
    {
      "cell_type": "code",
      "source": [
        "train_sales_cal_df = train_sales_df.groupby(['state_id', 'cat_id'])[d_cols].sum().T\\\n",
        "              .join(pd.concat([calendar_df.set_index('d')['date']], axis=1, keys=['dates']))\n",
        "train_sales_cal_df.head(2)"
      ],
      "metadata": {
        "id": "jiIvAaC46-Us"
      },
      "execution_count": null,
      "outputs": []
    },
    {
      "cell_type": "code",
      "source": [
        "select_cols_ca = [c for c in train_sales_cal_df.columns if 'CA' in c]\n",
        "select_cols_tx = [c for c in train_sales_cal_df.columns if 'TX' in c]\n",
        "select_cols_wi = [c for c in train_sales_cal_df.columns if 'WI' in c]\n",
        "#train_sales_df['total_sales_all_days'] = train_sales_df[d_cols].sum(axis = 1)\n",
        "#train_sales_cal_df = \n",
        "df_CA = train_sales_cal_df.set_index('dates')[select_cols_ca]\n",
        "df_TX = train_sales_cal_df.set_index('dates')[select_cols_tx]\n",
        "df_WI = train_sales_cal_df.set_index('dates')[select_cols_wi]"
      ],
      "metadata": {
        "id": "zPFidgd17Fyk"
      },
      "execution_count": null,
      "outputs": []
    },
    {
      "cell_type": "code",
      "source": [
        "time_and_rolling_plot(df_CA, 'CA(California) FOODS, HOBBIES and HOUSEHOLD', height=2.7)\n",
        "time_and_rolling_plot(df_TX, 'TX(Texas) FOODS, HOBBIES and HOUSEHOLD', height=2.7)\n",
        "time_and_rolling_plot(df_WI, 'WI(Wisconsin) FOODS, HOBBIES and HOUSEHOLD', height=2.7)\n",
        "#time_and_rolling_plot(df_CA.iloc[:,1].reset_index(), \"CA HOBBIES\")\n",
        "#time_and_rolling_plot(df_CA.iloc[:,2].reset_index(), \"CA State\")\n"
      ],
      "metadata": {
        "id": "5Z0CMPZF7MgM"
      },
      "execution_count": null,
      "outputs": []
    },
    {
      "cell_type": "markdown",
      "source": [
        "Dựa vào các biểu đồ trên một vài xu hướngliên quan đến việc phân phối doanh số theo doanh mục theo bang đã trở nên rỏ ràng:\n",
        "* Danh mục thức ăn, cả CA và TX để có doanh số lớn từ 12 tháng 6 đến tháng 12 tháng 9, 12 tháng 10. và có xu hướng lặp lại trong các năm 2014, 2015\n",
        "* Tuy nhiên tại WI biểu đồ hơi khác, mức cao nhất diễn ra vào 12 tháng 7  và lớn nhất tiếp theo quan sát được là vào tháng 2, tháng 3. Tương tự doanh số bán hàng tăng vào tháng 9 và 13 tháng 3.\n",
        "* Doanh mục gia dụng, doanh số bán hàng cao điểm trên tất cả các cửa hàng ở CA, TX và WI xảy ra vào khoảng tháng 7 và tháng 3. Trong khi doanh số bán hàng giảm tương đối nhiều xảy ra ở cả ba địa điểm vào khoảng tháng 1 đến tháng 2.\n",
        "* Doanh mục sở thích, doanh số trong các ngày thương tự ở tất cả các vị trí cửa hàng. Giảm nhẹ trong tháng 8, 9"
      ],
      "metadata": {
        "id": "n5V_O_dT7hUz"
      }
    },
    {
      "cell_type": "code",
      "source": [
        "train_sales_cal_df = train_sales_df.set_index('id')[d_cols].T.merge(calendar_df.set_index('d')['date'], \n",
        "                                                                    left_index=True, right_index=True,\n",
        "                                                                    validate=\"1:1\").set_index('date')\n",
        "train_sales_cal_df['total_sales'] = train_sales_cal_df.sum(axis=1)"
      ],
      "metadata": {
        "id": "oTp5nsnI-WuT"
      },
      "execution_count": null,
      "outputs": []
    },
    {
      "cell_type": "code",
      "source": [
        "item_ids = [c for c in train_sales_cal_df.columns if 'validation' in c]\n"
      ],
      "metadata": {
        "id": "bn8wXVBq-ZWg"
      },
      "execution_count": null,
      "outputs": []
    },
    {
      "cell_type": "code",
      "source": [
        "train_sales_cal_df = train_sales_cal_df.reset_index()\n",
        "train_sales_cal_df['date'] = pd.to_datetime(train_sales_cal_df['date'])\n",
        "train_sales_cal_df['month'] = train_sales_cal_df.date.dt.month\n",
        "train_sales_cal_df['year'] = train_sales_cal_df.date.dt.year\n"
      ],
      "metadata": {
        "id": "8n8VX6mX-a1K"
      },
      "execution_count": null,
      "outputs": []
    },
    {
      "cell_type": "code",
      "source": [
        "df = train_sales_cal_df.groupby(['year', 'month'])[item_ids].sum()\n",
        "df = df.reset_index()\n"
      ],
      "metadata": {
        "id": "onGYSVyC-cfF"
      },
      "execution_count": null,
      "outputs": []
    },
    {
      "cell_type": "code",
      "source": [
        "def find_items_per_specific_date(df, year, month, category, number):\n",
        "    \n",
        "    '''\n",
        "    finds the five most sold product_ids in user specified category, year and month\n",
        "    \n",
        "    inputs: df(item_ids along with year and month), year, month, category (household, \n",
        "    foods or hobbies), number (how many results to be displayed)\n",
        "    \n",
        "    returns : table of product ids with specfied number and date and number of sales made\n",
        "    '''\n",
        "    \n",
        "    df = df.loc[(df['year'] == year) & (df['month'] == month)][item_ids].T.reset_index()\n",
        "    df.columns = ['item_id', 'sales_count']\n",
        "    df = df.set_index('item_id')\n",
        "    item_type = [c for c in df.index if category in c]\n",
        "    df = df[df.index.isin(item_type)]\n",
        "    df = df.sort_values(by = ['sales_count'], ascending=False)[:number]\n",
        "    \n",
        "    return df\n",
        "\n",
        "print(\"Most sold Foods during requested date\\n\"\n",
        "      ,find_items_per_specific_date(df, 2012, 7, 'FOODS', 5) )\n",
        "print(\"Most sold Household items during requested date\\n\" \n",
        "      ,find_items_per_specific_date(df, 2013, 3, 'HOUSEHOLD', 5) )"
      ],
      "metadata": {
        "id": "ZU79K2Ho-e2S"
      },
      "execution_count": null,
      "outputs": []
    },
    {
      "cell_type": "markdown",
      "source": [
        "Danh sách năm mặt hàng bán được nhiều nhất ở CA và TX.\n",
        "* mặt hàng bán nhiều nhất\"FOODS_3_090_CA_3_validation\" giống phân tích trước đó.FOODS_3_281_CA_3_validation là mặt hàng bán nhiều thứ 2 hoàn toàn khác với phân tích trước đó.\n",
        "\n",
        "* HOUSEHOLD_1_334_CA_3_validation: Mặt hàng gia dụng bán được nhiều nhất."
      ],
      "metadata": {
        "id": "iPgoh9Q6-t8r"
      }
    },
    {
      "cell_type": "markdown",
      "source": [
        "\n",
        "Phân phối tổng doanh số theo Store_ID"
      ],
      "metadata": {
        "id": "pjOs2Io0_VXr"
      }
    },
    {
      "cell_type": "code",
      "source": [
        "train_sales_cal_df = train_sales_df.groupby(['store_id'])[d_cols].sum()\\\n",
        "                                                .T.merge(calendar_df.set_index('d')['date'], \n",
        "                                                        left_index=True, right_index=True,\n",
        "                                                        validate=\"1:1\").set_index('date')"
      ],
      "metadata": {
        "id": "FvE1FNBe_dKA"
      },
      "execution_count": null,
      "outputs": []
    },
    {
      "cell_type": "code",
      "source": [
        "train_sales_cal_df.head(2)"
      ],
      "metadata": {
        "id": "pC_XFOUm_jeR"
      },
      "execution_count": null,
      "outputs": []
    },
    {
      "cell_type": "code",
      "source": [
        "plotly_time_plot_rolling(train_sales_cal_df, 'Store', start_col=4, end_col=7)"
      ],
      "metadata": {
        "id": "i5JhYHbP_m55"
      },
      "execution_count": null,
      "outputs": []
    },
    {
      "cell_type": "markdown",
      "source": [
        "Biểu đồ giúp cung cấp các thông tin:\n",
        "* CA_3 là cửa hàng có doanh số cao nhất\n",
        "* CA_4 là cửa hàng có nhiều item bán ra củ nhất theo thời gian.\n",
        "* TX_2 có nhiều mặt hàng được bán nhất trên dòng thời gian với hầu hết các mặt hàng đều đạt đỉnh vào khoảng ngày 13 tháng 9\n",
        "* Các vị trí cửa hàng ở Texas (TX_1, TX_2, TX_3) đều có doanh số tăng vào khoảng 15 tháng 2 năm 2015, với mức cao nhất vào khoảng 15 tháng 8 và sau đó thấp nhất vào khoảng 15 tháng 12\n",
        "* Các cửa hàng Wisconsin trải qua một mô hình khá khó đoán\n",
        "* Cửa hàng WI_2 tăng tốc doanh số  vượt qua WI_3 và 12 tháng 12 và sau đó tiếp tục dẫn đầu.\n",
        "* Cửa hàng WI_2, WI_1 hoạt động kém trong thời gian đầu nhưng đã có sự gia tăng về doanh số bán hàng lần lượt vào 12 tháng 7 và 12 tháng 11.\n"
      ],
      "metadata": {
        "id": "jDoesI5K_755"
      }
    },
    {
      "cell_type": "markdown",
      "source": [
        "## **Phân phối doanh số bán hàng theo ngày cụ thể hoặc cuối tuần**"
      ],
      "metadata": {
        "id": "uW7NNBVVBdcR"
      }
    },
    {
      "cell_type": "code",
      "source": [
        "train_sales_cal_df = train_sales_df.groupby(['cat_id'])[d_cols].sum().\\\n",
        "                                                T.merge(calendar_df.set_index('d')['date'], \n",
        "                                                                    left_index=True, right_index=True,\n",
        "                                                                    validate=\"1:1\").set_index('date')"
      ],
      "metadata": {
        "id": "hz3-tiwmBkYK"
      },
      "execution_count": null,
      "outputs": []
    },
    {
      "cell_type": "code",
      "source": [
        "train_sales_cal_df = train_sales_cal_df.reset_index()\n",
        "train_sales_cal_df['date'] = pd.to_datetime(train_sales_cal_df['date'])\n",
        "train_sales_cal_df['month'] = train_sales_cal_df.date.dt.month\n",
        "train_sales_cal_df['day'] = train_sales_cal_df.date.dt.day\n",
        "train_sales_cal_df['year'] = train_sales_cal_df.date.dt.year\n",
        "train_sales_cal_df['weekday'] = train_sales_cal_df.date.dt.weekday\n",
        "train_sales_cal_df['weekday'] = train_sales_cal_df.date.dt.day_name()\n",
        "train_sales_cal_df.head(2)\n"
      ],
      "metadata": {
        "id": "WzWTLfYdBqgd"
      },
      "execution_count": null,
      "outputs": []
    },
    {
      "cell_type": "code",
      "source": [
        "df_food = train_sales_cal_df.groupby(['weekday', 'day'])['FOODS'].sum().reset_index(name='sales')\n",
        "df_house = train_sales_cal_df.groupby(['weekday', 'day'])['HOUSEHOLD'].sum().reset_index(name='sales')\n",
        "df_hob = train_sales_cal_df.groupby(['weekday', 'day'])['HOBBIES'].sum().reset_index(name='sales')"
      ],
      "metadata": {
        "id": "4CKrOflWBsVG"
      },
      "execution_count": null,
      "outputs": []
    },
    {
      "cell_type": "code",
      "source": [
        "def heatmap_plot_dates(df, title_text):\n",
        "\n",
        "    '''\n",
        "    returns the heatmap based plot for the df with time_series data in it\n",
        "    \n",
        "    inputs : df (dataframe with time based elements, such as weekdays, months etc.)\n",
        "             title_text (text of the plot to be shown)\n",
        "    returns : Heatmaps of Weekdays along number of days of a months\n",
        "    '''\n",
        "    fig = make_subplots(rows=1, cols=1, vertical_spacing = 0.15, \n",
        "                    subplot_titles=title_text,\n",
        "                    shared_yaxes = True\n",
        "                   )\n",
        "    fig.add_trace( go.Heatmap(\n",
        "                   z=[[df.loc[(df['day'] == day) & (df['weekday'] == weekday)]['sales'].sum()\n",
        "                     for day in range(1, 31+1)] for weekday in df.weekday.unique()],\n",
        "                   x=list(df.day.unique()),\n",
        "                   y=list(df.weekday.unique()),\n",
        "                   hoverongaps = False, \n",
        "                   colorbar = dict(title= title_text + '_Sales', \n",
        "                                   thickness=15)), row=1, col=1)\n",
        "    fig.update_layout(title = title_text + '_Sale Distribution', height=2 * 20 + 300, width=1 * 700, showlegend=False)\n",
        "    fig.show()"
      ],
      "metadata": {
        "id": "bCJzqhcfBuXY"
      },
      "execution_count": null,
      "outputs": []
    },
    {
      "cell_type": "code",
      "source": [
        "heatmap_plot_dates(df_food, 'FOODS')\n",
        "heatmap_plot_dates(df_hob, 'HOBBIES')\n",
        "heatmap_plot_dates(df_house, 'HOUSEHOLD')"
      ],
      "metadata": {
        "id": "8RF3eap5BwOj"
      },
      "execution_count": null,
      "outputs": []
    }
  ]
}